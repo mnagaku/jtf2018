{
 "cells": [
  {
   "cell_type": "markdown",
   "metadata": {
    "lc_cell_meme": {
     "current": "68b09bac-64b4-11e8-8364-0242ac110002",
     "history": [
      {
       "current": "68b09bac-64b4-11e8-8364-0242ac110002",
       "next": "68b09c4c-64b4-11e8-8364-0242ac110002",
       "previous": null
      },
      {
       "current": "68b09bac-64b4-11e8-8364-0242ac110002",
       "next": "f7be3304-64b4-11e8-8364-0242ac110002",
       "previous": null
      },
      {
       "current": "68b09bac-64b4-11e8-8364-0242ac110002",
       "next": "5f70f388-9093-11e8-8886-0242ac110004",
       "previous": null
      }
     ],
     "next": "17ad4e62-90a6-11e8-8886-0242ac110004",
     "previous": null
    }
   },
   "source": [
    "# サーバの状態の調査\n",
    "\n",
    "M先輩から「3dwebmapのサーバ、中で何動いてるかレポート作って」と指示があった"
   ]
  },
  {
   "cell_type": "markdown",
   "metadata": {
    "lc_cell_meme": {
     "current": "17ad4e62-90a6-11e8-8886-0242ac110004",
     "next": "17ad525e-90a6-11e8-8886-0242ac110004",
     "previous": "68b09bac-64b4-11e8-8364-0242ac110002"
    }
   },
   "source": [
    "Jupyter-LC_wrapper有効化"
   ]
  },
  {
   "cell_type": "code",
   "execution_count": 1,
   "metadata": {
    "deletable": false,
    "editable": false,
    "lc_cell_meme": {
     "current": "17ad525e-90a6-11e8-8886-0242ac110004",
     "history": [
      {
       "current": "17ad525e-90a6-11e8-8886-0242ac110004",
       "next": "5f70f388-9093-11e8-8886-0242ac110004",
       "previous": "17ad4e62-90a6-11e8-8886-0242ac110004"
      },
      {
       "current": "17ad525e-90a6-11e8-8886-0242ac110004",
       "next": "dd501b08-916a-11e8-9bb4-0242ac110004",
       "previous": "17ad4e62-90a6-11e8-8886-0242ac110004"
      }
     ],
     "next": "5f70f388-9093-11e8-8886-0242ac110004",
     "previous": "17ad4e62-90a6-11e8-8886-0242ac110004"
    },
    "run_through_control": {
     "frozen": true
    }
   },
   "outputs": [
    {
     "name": "stdout",
     "output_type": "stream",
     "text": [
      "env: lc_wrapper_force=on\n"
     ]
    }
   ],
   "source": [
    "%env lc_wrapper_force=on"
   ]
  },
  {
   "cell_type": "markdown",
   "metadata": {
    "lc_cell_meme": {
     "current": "5f70f388-9093-11e8-8886-0242ac110004",
     "history": [
      {
       "current": "5f70f388-9093-11e8-8886-0242ac110004",
       "next": "5f70f5d6-9093-11e8-8886-0242ac110004",
       "previous": "68b09bac-64b4-11e8-8364-0242ac110002"
      },
      {
       "current": "5f70f388-9093-11e8-8886-0242ac110004",
       "next": "5f70f5d6-9093-11e8-8886-0242ac110004",
       "previous": "17ad525e-90a6-11e8-8886-0242ac110004"
      },
      {
       "current": "5f70f388-9093-11e8-8886-0242ac110004",
       "next": "5f70f5d6-9093-11e8-8886-0242ac110004",
       "previous": "dd501b08-916a-11e8-9bb4-0242ac110004"
      },
      {
       "current": "5f70f388-9093-11e8-8886-0242ac110004",
       "next": "5f70f5d6-9093-11e8-8886-0242ac110004",
       "previous": "0e0b0d2a-9170-11e8-9bb4-0242ac110004"
      }
     ],
     "next": "5f70f5d6-9093-11e8-8886-0242ac110004",
     "previous": "17ad525e-90a6-11e8-8886-0242ac110004"
    }
   },
   "source": [
    "# 対象の確認"
   ]
  },
  {
   "cell_type": "markdown",
   "metadata": {
    "lc_cell_meme": {
     "current": "5f70f5d6-9093-11e8-8886-0242ac110004",
     "history": [
      {
       "current": "5f70f5d6-9093-11e8-8886-0242ac110004",
       "next": "5f70f694-9093-11e8-8886-0242ac110004",
       "previous": "5f70f388-9093-11e8-8886-0242ac110004"
      }
     ],
     "next": "ee82904a-9093-11e8-8886-0242ac110004",
     "previous": "5f70f388-9093-11e8-8886-0242ac110004"
    }
   },
   "source": [
    "ansibleのインベントリファイルで対象サーバを確認し、簡単なコマンドが通ることを確認しておく"
   ]
  },
  {
   "cell_type": "code",
   "execution_count": 3,
   "metadata": {
    "deletable": false,
    "editable": false,
    "lc_cell_meme": {
     "current": "ee82904a-9093-11e8-8886-0242ac110004",
     "next": "ee829202-9093-11e8-8886-0242ac110004",
     "previous": "5f70f5d6-9093-11e8-8886-0242ac110004"
    },
    "run_through_control": {
     "frozen": true
    }
   },
   "outputs": [
    {
     "name": "stdout",
     "output_type": "stream",
     "text": [
      "path: /home/jovyan/jtf2018/.log/20180727/20180727-073853-0318.log (1 logs recorded)\n",
      "start time: 2018-07-27 07:38:53(UTC)\n",
      "end time: 2018-07-27 07:38:53(UTC)\n",
      "output size: 569 bytes\n",
      "0 chunks with matched keywords or errors\n",
      "----\n"
     ]
    },
    {
     "data": {
      "text/plain": [
       "['jtf2018_3dwebmap_1', 'jtf2018_wiki_1', 'jtf2018_boinc_1']"
      ]
     },
     "execution_count": 3,
     "metadata": {},
     "output_type": "execute_result"
    }
   ],
   "source": [
    "hosts = !cat ./hosts\n",
    "hosts"
   ]
  },
  {
   "cell_type": "code",
   "execution_count": 4,
   "metadata": {
    "deletable": false,
    "editable": false,
    "lc_cell_meme": {
     "current": "ee829202-9093-11e8-8886-0242ac110004",
     "next": "a6f827bc-9093-11e8-8886-0242ac110004",
     "previous": "ee82904a-9093-11e8-8886-0242ac110004"
    },
    "run_through_control": {
     "frozen": true
    }
   },
   "outputs": [
    {
     "name": "stdout",
     "output_type": "stream",
     "text": [
      "path: /home/jovyan/jtf2018/.log/20180727/20180727-073853-0610.log (1 logs recorded)\n",
      "start time: 2018-07-27 07:38:53(UTC)\n",
      "end time: 2018-07-27 07:38:53(UTC)\n",
      "output size: 659 bytes\n",
      "0 chunks with matched keywords or errors\n",
      "----\n"
     ]
    },
    {
     "data": {
      "text/plain": [
       "' -i ./hosts jtf2018_3dwebmap_1 -c docker'"
      ]
     },
     "execution_count": 4,
     "metadata": {},
     "output_type": "execute_result"
    }
   ],
   "source": [
    "for h in hosts:\n",
    "        if h.find('3dwebmap') > -1:\n",
    "            target = ' -i ./hosts {} -c docker'.format(h)\n",
    "target"
   ]
  },
  {
   "cell_type": "code",
   "execution_count": 5,
   "metadata": {
    "deletable": false,
    "editable": false,
    "lc_cell_meme": {
     "current": "a6f827bc-9093-11e8-8886-0242ac110004",
     "history": [
      {
       "current": "a6f827bc-9093-11e8-8886-0242ac110004",
       "next": "f7be3304-64b4-11e8-8364-0242ac110002",
       "previous": "5f70f694-9093-11e8-8886-0242ac110004"
      }
     ],
     "next": "f7be3304-64b4-11e8-8364-0242ac110002",
     "previous": "ee829202-9093-11e8-8886-0242ac110004"
    },
    "pinned_outputs": [],
    "run_through_control": {
     "frozen": true
    }
   },
   "outputs": [
    {
     "name": "stdout",
     "output_type": "stream",
     "text": [
      "path: /home/jovyan/jtf2018/.log/20180727/20180727-073853-0773.log (1 logs recorded)\n",
      "start time: 2018-07-27 07:38:53(UTC)\n",
      "end time: 2018-07-27 07:38:59(UTC)\n",
      "output size: 1663 bytes\n",
      "0 chunks with matched keywords or errors\n",
      "----\n",
      " [WARNING] Ansible is in a world writable directory (/home/jovyan/jtf2018), ignoring it as an ansible.cfg source.\n",
      "\u001b[0;32mjtf2018_3dwebmap_1 | SUCCESS | rc=0 >>\u001b[0m\n",
      "\u001b[0;32mtotal 236\u001b[0m\n",
      "\u001b[0;32mdrwxr-xr-x   8 node node   4096 Jul 27 06:56 .\u001b[0m\n",
      "\u001b[0;32mdrwxr-xr-x   1 root root   4096 Mar 15 18:52 ..\u001b[0m\n",
      "\u001b[0;32mdrwxr-xr-x   4 node node   4096 Jul 27 06:56 3dwebclient\u001b[0m\n",
      "\u001b[0;32m-rw-r--r--   1 node node 135373 Mar 15 18:50 CityDBonDocker-big.png\u001b[0m\n",
      "\u001b[0;32m-rw-r--r--   1 node node   1037 Mar 15 18:50 TUM_Logo_blau_rgb_s.svg\u001b[0m\n",
      "\u001b[0;32mdrwxr-xr-x   7 node node   4096 Jul 27 06:56 ThirdParty\u001b[0m\n",
      "\u001b[0;32mdrwxr-xr-x   2 node node   4096 Mar 15 18:51 data\u001b[0m\n",
      "\u001b[0;32mdrwxr-xr-x   5 node node   4096 Jul 27 06:56 examples\u001b[0m\n",
      "\u001b[0;32m-rw-r--r--   1 node node   3400 Mar 15 18:50 index.html\u001b[0m\n",
      "\u001b[0;32mdrwxr-xr-x   3 node node   4096 Jul 27 06:56 js\u001b[0m\n",
      "\u001b[0;32mdrwxr-xr-x 147 node node   4096 Jul 27 06:56 node_modules\u001b[0m\n",
      "\u001b[0;32m-rw-r--r--   1 node node  45449 Mar 15 18:52 package-lock.json\u001b[0m\n",
      "\u001b[0;32m-rw-r--r--   1 node node    591 Mar 15 18:52 package.json\u001b[0m\n",
      "\u001b[0;32m-rw-r--r--   1 node node   6945 Mar 15 18:50 server.js\u001b[0m\n",
      "\u001b[0;32m\u001b[0m"
     ]
    }
   ],
   "source": [
    "!sudo ansible -a \"ls -la\" {target}"
   ]
  },
  {
   "cell_type": "markdown",
   "metadata": {
    "lc_cell_meme": {
     "current": "f7be3304-64b4-11e8-8364-0242ac110002",
     "history": [
      {
       "current": "f7be3304-64b4-11e8-8364-0242ac110002",
       "next": "68b09c4c-64b4-11e8-8364-0242ac110002",
       "previous": "68b09bac-64b4-11e8-8364-0242ac110002"
      },
      {
       "current": "f7be3304-64b4-11e8-8364-0242ac110002",
       "next": "6c4c05ce-64c0-11e8-8364-0242ac110002",
       "previous": "68b09bac-64b4-11e8-8364-0242ac110002"
      },
      {
       "current": "f7be3304-64b4-11e8-8364-0242ac110002",
       "next": "6c4c05ce-64c0-11e8-8364-0242ac110002",
       "previous": "5f70f694-9093-11e8-8886-0242ac110004"
      },
      {
       "current": "f7be3304-64b4-11e8-8364-0242ac110002",
       "next": "6c4c05ce-64c0-11e8-8364-0242ac110002",
       "previous": "a6f827bc-9093-11e8-8886-0242ac110004"
      },
      {
       "current": "f7be3304-64b4-11e8-8364-0242ac110002",
       "next": "ce539a58-64b5-11e8-8364-0242ac110002",
       "previous": "a6f827bc-9093-11e8-8886-0242ac110004"
      },
      {
       "current": "f7be3304-64b4-11e8-8364-0242ac110002",
       "next": "5d606370-64b6-11e8-8364-0242ac110002",
       "previous": "a6f827bc-9093-11e8-8886-0242ac110004"
      }
     ],
     "next": "5d605ff6-64b6-11e8-8364-0242ac110002",
     "previous": "a6f827bc-9093-11e8-8886-0242ac110004"
    }
   },
   "source": [
    "# サーバの基本情報を収集"
   ]
  },
  {
   "cell_type": "markdown",
   "metadata": {
    "lc_cell_meme": {
     "current": "5d605ff6-64b6-11e8-8364-0242ac110002",
     "history": [
      {
       "current": "5d605ff6-64b6-11e8-8364-0242ac110002",
       "next": "5d6061a4-64b6-11e8-8364-0242ac110002",
       "previous": "5d605dee-64b6-11e8-8364-0242ac110002"
      },
      {
       "current": "5d605ff6-64b6-11e8-8364-0242ac110002",
       "next": "5d6061a4-64b6-11e8-8364-0242ac110002",
       "previous": "5d606514-64b6-11e8-8364-0242ac110002"
      }
     ],
     "next": "5d6061a4-64b6-11e8-8364-0242ac110002",
     "previous": "f7be3304-64b4-11e8-8364-0242ac110002"
    }
   },
   "source": [
    "## OSのバージョン"
   ]
  },
  {
   "cell_type": "code",
   "execution_count": 6,
   "metadata": {
    "deletable": false,
    "editable": false,
    "lc_cell_meme": {
     "current": "5d6061a4-64b6-11e8-8364-0242ac110002",
     "history": [
      {
       "current": "5d6061a4-64b6-11e8-8364-0242ac110002",
       "next": "5d606370-64b6-11e8-8364-0242ac110002",
       "previous": "5d605ff6-64b6-11e8-8364-0242ac110002"
      }
     ],
     "next": "a6b85ac0-90a6-11e8-8886-0242ac110004",
     "previous": "5d605ff6-64b6-11e8-8364-0242ac110002"
    },
    "run_through_control": {
     "frozen": true
    },
    "scrolled": true
   },
   "outputs": [
    {
     "name": "stdout",
     "output_type": "stream",
     "text": [
      "path: /home/jovyan/jtf2018/.log/20180727/20180727-074042-0567.log (1 logs recorded)\n",
      "start time: 2018-07-27 07:40:42(UTC)\n",
      "end time: 2018-07-27 07:40:50(UTC)\n",
      "output size: 753 bytes\n",
      "0 chunks with matched keywords or errors\n",
      "----\n",
      " [WARNING] Ansible is in a world writable directory (/home/jovyan/jtf2018), ignoring it as an ansible.cfg source.\n",
      "\u001b[0;32mjtf2018_3dwebmap_1 | SUCCESS | rc=0 >>\u001b[0m\n",
      "\u001b[0;32mDebian GNU/Linux 8 \\n \\l\u001b[0m\n",
      "\u001b[0;32m\u001b[0m"
     ]
    }
   ],
   "source": [
    "command = \"'cat /etc/issue'\"\n",
    "!sudo ansible -a {command} {target}"
   ]
  },
  {
   "cell_type": "markdown",
   "metadata": {
    "lc_cell_meme": {
     "current": "a6b85ac0-90a6-11e8-8886-0242ac110004",
     "history": [
      {
       "current": "a6b85ac0-90a6-11e8-8886-0242ac110004",
       "next": "ce539a58-64b5-11e8-8364-0242ac110002",
       "previous": "5d6061a4-64b6-11e8-8364-0242ac110002"
      }
     ],
     "next": "0a85b9b4-64b8-11e8-8364-0242ac110002",
     "previous": "5d6061a4-64b6-11e8-8364-0242ac110002"
    }
   },
   "source": [
    "https://wiki.debian.org/LTS\n",
    "\n",
    "Debian 8 “Jessie”"
   ]
  },
  {
   "cell_type": "markdown",
   "metadata": {
    "lc_cell_meme": {
     "current": "0a85b9b4-64b8-11e8-8364-0242ac110002",
     "history": [
      {
       "current": "0a85b9b4-64b8-11e8-8364-0242ac110002",
       "next": "0a85ba36-64b8-11e8-8364-0242ac110002",
       "previous": "0a85b914-64b8-11e8-8364-0242ac110002"
      },
      {
       "current": "0a85b9b4-64b8-11e8-8364-0242ac110002",
       "next": "0a85ba36-64b8-11e8-8364-0242ac110002",
       "previous": "7b7a2eee-64b7-11e8-8364-0242ac110002"
      },
      {
       "current": "0a85b9b4-64b8-11e8-8364-0242ac110002",
       "next": "0a85ba36-64b8-11e8-8364-0242ac110002",
       "previous": "ce539c9c-64b5-11e8-8364-0242ac110002"
      }
     ],
     "next": "0a85ba36-64b8-11e8-8364-0242ac110002",
     "previous": "a6b85ac0-90a6-11e8-8886-0242ac110004"
    }
   },
   "source": [
    "## サービス"
   ]
  },
  {
   "cell_type": "markdown",
   "metadata": {
    "lc_cell_meme": {
     "current": "0a85ba36-64b8-11e8-8364-0242ac110002",
     "history": [
      {
       "current": "0a85ba36-64b8-11e8-8364-0242ac110002",
       "next": null,
       "previous": "0a85b9b4-64b8-11e8-8364-0242ac110002"
      }
     ],
     "next": "9992cb10-64b8-11e8-8364-0242ac110002",
     "previous": "0a85b9b4-64b8-11e8-8364-0242ac110002"
    }
   },
   "source": [
    "https://qiita.com/pocket8137/items/9df9ef5ad93e7b220c42\n",
    "\n",
    "insserv -s でいけそう"
   ]
  },
  {
   "cell_type": "code",
   "execution_count": 7,
   "metadata": {
    "deletable": false,
    "editable": false,
    "lc_cell_meme": {
     "current": "9992cb10-64b8-11e8-8364-0242ac110002",
     "next": "9992cc96-64b8-11e8-8364-0242ac110002",
     "previous": "0a85ba36-64b8-11e8-8364-0242ac110002"
    },
    "run_through_control": {
     "frozen": true
    },
    "scrolled": true
   },
   "outputs": [
    {
     "name": "stdout",
     "output_type": "stream",
     "text": [
      "path: /home/jovyan/jtf2018/.log/20180727/20180727-074050-0714.log (1 logs recorded)\n",
      "start time: 2018-07-27 07:40:50(UTC)\n",
      "end time: 2018-07-27 07:40:55(UTC)\n",
      "output size: 1689 bytes\n",
      "3 chunks with matched keywords or errors\n",
      "----\n",
      " [WARNING] Ansible is in a world writable directory (/home/jovyan/jtf2018), ignoring it as an ansible.cfg source.\n",
      "\u001b[0;32mjtf2018_3dwebmap_1 | SUCCESS | rc=0 >>\u001b[0m\n",
      "\u001b[0;32mK:05:0:halt\u001b[0m\n",
      "\u001b[0;32mK:03:0 6:umountfs\u001b[0m\n",
      "\u001b[0;32mK:04:0 6:umountroot\u001b[0m\n",
      "\u001b[0;32mK:02:0 6:umountnfs.sh\u001b[0m\n",
      "\u001b[0;32mK:01:0 6:sendsigs\u001b[0m\n",
      "\u001b[0;32mK:01:0 6:hwclock.sh\u001b[0m\n",
      "\u001b[0;32mK:01:0 6:urandom\u001b[0m\n",
      "\u001b[0;32mK:05:6:reboot\u001b[0m\n",
      "\u001b[0;32mS:02:S:udev\u001b[0m\n",
      "\u001b[0;32mS:04:S:hwclock.sh\u001b[0m\n",
      "\u001b[0;32mS:03:S:mountdevsubfs.sh\u001b[0m\n",
      "\u001b[0;32mS:05:S:checkroot.sh\u001b[0m\n",
      "\u001b[0;32mS:10:S:urandom\u001b[0m\n",
      "\u001b[0;32mS:08:S:mountall.sh\u001b[0m\n",
      "\u001b[0;32mS:09:S:mountall-bootclean.sh\u001b[0m\n",
      "\u001b[0;32mS:01:1 2 3 4 5:motd\u001b[0m\n",
      "\u001b[0;32mS:01:S:hostname.sh\u001b[0m\n",
      "\u001b[0;32mS:02:1:single\u001b[0m\n",
      "\u001b[0;32mS:01:1:killprocs\u001b[0m\n",
      "\u001b[0;32mS:01:1 2 3 4 5:bootlogs\u001b[0m\n",
      "\u001b[0;32mS:02:2 3 4 5:rmnologin\u001b[0m\n",
      "\u001b[0;32mS:12:S:mountnfs.sh\u001b[0m\n",
      "\u001b[0;32mS:13:S:mountnfs-bootclean.sh\u001b[0m\n",
      "\u001b[0;32mS:02:2 3 4 5:rc.local\u001b[0m\n",
      "\u001b[0;32mS:01:S:mountkernfs.sh\u001b[0m\n",
      "\u001b[0;32mS:06:S:checkfs.sh\u001b[0m\n",
      "\u001b[0;32mS:07:S:checkroot-bootclean.sh\u001b[0m\n",
      "\u001b[0;32mS:14:S:bootmisc.sh\u001b[0m\n",
      "\u001b[0;32mS:10:S:udev-finish\u001b[0m\n",
      "\u001b[0;32mS:10:S:procps\u001b[0m\n",
      "\u001b[0;32mS:14:S:x11-common\u001b[0m\n",
      "\u001b[0;32m\u001b[0m"
     ]
    }
   ],
   "source": [
    "command = \"'insserv -s'\"\n",
    "!sudo ansible -a {command} {target}"
   ]
  },
  {
   "cell_type": "markdown",
   "metadata": {
    "lc_cell_meme": {
     "current": "9992cc96-64b8-11e8-8364-0242ac110002",
     "history": [
      {
       "current": "9992cc96-64b8-11e8-8364-0242ac110002",
       "next": "9992cd72-64b8-11e8-8364-0242ac110002",
       "previous": "9992cb10-64b8-11e8-8364-0242ac110002"
      },
      {
       "current": "9992cc96-64b8-11e8-8364-0242ac110002",
       "next": "28a15010-64b9-11e8-8364-0242ac110002",
       "previous": "9992cb10-64b8-11e8-8364-0242ac110002"
      },
      {
       "current": "9992cc96-64b8-11e8-8364-0242ac110002",
       "next": "b7ad3936-64b9-11e8-8364-0242ac110002",
       "previous": "9992cb10-64b8-11e8-8364-0242ac110002"
      }
     ],
     "next": "2a930262-90a9-11e8-8886-0242ac110004",
     "previous": "9992cb10-64b8-11e8-8364-0242ac110002"
    }
   },
   "source": [
    "それっぽいサービスはない感じ"
   ]
  },
  {
   "cell_type": "markdown",
   "metadata": {
    "lc_cell_meme": {
     "current": "2a930262-90a9-11e8-8886-0242ac110004",
     "next": "6c4c1604-64c0-11e8-8364-0242ac110002",
     "previous": "9992cc96-64b8-11e8-8364-0242ac110002"
    }
   },
   "source": [
    "## プロセス"
   ]
  },
  {
   "cell_type": "code",
   "execution_count": 8,
   "metadata": {
    "deletable": false,
    "editable": false,
    "lc_cell_meme": {
     "current": "6c4c1604-64c0-11e8-8364-0242ac110002",
     "history": [
      {
       "current": "6c4c1604-64c0-11e8-8364-0242ac110002",
       "next": "6c4c18a2-64c0-11e8-8364-0242ac110002",
       "previous": "6c4c1370-64c0-11e8-8364-0242ac110002"
      },
      {
       "current": "6c4c1604-64c0-11e8-8364-0242ac110002",
       "next": "19a1265e-64c2-11e8-8364-0242ac110002",
       "previous": "6c4c1370-64c0-11e8-8364-0242ac110002"
      },
      {
       "current": "6c4c1604-64c0-11e8-8364-0242ac110002",
       "next": "19a1265e-64c2-11e8-8364-0242ac110002",
       "previous": "2a930262-90a9-11e8-8886-0242ac110004"
      }
     ],
     "next": "f61bb960-90ae-11e8-8886-0242ac110004",
     "previous": "2a930262-90a9-11e8-8886-0242ac110004"
    },
    "run_through_control": {
     "frozen": true
    }
   },
   "outputs": [
    {
     "name": "stdout",
     "output_type": "stream",
     "text": [
      "path: /home/jovyan/jtf2018/.log/20180727/20180727-074056-0061.log (1 logs recorded)\n",
      "start time: 2018-07-27 07:40:56(UTC)\n",
      "end time: 2018-07-27 07:41:01(UTC)\n",
      "output size: 1696 bytes\n",
      "0 chunks with matched keywords or errors\n",
      "----\n",
      " [WARNING] Ansible is in a world writable directory (/home/jovyan/jtf2018), ignoring it as an ansible.cfg source.\n",
      "\u001b[0;32mjtf2018_3dwebmap_1 | SUCCESS | rc=0 >>\u001b[0m\n",
      "\u001b[0;32mUSER       PID %CPU %MEM    VSZ   RSS TTY      STAT START   TIME COMMAND\u001b[0m\n",
      "\u001b[0;32mnode         1  0.0  0.7 888784 16104 ?        Ssl  06:56   0:00 node server.js --public\u001b[0m\n",
      "\u001b[0;32mnode      1008  0.0  0.0   4336   764 ?        Ss   07:41   0:00 /bin/sh -c /bin/sh -c '/usr/bin/python /home/node/.ansible/tmp/ansible-tmp-1532677259.0384507-18808803258855/command.py && sleep 0'\u001b[0m\n",
      "\u001b[0;32mnode      1013  0.0  0.0   4336   704 ?        S    07:41   0:00 /bin/sh -c /usr/bin/python /home/node/.ansible/tmp/ansible-tmp-1532677259.0384507-18808803258855/command.py && sleep 0\u001b[0m\n",
      "\u001b[0;32mnode      1014  0.0  0.4  31592 10104 ?        S    07:41   0:00 /usr/bin/python /home/node/.ansible/tmp/ansible-tmp-1532677259.0384507-18808803258855/command.py\u001b[0m\n",
      "\u001b[0;32mnode      1015  0.0  0.6  36056 12544 ?        S    07:41   0:00 /usr/bin/python /tmp/ansible_5iLzfr/ansible_module_command.py\u001b[0m\n",
      "\u001b[0;32mnode      1016  0.0  0.1  17500  2040 ?        R    07:41   0:00 ps aux\u001b[0m\n",
      "\u001b[0;32m\u001b[0m"
     ]
    }
   ],
   "source": [
    "command = \"'ps aux'\"\n",
    "!sudo ansible -a {command} {target}"
   ]
  },
  {
   "cell_type": "markdown",
   "metadata": {
    "lc_cell_meme": {
     "current": "f61bb960-90ae-11e8-8886-0242ac110004",
     "next": "f61bbc9e-90ae-11e8-8886-0242ac110004",
     "previous": "6c4c1604-64c0-11e8-8364-0242ac110002"
    }
   },
   "source": [
    "node.js 動いてるっぽいな"
   ]
  },
  {
   "cell_type": "markdown",
   "metadata": {
    "lc_cell_meme": {
     "current": "f61bbc9e-90ae-11e8-8886-0242ac110004",
     "next": "f61bbe42-90ae-11e8-8886-0242ac110004",
     "previous": "f61bb960-90ae-11e8-8886-0242ac110004"
    }
   },
   "source": [
    "## LISTENポート"
   ]
  },
  {
   "cell_type": "code",
   "execution_count": 16,
   "metadata": {
    "deletable": false,
    "editable": false,
    "lc_cell_meme": {
     "current": "f61bbe42-90ae-11e8-8886-0242ac110004",
     "history": [
      {
       "current": "f61bbe42-90ae-11e8-8886-0242ac110004",
       "next": "19a1265e-64c2-11e8-8364-0242ac110002",
       "previous": "f61bbc9e-90ae-11e8-8886-0242ac110004"
      }
     ],
     "next": "84d75f2e-90af-11e8-8886-0242ac110004",
     "previous": "f61bbc9e-90ae-11e8-8886-0242ac110004"
    },
    "run_through_control": {
     "frozen": true
    }
   },
   "outputs": [
    {
     "name": "stdout",
     "output_type": "stream",
     "text": [
      "path: /home/jovyan/jtf2018/.log/20180727/20180727-081644-0510.log (7 logs recorded)\n",
      "start time: 2018-07-27 08:16:44(UTC)\n",
      "end time: 2018-07-27 08:16:49(UTC)\n",
      "output size: 893 bytes\n",
      "0 chunks with matched keywords or errors\n",
      "----\n",
      " [WARNING] Ansible is in a world writable directory (/home/jovyan/jtf2018), ignoring it as an ansible.cfg source.\n",
      "\u001b[0;32mjtf2018_3dwebmap_1 | SUCCESS | rc=0 >>\u001b[0m\n",
      "\u001b[0;32mState      Recv-Q Send-Q        Local Address:Port          Peer Address:Port \u001b[0m\n",
      "\u001b[0;32mLISTEN     0      128                      :::8000                    :::*     \u001b[0m\n",
      "\u001b[0;32m\u001b[0m"
     ]
    }
   ],
   "source": [
    "command = \"'ss -lnat'\"\n",
    "!sudo ansible -a {command} {target}"
   ]
  },
  {
   "cell_type": "code",
   "execution_count": 10,
   "metadata": {
    "lc_cell_meme": {
     "current": "84d75f2e-90af-11e8-8886-0242ac110004",
     "next": "84d7632a-90af-11e8-8886-0242ac110004",
     "previous": "f61bbe42-90ae-11e8-8886-0242ac110004"
    },
    "pinned_outputs": [],
    "scrolled": true
   },
   "outputs": [
    {
     "name": "stdout",
     "output_type": "stream",
     "text": [
      "path: /home/jovyan/jtf2018/.log/20180727/20180727-074107-0968.log (1 logs recorded)\n",
      "start time: 2018-07-27 07:41:07(UTC)\n",
      "end time: 2018-07-27 07:41:12(UTC)\n",
      "output size: 801 bytes\n",
      "0 chunks with matched keywords or errors\n",
      "----\n",
      " [WARNING] Ansible is in a world writable directory (/home/jovyan/jtf2018), ignoring it as an ansible.cfg source.\n",
      "\u001b[0;32mjtf2018_3dwebmap_1 | SUCCESS | rc=0 >>\u001b[0m\n",
      "\u001b[0;32mState      Recv-Q Send-Q        Local Address:Port          Peer Address:Port \u001b[0m\n",
      "\u001b[0;32m\u001b[0m"
     ]
    }
   ],
   "source": [
    "command = \"'ss -lnau'\"\n",
    "!sudo ansible -a {command} {target}"
   ]
  },
  {
   "cell_type": "markdown",
   "metadata": {
    "lc_cell_meme": {
     "current": "84d7632a-90af-11e8-8886-0242ac110004",
     "next": "19a1265e-64c2-11e8-8364-0242ac110002",
     "previous": "84d75f2e-90af-11e8-8886-0242ac110004"
    }
   },
   "source": [
    "8000番ポートがLISTENしてる"
   ]
  },
  {
   "cell_type": "markdown",
   "metadata": {
    "heading_collapsed": true,
    "lc_cell_meme": {
     "current": "19a1265e-64c2-11e8-8364-0242ac110002",
     "history": [
      {
       "current": "19a1265e-64c2-11e8-8364-0242ac110002",
       "next": "6c4c18a2-64c0-11e8-8364-0242ac110002",
       "previous": "6c4c1604-64c0-11e8-8364-0242ac110002"
      },
      {
       "current": "19a1265e-64c2-11e8-8364-0242ac110002",
       "next": "6c4c18a2-64c0-11e8-8364-0242ac110002",
       "previous": "f61bbe42-90ae-11e8-8886-0242ac110004"
      }
     ],
     "next": "6c4c18a2-64c0-11e8-8364-0242ac110002",
     "previous": "84d7632a-90af-11e8-8886-0242ac110004"
    }
   },
   "source": [
    "# サービスの確認"
   ]
  },
  {
   "cell_type": "markdown",
   "metadata": {
    "hidden": true,
    "lc_cell_meme": {
     "current": "6c4c18a2-64c0-11e8-8364-0242ac110002",
     "history": [
      {
       "current": "6c4c18a2-64c0-11e8-8364-0242ac110002",
       "next": null,
       "previous": "6c4c1604-64c0-11e8-8364-0242ac110002"
      },
      {
       "current": "6c4c18a2-64c0-11e8-8364-0242ac110002",
       "next": null,
       "previous": "19a1265e-64c2-11e8-8364-0242ac110002"
      },
      {
       "current": "6c4c18a2-64c0-11e8-8364-0242ac110002",
       "next": "60f9c33a-64c2-11e8-8364-0242ac110002",
       "previous": "19a1265e-64c2-11e8-8364-0242ac110002"
      }
     ],
     "next": "0a033532-90bb-11e8-87fa-0242ac110003",
     "previous": "19a1265e-64c2-11e8-8364-0242ac110002"
    }
   },
   "source": [
    "8000番ポートにブラウザでアクセスしてみる"
   ]
  },
  {
   "attachments": {
    "image.png": {
     "image/png": "[encoded data removed]"
    }
   },
   "cell_type": "markdown",
   "metadata": {
    "hidden": true,
    "lc_cell_meme": {
     "current": "0a033532-90bb-11e8-87fa-0242ac110003",
     "next": "e4b516a0-64c4-11e8-8364-0242ac110002",
     "previous": "6c4c18a2-64c0-11e8-8364-0242ac110002"
    }
   },
   "source": [
    "![image.png](attachment:image.png)"
   ]
  },
  {
   "cell_type": "markdown",
   "metadata": {
    "hidden": true,
    "lc_cell_meme": {
     "current": "e4b516a0-64c4-11e8-8364-0242ac110002",
     "history": [
      {
       "current": "e4b516a0-64c4-11e8-8364-0242ac110002",
       "next": null,
       "previous": "60f9c33a-64c2-11e8-8364-0242ac110002"
      },
      {
       "current": "e4b516a0-64c4-11e8-8364-0242ac110002",
       "next": "2c39c11a-64c5-11e8-8364-0242ac110002",
       "previous": "60f9c33a-64c2-11e8-8364-0242ac110002"
      },
      {
       "current": "e4b516a0-64c4-11e8-8364-0242ac110002",
       "next": "2c39c11a-64c5-11e8-8364-0242ac110002",
       "previous": "0a033532-90bb-11e8-87fa-0242ac110003"
      },
      {
       "current": "e4b516a0-64c4-11e8-8364-0242ac110002",
       "next": "281d1816-90bc-11e8-87fa-0242ac110003",
       "previous": "0a033532-90bb-11e8-87fa-0242ac110003"
      }
     ],
     "next": "2c39c11a-64c5-11e8-8364-0242ac110002",
     "previous": "0a033532-90bb-11e8-87fa-0242ac110003"
    }
   },
   "source": [
    "地図が見れるwebアプリだった"
   ]
  },
  {
   "cell_type": "markdown",
   "metadata": {
    "lc_cell_meme": {
     "current": "2c39c11a-64c5-11e8-8364-0242ac110002",
     "history": [
      {
       "current": "2c39c11a-64c5-11e8-8364-0242ac110002",
       "next": null,
       "previous": "e4b516a0-64c4-11e8-8364-0242ac110002"
      },
      {
       "current": "2c39c11a-64c5-11e8-8364-0242ac110002",
       "next": null,
       "previous": "281d1a5a-90bc-11e8-87fa-0242ac110003"
      },
      {
       "current": "2c39c11a-64c5-11e8-8364-0242ac110002",
       "next": null,
       "previous": "281d1a5a-90bc-11e8-87fa-0242ac110003"
      },
      {
       "current": "2c39c11a-64c5-11e8-8364-0242ac110002",
       "next": null,
       "previous": "b3bd135c-916c-11e8-9bb4-0242ac110004"
      }
     ],
     "next": null,
     "previous": "e4b516a0-64c4-11e8-8364-0242ac110002"
    }
   },
   "source": [
    "# まとめ\n",
    "\n",
    "node.jsで8000番ポートからサービスされてるwebアプリ「3D City Database Web Map Client」が動いている"
   ]
  }
 ],
 "metadata": {
  "celltoolbar": "Edit Metadata",
  "kernelspec": {
   "display_name": "Python 3 (LC_wrapper)",
   "language": "python",
   "name": "python3-wrapper"
  },
  "language_info": {
   "file_extension": ".py",
   "mimetype": "text/x-python",
   "name": "python",
   "nbconvert_exporter": "python",
   "pygments_lexer": "ipython3",
   "version": "3.6.5"
  },
  "lc_notebook_meme": {
   "current": "68b09a4e-64b4-11e8-8364-0242ac110002",
   "lc_server_signature": {
    "current": {
     "notebook_dir": "/home/jovyan",
     "notebook_path": "/jtf2018",
     "server_url": "http://localhost:8888/",
     "signature_id": "339a2bb2-916a-11e8-9bb4-0242ac110004"
    },
    "history": [
     {
      "notebook_dir": "/home/jovyan",
      "notebook_path": "/handson",
      "server_url": "http://localhost:8888/",
      "signature_id": "d1a67f64-64a0-11e8-8364-0242ac110002"
     },
     {
      "notebook_dir": "/home/jovyan",
      "notebook_path": "/openforum2018",
      "server_url": "http://localhost:8888/",
      "signature_id": "2b07a2be-67c0-11e8-8450-0242ac110002"
     },
     {
      "notebook_dir": "/home/jovyan",
      "notebook_path": "/openforum2018",
      "server_url": "http://localhost:8888/",
      "signature_id": "96e9a4a2-67c3-11e8-8906-0242ac110002"
     },
     {
      "notebook_dir": "/home/jovyan",
      "notebook_path": "/openforum2018",
      "server_url": "http://localhost:8888/",
      "signature_id": "832e7ef0-9091-11e8-8886-0242ac110004"
     },
     {
      "notebook_dir": "/home/jovyan",
      "notebook_path": "/openforum2018",
      "server_url": "http://localhost:8888/",
      "signature_id": "dd07d3ae-90b9-11e8-87fa-0242ac110003"
     }
    ]
   }
  },
  "toc": {
   "base_numbering": 1,
   "nav_menu": {},
   "number_sections": true,
   "sideBar": true,
   "skip_h1_title": false,
   "title_cell": "Table of Contents",
   "title_sidebar": "Contents",
   "toc_cell": false,
   "toc_position": {},
   "toc_section_display": true,
   "toc_window_display": true
  }
 },
 "nbformat": 4,
 "nbformat_minor": 2
}
