{
 "cells": [
  {
   "cell_type": "markdown",
   "metadata": {
    "heading_collapsed": true,
    "lc_cell_meme": {
     "current": "68b09bac-64b4-11e8-8364-0242ac110002",
     "history": [
      {
       "current": "68b09bac-64b4-11e8-8364-0242ac110002",
       "next": "68b09c4c-64b4-11e8-8364-0242ac110002",
       "previous": null
      },
      {
       "current": "68b09bac-64b4-11e8-8364-0242ac110002",
       "next": "f7be3304-64b4-11e8-8364-0242ac110002",
       "previous": null
      },
      {
       "current": "68b09bac-64b4-11e8-8364-0242ac110002",
       "next": "5f70f388-9093-11e8-8886-0242ac110004",
       "previous": null
      }
     ],
     "next": "17ad4e62-90a6-11e8-8886-0242ac110004",
     "previous": null
    }
   },
   "source": [
    "# サーバの状態の調査\n",
    "\n",
    "M先輩から「wikiのサーバ、中で何動いてるかレポート作って」と指示があった"
   ]
  },
  {
   "cell_type": "markdown",
   "metadata": {
    "hidden": true,
    "lc_cell_meme": {
     "current": "17ad4e62-90a6-11e8-8886-0242ac110004",
     "next": "17ad525e-90a6-11e8-8886-0242ac110004",
     "previous": "68b09bac-64b4-11e8-8364-0242ac110002"
    }
   },
   "source": [
    "作業開始時刻"
   ]
  },
  {
   "cell_type": "code",
   "execution_count": 21,
   "metadata": {
    "deletable": false,
    "editable": false,
    "hidden": true,
    "lc_cell_meme": {
     "current": "17ad525e-90a6-11e8-8886-0242ac110004",
     "next": "5f70f388-9093-11e8-8886-0242ac110004",
     "previous": "17ad4e62-90a6-11e8-8886-0242ac110004"
    },
    "run_through_control": {
     "frozen": true
    }
   },
   "outputs": [
    {
     "name": "stdout",
     "output_type": "stream",
     "text": [
      "Thu Jul 26 11:04:02 UTC 2018\r\n"
     ]
    }
   ],
   "source": [
    "!date"
   ]
  },
  {
   "cell_type": "markdown",
   "metadata": {
    "heading_collapsed": true,
    "lc_cell_meme": {
     "current": "5f70f388-9093-11e8-8886-0242ac110004",
     "history": [
      {
       "current": "5f70f388-9093-11e8-8886-0242ac110004",
       "next": "5f70f5d6-9093-11e8-8886-0242ac110004",
       "previous": "68b09bac-64b4-11e8-8364-0242ac110002"
      }
     ],
     "next": "5f70f5d6-9093-11e8-8886-0242ac110004",
     "previous": "17ad525e-90a6-11e8-8886-0242ac110004"
    }
   },
   "source": [
    "# 対象の確認"
   ]
  },
  {
   "cell_type": "markdown",
   "metadata": {
    "hidden": true,
    "lc_cell_meme": {
     "current": "5f70f5d6-9093-11e8-8886-0242ac110004",
     "history": [
      {
       "current": "5f70f5d6-9093-11e8-8886-0242ac110004",
       "next": "5f70f694-9093-11e8-8886-0242ac110004",
       "previous": "5f70f388-9093-11e8-8886-0242ac110004"
      }
     ],
     "next": "ee82904a-9093-11e8-8886-0242ac110004",
     "previous": "5f70f388-9093-11e8-8886-0242ac110004"
    }
   },
   "source": [
    "ansibleのインベントリファイルで対象サーバを確認し、簡単なコマンドが通ることを確認しておく"
   ]
  },
  {
   "cell_type": "code",
   "execution_count": 22,
   "metadata": {
    "deletable": false,
    "editable": false,
    "hidden": true,
    "lc_cell_meme": {
     "current": "ee82904a-9093-11e8-8886-0242ac110004",
     "next": "ee829202-9093-11e8-8886-0242ac110004",
     "previous": "5f70f5d6-9093-11e8-8886-0242ac110004"
    },
    "run_through_control": {
     "frozen": true
    }
   },
   "outputs": [
    {
     "data": {
      "text/plain": [
       "['openforum2018_wiki_1', 'openforum2018_3dwebmap_1', 'openforum2018_boinc_1']"
      ]
     },
     "execution_count": 22,
     "metadata": {},
     "output_type": "execute_result"
    }
   ],
   "source": [
    "hosts = !cat ./hosts\n",
    "hosts"
   ]
  },
  {
   "cell_type": "code",
   "execution_count": 23,
   "metadata": {
    "deletable": false,
    "editable": false,
    "hidden": true,
    "lc_cell_meme": {
     "current": "ee829202-9093-11e8-8886-0242ac110004",
     "next": "a6f827bc-9093-11e8-8886-0242ac110004",
     "previous": "ee82904a-9093-11e8-8886-0242ac110004"
    },
    "run_through_control": {
     "frozen": true
    }
   },
   "outputs": [
    {
     "data": {
      "text/plain": [
       "' -i ./hosts openforum2018_wiki_1 -c docker'"
      ]
     },
     "execution_count": 23,
     "metadata": {},
     "output_type": "execute_result"
    }
   ],
   "source": [
    "for h in hosts:\n",
    "        if h.find('wiki') > -1:\n",
    "            target = ' -i ./hosts {} -c docker'.format(h)\n",
    "target"
   ]
  },
  {
   "cell_type": "code",
   "execution_count": 24,
   "metadata": {
    "deletable": false,
    "editable": false,
    "hidden": true,
    "lc_cell_meme": {
     "current": "a6f827bc-9093-11e8-8886-0242ac110004",
     "history": [
      {
       "current": "a6f827bc-9093-11e8-8886-0242ac110004",
       "next": "f7be3304-64b4-11e8-8364-0242ac110002",
       "previous": "5f70f694-9093-11e8-8886-0242ac110004"
      }
     ],
     "next": "f7be3304-64b4-11e8-8364-0242ac110002",
     "previous": "ee829202-9093-11e8-8886-0242ac110004"
    },
    "pinned_outputs": [],
    "run_through_control": {
     "frozen": true
    }
   },
   "outputs": [
    {
     "name": "stdout",
     "output_type": "stream",
     "text": [
      "\u001b[0;32mopenforum2018_wiki_1 | SUCCESS | rc=0 >>\u001b[0m\r\n",
      "\u001b[0;32mtotal 152\u001b[0m\r\n",
      "\u001b[0;32mdrwxr-xr-x 1 wiki wiki  4096 Nov  5  2017 .\u001b[0m\r\n",
      "\u001b[0;32mdrwxr-xr-x 1 wiki wiki  4096 Jul 26 09:55 ..\u001b[0m\r\n",
      "\u001b[0;32m-rw-r--r-- 1 wiki wiki    40 Sep  8  2014 .bowerrc\u001b[0m\r\n",
      "\u001b[0;32mdrwxr-xr-x 1 wiki wiki  4096 Nov  5  2017 .git\u001b[0m\r\n",
      "\u001b[0;32m-rwxr-xr-x 1 wiki wiki   228 Nov  4  2017 .gitignore\u001b[0m\r\n",
      "\u001b[0;32mdrwxr-xr-x 1 wiki wiki  4096 Nov  5  2017 .idea\u001b[0m\r\n",
      "\u001b[0;32m-rw-r--r-- 1 wiki wiki   305 Nov  4  2017 .travis.yml\u001b[0m\r\n",
      "\u001b[0;32mdrwxr-xr-x 1 wiki wiki  4096 Nov  5  2017 .vagrant\u001b[0m\r\n",
      "\u001b[0;32mdrwxr-xr-x 1 wiki wiki  4096 Nov  5  2017 .venv\u001b[0m\r\n",
      "\u001b[0;32m-rw-r--r-- 1 wiki wiki 18041 Sep  8  2014 LICENSE\u001b[0m\r\n",
      "\u001b[0;32m-rw-r--r-- 1 wiki wiki   151 Aug 20  2017 MANIFEST.in\u001b[0m\r\n",
      "\u001b[0;32m-rw-r--r-- 1 wiki wiki   616 Nov  4  2017 Pipfile\u001b[0m\r\n",
      "\u001b[0;32m-rw-r--r-- 1 wiki wiki  4784 Nov  4  2017 Pipfile.lock\u001b[0m\r\n",
      "\u001b[0;32m-rw-r--r-- 1 wiki wiki 17027 Nov  5  2017 README.md\u001b[0m\r\n",
      "\u001b[0;32m-rw-r--r-- 1 wiki wiki   321 Nov  5  2017 Vagrantfile\u001b[0m\r\n",
      "\u001b[0;32m-rw-r--r-- 1 wiki wiki   531 Nov  4  2017 bower.json\u001b[0m\r\n",
      "\u001b[0;32mdrwxr-xr-x 4 wiki wiki  4096 Nov  5  2017 build\u001b[0m\r\n",
      "\u001b[0;32mdrwxr-xr-x 1 wiki wiki  4096 Nov  5  2017 dist\u001b[0m\r\n",
      "\u001b[0;32mdrwxr-xr-x 1 wiki wiki  4096 Nov  5  2017 docker\u001b[0m\r\n",
      "\u001b[0;32m-rw-r--r-- 1 wiki wiki   389 Nov  5  2017 docker-compose.yml\u001b[0m\r\n",
      "\u001b[0;32m-rwxr-xr-x 1 wiki wiki  1439 Nov  5  2017 provision.sh\u001b[0m\r\n",
      "\u001b[0;32mdrwxr-xr-x 1 wiki wiki  4096 Nov  5  2017 realms\u001b[0m\r\n",
      "\u001b[0;32mdrwxr-xr-x 1 wiki wiki  4096 Nov  5  2017 realms-data\u001b[0m\r\n",
      "\u001b[0;32m-rwxr-xr-x 1 wiki wiki   386 Nov  5  2017 realms-wiki\u001b[0m\r\n",
      "\u001b[0;32m-rw-r--r-- 1 wiki wiki   327 Apr 24  2016 realms-wiki.json\u001b[0m\r\n",
      "\u001b[0;32mdrwxr-xr-x 1 wiki wiki  4096 Nov  5  2017 realms_wiki.egg-info\u001b[0m\r\n",
      "\u001b[0;32m-rw-r--r-- 1 wiki wiki    66 Oct 22  2014 requirements-dev.txt\u001b[0m\r\n",
      "\u001b[0;32m-rw-r--r-- 1 wiki wiki     5 Oct 22  2014 requirements.txt\u001b[0m\r\n",
      "\u001b[0;32m-rw-r--r-- 1 wiki wiki  1344 Aug 21  2017 setup.py\u001b[0m\r\n",
      "\u001b[0;32m-rw------- 1 wiki wiki     0 Nov  5  2017 ubuntu-xenial-16.04-cloudimg-console.log\u001b[0m\r\n",
      "\u001b[0;32m\u001b[0m\r\n"
     ]
    }
   ],
   "source": [
    "!sudo ansible -a \"ls -la\" {target}"
   ]
  },
  {
   "cell_type": "markdown",
   "metadata": {
    "heading_collapsed": true,
    "lc_cell_meme": {
     "current": "f7be3304-64b4-11e8-8364-0242ac110002",
     "history": [
      {
       "current": "f7be3304-64b4-11e8-8364-0242ac110002",
       "next": "68b09c4c-64b4-11e8-8364-0242ac110002",
       "previous": "68b09bac-64b4-11e8-8364-0242ac110002"
      },
      {
       "current": "f7be3304-64b4-11e8-8364-0242ac110002",
       "next": "6c4c05ce-64c0-11e8-8364-0242ac110002",
       "previous": "68b09bac-64b4-11e8-8364-0242ac110002"
      },
      {
       "current": "f7be3304-64b4-11e8-8364-0242ac110002",
       "next": "6c4c05ce-64c0-11e8-8364-0242ac110002",
       "previous": "5f70f694-9093-11e8-8886-0242ac110004"
      },
      {
       "current": "f7be3304-64b4-11e8-8364-0242ac110002",
       "next": "6c4c05ce-64c0-11e8-8364-0242ac110002",
       "previous": "a6f827bc-9093-11e8-8886-0242ac110004"
      },
      {
       "current": "f7be3304-64b4-11e8-8364-0242ac110002",
       "next": "ce539a58-64b5-11e8-8364-0242ac110002",
       "previous": "a6f827bc-9093-11e8-8886-0242ac110004"
      },
      {
       "current": "f7be3304-64b4-11e8-8364-0242ac110002",
       "next": "5d606370-64b6-11e8-8364-0242ac110002",
       "previous": "a6f827bc-9093-11e8-8886-0242ac110004"
      }
     ],
     "next": "5d605ff6-64b6-11e8-8364-0242ac110002",
     "previous": "a6f827bc-9093-11e8-8886-0242ac110004"
    }
   },
   "source": [
    "# サーバの基本情報を収集"
   ]
  },
  {
   "cell_type": "markdown",
   "metadata": {
    "hidden": true,
    "lc_cell_meme": {
     "current": "5d605ff6-64b6-11e8-8364-0242ac110002",
     "history": [
      {
       "current": "5d605ff6-64b6-11e8-8364-0242ac110002",
       "next": "5d6061a4-64b6-11e8-8364-0242ac110002",
       "previous": "5d605dee-64b6-11e8-8364-0242ac110002"
      },
      {
       "current": "5d605ff6-64b6-11e8-8364-0242ac110002",
       "next": "5d6061a4-64b6-11e8-8364-0242ac110002",
       "previous": "5d606514-64b6-11e8-8364-0242ac110002"
      }
     ],
     "next": "5d6061a4-64b6-11e8-8364-0242ac110002",
     "previous": "f7be3304-64b4-11e8-8364-0242ac110002"
    }
   },
   "source": [
    "## OSのバージョン"
   ]
  },
  {
   "cell_type": "code",
   "execution_count": 25,
   "metadata": {
    "deletable": false,
    "editable": false,
    "hidden": true,
    "lc_cell_meme": {
     "current": "5d6061a4-64b6-11e8-8364-0242ac110002",
     "history": [
      {
       "current": "5d6061a4-64b6-11e8-8364-0242ac110002",
       "next": "5d606370-64b6-11e8-8364-0242ac110002",
       "previous": "5d605ff6-64b6-11e8-8364-0242ac110002"
      },
      {
       "current": "5d6061a4-64b6-11e8-8364-0242ac110002",
       "next": "a6b85ac0-90a6-11e8-8886-0242ac110004",
       "previous": "5d605ff6-64b6-11e8-8364-0242ac110002"
      },
      {
       "current": "5d6061a4-64b6-11e8-8364-0242ac110002",
       "next": "0a85b9b4-64b8-11e8-8364-0242ac110002",
       "previous": "5d605ff6-64b6-11e8-8364-0242ac110002"
      }
     ],
     "next": "1e6cf7e8-90bf-11e8-87fa-0242ac110003",
     "previous": "5d605ff6-64b6-11e8-8364-0242ac110002"
    },
    "run_through_control": {
     "frozen": true
    },
    "scrolled": true
   },
   "outputs": [
    {
     "name": "stdout",
     "output_type": "stream",
     "text": [
      "\u001b[0;32mopenforum2018_wiki_1 | SUCCESS | rc=0 >>\u001b[0m\r\n",
      "\u001b[0;32mUbuntu 16.04.3 LTS \\n \\l\u001b[0m\r\n",
      "\u001b[0;32m\u001b[0m\r\n"
     ]
    }
   ],
   "source": [
    "command = \"'cat /etc/issue'\"\n",
    "!sudo ansible -a {command} {target}"
   ]
  },
  {
   "cell_type": "markdown",
   "metadata": {
    "hidden": true,
    "lc_cell_meme": {
     "current": "1e6cf7e8-90bf-11e8-87fa-0242ac110003",
     "next": "0a85b9b4-64b8-11e8-8364-0242ac110002",
     "previous": "5d6061a4-64b6-11e8-8364-0242ac110002"
    }
   },
   "source": [
    "https://ja.wikipedia.org/wiki/Ubuntu#%E3%83%AA%E3%83%AA%E3%83%BC%E3%82%B9%E4%B8%80%E8%A6%A7\n",
    "\n",
    "Ubuntu 16.04 LTS Xenial Xerus"
   ]
  },
  {
   "cell_type": "markdown",
   "metadata": {
    "hidden": true,
    "lc_cell_meme": {
     "current": "0a85b9b4-64b8-11e8-8364-0242ac110002",
     "history": [
      {
       "current": "0a85b9b4-64b8-11e8-8364-0242ac110002",
       "next": "0a85ba36-64b8-11e8-8364-0242ac110002",
       "previous": "0a85b914-64b8-11e8-8364-0242ac110002"
      },
      {
       "current": "0a85b9b4-64b8-11e8-8364-0242ac110002",
       "next": "0a85ba36-64b8-11e8-8364-0242ac110002",
       "previous": "7b7a2eee-64b7-11e8-8364-0242ac110002"
      },
      {
       "current": "0a85b9b4-64b8-11e8-8364-0242ac110002",
       "next": "0a85ba36-64b8-11e8-8364-0242ac110002",
       "previous": "ce539c9c-64b5-11e8-8364-0242ac110002"
      },
      {
       "current": "0a85b9b4-64b8-11e8-8364-0242ac110002",
       "next": "0a85ba36-64b8-11e8-8364-0242ac110002",
       "previous": "a6b85ac0-90a6-11e8-8886-0242ac110004"
      },
      {
       "current": "0a85b9b4-64b8-11e8-8364-0242ac110002",
       "next": "0a85ba36-64b8-11e8-8364-0242ac110002",
       "previous": "5d6061a4-64b6-11e8-8364-0242ac110002"
      }
     ],
     "next": "0a85ba36-64b8-11e8-8364-0242ac110002",
     "previous": "1e6cf7e8-90bf-11e8-87fa-0242ac110003"
    }
   },
   "source": [
    "## サービス"
   ]
  },
  {
   "cell_type": "markdown",
   "metadata": {
    "hidden": true,
    "lc_cell_meme": {
     "current": "0a85ba36-64b8-11e8-8364-0242ac110002",
     "history": [
      {
       "current": "0a85ba36-64b8-11e8-8364-0242ac110002",
       "next": null,
       "previous": "0a85b9b4-64b8-11e8-8364-0242ac110002"
      }
     ],
     "next": "9992cb10-64b8-11e8-8364-0242ac110002",
     "previous": "0a85b9b4-64b8-11e8-8364-0242ac110002"
    }
   },
   "source": [
    "https://qiita.com/pocket8137/items/9df9ef5ad93e7b220c42\n",
    "\n",
    "insserv -s でいけそう"
   ]
  },
  {
   "cell_type": "code",
   "execution_count": 8,
   "metadata": {
    "deletable": false,
    "editable": false,
    "hidden": true,
    "lc_cell_meme": {
     "current": "9992cb10-64b8-11e8-8364-0242ac110002",
     "history": [
      {
       "current": "9992cb10-64b8-11e8-8364-0242ac110002",
       "next": "9992cc96-64b8-11e8-8364-0242ac110002",
       "previous": "0a85ba36-64b8-11e8-8364-0242ac110002"
      }
     ],
     "next": "adbdf91a-90bf-11e8-87fa-0242ac110003",
     "previous": "0a85ba36-64b8-11e8-8364-0242ac110002"
    },
    "run_through_control": {
     "frozen": true
    },
    "scrolled": true
   },
   "outputs": [
    {
     "name": "stdout",
     "output_type": "stream",
     "text": [
      "\u001b[0;31mopenforum2018_wiki_1 | FAILED | rc=2 >>\u001b[0m\r\n",
      "\u001b[0;31m[Errno 2] No such file or directory\u001b[0m\r\n",
      "\u001b[0;31m\u001b[0m\r\n"
     ]
    },
    {
     "ename": "RuntimeError",
     "evalue": "Unexpected exit code: 2",
     "output_type": "error",
     "traceback": [
      "\u001b[0;31m---------------------------------------------------------------------------\u001b[0m",
      "\u001b[0;31mRuntimeError\u001b[0m                              Traceback (most recent call last)",
      "\u001b[0;32m<ipython-input-8-349eba5b8807>\u001b[0m in \u001b[0;36m<module>\u001b[0;34m()\u001b[0m\n\u001b[1;32m      1\u001b[0m \u001b[0mcommand\u001b[0m \u001b[0;34m=\u001b[0m \u001b[0;34m\"'insserv -s'\"\u001b[0m\u001b[0;34m\u001b[0m\u001b[0m\n\u001b[0;32m----> 2\u001b[0;31m \u001b[0mget_ipython\u001b[0m\u001b[0;34m(\u001b[0m\u001b[0;34m)\u001b[0m\u001b[0;34m.\u001b[0m\u001b[0msystem\u001b[0m\u001b[0;34m(\u001b[0m\u001b[0;34m'sudo ansible -a {command} {target}'\u001b[0m\u001b[0;34m)\u001b[0m\u001b[0;34m\u001b[0m\u001b[0m\n\u001b[0m",
      "\u001b[0;32m~/.ipython/profile_default/startup/10-custom-get_ipython_system.py\u001b[0m in \u001b[0;36m<lambda>\u001b[0;34m(x)\u001b[0m\n\u001b[1;32m      5\u001b[0m \u001b[0;34m\u001b[0m\u001b[0m\n\u001b[1;32m      6\u001b[0m \u001b[0msave_get_ipython_system\u001b[0m \u001b[0;34m=\u001b[0m \u001b[0mget_ipython\u001b[0m\u001b[0;34m(\u001b[0m\u001b[0;34m)\u001b[0m\u001b[0;34m.\u001b[0m\u001b[0msystem\u001b[0m\u001b[0;34m\u001b[0m\u001b[0m\n\u001b[0;32m----> 7\u001b[0;31m \u001b[0mget_ipython\u001b[0m\u001b[0;34m(\u001b[0m\u001b[0;34m)\u001b[0m\u001b[0;34m.\u001b[0m\u001b[0msystem\u001b[0m \u001b[0;34m=\u001b[0m \u001b[0;32mlambda\u001b[0m \u001b[0mx\u001b[0m\u001b[0;34m:\u001b[0m \u001b[0mget_ipython_system\u001b[0m\u001b[0;34m(\u001b[0m\u001b[0mx\u001b[0m\u001b[0;34m)\u001b[0m\u001b[0;34m\u001b[0m\u001b[0m\n\u001b[0m\u001b[1;32m      8\u001b[0m \u001b[0;34m\u001b[0m\u001b[0m\n\u001b[1;32m      9\u001b[0m \u001b[0;31m# interactiveshell.py's system_piped() function comment saids:\u001b[0m\u001b[0;34m\u001b[0m\u001b[0;34m\u001b[0m\u001b[0m\n",
      "\u001b[0;32m~/.ipython/profile_default/startup/10-custom-get_ipython_system.py\u001b[0m in \u001b[0;36mget_ipython_system\u001b[0;34m(cmd)\u001b[0m\n\u001b[1;32m     13\u001b[0m     \u001b[0msave_get_ipython_system\u001b[0m\u001b[0;34m(\u001b[0m\u001b[0mcmd\u001b[0m\u001b[0;34m)\u001b[0m\u001b[0;34m\u001b[0m\u001b[0m\n\u001b[1;32m     14\u001b[0m     \u001b[0;32mif\u001b[0m \u001b[0mget_ipython\u001b[0m\u001b[0;34m(\u001b[0m\u001b[0;34m)\u001b[0m\u001b[0;34m.\u001b[0m\u001b[0muser_ns\u001b[0m\u001b[0;34m[\u001b[0m\u001b[0;34m'_exit_code'\u001b[0m\u001b[0;34m]\u001b[0m \u001b[0;34m!=\u001b[0m \u001b[0;36m0\u001b[0m\u001b[0;34m:\u001b[0m\u001b[0;34m\u001b[0m\u001b[0m\n\u001b[0;32m---> 15\u001b[0;31m         \u001b[0;32mraise\u001b[0m \u001b[0mRuntimeError\u001b[0m\u001b[0;34m(\u001b[0m\u001b[0;34m'Unexpected exit code: %d'\u001b[0m \u001b[0;34m%\u001b[0m \u001b[0mget_ipython\u001b[0m\u001b[0;34m(\u001b[0m\u001b[0;34m)\u001b[0m\u001b[0;34m.\u001b[0m\u001b[0muser_ns\u001b[0m\u001b[0;34m[\u001b[0m\u001b[0;34m'_exit_code'\u001b[0m\u001b[0;34m]\u001b[0m\u001b[0;34m)\u001b[0m\u001b[0;34m\u001b[0m\u001b[0m\n\u001b[0m",
      "\u001b[0;31mRuntimeError\u001b[0m: Unexpected exit code: 2"
     ]
    }
   ],
   "source": [
    "command = \"'insserv -s'\"\n",
    "!sudo ansible -a {command} {target}"
   ]
  },
  {
   "cell_type": "markdown",
   "metadata": {
    "hidden": true,
    "lc_cell_meme": {
     "current": "adbdf91a-90bf-11e8-87fa-0242ac110003",
     "history": [
      {
       "current": "adbdf91a-90bf-11e8-87fa-0242ac110003",
       "next": "9992cc96-64b8-11e8-8364-0242ac110002",
       "previous": "9992cb10-64b8-11e8-8364-0242ac110002"
      }
     ],
     "next": "f54244bc-90bf-11e8-87fa-0242ac110003",
     "previous": "9992cb10-64b8-11e8-8364-0242ac110002"
    }
   },
   "source": [
    "insserv は使えないのか\n",
    "\n",
    "https://server-setting.info/debian/debian-like-chkconfig.html\n",
    "\n",
    "同じ感じのコマンドで入ってる奴を探る感じで"
   ]
  },
  {
   "cell_type": "code",
   "execution_count": 9,
   "metadata": {
    "deletable": false,
    "editable": false,
    "hidden": true,
    "lc_cell_meme": {
     "current": "f54244bc-90bf-11e8-87fa-0242ac110003",
     "history": [
      {
       "current": "f54244bc-90bf-11e8-87fa-0242ac110003",
       "next": "9992cc96-64b8-11e8-8364-0242ac110002",
       "previous": "adbdf91a-90bf-11e8-87fa-0242ac110003"
      }
     ],
     "next": "3c875fe2-90c0-11e8-87fa-0242ac110003",
     "previous": "adbdf91a-90bf-11e8-87fa-0242ac110003"
    },
    "run_through_control": {
     "frozen": true
    },
    "scrolled": true
   },
   "outputs": [
    {
     "name": "stdout",
     "output_type": "stream",
     "text": [
      "\u001b[0;31mopenforum2018_wiki_1 | FAILED | rc=2 >>\u001b[0m\r\n",
      "\u001b[0;31m[Errno 2] No such file or directory\u001b[0m\r\n",
      "\u001b[0;31m\u001b[0m\r\n"
     ]
    },
    {
     "ename": "RuntimeError",
     "evalue": "Unexpected exit code: 2",
     "output_type": "error",
     "traceback": [
      "\u001b[0;31m---------------------------------------------------------------------------\u001b[0m",
      "\u001b[0;31mRuntimeError\u001b[0m                              Traceback (most recent call last)",
      "\u001b[0;32m<ipython-input-9-7cd6950adc7e>\u001b[0m in \u001b[0;36m<module>\u001b[0;34m()\u001b[0m\n\u001b[1;32m      1\u001b[0m \u001b[0mcommand\u001b[0m \u001b[0;34m=\u001b[0m \u001b[0;34m\"'sysv-rc-conf --list'\"\u001b[0m\u001b[0;34m\u001b[0m\u001b[0m\n\u001b[0;32m----> 2\u001b[0;31m \u001b[0mget_ipython\u001b[0m\u001b[0;34m(\u001b[0m\u001b[0;34m)\u001b[0m\u001b[0;34m.\u001b[0m\u001b[0msystem\u001b[0m\u001b[0;34m(\u001b[0m\u001b[0;34m'sudo ansible -a {command} {target}'\u001b[0m\u001b[0;34m)\u001b[0m\u001b[0;34m\u001b[0m\u001b[0m\n\u001b[0m",
      "\u001b[0;32m~/.ipython/profile_default/startup/10-custom-get_ipython_system.py\u001b[0m in \u001b[0;36m<lambda>\u001b[0;34m(x)\u001b[0m\n\u001b[1;32m      5\u001b[0m \u001b[0;34m\u001b[0m\u001b[0m\n\u001b[1;32m      6\u001b[0m \u001b[0msave_get_ipython_system\u001b[0m \u001b[0;34m=\u001b[0m \u001b[0mget_ipython\u001b[0m\u001b[0;34m(\u001b[0m\u001b[0;34m)\u001b[0m\u001b[0;34m.\u001b[0m\u001b[0msystem\u001b[0m\u001b[0;34m\u001b[0m\u001b[0m\n\u001b[0;32m----> 7\u001b[0;31m \u001b[0mget_ipython\u001b[0m\u001b[0;34m(\u001b[0m\u001b[0;34m)\u001b[0m\u001b[0;34m.\u001b[0m\u001b[0msystem\u001b[0m \u001b[0;34m=\u001b[0m \u001b[0;32mlambda\u001b[0m \u001b[0mx\u001b[0m\u001b[0;34m:\u001b[0m \u001b[0mget_ipython_system\u001b[0m\u001b[0;34m(\u001b[0m\u001b[0mx\u001b[0m\u001b[0;34m)\u001b[0m\u001b[0;34m\u001b[0m\u001b[0m\n\u001b[0m\u001b[1;32m      8\u001b[0m \u001b[0;34m\u001b[0m\u001b[0m\n\u001b[1;32m      9\u001b[0m \u001b[0;31m# interactiveshell.py's system_piped() function comment saids:\u001b[0m\u001b[0;34m\u001b[0m\u001b[0;34m\u001b[0m\u001b[0m\n",
      "\u001b[0;32m~/.ipython/profile_default/startup/10-custom-get_ipython_system.py\u001b[0m in \u001b[0;36mget_ipython_system\u001b[0;34m(cmd)\u001b[0m\n\u001b[1;32m     13\u001b[0m     \u001b[0msave_get_ipython_system\u001b[0m\u001b[0;34m(\u001b[0m\u001b[0mcmd\u001b[0m\u001b[0;34m)\u001b[0m\u001b[0;34m\u001b[0m\u001b[0m\n\u001b[1;32m     14\u001b[0m     \u001b[0;32mif\u001b[0m \u001b[0mget_ipython\u001b[0m\u001b[0;34m(\u001b[0m\u001b[0;34m)\u001b[0m\u001b[0;34m.\u001b[0m\u001b[0muser_ns\u001b[0m\u001b[0;34m[\u001b[0m\u001b[0;34m'_exit_code'\u001b[0m\u001b[0;34m]\u001b[0m \u001b[0;34m!=\u001b[0m \u001b[0;36m0\u001b[0m\u001b[0;34m:\u001b[0m\u001b[0;34m\u001b[0m\u001b[0m\n\u001b[0;32m---> 15\u001b[0;31m         \u001b[0;32mraise\u001b[0m \u001b[0mRuntimeError\u001b[0m\u001b[0;34m(\u001b[0m\u001b[0;34m'Unexpected exit code: %d'\u001b[0m \u001b[0;34m%\u001b[0m \u001b[0mget_ipython\u001b[0m\u001b[0;34m(\u001b[0m\u001b[0;34m)\u001b[0m\u001b[0;34m.\u001b[0m\u001b[0muser_ns\u001b[0m\u001b[0;34m[\u001b[0m\u001b[0;34m'_exit_code'\u001b[0m\u001b[0;34m]\u001b[0m\u001b[0;34m)\u001b[0m\u001b[0;34m\u001b[0m\u001b[0m\n\u001b[0m",
      "\u001b[0;31mRuntimeError\u001b[0m: Unexpected exit code: 2"
     ]
    }
   ],
   "source": [
    "command = \"'sysv-rc-conf --list'\"\n",
    "!sudo ansible -a {command} {target}"
   ]
  },
  {
   "cell_type": "code",
   "execution_count": 10,
   "metadata": {
    "deletable": false,
    "editable": false,
    "hidden": true,
    "lc_cell_meme": {
     "current": "3c875fe2-90c0-11e8-87fa-0242ac110003",
     "history": [
      {
       "current": "3c875fe2-90c0-11e8-87fa-0242ac110003",
       "next": "9992cc96-64b8-11e8-8364-0242ac110002",
       "previous": "f54244bc-90bf-11e8-87fa-0242ac110003"
      },
      {
       "current": "3c875fe2-90c0-11e8-87fa-0242ac110003",
       "next": "131bc5ac-90c1-11e8-87fa-0242ac110003",
       "previous": "f54244bc-90bf-11e8-87fa-0242ac110003"
      }
     ],
     "next": "a228199e-90c1-11e8-87fa-0242ac110003",
     "previous": "f54244bc-90bf-11e8-87fa-0242ac110003"
    },
    "run_through_control": {
     "frozen": true
    },
    "scrolled": true
   },
   "outputs": [
    {
     "name": "stdout",
     "output_type": "stream",
     "text": [
      "\u001b[0;31mopenforum2018_wiki_1 | FAILED | rc=2 >>\u001b[0m\r\n",
      "\u001b[0;31m[Errno 2] No such file or directory\u001b[0m\r\n",
      "\u001b[0;31m\u001b[0m\r\n"
     ]
    },
    {
     "ename": "RuntimeError",
     "evalue": "Unexpected exit code: 2",
     "output_type": "error",
     "traceback": [
      "\u001b[0;31m---------------------------------------------------------------------------\u001b[0m",
      "\u001b[0;31mRuntimeError\u001b[0m                              Traceback (most recent call last)",
      "\u001b[0;32m<ipython-input-10-e343d1281146>\u001b[0m in \u001b[0;36m<module>\u001b[0;34m()\u001b[0m\n\u001b[1;32m      1\u001b[0m \u001b[0mcommand\u001b[0m \u001b[0;34m=\u001b[0m \u001b[0;34m\"'rcconf --list'\"\u001b[0m\u001b[0;34m\u001b[0m\u001b[0m\n\u001b[0;32m----> 2\u001b[0;31m \u001b[0mget_ipython\u001b[0m\u001b[0;34m(\u001b[0m\u001b[0;34m)\u001b[0m\u001b[0;34m.\u001b[0m\u001b[0msystem\u001b[0m\u001b[0;34m(\u001b[0m\u001b[0;34m'sudo ansible -a {command} {target}'\u001b[0m\u001b[0;34m)\u001b[0m\u001b[0;34m\u001b[0m\u001b[0m\n\u001b[0m",
      "\u001b[0;32m~/.ipython/profile_default/startup/10-custom-get_ipython_system.py\u001b[0m in \u001b[0;36m<lambda>\u001b[0;34m(x)\u001b[0m\n\u001b[1;32m      5\u001b[0m \u001b[0;34m\u001b[0m\u001b[0m\n\u001b[1;32m      6\u001b[0m \u001b[0msave_get_ipython_system\u001b[0m \u001b[0;34m=\u001b[0m \u001b[0mget_ipython\u001b[0m\u001b[0;34m(\u001b[0m\u001b[0;34m)\u001b[0m\u001b[0;34m.\u001b[0m\u001b[0msystem\u001b[0m\u001b[0;34m\u001b[0m\u001b[0m\n\u001b[0;32m----> 7\u001b[0;31m \u001b[0mget_ipython\u001b[0m\u001b[0;34m(\u001b[0m\u001b[0;34m)\u001b[0m\u001b[0;34m.\u001b[0m\u001b[0msystem\u001b[0m \u001b[0;34m=\u001b[0m \u001b[0;32mlambda\u001b[0m \u001b[0mx\u001b[0m\u001b[0;34m:\u001b[0m \u001b[0mget_ipython_system\u001b[0m\u001b[0;34m(\u001b[0m\u001b[0mx\u001b[0m\u001b[0;34m)\u001b[0m\u001b[0;34m\u001b[0m\u001b[0m\n\u001b[0m\u001b[1;32m      8\u001b[0m \u001b[0;34m\u001b[0m\u001b[0m\n\u001b[1;32m      9\u001b[0m \u001b[0;31m# interactiveshell.py's system_piped() function comment saids:\u001b[0m\u001b[0;34m\u001b[0m\u001b[0;34m\u001b[0m\u001b[0m\n",
      "\u001b[0;32m~/.ipython/profile_default/startup/10-custom-get_ipython_system.py\u001b[0m in \u001b[0;36mget_ipython_system\u001b[0;34m(cmd)\u001b[0m\n\u001b[1;32m     13\u001b[0m     \u001b[0msave_get_ipython_system\u001b[0m\u001b[0;34m(\u001b[0m\u001b[0mcmd\u001b[0m\u001b[0;34m)\u001b[0m\u001b[0;34m\u001b[0m\u001b[0m\n\u001b[1;32m     14\u001b[0m     \u001b[0;32mif\u001b[0m \u001b[0mget_ipython\u001b[0m\u001b[0;34m(\u001b[0m\u001b[0;34m)\u001b[0m\u001b[0;34m.\u001b[0m\u001b[0muser_ns\u001b[0m\u001b[0;34m[\u001b[0m\u001b[0;34m'_exit_code'\u001b[0m\u001b[0;34m]\u001b[0m \u001b[0;34m!=\u001b[0m \u001b[0;36m0\u001b[0m\u001b[0;34m:\u001b[0m\u001b[0;34m\u001b[0m\u001b[0m\n\u001b[0;32m---> 15\u001b[0;31m         \u001b[0;32mraise\u001b[0m \u001b[0mRuntimeError\u001b[0m\u001b[0;34m(\u001b[0m\u001b[0;34m'Unexpected exit code: %d'\u001b[0m \u001b[0;34m%\u001b[0m \u001b[0mget_ipython\u001b[0m\u001b[0;34m(\u001b[0m\u001b[0;34m)\u001b[0m\u001b[0;34m.\u001b[0m\u001b[0muser_ns\u001b[0m\u001b[0;34m[\u001b[0m\u001b[0;34m'_exit_code'\u001b[0m\u001b[0;34m]\u001b[0m\u001b[0;34m)\u001b[0m\u001b[0;34m\u001b[0m\u001b[0m\n\u001b[0m",
      "\u001b[0;31mRuntimeError\u001b[0m: Unexpected exit code: 2"
     ]
    }
   ],
   "source": [
    "command = \"'rcconf --list'\"\n",
    "!sudo ansible -a {command} {target}"
   ]
  },
  {
   "cell_type": "markdown",
   "metadata": {
    "hidden": true,
    "lc_cell_meme": {
     "current": "a228199e-90c1-11e8-87fa-0242ac110003",
     "next": "131bc5ac-90c1-11e8-87fa-0242ac110003",
     "previous": "3c875fe2-90c0-11e8-87fa-0242ac110003"
    }
   },
   "source": [
    "しょうがない。/etc/rc?.d の下を眺めてみよう"
   ]
  },
  {
   "cell_type": "code",
   "execution_count": 26,
   "metadata": {
    "deletable": false,
    "editable": false,
    "hidden": true,
    "lc_cell_meme": {
     "current": "131bc5ac-90c1-11e8-87fa-0242ac110003",
     "history": [
      {
       "current": "131bc5ac-90c1-11e8-87fa-0242ac110003",
       "next": "9992cc96-64b8-11e8-8364-0242ac110002",
       "previous": "3c875fe2-90c0-11e8-87fa-0242ac110003"
      }
     ],
     "next": "9992cc96-64b8-11e8-8364-0242ac110002",
     "previous": "a228199e-90c1-11e8-87fa-0242ac110003"
    },
    "run_through_control": {
     "frozen": true
    }
   },
   "outputs": [
    {
     "name": "stdout",
     "output_type": "stream",
     "text": [
      "\u001b[0;32mopenforum2018_wiki_1 | SUCCESS | rc=0 >>\u001b[0m\n",
      "\u001b[0;32mREADME\u001b[0m\n",
      "\u001b[0;32mS01killprocs\u001b[0m\n",
      "\u001b[0;32mS02single\u001b[0m\n",
      "\u001b[0;32m\u001b[0m\n",
      "\u001b[0;32mopenforum2018_wiki_1 | SUCCESS | rc=0 >>\u001b[0m\n",
      "\u001b[0;32mREADME\u001b[0m\n",
      "\u001b[0;32mS01rsync\u001b[0m\n",
      "\u001b[0;32mS02ondemand\u001b[0m\n",
      "\u001b[0;32mS02rc.local\u001b[0m\n",
      "\u001b[0;32m\u001b[0m\n",
      "\u001b[0;32mopenforum2018_wiki_1 | SUCCESS | rc=0 >>\u001b[0m\n",
      "\u001b[0;32mREADME\u001b[0m\n",
      "\u001b[0;32mS01rsync\u001b[0m\n",
      "\u001b[0;32mS02ondemand\u001b[0m\n",
      "\u001b[0;32mS02rc.local\u001b[0m\n",
      "\u001b[0;32m\u001b[0m\n",
      "\u001b[0;32mopenforum2018_wiki_1 | SUCCESS | rc=0 >>\u001b[0m\n",
      "\u001b[0;32mREADME\u001b[0m\n",
      "\u001b[0;32mS01rsync\u001b[0m\n",
      "\u001b[0;32mS02ondemand\u001b[0m\n",
      "\u001b[0;32mS02rc.local\u001b[0m\n",
      "\u001b[0;32m\u001b[0m\n",
      "\u001b[0;32mopenforum2018_wiki_1 | SUCCESS | rc=0 >>\u001b[0m\n",
      "\u001b[0;32mREADME\u001b[0m\n",
      "\u001b[0;32mS01rsync\u001b[0m\n",
      "\u001b[0;32mS02ondemand\u001b[0m\n",
      "\u001b[0;32mS02rc.local\u001b[0m\n",
      "\u001b[0;32m\u001b[0m\n"
     ]
    }
   ],
   "source": [
    "command = \"'ls /etc/rc1.d/'\"\n",
    "!sudo ansible -a {command} {target}\n",
    "command = \"'ls /etc/rc2.d/'\"\n",
    "!sudo ansible -a {command} {target}\n",
    "command = \"'ls /etc/rc3.d/'\"\n",
    "!sudo ansible -a {command} {target}\n",
    "command = \"'ls /etc/rc4.d/'\"\n",
    "!sudo ansible -a {command} {target}\n",
    "command = \"'ls /etc/rc5.d/'\"\n",
    "!sudo ansible -a {command} {target}"
   ]
  },
  {
   "cell_type": "markdown",
   "metadata": {
    "hidden": true,
    "lc_cell_meme": {
     "current": "9992cc96-64b8-11e8-8364-0242ac110002",
     "history": [
      {
       "current": "9992cc96-64b8-11e8-8364-0242ac110002",
       "next": "9992cd72-64b8-11e8-8364-0242ac110002",
       "previous": "9992cb10-64b8-11e8-8364-0242ac110002"
      },
      {
       "current": "9992cc96-64b8-11e8-8364-0242ac110002",
       "next": "28a15010-64b9-11e8-8364-0242ac110002",
       "previous": "9992cb10-64b8-11e8-8364-0242ac110002"
      },
      {
       "current": "9992cc96-64b8-11e8-8364-0242ac110002",
       "next": "b7ad3936-64b9-11e8-8364-0242ac110002",
       "previous": "9992cb10-64b8-11e8-8364-0242ac110002"
      },
      {
       "current": "9992cc96-64b8-11e8-8364-0242ac110002",
       "next": "2a930262-90a9-11e8-8886-0242ac110004",
       "previous": "9992cb10-64b8-11e8-8364-0242ac110002"
      },
      {
       "current": "9992cc96-64b8-11e8-8364-0242ac110002",
       "next": "2a930262-90a9-11e8-8886-0242ac110004",
       "previous": "adbdf91a-90bf-11e8-87fa-0242ac110003"
      },
      {
       "current": "9992cc96-64b8-11e8-8364-0242ac110002",
       "next": "2a930262-90a9-11e8-8886-0242ac110004",
       "previous": "f54244bc-90bf-11e8-87fa-0242ac110003"
      },
      {
       "current": "9992cc96-64b8-11e8-8364-0242ac110002",
       "next": "2a930262-90a9-11e8-8886-0242ac110004",
       "previous": "3c875fe2-90c0-11e8-87fa-0242ac110003"
      }
     ],
     "next": "2a930262-90a9-11e8-8886-0242ac110004",
     "previous": "131bc5ac-90c1-11e8-87fa-0242ac110003"
    }
   },
   "source": [
    "それっぽいサービスはない感じ"
   ]
  },
  {
   "cell_type": "markdown",
   "metadata": {
    "hidden": true,
    "lc_cell_meme": {
     "current": "2a930262-90a9-11e8-8886-0242ac110004",
     "next": "6c4c1604-64c0-11e8-8364-0242ac110002",
     "previous": "9992cc96-64b8-11e8-8364-0242ac110002"
    }
   },
   "source": [
    "## プロセス"
   ]
  },
  {
   "cell_type": "code",
   "execution_count": 27,
   "metadata": {
    "deletable": false,
    "editable": false,
    "hidden": true,
    "lc_cell_meme": {
     "current": "6c4c1604-64c0-11e8-8364-0242ac110002",
     "history": [
      {
       "current": "6c4c1604-64c0-11e8-8364-0242ac110002",
       "next": "6c4c18a2-64c0-11e8-8364-0242ac110002",
       "previous": "6c4c1370-64c0-11e8-8364-0242ac110002"
      },
      {
       "current": "6c4c1604-64c0-11e8-8364-0242ac110002",
       "next": "19a1265e-64c2-11e8-8364-0242ac110002",
       "previous": "6c4c1370-64c0-11e8-8364-0242ac110002"
      },
      {
       "current": "6c4c1604-64c0-11e8-8364-0242ac110002",
       "next": "19a1265e-64c2-11e8-8364-0242ac110002",
       "previous": "2a930262-90a9-11e8-8886-0242ac110004"
      },
      {
       "current": "6c4c1604-64c0-11e8-8364-0242ac110002",
       "next": "f61bb960-90ae-11e8-8886-0242ac110004",
       "previous": "2a930262-90a9-11e8-8886-0242ac110004"
      },
      {
       "current": "6c4c1604-64c0-11e8-8364-0242ac110002",
       "next": "e9b258ce-90c1-11e8-87fa-0242ac110003",
       "previous": "2a930262-90a9-11e8-8886-0242ac110004"
      }
     ],
     "next": "f61bb960-90ae-11e8-8886-0242ac110004",
     "previous": "2a930262-90a9-11e8-8886-0242ac110004"
    },
    "run_through_control": {
     "frozen": true
    }
   },
   "outputs": [
    {
     "name": "stdout",
     "output_type": "stream",
     "text": [
      "\u001b[0;32mopenforum2018_wiki_1 | SUCCESS | rc=0 >>\u001b[0m\r\n",
      "\u001b[0;32mUSER        PID %CPU %MEM    VSZ   RSS TTY      STAT START   TIME COMMAND\u001b[0m\r\n",
      "\u001b[0;32mwiki          1  0.0  0.0   4508     0 ?        Ss   09:54   0:00 /bin/sh -c . /home/wiki/realms-wiki/.venv/bin/activate &&     gunicorn         --name realms-wiki         --access-logfile -         --error-logfile -         --worker-class gevent         --workers ${WORKERS}         --bind 0.0.0.0:5000         --chdir /home/wiki/realms-wiki         'realms:create_app()'\u001b[0m\r\n",
      "\u001b[0;32mwiki          5  0.0  0.3  53412  6608 ?        S    09:54   0:00 /home/wiki/realms-wiki/.venv/bin/python /home/wiki/realms-wiki/.venv/bin/gunicorn --name realms-wiki --access-logfile - --error-logfile - --worker-class gevent --workers 3 --bind 0.0.0.0:5000 --chdir /home/wiki/realms-wiki realms:create_app()\u001b[0m\r\n",
      "\u001b[0;32mwiki         10  0.0  2.5 136172 52476 ?        S    09:54   0:02 /home/wiki/realms-wiki/.venv/bin/python /home/wiki/realms-wiki/.venv/bin/gunicorn --name realms-wiki --access-logfile - --error-logfile - --worker-class gevent --workers 3 --bind 0.0.0.0:5000 --chdir /home/wiki/realms-wiki realms:create_app()\u001b[0m\r\n",
      "\u001b[0;32mwiki         11  0.0  2.1 123172 42880 ?        S    09:54   0:01 /home/wiki/realms-wiki/.venv/bin/python /home/wiki/realms-wiki/.venv/bin/gunicorn --name realms-wiki --access-logfile - --error-logfile - --worker-class gevent --workers 3 --bind 0.0.0.0:5000 --chdir /home/wiki/realms-wiki realms:create_app()\u001b[0m\r\n",
      "\u001b[0;32mwiki         12  0.0  2.1 124256 44592 ?        S    09:54   0:01 /home/wiki/realms-wiki/.venv/bin/python /home/wiki/realms-wiki/.venv/bin/gunicorn --name realms-wiki --access-logfile - --error-logfile - --worker-class gevent --workers 3 --bind 0.0.0.0:5000 --chdir /home/wiki/realms-wiki realms:create_app()\u001b[0m\r\n",
      "\u001b[0;32mwiki       1481  1.0  0.0   4508   744 ?        Ss   11:04   0:00 /bin/sh -c /bin/sh -c '/usr/bin/python /home/wiki/.ansible/tmp/ansible-tmp-1532603082.0573084-160831072855808/command.py && sleep 0'\u001b[0m\r\n",
      "\u001b[0;32mwiki       1487  0.0  0.0   4508   744 ?        S    11:04   0:00 /bin/sh -c /usr/bin/python /home/wiki/.ansible/tmp/ansible-tmp-1532603082.0573084-160831072855808/command.py && sleep 0\u001b[0m\r\n",
      "\u001b[0;32mwiki       1488  1.0  0.4  29492  9948 ?        S    11:04   0:00 /usr/bin/python /home/wiki/.ansible/tmp/ansible-tmp-1532603082.0573084-160831072855808/command.py\u001b[0m\r\n",
      "\u001b[0;32mwiki       1489  4.0  0.5  33704 11880 ?        S    11:04   0:00 /usr/bin/python /tmp/ansible_Dcl0gf/ansible_module_command.py\u001b[0m\r\n",
      "\u001b[0;32mwiki       1490 25.0  0.1  34424  2700 ?        R    11:04   0:00 ps aux\u001b[0m\r\n",
      "\u001b[0;32m\u001b[0m\r\n"
     ]
    }
   ],
   "source": [
    "command = \"'ps aux'\"\n",
    "!sudo ansible -a {command} {target}"
   ]
  },
  {
   "cell_type": "markdown",
   "metadata": {
    "hidden": true,
    "lc_cell_meme": {
     "current": "f61bb960-90ae-11e8-8886-0242ac110004",
     "history": [
      {
       "current": "f61bb960-90ae-11e8-8886-0242ac110004",
       "next": "f61bbc9e-90ae-11e8-8886-0242ac110004",
       "previous": "6c4c1604-64c0-11e8-8364-0242ac110002"
      },
      {
       "current": "f61bb960-90ae-11e8-8886-0242ac110004",
       "next": "f61bbc9e-90ae-11e8-8886-0242ac110004",
       "previous": "e9b258ce-90c1-11e8-87fa-0242ac110003"
      }
     ],
     "next": "f61bbc9e-90ae-11e8-8886-0242ac110004",
     "previous": "6c4c1604-64c0-11e8-8364-0242ac110002"
    }
   },
   "source": [
    "/home/wiki/realms-wiki 以下にある実行ファイルが、pythonで動いてる雰囲気"
   ]
  },
  {
   "cell_type": "markdown",
   "metadata": {
    "hidden": true,
    "lc_cell_meme": {
     "current": "f61bbc9e-90ae-11e8-8886-0242ac110004",
     "next": "f61bbe42-90ae-11e8-8886-0242ac110004",
     "previous": "f61bb960-90ae-11e8-8886-0242ac110004"
    }
   },
   "source": [
    "## LISTENポート"
   ]
  },
  {
   "cell_type": "code",
   "execution_count": 28,
   "metadata": {
    "deletable": false,
    "editable": false,
    "hidden": true,
    "lc_cell_meme": {
     "current": "f61bbe42-90ae-11e8-8886-0242ac110004",
     "history": [
      {
       "current": "f61bbe42-90ae-11e8-8886-0242ac110004",
       "next": "19a1265e-64c2-11e8-8364-0242ac110002",
       "previous": "f61bbc9e-90ae-11e8-8886-0242ac110004"
      }
     ],
     "next": "84d75f2e-90af-11e8-8886-0242ac110004",
     "previous": "f61bbc9e-90ae-11e8-8886-0242ac110004"
    },
    "run_through_control": {
     "frozen": true
    }
   },
   "outputs": [
    {
     "name": "stdout",
     "output_type": "stream",
     "text": [
      "\u001b[0;32mopenforum2018_wiki_1 | SUCCESS | rc=0 >>\u001b[0m\r\n",
      "\u001b[0;32mState      Recv-Q Send-Q Local Address:Port               Peer Address:Port              \u001b[0m\r\n",
      "\u001b[0;32mLISTEN     0      128          *:5000                     *:*                  \u001b[0m\r\n",
      "\u001b[0;32m\u001b[0m\r\n"
     ]
    }
   ],
   "source": [
    "command = \"'ss -lnat'\"\n",
    "!sudo ansible -a {command} {target}"
   ]
  },
  {
   "cell_type": "code",
   "execution_count": 29,
   "metadata": {
    "deletable": false,
    "editable": false,
    "hidden": true,
    "lc_cell_meme": {
     "current": "84d75f2e-90af-11e8-8886-0242ac110004",
     "next": "84d7632a-90af-11e8-8886-0242ac110004",
     "previous": "f61bbe42-90ae-11e8-8886-0242ac110004"
    },
    "pinned_outputs": [],
    "run_through_control": {
     "frozen": true
    },
    "scrolled": true
   },
   "outputs": [
    {
     "name": "stdout",
     "output_type": "stream",
     "text": [
      "\u001b[0;32mopenforum2018_wiki_1 | SUCCESS | rc=0 >>\u001b[0m\r\n",
      "\u001b[0;32mState      Recv-Q Send-Q Local Address:Port               Peer Address:Port              \u001b[0m\r\n",
      "\u001b[0;32m\u001b[0m\r\n"
     ]
    }
   ],
   "source": [
    "command = \"'ss -lnau'\"\n",
    "!sudo ansible -a {command} {target}"
   ]
  },
  {
   "cell_type": "markdown",
   "metadata": {
    "hidden": true,
    "lc_cell_meme": {
     "current": "84d7632a-90af-11e8-8886-0242ac110004",
     "next": "19a1265e-64c2-11e8-8364-0242ac110002",
     "previous": "84d75f2e-90af-11e8-8886-0242ac110004"
    }
   },
   "source": [
    "5000番ポートがLISTENしてる"
   ]
  },
  {
   "cell_type": "markdown",
   "metadata": {
    "heading_collapsed": true,
    "lc_cell_meme": {
     "current": "19a1265e-64c2-11e8-8364-0242ac110002",
     "history": [
      {
       "current": "19a1265e-64c2-11e8-8364-0242ac110002",
       "next": "6c4c18a2-64c0-11e8-8364-0242ac110002",
       "previous": "6c4c1604-64c0-11e8-8364-0242ac110002"
      },
      {
       "current": "19a1265e-64c2-11e8-8364-0242ac110002",
       "next": "6c4c18a2-64c0-11e8-8364-0242ac110002",
       "previous": "f61bbe42-90ae-11e8-8886-0242ac110004"
      }
     ],
     "next": "6c4c18a2-64c0-11e8-8364-0242ac110002",
     "previous": "84d7632a-90af-11e8-8886-0242ac110004"
    }
   },
   "source": [
    "# サービスの確認"
   ]
  },
  {
   "cell_type": "markdown",
   "metadata": {
    "hidden": true,
    "lc_cell_meme": {
     "current": "6c4c18a2-64c0-11e8-8364-0242ac110002",
     "history": [
      {
       "current": "6c4c18a2-64c0-11e8-8364-0242ac110002",
       "next": null,
       "previous": "6c4c1604-64c0-11e8-8364-0242ac110002"
      },
      {
       "current": "6c4c18a2-64c0-11e8-8364-0242ac110002",
       "next": null,
       "previous": "19a1265e-64c2-11e8-8364-0242ac110002"
      },
      {
       "current": "6c4c18a2-64c0-11e8-8364-0242ac110002",
       "next": "60f9c33a-64c2-11e8-8364-0242ac110002",
       "previous": "19a1265e-64c2-11e8-8364-0242ac110002"
      }
     ],
     "next": "0a033532-90bb-11e8-87fa-0242ac110003",
     "previous": "19a1265e-64c2-11e8-8364-0242ac110002"
    }
   },
   "source": [
    "5000番ポートにブラウザでアクセスしてみる"
   ]
  },
  {
   "attachments": {
    "image.png": {
     "image/png": "[encoded data removed]"
    }
   },
   "cell_type": "markdown",
   "metadata": {
    "hidden": true,
    "lc_cell_meme": {
     "current": "0a033532-90bb-11e8-87fa-0242ac110003",
     "next": "e4b516a0-64c4-11e8-8364-0242ac110002",
     "previous": "6c4c18a2-64c0-11e8-8364-0242ac110002"
    }
   },
   "source": [
    "![image.png](attachment:image.png)"
   ]
  },
  {
   "cell_type": "markdown",
   "metadata": {
    "hidden": true,
    "lc_cell_meme": {
     "current": "e4b516a0-64c4-11e8-8364-0242ac110002",
     "history": [
      {
       "current": "e4b516a0-64c4-11e8-8364-0242ac110002",
       "next": null,
       "previous": "60f9c33a-64c2-11e8-8364-0242ac110002"
      },
      {
       "current": "e4b516a0-64c4-11e8-8364-0242ac110002",
       "next": "2c39c11a-64c5-11e8-8364-0242ac110002",
       "previous": "60f9c33a-64c2-11e8-8364-0242ac110002"
      },
      {
       "current": "e4b516a0-64c4-11e8-8364-0242ac110002",
       "next": "2c39c11a-64c5-11e8-8364-0242ac110002",
       "previous": "0a033532-90bb-11e8-87fa-0242ac110003"
      }
     ],
     "next": "281d1816-90bc-11e8-87fa-0242ac110003",
     "previous": "0a033532-90bb-11e8-87fa-0242ac110003"
    }
   },
   "source": [
    "https://github.com/scragg0x/realms-wiki\n",
    "\n",
    "wikiのようだ"
   ]
  },
  {
   "cell_type": "markdown",
   "metadata": {
    "heading_collapsed": true,
    "lc_cell_meme": {
     "current": "281d1816-90bc-11e8-87fa-0242ac110003",
     "next": "281d192e-90bc-11e8-87fa-0242ac110003",
     "previous": "e4b516a0-64c4-11e8-8364-0242ac110002"
    }
   },
   "source": [
    "# コンテナの確認"
   ]
  },
  {
   "cell_type": "markdown",
   "metadata": {
    "hidden": true,
    "lc_cell_meme": {
     "current": "281d192e-90bc-11e8-87fa-0242ac110003",
     "next": "281d19ce-90bc-11e8-87fa-0242ac110003",
     "previous": "281d1816-90bc-11e8-87fa-0242ac110003"
    }
   },
   "source": [
    "コンテナイメージを調べてなかった"
   ]
  },
  {
   "cell_type": "code",
   "execution_count": 30,
   "metadata": {
    "deletable": false,
    "editable": false,
    "hidden": true,
    "lc_cell_meme": {
     "current": "281d19ce-90bc-11e8-87fa-0242ac110003",
     "next": "281d1a5a-90bc-11e8-87fa-0242ac110003",
     "previous": "281d192e-90bc-11e8-87fa-0242ac110003"
    },
    "run_through_control": {
     "frozen": true
    }
   },
   "outputs": [
    {
     "name": "stdout",
     "output_type": "stream",
     "text": [
      "CONTAINER ID        IMAGE                         COMMAND                  CREATED             STATUS              PORTS                    NAMES\r\n",
      "8bfeb173c599        realms/realms-wiki            \"/bin/sh -c '. /home…\"   About an hour ago   Up About an hour    0.0.0.0:5000->5000/tcp   openforum2018_wiki_1\r\n",
      "b21c4f06092c        mnagaku/lc-minimal-notebook   \"tini -g -- bash -c …\"   About an hour ago   Up About an hour    0.0.0.0:8888->8888/tcp   openforum2018_jupyter_1\r\n",
      "ee821e21ef04        tumgis/3dcitydb-web-map       \"node server.js --pu…\"   About an hour ago   Up About an hour    0.0.0.0:8000->8000/tcp   openforum2018_3dwebmap_1\r\n",
      "692abba3e541        kyontan/boinc-runner          \"/startup.sh\"            About an hour ago   Up About an hour                             openforum2018_boinc_1\r\n"
     ]
    }
   ],
   "source": [
    "!sudo docker ps -a"
   ]
  },
  {
   "cell_type": "markdown",
   "metadata": {
    "hidden": true,
    "lc_cell_meme": {
     "current": "281d1a5a-90bc-11e8-87fa-0242ac110003",
     "next": "2c39c11a-64c5-11e8-8364-0242ac110002",
     "previous": "281d19ce-90bc-11e8-87fa-0242ac110003"
    }
   },
   "source": [
    "realms/realms-wiki を、docker hub で確認してみる\n",
    "\n",
    "https://hub.docker.com/r/realms/realms-wiki/\n",
    "\n",
    "これのようだ\n",
    "\n",
    "https://github.com/scragg0x/realms-wiki#realms-wiki-via-docker\n",
    "\n",
    "に指定されてるコンテナ名と一致するので、公式イメージっぽい"
   ]
  },
  {
   "cell_type": "markdown",
   "metadata": {
    "lc_cell_meme": {
     "current": "2c39c11a-64c5-11e8-8364-0242ac110002",
     "history": [
      {
       "current": "2c39c11a-64c5-11e8-8364-0242ac110002",
       "next": null,
       "previous": "e4b516a0-64c4-11e8-8364-0242ac110002"
      },
      {
       "current": "2c39c11a-64c5-11e8-8364-0242ac110002",
       "next": null,
       "previous": "281d1a5a-90bc-11e8-87fa-0242ac110003"
      }
     ],
     "next": null,
     "previous": "281d1a5a-90bc-11e8-87fa-0242ac110003"
    }
   },
   "source": [
    "# まとめ\n",
    "\n",
    "5000番ポートからサービスされてるpython製のwiki「realms」が動いている"
   ]
  }
 ],
 "metadata": {
  "celltoolbar": "Edit Metadata",
  "kernelspec": {
   "display_name": "Python 3",
   "language": "python",
   "name": "python3"
  },
  "language_info": {
   "codemirror_mode": {
    "name": "ipython",
    "version": 3
   },
   "file_extension": ".py",
   "mimetype": "text/x-python",
   "name": "python",
   "nbconvert_exporter": "python",
   "pygments_lexer": "ipython3",
   "version": "3.6.5"
  },
  "lc_notebook_meme": {
   "current": "68b09a4e-64b4-11e8-8364-0242ac110002",
   "lc_server_signature": {
    "current": {
     "notebook_dir": "/home/jovyan",
     "notebook_path": "/openforum2018",
     "server_url": "http://localhost:8888/",
     "signature_id": "dd07d3ae-90b9-11e8-87fa-0242ac110003"
    },
    "history": [
     {
      "notebook_dir": "/home/jovyan",
      "notebook_path": "/handson",
      "server_url": "http://localhost:8888/",
      "signature_id": "d1a67f64-64a0-11e8-8364-0242ac110002"
     },
     {
      "notebook_dir": "/home/jovyan",
      "notebook_path": "/openforum2018",
      "server_url": "http://localhost:8888/",
      "signature_id": "2b07a2be-67c0-11e8-8450-0242ac110002"
     },
     {
      "notebook_dir": "/home/jovyan",
      "notebook_path": "/openforum2018",
      "server_url": "http://localhost:8888/",
      "signature_id": "96e9a4a2-67c3-11e8-8906-0242ac110002"
     },
     {
      "notebook_dir": "/home/jovyan",
      "notebook_path": "/openforum2018",
      "server_url": "http://localhost:8888/",
      "signature_id": "832e7ef0-9091-11e8-8886-0242ac110004"
     }
    ]
   }
  },
  "toc": {
   "base_numbering": 1,
   "nav_menu": {},
   "number_sections": true,
   "sideBar": true,
   "skip_h1_title": false,
   "title_cell": "Table of Contents",
   "title_sidebar": "Contents",
   "toc_cell": false,
   "toc_position": {},
   "toc_section_display": true,
   "toc_window_display": true
  }
 },
 "nbformat": 4,
 "nbformat_minor": 2
}
