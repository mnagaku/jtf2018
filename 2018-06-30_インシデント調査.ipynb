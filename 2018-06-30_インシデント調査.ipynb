{
 "cells": [
  {
   "cell_type": "markdown",
   "metadata": {
    "lc_cell_meme": {
     "current": "35d132ae-6320-11e8-a83e-0242ac110002",
     "history": [
      {
       "current": "35d132ae-6320-11e8-a83e-0242ac110002",
       "next": "35d13600-6320-11e8-a83e-0242ac110002",
       "previous": null
      }
     ],
     "next": "cf59d316-6250-11e8-b48c-0242ac110002",
     "previous": null
    }
   },
   "source": [
    "# インシデント調査（LC4RI風）\n",
    "\n",
    "\n",
    "TBD：前口上を書く\n"
   ]
  },
  {
   "cell_type": "markdown",
   "metadata": {
    "deletable": false,
    "editable": false,
    "lc_cell_meme": {
     "current": "cf59d316-6250-11e8-b48c-0242ac110002",
     "history": [
      {
       "current": "cf59d316-6250-11e8-b48c-0242ac110002",
       "next": "cf59d398-6250-11e8-b48c-0242ac110002",
       "previous": null
      },
      {
       "current": "cf59d316-6250-11e8-b48c-0242ac110002",
       "next": "b93c0c04-6267-11e8-b48c-0242ac110002",
       "previous": null
      },
      {
       "current": "cf59d316-6250-11e8-b48c-0242ac110002",
       "next": "b93c0c04-6267-11e8-b48c-0242ac110002",
       "previous": "35d13600-6320-11e8-a83e-0242ac110002"
      }
     ],
     "next": "b93c0c04-6267-11e8-b48c-0242ac110002",
     "previous": "35d132ae-6320-11e8-a83e-0242ac110002"
    },
    "run_through_control": {
     "frozen": true,
     "read_only": false
    }
   },
   "source": [
    "# 事前準備"
   ]
  },
  {
   "cell_type": "markdown",
   "metadata": {
    "lc_cell_meme": {
     "current": "b93c0c04-6267-11e8-b48c-0242ac110002",
     "next": "cf59d398-6250-11e8-b48c-0242ac110002",
     "previous": "cf59d316-6250-11e8-b48c-0242ac110002"
    }
   },
   "source": [
    "環境変数で、時刻をJSTに、ラッパーカーネルの機能を有効にする。"
   ]
  },
  {
   "cell_type": "code",
   "execution_count": null,
   "metadata": {
    "lc_cell_meme": {
     "current": "cf59d398-6250-11e8-b48c-0242ac110002",
     "history": [
      {
       "current": "cf59d398-6250-11e8-b48c-0242ac110002",
       "next": "cf59d3fc-6250-11e8-b48c-0242ac110002",
       "previous": "cf59d316-6250-11e8-b48c-0242ac110002"
      },
      {
       "current": "cf59d398-6250-11e8-b48c-0242ac110002",
       "next": "cf59d3fc-6250-11e8-b48c-0242ac110002",
       "previous": "b93c0c04-6267-11e8-b48c-0242ac110002"
      },
      {
       "current": "cf59d398-6250-11e8-b48c-0242ac110002",
       "next": "00c260aa-6268-11e8-b48c-0242ac110002",
       "previous": "b93c0c04-6267-11e8-b48c-0242ac110002"
      },
      {
       "current": "cf59d398-6250-11e8-b48c-0242ac110002",
       "next": "23081852-631d-11e8-a83e-0242ac110002",
       "previous": "b93c0c04-6267-11e8-b48c-0242ac110002"
      }
     ],
     "next": "00c260aa-6268-11e8-b48c-0242ac110002",
     "previous": "b93c0c04-6267-11e8-b48c-0242ac110002"
    }
   },
   "outputs": [],
   "source": [
    "%env TZ JST-9\n",
    "%env lc_wrapper_force on"
   ]
  },
  {
   "cell_type": "markdown",
   "metadata": {
    "lc_cell_meme": {
     "current": "00c260aa-6268-11e8-b48c-0242ac110002",
     "history": [
      {
       "current": "00c260aa-6268-11e8-b48c-0242ac110002",
       "next": "cf59d3fc-6250-11e8-b48c-0242ac110002",
       "previous": "cf59d398-6250-11e8-b48c-0242ac110002"
      },
      {
       "current": "00c260aa-6268-11e8-b48c-0242ac110002",
       "next": "cf59d3fc-6250-11e8-b48c-0242ac110002",
       "previous": "23081abe-631d-11e8-a83e-0242ac110002"
      }
     ],
     "next": "cf59d3fc-6250-11e8-b48c-0242ac110002",
     "previous": "cf59d398-6250-11e8-b48c-0242ac110002"
    }
   },
   "source": [
    "必要なモジュールをインストールしておく。"
   ]
  },
  {
   "cell_type": "code",
   "execution_count": null,
   "metadata": {
    "lc_cell_meme": {
     "current": "cf59d3fc-6250-11e8-b48c-0242ac110002",
     "history": [
      {
       "current": "cf59d3fc-6250-11e8-b48c-0242ac110002",
       "next": "cf59d46a-6250-11e8-b48c-0242ac110002",
       "previous": "cf59d398-6250-11e8-b48c-0242ac110002"
      },
      {
       "current": "cf59d3fc-6250-11e8-b48c-0242ac110002",
       "next": "16dd9ac4-6251-11e8-b48c-0242ac110002",
       "previous": "cf59d398-6250-11e8-b48c-0242ac110002"
      },
      {
       "current": "cf59d3fc-6250-11e8-b48c-0242ac110002",
       "next": "16dd9ac4-6251-11e8-b48c-0242ac110002",
       "previous": "00c260aa-6268-11e8-b48c-0242ac110002"
      },
      {
       "current": "cf59d3fc-6250-11e8-b48c-0242ac110002",
       "next": "23081852-631d-11e8-a83e-0242ac110002",
       "previous": "00c260aa-6268-11e8-b48c-0242ac110002"
      }
     ],
     "next": "53722c08-63b3-11e8-8e10-0242ac110002",
     "previous": "00c260aa-6268-11e8-b48c-0242ac110002"
    }
   },
   "outputs": [],
   "source": [
    "!sudo apt-get update\n",
    "!sudo apt-get upgrade -y\n",
    "!sudo apt-get install -y sysv-rc-conf iproute2 kmod lsof nmap netcat"
   ]
  },
  {
   "cell_type": "code",
   "execution_count": null,
   "metadata": {
    "lc_cell_meme": {
     "current": "53722c08-63b3-11e8-8e10-0242ac110002",
     "next": "23081852-631d-11e8-a83e-0242ac110002",
     "previous": "cf59d3fc-6250-11e8-b48c-0242ac110002"
    }
   },
   "outputs": [],
   "source": [
    "!pip install -U pip\n",
    "!pip install pip-review\n",
    "!sudo -H pip-review --auto\n",
    "!pip install parse"
   ]
  },
  {
   "cell_type": "markdown",
   "metadata": {
    "lc_cell_meme": {
     "current": "23081852-631d-11e8-a83e-0242ac110002",
     "history": [
      {
       "current": "23081852-631d-11e8-a83e-0242ac110002",
       "next": "23081abe-631d-11e8-a83e-0242ac110002",
       "previous": "cf59d398-6250-11e8-b48c-0242ac110002"
      },
      {
       "current": "23081852-631d-11e8-a83e-0242ac110002",
       "next": "23081abe-631d-11e8-a83e-0242ac110002",
       "previous": "cf59d3fc-6250-11e8-b48c-0242ac110002"
      }
     ],
     "next": "23081abe-631d-11e8-a83e-0242ac110002",
     "previous": "53722c08-63b3-11e8-8e10-0242ac110002"
    }
   },
   "source": [
    "システムの負荷状態を記録しておく。"
   ]
  },
  {
   "cell_type": "code",
   "execution_count": null,
   "metadata": {
    "lc_cell_meme": {
     "current": "23081abe-631d-11e8-a83e-0242ac110002",
     "history": [
      {
       "current": "23081abe-631d-11e8-a83e-0242ac110002",
       "next": "00c260aa-6268-11e8-b48c-0242ac110002",
       "previous": "23081852-631d-11e8-a83e-0242ac110002"
      }
     ],
     "next": "16dd9ac4-6251-11e8-b48c-0242ac110002",
     "previous": "23081852-631d-11e8-a83e-0242ac110002"
    },
    "scrolled": false
   },
   "outputs": [],
   "source": [
    "import datetime\n",
    "JST = datetime.timezone(datetime.timedelta(hours=+9), 'JST')\n",
    "\n",
    "import parse\n",
    "\n",
    "uptime_list = []\n",
    "\n",
    "uptime_str = !uptime\n",
    "uptime_clumn = parse.parse(\"{}load average: {:g}, {:g}, {:g}\", uptime_str[0])\n",
    "uptime_clumn = list(uptime_clumn)[1:]\n",
    "uptime_clumn.insert(0, datetime.datetime.now(JST))\n",
    "uptime_list.append(uptime_clumn)\n",
    "print(uptime_list)"
   ]
  },
  {
   "cell_type": "markdown",
   "metadata": {
    "lc_cell_meme": {
     "current": "16dd9ac4-6251-11e8-b48c-0242ac110002",
     "history": [
      {
       "current": "16dd9ac4-6251-11e8-b48c-0242ac110002",
       "next": "16dd9e8e-6251-11e8-b48c-0242ac110002",
       "previous": "cf59d3fc-6250-11e8-b48c-0242ac110002"
      },
      {
       "current": "16dd9ac4-6251-11e8-b48c-0242ac110002",
       "next": "00c26190-6268-11e8-b48c-0242ac110002",
       "previous": "cf59d3fc-6250-11e8-b48c-0242ac110002"
      },
      {
       "current": "16dd9ac4-6251-11e8-b48c-0242ac110002",
       "next": "16dd9e8e-6251-11e8-b48c-0242ac110002",
       "previous": "cf59d3fc-6250-11e8-b48c-0242ac110002"
      },
      {
       "current": "16dd9ac4-6251-11e8-b48c-0242ac110002",
       "next": "16dd9e8e-6251-11e8-b48c-0242ac110002",
       "previous": "23081abe-631d-11e8-a83e-0242ac110002"
      },
      {
       "current": "16dd9ac4-6251-11e8-b48c-0242ac110002",
       "next": "0c9d6276-6321-11e8-a83e-0242ac110002",
       "previous": "23081abe-631d-11e8-a83e-0242ac110002"
      }
     ],
     "next": "0c9d6762-6321-11e8-a83e-0242ac110002",
     "previous": "23081abe-631d-11e8-a83e-0242ac110002"
    }
   },
   "source": [
    "# ライブレスポンス\n",
    "\n",
    "参考：[インシデントレスポンス 第3版（日経BP社）](https://www.amazon.co.jp/dp/4822279871/) p179\n",
    "\n",
    "但し、本来は、調査対象ホスト上で実行すべき作業であるが、本ノートブックでは簡易なデモとして、Jupyterのコンテナ自身に対して作業を行う。"
   ]
  },
  {
   "cell_type": "markdown",
   "metadata": {
    "lc_cell_meme": {
     "current": "0c9d6762-6321-11e8-a83e-0242ac110002",
     "history": [
      {
       "current": "0c9d6762-6321-11e8-a83e-0242ac110002",
       "next": "16dd9e8e-6251-11e8-b48c-0242ac110002",
       "previous": "0c9d6276-6321-11e8-a83e-0242ac110002"
      }
     ],
     "next": "0c9d6276-6321-11e8-a83e-0242ac110002",
     "previous": "16dd9ac4-6251-11e8-b48c-0242ac110002"
    }
   },
   "source": [
    "<font color=\"Red\">前提条件を満たしていないと失敗する確認用のセル（Design By Contract）</font>\n",
    "\n",
    "使用するコマンド類が使えることを確認する。"
   ]
  },
  {
   "cell_type": "code",
   "execution_count": null,
   "metadata": {
    "lc_cell_meme": {
     "current": "0c9d6276-6321-11e8-a83e-0242ac110002",
     "history": [
      {
       "current": "0c9d6276-6321-11e8-a83e-0242ac110002",
       "next": "0c9d6762-6321-11e8-a83e-0242ac110002",
       "previous": "16dd9ac4-6251-11e8-b48c-0242ac110002"
      }
     ],
     "next": "16dd9e8e-6251-11e8-b48c-0242ac110002",
     "previous": "0c9d6762-6321-11e8-a83e-0242ac110002"
    }
   },
   "outputs": [],
   "source": [
    "!which sysv-rc-conf\n",
    "!which ip\n",
    "!which lsmod\n",
    "!which lsof"
   ]
  },
  {
   "cell_type": "markdown",
   "metadata": {
    "lc_cell_meme": {
     "current": "16dd9e8e-6251-11e8-b48c-0242ac110002",
     "history": [
      {
       "current": "16dd9e8e-6251-11e8-b48c-0242ac110002",
       "next": "cf59d46a-6250-11e8-b48c-0242ac110002",
       "previous": "16dd9ac4-6251-11e8-b48c-0242ac110002"
      },
      {
       "current": "16dd9e8e-6251-11e8-b48c-0242ac110002",
       "next": "cf59d46a-6250-11e8-b48c-0242ac110002",
       "previous": "00c26190-6268-11e8-b48c-0242ac110002"
      },
      {
       "current": "16dd9e8e-6251-11e8-b48c-0242ac110002",
       "next": "cf59d46a-6250-11e8-b48c-0242ac110002",
       "previous": "16dd9ac4-6251-11e8-b48c-0242ac110002"
      },
      {
       "current": "16dd9e8e-6251-11e8-b48c-0242ac110002",
       "next": "cf59d46a-6250-11e8-b48c-0242ac110002",
       "previous": "0c9d6762-6321-11e8-a83e-0242ac110002"
      }
     ],
     "next": "cf59d46a-6250-11e8-b48c-0242ac110002",
     "previous": "0c9d6276-6321-11e8-a83e-0242ac110002"
    }
   },
   "source": [
    "システムの日付と時間"
   ]
  },
  {
   "cell_type": "code",
   "execution_count": null,
   "metadata": {
    "lc_cell_meme": {
     "current": "cf59d46a-6250-11e8-b48c-0242ac110002",
     "history": [
      {
       "current": "cf59d46a-6250-11e8-b48c-0242ac110002",
       "next": null,
       "previous": "cf59d3fc-6250-11e8-b48c-0242ac110002"
      },
      {
       "current": "cf59d46a-6250-11e8-b48c-0242ac110002",
       "next": null,
       "previous": "16dd9e8e-6251-11e8-b48c-0242ac110002"
      }
     ],
     "next": "a5e9daf2-6251-11e8-b48c-0242ac110002",
     "previous": "16dd9e8e-6251-11e8-b48c-0242ac110002"
    }
   },
   "outputs": [],
   "source": [
    "!date"
   ]
  },
  {
   "cell_type": "markdown",
   "metadata": {
    "lc_cell_meme": {
     "current": "a5e9daf2-6251-11e8-b48c-0242ac110002",
     "history": [
      {
       "current": "a5e9daf2-6251-11e8-b48c-0242ac110002",
       "next": "a5e9dbd8-6251-11e8-b48c-0242ac110002",
       "previous": "cf59d46a-6250-11e8-b48c-0242ac110002"
      }
     ],
     "next": "5b640f22-6326-11e8-a83e-0242ac110002",
     "previous": "cf59d46a-6250-11e8-b48c-0242ac110002"
    }
   },
   "source": [
    "<font color=\"Red\">再利用性が高く、実行結果が安定している場合、実行結果をお手本に残す</font>\n",
    "\n",
    "インストールされているソフトウェア"
   ]
  },
  {
   "cell_type": "code",
   "execution_count": null,
   "metadata": {
    "lc_cell_meme": {
     "current": "5b640f22-6326-11e8-a83e-0242ac110002",
     "next": "a5e9dbd8-6251-11e8-b48c-0242ac110002",
     "previous": "a5e9daf2-6251-11e8-b48c-0242ac110002"
    }
   },
   "outputs": [],
   "source": [
    "%env lc_wrapper_force off"
   ]
  },
  {
   "cell_type": "code",
   "execution_count": null,
   "metadata": {
    "lc_cell_meme": {
     "current": "a5e9dbd8-6251-11e8-b48c-0242ac110002",
     "history": [
      {
       "current": "a5e9dbd8-6251-11e8-b48c-0242ac110002",
       "next": null,
       "previous": "a5e9daf2-6251-11e8-b48c-0242ac110002"
      },
      {
       "current": "a5e9dbd8-6251-11e8-b48c-0242ac110002",
       "next": "ed702ffc-6251-11e8-b48c-0242ac110002",
       "previous": "a5e9daf2-6251-11e8-b48c-0242ac110002"
      }
     ],
     "next": "5b6410f8-6326-11e8-a83e-0242ac110002",
     "previous": "5b640f22-6326-11e8-a83e-0242ac110002"
    },
    "pinned_outputs": [
     {
      "execution_count": 153,
      "outputs": [
       {
        "name": "stdout",
        "output_type": "stream",
        "text": "adduser\t\t\t\t\t\tinstall\r\napt\t\t\t\t\t\tinstall\r\nbase-files\t\t\t\t\tinstall\r\nbase-passwd\t\t\t\t\tinstall\r\nbash\t\t\t\t\t\tinstall\r\nbind9-host\t\t\t\t\tinstall\r\nbsdutils\t\t\t\t\tinstall\r\nbzip2\t\t\t\t\t\tinstall\r\nca-certificates\t\t\t\t\tinstall\r\ncoreutils\t\t\t\t\tinstall\r\ncurl\t\t\t\t\t\tinstall\r\ndash\t\t\t\t\t\tinstall\r\ndebconf\t\t\t\t\t\tinstall\r\ndebianutils\t\t\t\t\tinstall\r\ndiffutils\t\t\t\t\tinstall\r\ndnsutils\t\t\t\t\tinstall\r\ndpkg\t\t\t\t\t\tinstall\r\ne2fslibs:amd64\t\t\t\t\tinstall\r\ne2fsprogs\t\t\t\t\tinstall\r\nfindutils\t\t\t\t\tinstall\r\nfonts-ipafont-gothic\t\t\t\tinstall\r\nfonts-ipafont-mincho\t\t\t\tinstall\r\nfonts-liberation\t\t\t\tinstall\r\ngcc-5-base:amd64\t\t\t\tinstall\r\ngcc-6-base:amd64\t\t\t\tinstall\r\ngeoip-database\t\t\t\t\tinstall\r\ngit\t\t\t\t\t\tinstall\r\ngit-man\t\t\t\t\t\tinstall\r\ngnupg\t\t\t\t\t\tinstall\r\ngpgv\t\t\t\t\t\tinstall\r\ngrep\t\t\t\t\t\tinstall\r\ngwhois\t\t\t\t\t\tinstall\r\ngzip\t\t\t\t\t\tinstall\r\nhostname\t\t\t\t\tinstall\r\nifupdown\t\t\t\t\tinstall\r\ninit\t\t\t\t\t\tinstall\r\ninit-system-helpers\t\t\t\tinstall\r\ninitscripts\t\t\t\t\tinstall\r\ninsserv\t\t\t\t\t\tinstall\r\niproute2\t\t\t\t\tinstall\r\nisc-dhcp-client\t\t\t\t\tinstall\r\nisc-dhcp-common\t\t\t\t\tinstall\r\nkmod\t\t\t\t\t\tinstall\r\nlibacl1:amd64\t\t\t\t\tinstall\r\nlibapparmor1:amd64\t\t\t\tinstall\r\nlibapt-pkg5.0:amd64\t\t\t\tinstall\r\nlibasn1-8-heimdal:amd64\t\t\t\tinstall\r\nlibattr1:amd64\t\t\t\t\tinstall\r\nlibaudit-common\t\t\t\t\tinstall\r\nlibaudit1:amd64\t\t\t\t\tinstall\r\nlibauthen-sasl-perl\t\t\t\tinstall\r\nlibbind9-140:amd64\t\t\t\tinstall\r\nlibblas-common\t\t\t\t\tinstall\r\nlibblas3\t\t\t\t\tinstall\r\nlibblkid1:amd64\t\t\t\t\tinstall\r\nlibbsd0:amd64\t\t\t\t\tinstall\r\nlibbz2-1.0:amd64\t\t\t\tinstall\r\nlibc-bin\t\t\t\t\tinstall\r\nlibc6:amd64\t\t\t\t\tinstall\r\nlibcap2:amd64\t\t\t\t\tinstall\r\nlibcap2-bin\t\t\t\t\tinstall\r\nlibcomerr2:amd64\t\t\t\tinstall\r\nlibcryptsetup4:amd64\t\t\t\tinstall\r\nlibcurl3-gnutls:amd64\t\t\t\tinstall\r\nlibcurses-perl\t\t\t\t\tinstall\r\nlibcurses-ui-perl\t\t\t\tinstall\r\nlibdb5.3:amd64\t\t\t\t\tinstall\r\nlibdebconfclient0:amd64\t\t\t\tinstall\r\nlibdevmapper1.02.1:amd64\t\t\tinstall\r\nlibdns-export162\t\t\t\tinstall\r\nlibdns162:amd64\t\t\t\t\tinstall\r\nlibencode-locale-perl\t\t\t\tinstall\r\nliberror-perl\t\t\t\t\tinstall\r\nlibexpat1:amd64\t\t\t\t\tinstall\r\nlibfdisk1:amd64\t\t\t\t\tinstall\r\nlibffi6:amd64\t\t\t\t\tinstall\r\nlibfile-listing-perl\t\t\t\tinstall\r\nlibfont-afm-perl\t\t\t\tinstall\r\nlibgcc1:amd64\t\t\t\t\tinstall\r\nlibgcrypt20:amd64\t\t\t\tinstall\r\nlibgdbm3:amd64\t\t\t\t\tinstall\r\nlibgeoip1:amd64\t\t\t\t\tinstall\r\nlibgmp10:amd64\t\t\t\t\tinstall\r\nlibgnutls30:amd64\t\t\t\tinstall\r\nlibgpg-error0:amd64\t\t\t\tinstall\r\nlibgpm2:amd64\t\t\t\t\tinstall\r\nlibgssapi-krb5-2:amd64\t\t\t\tinstall\r\nlibgssapi3-heimdal:amd64\t\t\tinstall\r\nlibhcrypto4-heimdal:amd64\t\t\tinstall\r\nlibheimbase1-heimdal:amd64\t\t\tinstall\r\nlibheimntlm0-heimdal:amd64\t\t\tinstall\r\nlibhogweed4:amd64\t\t\t\tinstall\r\nlibhtml-form-perl\t\t\t\tinstall\r\nlibhtml-format-perl\t\t\t\tinstall\r\nlibhtml-parser-perl\t\t\t\tinstall\r\nlibhtml-tagset-perl\t\t\t\tinstall\r\nlibhtml-tree-perl\t\t\t\tinstall\r\nlibhttp-cookies-perl\t\t\t\tinstall\r\nlibhttp-daemon-perl\t\t\t\tinstall\r\nlibhttp-date-perl\t\t\t\tinstall\r\nlibhttp-message-perl\t\t\t\tinstall\r\nlibhttp-negotiate-perl\t\t\t\tinstall\r\nlibhx509-5-heimdal:amd64\t\t\tinstall\r\nlibicu55:amd64\t\t\t\t\tinstall\r\nlibidn11:amd64\t\t\t\t\tinstall\r\nlibio-html-perl\t\t\t\t\tinstall\r\nlibio-socket-ssl-perl\t\t\t\tinstall\r\nlibisc-export160\t\t\t\tinstall\r\nlibisc160:amd64\t\t\t\t\tinstall\r\nlibisccc140:amd64\t\t\t\tinstall\r\nlibisccfg140:amd64\t\t\t\tinstall\r\nlibk5crypto3:amd64\t\t\t\tinstall\r\nlibkeyutils1:amd64\t\t\t\tinstall\r\nlibkmod2:amd64\t\t\t\t\tinstall\r\nlibkrb5-26-heimdal:amd64\t\t\tinstall\r\nlibkrb5-3:amd64\t\t\t\t\tinstall\r\nlibkrb5support0:amd64\t\t\t\tinstall\r\nlibldap-2.4-2:amd64\t\t\t\tinstall\r\nliblinear3:amd64\t\t\t\tinstall\r\nliblua5.2-0:amd64\t\t\t\tinstall\r\nliblwp-mediatypes-perl\t\t\t\tinstall\r\nliblwp-protocol-https-perl\t\t\tinstall\r\nliblwres141:amd64\t\t\t\tinstall\r\nliblz4-1:amd64\t\t\t\t\tinstall\r\nliblzma5:amd64\t\t\t\t\tinstall\r\nlibmailtools-perl\t\t\t\tinstall\r\nlibmnl0:amd64\t\t\t\t\tinstall\r\nlibmount1:amd64\t\t\t\t\tinstall\r\nlibmpdec2:amd64\t\t\t\t\tinstall\r\nlibncurses5:amd64\t\t\t\tinstall\r\nlibncursesw5:amd64\t\t\t\tinstall\r\nlibnet-http-perl\t\t\t\tinstall\r\nlibnet-libidn-perl\t\t\t\tinstall\r\nlibnet-smtp-ssl-perl\t\t\t\tinstall\r\nlibnet-ssleay-perl\t\t\t\tinstall\r\nlibnettle6:amd64\t\t\t\tinstall\r\nlibp11-kit0:amd64\t\t\t\tinstall\r\nlibpam-modules:amd64\t\t\t\tinstall\r\nlibpam-modules-bin\t\t\t\tinstall\r\nlibpam-runtime\t\t\t\t\tinstall\r\nlibpam0g:amd64\t\t\t\t\tinstall\r\nlibpcap0.8:amd64\t\t\t\tinstall\r\nlibpcre3:amd64\t\t\t\t\tinstall\r\nlibperl5.22:amd64\t\t\t\tinstall\r\nlibprocps4:amd64\t\t\t\tinstall\r\nlibpython-stdlib:amd64\t\t\t\tinstall\r\nlibpython2.7-minimal:amd64\t\t\tinstall\r\nlibpython2.7-stdlib:amd64\t\t\tinstall\r\nlibpython3.5:amd64\t\t\t\tinstall\r\nlibpython3.5-minimal:amd64\t\t\tinstall\r\nlibpython3.5-stdlib:amd64\t\t\tinstall\r\nlibreadline6:amd64\t\t\t\tinstall\r\nlibroken18-heimdal:amd64\t\t\tinstall\r\nlibrtmp1:amd64\t\t\t\t\tinstall\r\nlibsasl2-2:amd64\t\t\t\tinstall\r\nlibsasl2-modules-db:amd64\t\t\tinstall\r\nlibseccomp2:amd64\t\t\t\tinstall\r\nlibselinux1:amd64\t\t\t\tinstall\r\nlibsemanage-common\t\t\t\tinstall\r\nlibsemanage1:amd64\t\t\t\tinstall\r\nlibsepol1:amd64\t\t\t\t\tinstall\r\nlibsmartcols1:amd64\t\t\t\tinstall\r\nlibsqlite3-0:amd64\t\t\t\tinstall\r\nlibss2:amd64\t\t\t\t\tinstall\r\nlibssl1.0.0:amd64\t\t\t\tinstall\r\nlibstdc++6:amd64\t\t\t\tinstall\r\nlibsystemd0:amd64\t\t\t\tinstall\r\nlibtasn1-6:amd64\t\t\t\tinstall\r\nlibterm-readkey-perl\t\t\t\tinstall\r\nlibtimedate-perl\t\t\t\tinstall\r\nlibtinfo5:amd64\t\t\t\t\tinstall\r\nlibudev1:amd64\t\t\t\t\tinstall\r\nliburi-perl\t\t\t\t\tinstall\r\nlibusb-0.1-4:amd64\t\t\t\tinstall\r\nlibustr-1.0-1:amd64\t\t\t\tinstall\r\nlibuuid1:amd64\t\t\t\t\tinstall\r\nlibwind0-heimdal:amd64\t\t\t\tinstall\r\nlibwww-perl\t\t\t\t\tinstall\r\nlibwww-robotrules-perl\t\t\t\tinstall\r\nlibxml2:amd64\t\t\t\t\tinstall\r\nlibxslt1.1:amd64\t\t\t\tinstall\r\nlocales\t\t\t\t\t\tinstall\r\nlogin\t\t\t\t\t\tinstall\r\nlsb-base\t\t\t\t\tinstall\r\nlsof\t\t\t\t\t\tinstall\r\nlua-lpeg:amd64\t\t\t\t\tinstall\r\nlynx\t\t\t\t\t\tinstall\r\nlynx-common\t\t\t\t\tinstall\r\nlynx-cur\t\t\t\t\tinstall\r\nmakedev\t\t\t\t\t\tinstall\r\nmawk\t\t\t\t\t\tinstall\r\nmime-support\t\t\t\t\tinstall\r\nmount\t\t\t\t\t\tinstall\r\nmultiarch-support\t\t\t\tinstall\r\nncurses-base\t\t\t\t\tinstall\r\nncurses-bin\t\t\t\t\tinstall\r\nndiff\t\t\t\t\t\tinstall\r\nnetbase\t\t\t\t\t\tinstall\r\nnetcat\t\t\t\t\t\tinstall\r\nnetcat-traditional\t\t\t\tinstall\r\nnmap\t\t\t\t\t\tinstall\r\nopenssl\t\t\t\t\t\tinstall\r\npasswd\t\t\t\t\t\tinstall\r\nperl\t\t\t\t\t\tinstall\r\nperl-base\t\t\t\t\tinstall\r\nperl-modules-5.22\t\t\t\tinstall\r\nprocps\t\t\t\t\t\tinstall\r\npython\t\t\t\t\t\tinstall\r\npython-bs4\t\t\t\t\tinstall\r\npython-chardet\t\t\t\t\tinstall\r\npython-html5lib\t\t\t\t\tinstall\r\npython-lxml\t\t\t\t\tinstall\r\npython-minimal\t\t\t\t\tinstall\r\npython-pkg-resources\t\t\t\tinstall\r\npython-six\t\t\t\t\tinstall\r\npython2.7\t\t\t\t\tinstall\r\npython2.7-minimal\t\t\t\tinstall\r\nreadline-common\t\t\t\t\tinstall\r\nsed\t\t\t\t\t\tinstall\r\nsensible-utils\t\t\t\t\tinstall\r\nsgml-base\t\t\t\t\tinstall\r\nsudo\t\t\t\t\t\tinstall\r\nsystemd\t\t\t\t\t\tinstall\r\nsystemd-sysv\t\t\t\t\tinstall\r\nsysv-rc\t\t\t\t\t\tinstall\r\nsysv-rc-conf\t\t\t\t\tinstall\r\nsysvinit-utils\t\t\t\t\tinstall\r\ntar\t\t\t\t\t\tinstall\r\nubuntu-keyring\t\t\t\t\tinstall\r\nunzip\t\t\t\t\t\tinstall\r\nutil-linux\t\t\t\t\tinstall\r\nvim\t\t\t\t\t\tinstall\r\nvim-common\t\t\t\t\tinstall\r\nvim-runtime\t\t\t\t\tinstall\r\nwget\t\t\t\t\t\tinstall\r\nxml-core\t\t\t\t\tinstall\r\nzlib1g:amd64\t\t\t\t\tinstall\r\n"
       }
      ]
     }
    ]
   },
   "outputs": [],
   "source": [
    "!dpkg --get-selections"
   ]
  },
  {
   "cell_type": "code",
   "execution_count": null,
   "metadata": {
    "lc_cell_meme": {
     "current": "5b6410f8-6326-11e8-a83e-0242ac110002",
     "next": "ed702ffc-6251-11e8-b48c-0242ac110002",
     "previous": "a5e9dbd8-6251-11e8-b48c-0242ac110002"
    }
   },
   "outputs": [],
   "source": [
    "%env lc_wrapper_force on"
   ]
  },
  {
   "cell_type": "markdown",
   "metadata": {
    "lc_cell_meme": {
     "current": "ed702ffc-6251-11e8-b48c-0242ac110002",
     "history": [
      {
       "current": "ed702ffc-6251-11e8-b48c-0242ac110002",
       "next": "ed7031fa-6251-11e8-b48c-0242ac110002",
       "previous": "a5e9dbd8-6251-11e8-b48c-0242ac110002"
      }
     ],
     "next": "ed7031fa-6251-11e8-b48c-0242ac110002",
     "previous": "5b6410f8-6326-11e8-a83e-0242ac110002"
    }
   },
   "source": [
    "ファイルシステム情報"
   ]
  },
  {
   "cell_type": "code",
   "execution_count": null,
   "metadata": {
    "lc_cell_meme": {
     "current": "ed7031fa-6251-11e8-b48c-0242ac110002",
     "next": "ed703326-6251-11e8-b48c-0242ac110002",
     "previous": "ed702ffc-6251-11e8-b48c-0242ac110002"
    }
   },
   "outputs": [],
   "source": [
    "!mount -l"
   ]
  },
  {
   "cell_type": "code",
   "execution_count": null,
   "metadata": {
    "lc_cell_meme": {
     "current": "ed703326-6251-11e8-b48c-0242ac110002",
     "next": "ed703420-6251-11e8-b48c-0242ac110002",
     "previous": "ed7031fa-6251-11e8-b48c-0242ac110002"
    }
   },
   "outputs": [],
   "source": [
    "!df -Th"
   ]
  },
  {
   "cell_type": "code",
   "execution_count": null,
   "metadata": {
    "lc_cell_meme": {
     "current": "ed703420-6251-11e8-b48c-0242ac110002",
     "history": [
      {
       "current": "ed703420-6251-11e8-b48c-0242ac110002",
       "next": null,
       "previous": "ed703326-6251-11e8-b48c-0242ac110002"
      }
     ],
     "next": "34f8890a-6252-11e8-b48c-0242ac110002",
     "previous": "ed703326-6251-11e8-b48c-0242ac110002"
    }
   },
   "outputs": [],
   "source": [
    "!fdisk -l"
   ]
  },
  {
   "cell_type": "markdown",
   "metadata": {
    "lc_cell_meme": {
     "current": "34f8890a-6252-11e8-b48c-0242ac110002",
     "next": "34f88cfc-6252-11e8-b48c-0242ac110002",
     "previous": "ed703420-6251-11e8-b48c-0242ac110002"
    }
   },
   "source": [
    "OSのバージョン"
   ]
  },
  {
   "cell_type": "code",
   "execution_count": null,
   "metadata": {
    "lc_cell_meme": {
     "current": "34f88cfc-6252-11e8-b48c-0242ac110002",
     "history": [
      {
       "current": "34f88cfc-6252-11e8-b48c-0242ac110002",
       "next": null,
       "previous": "34f8890a-6252-11e8-b48c-0242ac110002"
      }
     ],
     "next": "7c7d68c2-6252-11e8-b48c-0242ac110002",
     "previous": "34f8890a-6252-11e8-b48c-0242ac110002"
    }
   },
   "outputs": [],
   "source": [
    "!cat /etc/issue"
   ]
  },
  {
   "cell_type": "markdown",
   "metadata": {
    "lc_cell_meme": {
     "current": "7c7d68c2-6252-11e8-b48c-0242ac110002",
     "next": "7c7d69c6-6252-11e8-b48c-0242ac110002",
     "previous": "34f88cfc-6252-11e8-b48c-0242ac110002"
    }
   },
   "source": [
    "カーネルのバージョン"
   ]
  },
  {
   "cell_type": "code",
   "execution_count": null,
   "metadata": {
    "lc_cell_meme": {
     "current": "7c7d69c6-6252-11e8-b48c-0242ac110002",
     "next": "7c7d6a52-6252-11e8-b48c-0242ac110002",
     "previous": "7c7d68c2-6252-11e8-b48c-0242ac110002"
    }
   },
   "outputs": [],
   "source": [
    "!uname -a"
   ]
  },
  {
   "cell_type": "markdown",
   "metadata": {
    "lc_cell_meme": {
     "current": "7c7d6a52-6252-11e8-b48c-0242ac110002",
     "history": [
      {
       "current": "7c7d6a52-6252-11e8-b48c-0242ac110002",
       "next": null,
       "previous": "7c7d69c6-6252-11e8-b48c-0242ac110002"
      }
     ],
     "next": "c4759492-6252-11e8-b48c-0242ac110002",
     "previous": "7c7d69c6-6252-11e8-b48c-0242ac110002"
    }
   },
   "source": [
    "稼働時間"
   ]
  },
  {
   "cell_type": "code",
   "execution_count": null,
   "metadata": {
    "lc_cell_meme": {
     "current": "c4759492-6252-11e8-b48c-0242ac110002",
     "next": "c475967c-6252-11e8-b48c-0242ac110002",
     "previous": "7c7d6a52-6252-11e8-b48c-0242ac110002"
    }
   },
   "outputs": [],
   "source": [
    "!w"
   ]
  },
  {
   "cell_type": "markdown",
   "metadata": {
    "lc_cell_meme": {
     "current": "c475967c-6252-11e8-b48c-0242ac110002",
     "next": "c475976c-6252-11e8-b48c-0242ac110002",
     "previous": "c4759492-6252-11e8-b48c-0242ac110002"
    }
   },
   "source": [
    "cron"
   ]
  },
  {
   "cell_type": "code",
   "execution_count": null,
   "metadata": {
    "lc_cell_meme": {
     "current": "c475976c-6252-11e8-b48c-0242ac110002",
     "history": [
      {
       "current": "c475976c-6252-11e8-b48c-0242ac110002",
       "next": "c4759848-6252-11e8-b48c-0242ac110002",
       "previous": "c475967c-6252-11e8-b48c-0242ac110002"
      }
     ],
     "next": "9a999b18-6253-11e8-b48c-0242ac110002",
     "previous": "c475967c-6252-11e8-b48c-0242ac110002"
    }
   },
   "outputs": [],
   "source": [
    "!find /var/spool/cron -type f -print0 | xargs -0 more | cat"
   ]
  },
  {
   "cell_type": "code",
   "execution_count": null,
   "metadata": {
    "lc_cell_meme": {
     "current": "9a999b18-6253-11e8-b48c-0242ac110002",
     "history": [
      {
       "current": "9a999b18-6253-11e8-b48c-0242ac110002",
       "next": null,
       "previous": "c4759848-6252-11e8-b48c-0242ac110002"
      },
      {
       "current": "9a999b18-6253-11e8-b48c-0242ac110002",
       "next": "003871e6-6255-11e8-b48c-0242ac110002",
       "previous": "c4759848-6252-11e8-b48c-0242ac110002"
      }
     ],
     "next": "003871e6-6255-11e8-b48c-0242ac110002",
     "previous": "c475976c-6252-11e8-b48c-0242ac110002"
    }
   },
   "outputs": [],
   "source": [
    "!find /etc/cron.* -type f -print0 | xargs -0 more | cat"
   ]
  },
  {
   "cell_type": "markdown",
   "metadata": {
    "lc_cell_meme": {
     "current": "003871e6-6255-11e8-b48c-0242ac110002",
     "history": [
      {
       "current": "003871e6-6255-11e8-b48c-0242ac110002",
       "next": null,
       "previous": "9a999b18-6253-11e8-b48c-0242ac110002"
      }
     ],
     "next": "47c14cc2-6255-11e8-b48c-0242ac110002",
     "previous": "9a999b18-6253-11e8-b48c-0242ac110002"
    }
   },
   "source": [
    "サービス"
   ]
  },
  {
   "cell_type": "code",
   "execution_count": null,
   "metadata": {
    "lc_cell_meme": {
     "current": "47c14cc2-6255-11e8-b48c-0242ac110002",
     "next": "47c150fa-6255-11e8-b48c-0242ac110002",
     "previous": "003871e6-6255-11e8-b48c-0242ac110002"
    }
   },
   "outputs": [],
   "source": [
    "!sudo sysv-rc-conf --list"
   ]
  },
  {
   "cell_type": "markdown",
   "metadata": {
    "lc_cell_meme": {
     "current": "47c150fa-6255-11e8-b48c-0242ac110002",
     "next": "47c153c0-6255-11e8-b48c-0242ac110002",
     "previous": "47c14cc2-6255-11e8-b48c-0242ac110002"
    }
   },
   "source": [
    "ユーザアカウント"
   ]
  },
  {
   "cell_type": "code",
   "execution_count": null,
   "metadata": {
    "lc_cell_meme": {
     "current": "47c153c0-6255-11e8-b48c-0242ac110002",
     "history": [
      {
       "current": "47c153c0-6255-11e8-b48c-0242ac110002",
       "next": "47c15640-6255-11e8-b48c-0242ac110002",
       "previous": "47c150fa-6255-11e8-b48c-0242ac110002"
      }
     ],
     "next": "ad5fe466-6256-11e8-b48c-0242ac110002",
     "previous": "47c150fa-6255-11e8-b48c-0242ac110002"
    }
   },
   "outputs": [],
   "source": [
    "!cat /etc/passwd"
   ]
  },
  {
   "cell_type": "code",
   "execution_count": null,
   "metadata": {
    "lc_cell_meme": {
     "current": "ad5fe466-6256-11e8-b48c-0242ac110002",
     "next": "47c15640-6255-11e8-b48c-0242ac110002",
     "previous": "47c153c0-6255-11e8-b48c-0242ac110002"
    }
   },
   "outputs": [],
   "source": [
    "!sudo cat /etc/shadow"
   ]
  },
  {
   "cell_type": "markdown",
   "metadata": {
    "lc_cell_meme": {
     "current": "47c15640-6255-11e8-b48c-0242ac110002",
     "history": [
      {
       "current": "47c15640-6255-11e8-b48c-0242ac110002",
       "next": null,
       "previous": "47c153c0-6255-11e8-b48c-0242ac110002"
      },
      {
       "current": "47c15640-6255-11e8-b48c-0242ac110002",
       "next": "8f46b3b6-6255-11e8-b48c-0242ac110002",
       "previous": "47c153c0-6255-11e8-b48c-0242ac110002"
      }
     ],
     "next": "8f46b3b6-6255-11e8-b48c-0242ac110002",
     "previous": "ad5fe466-6256-11e8-b48c-0242ac110002"
    }
   },
   "source": [
    "グループ"
   ]
  },
  {
   "cell_type": "code",
   "execution_count": null,
   "metadata": {
    "lc_cell_meme": {
     "current": "8f46b3b6-6255-11e8-b48c-0242ac110002",
     "next": "8f46b9e2-6255-11e8-b48c-0242ac110002",
     "previous": "47c15640-6255-11e8-b48c-0242ac110002"
    }
   },
   "outputs": [],
   "source": [
    "!cat /etc/group"
   ]
  },
  {
   "cell_type": "markdown",
   "metadata": {
    "lc_cell_meme": {
     "current": "8f46b9e2-6255-11e8-b48c-0242ac110002",
     "next": "8f46be2e-6255-11e8-b48c-0242ac110002",
     "previous": "8f46b3b6-6255-11e8-b48c-0242ac110002"
    }
   },
   "source": [
    "ネットワークインタフェース"
   ]
  },
  {
   "cell_type": "code",
   "execution_count": null,
   "metadata": {
    "lc_cell_meme": {
     "current": "8f46be2e-6255-11e8-b48c-0242ac110002",
     "history": [
      {
       "current": "8f46be2e-6255-11e8-b48c-0242ac110002",
       "next": "8f46c0d6-6255-11e8-b48c-0242ac110002",
       "previous": "8f46b9e2-6255-11e8-b48c-0242ac110002"
      },
      {
       "current": "8f46be2e-6255-11e8-b48c-0242ac110002",
       "next": "83f3724a-6257-11e8-b48c-0242ac110002",
       "previous": "8f46b9e2-6255-11e8-b48c-0242ac110002"
      },
      {
       "current": "8f46be2e-6255-11e8-b48c-0242ac110002",
       "next": "8f46c0d6-6255-11e8-b48c-0242ac110002",
       "previous": "8f46b9e2-6255-11e8-b48c-0242ac110002"
      }
     ],
     "next": "1302a74e-6258-11e8-b48c-0242ac110002",
     "previous": "8f46b9e2-6255-11e8-b48c-0242ac110002"
    }
   },
   "outputs": [],
   "source": [
    "!ip a"
   ]
  },
  {
   "cell_type": "code",
   "execution_count": null,
   "metadata": {
    "lc_cell_meme": {
     "current": "1302a74e-6258-11e8-b48c-0242ac110002",
     "next": "8f46c0d6-6255-11e8-b48c-0242ac110002",
     "previous": "8f46be2e-6255-11e8-b48c-0242ac110002"
    }
   },
   "outputs": [],
   "source": [
    "!ip -s l"
   ]
  },
  {
   "cell_type": "markdown",
   "metadata": {
    "lc_cell_meme": {
     "current": "8f46c0d6-6255-11e8-b48c-0242ac110002",
     "history": [
      {
       "current": "8f46c0d6-6255-11e8-b48c-0242ac110002",
       "next": null,
       "previous": "8f46be2e-6255-11e8-b48c-0242ac110002"
      },
      {
       "current": "8f46c0d6-6255-11e8-b48c-0242ac110002",
       "next": "d6cb9c74-6255-11e8-b48c-0242ac110002",
       "previous": "8f46be2e-6255-11e8-b48c-0242ac110002"
      },
      {
       "current": "8f46c0d6-6255-11e8-b48c-0242ac110002",
       "next": "d6cb9c74-6255-11e8-b48c-0242ac110002",
       "previous": "83f3724a-6257-11e8-b48c-0242ac110002"
      },
      {
       "current": "8f46c0d6-6255-11e8-b48c-0242ac110002",
       "next": "d6cb9c74-6255-11e8-b48c-0242ac110002",
       "previous": "8f46be2e-6255-11e8-b48c-0242ac110002"
      }
     ],
     "next": "d6cb9c74-6255-11e8-b48c-0242ac110002",
     "previous": "1302a74e-6258-11e8-b48c-0242ac110002"
    }
   },
   "source": [
    "ルーティングテーブル"
   ]
  },
  {
   "cell_type": "code",
   "execution_count": null,
   "metadata": {
    "lc_cell_meme": {
     "current": "d6cb9c74-6255-11e8-b48c-0242ac110002",
     "history": [
      {
       "current": "d6cb9c74-6255-11e8-b48c-0242ac110002",
       "next": "d6cb9e2c-6255-11e8-b48c-0242ac110002",
       "previous": "8f46c0d6-6255-11e8-b48c-0242ac110002"
      },
      {
       "current": "d6cb9c74-6255-11e8-b48c-0242ac110002",
       "next": "9ab38646-6257-11e8-b48c-0242ac110002",
       "previous": "8f46c0d6-6255-11e8-b48c-0242ac110002"
      }
     ],
     "next": "d6cb9e2c-6255-11e8-b48c-0242ac110002",
     "previous": "8f46c0d6-6255-11e8-b48c-0242ac110002"
    }
   },
   "outputs": [],
   "source": [
    "!ip r"
   ]
  },
  {
   "cell_type": "markdown",
   "metadata": {
    "lc_cell_meme": {
     "current": "d6cb9e2c-6255-11e8-b48c-0242ac110002",
     "history": [
      {
       "current": "d6cb9e2c-6255-11e8-b48c-0242ac110002",
       "next": "d6cb9f4e-6255-11e8-b48c-0242ac110002",
       "previous": "d6cb9c74-6255-11e8-b48c-0242ac110002"
      },
      {
       "current": "d6cb9e2c-6255-11e8-b48c-0242ac110002",
       "next": "d6cb9f4e-6255-11e8-b48c-0242ac110002",
       "previous": "9ab38646-6257-11e8-b48c-0242ac110002"
      }
     ],
     "next": "d6cb9f4e-6255-11e8-b48c-0242ac110002",
     "previous": "d6cb9c74-6255-11e8-b48c-0242ac110002"
    }
   },
   "source": [
    "ARPテーブル"
   ]
  },
  {
   "cell_type": "code",
   "execution_count": null,
   "metadata": {
    "lc_cell_meme": {
     "current": "d6cb9f4e-6255-11e8-b48c-0242ac110002",
     "next": "d6cba016-6255-11e8-b48c-0242ac110002",
     "previous": "d6cb9e2c-6255-11e8-b48c-0242ac110002"
    }
   },
   "outputs": [],
   "source": [
    "!ip n"
   ]
  },
  {
   "cell_type": "markdown",
   "metadata": {
    "lc_cell_meme": {
     "current": "d6cba016-6255-11e8-b48c-0242ac110002",
     "next": "d6cba12e-6255-11e8-b48c-0242ac110002",
     "previous": "d6cb9f4e-6255-11e8-b48c-0242ac110002"
    }
   },
   "source": [
    "ネットワーク接続\n",
    "\n",
    "TCPとUDPそれぞれ"
   ]
  },
  {
   "cell_type": "code",
   "execution_count": null,
   "metadata": {
    "lc_cell_meme": {
     "current": "d6cba12e-6255-11e8-b48c-0242ac110002",
     "history": [
      {
       "current": "d6cba12e-6255-11e8-b48c-0242ac110002",
       "next": "d6cba1b0-6255-11e8-b48c-0242ac110002",
       "previous": "d6cba016-6255-11e8-b48c-0242ac110002"
      }
     ],
     "next": "a20d6b90-6258-11e8-b48c-0242ac110002",
     "previous": "d6cba016-6255-11e8-b48c-0242ac110002"
    }
   },
   "outputs": [],
   "source": [
    "!ss -nat"
   ]
  },
  {
   "cell_type": "code",
   "execution_count": null,
   "metadata": {
    "lc_cell_meme": {
     "current": "a20d6b90-6258-11e8-b48c-0242ac110002",
     "next": "d6cba1b0-6255-11e8-b48c-0242ac110002",
     "previous": "d6cba12e-6255-11e8-b48c-0242ac110002"
    }
   },
   "outputs": [],
   "source": [
    "!ss -nau"
   ]
  },
  {
   "cell_type": "markdown",
   "metadata": {
    "lc_cell_meme": {
     "current": "d6cba1b0-6255-11e8-b48c-0242ac110002",
     "history": [
      {
       "current": "d6cba1b0-6255-11e8-b48c-0242ac110002",
       "next": null,
       "previous": "d6cba12e-6255-11e8-b48c-0242ac110002"
      },
      {
       "current": "d6cba1b0-6255-11e8-b48c-0242ac110002",
       "next": "1ec3fb84-6256-11e8-b48c-0242ac110002",
       "previous": "d6cba12e-6255-11e8-b48c-0242ac110002"
      }
     ],
     "next": "1ec3fb84-6256-11e8-b48c-0242ac110002",
     "previous": "a20d6b90-6258-11e8-b48c-0242ac110002"
    }
   },
   "source": [
    "ロードされているドライバ"
   ]
  },
  {
   "cell_type": "code",
   "execution_count": null,
   "metadata": {
    "lc_cell_meme": {
     "current": "1ec3fb84-6256-11e8-b48c-0242ac110002",
     "history": [
      {
       "current": "1ec3fb84-6256-11e8-b48c-0242ac110002",
       "next": null,
       "previous": "d6cba1b0-6255-11e8-b48c-0242ac110002"
      }
     ],
     "next": "ea0518f8-6258-11e8-b48c-0242ac110002",
     "previous": "d6cba1b0-6255-11e8-b48c-0242ac110002"
    }
   },
   "outputs": [],
   "source": [
    "!lsmod"
   ]
  },
  {
   "cell_type": "markdown",
   "metadata": {
    "lc_cell_meme": {
     "current": "ea0518f8-6258-11e8-b48c-0242ac110002",
     "history": [
      {
       "current": "ea0518f8-6258-11e8-b48c-0242ac110002",
       "next": null,
       "previous": "1ec3fb84-6256-11e8-b48c-0242ac110002"
      }
     ],
     "next": "78a0cd50-6259-11e8-b48c-0242ac110002",
     "previous": "1ec3fb84-6256-11e8-b48c-0242ac110002"
    }
   },
   "source": [
    "オープン中のファイルとハンドル"
   ]
  },
  {
   "cell_type": "code",
   "execution_count": null,
   "metadata": {
    "lc_cell_meme": {
     "current": "78a0cd50-6259-11e8-b48c-0242ac110002",
     "history": [
      {
       "current": "78a0cd50-6259-11e8-b48c-0242ac110002",
       "next": "78a0ce4a-6259-11e8-b48c-0242ac110002",
       "previous": "ea0518f8-6258-11e8-b48c-0242ac110002"
      }
     ],
     "next": "c028edc4-6259-11e8-b48c-0242ac110002",
     "previous": "ea0518f8-6258-11e8-b48c-0242ac110002"
    }
   },
   "outputs": [],
   "source": [
    "!lsof"
   ]
  },
  {
   "cell_type": "markdown",
   "metadata": {
    "lc_cell_meme": {
     "current": "c028edc4-6259-11e8-b48c-0242ac110002",
     "next": "78a0ce4a-6259-11e8-b48c-0242ac110002",
     "previous": "78a0cd50-6259-11e8-b48c-0242ac110002"
    }
   },
   "source": [
    "実行中のプロセスとスレッド"
   ]
  },
  {
   "cell_type": "code",
   "execution_count": null,
   "metadata": {
    "lc_cell_meme": {
     "current": "78a0ce4a-6259-11e8-b48c-0242ac110002",
     "history": [
      {
       "current": "78a0ce4a-6259-11e8-b48c-0242ac110002",
       "next": null,
       "previous": "78a0cd50-6259-11e8-b48c-0242ac110002"
      },
      {
       "current": "78a0ce4a-6259-11e8-b48c-0242ac110002",
       "next": null,
       "previous": "c028edc4-6259-11e8-b48c-0242ac110002"
      }
     ],
     "next": "07af6a38-625a-11e8-b48c-0242ac110002",
     "previous": "c028edc4-6259-11e8-b48c-0242ac110002"
    }
   },
   "outputs": [],
   "source": [
    "!ps auxwwwem"
   ]
  },
  {
   "cell_type": "markdown",
   "metadata": {
    "lc_cell_meme": {
     "current": "07af6a38-625a-11e8-b48c-0242ac110002",
     "next": "07af6e02-625a-11e8-b48c-0242ac110002",
     "previous": "78a0ce4a-6259-11e8-b48c-0242ac110002"
    }
   },
   "source": [
    "設定情報の保全"
   ]
  },
  {
   "cell_type": "code",
   "execution_count": null,
   "metadata": {
    "lc_cell_meme": {
     "current": "07af6e02-625a-11e8-b48c-0242ac110002",
     "history": [
      {
       "current": "07af6e02-625a-11e8-b48c-0242ac110002",
       "next": null,
       "previous": "07af6a38-625a-11e8-b48c-0242ac110002"
      }
     ],
     "next": "4fa75472-625a-11e8-b48c-0242ac110002",
     "previous": "07af6a38-625a-11e8-b48c-0242ac110002"
    }
   },
   "outputs": [],
   "source": [
    "!rm -f host_etc.tar.gz ; sudo tar cvzf host_etc.tar.gz /etc/ ; ls -la host_etc.tar.gz"
   ]
  },
  {
   "cell_type": "markdown",
   "metadata": {
    "lc_cell_meme": {
     "current": "4fa75472-625a-11e8-b48c-0242ac110002",
     "history": [
      {
       "current": "4fa75472-625a-11e8-b48c-0242ac110002",
       "next": null,
       "previous": "07af6e02-625a-11e8-b48c-0242ac110002"
      }
     ],
     "next": "fc5f9bb0-625b-11e8-b48c-0242ac110002",
     "previous": "07af6e02-625a-11e8-b48c-0242ac110002"
    }
   },
   "source": [
    "システムログの保全"
   ]
  },
  {
   "cell_type": "code",
   "execution_count": null,
   "metadata": {
    "lc_cell_meme": {
     "current": "fc5f9bb0-625b-11e8-b48c-0242ac110002",
     "history": [
      {
       "current": "fc5f9bb0-625b-11e8-b48c-0242ac110002",
       "next": "fc5f9d4a-625b-11e8-b48c-0242ac110002",
       "previous": "4fa75472-625a-11e8-b48c-0242ac110002"
      },
      {
       "current": "fc5f9bb0-625b-11e8-b48c-0242ac110002",
       "next": "8bdbc250-625c-11e8-b48c-0242ac110002",
       "previous": "4fa75472-625a-11e8-b48c-0242ac110002"
      },
      {
       "current": "fc5f9bb0-625b-11e8-b48c-0242ac110002",
       "next": "e6869ef2-625f-11e8-b48c-0242ac110002",
       "previous": "4fa75472-625a-11e8-b48c-0242ac110002"
      }
     ],
     "next": "5eedce84-6264-11e8-b48c-0242ac110002",
     "previous": "4fa75472-625a-11e8-b48c-0242ac110002"
    }
   },
   "outputs": [],
   "source": [
    "!rm -f host_log.tar.gz ; sudo tar cvzf host_log.tar.gz /var/log/ ; ls -la host_log.tar.gz"
   ]
  },
  {
   "cell_type": "markdown",
   "metadata": {
    "lc_cell_meme": {
     "current": "5eedce84-6264-11e8-b48c-0242ac110002",
     "next": "e6869ef2-625f-11e8-b48c-0242ac110002",
     "previous": "fc5f9bb0-625b-11e8-b48c-0242ac110002"
    }
   },
   "source": [
    "ファイル一覧"
   ]
  },
  {
   "cell_type": "code",
   "execution_count": null,
   "metadata": {
    "lc_cell_meme": {
     "current": "e6869ef2-625f-11e8-b48c-0242ac110002",
     "history": [
      {
       "current": "e6869ef2-625f-11e8-b48c-0242ac110002",
       "next": null,
       "previous": "8bdbc250-625c-11e8-b48c-0242ac110002"
      },
      {
       "current": "e6869ef2-625f-11e8-b48c-0242ac110002",
       "next": null,
       "previous": "fc5f9bb0-625b-11e8-b48c-0242ac110002"
      },
      {
       "current": "e6869ef2-625f-11e8-b48c-0242ac110002",
       "next": "17670800-6264-11e8-b48c-0242ac110002",
       "previous": "fc5f9bb0-625b-11e8-b48c-0242ac110002"
      }
     ],
     "next": "17670800-6264-11e8-b48c-0242ac110002",
     "previous": "5eedce84-6264-11e8-b48c-0242ac110002"
    }
   },
   "outputs": [],
   "source": [
    "!rm -f host_files.txt ; sudo find / -xdev -printf \"%m;%Ax;%AT;%Tx;%TT;%Cx;%CT;%U;%G;%s;%p;\\n\" > host_files.txt\n",
    "!ls -la host_files.txt"
   ]
  },
  {
   "cell_type": "markdown",
   "metadata": {
    "lc_cell_meme": {
     "current": "17670800-6264-11e8-b48c-0242ac110002",
     "history": [
      {
       "current": "17670800-6264-11e8-b48c-0242ac110002",
       "next": null,
       "previous": "e6869ef2-625f-11e8-b48c-0242ac110002"
      },
      {
       "current": "17670800-6264-11e8-b48c-0242ac110002",
       "next": "3581e548-6265-11e8-b48c-0242ac110002",
       "previous": "e6869ef2-625f-11e8-b48c-0242ac110002"
      }
     ],
     "next": "23081852-631d-11e8-a83e-0242ac110002",
     "previous": "e6869ef2-625f-11e8-b48c-0242ac110002"
    }
   },
   "source": [
    "シェルの履歴をhistoryで取る必要があるが、本デモでは、Jupyterの仕様上、割愛する。"
   ]
  },
  {
   "cell_type": "markdown",
   "metadata": {
    "lc_cell_meme": {
     "current": "23081852-631d-11e8-a83e-0242ac110002",
     "history": [
      {
       "current": "23081852-631d-11e8-a83e-0242ac110002",
       "next": "23081abe-631d-11e8-a83e-0242ac110002",
       "previous": "cf59d398-6250-11e8-b48c-0242ac110002"
      }
     ],
     "next": "23081abe-631d-11e8-a83e-0242ac110002",
     "previous": "17670800-6264-11e8-b48c-0242ac110002"
    }
   },
   "source": [
    "システムの負荷状態を記録しておく。"
   ]
  },
  {
   "cell_type": "code",
   "execution_count": null,
   "metadata": {
    "lc_cell_meme": {
     "current": "23081abe-631d-11e8-a83e-0242ac110002",
     "history": [
      {
       "current": "23081abe-631d-11e8-a83e-0242ac110002",
       "next": "00c260aa-6268-11e8-b48c-0242ac110002",
       "previous": "23081852-631d-11e8-a83e-0242ac110002"
      }
     ],
     "next": "3581e548-6265-11e8-b48c-0242ac110002",
     "previous": "23081852-631d-11e8-a83e-0242ac110002"
    },
    "scrolled": false
   },
   "outputs": [],
   "source": [
    "uptime_str = !uptime\n",
    "uptime_clumn = parse.parse(\"{}load average: {:g}, {:g}, {:g}\", uptime_str[0])\n",
    "uptime_clumn = list(uptime_clumn)[1:]\n",
    "uptime_clumn.insert(0, datetime.datetime.now(JST))\n",
    "uptime_list.append(uptime_clumn)\n",
    "print(uptime_list)"
   ]
  },
  {
   "cell_type": "markdown",
   "metadata": {
    "lc_cell_meme": {
     "current": "3581e548-6265-11e8-b48c-0242ac110002",
     "history": [
      {
       "current": "3581e548-6265-11e8-b48c-0242ac110002",
       "next": "3581e660-6265-11e8-b48c-0242ac110002",
       "previous": "17670800-6264-11e8-b48c-0242ac110002"
      },
      {
       "current": "3581e548-6265-11e8-b48c-0242ac110002",
       "next": "539b75d4-6266-11e8-b48c-0242ac110002",
       "previous": "17670800-6264-11e8-b48c-0242ac110002"
      },
      {
       "current": "3581e548-6265-11e8-b48c-0242ac110002",
       "next": "71b6002e-6267-11e8-b48c-0242ac110002",
       "previous": "17670800-6264-11e8-b48c-0242ac110002"
      }
     ],
     "next": "71b6002e-6267-11e8-b48c-0242ac110002",
     "previous": "23081abe-631d-11e8-a83e-0242ac110002"
    }
   },
   "source": [
    "# サーバの調査"
   ]
  },
  {
   "cell_type": "markdown",
   "metadata": {
    "lc_cell_meme": {
     "current": "71b6002e-6267-11e8-b48c-0242ac110002",
     "next": "539b75d4-6266-11e8-b48c-0242ac110002",
     "previous": "3581e548-6265-11e8-b48c-0242ac110002"
    }
   },
   "source": [
    "## システムログを洗う"
   ]
  },
  {
   "cell_type": "markdown",
   "metadata": {
    "lc_cell_meme": {
     "current": "539b75d4-6266-11e8-b48c-0242ac110002",
     "history": [
      {
       "current": "539b75d4-6266-11e8-b48c-0242ac110002",
       "next": "3581e660-6265-11e8-b48c-0242ac110002",
       "previous": "3581e548-6265-11e8-b48c-0242ac110002"
      }
     ],
     "next": "3581e660-6265-11e8-b48c-0242ac110002",
     "previous": "71b6002e-6267-11e8-b48c-0242ac110002"
    }
   },
   "source": [
    "各種ログに含まれる「error」を確認する。"
   ]
  },
  {
   "cell_type": "code",
   "execution_count": null,
   "metadata": {
    "lc_cell_meme": {
     "current": "3581e660-6265-11e8-b48c-0242ac110002",
     "history": [
      {
       "current": "3581e660-6265-11e8-b48c-0242ac110002",
       "next": null,
       "previous": "3581e548-6265-11e8-b48c-0242ac110002"
      },
      {
       "current": "3581e660-6265-11e8-b48c-0242ac110002",
       "next": "c48e94b6-6265-11e8-b48c-0242ac110002",
       "previous": "3581e548-6265-11e8-b48c-0242ac110002"
      },
      {
       "current": "3581e660-6265-11e8-b48c-0242ac110002",
       "next": "c48e94b6-6265-11e8-b48c-0242ac110002",
       "previous": "539b75d4-6266-11e8-b48c-0242ac110002"
      }
     ],
     "next": "71b60114-6267-11e8-b48c-0242ac110002",
     "previous": "539b75d4-6266-11e8-b48c-0242ac110002"
    }
   },
   "outputs": [],
   "source": [
    "!find /var/log/ -type f -print0 | sudo xargs -0 grep error"
   ]
  },
  {
   "cell_type": "markdown",
   "metadata": {
    "lc_cell_meme": {
     "current": "71b60114-6267-11e8-b48c-0242ac110002",
     "next": "71b6018c-6267-11e8-b48c-0242ac110002",
     "previous": "3581e660-6265-11e8-b48c-0242ac110002"
    }
   },
   "source": [
    "各種ログを他のキーワードでも検索してみよう。"
   ]
  },
  {
   "cell_type": "code",
   "execution_count": null,
   "metadata": {
    "lc_cell_meme": {
     "current": "71b6018c-6267-11e8-b48c-0242ac110002",
     "history": [
      {
       "current": "71b6018c-6267-11e8-b48c-0242ac110002",
       "next": "c48e94b6-6265-11e8-b48c-0242ac110002",
       "previous": "71b60114-6267-11e8-b48c-0242ac110002"
      },
      {
       "current": "71b6018c-6267-11e8-b48c-0242ac110002",
       "next": "484a64c2-6268-11e8-b48c-0242ac110002",
       "previous": "71b60114-6267-11e8-b48c-0242ac110002"
      }
     ],
     "next": "23081852-631d-11e8-a83e-0242ac110002",
     "previous": "71b60114-6267-11e8-b48c-0242ac110002"
    }
   },
   "outputs": [],
   "source": [
    "!find /var/log/ -type f -print0 | sudo xargs -0 grep 他のキーワード"
   ]
  },
  {
   "cell_type": "markdown",
   "metadata": {
    "lc_cell_meme": {
     "current": "23081852-631d-11e8-a83e-0242ac110002",
     "history": [
      {
       "current": "23081852-631d-11e8-a83e-0242ac110002",
       "next": "23081abe-631d-11e8-a83e-0242ac110002",
       "previous": "cf59d398-6250-11e8-b48c-0242ac110002"
      },
      {
       "current": "23081852-631d-11e8-a83e-0242ac110002",
       "next": "23081abe-631d-11e8-a83e-0242ac110002",
       "previous": "17670800-6264-11e8-b48c-0242ac110002"
      },
      {
       "current": "23081852-631d-11e8-a83e-0242ac110002",
       "next": "23081abe-631d-11e8-a83e-0242ac110002",
       "previous": "71b6018c-6267-11e8-b48c-0242ac110002"
      },
      {
       "current": "23081852-631d-11e8-a83e-0242ac110002",
       "next": "23081abe-631d-11e8-a83e-0242ac110002",
       "previous": "2a30329c-6267-11e8-b48c-0242ac110002"
      },
      {
       "current": "23081852-631d-11e8-a83e-0242ac110002",
       "next": "23081abe-631d-11e8-a83e-0242ac110002",
       "previous": "2a30329c-6267-11e8-b48c-0242ac110002"
      },
      {
       "current": "23081852-631d-11e8-a83e-0242ac110002",
       "next": "23081abe-631d-11e8-a83e-0242ac110002",
       "previous": "2a30329c-6267-11e8-b48c-0242ac110002"
      },
      {
       "current": "23081852-631d-11e8-a83e-0242ac110002",
       "next": "23081abe-631d-11e8-a83e-0242ac110002",
       "previous": "2a30329c-6267-11e8-b48c-0242ac110002"
      },
      {
       "current": "23081852-631d-11e8-a83e-0242ac110002",
       "next": "23081abe-631d-11e8-a83e-0242ac110002",
       "previous": "2a30329c-6267-11e8-b48c-0242ac110002"
      },
      {
       "current": "23081852-631d-11e8-a83e-0242ac110002",
       "next": "23081abe-631d-11e8-a83e-0242ac110002",
       "previous": "2a30329c-6267-11e8-b48c-0242ac110002"
      },
      {
       "current": "23081852-631d-11e8-a83e-0242ac110002",
       "next": "23081abe-631d-11e8-a83e-0242ac110002",
       "previous": "2a30329c-6267-11e8-b48c-0242ac110002"
      },
      {
       "current": "23081852-631d-11e8-a83e-0242ac110002",
       "next": "23081abe-631d-11e8-a83e-0242ac110002",
       "previous": "2a30329c-6267-11e8-b48c-0242ac110002"
      },
      {
       "current": "23081852-631d-11e8-a83e-0242ac110002",
       "next": "23081abe-631d-11e8-a83e-0242ac110002",
       "previous": "2a30329c-6267-11e8-b48c-0242ac110002"
      },
      {
       "current": "23081852-631d-11e8-a83e-0242ac110002",
       "next": "23081abe-631d-11e8-a83e-0242ac110002",
       "previous": "2a30329c-6267-11e8-b48c-0242ac110002"
      },
      {
       "current": "23081852-631d-11e8-a83e-0242ac110002",
       "next": "23081abe-631d-11e8-a83e-0242ac110002",
       "previous": "2a30329c-6267-11e8-b48c-0242ac110002"
      },
      {
       "current": "23081852-631d-11e8-a83e-0242ac110002",
       "next": "23081abe-631d-11e8-a83e-0242ac110002",
       "previous": "2a30329c-6267-11e8-b48c-0242ac110002"
      },
      {
       "current": "23081852-631d-11e8-a83e-0242ac110002",
       "next": "23081abe-631d-11e8-a83e-0242ac110002",
       "previous": "2a30329c-6267-11e8-b48c-0242ac110002"
      },
      {
       "current": "23081852-631d-11e8-a83e-0242ac110002",
       "next": "23081abe-631d-11e8-a83e-0242ac110002",
       "previous": "2a30329c-6267-11e8-b48c-0242ac110002"
      },
      {
       "current": "23081852-631d-11e8-a83e-0242ac110002",
       "next": "23081abe-631d-11e8-a83e-0242ac110002",
       "previous": "2a30329c-6267-11e8-b48c-0242ac110002"
      },
      {
       "current": "23081852-631d-11e8-a83e-0242ac110002",
       "next": "23081abe-631d-11e8-a83e-0242ac110002",
       "previous": "2a30329c-6267-11e8-b48c-0242ac110002"
      },
      {
       "current": "23081852-631d-11e8-a83e-0242ac110002",
       "next": "23081abe-631d-11e8-a83e-0242ac110002",
       "previous": "2a30329c-6267-11e8-b48c-0242ac110002"
      },
      {
       "current": "23081852-631d-11e8-a83e-0242ac110002",
       "next": "23081abe-631d-11e8-a83e-0242ac110002",
       "previous": "2a30329c-6267-11e8-b48c-0242ac110002"
      },
      {
       "current": "23081852-631d-11e8-a83e-0242ac110002",
       "next": "23081abe-631d-11e8-a83e-0242ac110002",
       "previous": "2a30329c-6267-11e8-b48c-0242ac110002"
      },
      {
       "current": "23081852-631d-11e8-a83e-0242ac110002",
       "next": "23081abe-631d-11e8-a83e-0242ac110002",
       "previous": "2a30329c-6267-11e8-b48c-0242ac110002"
      },
      {
       "current": "23081852-631d-11e8-a83e-0242ac110002",
       "next": "23081abe-631d-11e8-a83e-0242ac110002",
       "previous": "2a30329c-6267-11e8-b48c-0242ac110002"
      },
      {
       "current": "23081852-631d-11e8-a83e-0242ac110002",
       "next": "23081abe-631d-11e8-a83e-0242ac110002",
       "previous": "2a30329c-6267-11e8-b48c-0242ac110002"
      },
      {
       "current": "23081852-631d-11e8-a83e-0242ac110002",
       "next": "23081abe-631d-11e8-a83e-0242ac110002",
       "previous": "2a30329c-6267-11e8-b48c-0242ac110002"
      },
      {
       "current": "23081852-631d-11e8-a83e-0242ac110002",
       "next": "23081abe-631d-11e8-a83e-0242ac110002",
       "previous": "2a30329c-6267-11e8-b48c-0242ac110002"
      },
      {
       "current": "23081852-631d-11e8-a83e-0242ac110002",
       "next": "23081abe-631d-11e8-a83e-0242ac110002",
       "previous": "2a30329c-6267-11e8-b48c-0242ac110002"
      },
      {
       "current": "23081852-631d-11e8-a83e-0242ac110002",
       "next": "23081abe-631d-11e8-a83e-0242ac110002",
       "previous": "2a30329c-6267-11e8-b48c-0242ac110002"
      },
      {
       "current": "23081852-631d-11e8-a83e-0242ac110002",
       "next": "23081abe-631d-11e8-a83e-0242ac110002",
       "previous": "2a30329c-6267-11e8-b48c-0242ac110002"
      },
      {
       "current": "23081852-631d-11e8-a83e-0242ac110002",
       "next": "23081abe-631d-11e8-a83e-0242ac110002",
       "previous": "2a30329c-6267-11e8-b48c-0242ac110002"
      },
      {
       "current": "23081852-631d-11e8-a83e-0242ac110002",
       "next": "23081abe-631d-11e8-a83e-0242ac110002",
       "previous": "2a30329c-6267-11e8-b48c-0242ac110002"
      },
      {
       "current": "23081852-631d-11e8-a83e-0242ac110002",
       "next": "23081abe-631d-11e8-a83e-0242ac110002",
       "previous": "2a30329c-6267-11e8-b48c-0242ac110002"
      },
      {
       "current": "23081852-631d-11e8-a83e-0242ac110002",
       "next": "23081abe-631d-11e8-a83e-0242ac110002",
       "previous": "2a30329c-6267-11e8-b48c-0242ac110002"
      },
      {
       "current": "23081852-631d-11e8-a83e-0242ac110002",
       "next": "23081abe-631d-11e8-a83e-0242ac110002",
       "previous": "2a30329c-6267-11e8-b48c-0242ac110002"
      },
      {
       "current": "23081852-631d-11e8-a83e-0242ac110002",
       "next": "23081abe-631d-11e8-a83e-0242ac110002",
       "previous": "2a30329c-6267-11e8-b48c-0242ac110002"
      },
      {
       "current": "23081852-631d-11e8-a83e-0242ac110002",
       "next": "23081abe-631d-11e8-a83e-0242ac110002",
       "previous": "2a30329c-6267-11e8-b48c-0242ac110002"
      },
      {
       "current": "23081852-631d-11e8-a83e-0242ac110002",
       "next": "23081abe-631d-11e8-a83e-0242ac110002",
       "previous": "2a30329c-6267-11e8-b48c-0242ac110002"
      },
      {
       "current": "23081852-631d-11e8-a83e-0242ac110002",
       "next": "23081abe-631d-11e8-a83e-0242ac110002",
       "previous": "2a30329c-6267-11e8-b48c-0242ac110002"
      },
      {
       "current": "23081852-631d-11e8-a83e-0242ac110002",
       "next": "23081abe-631d-11e8-a83e-0242ac110002",
       "previous": "2a30329c-6267-11e8-b48c-0242ac110002"
      }
     ],
     "next": "23081abe-631d-11e8-a83e-0242ac110002",
     "previous": "71b6018c-6267-11e8-b48c-0242ac110002"
    }
   },
   "source": [
    "システムの負荷状態を記録しておく。"
   ]
  },
  {
   "cell_type": "code",
   "execution_count": null,
   "metadata": {
    "lc_cell_meme": {
     "current": "23081abe-631d-11e8-a83e-0242ac110002",
     "history": [
      {
       "current": "23081abe-631d-11e8-a83e-0242ac110002",
       "next": "00c260aa-6268-11e8-b48c-0242ac110002",
       "previous": "23081852-631d-11e8-a83e-0242ac110002"
      },
      {
       "current": "23081abe-631d-11e8-a83e-0242ac110002",
       "next": "3581e548-6265-11e8-b48c-0242ac110002",
       "previous": "23081852-631d-11e8-a83e-0242ac110002"
      },
      {
       "current": "23081abe-631d-11e8-a83e-0242ac110002",
       "next": "484a64c2-6268-11e8-b48c-0242ac110002",
       "previous": "23081852-631d-11e8-a83e-0242ac110002"
      },
      {
       "current": "23081abe-631d-11e8-a83e-0242ac110002",
       "next": "39e4fb66-6319-11e8-a83e-0242ac110002",
       "previous": "23081852-631d-11e8-a83e-0242ac110002"
      },
      {
       "current": "23081abe-631d-11e8-a83e-0242ac110002",
       "next": "39e4fb66-6319-11e8-a83e-0242ac110002",
       "previous": "23081852-631d-11e8-a83e-0242ac110002"
      },
      {
       "current": "23081abe-631d-11e8-a83e-0242ac110002",
       "next": "39e4fb66-6319-11e8-a83e-0242ac110002",
       "previous": "23081852-631d-11e8-a83e-0242ac110002"
      },
      {
       "current": "23081abe-631d-11e8-a83e-0242ac110002",
       "next": "39e4fb66-6319-11e8-a83e-0242ac110002",
       "previous": "23081852-631d-11e8-a83e-0242ac110002"
      },
      {
       "current": "23081abe-631d-11e8-a83e-0242ac110002",
       "next": "39e4fb66-6319-11e8-a83e-0242ac110002",
       "previous": "23081852-631d-11e8-a83e-0242ac110002"
      },
      {
       "current": "23081abe-631d-11e8-a83e-0242ac110002",
       "next": "39e4fb66-6319-11e8-a83e-0242ac110002",
       "previous": "23081852-631d-11e8-a83e-0242ac110002"
      },
      {
       "current": "23081abe-631d-11e8-a83e-0242ac110002",
       "next": "39e4fb66-6319-11e8-a83e-0242ac110002",
       "previous": "23081852-631d-11e8-a83e-0242ac110002"
      },
      {
       "current": "23081abe-631d-11e8-a83e-0242ac110002",
       "next": "39e4fb66-6319-11e8-a83e-0242ac110002",
       "previous": "23081852-631d-11e8-a83e-0242ac110002"
      },
      {
       "current": "23081abe-631d-11e8-a83e-0242ac110002",
       "next": "39e4fb66-6319-11e8-a83e-0242ac110002",
       "previous": "23081852-631d-11e8-a83e-0242ac110002"
      },
      {
       "current": "23081abe-631d-11e8-a83e-0242ac110002",
       "next": "39e4fb66-6319-11e8-a83e-0242ac110002",
       "previous": "23081852-631d-11e8-a83e-0242ac110002"
      },
      {
       "current": "23081abe-631d-11e8-a83e-0242ac110002",
       "next": "39e4fb66-6319-11e8-a83e-0242ac110002",
       "previous": "23081852-631d-11e8-a83e-0242ac110002"
      },
      {
       "current": "23081abe-631d-11e8-a83e-0242ac110002",
       "next": "39e4fb66-6319-11e8-a83e-0242ac110002",
       "previous": "23081852-631d-11e8-a83e-0242ac110002"
      },
      {
       "current": "23081abe-631d-11e8-a83e-0242ac110002",
       "next": "39e4fb66-6319-11e8-a83e-0242ac110002",
       "previous": "23081852-631d-11e8-a83e-0242ac110002"
      },
      {
       "current": "23081abe-631d-11e8-a83e-0242ac110002",
       "next": "39e4fb66-6319-11e8-a83e-0242ac110002",
       "previous": "23081852-631d-11e8-a83e-0242ac110002"
      },
      {
       "current": "23081abe-631d-11e8-a83e-0242ac110002",
       "next": "39e4fb66-6319-11e8-a83e-0242ac110002",
       "previous": "23081852-631d-11e8-a83e-0242ac110002"
      },
      {
       "current": "23081abe-631d-11e8-a83e-0242ac110002",
       "next": "39e4fb66-6319-11e8-a83e-0242ac110002",
       "previous": "23081852-631d-11e8-a83e-0242ac110002"
      },
      {
       "current": "23081abe-631d-11e8-a83e-0242ac110002",
       "next": "39e4fb66-6319-11e8-a83e-0242ac110002",
       "previous": "23081852-631d-11e8-a83e-0242ac110002"
      },
      {
       "current": "23081abe-631d-11e8-a83e-0242ac110002",
       "next": "39e4fb66-6319-11e8-a83e-0242ac110002",
       "previous": "23081852-631d-11e8-a83e-0242ac110002"
      },
      {
       "current": "23081abe-631d-11e8-a83e-0242ac110002",
       "next": "39e4fb66-6319-11e8-a83e-0242ac110002",
       "previous": "23081852-631d-11e8-a83e-0242ac110002"
      },
      {
       "current": "23081abe-631d-11e8-a83e-0242ac110002",
       "next": "39e4fb66-6319-11e8-a83e-0242ac110002",
       "previous": "23081852-631d-11e8-a83e-0242ac110002"
      },
      {
       "current": "23081abe-631d-11e8-a83e-0242ac110002",
       "next": "39e4fb66-6319-11e8-a83e-0242ac110002",
       "previous": "23081852-631d-11e8-a83e-0242ac110002"
      },
      {
       "current": "23081abe-631d-11e8-a83e-0242ac110002",
       "next": "39e4fb66-6319-11e8-a83e-0242ac110002",
       "previous": "23081852-631d-11e8-a83e-0242ac110002"
      },
      {
       "current": "23081abe-631d-11e8-a83e-0242ac110002",
       "next": "39e4fb66-6319-11e8-a83e-0242ac110002",
       "previous": "23081852-631d-11e8-a83e-0242ac110002"
      },
      {
       "current": "23081abe-631d-11e8-a83e-0242ac110002",
       "next": "39e4fb66-6319-11e8-a83e-0242ac110002",
       "previous": "23081852-631d-11e8-a83e-0242ac110002"
      },
      {
       "current": "23081abe-631d-11e8-a83e-0242ac110002",
       "next": "39e4fb66-6319-11e8-a83e-0242ac110002",
       "previous": "23081852-631d-11e8-a83e-0242ac110002"
      },
      {
       "current": "23081abe-631d-11e8-a83e-0242ac110002",
       "next": "39e4fb66-6319-11e8-a83e-0242ac110002",
       "previous": "23081852-631d-11e8-a83e-0242ac110002"
      },
      {
       "current": "23081abe-631d-11e8-a83e-0242ac110002",
       "next": "39e4fb66-6319-11e8-a83e-0242ac110002",
       "previous": "23081852-631d-11e8-a83e-0242ac110002"
      },
      {
       "current": "23081abe-631d-11e8-a83e-0242ac110002",
       "next": "39e4fb66-6319-11e8-a83e-0242ac110002",
       "previous": "23081852-631d-11e8-a83e-0242ac110002"
      },
      {
       "current": "23081abe-631d-11e8-a83e-0242ac110002",
       "next": "39e4fb66-6319-11e8-a83e-0242ac110002",
       "previous": "23081852-631d-11e8-a83e-0242ac110002"
      },
      {
       "current": "23081abe-631d-11e8-a83e-0242ac110002",
       "next": "39e4fb66-6319-11e8-a83e-0242ac110002",
       "previous": "23081852-631d-11e8-a83e-0242ac110002"
      },
      {
       "current": "23081abe-631d-11e8-a83e-0242ac110002",
       "next": "39e4fb66-6319-11e8-a83e-0242ac110002",
       "previous": "23081852-631d-11e8-a83e-0242ac110002"
      },
      {
       "current": "23081abe-631d-11e8-a83e-0242ac110002",
       "next": "39e4fb66-6319-11e8-a83e-0242ac110002",
       "previous": "23081852-631d-11e8-a83e-0242ac110002"
      },
      {
       "current": "23081abe-631d-11e8-a83e-0242ac110002",
       "next": "39e4fb66-6319-11e8-a83e-0242ac110002",
       "previous": "23081852-631d-11e8-a83e-0242ac110002"
      },
      {
       "current": "23081abe-631d-11e8-a83e-0242ac110002",
       "next": "39e4fb66-6319-11e8-a83e-0242ac110002",
       "previous": "23081852-631d-11e8-a83e-0242ac110002"
      },
      {
       "current": "23081abe-631d-11e8-a83e-0242ac110002",
       "next": "39e4fb66-6319-11e8-a83e-0242ac110002",
       "previous": "23081852-631d-11e8-a83e-0242ac110002"
      },
      {
       "current": "23081abe-631d-11e8-a83e-0242ac110002",
       "next": "39e4fb66-6319-11e8-a83e-0242ac110002",
       "previous": "23081852-631d-11e8-a83e-0242ac110002"
      },
      {
       "current": "23081abe-631d-11e8-a83e-0242ac110002",
       "next": "39e4fb66-6319-11e8-a83e-0242ac110002",
       "previous": "23081852-631d-11e8-a83e-0242ac110002"
      }
     ],
     "next": "484a64c2-6268-11e8-b48c-0242ac110002",
     "previous": "23081852-631d-11e8-a83e-0242ac110002"
    },
    "scrolled": false
   },
   "outputs": [],
   "source": [
    "uptime_str = !uptime\n",
    "uptime_clumn = parse.parse(\"{}load average: {:g}, {:g}, {:g}\", uptime_str[0])\n",
    "uptime_clumn = list(uptime_clumn)[1:]\n",
    "uptime_clumn.insert(0, datetime.datetime.now(JST))\n",
    "uptime_list.append(uptime_clumn)\n",
    "print(uptime_list)"
   ]
  },
  {
   "cell_type": "markdown",
   "metadata": {
    "lc_cell_meme": {
     "current": "484a64c2-6268-11e8-b48c-0242ac110002",
     "history": [
      {
       "current": "484a64c2-6268-11e8-b48c-0242ac110002",
       "next": "c48e94b6-6265-11e8-b48c-0242ac110002",
       "previous": "71b6018c-6267-11e8-b48c-0242ac110002"
      },
      {
       "current": "484a64c2-6268-11e8-b48c-0242ac110002",
       "next": "900c5ec8-6268-11e8-b48c-0242ac110002",
       "previous": "71b6018c-6267-11e8-b48c-0242ac110002"
      },
      {
       "current": "484a64c2-6268-11e8-b48c-0242ac110002",
       "next": "eaf51972-6300-11e8-a83e-0242ac110002",
       "previous": "71b6018c-6267-11e8-b48c-0242ac110002"
      }
     ],
     "next": "eaf51972-6300-11e8-a83e-0242ac110002",
     "previous": "23081abe-631d-11e8-a83e-0242ac110002"
    }
   },
   "source": [
    "## httpサーバの動作を確認する"
   ]
  },
  {
   "cell_type": "markdown",
   "metadata": {
    "lc_cell_meme": {
     "current": "eaf51972-6300-11e8-a83e-0242ac110002",
     "history": [
      {
       "current": "eaf51972-6300-11e8-a83e-0242ac110002",
       "next": "eaf51d1e-6300-11e8-a83e-0242ac110002",
       "previous": "484a64c2-6268-11e8-b48c-0242ac110002"
      },
      {
       "current": "eaf51972-6300-11e8-a83e-0242ac110002",
       "next": "3235771a-6314-11e8-a83e-0242ac110002",
       "previous": "484a64c2-6268-11e8-b48c-0242ac110002"
      }
     ],
     "next": "0c9d6762-6321-11e8-a83e-0242ac110002",
     "previous": "484a64c2-6268-11e8-b48c-0242ac110002"
    }
   },
   "source": [
    "外との通信に使われているネットワークインタフェースについて、空いているポートの確認を行う。"
   ]
  },
  {
   "cell_type": "markdown",
   "metadata": {
    "lc_cell_meme": {
     "current": "0c9d6762-6321-11e8-a83e-0242ac110002",
     "history": [
      {
       "current": "0c9d6762-6321-11e8-a83e-0242ac110002",
       "next": "16dd9e8e-6251-11e8-b48c-0242ac110002",
       "previous": "0c9d6276-6321-11e8-a83e-0242ac110002"
      },
      {
       "current": "0c9d6762-6321-11e8-a83e-0242ac110002",
       "next": "0c9d6276-6321-11e8-a83e-0242ac110002",
       "previous": "16dd9ac4-6251-11e8-b48c-0242ac110002"
      }
     ],
     "next": "789672ea-63b9-11e8-8e10-0242ac110002",
     "previous": "eaf51972-6300-11e8-a83e-0242ac110002"
    }
   },
   "source": [
    "<font color=\"Red\">前提条件を満たしていないと失敗する確認用のセル（Design By Contract）</font>\n",
    "\n",
    "使用するコマンド類が使えることを確認する。"
   ]
  },
  {
   "cell_type": "code",
   "execution_count": null,
   "metadata": {
    "lc_cell_meme": {
     "current": "789672ea-63b9-11e8-8e10-0242ac110002",
     "next": "3235771a-6314-11e8-a83e-0242ac110002",
     "previous": "0c9d6762-6321-11e8-a83e-0242ac110002"
    }
   },
   "outputs": [],
   "source": [
    "!which nmap\n",
    "!which nc"
   ]
  },
  {
   "cell_type": "code",
   "execution_count": null,
   "metadata": {
    "lc_cell_meme": {
     "current": "3235771a-6314-11e8-a83e-0242ac110002",
     "history": [
      {
       "current": "3235771a-6314-11e8-a83e-0242ac110002",
       "next": "900c5ec8-6268-11e8-b48c-0242ac110002",
       "previous": "eaf51d1e-6300-11e8-a83e-0242ac110002"
      },
      {
       "current": "3235771a-6314-11e8-a83e-0242ac110002",
       "next": "900c5ec8-6268-11e8-b48c-0242ac110002",
       "previous": "eaf51972-6300-11e8-a83e-0242ac110002"
      }
     ],
     "next": "900c5ec8-6268-11e8-b48c-0242ac110002",
     "previous": "789672ea-63b9-11e8-8e10-0242ac110002"
    },
    "pinned_outputs": []
   },
   "outputs": [],
   "source": [
    "!nmap -p1-65535 eth0に付いているIPアドレス"
   ]
  },
  {
   "cell_type": "markdown",
   "metadata": {
    "lc_cell_meme": {
     "current": "900c5ec8-6268-11e8-b48c-0242ac110002",
     "history": [
      {
       "current": "900c5ec8-6268-11e8-b48c-0242ac110002",
       "next": "c48e94b6-6265-11e8-b48c-0242ac110002",
       "previous": "484a64c2-6268-11e8-b48c-0242ac110002"
      },
      {
       "current": "900c5ec8-6268-11e8-b48c-0242ac110002",
       "next": "c48e94b6-6265-11e8-b48c-0242ac110002",
       "previous": "eaf51d1e-6300-11e8-a83e-0242ac110002"
      },
      {
       "current": "900c5ec8-6268-11e8-b48c-0242ac110002",
       "next": "c48e94b6-6265-11e8-b48c-0242ac110002",
       "previous": "c186e9d4-6301-11e8-a83e-0242ac110002"
      },
      {
       "current": "900c5ec8-6268-11e8-b48c-0242ac110002",
       "next": "c48e94b6-6265-11e8-b48c-0242ac110002",
       "previous": "eaf51d1e-6300-11e8-a83e-0242ac110002"
      }
     ],
     "next": "c48e94b6-6265-11e8-b48c-0242ac110002",
     "previous": "3235771a-6314-11e8-a83e-0242ac110002"
    }
   },
   "source": [
    "空いてるポートがhttpに反応するか確認する。"
   ]
  },
  {
   "cell_type": "code",
   "execution_count": null,
   "metadata": {
    "lc_cell_meme": {
     "current": "c48e94b6-6265-11e8-b48c-0242ac110002",
     "history": [
      {
       "current": "c48e94b6-6265-11e8-b48c-0242ac110002",
       "next": null,
       "previous": "3581e660-6265-11e8-b48c-0242ac110002"
      },
      {
       "current": "c48e94b6-6265-11e8-b48c-0242ac110002",
       "next": "2a30329c-6267-11e8-b48c-0242ac110002",
       "previous": "3581e660-6265-11e8-b48c-0242ac110002"
      },
      {
       "current": "c48e94b6-6265-11e8-b48c-0242ac110002",
       "next": "2a30329c-6267-11e8-b48c-0242ac110002",
       "previous": "71b6018c-6267-11e8-b48c-0242ac110002"
      },
      {
       "current": "c48e94b6-6265-11e8-b48c-0242ac110002",
       "next": "2a30329c-6267-11e8-b48c-0242ac110002",
       "previous": "484a64c2-6268-11e8-b48c-0242ac110002"
      },
      {
       "current": "c48e94b6-6265-11e8-b48c-0242ac110002",
       "next": "2a30329c-6267-11e8-b48c-0242ac110002",
       "previous": "900c5ec8-6268-11e8-b48c-0242ac110002"
      },
      {
       "current": "c48e94b6-6265-11e8-b48c-0242ac110002",
       "next": "ccdd77fa-62ff-11e8-a83e-0242ac110002",
       "previous": "900c5ec8-6268-11e8-b48c-0242ac110002"
      }
     ],
     "next": "6e697b6c-6316-11e8-a83e-0242ac110002",
     "previous": "900c5ec8-6268-11e8-b48c-0242ac110002"
    }
   },
   "outputs": [],
   "source": [
    "!echo \"GET / HTTP/1.1\\n\\n\" | nc -w 1 eth0に付いているIPアドレス 空いているポート番号"
   ]
  },
  {
   "cell_type": "markdown",
   "metadata": {
    "lc_cell_meme": {
     "current": "6e697b6c-6316-11e8-a83e-0242ac110002",
     "next": "6e697c48-6316-11e8-a83e-0242ac110002",
     "previous": "c48e94b6-6265-11e8-b48c-0242ac110002"
    }
   },
   "source": [
    "[HTTPステータスコード](https://ja.wikipedia.org/wiki/HTTP%E3%82%B9%E3%83%86%E3%83%BC%E3%82%BF%E3%82%B9%E3%82%B3%E3%83%BC%E3%83%89)を参考にhtmlのコンテンツが得られるまで追いかけてみる。"
   ]
  },
  {
   "cell_type": "code",
   "execution_count": null,
   "metadata": {
    "lc_cell_meme": {
     "current": "6e697c48-6316-11e8-a83e-0242ac110002",
     "history": [
      {
       "current": "6e697c48-6316-11e8-a83e-0242ac110002",
       "next": "ccdd77fa-62ff-11e8-a83e-0242ac110002",
       "previous": "6e697b6c-6316-11e8-a83e-0242ac110002"
      }
     ],
     "next": "44fd44d8-6317-11e8-a83e-0242ac110002",
     "previous": "6e697b6c-6316-11e8-a83e-0242ac110002"
    }
   },
   "outputs": [],
   "source": [
    "!echo \"GET 取得したいURL HTTP/1.1\\n\\n\" | nc -w 1 eth0に付いているIPアドレス 空いているポート番号"
   ]
  },
  {
   "cell_type": "code",
   "execution_count": null,
   "metadata": {
    "lc_cell_meme": {
     "current": "44fd44d8-6317-11e8-a83e-0242ac110002",
     "next": "44fd45f0-6317-11e8-a83e-0242ac110002",
     "previous": "6e697c48-6316-11e8-a83e-0242ac110002"
    }
   },
   "outputs": [],
   "source": [
    "!echo \"GET 取得したいURL HTTP/1.1\\n\\n\" | nc -w 1 eth0に付いているIPアドレス 空いているポート番号"
   ]
  },
  {
   "cell_type": "markdown",
   "metadata": {
    "lc_cell_meme": {
     "current": "44fd45f0-6317-11e8-a83e-0242ac110002",
     "next": "2a30329c-6267-11e8-b48c-0242ac110002",
     "previous": "44fd44d8-6317-11e8-a83e-0242ac110002"
    }
   },
   "source": [
    "追いかけた後で、wgetの出力を見ると、ブラウザがコンテンツを取得するまでの振る舞いが理解できる。"
   ]
  },
  {
   "cell_type": "code",
   "execution_count": null,
   "metadata": {
    "lc_cell_meme": {
     "current": "2a30329c-6267-11e8-b48c-0242ac110002",
     "history": [
      {
       "current": "2a30329c-6267-11e8-b48c-0242ac110002",
       "next": null,
       "previous": "c48e94b6-6265-11e8-b48c-0242ac110002"
      },
      {
       "current": "2a30329c-6267-11e8-b48c-0242ac110002",
       "next": "3e32ab74-6269-11e8-b48c-0242ac110002",
       "previous": "c48e94b6-6265-11e8-b48c-0242ac110002"
      },
      {
       "current": "2a30329c-6267-11e8-b48c-0242ac110002",
       "next": "3e32ab74-6269-11e8-b48c-0242ac110002",
       "previous": "ccdd77fa-62ff-11e8-a83e-0242ac110002"
      },
      {
       "current": "2a30329c-6267-11e8-b48c-0242ac110002",
       "next": "3e32ab74-6269-11e8-b48c-0242ac110002",
       "previous": "44fd45f0-6317-11e8-a83e-0242ac110002"
      },
      {
       "current": "2a30329c-6267-11e8-b48c-0242ac110002",
       "next": "ae26ac3c-6269-11e8-b48c-0242ac110002",
       "previous": "44fd45f0-6317-11e8-a83e-0242ac110002"
      },
      {
       "current": "2a30329c-6267-11e8-b48c-0242ac110002",
       "next": "39e4fb66-6319-11e8-a83e-0242ac110002",
       "previous": "44fd45f0-6317-11e8-a83e-0242ac110002"
      }
     ],
     "next": "23081852-631d-11e8-a83e-0242ac110002",
     "previous": "44fd45f0-6317-11e8-a83e-0242ac110002"
    }
   },
   "outputs": [],
   "source": [
    "!wget -O - http://eth0に付いているIPアドレス:8888"
   ]
  },
  {
   "cell_type": "markdown",
   "metadata": {
    "lc_cell_meme": {
     "current": "23081852-631d-11e8-a83e-0242ac110002",
     "history": [
      {
       "current": "23081852-631d-11e8-a83e-0242ac110002",
       "next": "23081abe-631d-11e8-a83e-0242ac110002",
       "previous": "cf59d398-6250-11e8-b48c-0242ac110002"
      },
      {
       "current": "23081852-631d-11e8-a83e-0242ac110002",
       "next": "23081abe-631d-11e8-a83e-0242ac110002",
       "previous": "17670800-6264-11e8-b48c-0242ac110002"
      },
      {
       "current": "23081852-631d-11e8-a83e-0242ac110002",
       "next": "23081abe-631d-11e8-a83e-0242ac110002",
       "previous": "71b6018c-6267-11e8-b48c-0242ac110002"
      },
      {
       "current": "23081852-631d-11e8-a83e-0242ac110002",
       "next": "23081abe-631d-11e8-a83e-0242ac110002",
       "previous": "2a30329c-6267-11e8-b48c-0242ac110002"
      },
      {
       "current": "23081852-631d-11e8-a83e-0242ac110002",
       "next": "23081abe-631d-11e8-a83e-0242ac110002",
       "previous": "2a30329c-6267-11e8-b48c-0242ac110002"
      },
      {
       "current": "23081852-631d-11e8-a83e-0242ac110002",
       "next": "23081abe-631d-11e8-a83e-0242ac110002",
       "previous": "2a30329c-6267-11e8-b48c-0242ac110002"
      },
      {
       "current": "23081852-631d-11e8-a83e-0242ac110002",
       "next": "23081abe-631d-11e8-a83e-0242ac110002",
       "previous": "2a30329c-6267-11e8-b48c-0242ac110002"
      },
      {
       "current": "23081852-631d-11e8-a83e-0242ac110002",
       "next": "23081abe-631d-11e8-a83e-0242ac110002",
       "previous": "2a30329c-6267-11e8-b48c-0242ac110002"
      },
      {
       "current": "23081852-631d-11e8-a83e-0242ac110002",
       "next": "23081abe-631d-11e8-a83e-0242ac110002",
       "previous": "2a30329c-6267-11e8-b48c-0242ac110002"
      },
      {
       "current": "23081852-631d-11e8-a83e-0242ac110002",
       "next": "23081abe-631d-11e8-a83e-0242ac110002",
       "previous": "2a30329c-6267-11e8-b48c-0242ac110002"
      },
      {
       "current": "23081852-631d-11e8-a83e-0242ac110002",
       "next": "23081abe-631d-11e8-a83e-0242ac110002",
       "previous": "2a30329c-6267-11e8-b48c-0242ac110002"
      },
      {
       "current": "23081852-631d-11e8-a83e-0242ac110002",
       "next": "23081abe-631d-11e8-a83e-0242ac110002",
       "previous": "2a30329c-6267-11e8-b48c-0242ac110002"
      },
      {
       "current": "23081852-631d-11e8-a83e-0242ac110002",
       "next": "23081abe-631d-11e8-a83e-0242ac110002",
       "previous": "2a30329c-6267-11e8-b48c-0242ac110002"
      },
      {
       "current": "23081852-631d-11e8-a83e-0242ac110002",
       "next": "23081abe-631d-11e8-a83e-0242ac110002",
       "previous": "2a30329c-6267-11e8-b48c-0242ac110002"
      },
      {
       "current": "23081852-631d-11e8-a83e-0242ac110002",
       "next": "23081abe-631d-11e8-a83e-0242ac110002",
       "previous": "2a30329c-6267-11e8-b48c-0242ac110002"
      },
      {
       "current": "23081852-631d-11e8-a83e-0242ac110002",
       "next": "23081abe-631d-11e8-a83e-0242ac110002",
       "previous": "2a30329c-6267-11e8-b48c-0242ac110002"
      },
      {
       "current": "23081852-631d-11e8-a83e-0242ac110002",
       "next": "23081abe-631d-11e8-a83e-0242ac110002",
       "previous": "2a30329c-6267-11e8-b48c-0242ac110002"
      },
      {
       "current": "23081852-631d-11e8-a83e-0242ac110002",
       "next": "23081abe-631d-11e8-a83e-0242ac110002",
       "previous": "2a30329c-6267-11e8-b48c-0242ac110002"
      },
      {
       "current": "23081852-631d-11e8-a83e-0242ac110002",
       "next": "23081abe-631d-11e8-a83e-0242ac110002",
       "previous": "2a30329c-6267-11e8-b48c-0242ac110002"
      },
      {
       "current": "23081852-631d-11e8-a83e-0242ac110002",
       "next": "23081abe-631d-11e8-a83e-0242ac110002",
       "previous": "2a30329c-6267-11e8-b48c-0242ac110002"
      },
      {
       "current": "23081852-631d-11e8-a83e-0242ac110002",
       "next": "23081abe-631d-11e8-a83e-0242ac110002",
       "previous": "2a30329c-6267-11e8-b48c-0242ac110002"
      },
      {
       "current": "23081852-631d-11e8-a83e-0242ac110002",
       "next": "23081abe-631d-11e8-a83e-0242ac110002",
       "previous": "2a30329c-6267-11e8-b48c-0242ac110002"
      },
      {
       "current": "23081852-631d-11e8-a83e-0242ac110002",
       "next": "23081abe-631d-11e8-a83e-0242ac110002",
       "previous": "2a30329c-6267-11e8-b48c-0242ac110002"
      },
      {
       "current": "23081852-631d-11e8-a83e-0242ac110002",
       "next": "23081abe-631d-11e8-a83e-0242ac110002",
       "previous": "2a30329c-6267-11e8-b48c-0242ac110002"
      },
      {
       "current": "23081852-631d-11e8-a83e-0242ac110002",
       "next": "23081abe-631d-11e8-a83e-0242ac110002",
       "previous": "2a30329c-6267-11e8-b48c-0242ac110002"
      },
      {
       "current": "23081852-631d-11e8-a83e-0242ac110002",
       "next": "23081abe-631d-11e8-a83e-0242ac110002",
       "previous": "2a30329c-6267-11e8-b48c-0242ac110002"
      },
      {
       "current": "23081852-631d-11e8-a83e-0242ac110002",
       "next": "23081abe-631d-11e8-a83e-0242ac110002",
       "previous": "2a30329c-6267-11e8-b48c-0242ac110002"
      },
      {
       "current": "23081852-631d-11e8-a83e-0242ac110002",
       "next": "23081abe-631d-11e8-a83e-0242ac110002",
       "previous": "2a30329c-6267-11e8-b48c-0242ac110002"
      },
      {
       "current": "23081852-631d-11e8-a83e-0242ac110002",
       "next": "23081abe-631d-11e8-a83e-0242ac110002",
       "previous": "2a30329c-6267-11e8-b48c-0242ac110002"
      },
      {
       "current": "23081852-631d-11e8-a83e-0242ac110002",
       "next": "23081abe-631d-11e8-a83e-0242ac110002",
       "previous": "2a30329c-6267-11e8-b48c-0242ac110002"
      },
      {
       "current": "23081852-631d-11e8-a83e-0242ac110002",
       "next": "23081abe-631d-11e8-a83e-0242ac110002",
       "previous": "2a30329c-6267-11e8-b48c-0242ac110002"
      },
      {
       "current": "23081852-631d-11e8-a83e-0242ac110002",
       "next": "23081abe-631d-11e8-a83e-0242ac110002",
       "previous": "2a30329c-6267-11e8-b48c-0242ac110002"
      },
      {
       "current": "23081852-631d-11e8-a83e-0242ac110002",
       "next": "23081abe-631d-11e8-a83e-0242ac110002",
       "previous": "2a30329c-6267-11e8-b48c-0242ac110002"
      },
      {
       "current": "23081852-631d-11e8-a83e-0242ac110002",
       "next": "23081abe-631d-11e8-a83e-0242ac110002",
       "previous": "2a30329c-6267-11e8-b48c-0242ac110002"
      },
      {
       "current": "23081852-631d-11e8-a83e-0242ac110002",
       "next": "23081abe-631d-11e8-a83e-0242ac110002",
       "previous": "2a30329c-6267-11e8-b48c-0242ac110002"
      },
      {
       "current": "23081852-631d-11e8-a83e-0242ac110002",
       "next": "23081abe-631d-11e8-a83e-0242ac110002",
       "previous": "2a30329c-6267-11e8-b48c-0242ac110002"
      },
      {
       "current": "23081852-631d-11e8-a83e-0242ac110002",
       "next": "23081abe-631d-11e8-a83e-0242ac110002",
       "previous": "2a30329c-6267-11e8-b48c-0242ac110002"
      },
      {
       "current": "23081852-631d-11e8-a83e-0242ac110002",
       "next": "23081abe-631d-11e8-a83e-0242ac110002",
       "previous": "2a30329c-6267-11e8-b48c-0242ac110002"
      },
      {
       "current": "23081852-631d-11e8-a83e-0242ac110002",
       "next": "23081abe-631d-11e8-a83e-0242ac110002",
       "previous": "2a30329c-6267-11e8-b48c-0242ac110002"
      }
     ],
     "next": "23081abe-631d-11e8-a83e-0242ac110002",
     "previous": "2a30329c-6267-11e8-b48c-0242ac110002"
    }
   },
   "source": [
    "システムの負荷状態を記録しておく。"
   ]
  },
  {
   "cell_type": "code",
   "execution_count": null,
   "metadata": {
    "lc_cell_meme": {
     "current": "23081abe-631d-11e8-a83e-0242ac110002",
     "history": [
      {
       "current": "23081abe-631d-11e8-a83e-0242ac110002",
       "next": "00c260aa-6268-11e8-b48c-0242ac110002",
       "previous": "23081852-631d-11e8-a83e-0242ac110002"
      },
      {
       "current": "23081abe-631d-11e8-a83e-0242ac110002",
       "next": "3581e548-6265-11e8-b48c-0242ac110002",
       "previous": "23081852-631d-11e8-a83e-0242ac110002"
      },
      {
       "current": "23081abe-631d-11e8-a83e-0242ac110002",
       "next": "484a64c2-6268-11e8-b48c-0242ac110002",
       "previous": "23081852-631d-11e8-a83e-0242ac110002"
      },
      {
       "current": "23081abe-631d-11e8-a83e-0242ac110002",
       "next": "39e4fb66-6319-11e8-a83e-0242ac110002",
       "previous": "23081852-631d-11e8-a83e-0242ac110002"
      },
      {
       "current": "23081abe-631d-11e8-a83e-0242ac110002",
       "next": "39e4fb66-6319-11e8-a83e-0242ac110002",
       "previous": "23081852-631d-11e8-a83e-0242ac110002"
      },
      {
       "current": "23081abe-631d-11e8-a83e-0242ac110002",
       "next": "39e4fb66-6319-11e8-a83e-0242ac110002",
       "previous": "23081852-631d-11e8-a83e-0242ac110002"
      },
      {
       "current": "23081abe-631d-11e8-a83e-0242ac110002",
       "next": "39e4fb66-6319-11e8-a83e-0242ac110002",
       "previous": "23081852-631d-11e8-a83e-0242ac110002"
      },
      {
       "current": "23081abe-631d-11e8-a83e-0242ac110002",
       "next": "39e4fb66-6319-11e8-a83e-0242ac110002",
       "previous": "23081852-631d-11e8-a83e-0242ac110002"
      },
      {
       "current": "23081abe-631d-11e8-a83e-0242ac110002",
       "next": "39e4fb66-6319-11e8-a83e-0242ac110002",
       "previous": "23081852-631d-11e8-a83e-0242ac110002"
      },
      {
       "current": "23081abe-631d-11e8-a83e-0242ac110002",
       "next": "39e4fb66-6319-11e8-a83e-0242ac110002",
       "previous": "23081852-631d-11e8-a83e-0242ac110002"
      },
      {
       "current": "23081abe-631d-11e8-a83e-0242ac110002",
       "next": "39e4fb66-6319-11e8-a83e-0242ac110002",
       "previous": "23081852-631d-11e8-a83e-0242ac110002"
      },
      {
       "current": "23081abe-631d-11e8-a83e-0242ac110002",
       "next": "39e4fb66-6319-11e8-a83e-0242ac110002",
       "previous": "23081852-631d-11e8-a83e-0242ac110002"
      },
      {
       "current": "23081abe-631d-11e8-a83e-0242ac110002",
       "next": "39e4fb66-6319-11e8-a83e-0242ac110002",
       "previous": "23081852-631d-11e8-a83e-0242ac110002"
      },
      {
       "current": "23081abe-631d-11e8-a83e-0242ac110002",
       "next": "39e4fb66-6319-11e8-a83e-0242ac110002",
       "previous": "23081852-631d-11e8-a83e-0242ac110002"
      },
      {
       "current": "23081abe-631d-11e8-a83e-0242ac110002",
       "next": "39e4fb66-6319-11e8-a83e-0242ac110002",
       "previous": "23081852-631d-11e8-a83e-0242ac110002"
      },
      {
       "current": "23081abe-631d-11e8-a83e-0242ac110002",
       "next": "39e4fb66-6319-11e8-a83e-0242ac110002",
       "previous": "23081852-631d-11e8-a83e-0242ac110002"
      },
      {
       "current": "23081abe-631d-11e8-a83e-0242ac110002",
       "next": "39e4fb66-6319-11e8-a83e-0242ac110002",
       "previous": "23081852-631d-11e8-a83e-0242ac110002"
      },
      {
       "current": "23081abe-631d-11e8-a83e-0242ac110002",
       "next": "39e4fb66-6319-11e8-a83e-0242ac110002",
       "previous": "23081852-631d-11e8-a83e-0242ac110002"
      },
      {
       "current": "23081abe-631d-11e8-a83e-0242ac110002",
       "next": "39e4fb66-6319-11e8-a83e-0242ac110002",
       "previous": "23081852-631d-11e8-a83e-0242ac110002"
      },
      {
       "current": "23081abe-631d-11e8-a83e-0242ac110002",
       "next": "39e4fb66-6319-11e8-a83e-0242ac110002",
       "previous": "23081852-631d-11e8-a83e-0242ac110002"
      },
      {
       "current": "23081abe-631d-11e8-a83e-0242ac110002",
       "next": "39e4fb66-6319-11e8-a83e-0242ac110002",
       "previous": "23081852-631d-11e8-a83e-0242ac110002"
      },
      {
       "current": "23081abe-631d-11e8-a83e-0242ac110002",
       "next": "39e4fb66-6319-11e8-a83e-0242ac110002",
       "previous": "23081852-631d-11e8-a83e-0242ac110002"
      },
      {
       "current": "23081abe-631d-11e8-a83e-0242ac110002",
       "next": "39e4fb66-6319-11e8-a83e-0242ac110002",
       "previous": "23081852-631d-11e8-a83e-0242ac110002"
      },
      {
       "current": "23081abe-631d-11e8-a83e-0242ac110002",
       "next": "39e4fb66-6319-11e8-a83e-0242ac110002",
       "previous": "23081852-631d-11e8-a83e-0242ac110002"
      },
      {
       "current": "23081abe-631d-11e8-a83e-0242ac110002",
       "next": "39e4fb66-6319-11e8-a83e-0242ac110002",
       "previous": "23081852-631d-11e8-a83e-0242ac110002"
      },
      {
       "current": "23081abe-631d-11e8-a83e-0242ac110002",
       "next": "39e4fb66-6319-11e8-a83e-0242ac110002",
       "previous": "23081852-631d-11e8-a83e-0242ac110002"
      },
      {
       "current": "23081abe-631d-11e8-a83e-0242ac110002",
       "next": "39e4fb66-6319-11e8-a83e-0242ac110002",
       "previous": "23081852-631d-11e8-a83e-0242ac110002"
      },
      {
       "current": "23081abe-631d-11e8-a83e-0242ac110002",
       "next": "39e4fb66-6319-11e8-a83e-0242ac110002",
       "previous": "23081852-631d-11e8-a83e-0242ac110002"
      },
      {
       "current": "23081abe-631d-11e8-a83e-0242ac110002",
       "next": "39e4fb66-6319-11e8-a83e-0242ac110002",
       "previous": "23081852-631d-11e8-a83e-0242ac110002"
      },
      {
       "current": "23081abe-631d-11e8-a83e-0242ac110002",
       "next": "39e4fb66-6319-11e8-a83e-0242ac110002",
       "previous": "23081852-631d-11e8-a83e-0242ac110002"
      },
      {
       "current": "23081abe-631d-11e8-a83e-0242ac110002",
       "next": "39e4fb66-6319-11e8-a83e-0242ac110002",
       "previous": "23081852-631d-11e8-a83e-0242ac110002"
      },
      {
       "current": "23081abe-631d-11e8-a83e-0242ac110002",
       "next": "39e4fb66-6319-11e8-a83e-0242ac110002",
       "previous": "23081852-631d-11e8-a83e-0242ac110002"
      },
      {
       "current": "23081abe-631d-11e8-a83e-0242ac110002",
       "next": "39e4fb66-6319-11e8-a83e-0242ac110002",
       "previous": "23081852-631d-11e8-a83e-0242ac110002"
      },
      {
       "current": "23081abe-631d-11e8-a83e-0242ac110002",
       "next": "39e4fb66-6319-11e8-a83e-0242ac110002",
       "previous": "23081852-631d-11e8-a83e-0242ac110002"
      },
      {
       "current": "23081abe-631d-11e8-a83e-0242ac110002",
       "next": "39e4fb66-6319-11e8-a83e-0242ac110002",
       "previous": "23081852-631d-11e8-a83e-0242ac110002"
      },
      {
       "current": "23081abe-631d-11e8-a83e-0242ac110002",
       "next": "39e4fb66-6319-11e8-a83e-0242ac110002",
       "previous": "23081852-631d-11e8-a83e-0242ac110002"
      },
      {
       "current": "23081abe-631d-11e8-a83e-0242ac110002",
       "next": "39e4fb66-6319-11e8-a83e-0242ac110002",
       "previous": "23081852-631d-11e8-a83e-0242ac110002"
      },
      {
       "current": "23081abe-631d-11e8-a83e-0242ac110002",
       "next": "39e4fb66-6319-11e8-a83e-0242ac110002",
       "previous": "23081852-631d-11e8-a83e-0242ac110002"
      },
      {
       "current": "23081abe-631d-11e8-a83e-0242ac110002",
       "next": "39e4fb66-6319-11e8-a83e-0242ac110002",
       "previous": "23081852-631d-11e8-a83e-0242ac110002"
      }
     ],
     "next": "39e4fb66-6319-11e8-a83e-0242ac110002",
     "previous": "23081852-631d-11e8-a83e-0242ac110002"
    },
    "scrolled": false
   },
   "outputs": [],
   "source": [
    "uptime_str = !uptime\n",
    "uptime_clumn = parse.parse(\"{}load average: {:g}, {:g}, {:g}\", uptime_str[0])\n",
    "uptime_clumn = list(uptime_clumn)[1:]\n",
    "uptime_clumn.insert(0, datetime.datetime.now(JST))\n",
    "uptime_list.append(uptime_clumn)\n",
    "print(uptime_list)"
   ]
  },
  {
   "cell_type": "markdown",
   "metadata": {
    "lc_cell_meme": {
     "current": "39e4fb66-6319-11e8-a83e-0242ac110002",
     "history": [
      {
       "current": "39e4fb66-6319-11e8-a83e-0242ac110002",
       "next": "ae26ac3c-6269-11e8-b48c-0242ac110002",
       "previous": "2a30329c-6267-11e8-b48c-0242ac110002"
      },
      {
       "current": "39e4fb66-6319-11e8-a83e-0242ac110002",
       "next": "ae26ac3c-6269-11e8-b48c-0242ac110002",
       "previous": "23081abe-631d-11e8-a83e-0242ac110002"
      },
      {
       "current": "39e4fb66-6319-11e8-a83e-0242ac110002",
       "next": "75e550d2-631b-11e8-a83e-0242ac110002",
       "previous": "23081abe-631d-11e8-a83e-0242ac110002"
      }
     ],
     "next": "07a2400e-63ba-11e8-8e10-0242ac110002",
     "previous": "23081abe-631d-11e8-a83e-0242ac110002"
    }
   },
   "source": [
    "## 調査作業時のシステムの負荷状態を確認する"
   ]
  },
  {
   "cell_type": "markdown",
   "metadata": {
    "lc_cell_meme": {
     "current": "07a2400e-63ba-11e8-8e10-0242ac110002",
     "next": "75e550d2-631b-11e8-a83e-0242ac110002",
     "previous": "39e4fb66-6319-11e8-a83e-0242ac110002"
    }
   },
   "source": [
    "各作業終了時に[uptime](https://ja.wikipedia.org/wiki/Uptime)の結果をuptime_listに保存してきた。"
   ]
  },
  {
   "cell_type": "code",
   "execution_count": null,
   "metadata": {
    "lc_cell_meme": {
     "current": "75e550d2-631b-11e8-a83e-0242ac110002",
     "history": [
      {
       "current": "75e550d2-631b-11e8-a83e-0242ac110002",
       "next": null,
       "previous": "57c6a20a-631a-11e8-a83e-0242ac110002"
      },
      {
       "current": "75e550d2-631b-11e8-a83e-0242ac110002",
       "next": null,
       "previous": "39e4fb66-6319-11e8-a83e-0242ac110002"
      },
      {
       "current": "75e550d2-631b-11e8-a83e-0242ac110002",
       "next": "502b5a0a-6328-11e8-a83e-0242ac110002",
       "previous": "39e4fb66-6319-11e8-a83e-0242ac110002"
      },
      {
       "current": "75e550d2-631b-11e8-a83e-0242ac110002",
       "next": "502b5a0a-6328-11e8-a83e-0242ac110002",
       "previous": "07a2400e-63ba-11e8-8e10-0242ac110002"
      }
     ],
     "next": "96aebbce-63ba-11e8-8e10-0242ac110002",
     "previous": "07a2400e-63ba-11e8-8e10-0242ac110002"
    }
   },
   "outputs": [],
   "source": [
    "print(uptime_list)"
   ]
  },
  {
   "cell_type": "markdown",
   "metadata": {
    "lc_cell_meme": {
     "current": "96aebbce-63ba-11e8-8e10-0242ac110002",
     "next": "502b5a0a-6328-11e8-a83e-0242ac110002",
     "previous": "75e550d2-631b-11e8-a83e-0242ac110002"
    }
   },
   "source": [
    "これをグラフ化する。"
   ]
  },
  {
   "cell_type": "code",
   "execution_count": null,
   "metadata": {
    "lc_cell_meme": {
     "current": "502b5a0a-6328-11e8-a83e-0242ac110002",
     "history": [
      {
       "current": "502b5a0a-6328-11e8-a83e-0242ac110002",
       "next": "502b5b40-6328-11e8-a83e-0242ac110002",
       "previous": "75e550d2-631b-11e8-a83e-0242ac110002"
      }
     ],
     "next": "502b5b40-6328-11e8-a83e-0242ac110002",
     "previous": "96aebbce-63ba-11e8-8e10-0242ac110002"
    }
   },
   "outputs": [],
   "source": [
    "import pandas\n",
    "import matplotlib"
   ]
  },
  {
   "cell_type": "code",
   "execution_count": null,
   "metadata": {
    "lc_cell_meme": {
     "current": "502b5b40-6328-11e8-a83e-0242ac110002",
     "history": [
      {
       "current": "502b5b40-6328-11e8-a83e-0242ac110002",
       "next": null,
       "previous": "502b5a0a-6328-11e8-a83e-0242ac110002"
      }
     ],
     "next": "97cd690c-6328-11e8-a83e-0242ac110002",
     "previous": "502b5a0a-6328-11e8-a83e-0242ac110002"
    }
   },
   "outputs": [],
   "source": [
    "%matplotlib inline"
   ]
  },
  {
   "cell_type": "code",
   "execution_count": null,
   "metadata": {
    "lc_cell_meme": {
     "current": "97cd690c-6328-11e8-a83e-0242ac110002",
     "history": [
      {
       "current": "97cd690c-6328-11e8-a83e-0242ac110002",
       "next": null,
       "previous": "502b5b40-6328-11e8-a83e-0242ac110002"
      },
      {
       "current": "97cd690c-6328-11e8-a83e-0242ac110002",
       "next": "44f65002-632a-11e8-a83e-0242ac110002",
       "previous": "502b5b40-6328-11e8-a83e-0242ac110002"
      },
      {
       "current": "97cd690c-6328-11e8-a83e-0242ac110002",
       "next": "4f2bdd7c-63ba-11e8-8e10-0242ac110002",
       "previous": "502b5b40-6328-11e8-a83e-0242ac110002"
      }
     ],
     "next": "d7466e84-63ba-11e8-8e10-0242ac110002",
     "previous": "502b5b40-6328-11e8-a83e-0242ac110002"
    }
   },
   "outputs": [],
   "source": [
    "df = pandas.DataFrame(uptime_list, columns=[\"date\", \"1m\", \"5m\", \"15m\"])\n",
    "df = df.set_index(\"date\")\n",
    "df"
   ]
  },
  {
   "cell_type": "code",
   "execution_count": null,
   "metadata": {
    "lc_cell_meme": {
     "current": "d7466e84-63ba-11e8-8e10-0242ac110002",
     "history": [
      {
       "current": "d7466e84-63ba-11e8-8e10-0242ac110002",
       "next": "4f2bdd7c-63ba-11e8-8e10-0242ac110002",
       "previous": "97cd690c-6328-11e8-a83e-0242ac110002"
      }
     ],
     "next": null,
     "previous": "97cd690c-6328-11e8-a83e-0242ac110002"
    }
   },
   "outputs": [],
   "source": [
    "df.plot()"
   ]
  }
 ],
 "metadata": {
  "kernelspec": {
   "display_name": "Python 3 (LC_wrapper)",
   "language": "python",
   "name": "python3-wrapper"
  },
  "language_info": {
   "file_extension": ".py",
   "mimetype": "text/x-python",
   "name": "python",
   "nbconvert_exporter": "python",
   "pygments_lexer": "ipython3",
   "version": "3.6.5"
  },
  "lc_notebook_meme": {
   "current": "cf59d1d6-6250-11e8-b48c-0242ac110002",
   "lc_server_signature": {
    "current": {
     "notebook_dir": "/home/jovyan",
     "notebook_path": "/handson",
     "server_url": "http://localhost:8888/",
     "signature_id": "ff394282-63a5-11e8-8e10-0242ac110002"
    },
    "history": [
     {
      "notebook_dir": "/home/jovyan",
      "notebook_path": "/",
      "server_url": "http://localhost:8888/",
      "signature_id": "6aa4112a-6250-11e8-b48c-0242ac110002"
     }
    ]
   }
  },
  "toc": {
   "base_numbering": 1,
   "nav_menu": {},
   "number_sections": true,
   "sideBar": true,
   "skip_h1_title": false,
   "title_cell": "Table of Contents",
   "title_sidebar": "Contents",
   "toc_cell": false,
   "toc_position": {},
   "toc_section_display": true,
   "toc_window_display": false
  }
 },
 "nbformat": 4,
 "nbformat_minor": 2
}
