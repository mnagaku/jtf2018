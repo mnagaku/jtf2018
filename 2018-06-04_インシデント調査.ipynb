{
 "cells": [
  {
   "cell_type": "markdown",
   "metadata": {
    "lc_cell_meme": {
     "current": "68b09bac-64b4-11e8-8364-0242ac110002",
     "history": [
      {
       "current": "68b09bac-64b4-11e8-8364-0242ac110002",
       "next": "68b09c4c-64b4-11e8-8364-0242ac110002",
       "previous": null
      },
      {
       "current": "68b09bac-64b4-11e8-8364-0242ac110002",
       "next": "f7be3304-64b4-11e8-8364-0242ac110002",
       "previous": null
      }
     ],
     "next": "78e0cf82-6532-11e8-8364-0242ac110002",
     "previous": null
    }
   },
   "source": [
    "# インシデント調査\n",
    "\n",
    "M先輩から「このサーバがちょっと怪しいくって調査したいから、[インシデントレスポンス第3版](https://www.amazon.co.jp/dp/4822279871/)のp179に載ってるサーバの調査コマンド一式の結果のレポート作って。あ、あと、ポートが1つ LISTEN になってて http サーバになってるはずなんで、それが動いてるかも確認しといて。」と指示があった。\n",
    "\n",
    "前回作業を踏まえて今回も作業するが、今後も同様の作業がありそうなので、リファクタリングしておく。\n",
    "\n",
    "M先輩から「サービス止めないでファイルシステム舐めたりしてるので、作業が与えるサーバの負荷は気になる」とコメントがあったので、適時ロードアベレージを取っておくことにする。（コードは別のとこで作ったものを持ち込んだ）"
   ]
  },
  {
   "cell_type": "markdown",
   "metadata": {
    "lc_cell_meme": {
     "current": "78e0cf82-6532-11e8-8364-0242ac110002",
     "history": [
      {
       "current": "78e0cf82-6532-11e8-8364-0242ac110002",
       "next": "f7be3304-64b4-11e8-8364-0242ac110002",
       "previous": "68b09bac-64b4-11e8-8364-0242ac110002"
      }
     ],
     "next": "c069221e-6532-11e8-8364-0242ac110002",
     "previous": "68b09bac-64b4-11e8-8364-0242ac110002"
    }
   },
   "source": [
    "システムの負荷状態を記録しておく。"
   ]
  },
  {
   "cell_type": "code",
   "execution_count": 1,
   "metadata": {
    "deletable": false,
    "editable": false,
    "lc_cell_meme": {
     "current": "c069221e-6532-11e8-8364-0242ac110002",
     "next": "c069234a-6532-11e8-8364-0242ac110002",
     "previous": "78e0cf82-6532-11e8-8364-0242ac110002"
    },
    "pinned_outputs": [],
    "run_through_control": {
     "frozen": true
    }
   },
   "outputs": [
    {
     "name": "stdout",
     "output_type": "stream",
     "text": [
      "Collecting parse\n",
      "  Downloading https://files.pythonhosted.org/packages/79/e1/522401e2cb06d09497f2f56baa3b902116c97dec6f448d02b730e63b44a8/parse-1.8.4.tar.gz\n",
      "Building wheels for collected packages: parse\n",
      "  Running setup.py bdist_wheel for parse ... \u001b[?25ldone\n",
      "\u001b[?25h  Stored in directory: /home/jovyan/.cache/pip/wheels/d9/25/e7/8f6f6a0e923b019d09148f5ea711333b94fab03f585e990eee\n",
      "Successfully built parse\n",
      "Installing collected packages: parse\n",
      "Successfully installed parse-1.8.4\n"
     ]
    }
   ],
   "source": [
    "!pip install parse"
   ]
  },
  {
   "cell_type": "code",
   "execution_count": 2,
   "metadata": {
    "deletable": false,
    "editable": false,
    "lc_cell_meme": {
     "current": "c069234a-6532-11e8-8364-0242ac110002",
     "next": "f7be3304-64b4-11e8-8364-0242ac110002",
     "previous": "c069221e-6532-11e8-8364-0242ac110002"
    },
    "pinned_outputs": [
     {
      "execution_count": 2,
      "outputs": [
       {
        "name": "stdout",
        "output_type": "stream",
        "text": "[[datetime.datetime(2018, 6, 4, 15, 33, 6, 58195, tzinfo=datetime.timezone(datetime.timedelta(0, 32400), 'JST')), 0.08, 0.04, 0.08]]\n"
       }
      ]
     }
    ],
    "run_through_control": {
     "frozen": true
    }
   },
   "outputs": [
    {
     "name": "stdout",
     "output_type": "stream",
     "text": [
      "[[datetime.datetime(2018, 6, 4, 15, 33, 6, 58195, tzinfo=datetime.timezone(datetime.timedelta(0, 32400), 'JST')), 0.08, 0.04, 0.08]]\n"
     ]
    }
   ],
   "source": [
    "import datetime\n",
    "JST = datetime.timezone(datetime.timedelta(hours=+9), 'JST')\n",
    "\n",
    "import parse\n",
    "\n",
    "uptime_list = []\n",
    "\n",
    "uptime_str = !uptime\n",
    "uptime_clumn = parse.parse(\"{}load average: {:g}, {:g}, {:g}\", uptime_str[0])\n",
    "uptime_clumn = list(uptime_clumn)[1:]\n",
    "uptime_clumn.insert(0, datetime.datetime.now(JST))\n",
    "uptime_list.append(uptime_clumn)\n",
    "print(uptime_list)"
   ]
  },
  {
   "cell_type": "markdown",
   "metadata": {
    "lc_cell_meme": {
     "current": "f7be3304-64b4-11e8-8364-0242ac110002",
     "history": [
      {
       "current": "f7be3304-64b4-11e8-8364-0242ac110002",
       "next": "68b09c4c-64b4-11e8-8364-0242ac110002",
       "previous": "68b09bac-64b4-11e8-8364-0242ac110002"
      },
      {
       "current": "f7be3304-64b4-11e8-8364-0242ac110002",
       "next": "6c4c05ce-64c0-11e8-8364-0242ac110002",
       "previous": "68b09bac-64b4-11e8-8364-0242ac110002"
      },
      {
       "current": "f7be3304-64b4-11e8-8364-0242ac110002",
       "next": "e9d74974-6531-11e8-8364-0242ac110002",
       "previous": "68b09bac-64b4-11e8-8364-0242ac110002"
      },
      {
       "current": "f7be3304-64b4-11e8-8364-0242ac110002",
       "next": "e9d74974-6531-11e8-8364-0242ac110002",
       "previous": "78e0cf82-6532-11e8-8364-0242ac110002"
      }
     ],
     "next": "e9d74974-6531-11e8-8364-0242ac110002",
     "previous": "c069234a-6532-11e8-8364-0242ac110002"
    }
   },
   "source": [
    "# ライブレスポンス実施"
   ]
  },
  {
   "cell_type": "markdown",
   "metadata": {
    "lc_cell_meme": {
     "current": "e9d74974-6531-11e8-8364-0242ac110002",
     "next": "6c4c05ce-64c0-11e8-8364-0242ac110002",
     "previous": "f7be3304-64b4-11e8-8364-0242ac110002"
    }
   },
   "source": [
    "## 事前準備"
   ]
  },
  {
   "cell_type": "markdown",
   "metadata": {
    "lc_cell_meme": {
     "current": "6c4c05ce-64c0-11e8-8364-0242ac110002",
     "history": [
      {
       "current": "6c4c05ce-64c0-11e8-8364-0242ac110002",
       "next": "68b09c4c-64b4-11e8-8364-0242ac110002",
       "previous": "f7be3304-64b4-11e8-8364-0242ac110002"
      },
      {
       "current": "6c4c05ce-64c0-11e8-8364-0242ac110002",
       "next": "68b09c4c-64b4-11e8-8364-0242ac110002",
       "previous": "e9d74974-6531-11e8-8364-0242ac110002"
      }
     ],
     "next": "86cc0f9e-64b5-11e8-8364-0242ac110002",
     "previous": "e9d74974-6531-11e8-8364-0242ac110002"
    }
   },
   "source": [
    "[作業対象のコンテナ](https://hub.docker.com/r/mnagaku/lc-minimal-notebook/)では、環境変数でTZ変えれるので、JSTに設定する。"
   ]
  },
  {
   "cell_type": "code",
   "execution_count": 3,
   "metadata": {
    "deletable": false,
    "editable": false,
    "lc_cell_meme": {
     "current": "86cc0f9e-64b5-11e8-8364-0242ac110002",
     "history": [
      {
       "current": "86cc0f9e-64b5-11e8-8364-0242ac110002",
       "next": null,
       "previous": "3f447cec-64b5-11e8-8364-0242ac110002"
      },
      {
       "current": "86cc0f9e-64b5-11e8-8364-0242ac110002",
       "next": "3f447b2a-64b5-11e8-8364-0242ac110002",
       "previous": "3f447cec-64b5-11e8-8364-0242ac110002"
      }
     ],
     "next": "315b432c-6532-11e8-8364-0242ac110002",
     "previous": "6c4c05ce-64c0-11e8-8364-0242ac110002"
    },
    "pinned_outputs": [],
    "run_through_control": {
     "frozen": true
    }
   },
   "outputs": [
    {
     "name": "stdout",
     "output_type": "stream",
     "text": [
      "env: TZ=JST-9\n"
     ]
    }
   ],
   "source": [
    "%env TZ JST-9"
   ]
  },
  {
   "cell_type": "markdown",
   "metadata": {
    "lc_cell_meme": {
     "current": "315b432c-6532-11e8-8364-0242ac110002",
     "history": [
      {
       "current": "315b432c-6532-11e8-8364-0242ac110002",
       "next": "68b09c4c-64b4-11e8-8364-0242ac110002",
       "previous": "86cc0f9e-64b5-11e8-8364-0242ac110002"
      }
     ],
     "next": "4f73ac04-6533-11e8-8364-0242ac110002",
     "previous": "86cc0f9e-64b5-11e8-8364-0242ac110002"
    }
   },
   "source": [
    "コマンドの追加インストール。"
   ]
  },
  {
   "cell_type": "code",
   "execution_count": 4,
   "metadata": {
    "deletable": false,
    "editable": false,
    "lc_cell_meme": {
     "current": "4f73ac04-6533-11e8-8364-0242ac110002",
     "next": "4f73ae5c-6533-11e8-8364-0242ac110002",
     "previous": "315b432c-6532-11e8-8364-0242ac110002"
    },
    "pinned_outputs": [],
    "run_through_control": {
     "frozen": true
    }
   },
   "outputs": [
    {
     "name": "stdout",
     "output_type": "stream",
     "text": [
      "Get:1 http://archive.ubuntu.com/ubuntu xenial InRelease [247 kB]\n",
      "Get:2 http://security.ubuntu.com/ubuntu xenial-security InRelease [107 kB]\n",
      "Get:3 http://archive.ubuntu.com/ubuntu xenial-updates InRelease [109 kB]\n",
      "Get:4 http://security.ubuntu.com/ubuntu xenial-security/universe Sources [81.2 kB]\n",
      "Get:5 http://security.ubuntu.com/ubuntu xenial-security/main amd64 Packages [637 kB]\n",
      "Get:6 http://security.ubuntu.com/ubuntu xenial-security/restricted amd64 Packages [12.7 kB]\n",
      "Get:7 http://security.ubuntu.com/ubuntu xenial-security/universe amd64 Packages [445 kB]\n",
      "Get:8 http://security.ubuntu.com/ubuntu xenial-security/multiverse amd64 Packages [3,743 B]\n",
      "Get:9 http://archive.ubuntu.com/ubuntu xenial-backports InRelease [107 kB]     \n",
      "Get:10 http://archive.ubuntu.com/ubuntu xenial/universe Sources [9,802 kB]     \n",
      "Get:11 http://archive.ubuntu.com/ubuntu xenial/main amd64 Packages [1,558 kB]  \n",
      "Get:12 http://archive.ubuntu.com/ubuntu xenial/restricted amd64 Packages [14.1 kB]\n",
      "Get:13 http://archive.ubuntu.com/ubuntu xenial/universe amd64 Packages [9,827 kB]\n",
      "Get:14 http://archive.ubuntu.com/ubuntu xenial/multiverse amd64 Packages [176 kB]\n",
      "Get:15 http://archive.ubuntu.com/ubuntu xenial-updates/universe Sources [256 kB]\n",
      "Get:16 http://archive.ubuntu.com/ubuntu xenial-updates/main amd64 Packages [1,012 kB]\n",
      "Get:17 http://archive.ubuntu.com/ubuntu xenial-updates/restricted amd64 Packages [13.1 kB]\n",
      "Get:18 http://archive.ubuntu.com/ubuntu xenial-updates/universe amd64 Packages [814 kB]\n",
      "Get:19 http://archive.ubuntu.com/ubuntu xenial-updates/multiverse amd64 Packages [18.8 kB]\n",
      "Get:20 http://archive.ubuntu.com/ubuntu xenial-backports/main amd64 Packages [5,157 B]\n",
      "Get:21 http://archive.ubuntu.com/ubuntu xenial-backports/universe amd64 Packages [8,068 B]\n",
      "Fetched 25.3 MB in 23s (1,074 kB/s)                                            \n",
      "Reading package lists... Done\n",
      "Reading package lists... Done\n",
      "Building dependency tree       \n",
      "Reading state information... Done\n",
      "Calculating upgrade... Done\n",
      "0 upgraded, 0 newly installed, 0 to remove and 0 not upgraded.\n",
      "Reading package lists... Done\n",
      "Building dependency tree       \n",
      "Reading state information... Done\n",
      "The following additional packages will be installed:\n",
      "  libcurses-perl libcurses-ui-perl libterm-readkey-perl\n",
      "The following NEW packages will be installed:\n",
      "  kmod libcurses-perl libcurses-ui-perl libterm-readkey-perl lsof sysv-rc-conf\n",
      "0 upgraded, 6 newly installed, 0 to remove and 0 not upgraded.\n",
      "Need to get 700 kB of archives.\n",
      "After this operation, 1,906 kB of additional disk space will be used.\n",
      "Get:1 http://archive.ubuntu.com/ubuntu xenial-updates/main amd64 kmod amd64 22-1ubuntu5 [88.6 kB]\n",
      "Get:2 http://archive.ubuntu.com/ubuntu xenial/main amd64 lsof amd64 4.89+dfsg-0.1 [248 kB]\n",
      "Get:3 http://archive.ubuntu.com/ubuntu xenial/universe amd64 libcurses-perl amd64 1.33-1build1 [84.2 kB]\n",
      "Get:4 http://archive.ubuntu.com/ubuntu xenial/universe amd64 libterm-readkey-perl amd64 2.33-1build1 [27.2 kB]\n",
      "Get:5 http://archive.ubuntu.com/ubuntu xenial/universe amd64 libcurses-ui-perl all 0.9609-1 [229 kB]\n",
      "Get:6 http://archive.ubuntu.com/ubuntu xenial/universe amd64 sysv-rc-conf all 0.99-7 [22.7 kB]\n",
      "Fetched 700 kB in 3s (217 kB/s)         \n",
      "debconf: delaying package configuration, since apt-utils is not installed\n",
      "Selecting previously unselected package kmod.\n",
      "(Reading database ... 11349 files and directories currently installed.)\n",
      "Preparing to unpack .../kmod_22-1ubuntu5_amd64.deb ...\n",
      "Unpacking kmod (22-1ubuntu5) ...\n",
      "Selecting previously unselected package lsof.\n",
      "Preparing to unpack .../lsof_4.89+dfsg-0.1_amd64.deb ...\n",
      "Unpacking lsof (4.89+dfsg-0.1) ...\n",
      "Selecting previously unselected package libcurses-perl.\n",
      "Preparing to unpack .../libcurses-perl_1.33-1build1_amd64.deb ...\n",
      "Unpacking libcurses-perl (1.33-1build1) ...\n",
      "Selecting previously unselected package libterm-readkey-perl.\n",
      "Preparing to unpack .../libterm-readkey-perl_2.33-1build1_amd64.deb ...\n",
      "Unpacking libterm-readkey-perl (2.33-1build1) ...\n",
      "Selecting previously unselected package libcurses-ui-perl.\n",
      "Preparing to unpack .../libcurses-ui-perl_0.9609-1_all.deb ...\n",
      "Unpacking libcurses-ui-perl (0.9609-1) ...\n",
      "Selecting previously unselected package sysv-rc-conf.\n",
      "Preparing to unpack .../sysv-rc-conf_0.99-7_all.deb ...\n",
      "Unpacking sysv-rc-conf (0.99-7) ...\n",
      "Processing triggers for systemd (229-4ubuntu21.2) ...\n",
      "Setting up kmod (22-1ubuntu5) ...\n",
      "Setting up lsof (4.89+dfsg-0.1) ...\n",
      "Setting up libcurses-perl (1.33-1build1) ...\n",
      "Setting up libterm-readkey-perl (2.33-1build1) ...\n",
      "Setting up libcurses-ui-perl (0.9609-1) ...\n",
      "Setting up sysv-rc-conf (0.99-7) ...\n",
      "Processing triggers for systemd (229-4ubuntu21.2) ...\n"
     ]
    }
   ],
   "source": [
    "!sudo apt-get update\n",
    "!sudo apt-get upgrade -y\n",
    "!sudo apt-get install -y sysv-rc-conf kmod lsof"
   ]
  },
  {
   "cell_type": "markdown",
   "metadata": {
    "lc_cell_meme": {
     "current": "4f73ae5c-6533-11e8-8364-0242ac110002",
     "history": [
      {
       "current": "4f73ae5c-6533-11e8-8364-0242ac110002",
       "next": "68b09c4c-64b4-11e8-8364-0242ac110002",
       "previous": "4f73ac04-6533-11e8-8364-0242ac110002"
      }
     ],
     "next": "96f96a5a-6533-11e8-8364-0242ac110002",
     "previous": "4f73ac04-6533-11e8-8364-0242ac110002"
    }
   },
   "source": [
    "Pythonのライブラリも更新しておく。"
   ]
  },
  {
   "cell_type": "code",
   "execution_count": 5,
   "metadata": {
    "deletable": false,
    "editable": false,
    "lc_cell_meme": {
     "current": "96f96a5a-6533-11e8-8364-0242ac110002",
     "history": [
      {
       "current": "96f96a5a-6533-11e8-8364-0242ac110002",
       "next": "68b09c4c-64b4-11e8-8364-0242ac110002",
       "previous": "4f73ae5c-6533-11e8-8364-0242ac110002"
      }
     ],
     "next": "26083c44-6534-11e8-8364-0242ac110002",
     "previous": "4f73ae5c-6533-11e8-8364-0242ac110002"
    },
    "pinned_outputs": [],
    "run_through_control": {
     "frozen": true
    }
   },
   "outputs": [
    {
     "name": "stdout",
     "output_type": "stream",
     "text": [
      "Requirement already up-to-date: pip in /opt/conda/lib/python3.6/site-packages (10.0.1)\n",
      "Collecting pip-review\n",
      "  Downloading https://files.pythonhosted.org/packages/92/a0/d978fd28bab000001304a29d560af69a755d9524bece3f6af7f3f1fcccca/pip_review-1.0-py2.py3-none-any.whl\n",
      "Requirement already satisfied: pip in /opt/conda/lib/python3.6/site-packages (from pip-review) (10.0.1)\n",
      "Collecting packaging (from pip-review)\n",
      "  Downloading https://files.pythonhosted.org/packages/ad/c2/b500ea05d5f9f361a562f089fc91f77ed3b4783e13a08a3daf82069b1224/packaging-17.1-py2.py3-none-any.whl\n",
      "Requirement already satisfied: pyparsing>=2.0.2 in /opt/conda/lib/python3.6/site-packages (from packaging->pip-review) (2.2.0)\n",
      "Requirement already satisfied: six in /opt/conda/lib/python3.6/site-packages (from packaging->pip-review) (1.11.0)\n",
      "Installing collected packages: packaging, pip-review\n",
      "Successfully installed packaging-17.1 pip-review-1.0\n",
      "Collecting ansible==2.5.4\n",
      "\u001b[?25l  Downloading https://files.pythonhosted.org/packages/6e/95/490f5e39ee7cc7956eecd070610f0a873b97781c9efdbf6098bad2ed3ee0/ansible-2.5.4.tar.gz (10.1MB)\n",
      "\u001b[K    100% |████████████████████████████████| 10.1MB 5.9MB/s eta 0:00:01   78% |█████████████████████████       | 7.9MB 28.8MB/s eta 0:00:01\n",
      "\u001b[?25hCollecting boto3==1.7.31\n",
      "\u001b[?25l  Downloading https://files.pythonhosted.org/packages/90/88/acf7e4ec3a31c0d3da51037c6c94cc93a7595d4eb04fbb01e7f4f4e2dbc5/boto3-1.7.31-py2.py3-none-any.whl (128kB)\n",
      "\u001b[K    100% |████████████████████████████████| 133kB 11.3MB/s ta 0:00:01\n",
      "\u001b[?25hCollecting botocore==1.10.31\n",
      "\u001b[?25l  Downloading https://files.pythonhosted.org/packages/11/5c/a64d7550362200100e145519952a651e43342c848c9988f37c3403caab7a/botocore-1.10.31-py2.py3-none-any.whl (4.3MB)\n",
      "\u001b[K    100% |████████████████████████████████| 4.3MB 8.6MB/s eta 0:00:01\n",
      "\u001b[?25hCollecting cryptography==2.2.2\n",
      "\u001b[?25l  Downloading https://files.pythonhosted.org/packages/fa/f4/3cde3604972dfa2b0fea85b9711948bb4fb70ab64095322aef35071bd254/cryptography-2.2.2-cp34-abi3-manylinux1_x86_64.whl (2.2MB)\n",
      "\u001b[K    100% |████████████████████████████████| 2.2MB 21.6MB/s ta 0:00:01\n",
      "\u001b[?25hCollecting notebook==5.5.0\n",
      "\u001b[?25l  Downloading https://files.pythonhosted.org/packages/c0/66/cfed59f574d03ca5f1b7c5281485a9cc9a0f21342d24e0f057572316dae5/notebook-5.5.0-py2.py3-none-any.whl (8.4MB)\n",
      "\u001b[K    100% |████████████████████████████████| 8.4MB 8.5MB/s eta 0:00:01    16% |█████▍                          | 1.4MB 22.2MB/s eta 0:00:01\n",
      "\u001b[?25hCollecting pexpect==4.6.0\n",
      "\u001b[?25l  Downloading https://files.pythonhosted.org/packages/89/e6/b5a1de8b0cc4e07ca1b305a4fcc3f9806025c1b651ea302646341222f88b/pexpect-4.6.0-py2.py3-none-any.whl (57kB)\n",
      "\u001b[K    100% |████████████████████████████████| 61kB 22.8MB/s ta 0:00:01\n",
      "\u001b[?25hCollecting prompt-toolkit==2.0.2\n",
      "\u001b[?25l  Downloading https://files.pythonhosted.org/packages/42/7e/6ec75b60ff3cf1296764128ca4c2c346d8dc11847844e7b9f75973a1ef27/prompt_toolkit-2.0.2-py3-none-any.whl (322kB)\n",
      "\u001b[K    100% |████████████████████████████████| 327kB 25.1MB/s ta 0:00:01\n",
      "\u001b[?25hCollecting python-oauth2==1.1.0\n",
      "\u001b[?25l  Downloading https://files.pythonhosted.org/packages/4c/a4/e92b8ba57ccfee230f196c80dc9327d1b626387c5ec1aa400e343161fde8/python-oauth2-1.1.0.tar.gz (42kB)\n",
      "\u001b[K    100% |████████████████████████████████| 51kB 22.3MB/s ta 0:00:01\n",
      "\u001b[?25hCollecting SQLAlchemy==1.2.8\n",
      "\u001b[?25l  Downloading https://files.pythonhosted.org/packages/b4/9c/411a9bac1a471bed54ec447dc183aeed12a75c1b648307e18b56e3829363/SQLAlchemy-1.2.8.tar.gz (5.6MB)\n",
      "\u001b[K    100% |████████████████████████████████| 5.6MB 7.2MB/s eta 0:00:01\n",
      "\u001b[?25hCollecting webencodings==0.5.1\n",
      "  Downloading https://files.pythonhosted.org/packages/f4/24/2a3e3df732393fed8b3ebf2ec078f05546de641fe1b667ee316ec1dcf3b7/webencodings-0.5.1-py2.py3-none-any.whl\n",
      "Collecting wheel==0.31.1\n",
      "\u001b[?25l  Downloading https://files.pythonhosted.org/packages/81/30/e935244ca6165187ae8be876b6316ae201b71485538ffac1d718843025a9/wheel-0.31.1-py2.py3-none-any.whl (41kB)\n",
      "\u001b[K    100% |████████████████████████████████| 51kB 16.0MB/s ta 0:00:01\n",
      "\u001b[?25hRequirement already satisfied: jinja2 in /opt/conda/lib/python3.6/site-packages (from ansible==2.5.4) (2.10)\n",
      "Requirement already satisfied: PyYAML in /opt/conda/lib/python3.6/site-packages (from ansible==2.5.4) (3.12)\n",
      "Requirement already satisfied: paramiko in /opt/conda/lib/python3.6/site-packages (from ansible==2.5.4) (2.4.1)\n",
      "Requirement already satisfied: setuptools in /opt/conda/lib/python3.6/site-packages (from ansible==2.5.4) (39.2.0)\n",
      "Requirement already satisfied: jmespath<1.0.0,>=0.7.1 in /opt/conda/lib/python3.6/site-packages (from boto3==1.7.31) (0.9.3)\n",
      "Requirement already satisfied: s3transfer<0.2.0,>=0.1.10 in /opt/conda/lib/python3.6/site-packages (from boto3==1.7.31) (0.1.13)\n",
      "Requirement already satisfied: python-dateutil<3.0.0,>=2.1; python_version >= \"2.7\" in /opt/conda/lib/python3.6/site-packages (from botocore==1.10.31) (2.7.3)\n",
      "Requirement already satisfied: docutils>=0.10 in /opt/conda/lib/python3.6/site-packages (from botocore==1.10.31) (0.14)\n",
      "Requirement already satisfied: six>=1.4.1 in /opt/conda/lib/python3.6/site-packages (from cryptography==2.2.2) (1.11.0)\n",
      "Requirement already satisfied: asn1crypto>=0.21.0 in /opt/conda/lib/python3.6/site-packages (from cryptography==2.2.2) (0.24.0)\n",
      "Requirement already satisfied: cffi>=1.7; platform_python_implementation != \"PyPy\" in /opt/conda/lib/python3.6/site-packages (from cryptography==2.2.2) (1.11.5)\n",
      "Requirement already satisfied: idna>=2.1 in /opt/conda/lib/python3.6/site-packages (from cryptography==2.2.2) (2.6)\n",
      "Requirement already satisfied: ipython-genutils in /opt/conda/lib/python3.6/site-packages (from notebook==5.5.0) (0.2.0)\n",
      "Requirement already satisfied: traitlets>=4.2.1 in /opt/conda/lib/python3.6/site-packages (from notebook==5.5.0) (4.3.2)\n",
      "Requirement already satisfied: jupyter-core>=4.4.0 in /opt/conda/lib/python3.6/site-packages (from notebook==5.5.0) (4.4.0)\n",
      "Requirement already satisfied: nbformat in /opt/conda/lib/python3.6/site-packages (from notebook==5.5.0) (4.4.0)\n",
      "Requirement already satisfied: terminado>=0.8.1 in /opt/conda/lib/python3.6/site-packages (from notebook==5.5.0) (0.8.1)\n",
      "Requirement already satisfied: jupyter-client>=5.2.0 in /opt/conda/lib/python3.6/site-packages (from notebook==5.5.0) (5.2.3)\n",
      "Requirement already satisfied: tornado>=4 in /opt/conda/lib/python3.6/site-packages (from notebook==5.5.0) (5.0.2)\n",
      "Requirement already satisfied: Send2Trash in /opt/conda/lib/python3.6/site-packages (from notebook==5.5.0) (1.5.0)\n",
      "Requirement already satisfied: pyzmq>=17 in /opt/conda/lib/python3.6/site-packages (from notebook==5.5.0) (17.0.0)\n",
      "Requirement already satisfied: nbconvert in /opt/conda/lib/python3.6/site-packages (from notebook==5.5.0) (5.3.1)\n",
      "Requirement already satisfied: ipykernel in /opt/conda/lib/python3.6/site-packages (from notebook==5.5.0) (4.8.2)\n",
      "Requirement already satisfied: ptyprocess>=0.5 in /opt/conda/lib/python3.6/site-packages (from pexpect==4.6.0) (0.5.2)\n",
      "Requirement already satisfied: wcwidth in /opt/conda/lib/python3.6/site-packages (from prompt-toolkit==2.0.2) (0.1.7)\n",
      "Requirement already satisfied: MarkupSafe>=0.23 in /opt/conda/lib/python3.6/site-packages (from jinja2->ansible==2.5.4) (1.0)\n",
      "Requirement already satisfied: pyasn1>=0.1.7 in /opt/conda/lib/python3.6/site-packages (from paramiko->ansible==2.5.4) (0.4.3)\n",
      "Requirement already satisfied: bcrypt>=3.1.3 in /opt/conda/lib/python3.6/site-packages (from paramiko->ansible==2.5.4) (3.1.4)\n",
      "Requirement already satisfied: pynacl>=1.0.1 in /opt/conda/lib/python3.6/site-packages (from paramiko->ansible==2.5.4) (1.2.1)\n",
      "Requirement already satisfied: pycparser in /opt/conda/lib/python3.6/site-packages (from cffi>=1.7; platform_python_implementation != \"PyPy\"->cryptography==2.2.2) (2.18)\n",
      "Requirement already satisfied: decorator in /opt/conda/lib/python3.6/site-packages (from traitlets>=4.2.1->notebook==5.5.0) (4.3.0)\n",
      "Requirement already satisfied: jsonschema!=2.5.0,>=2.4 in /opt/conda/lib/python3.6/site-packages (from nbformat->notebook==5.5.0) (2.6.0)\n",
      "Requirement already satisfied: testpath in /opt/conda/lib/python3.6/site-packages (from nbconvert->notebook==5.5.0) (0.3.1)\n",
      "Requirement already satisfied: pygments in /opt/conda/lib/python3.6/site-packages (from nbconvert->notebook==5.5.0) (2.2.0)\n",
      "Requirement already satisfied: pandocfilters>=1.4.1 in /opt/conda/lib/python3.6/site-packages (from nbconvert->notebook==5.5.0) (1.4.2)\n",
      "Requirement already satisfied: mistune>=0.7.4 in /opt/conda/lib/python3.6/site-packages (from nbconvert->notebook==5.5.0) (0.8.3)\n",
      "Requirement already satisfied: entrypoints>=0.2.2 in /opt/conda/lib/python3.6/site-packages (from nbconvert->notebook==5.5.0) (0.2.3)\n",
      "Requirement already satisfied: bleach in /opt/conda/lib/python3.6/site-packages (from nbconvert->notebook==5.5.0) (2.1.3)\n",
      "Requirement already satisfied: ipython>=4.0.0 in /opt/conda/lib/python3.6/site-packages (from ipykernel->notebook==5.5.0) (6.4.0)\n"
     ]
    },
    {
     "name": "stdout",
     "output_type": "stream",
     "text": [
      "Requirement already satisfied: html5lib!=1.0b1,!=1.0b2,!=1.0b3,!=1.0b4,!=1.0b5,!=1.0b6,!=1.0b7,!=1.0b8,>=0.99999999pre in /opt/conda/lib/python3.6/site-packages (from bleach->nbconvert->notebook==5.5.0) (1.0.1)\n",
      "Requirement already satisfied: jedi>=0.10 in /opt/conda/lib/python3.6/site-packages (from ipython>=4.0.0->ipykernel->notebook==5.5.0) (0.12.0)\n",
      "Requirement already satisfied: pickleshare in /opt/conda/lib/python3.6/site-packages (from ipython>=4.0.0->ipykernel->notebook==5.5.0) (0.7.4)\n",
      "Requirement already satisfied: simplegeneric>0.8 in /opt/conda/lib/python3.6/site-packages (from ipython>=4.0.0->ipykernel->notebook==5.5.0) (0.8.1)\n",
      "Requirement already satisfied: backcall in /opt/conda/lib/python3.6/site-packages (from ipython>=4.0.0->ipykernel->notebook==5.5.0) (0.1.0)\n",
      "Requirement already satisfied: parso>=0.2.0 in /opt/conda/lib/python3.6/site-packages (from jedi>=0.10->ipython>=4.0.0->ipykernel->notebook==5.5.0) (0.2.1)\n",
      "Building wheels for collected packages: ansible, python-oauth2, SQLAlchemy\n",
      "  Running setup.py bdist_wheel for ansible ... \u001b[?25ldone\n",
      "\u001b[?25h  Stored in directory: /root/.cache/pip/wheels/73/06/19/ac7cec9cf76ab34da90b957db66a69bda89edde52cf2e764aa\n",
      "  Running setup.py bdist_wheel for python-oauth2 ... \u001b[?25ldone\n",
      "\u001b[?25h  Stored in directory: /root/.cache/pip/wheels/13/c1/d0/93af9b961392487f5fa8f98bbe473404bb3bb670d59219fa65\n",
      "  Running setup.py bdist_wheel for SQLAlchemy ... \u001b[?25ldone\n",
      "\u001b[?25h  Stored in directory: /root/.cache/pip/wheels/df/fc/61/df2f43ec3f11f864554bdc006a866a3ffffa59740bcf3674ef\n",
      "Successfully built ansible python-oauth2 SQLAlchemy\n",
      "\u001b[31mipython 6.4.0 has requirement prompt_toolkit<2.0.0,>=1.0.15, but you'll have prompt-toolkit 2.0.2 which is incompatible.\u001b[0m\n",
      "Installing collected packages: cryptography, ansible, botocore, boto3, notebook, pexpect, prompt-toolkit, python-oauth2, SQLAlchemy, webencodings, wheel\n",
      "  Found existing installation: cryptography 2.2.1\n",
      "    Uninstalling cryptography-2.2.1:\n",
      "      Successfully uninstalled cryptography-2.2.1\n",
      "  Found existing installation: ansible 2.5.3\n",
      "    Uninstalling ansible-2.5.3:\n",
      "      Successfully uninstalled ansible-2.5.3\n",
      "  Found existing installation: botocore 1.10.28\n",
      "    Uninstalling botocore-1.10.28:\n",
      "      Successfully uninstalled botocore-1.10.28\n",
      "  Found existing installation: boto3 1.7.28\n",
      "    Uninstalling boto3-1.7.28:\n",
      "      Successfully uninstalled boto3-1.7.28\n",
      "  Found existing installation: notebook 5.4.1\n",
      "    Uninstalling notebook-5.4.1:\n",
      "      Successfully uninstalled notebook-5.4.1\n",
      "  Found existing installation: pexpect 4.5.0\n",
      "    Uninstalling pexpect-4.5.0:\n",
      "      Successfully uninstalled pexpect-4.5.0\n",
      "  Found existing installation: prompt-toolkit 1.0.15\n",
      "    Uninstalling prompt-toolkit-1.0.15:\n",
      "      Successfully uninstalled prompt-toolkit-1.0.15\n",
      "  Found existing installation: python-oauth2 1.0.1\n",
      "    Uninstalling python-oauth2-1.0.1:\n",
      "      Successfully uninstalled python-oauth2-1.0.1\n",
      "  Found existing installation: SQLAlchemy 1.2.7\n",
      "    Uninstalling SQLAlchemy-1.2.7:\n",
      "      Successfully uninstalled SQLAlchemy-1.2.7\n",
      "  Found existing installation: webencodings 0.5\n",
      "    Uninstalling webencodings-0.5:\n",
      "      Successfully uninstalled webencodings-0.5\n",
      "  Found existing installation: wheel 0.31.0\n",
      "    Uninstalling wheel-0.31.0:\n",
      "      Successfully uninstalled wheel-0.31.0\n",
      "Successfully installed SQLAlchemy-1.2.8 ansible-2.5.4 boto3-1.7.31 botocore-1.10.31 cryptography-2.2.2 notebook-5.5.0 pexpect-4.6.0 prompt-toolkit-2.0.2 python-oauth2-1.1.0 webencodings-0.5.1 wheel-0.31.1\n"
     ]
    }
   ],
   "source": [
    "!pip install -U pip\n",
    "!pip install pip-review\n",
    "!sudo -H pip-review --auto"
   ]
  },
  {
   "cell_type": "markdown",
   "metadata": {
    "lc_cell_meme": {
     "current": "26083c44-6534-11e8-8364-0242ac110002",
     "next": "26084018-6534-11e8-8364-0242ac110002",
     "previous": "96f96a5a-6533-11e8-8364-0242ac110002"
    }
   },
   "source": [
    "追加したコマンドの確認。"
   ]
  },
  {
   "cell_type": "code",
   "execution_count": 6,
   "metadata": {
    "deletable": false,
    "editable": false,
    "lc_cell_meme": {
     "current": "26084018-6534-11e8-8364-0242ac110002",
     "next": "68b09c4c-64b4-11e8-8364-0242ac110002",
     "previous": "26083c44-6534-11e8-8364-0242ac110002"
    },
    "pinned_outputs": [
     {
      "execution_count": 6,
      "outputs": [
       {
        "name": "stdout",
        "output_type": "stream",
        "text": "/usr/sbin/sysv-rc-conf\n/sbin/lsmod\n/usr/bin/lsof\n"
       }
      ]
     }
    ],
    "run_through_control": {
     "frozen": true
    }
   },
   "outputs": [
    {
     "name": "stdout",
     "output_type": "stream",
     "text": [
      "/usr/sbin/sysv-rc-conf\n",
      "/sbin/lsmod\n",
      "/usr/bin/lsof\n"
     ]
    }
   ],
   "source": [
    "!which sysv-rc-conf\n",
    "!which lsmod\n",
    "!which lsof"
   ]
  },
  {
   "cell_type": "markdown",
   "metadata": {
    "lc_cell_meme": {
     "current": "68b09c4c-64b4-11e8-8364-0242ac110002",
     "history": [
      {
       "current": "68b09c4c-64b4-11e8-8364-0242ac110002",
       "next": null,
       "previous": "68b09bac-64b4-11e8-8364-0242ac110002"
      },
      {
       "current": "68b09c4c-64b4-11e8-8364-0242ac110002",
       "next": null,
       "previous": "f7be3304-64b4-11e8-8364-0242ac110002"
      },
      {
       "current": "68b09c4c-64b4-11e8-8364-0242ac110002",
       "next": "3f447b2a-64b5-11e8-8364-0242ac110002",
       "previous": "f7be3304-64b4-11e8-8364-0242ac110002"
      },
      {
       "current": "68b09c4c-64b4-11e8-8364-0242ac110002",
       "next": "3f447b2a-64b5-11e8-8364-0242ac110002",
       "previous": "6c4c05ce-64c0-11e8-8364-0242ac110002"
      },
      {
       "current": "68b09c4c-64b4-11e8-8364-0242ac110002",
       "next": "3f447b2a-64b5-11e8-8364-0242ac110002",
       "previous": "315b432c-6532-11e8-8364-0242ac110002"
      },
      {
       "current": "68b09c4c-64b4-11e8-8364-0242ac110002",
       "next": "3f447b2a-64b5-11e8-8364-0242ac110002",
       "previous": "4f73ae5c-6533-11e8-8364-0242ac110002"
      },
      {
       "current": "68b09c4c-64b4-11e8-8364-0242ac110002",
       "next": "3f447b2a-64b5-11e8-8364-0242ac110002",
       "previous": "96f96a5a-6533-11e8-8364-0242ac110002"
      }
     ],
     "next": "3f447b2a-64b5-11e8-8364-0242ac110002",
     "previous": "26084018-6534-11e8-8364-0242ac110002"
    }
   },
   "source": [
    "## システムの日付と時間"
   ]
  },
  {
   "cell_type": "code",
   "execution_count": 7,
   "metadata": {
    "deletable": false,
    "editable": false,
    "lc_cell_meme": {
     "current": "3f447b2a-64b5-11e8-8364-0242ac110002",
     "history": [
      {
       "current": "3f447b2a-64b5-11e8-8364-0242ac110002",
       "next": "3f447cec-64b5-11e8-8364-0242ac110002",
       "previous": "68b09c4c-64b4-11e8-8364-0242ac110002"
      }
     ],
     "next": "ce539a58-64b5-11e8-8364-0242ac110002",
     "previous": "68b09c4c-64b4-11e8-8364-0242ac110002"
    },
    "pinned_outputs": [
     {
      "execution_count": 7,
      "outputs": [
       {
        "name": "stdout",
        "output_type": "stream",
        "text": "Mon Jun  4 15:35:33 JST 2018\r\n"
       }
      ]
     }
    ],
    "run_through_control": {
     "frozen": true
    },
    "scrolled": true
   },
   "outputs": [
    {
     "name": "stdout",
     "output_type": "stream",
     "text": [
      "Mon Jun  4 15:35:33 JST 2018\r\n"
     ]
    }
   ],
   "source": [
    "!date"
   ]
  },
  {
   "cell_type": "markdown",
   "metadata": {
    "lc_cell_meme": {
     "current": "ce539a58-64b5-11e8-8364-0242ac110002",
     "history": [
      {
       "current": "ce539a58-64b5-11e8-8364-0242ac110002",
       "next": "ce539c9c-64b5-11e8-8364-0242ac110002",
       "previous": "ce5394a4-64b5-11e8-8364-0242ac110002"
      }
     ],
     "next": "ce539c9c-64b5-11e8-8364-0242ac110002",
     "previous": "3f447b2a-64b5-11e8-8364-0242ac110002"
    }
   },
   "source": [
    "## インストールされているソフトウェア"
   ]
  },
  {
   "cell_type": "code",
   "execution_count": 8,
   "metadata": {
    "deletable": false,
    "editable": false,
    "lc_cell_meme": {
     "current": "ce539c9c-64b5-11e8-8364-0242ac110002",
     "history": [
      {
       "current": "ce539c9c-64b5-11e8-8364-0242ac110002",
       "next": null,
       "previous": "ce539a58-64b5-11e8-8364-0242ac110002"
      }
     ],
     "next": "15d851b6-64b6-11e8-8364-0242ac110002",
     "previous": "ce539a58-64b5-11e8-8364-0242ac110002"
    },
    "pinned_outputs": [
     {
      "execution_count": 8,
      "outputs": [
       {
        "name": "stdout",
        "output_type": "stream",
        "text": "adduser\t\t\t\t\t\tinstall\r\napt\t\t\t\t\t\tinstall\r\nbase-files\t\t\t\t\tinstall\r\nbase-passwd\t\t\t\t\tinstall\r\nbash\t\t\t\t\t\tinstall\r\nbsdutils\t\t\t\t\tinstall\r\nbzip2\t\t\t\t\t\tinstall\r\nca-certificates\t\t\t\t\tinstall\r\ncoreutils\t\t\t\t\tinstall\r\ncurl\t\t\t\t\t\tinstall\r\ndash\t\t\t\t\t\tinstall\r\ndebconf\t\t\t\t\t\tinstall\r\ndebianutils\t\t\t\t\tinstall\r\ndiffutils\t\t\t\t\tinstall\r\ndpkg\t\t\t\t\t\tinstall\r\ne2fslibs:amd64\t\t\t\t\tinstall\r\ne2fsprogs\t\t\t\t\tinstall\r\nfindutils\t\t\t\t\tinstall\r\nfonts-ipafont-gothic\t\t\t\tinstall\r\nfonts-ipafont-mincho\t\t\t\tinstall\r\nfonts-liberation\t\t\t\tinstall\r\ngcc-5-base:amd64\t\t\t\tinstall\r\ngcc-6-base:amd64\t\t\t\tinstall\r\ngit\t\t\t\t\t\tinstall\r\ngit-man\t\t\t\t\t\tinstall\r\ngnupg\t\t\t\t\t\tinstall\r\ngpgv\t\t\t\t\t\tinstall\r\ngrep\t\t\t\t\t\tinstall\r\ngzip\t\t\t\t\t\tinstall\r\nhostname\t\t\t\t\tinstall\r\ninit\t\t\t\t\t\tinstall\r\ninit-system-helpers\t\t\t\tinstall\r\ninitscripts\t\t\t\t\tinstall\r\ninsserv\t\t\t\t\t\tinstall\r\niproute2\t\t\t\t\tinstall\r\nkmod\t\t\t\t\t\tinstall\r\nlibacl1:amd64\t\t\t\t\tinstall\r\nlibapparmor1:amd64\t\t\t\tinstall\r\nlibapt-pkg5.0:amd64\t\t\t\tinstall\r\nlibasn1-8-heimdal:amd64\t\t\t\tinstall\r\nlibattr1:amd64\t\t\t\t\tinstall\r\nlibaudit-common\t\t\t\t\tinstall\r\nlibaudit1:amd64\t\t\t\t\tinstall\r\nlibblkid1:amd64\t\t\t\t\tinstall\r\nlibbz2-1.0:amd64\t\t\t\tinstall\r\nlibc-bin\t\t\t\t\tinstall\r\nlibc6:amd64\t\t\t\t\tinstall\r\nlibcap2:amd64\t\t\t\t\tinstall\r\nlibcap2-bin\t\t\t\t\tinstall\r\nlibcomerr2:amd64\t\t\t\tinstall\r\nlibcryptsetup4:amd64\t\t\t\tinstall\r\nlibcurl3-gnutls:amd64\t\t\t\tinstall\r\nlibcurses-perl\t\t\t\t\tinstall\r\nlibcurses-ui-perl\t\t\t\tinstall\r\nlibdb5.3:amd64\t\t\t\t\tinstall\r\nlibdebconfclient0:amd64\t\t\t\tinstall\r\nlibdevmapper1.02.1:amd64\t\t\tinstall\r\nliberror-perl\t\t\t\t\tinstall\r\nlibexpat1:amd64\t\t\t\t\tinstall\r\nlibfdisk1:amd64\t\t\t\t\tinstall\r\nlibffi6:amd64\t\t\t\t\tinstall\r\nlibgcc1:amd64\t\t\t\t\tinstall\r\nlibgcrypt20:amd64\t\t\t\tinstall\r\nlibgdbm3:amd64\t\t\t\t\tinstall\r\nlibgmp10:amd64\t\t\t\t\tinstall\r\nlibgnutls30:amd64\t\t\t\tinstall\r\nlibgpg-error0:amd64\t\t\t\tinstall\r\nlibgpm2:amd64\t\t\t\t\tinstall\r\nlibgssapi-krb5-2:amd64\t\t\t\tinstall\r\nlibgssapi3-heimdal:amd64\t\t\tinstall\r\nlibhcrypto4-heimdal:amd64\t\t\tinstall\r\nlibheimbase1-heimdal:amd64\t\t\tinstall\r\nlibheimntlm0-heimdal:amd64\t\t\tinstall\r\nlibhogweed4:amd64\t\t\t\tinstall\r\nlibhx509-5-heimdal:amd64\t\t\tinstall\r\nlibidn11:amd64\t\t\t\t\tinstall\r\nlibk5crypto3:amd64\t\t\t\tinstall\r\nlibkeyutils1:amd64\t\t\t\tinstall\r\nlibkmod2:amd64\t\t\t\t\tinstall\r\nlibkrb5-26-heimdal:amd64\t\t\tinstall\r\nlibkrb5-3:amd64\t\t\t\t\tinstall\r\nlibkrb5support0:amd64\t\t\t\tinstall\r\nlibldap-2.4-2:amd64\t\t\t\tinstall\r\nliblz4-1:amd64\t\t\t\t\tinstall\r\nliblzma5:amd64\t\t\t\t\tinstall\r\nlibmnl0:amd64\t\t\t\t\tinstall\r\nlibmount1:amd64\t\t\t\t\tinstall\r\nlibmpdec2:amd64\t\t\t\t\tinstall\r\nlibncurses5:amd64\t\t\t\tinstall\r\nlibncursesw5:amd64\t\t\t\tinstall\r\nlibnettle6:amd64\t\t\t\tinstall\r\nlibp11-kit0:amd64\t\t\t\tinstall\r\nlibpam-modules:amd64\t\t\t\tinstall\r\nlibpam-modules-bin\t\t\t\tinstall\r\nlibpam-runtime\t\t\t\t\tinstall\r\nlibpam0g:amd64\t\t\t\t\tinstall\r\nlibpcre3:amd64\t\t\t\t\tinstall\r\nlibperl5.22:amd64\t\t\t\tinstall\r\nlibprocps4:amd64\t\t\t\tinstall\r\nlibpython3.5:amd64\t\t\t\tinstall\r\nlibpython3.5-minimal:amd64\t\t\tinstall\r\nlibpython3.5-stdlib:amd64\t\t\tinstall\r\nlibreadline6:amd64\t\t\t\tinstall\r\nlibroken18-heimdal:amd64\t\t\tinstall\r\nlibrtmp1:amd64\t\t\t\t\tinstall\r\nlibsasl2-2:amd64\t\t\t\tinstall\r\nlibsasl2-modules-db:amd64\t\t\tinstall\r\nlibseccomp2:amd64\t\t\t\tinstall\r\nlibselinux1:amd64\t\t\t\tinstall\r\nlibsemanage-common\t\t\t\tinstall\r\nlibsemanage1:amd64\t\t\t\tinstall\r\nlibsepol1:amd64\t\t\t\t\tinstall\r\nlibsmartcols1:amd64\t\t\t\tinstall\r\nlibsqlite3-0:amd64\t\t\t\tinstall\r\nlibss2:amd64\t\t\t\t\tinstall\r\nlibssl1.0.0:amd64\t\t\t\tinstall\r\nlibstdc++6:amd64\t\t\t\tinstall\r\nlibsystemd0:amd64\t\t\t\tinstall\r\nlibtasn1-6:amd64\t\t\t\tinstall\r\nlibterm-readkey-perl\t\t\t\tinstall\r\nlibtinfo5:amd64\t\t\t\t\tinstall\r\nlibudev1:amd64\t\t\t\t\tinstall\r\nlibusb-0.1-4:amd64\t\t\t\tinstall\r\nlibustr-1.0-1:amd64\t\t\t\tinstall\r\nlibuuid1:amd64\t\t\t\t\tinstall\r\nlibwind0-heimdal:amd64\t\t\t\tinstall\r\nlocales\t\t\t\t\t\tinstall\r\nlogin\t\t\t\t\t\tinstall\r\nlsb-base\t\t\t\t\tinstall\r\nlsof\t\t\t\t\t\tinstall\r\nmakedev\t\t\t\t\t\tinstall\r\nmawk\t\t\t\t\t\tinstall\r\nmime-support\t\t\t\t\tinstall\r\nmount\t\t\t\t\t\tinstall\r\nmultiarch-support\t\t\t\tinstall\r\nncurses-base\t\t\t\t\tinstall\r\nncurses-bin\t\t\t\t\tinstall\r\nopenssl\t\t\t\t\t\tinstall\r\npasswd\t\t\t\t\t\tinstall\r\nperl\t\t\t\t\t\tinstall\r\nperl-base\t\t\t\t\tinstall\r\nperl-modules-5.22\t\t\t\tinstall\r\nprocps\t\t\t\t\t\tinstall\r\nreadline-common\t\t\t\t\tinstall\r\nsed\t\t\t\t\t\tinstall\r\nsensible-utils\t\t\t\t\tinstall\r\nsudo\t\t\t\t\t\tinstall\r\nsystemd\t\t\t\t\t\tinstall\r\nsystemd-sysv\t\t\t\t\tinstall\r\nsysv-rc\t\t\t\t\t\tinstall\r\nsysv-rc-conf\t\t\t\t\tinstall\r\nsysvinit-utils\t\t\t\t\tinstall\r\ntar\t\t\t\t\t\tinstall\r\nubuntu-keyring\t\t\t\t\tinstall\r\nunzip\t\t\t\t\t\tinstall\r\nutil-linux\t\t\t\t\tinstall\r\nvim\t\t\t\t\t\tinstall\r\nvim-common\t\t\t\t\tinstall\r\nvim-runtime\t\t\t\t\tinstall\r\nwget\t\t\t\t\t\tinstall\r\nzlib1g:amd64\t\t\t\t\tinstall\r\n"
       }
      ]
     }
    ],
    "run_through_control": {
     "frozen": true
    }
   },
   "outputs": [
    {
     "name": "stdout",
     "output_type": "stream",
     "text": [
      "adduser\t\t\t\t\t\tinstall\r\n",
      "apt\t\t\t\t\t\tinstall\r\n",
      "base-files\t\t\t\t\tinstall\r\n",
      "base-passwd\t\t\t\t\tinstall\r\n",
      "bash\t\t\t\t\t\tinstall\r\n",
      "bsdutils\t\t\t\t\tinstall\r\n",
      "bzip2\t\t\t\t\t\tinstall\r\n",
      "ca-certificates\t\t\t\t\tinstall\r\n",
      "coreutils\t\t\t\t\tinstall\r\n",
      "curl\t\t\t\t\t\tinstall\r\n",
      "dash\t\t\t\t\t\tinstall\r\n",
      "debconf\t\t\t\t\t\tinstall\r\n",
      "debianutils\t\t\t\t\tinstall\r\n",
      "diffutils\t\t\t\t\tinstall\r\n",
      "dpkg\t\t\t\t\t\tinstall\r\n",
      "e2fslibs:amd64\t\t\t\t\tinstall\r\n",
      "e2fsprogs\t\t\t\t\tinstall\r\n",
      "findutils\t\t\t\t\tinstall\r\n",
      "fonts-ipafont-gothic\t\t\t\tinstall\r\n",
      "fonts-ipafont-mincho\t\t\t\tinstall\r\n",
      "fonts-liberation\t\t\t\tinstall\r\n",
      "gcc-5-base:amd64\t\t\t\tinstall\r\n",
      "gcc-6-base:amd64\t\t\t\tinstall\r\n",
      "git\t\t\t\t\t\tinstall\r\n",
      "git-man\t\t\t\t\t\tinstall\r\n",
      "gnupg\t\t\t\t\t\tinstall\r\n",
      "gpgv\t\t\t\t\t\tinstall\r\n",
      "grep\t\t\t\t\t\tinstall\r\n",
      "gzip\t\t\t\t\t\tinstall\r\n",
      "hostname\t\t\t\t\tinstall\r\n",
      "init\t\t\t\t\t\tinstall\r\n",
      "init-system-helpers\t\t\t\tinstall\r\n",
      "initscripts\t\t\t\t\tinstall\r\n",
      "insserv\t\t\t\t\t\tinstall\r\n",
      "iproute2\t\t\t\t\tinstall\r\n",
      "kmod\t\t\t\t\t\tinstall\r\n",
      "libacl1:amd64\t\t\t\t\tinstall\r\n",
      "libapparmor1:amd64\t\t\t\tinstall\r\n",
      "libapt-pkg5.0:amd64\t\t\t\tinstall\r\n",
      "libasn1-8-heimdal:amd64\t\t\t\tinstall\r\n",
      "libattr1:amd64\t\t\t\t\tinstall\r\n",
      "libaudit-common\t\t\t\t\tinstall\r\n",
      "libaudit1:amd64\t\t\t\t\tinstall\r\n",
      "libblkid1:amd64\t\t\t\t\tinstall\r\n",
      "libbz2-1.0:amd64\t\t\t\tinstall\r\n",
      "libc-bin\t\t\t\t\tinstall\r\n",
      "libc6:amd64\t\t\t\t\tinstall\r\n",
      "libcap2:amd64\t\t\t\t\tinstall\r\n",
      "libcap2-bin\t\t\t\t\tinstall\r\n",
      "libcomerr2:amd64\t\t\t\tinstall\r\n",
      "libcryptsetup4:amd64\t\t\t\tinstall\r\n",
      "libcurl3-gnutls:amd64\t\t\t\tinstall\r\n",
      "libcurses-perl\t\t\t\t\tinstall\r\n",
      "libcurses-ui-perl\t\t\t\tinstall\r\n",
      "libdb5.3:amd64\t\t\t\t\tinstall\r\n",
      "libdebconfclient0:amd64\t\t\t\tinstall\r\n",
      "libdevmapper1.02.1:amd64\t\t\tinstall\r\n",
      "liberror-perl\t\t\t\t\tinstall\r\n",
      "libexpat1:amd64\t\t\t\t\tinstall\r\n",
      "libfdisk1:amd64\t\t\t\t\tinstall\r\n",
      "libffi6:amd64\t\t\t\t\tinstall\r\n",
      "libgcc1:amd64\t\t\t\t\tinstall\r\n",
      "libgcrypt20:amd64\t\t\t\tinstall\r\n",
      "libgdbm3:amd64\t\t\t\t\tinstall\r\n",
      "libgmp10:amd64\t\t\t\t\tinstall\r\n",
      "libgnutls30:amd64\t\t\t\tinstall\r\n",
      "libgpg-error0:amd64\t\t\t\tinstall\r\n",
      "libgpm2:amd64\t\t\t\t\tinstall\r\n",
      "libgssapi-krb5-2:amd64\t\t\t\tinstall\r\n",
      "libgssapi3-heimdal:amd64\t\t\tinstall\r\n",
      "libhcrypto4-heimdal:amd64\t\t\tinstall\r\n",
      "libheimbase1-heimdal:amd64\t\t\tinstall\r\n",
      "libheimntlm0-heimdal:amd64\t\t\tinstall\r\n",
      "libhogweed4:amd64\t\t\t\tinstall\r\n",
      "libhx509-5-heimdal:amd64\t\t\tinstall\r\n",
      "libidn11:amd64\t\t\t\t\tinstall\r\n",
      "libk5crypto3:amd64\t\t\t\tinstall\r\n",
      "libkeyutils1:amd64\t\t\t\tinstall\r\n",
      "libkmod2:amd64\t\t\t\t\tinstall\r\n",
      "libkrb5-26-heimdal:amd64\t\t\tinstall\r\n",
      "libkrb5-3:amd64\t\t\t\t\tinstall\r\n",
      "libkrb5support0:amd64\t\t\t\tinstall\r\n",
      "libldap-2.4-2:amd64\t\t\t\tinstall\r\n",
      "liblz4-1:amd64\t\t\t\t\tinstall\r\n",
      "liblzma5:amd64\t\t\t\t\tinstall\r\n",
      "libmnl0:amd64\t\t\t\t\tinstall\r\n",
      "libmount1:amd64\t\t\t\t\tinstall\r\n",
      "libmpdec2:amd64\t\t\t\t\tinstall\r\n",
      "libncurses5:amd64\t\t\t\tinstall\r\n",
      "libncursesw5:amd64\t\t\t\tinstall\r\n",
      "libnettle6:amd64\t\t\t\tinstall\r\n",
      "libp11-kit0:amd64\t\t\t\tinstall\r\n",
      "libpam-modules:amd64\t\t\t\tinstall\r\n",
      "libpam-modules-bin\t\t\t\tinstall\r\n",
      "libpam-runtime\t\t\t\t\tinstall\r\n",
      "libpam0g:amd64\t\t\t\t\tinstall\r\n",
      "libpcre3:amd64\t\t\t\t\tinstall\r\n",
      "libperl5.22:amd64\t\t\t\tinstall\r\n",
      "libprocps4:amd64\t\t\t\tinstall\r\n",
      "libpython3.5:amd64\t\t\t\tinstall\r\n",
      "libpython3.5-minimal:amd64\t\t\tinstall\r\n",
      "libpython3.5-stdlib:amd64\t\t\tinstall\r\n",
      "libreadline6:amd64\t\t\t\tinstall\r\n",
      "libroken18-heimdal:amd64\t\t\tinstall\r\n",
      "librtmp1:amd64\t\t\t\t\tinstall\r\n",
      "libsasl2-2:amd64\t\t\t\tinstall\r\n",
      "libsasl2-modules-db:amd64\t\t\tinstall\r\n",
      "libseccomp2:amd64\t\t\t\tinstall\r\n",
      "libselinux1:amd64\t\t\t\tinstall\r\n",
      "libsemanage-common\t\t\t\tinstall\r\n",
      "libsemanage1:amd64\t\t\t\tinstall\r\n",
      "libsepol1:amd64\t\t\t\t\tinstall\r\n",
      "libsmartcols1:amd64\t\t\t\tinstall\r\n",
      "libsqlite3-0:amd64\t\t\t\tinstall\r\n",
      "libss2:amd64\t\t\t\t\tinstall\r\n",
      "libssl1.0.0:amd64\t\t\t\tinstall\r\n",
      "libstdc++6:amd64\t\t\t\tinstall\r\n",
      "libsystemd0:amd64\t\t\t\tinstall\r\n",
      "libtasn1-6:amd64\t\t\t\tinstall\r\n",
      "libterm-readkey-perl\t\t\t\tinstall\r\n",
      "libtinfo5:amd64\t\t\t\t\tinstall\r\n",
      "libudev1:amd64\t\t\t\t\tinstall\r\n",
      "libusb-0.1-4:amd64\t\t\t\tinstall\r\n",
      "libustr-1.0-1:amd64\t\t\t\tinstall\r\n",
      "libuuid1:amd64\t\t\t\t\tinstall\r\n",
      "libwind0-heimdal:amd64\t\t\t\tinstall\r\n",
      "locales\t\t\t\t\t\tinstall\r\n",
      "login\t\t\t\t\t\tinstall\r\n",
      "lsb-base\t\t\t\t\tinstall\r\n",
      "lsof\t\t\t\t\t\tinstall\r\n",
      "makedev\t\t\t\t\t\tinstall\r\n",
      "mawk\t\t\t\t\t\tinstall\r\n",
      "mime-support\t\t\t\t\tinstall\r\n",
      "mount\t\t\t\t\t\tinstall\r\n",
      "multiarch-support\t\t\t\tinstall\r\n",
      "ncurses-base\t\t\t\t\tinstall\r\n",
      "ncurses-bin\t\t\t\t\tinstall\r\n",
      "openssl\t\t\t\t\t\tinstall\r\n",
      "passwd\t\t\t\t\t\tinstall\r\n",
      "perl\t\t\t\t\t\tinstall\r\n",
      "perl-base\t\t\t\t\tinstall\r\n",
      "perl-modules-5.22\t\t\t\tinstall\r\n",
      "procps\t\t\t\t\t\tinstall\r\n",
      "readline-common\t\t\t\t\tinstall\r\n",
      "sed\t\t\t\t\t\tinstall\r\n",
      "sensible-utils\t\t\t\t\tinstall\r\n",
      "sudo\t\t\t\t\t\tinstall\r\n",
      "systemd\t\t\t\t\t\tinstall\r\n",
      "systemd-sysv\t\t\t\t\tinstall\r\n",
      "sysv-rc\t\t\t\t\t\tinstall\r\n",
      "sysv-rc-conf\t\t\t\t\tinstall\r\n",
      "sysvinit-utils\t\t\t\t\tinstall\r\n",
      "tar\t\t\t\t\t\tinstall\r\n",
      "ubuntu-keyring\t\t\t\t\tinstall\r\n",
      "unzip\t\t\t\t\t\tinstall\r\n",
      "util-linux\t\t\t\t\tinstall\r\n",
      "vim\t\t\t\t\t\tinstall\r\n",
      "vim-common\t\t\t\t\tinstall\r\n",
      "vim-runtime\t\t\t\t\tinstall\r\n",
      "wget\t\t\t\t\t\tinstall\r\n",
      "zlib1g:amd64\t\t\t\t\tinstall\r\n"
     ]
    }
   ],
   "source": [
    "!dpkg --get-selections"
   ]
  },
  {
   "cell_type": "markdown",
   "metadata": {
    "lc_cell_meme": {
     "current": "15d851b6-64b6-11e8-8364-0242ac110002",
     "next": "15d852c4-64b6-11e8-8364-0242ac110002",
     "previous": "ce539c9c-64b5-11e8-8364-0242ac110002"
    }
   },
   "source": [
    "## ファイルシステム情報"
   ]
  },
  {
   "cell_type": "code",
   "execution_count": 9,
   "metadata": {
    "deletable": false,
    "editable": false,
    "lc_cell_meme": {
     "current": "15d852c4-64b6-11e8-8364-0242ac110002",
     "history": [
      {
       "current": "15d852c4-64b6-11e8-8364-0242ac110002",
       "next": null,
       "previous": "15d851b6-64b6-11e8-8364-0242ac110002"
      }
     ],
     "next": "5d605a92-64b6-11e8-8364-0242ac110002",
     "previous": "15d851b6-64b6-11e8-8364-0242ac110002"
    },
    "pinned_outputs": [
     {
      "execution_count": 9,
      "outputs": [
       {
        "name": "stdout",
        "output_type": "stream",
        "text": "overlay on / type overlay (rw,relatime,lowerdir=/var/lib/docker/overlay2/l/THWRBLHFDMNW7DZXBQGH62KUVV:/var/lib/docker/overlay2/l/6RZM5RHM4BHP44T5KUIBKYEYRD:/var/lib/docker/overlay2/l/2LHW5XITY6FEN5G4KCPXLLZ74N:/var/lib/docker/overlay2/l/MVRYHXHPQKHWTYQ4HDAHLF5ZYB:/var/lib/docker/overlay2/l/JCC4VJO7YUOXS5QIVKLSFAZT2D:/var/lib/docker/overlay2/l/YYLYZIVG3RGO6W63UK322OWJZ2:/var/lib/docker/overlay2/l/R7SDMTKLXEZ7NU72FGGOYNC52G:/var/lib/docker/overlay2/l/WR74YQX5QWH3NDCC2LKXYOZKT4:/var/lib/docker/overlay2/l/YTIAAJP6BNXMMWACQBYOSF3MQJ:/var/lib/docker/overlay2/l/M5WAHCB4H5JRNJDRXMR4UW2QUF:/var/lib/docker/overlay2/l/SJZUPMHEUYSMYJM3HTTHWDIAPE:/var/lib/docker/overlay2/l/AZ7K7NHFGSGACBMXNSRTTRZ2YR:/var/lib/docker/overlay2/l/LOXXHLOLUW2O3ANVMUMVSADQYQ:/var/lib/docker/overlay2/l/HUG5F3HE2LKFETLTSEK2BANKI2:/var/lib/docker/overlay2/l/Q674H2GONO5744GUV6I7EQ35NI:/var/lib/docker/overlay2/l/NQMMGA364YW7J3EJLE3NB435UQ:/var/lib/docker/overlay2/l/4RZINMFLPUFUNS76ACRJAEKU6N:/var/lib/docker/overlay2/l/ETKFDFE37QN3MUW2DF65TE7DAQ:/var/lib/docker/overlay2/l/Q2N6L2WBQFEEWI2D2V3O2EJ7MO:/var/lib/docker/overlay2/l/V37AAGS72AHP7NHVLEJDIBPSF3:/var/lib/docker/overlay2/l/HQM2IBE6X2JVO4S2PGKCJFN725:/var/lib/docker/overlay2/l/EENOF2T477BEJAQEERMSGAZZQO:/var/lib/docker/overlay2/l/N66M5NYXMXLVARRWXIFBNDPCHZ:/var/lib/docker/overlay2/l/DZUFQWFVJSQ6FHRHQLFQV5YHJX:/var/lib/docker/overlay2/l/5XZTKFYA6IOX23TRQPJLA5Z5K5:/var/lib/docker/overlay2/l/PXSFPRLFVJDY45Q2L7BJF2KMON,upperdir=/var/lib/docker/overlay2/0bac1f3fca8228b0ed4b521ab5b89b45ae474749e36498c365d6e9d25b4551bd/diff,workdir=/var/lib/docker/overlay2/0bac1f3fca8228b0ed4b521ab5b89b45ae474749e36498c365d6e9d25b4551bd/work)\nproc on /proc type proc (rw,nosuid,nodev,noexec,relatime)\ntmpfs on /dev type tmpfs (rw,nosuid,size=65536k,mode=755)\ndevpts on /dev/pts type devpts (rw,nosuid,noexec,relatime,gid=5,mode=620,ptmxmode=666)\nsysfs on /sys type sysfs (ro,nosuid,nodev,noexec,relatime)\ntmpfs on /sys/fs/cgroup type tmpfs (ro,nosuid,nodev,noexec,relatime,mode=755)\ncpuset on /sys/fs/cgroup/cpuset type cgroup (ro,nosuid,nodev,noexec,relatime,cpuset)\ncpu on /sys/fs/cgroup/cpu type cgroup (ro,nosuid,nodev,noexec,relatime,cpu)\ncpuacct on /sys/fs/cgroup/cpuacct type cgroup (ro,nosuid,nodev,noexec,relatime,cpuacct)\nblkio on /sys/fs/cgroup/blkio type cgroup (ro,nosuid,nodev,noexec,relatime,blkio)\nmemory on /sys/fs/cgroup/memory type cgroup (ro,nosuid,nodev,noexec,relatime,memory)\ndevices on /sys/fs/cgroup/devices type cgroup (ro,nosuid,nodev,noexec,relatime,devices)\nfreezer on /sys/fs/cgroup/freezer type cgroup (ro,nosuid,nodev,noexec,relatime,freezer)\nnet_cls on /sys/fs/cgroup/net_cls type cgroup (ro,nosuid,nodev,noexec,relatime,net_cls)\nperf_event on /sys/fs/cgroup/perf_event type cgroup (ro,nosuid,nodev,noexec,relatime,perf_event)\nnet_prio on /sys/fs/cgroup/net_prio type cgroup (ro,nosuid,nodev,noexec,relatime,net_prio)\nhugetlb on /sys/fs/cgroup/hugetlb type cgroup (ro,nosuid,nodev,noexec,relatime,hugetlb)\npids on /sys/fs/cgroup/pids type cgroup (ro,nosuid,nodev,noexec,relatime,pids)\ncgroup on /sys/fs/cgroup/systemd type cgroup (ro,nosuid,nodev,noexec,relatime,name=systemd)\nmqueue on /dev/mqueue type mqueue (rw,nosuid,nodev,noexec,relatime)\n/dev/sda1 on /etc/resolv.conf type ext4 (rw,relatime,data=ordered)\n/dev/sda1 on /etc/hostname type ext4 (rw,relatime,data=ordered)\n/dev/sda1 on /etc/hosts type ext4 (rw,relatime,data=ordered)\nshm on /dev/shm type tmpfs (rw,nosuid,nodev,noexec,relatime,size=65536k)\n//10.0.75.1/C on /home/jovyan/openforum2018 type cifs (rw,relatime,vers=3.02,sec=ntlmsspi,cache=strict,username=mnaga,domain=LAPTOP-4MVKL74Q,uid=0,noforceuid,gid=0,noforcegid,addr=10.0.75.1,file_mode=0755,dir_mode=0755,iocharset=utf8,nounix,serverino,mapposix,nobrl,mfsymlinks,noperm,rsize=1048576,wsize=1048576,echo_interval=60,actimeo=1)\nproc on /proc/bus type proc (ro,relatime)\nproc on /proc/fs type proc (ro,relatime)\nproc on /proc/irq type proc (ro,relatime)\nproc on /proc/sys type proc (ro,relatime)\nproc on /proc/sysrq-trigger type proc (ro,relatime)\ntmpfs on /proc/kcore type tmpfs (rw,nosuid,size=65536k,mode=755)\ntmpfs on /proc/keys type tmpfs (rw,nosuid,size=65536k,mode=755)\ntmpfs on /proc/timer_list type tmpfs (rw,nosuid,size=65536k,mode=755)\ntmpfs on /proc/sched_debug type tmpfs (rw,nosuid,size=65536k,mode=755)\ntmpfs on /sys/firmware type tmpfs (ro,relatime)\n"
       }
      ]
     }
    ],
    "run_through_control": {
     "frozen": true
    }
   },
   "outputs": [
    {
     "name": "stdout",
     "output_type": "stream",
     "text": [
      "overlay on / type overlay (rw,relatime,lowerdir=/var/lib/docker/overlay2/l/THWRBLHFDMNW7DZXBQGH62KUVV:/var/lib/docker/overlay2/l/6RZM5RHM4BHP44T5KUIBKYEYRD:/var/lib/docker/overlay2/l/2LHW5XITY6FEN5G4KCPXLLZ74N:/var/lib/docker/overlay2/l/MVRYHXHPQKHWTYQ4HDAHLF5ZYB:/var/lib/docker/overlay2/l/JCC4VJO7YUOXS5QIVKLSFAZT2D:/var/lib/docker/overlay2/l/YYLYZIVG3RGO6W63UK322OWJZ2:/var/lib/docker/overlay2/l/R7SDMTKLXEZ7NU72FGGOYNC52G:/var/lib/docker/overlay2/l/WR74YQX5QWH3NDCC2LKXYOZKT4:/var/lib/docker/overlay2/l/YTIAAJP6BNXMMWACQBYOSF3MQJ:/var/lib/docker/overlay2/l/M5WAHCB4H5JRNJDRXMR4UW2QUF:/var/lib/docker/overlay2/l/SJZUPMHEUYSMYJM3HTTHWDIAPE:/var/lib/docker/overlay2/l/AZ7K7NHFGSGACBMXNSRTTRZ2YR:/var/lib/docker/overlay2/l/LOXXHLOLUW2O3ANVMUMVSADQYQ:/var/lib/docker/overlay2/l/HUG5F3HE2LKFETLTSEK2BANKI2:/var/lib/docker/overlay2/l/Q674H2GONO5744GUV6I7EQ35NI:/var/lib/docker/overlay2/l/NQMMGA364YW7J3EJLE3NB435UQ:/var/lib/docker/overlay2/l/4RZINMFLPUFUNS76ACRJAEKU6N:/var/lib/docker/overlay2/l/ETKFDFE37QN3MUW2DF65TE7DAQ:/var/lib/docker/overlay2/l/Q2N6L2WBQFEEWI2D2V3O2EJ7MO:/var/lib/docker/overlay2/l/V37AAGS72AHP7NHVLEJDIBPSF3:/var/lib/docker/overlay2/l/HQM2IBE6X2JVO4S2PGKCJFN725:/var/lib/docker/overlay2/l/EENOF2T477BEJAQEERMSGAZZQO:/var/lib/docker/overlay2/l/N66M5NYXMXLVARRWXIFBNDPCHZ:/var/lib/docker/overlay2/l/DZUFQWFVJSQ6FHRHQLFQV5YHJX:/var/lib/docker/overlay2/l/5XZTKFYA6IOX23TRQPJLA5Z5K5:/var/lib/docker/overlay2/l/PXSFPRLFVJDY45Q2L7BJF2KMON,upperdir=/var/lib/docker/overlay2/0bac1f3fca8228b0ed4b521ab5b89b45ae474749e36498c365d6e9d25b4551bd/diff,workdir=/var/lib/docker/overlay2/0bac1f3fca8228b0ed4b521ab5b89b45ae474749e36498c365d6e9d25b4551bd/work)\n",
      "proc on /proc type proc (rw,nosuid,nodev,noexec,relatime)\n",
      "tmpfs on /dev type tmpfs (rw,nosuid,size=65536k,mode=755)\n",
      "devpts on /dev/pts type devpts (rw,nosuid,noexec,relatime,gid=5,mode=620,ptmxmode=666)\n",
      "sysfs on /sys type sysfs (ro,nosuid,nodev,noexec,relatime)\n",
      "tmpfs on /sys/fs/cgroup type tmpfs (ro,nosuid,nodev,noexec,relatime,mode=755)\n",
      "cpuset on /sys/fs/cgroup/cpuset type cgroup (ro,nosuid,nodev,noexec,relatime,cpuset)\n",
      "cpu on /sys/fs/cgroup/cpu type cgroup (ro,nosuid,nodev,noexec,relatime,cpu)\n",
      "cpuacct on /sys/fs/cgroup/cpuacct type cgroup (ro,nosuid,nodev,noexec,relatime,cpuacct)\n",
      "blkio on /sys/fs/cgroup/blkio type cgroup (ro,nosuid,nodev,noexec,relatime,blkio)\n",
      "memory on /sys/fs/cgroup/memory type cgroup (ro,nosuid,nodev,noexec,relatime,memory)\n",
      "devices on /sys/fs/cgroup/devices type cgroup (ro,nosuid,nodev,noexec,relatime,devices)\n",
      "freezer on /sys/fs/cgroup/freezer type cgroup (ro,nosuid,nodev,noexec,relatime,freezer)\n",
      "net_cls on /sys/fs/cgroup/net_cls type cgroup (ro,nosuid,nodev,noexec,relatime,net_cls)\n",
      "perf_event on /sys/fs/cgroup/perf_event type cgroup (ro,nosuid,nodev,noexec,relatime,perf_event)\n",
      "net_prio on /sys/fs/cgroup/net_prio type cgroup (ro,nosuid,nodev,noexec,relatime,net_prio)\n",
      "hugetlb on /sys/fs/cgroup/hugetlb type cgroup (ro,nosuid,nodev,noexec,relatime,hugetlb)\n",
      "pids on /sys/fs/cgroup/pids type cgroup (ro,nosuid,nodev,noexec,relatime,pids)\n",
      "cgroup on /sys/fs/cgroup/systemd type cgroup (ro,nosuid,nodev,noexec,relatime,name=systemd)\n",
      "mqueue on /dev/mqueue type mqueue (rw,nosuid,nodev,noexec,relatime)\n",
      "/dev/sda1 on /etc/resolv.conf type ext4 (rw,relatime,data=ordered)\n",
      "/dev/sda1 on /etc/hostname type ext4 (rw,relatime,data=ordered)\n",
      "/dev/sda1 on /etc/hosts type ext4 (rw,relatime,data=ordered)\n",
      "shm on /dev/shm type tmpfs (rw,nosuid,nodev,noexec,relatime,size=65536k)\n",
      "//10.0.75.1/C on /home/jovyan/openforum2018 type cifs (rw,relatime,vers=3.02,sec=ntlmsspi,cache=strict,username=mnaga,domain=LAPTOP-4MVKL74Q,uid=0,noforceuid,gid=0,noforcegid,addr=10.0.75.1,file_mode=0755,dir_mode=0755,iocharset=utf8,nounix,serverino,mapposix,nobrl,mfsymlinks,noperm,rsize=1048576,wsize=1048576,echo_interval=60,actimeo=1)\n",
      "proc on /proc/bus type proc (ro,relatime)\n",
      "proc on /proc/fs type proc (ro,relatime)\n",
      "proc on /proc/irq type proc (ro,relatime)\n",
      "proc on /proc/sys type proc (ro,relatime)\n",
      "proc on /proc/sysrq-trigger type proc (ro,relatime)\n",
      "tmpfs on /proc/kcore type tmpfs (rw,nosuid,size=65536k,mode=755)\n",
      "tmpfs on /proc/keys type tmpfs (rw,nosuid,size=65536k,mode=755)\n",
      "tmpfs on /proc/timer_list type tmpfs (rw,nosuid,size=65536k,mode=755)\n",
      "tmpfs on /proc/sched_debug type tmpfs (rw,nosuid,size=65536k,mode=755)\n",
      "tmpfs on /sys/firmware type tmpfs (ro,relatime)\n"
     ]
    }
   ],
   "source": [
    "!mount -l"
   ]
  },
  {
   "cell_type": "code",
   "execution_count": 10,
   "metadata": {
    "deletable": false,
    "editable": false,
    "lc_cell_meme": {
     "current": "5d605a92-64b6-11e8-8364-0242ac110002",
     "next": "5d605dee-64b6-11e8-8364-0242ac110002",
     "previous": "15d852c4-64b6-11e8-8364-0242ac110002"
    },
    "pinned_outputs": [
     {
      "execution_count": 10,
      "outputs": [
       {
        "name": "stdout",
        "output_type": "stream",
        "text": "Filesystem     Type     Size  Used Avail Use% Mounted on\r\noverlay        overlay   59G  5.1G   51G  10% /\r\ntmpfs          tmpfs     64M     0   64M   0% /dev\r\ntmpfs          tmpfs    991M     0  991M   0% /sys/fs/cgroup\r\n/dev/sda1      ext4      59G  5.1G   51G  10% /etc/hosts\r\nshm            tmpfs     64M     0   64M   0% /dev/shm\r\n//10.0.75.1/C  cifs     238G  148G   90G  63% /home/jovyan/openforum2018\r\ntmpfs          tmpfs    991M     0  991M   0% /sys/firmware\r\n"
       }
      ]
     }
    ],
    "run_through_control": {
     "frozen": true
    }
   },
   "outputs": [
    {
     "name": "stdout",
     "output_type": "stream",
     "text": [
      "Filesystem     Type     Size  Used Avail Use% Mounted on\r\n",
      "overlay        overlay   59G  5.1G   51G  10% /\r\n",
      "tmpfs          tmpfs     64M     0   64M   0% /dev\r\n",
      "tmpfs          tmpfs    991M     0  991M   0% /sys/fs/cgroup\r\n",
      "/dev/sda1      ext4      59G  5.1G   51G  10% /etc/hosts\r\n",
      "shm            tmpfs     64M     0   64M   0% /dev/shm\r\n",
      "//10.0.75.1/C  cifs     238G  148G   90G  63% /home/jovyan/openforum2018\r\n",
      "tmpfs          tmpfs    991M     0  991M   0% /sys/firmware\r\n"
     ]
    }
   ],
   "source": [
    "!df -Th"
   ]
  },
  {
   "cell_type": "code",
   "execution_count": 11,
   "metadata": {
    "deletable": false,
    "editable": false,
    "lc_cell_meme": {
     "current": "5d605dee-64b6-11e8-8364-0242ac110002",
     "next": "5d605ff6-64b6-11e8-8364-0242ac110002",
     "previous": "5d605a92-64b6-11e8-8364-0242ac110002"
    },
    "run_through_control": {
     "frozen": true
    }
   },
   "outputs": [],
   "source": [
    "!fdisk -l"
   ]
  },
  {
   "cell_type": "markdown",
   "metadata": {
    "lc_cell_meme": {
     "current": "5d605ff6-64b6-11e8-8364-0242ac110002",
     "next": "5d6061a4-64b6-11e8-8364-0242ac110002",
     "previous": "5d605dee-64b6-11e8-8364-0242ac110002"
    }
   },
   "source": [
    "## OSのバージョン"
   ]
  },
  {
   "cell_type": "code",
   "execution_count": 12,
   "metadata": {
    "deletable": false,
    "editable": false,
    "lc_cell_meme": {
     "current": "5d6061a4-64b6-11e8-8364-0242ac110002",
     "next": "5d606370-64b6-11e8-8364-0242ac110002",
     "previous": "5d605ff6-64b6-11e8-8364-0242ac110002"
    },
    "pinned_outputs": [
     {
      "execution_count": 12,
      "outputs": [
       {
        "name": "stdout",
        "output_type": "stream",
        "text": "Ubuntu 16.04.4 LTS \\n \\l\r\n\r\n"
       }
      ]
     }
    ],
    "run_through_control": {
     "frozen": true
    }
   },
   "outputs": [
    {
     "name": "stdout",
     "output_type": "stream",
     "text": [
      "Ubuntu 16.04.4 LTS \\n \\l\r\n",
      "\r\n"
     ]
    }
   ],
   "source": [
    "!cat /etc/issue"
   ]
  },
  {
   "cell_type": "markdown",
   "metadata": {
    "lc_cell_meme": {
     "current": "5d606370-64b6-11e8-8364-0242ac110002",
     "next": "5d606514-64b6-11e8-8364-0242ac110002",
     "previous": "5d6061a4-64b6-11e8-8364-0242ac110002"
    }
   },
   "source": [
    "## カーネルのバージョン"
   ]
  },
  {
   "cell_type": "code",
   "execution_count": 13,
   "metadata": {
    "deletable": false,
    "editable": false,
    "lc_cell_meme": {
     "current": "5d606514-64b6-11e8-8364-0242ac110002",
     "history": [
      {
       "current": "5d606514-64b6-11e8-8364-0242ac110002",
       "next": null,
       "previous": "5d606370-64b6-11e8-8364-0242ac110002"
      }
     ],
     "next": "a4e724c2-64b6-11e8-8364-0242ac110002",
     "previous": "5d606370-64b6-11e8-8364-0242ac110002"
    },
    "pinned_outputs": [
     {
      "execution_count": 13,
      "outputs": [
       {
        "name": "stdout",
        "output_type": "stream",
        "text": "Linux 1a17b746bd59 4.9.87-linuxkit-aufs #1 SMP Wed Mar 14 15:12:16 UTC 2018 x86_64 x86_64 x86_64 GNU/Linux\r\n"
       }
      ]
     }
    ],
    "run_through_control": {
     "frozen": true
    }
   },
   "outputs": [
    {
     "name": "stdout",
     "output_type": "stream",
     "text": [
      "Linux 1a17b746bd59 4.9.87-linuxkit-aufs #1 SMP Wed Mar 14 15:12:16 UTC 2018 x86_64 x86_64 x86_64 GNU/Linux\r\n"
     ]
    }
   ],
   "source": [
    "!uname -a"
   ]
  },
  {
   "cell_type": "markdown",
   "metadata": {
    "lc_cell_meme": {
     "current": "a4e724c2-64b6-11e8-8364-0242ac110002",
     "next": "a4e72878-64b6-11e8-8364-0242ac110002",
     "previous": "5d606514-64b6-11e8-8364-0242ac110002"
    }
   },
   "source": [
    "## 稼働時間"
   ]
  },
  {
   "cell_type": "code",
   "execution_count": 14,
   "metadata": {
    "deletable": false,
    "editable": false,
    "lc_cell_meme": {
     "current": "a4e72878-64b6-11e8-8364-0242ac110002",
     "next": "a4e72de6-64b6-11e8-8364-0242ac110002",
     "previous": "a4e724c2-64b6-11e8-8364-0242ac110002"
    },
    "pinned_outputs": [
     {
      "execution_count": 14,
      "outputs": [
       {
        "name": "stdout",
        "output_type": "stream",
        "text": " 15:35:35 up  4:46,  0 users,  load average: 1.87, 0.67, 0.30\r\nUSER     TTY      FROM             LOGIN@   IDLE   JCPU   PCPU WHAT\r\n"
       }
      ]
     }
    ],
    "run_through_control": {
     "frozen": true
    }
   },
   "outputs": [
    {
     "name": "stdout",
     "output_type": "stream",
     "text": [
      " 15:35:35 up  4:46,  0 users,  load average: 1.87, 0.67, 0.30\r\n",
      "USER     TTY      FROM             LOGIN@   IDLE   JCPU   PCPU WHAT\r\n"
     ]
    }
   ],
   "source": [
    "!w"
   ]
  },
  {
   "cell_type": "markdown",
   "metadata": {
    "lc_cell_meme": {
     "current": "a4e72de6-64b6-11e8-8364-0242ac110002",
     "history": [
      {
       "current": "a4e72de6-64b6-11e8-8364-0242ac110002",
       "next": "a4e72fda-64b6-11e8-8364-0242ac110002",
       "previous": "a4e72878-64b6-11e8-8364-0242ac110002"
      },
      {
       "current": "a4e72de6-64b6-11e8-8364-0242ac110002",
       "next": "6d8fe378-6534-11e8-8364-0242ac110002",
       "previous": "a4e72878-64b6-11e8-8364-0242ac110002"
      }
     ],
     "next": "e77a3c4a-6563-11e8-8364-0242ac110002",
     "previous": "a4e72878-64b6-11e8-8364-0242ac110002"
    }
   },
   "source": [
    "## cron"
   ]
  },
  {
   "cell_type": "markdown",
   "metadata": {
    "lc_cell_meme": {
     "current": "e77a3c4a-6563-11e8-8364-0242ac110002",
     "next": "6d8fe378-6534-11e8-8364-0242ac110002",
     "previous": "a4e72de6-64b6-11e8-8364-0242ac110002"
    }
   },
   "source": [
    "/var/spool/cron が存在しない前提で確認だけしておく。"
   ]
  },
  {
   "cell_type": "code",
   "execution_count": 15,
   "metadata": {
    "deletable": false,
    "editable": false,
    "lc_cell_meme": {
     "current": "6d8fe378-6534-11e8-8364-0242ac110002",
     "history": [
      {
       "current": "6d8fe378-6534-11e8-8364-0242ac110002",
       "next": "c3002c82-64b7-11e8-8364-0242ac110002",
       "previous": "a4e72de6-64b6-11e8-8364-0242ac110002"
      },
      {
       "current": "6d8fe378-6534-11e8-8364-0242ac110002",
       "next": "c3002c82-64b7-11e8-8364-0242ac110002",
       "previous": "e77a3c4a-6563-11e8-8364-0242ac110002"
      }
     ],
     "next": "0a85b9b4-64b8-11e8-8364-0242ac110002",
     "previous": "e77a3c4a-6563-11e8-8364-0242ac110002"
    },
    "run_through_control": {
     "frozen": true
    }
   },
   "outputs": [],
   "source": [
    "import sys\n",
    "dirs = !sudo ls /var/spool\n",
    "for s in filter(lambda x:x == \"cron\", dirs):\n",
    "    sys.exit(-1)\n"
   ]
  },
  {
   "cell_type": "markdown",
   "metadata": {
    "lc_cell_meme": {
     "current": "0a85b9b4-64b8-11e8-8364-0242ac110002",
     "history": [
      {
       "current": "0a85b9b4-64b8-11e8-8364-0242ac110002",
       "next": "0a85ba36-64b8-11e8-8364-0242ac110002",
       "previous": "0a85b914-64b8-11e8-8364-0242ac110002"
      },
      {
       "current": "0a85b9b4-64b8-11e8-8364-0242ac110002",
       "next": "0a85ba36-64b8-11e8-8364-0242ac110002",
       "previous": "c3002c82-64b7-11e8-8364-0242ac110002"
      }
     ],
     "next": "0a85ba36-64b8-11e8-8364-0242ac110002",
     "previous": "6d8fe378-6534-11e8-8364-0242ac110002"
    }
   },
   "source": [
    "## サービス"
   ]
  },
  {
   "cell_type": "markdown",
   "metadata": {
    "lc_cell_meme": {
     "current": "0a85ba36-64b8-11e8-8364-0242ac110002",
     "history": [
      {
       "current": "0a85ba36-64b8-11e8-8364-0242ac110002",
       "next": null,
       "previous": "0a85b9b4-64b8-11e8-8364-0242ac110002"
      },
      {
       "current": "0a85ba36-64b8-11e8-8364-0242ac110002",
       "next": "9992cb10-64b8-11e8-8364-0242ac110002",
       "previous": "0a85b9b4-64b8-11e8-8364-0242ac110002"
      }
     ],
     "next": "e11bf0a6-64b8-11e8-8364-0242ac110002",
     "previous": "0a85b9b4-64b8-11e8-8364-0242ac110002"
    }
   },
   "source": [
    "本には具体的なコマンドの指定がないが、ubuntuなので、sysv-rc-confを使う。[参考情報](https://www.laddy.info/2017/11/28793/)"
   ]
  },
  {
   "cell_type": "code",
   "execution_count": 16,
   "metadata": {
    "deletable": false,
    "editable": false,
    "lc_cell_meme": {
     "current": "e11bf0a6-64b8-11e8-8364-0242ac110002",
     "history": [
      {
       "current": "e11bf0a6-64b8-11e8-8364-0242ac110002",
       "next": null,
       "previous": "9992cef8-64b8-11e8-8364-0242ac110002"
      },
      {
       "current": "e11bf0a6-64b8-11e8-8364-0242ac110002",
       "next": "28a15010-64b9-11e8-8364-0242ac110002",
       "previous": "9992cef8-64b8-11e8-8364-0242ac110002"
      }
     ],
     "next": "28a15010-64b9-11e8-8364-0242ac110002",
     "previous": "0a85ba36-64b8-11e8-8364-0242ac110002"
    },
    "pinned_outputs": [
     {
      "execution_count": 16,
      "outputs": [
       {
        "name": "stdout",
        "output_type": "stream",
        "text": "halt         0:off\r\nkillprocs    1:on\r\nkmod         S:on\r\nondemand     2:on\t3:on\t4:on\t5:on\r\nprocps       S:on\r\nrc.local     2:on\t3:on\t4:on\t5:on\r\nreboot       6:off\r\nsendsigs     0:off\t6:off\r\nsingle       1:on\r\numountfs     0:off\t6:off\r\numountroot   0:off\t6:off\r\nurandom      0:off\t6:off\tS:on\r\n"
       }
      ]
     }
    ],
    "run_through_control": {
     "frozen": true
    }
   },
   "outputs": [
    {
     "name": "stdout",
     "output_type": "stream",
     "text": [
      "halt         0:off\r\n",
      "killprocs    1:on\r\n",
      "kmod         S:on\r\n",
      "ondemand     2:on\t3:on\t4:on\t5:on\r\n",
      "procps       S:on\r\n",
      "rc.local     2:on\t3:on\t4:on\t5:on\r\n",
      "reboot       6:off\r\n",
      "sendsigs     0:off\t6:off\r\n",
      "single       1:on\r\n",
      "umountfs     0:off\t6:off\r\n",
      "umountroot   0:off\t6:off\r\n",
      "urandom      0:off\t6:off\tS:on\r\n"
     ]
    }
   ],
   "source": [
    "!sudo sysv-rc-conf --list"
   ]
  },
  {
   "cell_type": "markdown",
   "metadata": {
    "lc_cell_meme": {
     "current": "28a15010-64b9-11e8-8364-0242ac110002",
     "next": "28a15330-64b9-11e8-8364-0242ac110002",
     "previous": "e11bf0a6-64b8-11e8-8364-0242ac110002"
    }
   },
   "source": [
    "## ユーザアカウント"
   ]
  },
  {
   "cell_type": "code",
   "execution_count": 17,
   "metadata": {
    "deletable": false,
    "editable": false,
    "lc_cell_meme": {
     "current": "28a15330-64b9-11e8-8364-0242ac110002",
     "next": "28a15506-64b9-11e8-8364-0242ac110002",
     "previous": "28a15010-64b9-11e8-8364-0242ac110002"
    },
    "pinned_outputs": [
     {
      "execution_count": 17,
      "outputs": [
       {
        "name": "stdout",
        "output_type": "stream",
        "text": "root:x:0:0:root:/root:/bin/bash\r\ndaemon:x:1:1:daemon:/usr/sbin:/usr/sbin/nologin\r\nbin:x:2:2:bin:/bin:/usr/sbin/nologin\r\nsys:x:3:3:sys:/dev:/usr/sbin/nologin\r\nsync:x:4:65534:sync:/bin:/bin/sync\r\ngames:x:5:60:games:/usr/games:/usr/sbin/nologin\r\nman:x:6:12:man:/var/cache/man:/usr/sbin/nologin\r\nlp:x:7:7:lp:/var/spool/lpd:/usr/sbin/nologin\r\nmail:x:8:8:mail:/var/mail:/usr/sbin/nologin\r\nnews:x:9:9:news:/var/spool/news:/usr/sbin/nologin\r\nuucp:x:10:10:uucp:/var/spool/uucp:/usr/sbin/nologin\r\nproxy:x:13:13:proxy:/bin:/usr/sbin/nologin\r\nwww-data:x:33:33:www-data:/var/www:/usr/sbin/nologin\r\nbackup:x:34:34:backup:/var/backups:/usr/sbin/nologin\r\nlist:x:38:38:Mailing List Manager:/var/list:/usr/sbin/nologin\r\nirc:x:39:39:ircd:/var/run/ircd:/usr/sbin/nologin\r\ngnats:x:41:41:Gnats Bug-Reporting System (admin):/var/lib/gnats:/usr/sbin/nologin\r\nnobody:x:65534:65534:nobody:/nonexistent:/usr/sbin/nologin\r\nsystemd-timesync:x:100:102:systemd Time Synchronization,,,:/run/systemd:/bin/false\r\nsystemd-network:x:101:103:systemd Network Management,,,:/run/systemd/netif:/bin/false\r\nsystemd-resolve:x:102:104:systemd Resolver,,,:/run/systemd/resolve:/bin/false\r\nsystemd-bus-proxy:x:103:105:systemd Bus Proxy,,,:/run/systemd:/bin/false\r\n_apt:x:104:65534::/nonexistent:/bin/false\r\njovyan:x:1000:100::/home/jovyan:/bin/bash\r\n"
       }
      ]
     }
    ],
    "run_through_control": {
     "frozen": true
    }
   },
   "outputs": [
    {
     "name": "stdout",
     "output_type": "stream",
     "text": [
      "root:x:0:0:root:/root:/bin/bash\r\n",
      "daemon:x:1:1:daemon:/usr/sbin:/usr/sbin/nologin\r\n",
      "bin:x:2:2:bin:/bin:/usr/sbin/nologin\r\n",
      "sys:x:3:3:sys:/dev:/usr/sbin/nologin\r\n",
      "sync:x:4:65534:sync:/bin:/bin/sync\r\n",
      "games:x:5:60:games:/usr/games:/usr/sbin/nologin\r\n",
      "man:x:6:12:man:/var/cache/man:/usr/sbin/nologin\r\n",
      "lp:x:7:7:lp:/var/spool/lpd:/usr/sbin/nologin\r\n",
      "mail:x:8:8:mail:/var/mail:/usr/sbin/nologin\r\n",
      "news:x:9:9:news:/var/spool/news:/usr/sbin/nologin\r\n",
      "uucp:x:10:10:uucp:/var/spool/uucp:/usr/sbin/nologin\r\n",
      "proxy:x:13:13:proxy:/bin:/usr/sbin/nologin\r\n",
      "www-data:x:33:33:www-data:/var/www:/usr/sbin/nologin\r\n",
      "backup:x:34:34:backup:/var/backups:/usr/sbin/nologin\r\n",
      "list:x:38:38:Mailing List Manager:/var/list:/usr/sbin/nologin\r\n",
      "irc:x:39:39:ircd:/var/run/ircd:/usr/sbin/nologin\r\n",
      "gnats:x:41:41:Gnats Bug-Reporting System (admin):/var/lib/gnats:/usr/sbin/nologin\r\n",
      "nobody:x:65534:65534:nobody:/nonexistent:/usr/sbin/nologin\r\n",
      "systemd-timesync:x:100:102:systemd Time Synchronization,,,:/run/systemd:/bin/false\r\n",
      "systemd-network:x:101:103:systemd Network Management,,,:/run/systemd/netif:/bin/false\r\n",
      "systemd-resolve:x:102:104:systemd Resolver,,,:/run/systemd/resolve:/bin/false\r\n",
      "systemd-bus-proxy:x:103:105:systemd Bus Proxy,,,:/run/systemd:/bin/false\r\n",
      "_apt:x:104:65534::/nonexistent:/bin/false\r\n",
      "jovyan:x:1000:100::/home/jovyan:/bin/bash\r\n"
     ]
    }
   ],
   "source": [
    "!cat /etc/passwd"
   ]
  },
  {
   "cell_type": "code",
   "execution_count": 18,
   "metadata": {
    "deletable": false,
    "editable": false,
    "lc_cell_meme": {
     "current": "28a15506-64b9-11e8-8364-0242ac110002",
     "next": "28a15682-64b9-11e8-8364-0242ac110002",
     "previous": "28a15330-64b9-11e8-8364-0242ac110002"
    },
    "pinned_outputs": [
     {
      "execution_count": 18,
      "outputs": [
       {
        "name": "stdout",
        "output_type": "stream",
        "text": "root:*:17590:0:99999:7:::\r\ndaemon:*:17590:0:99999:7:::\r\nbin:*:17590:0:99999:7:::\r\nsys:*:17590:0:99999:7:::\r\nsync:*:17590:0:99999:7:::\r\ngames:*:17590:0:99999:7:::\r\nman:*:17590:0:99999:7:::\r\nlp:*:17590:0:99999:7:::\r\nmail:*:17590:0:99999:7:::\r\nnews:*:17590:0:99999:7:::\r\nuucp:*:17590:0:99999:7:::\r\nproxy:*:17590:0:99999:7:::\r\nwww-data:*:17590:0:99999:7:::\r\nbackup:*:17590:0:99999:7:::\r\nlist:*:17590:0:99999:7:::\r\nirc:*:17590:0:99999:7:::\r\ngnats:*:17590:0:99999:7:::\r\nnobody:*:17590:0:99999:7:::\r\nsystemd-timesync:*:17590:0:99999:7:::\r\nsystemd-network:*:17590:0:99999:7:::\r\nsystemd-resolve:*:17590:0:99999:7:::\r\nsystemd-bus-proxy:*:17590:0:99999:7:::\r\n_apt:*:17590:0:99999:7:::\r\njovyan:!:17616:0:99999:7:::\r\n"
       }
      ]
     }
    ],
    "run_through_control": {
     "frozen": true
    },
    "scrolled": true
   },
   "outputs": [
    {
     "name": "stdout",
     "output_type": "stream",
     "text": [
      "root:*:17590:0:99999:7:::\r\n",
      "daemon:*:17590:0:99999:7:::\r\n",
      "bin:*:17590:0:99999:7:::\r\n",
      "sys:*:17590:0:99999:7:::\r\n",
      "sync:*:17590:0:99999:7:::\r\n",
      "games:*:17590:0:99999:7:::\r\n",
      "man:*:17590:0:99999:7:::\r\n",
      "lp:*:17590:0:99999:7:::\r\n",
      "mail:*:17590:0:99999:7:::\r\n",
      "news:*:17590:0:99999:7:::\r\n",
      "uucp:*:17590:0:99999:7:::\r\n",
      "proxy:*:17590:0:99999:7:::\r\n",
      "www-data:*:17590:0:99999:7:::\r\n",
      "backup:*:17590:0:99999:7:::\r\n",
      "list:*:17590:0:99999:7:::\r\n",
      "irc:*:17590:0:99999:7:::\r\n",
      "gnats:*:17590:0:99999:7:::\r\n",
      "nobody:*:17590:0:99999:7:::\r\n",
      "systemd-timesync:*:17590:0:99999:7:::\r\n",
      "systemd-network:*:17590:0:99999:7:::\r\n",
      "systemd-resolve:*:17590:0:99999:7:::\r\n",
      "systemd-bus-proxy:*:17590:0:99999:7:::\r\n",
      "_apt:*:17590:0:99999:7:::\r\n",
      "jovyan:!:17616:0:99999:7:::\r\n"
     ]
    }
   ],
   "source": [
    "!sudo cat /etc/shadow"
   ]
  },
  {
   "cell_type": "markdown",
   "metadata": {
    "lc_cell_meme": {
     "current": "28a15682-64b9-11e8-8364-0242ac110002",
     "next": "28a157f4-64b9-11e8-8364-0242ac110002",
     "previous": "28a15506-64b9-11e8-8364-0242ac110002"
    }
   },
   "source": [
    "## グループ"
   ]
  },
  {
   "cell_type": "code",
   "execution_count": 19,
   "metadata": {
    "deletable": false,
    "editable": false,
    "lc_cell_meme": {
     "current": "28a157f4-64b9-11e8-8364-0242ac110002",
     "history": [
      {
       "current": "28a157f4-64b9-11e8-8364-0242ac110002",
       "next": null,
       "previous": "28a15682-64b9-11e8-8364-0242ac110002"
      }
     ],
     "next": "7028258a-64b9-11e8-8364-0242ac110002",
     "previous": "28a15682-64b9-11e8-8364-0242ac110002"
    },
    "pinned_outputs": [
     {
      "execution_count": 19,
      "outputs": [
       {
        "name": "stdout",
        "output_type": "stream",
        "text": "root:x:0:\r\ndaemon:x:1:\r\nbin:x:2:\r\nsys:x:3:\r\nadm:x:4:\r\ntty:x:5:\r\ndisk:x:6:\r\nlp:x:7:\r\nmail:x:8:\r\nnews:x:9:\r\nuucp:x:10:\r\nman:x:12:\r\nproxy:x:13:\r\nkmem:x:15:\r\ndialout:x:20:\r\nfax:x:21:\r\nvoice:x:22:\r\ncdrom:x:24:\r\nfloppy:x:25:\r\ntape:x:26:\r\nsudo:x:27:\r\naudio:x:29:\r\ndip:x:30:\r\nwww-data:x:33:\r\nbackup:x:34:\r\noperator:x:37:\r\nlist:x:38:\r\nirc:x:39:\r\nsrc:x:40:\r\ngnats:x:41:\r\nshadow:x:42:\r\nutmp:x:43:\r\nvideo:x:44:\r\nsasl:x:45:\r\nplugdev:x:46:\r\nstaff:x:50:\r\ngames:x:60:\r\nusers:x:100:\r\nnogroup:x:65534:\r\nsystemd-journal:x:101:\r\nsystemd-timesync:x:102:\r\nsystemd-network:x:103:\r\nsystemd-resolve:x:104:\r\nsystemd-bus-proxy:x:105:\r\n"
       }
      ]
     }
    ],
    "run_through_control": {
     "frozen": true
    }
   },
   "outputs": [
    {
     "name": "stdout",
     "output_type": "stream",
     "text": [
      "root:x:0:\r\n",
      "daemon:x:1:\r\n",
      "bin:x:2:\r\n",
      "sys:x:3:\r\n",
      "adm:x:4:\r\n",
      "tty:x:5:\r\n",
      "disk:x:6:\r\n",
      "lp:x:7:\r\n",
      "mail:x:8:\r\n",
      "news:x:9:\r\n",
      "uucp:x:10:\r\n",
      "man:x:12:\r\n",
      "proxy:x:13:\r\n",
      "kmem:x:15:\r\n",
      "dialout:x:20:\r\n",
      "fax:x:21:\r\n",
      "voice:x:22:\r\n",
      "cdrom:x:24:\r\n",
      "floppy:x:25:\r\n",
      "tape:x:26:\r\n",
      "sudo:x:27:\r\n",
      "audio:x:29:\r\n",
      "dip:x:30:\r\n",
      "www-data:x:33:\r\n",
      "backup:x:34:\r\n",
      "operator:x:37:\r\n",
      "list:x:38:\r\n",
      "irc:x:39:\r\n",
      "src:x:40:\r\n",
      "gnats:x:41:\r\n",
      "shadow:x:42:\r\n",
      "utmp:x:43:\r\n",
      "video:x:44:\r\n",
      "sasl:x:45:\r\n",
      "plugdev:x:46:\r\n",
      "staff:x:50:\r\n",
      "games:x:60:\r\n",
      "users:x:100:\r\n",
      "nogroup:x:65534:\r\n",
      "systemd-journal:x:101:\r\n",
      "systemd-timesync:x:102:\r\n",
      "systemd-network:x:103:\r\n",
      "systemd-resolve:x:104:\r\n",
      "systemd-bus-proxy:x:105:\r\n"
     ]
    }
   ],
   "source": [
    "!cat /etc/group"
   ]
  },
  {
   "cell_type": "markdown",
   "metadata": {
    "lc_cell_meme": {
     "current": "7028258a-64b9-11e8-8364-0242ac110002",
     "next": "70282a62-64b9-11e8-8364-0242ac110002",
     "previous": "28a157f4-64b9-11e8-8364-0242ac110002"
    }
   },
   "source": [
    "## ネットワークインタフェース"
   ]
  },
  {
   "cell_type": "markdown",
   "metadata": {
    "lc_cell_meme": {
     "current": "70282a62-64b9-11e8-8364-0242ac110002",
     "next": "70282d28-64b9-11e8-8364-0242ac110002",
     "previous": "7028258a-64b9-11e8-8364-0242ac110002"
    }
   },
   "source": [
    "今なら、ipコマンドだよな。"
   ]
  },
  {
   "cell_type": "code",
   "execution_count": 20,
   "metadata": {
    "deletable": false,
    "editable": false,
    "lc_cell_meme": {
     "current": "70282d28-64b9-11e8-8364-0242ac110002",
     "next": "70282f80-64b9-11e8-8364-0242ac110002",
     "previous": "70282a62-64b9-11e8-8364-0242ac110002"
    },
    "pinned_outputs": [
     {
      "execution_count": 20,
      "outputs": [
       {
        "name": "stdout",
        "output_type": "stream",
        "text": "1: lo: <LOOPBACK,UP,LOWER_UP> mtu 65536 qdisc noqueue state UNKNOWN group default qlen 1\r\n    link/loopback 00:00:00:00:00:00 brd 00:00:00:00:00:00\r\n    inet 127.0.0.1/8 scope host lo\r\n       valid_lft forever preferred_lft forever\r\n2: tunl0@NONE: <NOARP> mtu 1480 qdisc noop state DOWN group default qlen 1\r\n    link/ipip 0.0.0.0 brd 0.0.0.0\r\n3: ip6tnl0@NONE: <NOARP> mtu 1452 qdisc noop state DOWN group default qlen 1\r\n    link/tunnel6 :: brd ::\r\n27: eth0@if28: <BROADCAST,MULTICAST,UP,LOWER_UP> mtu 1500 qdisc noqueue state UP group default \r\n    link/ether 02:42:ac:11:00:02 brd ff:ff:ff:ff:ff:ff link-netnsid 0\r\n    inet 172.17.0.2/16 brd 172.17.255.255 scope global eth0\r\n       valid_lft forever preferred_lft forever\r\n"
       }
      ]
     }
    ],
    "run_through_control": {
     "frozen": true
    }
   },
   "outputs": [
    {
     "name": "stdout",
     "output_type": "stream",
     "text": [
      "1: lo: <LOOPBACK,UP,LOWER_UP> mtu 65536 qdisc noqueue state UNKNOWN group default qlen 1\r\n",
      "    link/loopback 00:00:00:00:00:00 brd 00:00:00:00:00:00\r\n",
      "    inet 127.0.0.1/8 scope host lo\r\n",
      "       valid_lft forever preferred_lft forever\r\n",
      "2: tunl0@NONE: <NOARP> mtu 1480 qdisc noop state DOWN group default qlen 1\r\n",
      "    link/ipip 0.0.0.0 brd 0.0.0.0\r\n",
      "3: ip6tnl0@NONE: <NOARP> mtu 1452 qdisc noop state DOWN group default qlen 1\r\n",
      "    link/tunnel6 :: brd ::\r\n",
      "27: eth0@if28: <BROADCAST,MULTICAST,UP,LOWER_UP> mtu 1500 qdisc noqueue state UP group default \r\n",
      "    link/ether 02:42:ac:11:00:02 brd ff:ff:ff:ff:ff:ff link-netnsid 0\r\n",
      "    inet 172.17.0.2/16 brd 172.17.255.255 scope global eth0\r\n",
      "       valid_lft forever preferred_lft forever\r\n"
     ]
    }
   ],
   "source": [
    "!ip a"
   ]
  },
  {
   "cell_type": "code",
   "execution_count": 21,
   "metadata": {
    "deletable": false,
    "editable": false,
    "lc_cell_meme": {
     "current": "70282f80-64b9-11e8-8364-0242ac110002",
     "next": "702831c4-64b9-11e8-8364-0242ac110002",
     "previous": "70282d28-64b9-11e8-8364-0242ac110002"
    },
    "pinned_outputs": [
     {
      "execution_count": 21,
      "outputs": [
       {
        "name": "stdout",
        "output_type": "stream",
        "text": "1: lo: <LOOPBACK,UP,LOWER_UP> mtu 65536 qdisc noqueue state UNKNOWN mode DEFAULT group default qlen 1\r\n    link/loopback 00:00:00:00:00:00 brd 00:00:00:00:00:00\r\n    RX: bytes  packets  errors  dropped overrun mcast   \r\n    1372081    1959     0       0       0       0       \r\n    TX: bytes  packets  errors  dropped carrier collsns \r\n    1372081    1959     0       0       0       0       \r\n2: tunl0@NONE: <NOARP> mtu 1480 qdisc noop state DOWN mode DEFAULT group default qlen 1\r\n    link/ipip 0.0.0.0 brd 0.0.0.0\r\n    RX: bytes  packets  errors  dropped overrun mcast   \r\n    0          0        0       0       0       0       \r\n    TX: bytes  packets  errors  dropped carrier collsns \r\n    0          0        0       0       0       0       \r\n3: ip6tnl0@NONE: <NOARP> mtu 1452 qdisc noop state DOWN mode DEFAULT group default qlen 1\r\n    link/tunnel6 :: brd ::\r\n    RX: bytes  packets  errors  dropped overrun mcast   \r\n    0          0        0       0       0       0       \r\n    TX: bytes  packets  errors  dropped carrier collsns \r\n    0          0        0       0       0       0       \r\n27: eth0@if28: <BROADCAST,MULTICAST,UP,LOWER_UP> mtu 1500 qdisc noqueue state UP mode DEFAULT group default \r\n    link/ether 02:42:ac:11:00:02 brd ff:ff:ff:ff:ff:ff link-netnsid 0\r\n    RX: bytes  packets  errors  dropped overrun mcast   \r\n    62850028   42986    0       0       0       0       \r\n    TX: bytes  packets  errors  dropped carrier collsns \r\n    9399250    13048    0       0       0       0       \r\n"
       }
      ]
     }
    ],
    "run_through_control": {
     "frozen": true
    }
   },
   "outputs": [
    {
     "name": "stdout",
     "output_type": "stream",
     "text": [
      "1: lo: <LOOPBACK,UP,LOWER_UP> mtu 65536 qdisc noqueue state UNKNOWN mode DEFAULT group default qlen 1\r\n",
      "    link/loopback 00:00:00:00:00:00 brd 00:00:00:00:00:00\r\n",
      "    RX: bytes  packets  errors  dropped overrun mcast   \r\n",
      "    1372081    1959     0       0       0       0       \r\n",
      "    TX: bytes  packets  errors  dropped carrier collsns \r\n",
      "    1372081    1959     0       0       0       0       \r\n",
      "2: tunl0@NONE: <NOARP> mtu 1480 qdisc noop state DOWN mode DEFAULT group default qlen 1\r\n",
      "    link/ipip 0.0.0.0 brd 0.0.0.0\r\n",
      "    RX: bytes  packets  errors  dropped overrun mcast   \r\n",
      "    0          0        0       0       0       0       \r\n",
      "    TX: bytes  packets  errors  dropped carrier collsns \r\n",
      "    0          0        0       0       0       0       \r\n",
      "3: ip6tnl0@NONE: <NOARP> mtu 1452 qdisc noop state DOWN mode DEFAULT group default qlen 1\r\n",
      "    link/tunnel6 :: brd ::\r\n",
      "    RX: bytes  packets  errors  dropped overrun mcast   \r\n",
      "    0          0        0       0       0       0       \r\n",
      "    TX: bytes  packets  errors  dropped carrier collsns \r\n",
      "    0          0        0       0       0       0       \r\n",
      "27: eth0@if28: <BROADCAST,MULTICAST,UP,LOWER_UP> mtu 1500 qdisc noqueue state UP mode DEFAULT group default \r\n",
      "    link/ether 02:42:ac:11:00:02 brd ff:ff:ff:ff:ff:ff link-netnsid 0\r\n",
      "    RX: bytes  packets  errors  dropped overrun mcast   \r\n",
      "    62850028   42986    0       0       0       0       \r\n",
      "    TX: bytes  packets  errors  dropped carrier collsns \r\n",
      "    9399250    13048    0       0       0       0       \r\n"
     ]
    }
   ],
   "source": [
    "!ip -s l"
   ]
  },
  {
   "cell_type": "markdown",
   "metadata": {
    "lc_cell_meme": {
     "current": "702831c4-64b9-11e8-8364-0242ac110002",
     "next": "702833ea-64b9-11e8-8364-0242ac110002",
     "previous": "70282f80-64b9-11e8-8364-0242ac110002"
    }
   },
   "source": [
    "## ルーティングテーブル"
   ]
  },
  {
   "cell_type": "code",
   "execution_count": 22,
   "metadata": {
    "deletable": false,
    "editable": false,
    "lc_cell_meme": {
     "current": "702833ea-64b9-11e8-8364-0242ac110002",
     "history": [
      {
       "current": "702833ea-64b9-11e8-8364-0242ac110002",
       "next": null,
       "previous": "702831c4-64b9-11e8-8364-0242ac110002"
      }
     ],
     "next": "b7ad3756-64b9-11e8-8364-0242ac110002",
     "previous": "702831c4-64b9-11e8-8364-0242ac110002"
    },
    "pinned_outputs": [
     {
      "execution_count": 22,
      "outputs": [
       {
        "name": "stdout",
        "output_type": "stream",
        "text": "default via 172.17.0.1 dev eth0 \r\n172.17.0.0/16 dev eth0  proto kernel  scope link  src 172.17.0.2 \r\n"
       }
      ]
     }
    ],
    "run_through_control": {
     "frozen": true
    }
   },
   "outputs": [
    {
     "name": "stdout",
     "output_type": "stream",
     "text": [
      "default via 172.17.0.1 dev eth0 \r\n",
      "172.17.0.0/16 dev eth0  proto kernel  scope link  src 172.17.0.2 \r\n"
     ]
    }
   ],
   "source": [
    "!ip r"
   ]
  },
  {
   "cell_type": "markdown",
   "metadata": {
    "lc_cell_meme": {
     "current": "b7ad3756-64b9-11e8-8364-0242ac110002",
     "next": "b7ad3896-64b9-11e8-8364-0242ac110002",
     "previous": "702833ea-64b9-11e8-8364-0242ac110002"
    }
   },
   "source": [
    "## ARPテーブル"
   ]
  },
  {
   "cell_type": "code",
   "execution_count": 23,
   "metadata": {
    "deletable": false,
    "editable": false,
    "lc_cell_meme": {
     "current": "b7ad3896-64b9-11e8-8364-0242ac110002",
     "next": "b7ad3936-64b9-11e8-8364-0242ac110002",
     "previous": "b7ad3756-64b9-11e8-8364-0242ac110002"
    },
    "pinned_outputs": [
     {
      "execution_count": 23,
      "outputs": [
       {
        "name": "stdout",
        "output_type": "stream",
        "text": "172.17.0.1 dev eth0 lladdr 02:42:85:6a:98:42 REACHABLE\r\n"
       }
      ]
     }
    ],
    "run_through_control": {
     "frozen": true
    }
   },
   "outputs": [
    {
     "name": "stdout",
     "output_type": "stream",
     "text": [
      "172.17.0.1 dev eth0 lladdr 02:42:85:6a:98:42 REACHABLE\r\n"
     ]
    }
   ],
   "source": [
    "!ip n"
   ]
  },
  {
   "cell_type": "markdown",
   "metadata": {
    "lc_cell_meme": {
     "current": "b7ad3936-64b9-11e8-8364-0242ac110002",
     "next": "b7ad39b8-64b9-11e8-8364-0242ac110002",
     "previous": "b7ad3896-64b9-11e8-8364-0242ac110002"
    }
   },
   "source": [
    "## ネットワーク接続"
   ]
  },
  {
   "cell_type": "markdown",
   "metadata": {
    "lc_cell_meme": {
     "current": "b7ad39b8-64b9-11e8-8364-0242ac110002",
     "history": [
      {
       "current": "b7ad39b8-64b9-11e8-8364-0242ac110002",
       "next": null,
       "previous": "b7ad3936-64b9-11e8-8364-0242ac110002"
      }
     ],
     "next": "ff34186a-64b9-11e8-8364-0242ac110002",
     "previous": "b7ad3936-64b9-11e8-8364-0242ac110002"
    }
   },
   "source": [
    "TCP、UDPそれぞれssコマンドで見ることにする。"
   ]
  },
  {
   "cell_type": "code",
   "execution_count": 24,
   "metadata": {
    "deletable": false,
    "editable": false,
    "lc_cell_meme": {
     "current": "ff34186a-64b9-11e8-8364-0242ac110002",
     "next": "ff341982-64b9-11e8-8364-0242ac110002",
     "previous": "b7ad39b8-64b9-11e8-8364-0242ac110002"
    },
    "pinned_outputs": [
     {
      "execution_count": 24,
      "outputs": [
       {
        "name": "stdout",
        "output_type": "stream",
        "text": "State      Recv-Q Send-Q Local Address:Port               Peer Address:Port              \r\nLISTEN     0      128          *:8888                     *:*                  \r\nLISTEN     0      100    127.0.0.1:56409                    *:*                  \r\nLISTEN     0      100    127.0.0.1:44415                    *:*                  \r\nLISTEN     0      100    127.0.0.1:33055                    *:*                  \r\nLISTEN     0      100    127.0.0.1:43393                    *:*                  \r\nLISTEN     0      100    127.0.0.1:50275                    *:*                  \r\nLISTEN     0      100    127.0.0.1:37411                    *:*                  \r\nLISTEN     0      100    127.0.0.1:37155                    *:*                  \r\nLISTEN     0      100    127.0.0.1:36681                    *:*                  \r\nLISTEN     0      100    127.0.0.1:54603                    *:*                  \r\nLISTEN     0      100    127.0.0.1:51695                    *:*                  \r\nLISTEN     0      100    127.0.0.1:39407                    *:*                  \r\nLISTEN     0      100    127.0.0.1:43441                    *:*                  \r\nESTAB      0      0      127.0.0.1:36396              127.0.0.1:37155              \r\nESTAB      0      0      172.17.0.2:8888               172.17.0.1:53982              \r\nESTAB      0      0      127.0.0.1:50580              127.0.0.1:39407              \r\nESTAB      0      0      127.0.0.1:39407              127.0.0.1:50562              \r\nESTAB      0      0      127.0.0.1:50275              127.0.0.1:49172              \r\nESTAB      0      0      127.0.0.1:50275              127.0.0.1:49190              \r\nESTAB      0      0      127.0.0.1:39407              127.0.0.1:50580              \r\nESTAB      0      0      127.0.0.1:54603              127.0.0.1:35854              \r\nESTAB      0      0      127.0.0.1:49190              127.0.0.1:50275              \r\nESTAB      0      0      127.0.0.1:33055              127.0.0.1:40336              \r\nESTAB      0      0      127.0.0.1:50562              127.0.0.1:39407              \r\nESTAB      0      0      127.0.0.1:37155              127.0.0.1:36396              \r\nESTAB      0      0      127.0.0.1:37411              127.0.0.1:49246              \r\nESTAB      0      0      127.0.0.1:56409              127.0.0.1:55780              \r\nESTAB      0      0      172.17.0.2:8888               172.17.0.1:53936              \r\nESTAB      0      0      127.0.0.1:35854              127.0.0.1:54603              \r\nESTAB      0      0      127.0.0.1:57652              127.0.0.1:43441              \r\nESTAB      0      0      127.0.0.1:55780              127.0.0.1:56409              \r\nESTAB      0      0      127.0.0.1:40336              127.0.0.1:33055              \r\nESTAB      0      0      127.0.0.1:49172              127.0.0.1:50275              \r\nESTAB      0      0      127.0.0.1:49246              127.0.0.1:37411              \r\nESTAB      0      0      127.0.0.1:43441              127.0.0.1:57652              \r\nLISTEN     0      128         :::8888                    :::*                  \r\n"
       }
      ]
     }
    ],
    "run_through_control": {
     "frozen": true
    }
   },
   "outputs": [
    {
     "name": "stdout",
     "output_type": "stream",
     "text": [
      "State      Recv-Q Send-Q Local Address:Port               Peer Address:Port              \r\n",
      "LISTEN     0      128          *:8888                     *:*                  \r\n",
      "LISTEN     0      100    127.0.0.1:56409                    *:*                  \r\n",
      "LISTEN     0      100    127.0.0.1:44415                    *:*                  \r\n",
      "LISTEN     0      100    127.0.0.1:33055                    *:*                  \r\n",
      "LISTEN     0      100    127.0.0.1:43393                    *:*                  \r\n",
      "LISTEN     0      100    127.0.0.1:50275                    *:*                  \r\n",
      "LISTEN     0      100    127.0.0.1:37411                    *:*                  \r\n",
      "LISTEN     0      100    127.0.0.1:37155                    *:*                  \r\n",
      "LISTEN     0      100    127.0.0.1:36681                    *:*                  \r\n",
      "LISTEN     0      100    127.0.0.1:54603                    *:*                  \r\n",
      "LISTEN     0      100    127.0.0.1:51695                    *:*                  \r\n",
      "LISTEN     0      100    127.0.0.1:39407                    *:*                  \r\n",
      "LISTEN     0      100    127.0.0.1:43441                    *:*                  \r\n",
      "ESTAB      0      0      127.0.0.1:36396              127.0.0.1:37155              \r\n",
      "ESTAB      0      0      172.17.0.2:8888               172.17.0.1:53982              \r\n",
      "ESTAB      0      0      127.0.0.1:50580              127.0.0.1:39407              \r\n",
      "ESTAB      0      0      127.0.0.1:39407              127.0.0.1:50562              \r\n",
      "ESTAB      0      0      127.0.0.1:50275              127.0.0.1:49172              \r\n",
      "ESTAB      0      0      127.0.0.1:50275              127.0.0.1:49190              \r\n",
      "ESTAB      0      0      127.0.0.1:39407              127.0.0.1:50580              \r\n",
      "ESTAB      0      0      127.0.0.1:54603              127.0.0.1:35854              \r\n",
      "ESTAB      0      0      127.0.0.1:49190              127.0.0.1:50275              \r\n",
      "ESTAB      0      0      127.0.0.1:33055              127.0.0.1:40336              \r\n",
      "ESTAB      0      0      127.0.0.1:50562              127.0.0.1:39407              \r\n",
      "ESTAB      0      0      127.0.0.1:37155              127.0.0.1:36396              \r\n",
      "ESTAB      0      0      127.0.0.1:37411              127.0.0.1:49246              \r\n",
      "ESTAB      0      0      127.0.0.1:56409              127.0.0.1:55780              \r\n",
      "ESTAB      0      0      172.17.0.2:8888               172.17.0.1:53936              \r\n",
      "ESTAB      0      0      127.0.0.1:35854              127.0.0.1:54603              \r\n",
      "ESTAB      0      0      127.0.0.1:57652              127.0.0.1:43441              \r\n",
      "ESTAB      0      0      127.0.0.1:55780              127.0.0.1:56409              \r\n",
      "ESTAB      0      0      127.0.0.1:40336              127.0.0.1:33055              \r\n",
      "ESTAB      0      0      127.0.0.1:49172              127.0.0.1:50275              \r\n",
      "ESTAB      0      0      127.0.0.1:49246              127.0.0.1:37411              \r\n",
      "ESTAB      0      0      127.0.0.1:43441              127.0.0.1:57652              \r\n",
      "LISTEN     0      128         :::8888                    :::*                  \r\n"
     ]
    }
   ],
   "source": [
    "!ss -nat"
   ]
  },
  {
   "cell_type": "code",
   "execution_count": 25,
   "metadata": {
    "deletable": false,
    "editable": false,
    "lc_cell_meme": {
     "current": "ff341982-64b9-11e8-8364-0242ac110002",
     "next": "ff341a18-64b9-11e8-8364-0242ac110002",
     "previous": "ff34186a-64b9-11e8-8364-0242ac110002"
    },
    "pinned_outputs": [
     {
      "execution_count": 25,
      "outputs": [
       {
        "name": "stdout",
        "output_type": "stream",
        "text": "State      Recv-Q Send-Q Local Address:Port               Peer Address:Port              \r\n"
       }
      ]
     }
    ],
    "run_through_control": {
     "frozen": true
    }
   },
   "outputs": [
    {
     "name": "stdout",
     "output_type": "stream",
     "text": [
      "State      Recv-Q Send-Q Local Address:Port               Peer Address:Port              \r\n"
     ]
    }
   ],
   "source": [
    "!ss -nau"
   ]
  },
  {
   "cell_type": "markdown",
   "metadata": {
    "lc_cell_meme": {
     "current": "ff341a18-64b9-11e8-8364-0242ac110002",
     "history": [
      {
       "current": "ff341a18-64b9-11e8-8364-0242ac110002",
       "next": "ff341a9a-64b9-11e8-8364-0242ac110002",
       "previous": "ff341982-64b9-11e8-8364-0242ac110002"
      }
     ],
     "next": "59824e2e-64bd-11e8-8364-0242ac110002",
     "previous": "ff341982-64b9-11e8-8364-0242ac110002"
    }
   },
   "source": [
    "## ロードされているドライバ"
   ]
  },
  {
   "cell_type": "code",
   "execution_count": 26,
   "metadata": {
    "deletable": false,
    "editable": false,
    "lc_cell_meme": {
     "current": "59824e2e-64bd-11e8-8364-0242ac110002",
     "history": [
      {
       "current": "59824e2e-64bd-11e8-8364-0242ac110002",
       "next": "59824eec-64bd-11e8-8364-0242ac110002",
       "previous": "59824cf8-64bd-11e8-8364-0242ac110002"
      }
     ],
     "next": "59824eec-64bd-11e8-8364-0242ac110002",
     "previous": "ff341a18-64b9-11e8-8364-0242ac110002"
    },
    "pinned_outputs": [
     {
      "execution_count": 26,
      "outputs": [
       {
        "name": "stdout",
        "output_type": "stream",
        "text": "Module                  Size  Used by\r\nxfrm_user              32768  1\r\nxfrm_algo              16384  1 xfrm_user\r\ntpm_tis                16384  0\r\ntpm_tis_core           20480  1 tpm_tis\r\ntpm                    32768  2 tpm_tis,tpm_tis_core\r\n"
       }
      ]
     }
    ],
    "run_through_control": {
     "frozen": true
    }
   },
   "outputs": [
    {
     "name": "stdout",
     "output_type": "stream",
     "text": [
      "Module                  Size  Used by\r\n",
      "xfrm_user              32768  1\r\n",
      "xfrm_algo              16384  1 xfrm_user\r\n",
      "tpm_tis                16384  0\r\n",
      "tpm_tis_core           20480  1 tpm_tis\r\n",
      "tpm                    32768  2 tpm_tis,tpm_tis_core\r\n"
     ]
    }
   ],
   "source": [
    "!lsmod"
   ]
  },
  {
   "cell_type": "markdown",
   "metadata": {
    "lc_cell_meme": {
     "current": "59824eec-64bd-11e8-8364-0242ac110002",
     "history": [
      {
       "current": "59824eec-64bd-11e8-8364-0242ac110002",
       "next": "59825144-64bd-11e8-8364-0242ac110002",
       "previous": "59824e2e-64bd-11e8-8364-0242ac110002"
      }
     ],
     "next": "a10928da-64bd-11e8-8364-0242ac110002",
     "previous": "59824e2e-64bd-11e8-8364-0242ac110002"
    }
   },
   "source": [
    "## オープン中のファイルとハンドル"
   ]
  },
  {
   "cell_type": "code",
   "execution_count": 27,
   "metadata": {
    "deletable": false,
    "editable": false,
    "lc_cell_meme": {
     "current": "a10928da-64bd-11e8-8364-0242ac110002",
     "history": [
      {
       "current": "a10928da-64bd-11e8-8364-0242ac110002",
       "next": "a1092984-64bd-11e8-8364-0242ac110002",
       "previous": "a10927b8-64bd-11e8-8364-0242ac110002"
      }
     ],
     "next": "a1092984-64bd-11e8-8364-0242ac110002",
     "previous": "59824eec-64bd-11e8-8364-0242ac110002"
    },
    "pinned_outputs": [
     {
      "execution_count": 27,
      "outputs": [
       {
        "name": "stdout",
        "output_type": "stream",
        "text": "COMMAND   PID TID   USER   FD      TYPE             DEVICE SIZE/OFF             NODE NAME\r\ntini        1     jovyan  cwd       DIR               0,59     4096           177804 /home/jovyan\r\ntini        1     jovyan  rtd       DIR               0,59     4096           181289 /\r\ntini        1     jovyan  txt       REG                8,1    19864           656083 /usr/local/bin/tini\r\ntini        1     jovyan  mem       REG                8,1  1868984           394365 /lib/x86_64-linux-gnu/libc-2.23.so\r\ntini        1     jovyan  mem       REG                8,1   162632           394345 /lib/x86_64-linux-gnu/ld-2.23.so\r\ntini        1     jovyan    0r     FIFO               0,10      0t0           177821 pipe\r\ntini        1     jovyan    1w     FIFO               0,10      0t0           177822 pipe\r\ntini        1     jovyan    2w     FIFO               0,10      0t0           177823 pipe\r\njupyter-n   6     jovyan  cwd       DIR               0,59     4096           177804 /home/jovyan\r\njupyter-n   6     jovyan  rtd       DIR               0,59     4096           181289 /\r\njupyter-n   6     jovyan  txt       REG                8,1    14857           529056 /opt/conda/bin/python3.6\r\njupyter-n   6     jovyan  mem       REG                8,1   498131          1839770 /opt/conda/lib/python3.6/site-packages/msgpack/_unpacker.cpython-36m-x86_64-linux-gnu.so\r\njupyter-n   6     jovyan  mem       REG                8,1   430506          1839769 /opt/conda/lib/python3.6/site-packages/msgpack/_packer.cpython-36m-x86_64-linux-gnu.so\r\njupyter-n   6     jovyan  mem       REG                8,1    64549           530858 /opt/conda/lib/python3.6/lib-dynload/_lsprof.cpython-36m-x86_64-linux-gnu.so\r\njupyter-n   6     jovyan  mem       REG                8,1    32268           530893 /opt/conda/lib/python3.6/lib-dynload/resource.cpython-36m-x86_64-linux-gnu.so\r\njupyter-n   6     jovyan  mem       REG                8,1  1165114           529569 /opt/conda/lib/libsqlite3.so.0.8.6\r\njupyter-n   6     jovyan  mem       REG                8,1   295030           530872 /opt/conda/lib/python3.6/lib-dynload/_sqlite3.cpython-36m-x86_64-linux-gnu.so\r\njupyter-n   6     jovyan  DEL       REG                8,1                    531913 /opt/conda/lib/python3.6/site-packages/cryptography/hazmat/bindings/_openssl.abi3.so\r\njupyter-n   6     jovyan  mem       REG                8,1    42179           529500 /opt/conda/lib/libffi.so.6.0.4\r\njupyter-n   6     jovyan  mem       REG                8,1   758089           531258 /opt/conda/lib/python3.6/site-packages/_cffi_backend.cpython-36m-x86_64-linux-gnu.so\r\njupyter-n   6     jovyan  DEL       REG                8,1                    531912 /opt/conda/lib/python3.6/site-packages/cryptography/hazmat/bindings/_constant_time.abi3.so\r\njupyter-n   6     jovyan  mem       REG                8,1   929104           530891 /opt/conda/lib/python3.6/lib-dynload/pyexpat.cpython-36m-x86_64-linux-gnu.so\r\njupyter-n   6     jovyan  mem       REG                8,1   273999           530854 /opt/conda/lib/python3.6/lib-dynload/_elementtree.cpython-36m-x86_64-linux-gnu.so\r\njupyter-n   6     jovyan  mem       REG                8,1    18976           394463 /lib/x86_64-linux-gnu/libuuid.so.1.3.0\r\njupyter-n   6     jovyan  mem       REG                8,1    46964           530897 /opt/conda/lib/python3.6/lib-dynload/termios.cpython-36m-x86_64-linux-gnu.so\r\njupyter-n   6     jovyan  mem       REG                8,1   112122           530847 /opt/conda/lib/python3.6/lib-dynload/_csv.cpython-36m-x86_64-linux-gnu.so\r\njupyter-n   6     jovyan  mem       REG                8,1    41463           530884 /opt/conda/lib/python3.6/lib-dynload/fcntl.cpython-36m-x86_64-linux-gnu.so\r\njupyter-n   6     jovyan  mem       REG                8,1   228724          2230844 /opt/conda/lib/python3.6/site-packages/zmq/backend/cython/_device.cpython-36m-x86_64-linux-gnu.so\r\njupyter-n   6     jovyan  mem       REG                8,1    98032          2230846 /opt/conda/lib/python3.6/site-packages/zmq/backend/cython/_version.cpython-36m-x86_64-linux-gnu.so\r\njupyter-n   6     jovyan  mem       REG                8,1   327947          2230845 /opt/conda/lib/python3.6/site-packages/zmq/backend/cython/_poll.cpython-36m-x86_64-linux-gnu.so\r\njupyter-n   6     jovyan  mem       REG                8,1   149930          2230859 /opt/conda/lib/python3.6/site-packages/zmq/backend/cython/utils.cpython-36m-x86_64-linux-gnu.so\r\njupyter-n   6     jovyan  mem       REG                8,1   730559          2230857 /opt/conda/lib/python3.6/site-packages/zmq/backend/cython/socket.cpython-36m-x86_64-linux-gnu.so\r\njupyter-n   6     jovyan  mem       REG                8,1   311141          2230851 /opt/conda/lib/python3.6/site-packages/zmq/backend/cython/context.cpython-36m-x86_64-linux-gnu.so\r\njupyter-n   6     jovyan  mem       REG                8,1   452817          2230855 /opt/conda/lib/python3.6/site-packages/zmq/backend/cython/message.cpython-36m-x86_64-linux-gnu.so\r\njupyter-n   6     jovyan  mem       REG                8,1   115893          2230853 /opt/conda/lib/python3.6/site-packages/zmq/backend/cython/error.cpython-36m-x86_64-linux-gnu.so\r\njupyter-n   6     jovyan  mem       REG                8,1   706232           529510 /opt/conda/lib/libgcc_s.so.1\r\njupyter-n   6     jovyan  mem       REG                8,1  8167184           529575 /opt/conda/lib/libstdc++.so.6.0.24\r\njupyter-n   6     jovyan  mem       REG                8,1  1289027           661987 /opt/conda/lib/libzmq.so.5.1.5\r\njupyter-n   6     jovyan  mem       REG                8,1   228614          2230849 /opt/conda/lib/python3.6/site-packages/zmq/backend/cython/constants.cpython-36m-x86_64-linux-gnu.so\r\njupyter-n   6     jovyan  mem       REG                8,1   617309           530848 /opt/conda/lib/python3.6/lib-dynload/_ctypes.cpython-36m-x86_64-linux-gnu.so\r\njupyter-n   6     jovyan  mem       REG                8,1   194106           530836 /opt/conda/lib/python3.6/lib-dynload/_asyncio.cpython-36m-x86_64-linux-gnu.so\r\njupyter-n   6     jovyan  mem       REG                8,1    48787           530862 /opt/conda/lib/python3.6/lib-dynload/_multiprocessing.cpython-36m-x86_64-linux-gnu.so\r\njupyter-n   6     jovyan  mem       REG                8,1   963624           530898 /opt/conda/lib/python3.6/lib-dynload/unicodedata.cpython-36m-x86_64-linux-gnu.so\r\njupyter-n   6     jovyan  mem       REG                8,1  1686154           530853 /opt/conda/lib/python3.6/lib-dynload/_decimal.cpython-36m-x86_64-linux-gnu.so\r\njupyter-n   6     jovyan  mem       REG                8,1    33037          1837267 /opt/conda/lib/python3.6/site-packages/markupsafe/_speedups.cpython-36m-x86_64-linux-gnu.so\r\njupyter-n   6     jovyan  mem       REG                8,1   249585           529581 /opt/conda/lib/libtinfo.so.5.9\r\njupyter-n   6     jovyan  mem       REG                8,1   176142           529542 /opt/conda/lib/libncurses.so.5.9\r\njupyter-n   6     jovyan  mem       REG                8,1   316595           530850 /opt/conda/lib/python3.6/lib-dynload/_curses.cpython-36m-x86_64-linux-gnu.so\r\njupyter-n   6     jovyan  mem       REG                8,1    17873          1708597 /opt/conda/lib/python3.6/site-packages/tornado/speedups.cpython-36m-x86_64-linux-gnu.so\r\njupyter-n   6     jovyan  mem       REG                8,1   187746           530880 /opt/conda/lib/python3.6/lib-dynload/array.cpython-36m-x86_64-linux-gnu.so\r\njupyter-n   6     jovyan  mem       REG                8,1   433613           530864 /opt/conda/lib/python3.6/lib-dynload/_pickle.cpython-36m-x86_64-linux-gnu.so\r\njupyter-n   6     jovyan  mem       REG                8,1    20447           530863 /opt/conda/lib/python3.6/lib-dynload/_opcode.cpython-36m-x86_64-linux-gnu.so\r\njupyter-n   6     jovyan  mem       REG                8,1   164929           530857 /opt/conda/lib/python3.6/lib-dynload/_json.cpython-36m-x86_64-linux-gnu.so\r\njupyter-n   6     jovyan  mem       REG                8,1    85443           530865 /opt/conda/lib/python3.6/lib-dynload/_posixsubprocess.cpython-36m-x86_64-linux-gnu.so\r\njupyter-n   6     jovyan  mem       REG                8,1   375919           530873 /opt/conda/lib/python3.6/lib-dynload/_ssl.cpython-36m-x86_64-linux-gnu.so\r\njupyter-n   6     jovyan  mem       REG                8,1   470165           530852 /opt/conda/lib/python3.6/lib-dynload/_datetime.cpython-36m-x86_64-linux-gnu.so\r\njupyter-n   6     jovyan  mem       REG                8,1    79124           530894 /opt/conda/lib/python3.6/lib-dynload/select.cpython-36m-x86_64-linux-gnu.so\r\njupyter-n   6     jovyan  mem       REG                8,1   339757           530871 /opt/conda/lib/python3.6/lib-dynload/_socket.cpython-36m-x86_64-linux-gnu.so\r\njupyter-n   6     jovyan  mem       REG                8,1    37999           530866 /opt/conda/lib/python3.6/lib-dynload/_random.cpython-36m-x86_64-linux-gnu.so\r\njupyter-n   6     jovyan  mem       REG                8,1   210293           530886 /opt/conda/lib/python3.6/lib-dynload/math.cpython-36m-x86_64-linux-gnu.so\r\njupyter-n   6     jovyan  mem       REG                8,1   355122           530869 /opt/conda/lib/python3.6/lib-dynload/_sha3.cpython-36m-x86_64-linux-gnu.so\r\njupyter-n   6     jovyan  mem       REG                8,1   329909           530838 /opt/conda/lib/python3.6/lib-dynload/_blake2.cpython-36m-x86_64-linux-gnu.so\r\njupyter-n   6     jovyan  mem       REG                8,1  2692340           529490 /opt/conda/lib/libcrypto.so.1.0.0\r\njupyter-n   6     jovyan  mem       REG                8,1   549929           529572 /opt/conda/lib/libssl.so.1.0.0\r\njupyter-n   6     jovyan  mem       REG                8,1    92355           530855 /opt/conda/lib/python3.6/lib-dynload/_hashlib.cpython-36m-x86_64-linux-gnu.so\r\njupyter-n   6     jovyan  mem       REG                8,1    33663           530837 /opt/conda/lib/python3.6/lib-dynload/_bisect.cpython-36m-x86_64-linux-gnu.so\r\njupyter-n   6     jovyan  mem       REG                8,1    78638           530882 /opt/conda/lib/python3.6/lib-dynload/binascii.cpython-36m-x86_64-linux-gnu.so\r\njupyter-n   6     jovyan  mem       REG                8,1   159628           530874 /opt/conda/lib/python3.6/lib-dynload/_struct.cpython-36m-x86_64-linux-gnu.so\r\njupyter-n   6     jovyan  mem       REG                8,1    35500           530885 /opt/conda/lib/python3.6/lib-dynload/grp.cpython-36m-x86_64-linux-gnu.so\r\njupyter-n   6     jovyan  mem       REG                8,1   803563           529528 /opt/conda/lib/liblzma.so.5.2.3\r\njupyter-n   6     jovyan  mem       REG                8,1   117498           530859 /opt/conda/lib/python3.6/lib-dynload/_lzma.cpython-36m-x86_64-linux-gnu.so\r\njupyter-n   6     jovyan  mem       REG                8,1   269237           530839 /opt/conda/lib/python3.6/lib-dynload/_bz2.cpython-36m-x86_64-linux-gnu.so\r\njupyter-n   6     jovyan  mem       REG                8,1   127973           529602 /opt/conda/lib/libz.so.1.2.11\r\njupyter-n   6     jovyan  mem       REG                8,1   116664           530900 /opt/conda/lib/python3.6/lib-dynload/zlib.cpython-36m-x86_64-linux-gnu.so\r\njupyter-n   6     jovyan  mem       REG                8,1    47058           530856 /opt/conda/lib/python3.6/lib-dynload/_heapq.cpython-36m-x86_64-linux-gnu.so\r\njupyter-n   6     jovyan  mem       REG                8,1  1868984           394365 /lib/x86_64-linux-gnu/libc-2.23.so\r\njupyter-n   6     jovyan  mem       REG                8,1  1088952           394397 /lib/x86_64-linux-gnu/libm-2.23.so\r\njupyter-n   6     jovyan  mem       REG                8,1    31712           394440 /lib/x86_64-linux-gnu/librt-2.23.so\r\njupyter-n   6     jovyan  mem       REG                8,1    10656           394460 /lib/x86_64-linux-gnu/libutil-2.23.so\r\njupyter-n   6     jovyan  mem       REG                8,1    14608           394378 /lib/x86_64-linux-gnu/libdl-2.23.so\r\njupyter-n   6     jovyan  mem       REG                8,1   138696           394433 /lib/x86_64-linux-gnu/libpthread-2.23.so\r\njupyter-n   6     jovyan  mem       REG                8,1 12444567           529556 /opt/conda/lib/libpython3.6m.so.1.0\r\njupyter-n   6     jovyan  mem       REG                8,1   162632           394345 /lib/x86_64-linux-gnu/ld-2.23.so\r\njupyter-n   6     jovyan  mem       REG                8,1    26258           395222 /usr/lib/x86_64-linux-gnu/gconv/gconv-modules.cache\r\njupyter-n   6     jovyan  mem       REG                8,1  1668976           656066 /usr/lib/locale/locale-archive\r\njupyter-n   6     jovyan    0r     FIFO               0,10      0t0           177821 pipe\r\njupyter-n   6     jovyan    1w     FIFO               0,10      0t0           177822 pipe\r\njupyter-n   6     jovyan    2w     FIFO               0,10      0t0           177823 pipe\r\njupyter-n   6     jovyan    3r      CHR                1,9      0t0           177867 /dev/urandom\r\njupyter-n   6     jovyan    4r      CHR                1,9      0t0           177867 /dev/urandom\r\njupyter-n   6     jovyan    5w      CHR                1,3      0t0           177862 /dev/null\r\njupyter-n   6     jovyan    6u     IPv4             184213      0t0              TCP *:8888 (LISTEN)\r\njupyter-n   6     jovyan    7u     IPv6             184214      0t0              TCP *:8888 (LISTEN)\r\njupyter-n   6     jovyan    8u  a_inode               0,11        0            11923 [eventpoll]\r\njupyter-n   6     jovyan    9u     unix 0x0000000000000000      0t0           184215 type=STREAM\r\njupyter-n   6     jovyan   10u     unix 0x0000000000000000      0t0           184216 type=STREAM\r\njupyter-n   6     jovyan   12u     IPv4             183213      0t0              TCP 1a17b746bd59:8888->172.17.0.1:53982 (ESTABLISHED)\r\njupyter-n   6     jovyan   17u      REG                8,1    16384           262654 /home/jovyan/.local/share/jupyter/nbsignatures.db\r\njupyter-n   6     jovyan   18u  a_inode               0,11        0            11923 [eventfd]\r\njupyter-n   6     jovyan   19r      CHR                1,9      0t0           177867 /dev/urandom\r\njupyter-n   6     jovyan   20u  a_inode               0,11        0            11923 [eventfd]\r\njupyter-n   6     jovyan   21u  a_inode               0,11        0            11923 [eventpoll]\r\njupyter-n   6     jovyan   22u  a_inode               0,11        0            11923 [eventfd]\r\njupyter-n   6     jovyan   23u  a_inode               0,11        0            11923 [eventpoll]\r\njupyter-n   6     jovyan   24u  a_inode               0,11        0            11923 [eventfd]\r\njupyter-n   6     jovyan   25u  a_inode               0,11        0            11923 [eventfd]\r\njupyter-n   6     jovyan   26u     IPv4             184694      0t0              TCP localhost:50562->localhost:39407 (ESTABLISHED)\r\njupyter-n   6     jovyan   27u     IPv4             184695      0t0              TCP localhost:40336->localhost:33055 (ESTABLISHED)\r\njupyter-n   6     jovyan   28u     IPv4             184743      0t0              TCP 1a17b746bd59:8888->172.17.0.1:53936 (ESTABLISHED)\r\njupyter-n   6     jovyan   29u     IPv4             183149      0t0              TCP localhost:35854->localhost:54603 (ESTABLISHED)\r\njupyter-n   6     jovyan   30u  a_inode               0,11        0            11923 [eventfd]\r\njupyter-n   6     jovyan   31u  a_inode               0,11        0            11923 [eventfd]\r\njupyter-n   6     jovyan   32u     IPv4             183151      0t0              TCP localhost:50580->localhost:39407 (ESTABLISHED)\r\njupyter-n   6     jovyan   33u  a_inode               0,11        0            11923 [eventfd]\r\njupyter-n   6     jovyan   34u     IPv4             183153      0t0              TCP localhost:36396->localhost:37155 (ESTABLISHED)\r\njupyter-n   6     jovyan   35u  a_inode               0,11        0            11923 [eventfd]\r\njupyter-n   6     jovyan   36u  a_inode               0,11        0            11923 [eventfd]\r\njupyter-n   6     jovyan   37u     IPv4             184821      0t0              TCP localhost:49172->localhost:50275 (ESTABLISHED)\r\njupyter-n   6     jovyan   38u     IPv4             184822      0t0              TCP localhost:57652->localhost:43441 (ESTABLISHED)\r\njupyter-n   6     jovyan   40u  a_inode               0,11        0            11923 [eventfd]\r\njupyter-n   6     jovyan   41u     IPv4             183204      0t0              TCP localhost:55780->localhost:56409 (ESTABLISHED)\r\njupyter-n   6     jovyan   42u  a_inode               0,11        0            11923 [eventfd]\r\njupyter-n   6     jovyan   43u     IPv4             183206      0t0              TCP localhost:49190->localhost:50275 (ESTABLISHED)\r\njupyter-n   6     jovyan   44u  a_inode               0,11        0            11923 [eventfd]\r\njupyter-n   6     jovyan   45u     IPv4             183208      0t0              TCP localhost:49246->localhost:37411 (ESTABLISHED)\r\nZMQbg/0     6  20 jovyan  cwd       DIR               0,59     4096           177804 /home/jovyan\r\nZMQbg/0     6  20 jovyan  rtd       DIR               0,59     4096           181289 /\r\nZMQbg/0     6  20 jovyan  txt       REG                8,1    14857           529056 /opt/conda/bin/python3.6\r\nZMQbg/0     6  20 jovyan  mem       REG                8,1   498131          1839770 /opt/conda/lib/python3.6/site-packages/msgpack/_unpacker.cpython-36m-x86_64-linux-gnu.so\r\nZMQbg/0     6  20 jovyan  mem       REG                8,1   430506          1839769 /opt/conda/lib/python3.6/site-packages/msgpack/_packer.cpython-36m-x86_64-linux-gnu.so\r\nZMQbg/0     6  20 jovyan  mem       REG                8,1    64549           530858 /opt/conda/lib/python3.6/lib-dynload/_lsprof.cpython-36m-x86_64-linux-gnu.so\r\nZMQbg/0     6  20 jovyan  mem       REG                8,1    32268           530893 /opt/conda/lib/python3.6/lib-dynload/resource.cpython-36m-x86_64-linux-gnu.so\r\nZMQbg/0     6  20 jovyan  mem       REG                8,1  1165114           529569 /opt/conda/lib/libsqlite3.so.0.8.6\r\nZMQbg/0     6  20 jovyan  mem       REG                8,1   295030           530872 /opt/conda/lib/python3.6/lib-dynload/_sqlite3.cpython-36m-x86_64-linux-gnu.so\r\nZMQbg/0     6  20 jovyan  DEL       REG                8,1                    531913 /opt/conda/lib/python3.6/site-packages/cryptography/hazmat/bindings/_openssl.abi3.so\r\nZMQbg/0     6  20 jovyan  mem       REG                8,1    42179           529500 /opt/conda/lib/libffi.so.6.0.4\r\nZMQbg/0     6  20 jovyan  mem       REG                8,1   758089           531258 /opt/conda/lib/python3.6/site-packages/_cffi_backend.cpython-36m-x86_64-linux-gnu.so\r\nZMQbg/0     6  20 jovyan  DEL       REG                8,1                    531912 /opt/conda/lib/python3.6/site-packages/cryptography/hazmat/bindings/_constant_time.abi3.so\r\nZMQbg/0     6  20 jovyan  mem       REG                8,1   929104           530891 /opt/conda/lib/python3.6/lib-dynload/pyexpat.cpython-36m-x86_64-linux-gnu.so\r\nZMQbg/0     6  20 jovyan  mem       REG                8,1   273999           530854 /opt/conda/lib/python3.6/lib-dynload/_elementtree.cpython-36m-x86_64-linux-gnu.so\r\nZMQbg/0     6  20 jovyan  mem       REG                8,1    18976           394463 /lib/x86_64-linux-gnu/libuuid.so.1.3.0\r\nZMQbg/0     6  20 jovyan  mem       REG                8,1    46964           530897 /opt/conda/lib/python3.6/lib-dynload/termios.cpython-36m-x86_64-linux-gnu.so\r\nZMQbg/0     6  20 jovyan  mem       REG                8,1   112122           530847 /opt/conda/lib/python3.6/lib-dynload/_csv.cpython-36m-x86_64-linux-gnu.so\r\nZMQbg/0     6  20 jovyan  mem       REG                8,1    41463           530884 /opt/conda/lib/python3.6/lib-dynload/fcntl.cpython-36m-x86_64-linux-gnu.so\r\nZMQbg/0     6  20 jovyan  mem       REG                8,1   228724          2230844 /opt/conda/lib/python3.6/site-packages/zmq/backend/cython/_device.cpython-36m-x86_64-linux-gnu.so\r\nZMQbg/0     6  20 jovyan  mem       REG                8,1    98032          2230846 /opt/conda/lib/python3.6/site-packages/zmq/backend/cython/_version.cpython-36m-x86_64-linux-gnu.so\r\nZMQbg/0     6  20 jovyan  mem       REG                8,1   327947          2230845 /opt/conda/lib/python3.6/site-packages/zmq/backend/cython/_poll.cpython-36m-x86_64-linux-gnu.so\r\nZMQbg/0     6  20 jovyan  mem       REG                8,1   149930          2230859 /opt/conda/lib/python3.6/site-packages/zmq/backend/cython/utils.cpython-36m-x86_64-linux-gnu.so\r\nZMQbg/0     6  20 jovyan  mem       REG                8,1   730559          2230857 /opt/conda/lib/python3.6/site-packages/zmq/backend/cython/socket.cpython-36m-x86_64-linux-gnu.so\r\nZMQbg/0     6  20 jovyan  mem       REG                8,1   311141          2230851 /opt/conda/lib/python3.6/site-packages/zmq/backend/cython/context.cpython-36m-x86_64-linux-gnu.so\r\nZMQbg/0     6  20 jovyan  mem       REG                8,1   452817          2230855 /opt/conda/lib/python3.6/site-packages/zmq/backend/cython/message.cpython-36m-x86_64-linux-gnu.so\r\nZMQbg/0     6  20 jovyan  mem       REG                8,1   115893          2230853 /opt/conda/lib/python3.6/site-packages/zmq/backend/cython/error.cpython-36m-x86_64-linux-gnu.so\r\nZMQbg/0     6  20 jovyan  mem       REG                8,1   706232           529510 /opt/conda/lib/libgcc_s.so.1\r\nZMQbg/0     6  20 jovyan  mem       REG                8,1  8167184           529575 /opt/conda/lib/libstdc++.so.6.0.24\r\nZMQbg/0     6  20 jovyan  mem       REG                8,1  1289027           661987 /opt/conda/lib/libzmq.so.5.1.5\r\nZMQbg/0     6  20 jovyan  mem       REG                8,1   228614          2230849 /opt/conda/lib/python3.6/site-packages/zmq/backend/cython/constants.cpython-36m-x86_64-linux-gnu.so\r\nZMQbg/0     6  20 jovyan  mem       REG                8,1   617309           530848 /opt/conda/lib/python3.6/lib-dynload/_ctypes.cpython-36m-x86_64-linux-gnu.so\r\nZMQbg/0     6  20 jovyan  mem       REG                8,1   194106           530836 /opt/conda/lib/python3.6/lib-dynload/_asyncio.cpython-36m-x86_64-linux-gnu.so\r\nZMQbg/0     6  20 jovyan  mem       REG                8,1    48787           530862 /opt/conda/lib/python3.6/lib-dynload/_multiprocessing.cpython-36m-x86_64-linux-gnu.so\r\nZMQbg/0     6  20 jovyan  mem       REG                8,1   963624           530898 /opt/conda/lib/python3.6/lib-dynload/unicodedata.cpython-36m-x86_64-linux-gnu.so\r\nZMQbg/0     6  20 jovyan  mem       REG                8,1  1686154           530853 /opt/conda/lib/python3.6/lib-dynload/_decimal.cpython-36m-x86_64-linux-gnu.so\r\nZMQbg/0     6  20 jovyan  mem       REG                8,1    33037          1837267 /opt/conda/lib/python3.6/site-packages/markupsafe/_speedups.cpython-36m-x86_64-linux-gnu.so\r\nZMQbg/0     6  20 jovyan  mem       REG                8,1   249585           529581 /opt/conda/lib/libtinfo.so.5.9\r\nZMQbg/0     6  20 jovyan  mem       REG                8,1   176142           529542 /opt/conda/lib/libncurses.so.5.9\r\nZMQbg/0     6  20 jovyan  mem       REG                8,1   316595           530850 /opt/conda/lib/python3.6/lib-dynload/_curses.cpython-36m-x86_64-linux-gnu.so\r\nZMQbg/0     6  20 jovyan  mem       REG                8,1    17873          1708597 /opt/conda/lib/python3.6/site-packages/tornado/speedups.cpython-36m-x86_64-linux-gnu.so\r\nZMQbg/0     6  20 jovyan  mem       REG                8,1   187746           530880 /opt/conda/lib/python3.6/lib-dynload/array.cpython-36m-x86_64-linux-gnu.so\r\nZMQbg/0     6  20 jovyan  mem       REG                8,1   433613           530864 /opt/conda/lib/python3.6/lib-dynload/_pickle.cpython-36m-x86_64-linux-gnu.so\r\nZMQbg/0     6  20 jovyan  mem       REG                8,1    20447           530863 /opt/conda/lib/python3.6/lib-dynload/_opcode.cpython-36m-x86_64-linux-gnu.so\r\nZMQbg/0     6  20 jovyan  mem       REG                8,1   164929           530857 /opt/conda/lib/python3.6/lib-dynload/_json.cpython-36m-x86_64-linux-gnu.so\r\nZMQbg/0     6  20 jovyan  mem       REG                8,1    85443           530865 /opt/conda/lib/python3.6/lib-dynload/_posixsubprocess.cpython-36m-x86_64-linux-gnu.so\r\nZMQbg/0     6  20 jovyan  mem       REG                8,1   375919           530873 /opt/conda/lib/python3.6/lib-dynload/_ssl.cpython-36m-x86_64-linux-gnu.so\r\nZMQbg/0     6  20 jovyan  mem       REG                8,1   470165           530852 /opt/conda/lib/python3.6/lib-dynload/_datetime.cpython-36m-x86_64-linux-gnu.so\r\nZMQbg/0     6  20 jovyan  mem       REG                8,1    79124           530894 /opt/conda/lib/python3.6/lib-dynload/select.cpython-36m-x86_64-linux-gnu.so\r\nZMQbg/0     6  20 jovyan  mem       REG                8,1   339757           530871 /opt/conda/lib/python3.6/lib-dynload/_socket.cpython-36m-x86_64-linux-gnu.so\r\nZMQbg/0     6  20 jovyan  mem       REG                8,1    37999           530866 /opt/conda/lib/python3.6/lib-dynload/_random.cpython-36m-x86_64-linux-gnu.so\r\nZMQbg/0     6  20 jovyan  mem       REG                8,1   210293           530886 /opt/conda/lib/python3.6/lib-dynload/math.cpython-36m-x86_64-linux-gnu.so\r\nZMQbg/0     6  20 jovyan  mem       REG                8,1   355122           530869 /opt/conda/lib/python3.6/lib-dynload/_sha3.cpython-36m-x86_64-linux-gnu.so\r\nZMQbg/0     6  20 jovyan  mem       REG                8,1   329909           530838 /opt/conda/lib/python3.6/lib-dynload/_blake2.cpython-36m-x86_64-linux-gnu.so\r\nZMQbg/0     6  20 jovyan  mem       REG                8,1  2692340           529490 /opt/conda/lib/libcrypto.so.1.0.0\r\nZMQbg/0     6  20 jovyan  mem       REG                8,1   549929           529572 /opt/conda/lib/libssl.so.1.0.0\r\nZMQbg/0     6  20 jovyan  mem       REG                8,1    92355           530855 /opt/conda/lib/python3.6/lib-dynload/_hashlib.cpython-36m-x86_64-linux-gnu.so\r\nZMQbg/0     6  20 jovyan  mem       REG                8,1    33663           530837 /opt/conda/lib/python3.6/lib-dynload/_bisect.cpython-36m-x86_64-linux-gnu.so\r\nZMQbg/0     6  20 jovyan  mem       REG                8,1    78638           530882 /opt/conda/lib/python3.6/lib-dynload/binascii.cpython-36m-x86_64-linux-gnu.so\r\nZMQbg/0     6  20 jovyan  mem       REG                8,1   159628           530874 /opt/conda/lib/python3.6/lib-dynload/_struct.cpython-36m-x86_64-linux-gnu.so\r\nZMQbg/0     6  20 jovyan  mem       REG                8,1    35500           530885 /opt/conda/lib/python3.6/lib-dynload/grp.cpython-36m-x86_64-linux-gnu.so\r\nZMQbg/0     6  20 jovyan  mem       REG                8,1   803563           529528 /opt/conda/lib/liblzma.so.5.2.3\r\nZMQbg/0     6  20 jovyan  mem       REG                8,1   117498           530859 /opt/conda/lib/python3.6/lib-dynload/_lzma.cpython-36m-x86_64-linux-gnu.so\r\nZMQbg/0     6  20 jovyan  mem       REG                8,1   269237           530839 /opt/conda/lib/python3.6/lib-dynload/_bz2.cpython-36m-x86_64-linux-gnu.so\r\nZMQbg/0     6  20 jovyan  mem       REG                8,1   127973           529602 /opt/conda/lib/libz.so.1.2.11\r\nZMQbg/0     6  20 jovyan  mem       REG                8,1   116664           530900 /opt/conda/lib/python3.6/lib-dynload/zlib.cpython-36m-x86_64-linux-gnu.so\r\nZMQbg/0     6  20 jovyan  mem       REG                8,1    47058           530856 /opt/conda/lib/python3.6/lib-dynload/_heapq.cpython-36m-x86_64-linux-gnu.so\r\nZMQbg/0     6  20 jovyan  mem       REG                8,1  1868984           394365 /lib/x86_64-linux-gnu/libc-2.23.so\r\nZMQbg/0     6  20 jovyan  mem       REG                8,1  1088952           394397 /lib/x86_64-linux-gnu/libm-2.23.so\r\nZMQbg/0     6  20 jovyan  mem       REG                8,1    31712           394440 /lib/x86_64-linux-gnu/librt-2.23.so\r\nZMQbg/0     6  20 jovyan  mem       REG                8,1    10656           394460 /lib/x86_64-linux-gnu/libutil-2.23.so\r\nZMQbg/0     6  20 jovyan  mem       REG                8,1    14608           394378 /lib/x86_64-linux-gnu/libdl-2.23.so\r\nZMQbg/0     6  20 jovyan  mem       REG                8,1   138696           394433 /lib/x86_64-linux-gnu/libpthread-2.23.so\r\nZMQbg/0     6  20 jovyan  mem       REG                8,1 12444567           529556 /opt/conda/lib/libpython3.6m.so.1.0\r\nZMQbg/0     6  20 jovyan  mem       REG                8,1   162632           394345 /lib/x86_64-linux-gnu/ld-2.23.so\r\nZMQbg/0     6  20 jovyan  mem       REG                8,1    26258           395222 /usr/lib/x86_64-linux-gnu/gconv/gconv-modules.cache\r\nZMQbg/0     6  20 jovyan  mem       REG                8,1  1668976           656066 /usr/lib/locale/locale-archive\r\nZMQbg/0     6  20 jovyan    0r     FIFO               0,10      0t0           177821 pipe\r\nZMQbg/0     6  20 jovyan    1w     FIFO               0,10      0t0           177822 pipe\r\nZMQbg/0     6  20 jovyan    2w     FIFO               0,10      0t0           177823 pipe\r\nZMQbg/0     6  20 jovyan    3r      CHR                1,9      0t0           177867 /dev/urandom\r\nZMQbg/0     6  20 jovyan    4r      CHR                1,9      0t0           177867 /dev/urandom\r\nZMQbg/0     6  20 jovyan    5w      CHR                1,3      0t0           177862 /dev/null\r\nZMQbg/0     6  20 jovyan    6u     IPv4             184213      0t0              TCP *:8888 (LISTEN)\r\nZMQbg/0     6  20 jovyan    7u     IPv6             184214      0t0              TCP *:8888 (LISTEN)\r\nZMQbg/0     6  20 jovyan    8u  a_inode               0,11        0            11923 [eventpoll]\r\nZMQbg/0     6  20 jovyan    9u     unix 0x0000000000000000      0t0           184215 type=STREAM\r\nZMQbg/0     6  20 jovyan   10u     unix 0x0000000000000000      0t0           184216 type=STREAM\r\nZMQbg/0     6  20 jovyan   12u     IPv4             183213      0t0              TCP 1a17b746bd59:8888->172.17.0.1:53982 (ESTABLISHED)\r\nZMQbg/0     6  20 jovyan   17u      REG                8,1    16384           262654 /home/jovyan/.local/share/jupyter/nbsignatures.db\r\nZMQbg/0     6  20 jovyan   18u  a_inode               0,11        0            11923 [eventfd]\r\nZMQbg/0     6  20 jovyan   19r      CHR                1,9      0t0           177867 /dev/urandom\r\nZMQbg/0     6  20 jovyan   20u  a_inode               0,11        0            11923 [eventfd]\r\nZMQbg/0     6  20 jovyan   21u  a_inode               0,11        0            11923 [eventpoll]\r\nZMQbg/0     6  20 jovyan   22u  a_inode               0,11        0            11923 [eventfd]\r\nZMQbg/0     6  20 jovyan   23u  a_inode               0,11        0            11923 [eventpoll]\r\nZMQbg/0     6  20 jovyan   24u  a_inode               0,11        0            11923 [eventfd]\r\nZMQbg/0     6  20 jovyan   25u  a_inode               0,11        0            11923 [eventfd]\r\nZMQbg/0     6  20 jovyan   26u     IPv4             184694      0t0              TCP localhost:50562->localhost:39407 (ESTABLISHED)\r\nZMQbg/0     6  20 jovyan   27u     IPv4             184695      0t0              TCP localhost:40336->localhost:33055 (ESTABLISHED)\r\nZMQbg/0     6  20 jovyan   28u     IPv4             184743      0t0              TCP 1a17b746bd59:8888->172.17.0.1:53936 (ESTABLISHED)\r\nZMQbg/0     6  20 jovyan   29u     IPv4             183149      0t0              TCP localhost:35854->localhost:54603 (ESTABLISHED)\r\nZMQbg/0     6  20 jovyan   30u  a_inode               0,11        0            11923 [eventfd]\r\nZMQbg/0     6  20 jovyan   31u  a_inode               0,11        0            11923 [eventfd]\r\nZMQbg/0     6  20 jovyan   32u     IPv4             183151      0t0              TCP localhost:50580->localhost:39407 (ESTABLISHED)\r\nZMQbg/0     6  20 jovyan   33u  a_inode               0,11        0            11923 [eventfd]\r\nZMQbg/0     6  20 jovyan   34u     IPv4             183153      0t0              TCP localhost:36396->localhost:37155 (ESTABLISHED)\r\nZMQbg/0     6  20 jovyan   35u  a_inode               0,11        0            11923 [eventfd]\r\nZMQbg/0     6  20 jovyan   36u  a_inode               0,11        0            11923 [eventfd]\r\nZMQbg/0     6  20 jovyan   37u     IPv4             184821      0t0              TCP localhost:49172->localhost:50275 (ESTABLISHED)\r\nZMQbg/0     6  20 jovyan   38u     IPv4             184822      0t0              TCP localhost:57652->localhost:43441 (ESTABLISHED)\r\nZMQbg/0     6  20 jovyan   40u  a_inode               0,11        0            11923 [eventfd]\r\nZMQbg/0     6  20 jovyan   41u     IPv4             183204      0t0              TCP localhost:55780->localhost:56409 (ESTABLISHED)\r\nZMQbg/0     6  20 jovyan   42u  a_inode               0,11        0            11923 [eventfd]\r\nZMQbg/0     6  20 jovyan   43u     IPv4             183206      0t0              TCP localhost:49190->localhost:50275 (ESTABLISHED)\r\nZMQbg/0     6  20 jovyan   44u  a_inode               0,11        0            11923 [eventfd]\r\nZMQbg/0     6  20 jovyan   45u     IPv4             183208      0t0              TCP localhost:49246->localhost:37411 (ESTABLISHED)\r\nZMQbg/1     6  21 jovyan  cwd       DIR               0,59     4096           177804 /home/jovyan\r\nZMQbg/1     6  21 jovyan  rtd       DIR               0,59     4096           181289 /\r\nZMQbg/1     6  21 jovyan  txt       REG                8,1    14857           529056 /opt/conda/bin/python3.6\r\nZMQbg/1     6  21 jovyan  mem       REG                8,1   498131          1839770 /opt/conda/lib/python3.6/site-packages/msgpack/_unpacker.cpython-36m-x86_64-linux-gnu.so\r\nZMQbg/1     6  21 jovyan  mem       REG                8,1   430506          1839769 /opt/conda/lib/python3.6/site-packages/msgpack/_packer.cpython-36m-x86_64-linux-gnu.so\r\nZMQbg/1     6  21 jovyan  mem       REG                8,1    64549           530858 /opt/conda/lib/python3.6/lib-dynload/_lsprof.cpython-36m-x86_64-linux-gnu.so\r\nZMQbg/1     6  21 jovyan  mem       REG                8,1    32268           530893 /opt/conda/lib/python3.6/lib-dynload/resource.cpython-36m-x86_64-linux-gnu.so\r\nZMQbg/1     6  21 jovyan  mem       REG                8,1  1165114           529569 /opt/conda/lib/libsqlite3.so.0.8.6\r\nZMQbg/1     6  21 jovyan  mem       REG                8,1   295030           530872 /opt/conda/lib/python3.6/lib-dynload/_sqlite3.cpython-36m-x86_64-linux-gnu.so\r\nZMQbg/1     6  21 jovyan  DEL       REG                8,1                    531913 /opt/conda/lib/python3.6/site-packages/cryptography/hazmat/bindings/_openssl.abi3.so\r\nZMQbg/1     6  21 jovyan  mem       REG                8,1    42179           529500 /opt/conda/lib/libffi.so.6.0.4\r\nZMQbg/1     6  21 jovyan  mem       REG                8,1   758089           531258 /opt/conda/lib/python3.6/site-packages/_cffi_backend.cpython-36m-x86_64-linux-gnu.so\r\nZMQbg/1     6  21 jovyan  DEL       REG                8,1                    531912 /opt/conda/lib/python3.6/site-packages/cryptography/hazmat/bindings/_constant_time.abi3.so\r\nZMQbg/1     6  21 jovyan  mem       REG                8,1   929104           530891 /opt/conda/lib/python3.6/lib-dynload/pyexpat.cpython-36m-x86_64-linux-gnu.so\r\nZMQbg/1     6  21 jovyan  mem       REG                8,1   273999           530854 /opt/conda/lib/python3.6/lib-dynload/_elementtree.cpython-36m-x86_64-linux-gnu.so\r\nZMQbg/1     6  21 jovyan  mem       REG                8,1    18976           394463 /lib/x86_64-linux-gnu/libuuid.so.1.3.0\r\nZMQbg/1     6  21 jovyan  mem       REG                8,1    46964           530897 /opt/conda/lib/python3.6/lib-dynload/termios.cpython-36m-x86_64-linux-gnu.so\r\nZMQbg/1     6  21 jovyan  mem       REG                8,1   112122           530847 /opt/conda/lib/python3.6/lib-dynload/_csv.cpython-36m-x86_64-linux-gnu.so\r\nZMQbg/1     6  21 jovyan  mem       REG                8,1    41463           530884 /opt/conda/lib/python3.6/lib-dynload/fcntl.cpython-36m-x86_64-linux-gnu.so\r\nZMQbg/1     6  21 jovyan  mem       REG                8,1   228724          2230844 /opt/conda/lib/python3.6/site-packages/zmq/backend/cython/_device.cpython-36m-x86_64-linux-gnu.so\r\nZMQbg/1     6  21 jovyan  mem       REG                8,1    98032          2230846 /opt/conda/lib/python3.6/site-packages/zmq/backend/cython/_version.cpython-36m-x86_64-linux-gnu.so\r\nZMQbg/1     6  21 jovyan  mem       REG                8,1   327947          2230845 /opt/conda/lib/python3.6/site-packages/zmq/backend/cython/_poll.cpython-36m-x86_64-linux-gnu.so\r\nZMQbg/1     6  21 jovyan  mem       REG                8,1   149930          2230859 /opt/conda/lib/python3.6/site-packages/zmq/backend/cython/utils.cpython-36m-x86_64-linux-gnu.so\r\nZMQbg/1     6  21 jovyan  mem       REG                8,1   730559          2230857 /opt/conda/lib/python3.6/site-packages/zmq/backend/cython/socket.cpython-36m-x86_64-linux-gnu.so\r\nZMQbg/1     6  21 jovyan  mem       REG                8,1   311141          2230851 /opt/conda/lib/python3.6/site-packages/zmq/backend/cython/context.cpython-36m-x86_64-linux-gnu.so\r\nZMQbg/1     6  21 jovyan  mem       REG                8,1   452817          2230855 /opt/conda/lib/python3.6/site-packages/zmq/backend/cython/message.cpython-36m-x86_64-linux-gnu.so\r\nZMQbg/1     6  21 jovyan  mem       REG                8,1   115893          2230853 /opt/conda/lib/python3.6/site-packages/zmq/backend/cython/error.cpython-36m-x86_64-linux-gnu.so\r\nZMQbg/1     6  21 jovyan  mem       REG                8,1   706232           529510 /opt/conda/lib/libgcc_s.so.1\r\nZMQbg/1     6  21 jovyan  mem       REG                8,1  8167184           529575 /opt/conda/lib/libstdc++.so.6.0.24\r\nZMQbg/1     6  21 jovyan  mem       REG                8,1  1289027           661987 /opt/conda/lib/libzmq.so.5.1.5\r\nZMQbg/1     6  21 jovyan  mem       REG                8,1   228614          2230849 /opt/conda/lib/python3.6/site-packages/zmq/backend/cython/constants.cpython-36m-x86_64-linux-gnu.so\r\nZMQbg/1     6  21 jovyan  mem       REG                8,1   617309           530848 /opt/conda/lib/python3.6/lib-dynload/_ctypes.cpython-36m-x86_64-linux-gnu.so\r\nZMQbg/1     6  21 jovyan  mem       REG                8,1   194106           530836 /opt/conda/lib/python3.6/lib-dynload/_asyncio.cpython-36m-x86_64-linux-gnu.so\r\nZMQbg/1     6  21 jovyan  mem       REG                8,1    48787           530862 /opt/conda/lib/python3.6/lib-dynload/_multiprocessing.cpython-36m-x86_64-linux-gnu.so\r\nZMQbg/1     6  21 jovyan  mem       REG                8,1   963624           530898 /opt/conda/lib/python3.6/lib-dynload/unicodedata.cpython-36m-x86_64-linux-gnu.so\r\nZMQbg/1     6  21 jovyan  mem       REG                8,1  1686154           530853 /opt/conda/lib/python3.6/lib-dynload/_decimal.cpython-36m-x86_64-linux-gnu.so\r\nZMQbg/1     6  21 jovyan  mem       REG                8,1    33037          1837267 /opt/conda/lib/python3.6/site-packages/markupsafe/_speedups.cpython-36m-x86_64-linux-gnu.so\r\nZMQbg/1     6  21 jovyan  mem       REG                8,1   249585           529581 /opt/conda/lib/libtinfo.so.5.9\r\nZMQbg/1     6  21 jovyan  mem       REG                8,1   176142           529542 /opt/conda/lib/libncurses.so.5.9\r\nZMQbg/1     6  21 jovyan  mem       REG                8,1   316595           530850 /opt/conda/lib/python3.6/lib-dynload/_curses.cpython-36m-x86_64-linux-gnu.so\r\nZMQbg/1     6  21 jovyan  mem       REG                8,1    17873          1708597 /opt/conda/lib/python3.6/site-packages/tornado/speedups.cpython-36m-x86_64-linux-gnu.so\r\nZMQbg/1     6  21 jovyan  mem       REG                8,1   187746           530880 /opt/conda/lib/python3.6/lib-dynload/array.cpython-36m-x86_64-linux-gnu.so\r\nZMQbg/1     6  21 jovyan  mem       REG                8,1   433613           530864 /opt/conda/lib/python3.6/lib-dynload/_pickle.cpython-36m-x86_64-linux-gnu.so\r\nZMQbg/1     6  21 jovyan  mem       REG                8,1    20447           530863 /opt/conda/lib/python3.6/lib-dynload/_opcode.cpython-36m-x86_64-linux-gnu.so\r\nZMQbg/1     6  21 jovyan  mem       REG                8,1   164929           530857 /opt/conda/lib/python3.6/lib-dynload/_json.cpython-36m-x86_64-linux-gnu.so\r\nZMQbg/1     6  21 jovyan  mem       REG                8,1    85443           530865 /opt/conda/lib/python3.6/lib-dynload/_posixsubprocess.cpython-36m-x86_64-linux-gnu.so\r\nZMQbg/1     6  21 jovyan  mem       REG                8,1   375919           530873 /opt/conda/lib/python3.6/lib-dynload/_ssl.cpython-36m-x86_64-linux-gnu.so\r\nZMQbg/1     6  21 jovyan  mem       REG                8,1   470165           530852 /opt/conda/lib/python3.6/lib-dynload/_datetime.cpython-36m-x86_64-linux-gnu.so\r\nZMQbg/1     6  21 jovyan  mem       REG                8,1    79124           530894 /opt/conda/lib/python3.6/lib-dynload/select.cpython-36m-x86_64-linux-gnu.so\r\nZMQbg/1     6  21 jovyan  mem       REG                8,1   339757           530871 /opt/conda/lib/python3.6/lib-dynload/_socket.cpython-36m-x86_64-linux-gnu.so\r\nZMQbg/1     6  21 jovyan  mem       REG                8,1    37999           530866 /opt/conda/lib/python3.6/lib-dynload/_random.cpython-36m-x86_64-linux-gnu.so\r\nZMQbg/1     6  21 jovyan  mem       REG                8,1   210293           530886 /opt/conda/lib/python3.6/lib-dynload/math.cpython-36m-x86_64-linux-gnu.so\r\nZMQbg/1     6  21 jovyan  mem       REG                8,1   355122           530869 /opt/conda/lib/python3.6/lib-dynload/_sha3.cpython-36m-x86_64-linux-gnu.so\r\nZMQbg/1     6  21 jovyan  mem       REG                8,1   329909           530838 /opt/conda/lib/python3.6/lib-dynload/_blake2.cpython-36m-x86_64-linux-gnu.so\r\nZMQbg/1     6  21 jovyan  mem       REG                8,1  2692340           529490 /opt/conda/lib/libcrypto.so.1.0.0\r\nZMQbg/1     6  21 jovyan  mem       REG                8,1   549929           529572 /opt/conda/lib/libssl.so.1.0.0\r\nZMQbg/1     6  21 jovyan  mem       REG                8,1    92355           530855 /opt/conda/lib/python3.6/lib-dynload/_hashlib.cpython-36m-x86_64-linux-gnu.so\r\nZMQbg/1     6  21 jovyan  mem       REG                8,1    33663           530837 /opt/conda/lib/python3.6/lib-dynload/_bisect.cpython-36m-x86_64-linux-gnu.so\r\nZMQbg/1     6  21 jovyan  mem       REG                8,1    78638           530882 /opt/conda/lib/python3.6/lib-dynload/binascii.cpython-36m-x86_64-linux-gnu.so\r\nZMQbg/1     6  21 jovyan  mem       REG                8,1   159628           530874 /opt/conda/lib/python3.6/lib-dynload/_struct.cpython-36m-x86_64-linux-gnu.so\r\nZMQbg/1     6  21 jovyan  mem       REG                8,1    35500           530885 /opt/conda/lib/python3.6/lib-dynload/grp.cpython-36m-x86_64-linux-gnu.so\r\nZMQbg/1     6  21 jovyan  mem       REG                8,1   803563           529528 /opt/conda/lib/liblzma.so.5.2.3\r\nZMQbg/1     6  21 jovyan  mem       REG                8,1   117498           530859 /opt/conda/lib/python3.6/lib-dynload/_lzma.cpython-36m-x86_64-linux-gnu.so\r\nZMQbg/1     6  21 jovyan  mem       REG                8,1   269237           530839 /opt/conda/lib/python3.6/lib-dynload/_bz2.cpython-36m-x86_64-linux-gnu.so\r\nZMQbg/1     6  21 jovyan  mem       REG                8,1   127973           529602 /opt/conda/lib/libz.so.1.2.11\r\nZMQbg/1     6  21 jovyan  mem       REG                8,1   116664           530900 /opt/conda/lib/python3.6/lib-dynload/zlib.cpython-36m-x86_64-linux-gnu.so\r\nZMQbg/1     6  21 jovyan  mem       REG                8,1    47058           530856 /opt/conda/lib/python3.6/lib-dynload/_heapq.cpython-36m-x86_64-linux-gnu.so\r\nZMQbg/1     6  21 jovyan  mem       REG                8,1  1868984           394365 /lib/x86_64-linux-gnu/libc-2.23.so\r\nZMQbg/1     6  21 jovyan  mem       REG                8,1  1088952           394397 /lib/x86_64-linux-gnu/libm-2.23.so\r\nZMQbg/1     6  21 jovyan  mem       REG                8,1    31712           394440 /lib/x86_64-linux-gnu/librt-2.23.so\r\nZMQbg/1     6  21 jovyan  mem       REG                8,1    10656           394460 /lib/x86_64-linux-gnu/libutil-2.23.so\r\nZMQbg/1     6  21 jovyan  mem       REG                8,1    14608           394378 /lib/x86_64-linux-gnu/libdl-2.23.so\r\nZMQbg/1     6  21 jovyan  mem       REG                8,1   138696           394433 /lib/x86_64-linux-gnu/libpthread-2.23.so\r\nZMQbg/1     6  21 jovyan  mem       REG                8,1 12444567           529556 /opt/conda/lib/libpython3.6m.so.1.0\r\nZMQbg/1     6  21 jovyan  mem       REG                8,1   162632           394345 /lib/x86_64-linux-gnu/ld-2.23.so\r\nZMQbg/1     6  21 jovyan  mem       REG                8,1    26258           395222 /usr/lib/x86_64-linux-gnu/gconv/gconv-modules.cache\r\nZMQbg/1     6  21 jovyan  mem       REG                8,1  1668976           656066 /usr/lib/locale/locale-archive\r\nZMQbg/1     6  21 jovyan    0r     FIFO               0,10      0t0           177821 pipe\r\nZMQbg/1     6  21 jovyan    1w     FIFO               0,10      0t0           177822 pipe\r\nZMQbg/1     6  21 jovyan    2w     FIFO               0,10      0t0           177823 pipe\r\nZMQbg/1     6  21 jovyan    3r      CHR                1,9      0t0           177867 /dev/urandom\r\nZMQbg/1     6  21 jovyan    4r      CHR                1,9      0t0           177867 /dev/urandom\r\nZMQbg/1     6  21 jovyan    5w      CHR                1,3      0t0           177862 /dev/null\r\nZMQbg/1     6  21 jovyan    6u     IPv4             184213      0t0              TCP *:8888 (LISTEN)\r\nZMQbg/1     6  21 jovyan    7u     IPv6             184214      0t0              TCP *:8888 (LISTEN)\r\nZMQbg/1     6  21 jovyan    8u  a_inode               0,11        0            11923 [eventpoll]\r\nZMQbg/1     6  21 jovyan    9u     unix 0x0000000000000000      0t0           184215 type=STREAM\r\nZMQbg/1     6  21 jovyan   10u     unix 0x0000000000000000      0t0           184216 type=STREAM\r\nZMQbg/1     6  21 jovyan   12u     IPv4             183213      0t0              TCP 1a17b746bd59:8888->172.17.0.1:53982 (ESTABLISHED)\r\nZMQbg/1     6  21 jovyan   17u      REG                8,1    16384           262654 /home/jovyan/.local/share/jupyter/nbsignatures.db\r\nZMQbg/1     6  21 jovyan   18u  a_inode               0,11        0            11923 [eventfd]\r\nZMQbg/1     6  21 jovyan   19r      CHR                1,9      0t0           177867 /dev/urandom\r\nZMQbg/1     6  21 jovyan   20u  a_inode               0,11        0            11923 [eventfd]\r\nZMQbg/1     6  21 jovyan   21u  a_inode               0,11        0            11923 [eventpoll]\r\nZMQbg/1     6  21 jovyan   22u  a_inode               0,11        0            11923 [eventfd]\r\nZMQbg/1     6  21 jovyan   23u  a_inode               0,11        0            11923 [eventpoll]\r\nZMQbg/1     6  21 jovyan   24u  a_inode               0,11        0            11923 [eventfd]\r\nZMQbg/1     6  21 jovyan   25u  a_inode               0,11        0            11923 [eventfd]\r\nZMQbg/1     6  21 jovyan   26u     IPv4             184694      0t0              TCP localhost:50562->localhost:39407 (ESTABLISHED)\r\nZMQbg/1     6  21 jovyan   27u     IPv4             184695      0t0              TCP localhost:40336->localhost:33055 (ESTABLISHED)\r\nZMQbg/1     6  21 jovyan   28u     IPv4             184743      0t0              TCP 1a17b746bd59:8888->172.17.0.1:53936 (ESTABLISHED)\r\nZMQbg/1     6  21 jovyan   29u     IPv4             183149      0t0              TCP localhost:35854->localhost:54603 (ESTABLISHED)\r\nZMQbg/1     6  21 jovyan   30u  a_inode               0,11        0            11923 [eventfd]\r\nZMQbg/1     6  21 jovyan   31u  a_inode               0,11        0            11923 [eventfd]\r\nZMQbg/1     6  21 jovyan   32u     IPv4             183151      0t0              TCP localhost:50580->localhost:39407 (ESTABLISHED)\r\nZMQbg/1     6  21 jovyan   33u  a_inode               0,11        0            11923 [eventfd]\r\nZMQbg/1     6  21 jovyan   34u     IPv4             183153      0t0              TCP localhost:36396->localhost:37155 (ESTABLISHED)\r\nZMQbg/1     6  21 jovyan   35u  a_inode               0,11        0            11923 [eventfd]\r\nZMQbg/1     6  21 jovyan   36u  a_inode               0,11        0            11923 [eventfd]\r\nZMQbg/1     6  21 jovyan   37u     IPv4             184821      0t0              TCP localhost:49172->localhost:50275 (ESTABLISHED)\r\nZMQbg/1     6  21 jovyan   38u     IPv4             184822      0t0              TCP localhost:57652->localhost:43441 (ESTABLISHED)\r\nZMQbg/1     6  21 jovyan   40u  a_inode               0,11        0            11923 [eventfd]\r\nZMQbg/1     6  21 jovyan   41u     IPv4             183204      0t0              TCP localhost:55780->localhost:56409 (ESTABLISHED)\r\nZMQbg/1     6  21 jovyan   42u  a_inode               0,11        0            11923 [eventfd]\r\nZMQbg/1     6  21 jovyan   43u     IPv4             183206      0t0              TCP localhost:49190->localhost:50275 (ESTABLISHED)\r\nZMQbg/1     6  21 jovyan   44u  a_inode               0,11        0            11923 [eventfd]\r\nZMQbg/1     6  21 jovyan   45u     IPv4             183208      0t0              TCP localhost:49246->localhost:37411 (ESTABLISHED)\r\npython     19     jovyan  cwd       DIR               0,61     4096 9570149208167180 /home/jovyan/openforum2018\r\npython     19     jovyan  rtd       DIR               0,59     4096           181289 /\r\npython     19     jovyan  txt       REG                8,1    14857           529056 /opt/conda/bin/python3.6\r\npython     19     jovyan  mem       REG                8,1    47600           394414 /lib/x86_64-linux-gnu/libnss_files-2.23.so\r\npython     19     jovyan  mem       REG                8,1    47648           394418 /lib/x86_64-linux-gnu/libnss_nis-2.23.so\r\npython     19     jovyan  mem       REG                8,1    93128           394408 /lib/x86_64-linux-gnu/libnsl-2.23.so\r\npython     19     jovyan  mem       REG                8,1    35688           394410 /lib/x86_64-linux-gnu/libnss_compat-2.23.so\r\npython     19     jovyan  mem       REG                8,1  1686154           530853 /opt/conda/lib/python3.6/lib-dynload/_decimal.cpython-36m-x86_64-linux-gnu.so\r\npython     19     jovyan  mem       REG                8,1   375919           530873 /opt/conda/lib/python3.6/lib-dynload/_ssl.cpython-36m-x86_64-linux-gnu.so\r\npython     19     jovyan  mem       REG                8,1   194106           530836 /opt/conda/lib/python3.6/lib-dynload/_asyncio.cpython-36m-x86_64-linux-gnu.so\r\npython     19     jovyan  mem       REG                8,1    48787           530862 /opt/conda/lib/python3.6/lib-dynload/_multiprocessing.cpython-36m-x86_64-linux-gnu.so\r\npython     19     jovyan  mem       REG                8,1   316595           530850 /opt/conda/lib/python3.6/lib-dynload/_curses.cpython-36m-x86_64-linux-gnu.so\r\npython     19     jovyan  mem       REG                8,1    17873          1708597 /opt/conda/lib/python3.6/site-packages/tornado/speedups.cpython-36m-x86_64-linux-gnu.so\r\npython     19     jovyan  mem       REG                8,1    18976           394463 /lib/x86_64-linux-gnu/libuuid.so.1.3.0\r\npython     19     jovyan  mem       REG                8,1   228724          2230844 /opt/conda/lib/python3.6/site-packages/zmq/backend/cython/_device.cpython-36m-x86_64-linux-gnu.so\r\npython     19     jovyan  mem       REG                8,1    98032          2230846 /opt/conda/lib/python3.6/site-packages/zmq/backend/cython/_version.cpython-36m-x86_64-linux-gnu.so\r\npython     19     jovyan  mem       REG                8,1   327947          2230845 /opt/conda/lib/python3.6/site-packages/zmq/backend/cython/_poll.cpython-36m-x86_64-linux-gnu.so\r\npython     19     jovyan  mem       REG                8,1   149930          2230859 /opt/conda/lib/python3.6/site-packages/zmq/backend/cython/utils.cpython-36m-x86_64-linux-gnu.so\r\npython     19     jovyan  mem       REG                8,1   730559          2230857 /opt/conda/lib/python3.6/site-packages/zmq/backend/cython/socket.cpython-36m-x86_64-linux-gnu.so\r\npython     19     jovyan  mem       REG                8,1   311141          2230851 /opt/conda/lib/python3.6/site-packages/zmq/backend/cython/context.cpython-36m-x86_64-linux-gnu.so\r\npython     19     jovyan  mem       REG                8,1   452817          2230855 /opt/conda/lib/python3.6/site-packages/zmq/backend/cython/message.cpython-36m-x86_64-linux-gnu.so\r\npython     19     jovyan  mem       REG                8,1   115893          2230853 /opt/conda/lib/python3.6/site-packages/zmq/backend/cython/error.cpython-36m-x86_64-linux-gnu.so\r\npython     19     jovyan  mem       REG                8,1   706232           529510 /opt/conda/lib/libgcc_s.so.1\r\npython     19     jovyan  mem       REG                8,1  8167184           529575 /opt/conda/lib/libstdc++.so.6.0.24\r\npython     19     jovyan  mem       REG                8,1  1289027           661987 /opt/conda/lib/libzmq.so.5.1.5\r\npython     19     jovyan  mem       REG                8,1   228614          2230849 /opt/conda/lib/python3.6/site-packages/zmq/backend/cython/constants.cpython-36m-x86_64-linux-gnu.so\r\npython     19     jovyan  mem       REG                8,1   617309           530848 /opt/conda/lib/python3.6/lib-dynload/_ctypes.cpython-36m-x86_64-linux-gnu.so\r\npython     19     jovyan  mem       REG                8,1    64549           530858 /opt/conda/lib/python3.6/lib-dynload/_lsprof.cpython-36m-x86_64-linux-gnu.so\r\npython     19     jovyan  mem       REG                8,1   339757           530871 /opt/conda/lib/python3.6/lib-dynload/_socket.cpython-36m-x86_64-linux-gnu.so\r\npython     19     jovyan  mem       REG                8,1   963624           530898 /opt/conda/lib/python3.6/lib-dynload/unicodedata.cpython-36m-x86_64-linux-gnu.so\r\npython     19     jovyan  mem       REG                8,1   187746           530880 /opt/conda/lib/python3.6/lib-dynload/array.cpython-36m-x86_64-linux-gnu.so\r\npython     19     jovyan  mem       REG                8,1   249585           529581 /opt/conda/lib/libtinfo.so.5.9\r\npython     19     jovyan  mem       REG                8,1   176142           529542 /opt/conda/lib/libncurses.so.5.9\r\npython     19     jovyan  mem       REG                8,1  1165114           529569 /opt/conda/lib/libsqlite3.so.0.8.6\r\npython     19     jovyan  mem       REG                8,1   295030           530872 /opt/conda/lib/python3.6/lib-dynload/_sqlite3.cpython-36m-x86_64-linux-gnu.so\r\npython     19     jovyan  mem       REG                8,1   433613           530864 /opt/conda/lib/python3.6/lib-dynload/_pickle.cpython-36m-x86_64-linux-gnu.so\r\npython     19     jovyan  mem       REG                8,1   470165           530852 /opt/conda/lib/python3.6/lib-dynload/_datetime.cpython-36m-x86_64-linux-gnu.so\r\npython     19     jovyan  mem       REG                8,1    78638           530882 /opt/conda/lib/python3.6/lib-dynload/binascii.cpython-36m-x86_64-linux-gnu.so\r\npython     19     jovyan  mem       REG                8,1    32268           530893 /opt/conda/lib/python3.6/lib-dynload/resource.cpython-36m-x86_64-linux-gnu.so\r\npython     19     jovyan  mem       REG                8,1    41463           530884 /opt/conda/lib/python3.6/lib-dynload/fcntl.cpython-36m-x86_64-linux-gnu.so\r\npython     19     jovyan  mem       REG                8,1    46964           530897 /opt/conda/lib/python3.6/lib-dynload/termios.cpython-36m-x86_64-linux-gnu.so\r\npython     19     jovyan  mem       REG                8,1    37999           530866 /opt/conda/lib/python3.6/lib-dynload/_random.cpython-36m-x86_64-linux-gnu.so\r\npython     19     jovyan  mem       REG                8,1    33663           530837 /opt/conda/lib/python3.6/lib-dynload/_bisect.cpython-36m-x86_64-linux-gnu.so\r\npython     19     jovyan  mem       REG                8,1   355122           530869 /opt/conda/lib/python3.6/lib-dynload/_sha3.cpython-36m-x86_64-linux-gnu.so\r\npython     19     jovyan  mem       REG                8,1   329909           530838 /opt/conda/lib/python3.6/lib-dynload/_blake2.cpython-36m-x86_64-linux-gnu.so\r\npython     19     jovyan  mem       REG                8,1  2692340           529490 /opt/conda/lib/libcrypto.so.1.0.0\r\npython     19     jovyan  mem       REG                8,1   549929           529572 /opt/conda/lib/libssl.so.1.0.0\r\npython     19     jovyan  mem       REG                8,1    92355           530855 /opt/conda/lib/python3.6/lib-dynload/_hashlib.cpython-36m-x86_64-linux-gnu.so\r\npython     19     jovyan  mem       REG                8,1   159628           530874 /opt/conda/lib/python3.6/lib-dynload/_struct.cpython-36m-x86_64-linux-gnu.so\r\npython     19     jovyan  mem       REG                8,1    20447           530863 /opt/conda/lib/python3.6/lib-dynload/_opcode.cpython-36m-x86_64-linux-gnu.so\r\npython     19     jovyan  mem       REG                8,1    35500           530885 /opt/conda/lib/python3.6/lib-dynload/grp.cpython-36m-x86_64-linux-gnu.so\r\npython     19     jovyan  mem       REG                8,1   803563           529528 /opt/conda/lib/liblzma.so.5.2.3\r\npython     19     jovyan  mem       REG                8,1   117498           530859 /opt/conda/lib/python3.6/lib-dynload/_lzma.cpython-36m-x86_64-linux-gnu.so\r\npython     19     jovyan  mem       REG                8,1   269237           530839 /opt/conda/lib/python3.6/lib-dynload/_bz2.cpython-36m-x86_64-linux-gnu.so\r\npython     19     jovyan  mem       REG                8,1   127973           529602 /opt/conda/lib/libz.so.1.2.11\r\npython     19     jovyan  mem       REG                8,1   116664           530900 /opt/conda/lib/python3.6/lib-dynload/zlib.cpython-36m-x86_64-linux-gnu.so\r\npython     19     jovyan  mem       REG                8,1   210293           530886 /opt/conda/lib/python3.6/lib-dynload/math.cpython-36m-x86_64-linux-gnu.so\r\npython     19     jovyan  mem       REG                8,1    79124           530894 /opt/conda/lib/python3.6/lib-dynload/select.cpython-36m-x86_64-linux-gnu.so\r\npython     19     jovyan  mem       REG                8,1    85443           530865 /opt/conda/lib/python3.6/lib-dynload/_posixsubprocess.cpython-36m-x86_64-linux-gnu.so\r\npython     19     jovyan  mem       REG                8,1   164929           530857 /opt/conda/lib/python3.6/lib-dynload/_json.cpython-36m-x86_64-linux-gnu.so\r\npython     19     jovyan  mem       REG                8,1    47058           530856 /opt/conda/lib/python3.6/lib-dynload/_heapq.cpython-36m-x86_64-linux-gnu.so\r\npython     19     jovyan  mem       REG                8,1  1868984           394365 /lib/x86_64-linux-gnu/libc-2.23.so\r\npython     19     jovyan  mem       REG                8,1  1088952           394397 /lib/x86_64-linux-gnu/libm-2.23.so\r\npython     19     jovyan  mem       REG                8,1    31712           394440 /lib/x86_64-linux-gnu/librt-2.23.so\r\npython     19     jovyan  mem       REG                8,1    10656           394460 /lib/x86_64-linux-gnu/libutil-2.23.so\r\npython     19     jovyan  mem       REG                8,1    14608           394378 /lib/x86_64-linux-gnu/libdl-2.23.so\r\npython     19     jovyan  mem       REG                8,1   138696           394433 /lib/x86_64-linux-gnu/libpthread-2.23.so\r\npython     19     jovyan  mem       REG                8,1 12444567           529556 /opt/conda/lib/libpython3.6m.so.1.0\r\npython     19     jovyan  mem       REG                8,1   162632           394345 /lib/x86_64-linux-gnu/ld-2.23.so\r\npython     19     jovyan  mem       REG                8,1    26258           395222 /usr/lib/x86_64-linux-gnu/gconv/gconv-modules.cache\r\npython     19     jovyan  mem       REG                8,1  1668976           656066 /usr/lib/locale/locale-archive\r\npython     19     jovyan    0r     FIFO               0,10      0t0           183037 pipe\r\npython     19     jovyan    1w     FIFO               0,10      0t0           177822 pipe\r\npython     19     jovyan    2w     FIFO               0,10      0t0           177823 pipe\r\npython     19     jovyan    3r      CHR                1,9      0t0           177867 /dev/urandom\r\npython     19     jovyan    4w      CHR                1,3      0t0           177862 /dev/null\r\npython     19     jovyan    5u  a_inode               0,11        0            11923 [eventfd]\r\npython     19     jovyan    6r      CHR                1,9      0t0           177867 /dev/urandom\r\npython     19     jovyan    7u  a_inode               0,11        0            11923 [eventfd]\r\npython     19     jovyan    8u  a_inode               0,11        0            11923 [eventpoll]\r\npython     19     jovyan    9u  a_inode               0,11        0            11923 [eventfd]\r\npython     19     jovyan   10u  a_inode               0,11        0            11923 [eventpoll]\r\npython     19     jovyan   11u  a_inode               0,11        0            11923 [eventfd]\r\npython     19     jovyan   12u     IPv4             183100      0t0              TCP localhost:54603 (LISTEN)\r\npython     19     jovyan   13u  a_inode               0,11        0            11923 [eventfd]\r\npython     19     jovyan   14u     IPv4             183102      0t0              TCP localhost:37155 (LISTEN)\r\npython     19     jovyan   15u  a_inode               0,11        0            11923 [eventfd]\r\npython     19     jovyan   16u     IPv4             183104      0t0              TCP localhost:33055 (LISTEN)\r\npython     19     jovyan   17u  a_inode               0,11        0            11923 [eventfd]\r\npython     19     jovyan   18u     IPv4             183106      0t0              TCP localhost:39407 (LISTEN)\r\npython     19     jovyan   19u  a_inode               0,11        0            11923 [eventpoll]\r\npython     19     jovyan   20u     unix 0x0000000000000000      0t0           183107 type=STREAM\r\npython     19     jovyan   21u     unix 0x0000000000000000      0t0           183108 type=STREAM\r\npython     19     jovyan   22u  a_inode               0,11        0            11923 [eventfd]\r\npython     19     jovyan   23u     IPv4             183110      0t0              TCP localhost:43393 (LISTEN)\r\npython     19     jovyan   24u  a_inode               0,11        0            11923 [eventfd]\r\npython     19     jovyan   25u  a_inode               0,11        0            11923 [eventfd]\r\npython     19     jovyan   26u  a_inode               0,11        0            11923 [eventfd]\r\npython     19     jovyan   27u  a_inode               0,11        0            11923 [eventpoll]\r\npython     19     jovyan   28u  a_inode               0,11        0            11923 [eventfd]\r\npython     19     jovyan   29u  a_inode               0,11        0            11923 [eventpoll]\r\npython     19     jovyan   30u  a_inode               0,11        0            11923 [eventfd]\r\npython     19     jovyan   31u     IPv4             184683      0t0              TCP localhost:51695 (LISTEN)\r\npython     19     jovyan   32u  a_inode               0,11        0            11923 [eventpoll]\r\npython     19     jovyan   33u     unix 0x0000000000000000      0t0           184684 type=STREAM\r\npython     19     jovyan   34u     unix 0x0000000000000000      0t0           184685 type=STREAM\r\npython     19     jovyan   35u      REG                8,1    28672           262667 /home/jovyan/.ipython/profile_default/history.sqlite\r\npython     19     jovyan   36u      REG                8,1    28672           262667 /home/jovyan/.ipython/profile_default/history.sqlite\r\npython     19     jovyan   37u     IPv4             183114      0t0              TCP localhost:39407->localhost:50562 (ESTABLISHED)\r\npython     19     jovyan   38u     IPv4             183115      0t0              TCP localhost:33055->localhost:40336 (ESTABLISHED)\r\npython     19     jovyan   39u  a_inode               0,11        0            11923 [eventfd]\r\npython     19     jovyan   40u     IPv4             183150      0t0              TCP localhost:54603->localhost:35854 (ESTABLISHED)\r\npython     19     jovyan   41u     IPv4             183152      0t0              TCP localhost:39407->localhost:50580 (ESTABLISHED)\r\npython     19     jovyan   42u     IPv4             183154      0t0              TCP localhost:37155->localhost:36396 (ESTABLISHED)\r\npython     19     jovyan   43u  a_inode               0,11        0            11923 [eventfd]\r\npython     19     jovyan   47u      CHR                5,2      0t0                2 /dev/pts/ptmx\r\nZMQbg/0    19  26 jovyan  cwd       DIR               0,61     4096 9570149208167180 /home/jovyan/openforum2018\r\nZMQbg/0    19  26 jovyan  rtd       DIR               0,59     4096           181289 /\r\nZMQbg/0    19  26 jovyan  txt       REG                8,1    14857           529056 /opt/conda/bin/python3.6\r\nZMQbg/0    19  26 jovyan  mem       REG                8,1    47600           394414 /lib/x86_64-linux-gnu/libnss_files-2.23.so\r\nZMQbg/0    19  26 jovyan  mem       REG                8,1    47648           394418 /lib/x86_64-linux-gnu/libnss_nis-2.23.so\r\nZMQbg/0    19  26 jovyan  mem       REG                8,1    93128           394408 /lib/x86_64-linux-gnu/libnsl-2.23.so\r\nZMQbg/0    19  26 jovyan  mem       REG                8,1    35688           394410 /lib/x86_64-linux-gnu/libnss_compat-2.23.so\r\nZMQbg/0    19  26 jovyan  mem       REG                8,1  1686154           530853 /opt/conda/lib/python3.6/lib-dynload/_decimal.cpython-36m-x86_64-linux-gnu.so\r\nZMQbg/0    19  26 jovyan  mem       REG                8,1   375919           530873 /opt/conda/lib/python3.6/lib-dynload/_ssl.cpython-36m-x86_64-linux-gnu.so\r\nZMQbg/0    19  26 jovyan  mem       REG                8,1   194106           530836 /opt/conda/lib/python3.6/lib-dynload/_asyncio.cpython-36m-x86_64-linux-gnu.so\r\nZMQbg/0    19  26 jovyan  mem       REG                8,1    48787           530862 /opt/conda/lib/python3.6/lib-dynload/_multiprocessing.cpython-36m-x86_64-linux-gnu.so\r\nZMQbg/0    19  26 jovyan  mem       REG                8,1   316595           530850 /opt/conda/lib/python3.6/lib-dynload/_curses.cpython-36m-x86_64-linux-gnu.so\r\nZMQbg/0    19  26 jovyan  mem       REG                8,1    17873          1708597 /opt/conda/lib/python3.6/site-packages/tornado/speedups.cpython-36m-x86_64-linux-gnu.so\r\nZMQbg/0    19  26 jovyan  mem       REG                8,1    18976           394463 /lib/x86_64-linux-gnu/libuuid.so.1.3.0\r\nZMQbg/0    19  26 jovyan  mem       REG                8,1   228724          2230844 /opt/conda/lib/python3.6/site-packages/zmq/backend/cython/_device.cpython-36m-x86_64-linux-gnu.so\r\nZMQbg/0    19  26 jovyan  mem       REG                8,1    98032          2230846 /opt/conda/lib/python3.6/site-packages/zmq/backend/cython/_version.cpython-36m-x86_64-linux-gnu.so\r\nZMQbg/0    19  26 jovyan  mem       REG                8,1   327947          2230845 /opt/conda/lib/python3.6/site-packages/zmq/backend/cython/_poll.cpython-36m-x86_64-linux-gnu.so\r\nZMQbg/0    19  26 jovyan  mem       REG                8,1   149930          2230859 /opt/conda/lib/python3.6/site-packages/zmq/backend/cython/utils.cpython-36m-x86_64-linux-gnu.so\r\nZMQbg/0    19  26 jovyan  mem       REG                8,1   730559          2230857 /opt/conda/lib/python3.6/site-packages/zmq/backend/cython/socket.cpython-36m-x86_64-linux-gnu.so\r\nZMQbg/0    19  26 jovyan  mem       REG                8,1   311141          2230851 /opt/conda/lib/python3.6/site-packages/zmq/backend/cython/context.cpython-36m-x86_64-linux-gnu.so\r\nZMQbg/0    19  26 jovyan  mem       REG                8,1   452817          2230855 /opt/conda/lib/python3.6/site-packages/zmq/backend/cython/message.cpython-36m-x86_64-linux-gnu.so\r\nZMQbg/0    19  26 jovyan  mem       REG                8,1   115893          2230853 /opt/conda/lib/python3.6/site-packages/zmq/backend/cython/error.cpython-36m-x86_64-linux-gnu.so\r\nZMQbg/0    19  26 jovyan  mem       REG                8,1   706232           529510 /opt/conda/lib/libgcc_s.so.1\r\nZMQbg/0    19  26 jovyan  mem       REG                8,1  8167184           529575 /opt/conda/lib/libstdc++.so.6.0.24\r\nZMQbg/0    19  26 jovyan  mem       REG                8,1  1289027           661987 /opt/conda/lib/libzmq.so.5.1.5\r\nZMQbg/0    19  26 jovyan  mem       REG                8,1   228614          2230849 /opt/conda/lib/python3.6/site-packages/zmq/backend/cython/constants.cpython-36m-x86_64-linux-gnu.so\r\nZMQbg/0    19  26 jovyan  mem       REG                8,1   617309           530848 /opt/conda/lib/python3.6/lib-dynload/_ctypes.cpython-36m-x86_64-linux-gnu.so\r\nZMQbg/0    19  26 jovyan  mem       REG                8,1    64549           530858 /opt/conda/lib/python3.6/lib-dynload/_lsprof.cpython-36m-x86_64-linux-gnu.so\r\nZMQbg/0    19  26 jovyan  mem       REG                8,1   339757           530871 /opt/conda/lib/python3.6/lib-dynload/_socket.cpython-36m-x86_64-linux-gnu.so\r\nZMQbg/0    19  26 jovyan  mem       REG                8,1   963624           530898 /opt/conda/lib/python3.6/lib-dynload/unicodedata.cpython-36m-x86_64-linux-gnu.so\r\nZMQbg/0    19  26 jovyan  mem       REG                8,1   187746           530880 /opt/conda/lib/python3.6/lib-dynload/array.cpython-36m-x86_64-linux-gnu.so\r\nZMQbg/0    19  26 jovyan  mem       REG                8,1   249585           529581 /opt/conda/lib/libtinfo.so.5.9\r\nZMQbg/0    19  26 jovyan  mem       REG                8,1   176142           529542 /opt/conda/lib/libncurses.so.5.9\r\nZMQbg/0    19  26 jovyan  mem       REG                8,1  1165114           529569 /opt/conda/lib/libsqlite3.so.0.8.6\r\nZMQbg/0    19  26 jovyan  mem       REG                8,1   295030           530872 /opt/conda/lib/python3.6/lib-dynload/_sqlite3.cpython-36m-x86_64-linux-gnu.so\r\nZMQbg/0    19  26 jovyan  mem       REG                8,1   433613           530864 /opt/conda/lib/python3.6/lib-dynload/_pickle.cpython-36m-x86_64-linux-gnu.so\r\nZMQbg/0    19  26 jovyan  mem       REG                8,1   470165           530852 /opt/conda/lib/python3.6/lib-dynload/_datetime.cpython-36m-x86_64-linux-gnu.so\r\nZMQbg/0    19  26 jovyan  mem       REG                8,1    78638           530882 /opt/conda/lib/python3.6/lib-dynload/binascii.cpython-36m-x86_64-linux-gnu.so\r\nZMQbg/0    19  26 jovyan  mem       REG                8,1    32268           530893 /opt/conda/lib/python3.6/lib-dynload/resource.cpython-36m-x86_64-linux-gnu.so\r\nZMQbg/0    19  26 jovyan  mem       REG                8,1    41463           530884 /opt/conda/lib/python3.6/lib-dynload/fcntl.cpython-36m-x86_64-linux-gnu.so\r\nZMQbg/0    19  26 jovyan  mem       REG                8,1    46964           530897 /opt/conda/lib/python3.6/lib-dynload/termios.cpython-36m-x86_64-linux-gnu.so\r\nZMQbg/0    19  26 jovyan  mem       REG                8,1    37999           530866 /opt/conda/lib/python3.6/lib-dynload/_random.cpython-36m-x86_64-linux-gnu.so\r\nZMQbg/0    19  26 jovyan  mem       REG                8,1    33663           530837 /opt/conda/lib/python3.6/lib-dynload/_bisect.cpython-36m-x86_64-linux-gnu.so\r\nZMQbg/0    19  26 jovyan  mem       REG                8,1   355122           530869 /opt/conda/lib/python3.6/lib-dynload/_sha3.cpython-36m-x86_64-linux-gnu.so\r\nZMQbg/0    19  26 jovyan  mem       REG                8,1   329909           530838 /opt/conda/lib/python3.6/lib-dynload/_blake2.cpython-36m-x86_64-linux-gnu.so\r\nZMQbg/0    19  26 jovyan  mem       REG                8,1  2692340           529490 /opt/conda/lib/libcrypto.so.1.0.0\r\nZMQbg/0    19  26 jovyan  mem       REG                8,1   549929           529572 /opt/conda/lib/libssl.so.1.0.0\r\nZMQbg/0    19  26 jovyan  mem       REG                8,1    92355           530855 /opt/conda/lib/python3.6/lib-dynload/_hashlib.cpython-36m-x86_64-linux-gnu.so\r\nZMQbg/0    19  26 jovyan  mem       REG                8,1   159628           530874 /opt/conda/lib/python3.6/lib-dynload/_struct.cpython-36m-x86_64-linux-gnu.so\r\nZMQbg/0    19  26 jovyan  mem       REG                8,1    20447           530863 /opt/conda/lib/python3.6/lib-dynload/_opcode.cpython-36m-x86_64-linux-gnu.so\r\nZMQbg/0    19  26 jovyan  mem       REG                8,1    35500           530885 /opt/conda/lib/python3.6/lib-dynload/grp.cpython-36m-x86_64-linux-gnu.so\r\nZMQbg/0    19  26 jovyan  mem       REG                8,1   803563           529528 /opt/conda/lib/liblzma.so.5.2.3\r\nZMQbg/0    19  26 jovyan  mem       REG                8,1   117498           530859 /opt/conda/lib/python3.6/lib-dynload/_lzma.cpython-36m-x86_64-linux-gnu.so\r\nZMQbg/0    19  26 jovyan  mem       REG                8,1   269237           530839 /opt/conda/lib/python3.6/lib-dynload/_bz2.cpython-36m-x86_64-linux-gnu.so\r\nZMQbg/0    19  26 jovyan  mem       REG                8,1   127973           529602 /opt/conda/lib/libz.so.1.2.11\r\nZMQbg/0    19  26 jovyan  mem       REG                8,1   116664           530900 /opt/conda/lib/python3.6/lib-dynload/zlib.cpython-36m-x86_64-linux-gnu.so\r\nZMQbg/0    19  26 jovyan  mem       REG                8,1   210293           530886 /opt/conda/lib/python3.6/lib-dynload/math.cpython-36m-x86_64-linux-gnu.so\r\nZMQbg/0    19  26 jovyan  mem       REG                8,1    79124           530894 /opt/conda/lib/python3.6/lib-dynload/select.cpython-36m-x86_64-linux-gnu.so\r\nZMQbg/0    19  26 jovyan  mem       REG                8,1    85443           530865 /opt/conda/lib/python3.6/lib-dynload/_posixsubprocess.cpython-36m-x86_64-linux-gnu.so\r\nZMQbg/0    19  26 jovyan  mem       REG                8,1   164929           530857 /opt/conda/lib/python3.6/lib-dynload/_json.cpython-36m-x86_64-linux-gnu.so\r\nZMQbg/0    19  26 jovyan  mem       REG                8,1    47058           530856 /opt/conda/lib/python3.6/lib-dynload/_heapq.cpython-36m-x86_64-linux-gnu.so\r\nZMQbg/0    19  26 jovyan  mem       REG                8,1  1868984           394365 /lib/x86_64-linux-gnu/libc-2.23.so\r\nZMQbg/0    19  26 jovyan  mem       REG                8,1  1088952           394397 /lib/x86_64-linux-gnu/libm-2.23.so\r\nZMQbg/0    19  26 jovyan  mem       REG                8,1    31712           394440 /lib/x86_64-linux-gnu/librt-2.23.so\r\nZMQbg/0    19  26 jovyan  mem       REG                8,1    10656           394460 /lib/x86_64-linux-gnu/libutil-2.23.so\r\nZMQbg/0    19  26 jovyan  mem       REG                8,1    14608           394378 /lib/x86_64-linux-gnu/libdl-2.23.so\r\nZMQbg/0    19  26 jovyan  mem       REG                8,1   138696           394433 /lib/x86_64-linux-gnu/libpthread-2.23.so\r\nZMQbg/0    19  26 jovyan  mem       REG                8,1 12444567           529556 /opt/conda/lib/libpython3.6m.so.1.0\r\nZMQbg/0    19  26 jovyan  mem       REG                8,1   162632           394345 /lib/x86_64-linux-gnu/ld-2.23.so\r\nZMQbg/0    19  26 jovyan  mem       REG                8,1    26258           395222 /usr/lib/x86_64-linux-gnu/gconv/gconv-modules.cache\r\nZMQbg/0    19  26 jovyan  mem       REG                8,1  1668976           656066 /usr/lib/locale/locale-archive\r\nZMQbg/0    19  26 jovyan    0r     FIFO               0,10      0t0           183037 pipe\r\nZMQbg/0    19  26 jovyan    1w     FIFO               0,10      0t0           177822 pipe\r\nZMQbg/0    19  26 jovyan    2w     FIFO               0,10      0t0           177823 pipe\r\nZMQbg/0    19  26 jovyan    3r      CHR                1,9      0t0           177867 /dev/urandom\r\nZMQbg/0    19  26 jovyan    4w      CHR                1,3      0t0           177862 /dev/null\r\nZMQbg/0    19  26 jovyan    5u  a_inode               0,11        0            11923 [eventfd]\r\nZMQbg/0    19  26 jovyan    6r      CHR                1,9      0t0           177867 /dev/urandom\r\nZMQbg/0    19  26 jovyan    7u  a_inode               0,11        0            11923 [eventfd]\r\nZMQbg/0    19  26 jovyan    8u  a_inode               0,11        0            11923 [eventpoll]\r\nZMQbg/0    19  26 jovyan    9u  a_inode               0,11        0            11923 [eventfd]\r\nZMQbg/0    19  26 jovyan   10u  a_inode               0,11        0            11923 [eventpoll]\r\nZMQbg/0    19  26 jovyan   11u  a_inode               0,11        0            11923 [eventfd]\r\nZMQbg/0    19  26 jovyan   12u     IPv4             183100      0t0              TCP localhost:54603 (LISTEN)\r\nZMQbg/0    19  26 jovyan   13u  a_inode               0,11        0            11923 [eventfd]\r\nZMQbg/0    19  26 jovyan   14u     IPv4             183102      0t0              TCP localhost:37155 (LISTEN)\r\nZMQbg/0    19  26 jovyan   15u  a_inode               0,11        0            11923 [eventfd]\r\nZMQbg/0    19  26 jovyan   16u     IPv4             183104      0t0              TCP localhost:33055 (LISTEN)\r\nZMQbg/0    19  26 jovyan   17u  a_inode               0,11        0            11923 [eventfd]\r\nZMQbg/0    19  26 jovyan   18u     IPv4             183106      0t0              TCP localhost:39407 (LISTEN)\r\nZMQbg/0    19  26 jovyan   19u  a_inode               0,11        0            11923 [eventpoll]\r\nZMQbg/0    19  26 jovyan   20u     unix 0x0000000000000000      0t0           183107 type=STREAM\r\nZMQbg/0    19  26 jovyan   21u     unix 0x0000000000000000      0t0           183108 type=STREAM\r\nZMQbg/0    19  26 jovyan   22u  a_inode               0,11        0            11923 [eventfd]\r\nZMQbg/0    19  26 jovyan   23u     IPv4             183110      0t0              TCP localhost:43393 (LISTEN)\r\nZMQbg/0    19  26 jovyan   24u  a_inode               0,11        0            11923 [eventfd]\r\nZMQbg/0    19  26 jovyan   25u  a_inode               0,11        0            11923 [eventfd]\r\nZMQbg/0    19  26 jovyan   26u  a_inode               0,11        0            11923 [eventfd]\r\nZMQbg/0    19  26 jovyan   27u  a_inode               0,11        0            11923 [eventpoll]\r\nZMQbg/0    19  26 jovyan   28u  a_inode               0,11        0            11923 [eventfd]\r\nZMQbg/0    19  26 jovyan   29u  a_inode               0,11        0            11923 [eventpoll]\r\nZMQbg/0    19  26 jovyan   30u  a_inode               0,11        0            11923 [eventfd]\r\nZMQbg/0    19  26 jovyan   31u     IPv4             184683      0t0              TCP localhost:51695 (LISTEN)\r\nZMQbg/0    19  26 jovyan   32u  a_inode               0,11        0            11923 [eventpoll]\r\nZMQbg/0    19  26 jovyan   33u     unix 0x0000000000000000      0t0           184684 type=STREAM\r\nZMQbg/0    19  26 jovyan   34u     unix 0x0000000000000000      0t0           184685 type=STREAM\r\nZMQbg/0    19  26 jovyan   35u      REG                8,1    28672           262667 /home/jovyan/.ipython/profile_default/history.sqlite\r\nZMQbg/0    19  26 jovyan   36u      REG                8,1    28672           262667 /home/jovyan/.ipython/profile_default/history.sqlite\r\nZMQbg/0    19  26 jovyan   37u     IPv4             183114      0t0              TCP localhost:39407->localhost:50562 (ESTABLISHED)\r\nZMQbg/0    19  26 jovyan   38u     IPv4             183115      0t0              TCP localhost:33055->localhost:40336 (ESTABLISHED)\r\nZMQbg/0    19  26 jovyan   39u  a_inode               0,11        0            11923 [eventfd]\r\nZMQbg/0    19  26 jovyan   40u     IPv4             183150      0t0              TCP localhost:54603->localhost:35854 (ESTABLISHED)\r\nZMQbg/0    19  26 jovyan   41u     IPv4             183152      0t0              TCP localhost:39407->localhost:50580 (ESTABLISHED)\r\nZMQbg/0    19  26 jovyan   42u     IPv4             183154      0t0              TCP localhost:37155->localhost:36396 (ESTABLISHED)\r\nZMQbg/0    19  26 jovyan   43u  a_inode               0,11        0            11923 [eventfd]\r\nZMQbg/0    19  26 jovyan   47u      CHR                5,2      0t0                2 /dev/pts/ptmx\r\nZMQbg/1    19  27 jovyan  cwd       DIR               0,61     4096 9570149208167180 /home/jovyan/openforum2018\r\nZMQbg/1    19  27 jovyan  rtd       DIR               0,59     4096           181289 /\r\nZMQbg/1    19  27 jovyan  txt       REG                8,1    14857           529056 /opt/conda/bin/python3.6\r\nZMQbg/1    19  27 jovyan  mem       REG                8,1    47600           394414 /lib/x86_64-linux-gnu/libnss_files-2.23.so\r\nZMQbg/1    19  27 jovyan  mem       REG                8,1    47648           394418 /lib/x86_64-linux-gnu/libnss_nis-2.23.so\r\nZMQbg/1    19  27 jovyan  mem       REG                8,1    93128           394408 /lib/x86_64-linux-gnu/libnsl-2.23.so\r\nZMQbg/1    19  27 jovyan  mem       REG                8,1    35688           394410 /lib/x86_64-linux-gnu/libnss_compat-2.23.so\r\nZMQbg/1    19  27 jovyan  mem       REG                8,1  1686154           530853 /opt/conda/lib/python3.6/lib-dynload/_decimal.cpython-36m-x86_64-linux-gnu.so\r\nZMQbg/1    19  27 jovyan  mem       REG                8,1   375919           530873 /opt/conda/lib/python3.6/lib-dynload/_ssl.cpython-36m-x86_64-linux-gnu.so\r\nZMQbg/1    19  27 jovyan  mem       REG                8,1   194106           530836 /opt/conda/lib/python3.6/lib-dynload/_asyncio.cpython-36m-x86_64-linux-gnu.so\r\nZMQbg/1    19  27 jovyan  mem       REG                8,1    48787           530862 /opt/conda/lib/python3.6/lib-dynload/_multiprocessing.cpython-36m-x86_64-linux-gnu.so\r\nZMQbg/1    19  27 jovyan  mem       REG                8,1   316595           530850 /opt/conda/lib/python3.6/lib-dynload/_curses.cpython-36m-x86_64-linux-gnu.so\r\nZMQbg/1    19  27 jovyan  mem       REG                8,1    17873          1708597 /opt/conda/lib/python3.6/site-packages/tornado/speedups.cpython-36m-x86_64-linux-gnu.so\r\nZMQbg/1    19  27 jovyan  mem       REG                8,1    18976           394463 /lib/x86_64-linux-gnu/libuuid.so.1.3.0\r\nZMQbg/1    19  27 jovyan  mem       REG                8,1   228724          2230844 /opt/conda/lib/python3.6/site-packages/zmq/backend/cython/_device.cpython-36m-x86_64-linux-gnu.so\r\nZMQbg/1    19  27 jovyan  mem       REG                8,1    98032          2230846 /opt/conda/lib/python3.6/site-packages/zmq/backend/cython/_version.cpython-36m-x86_64-linux-gnu.so\r\nZMQbg/1    19  27 jovyan  mem       REG                8,1   327947          2230845 /opt/conda/lib/python3.6/site-packages/zmq/backend/cython/_poll.cpython-36m-x86_64-linux-gnu.so\r\nZMQbg/1    19  27 jovyan  mem       REG                8,1   149930          2230859 /opt/conda/lib/python3.6/site-packages/zmq/backend/cython/utils.cpython-36m-x86_64-linux-gnu.so\r\nZMQbg/1    19  27 jovyan  mem       REG                8,1   730559          2230857 /opt/conda/lib/python3.6/site-packages/zmq/backend/cython/socket.cpython-36m-x86_64-linux-gnu.so\r\nZMQbg/1    19  27 jovyan  mem       REG                8,1   311141          2230851 /opt/conda/lib/python3.6/site-packages/zmq/backend/cython/context.cpython-36m-x86_64-linux-gnu.so\r\nZMQbg/1    19  27 jovyan  mem       REG                8,1   452817          2230855 /opt/conda/lib/python3.6/site-packages/zmq/backend/cython/message.cpython-36m-x86_64-linux-gnu.so\r\nZMQbg/1    19  27 jovyan  mem       REG                8,1   115893          2230853 /opt/conda/lib/python3.6/site-packages/zmq/backend/cython/error.cpython-36m-x86_64-linux-gnu.so\r\nZMQbg/1    19  27 jovyan  mem       REG                8,1   706232           529510 /opt/conda/lib/libgcc_s.so.1\r\nZMQbg/1    19  27 jovyan  mem       REG                8,1  8167184           529575 /opt/conda/lib/libstdc++.so.6.0.24\r\nZMQbg/1    19  27 jovyan  mem       REG                8,1  1289027           661987 /opt/conda/lib/libzmq.so.5.1.5\r\nZMQbg/1    19  27 jovyan  mem       REG                8,1   228614          2230849 /opt/conda/lib/python3.6/site-packages/zmq/backend/cython/constants.cpython-36m-x86_64-linux-gnu.so\r\nZMQbg/1    19  27 jovyan  mem       REG                8,1   617309           530848 /opt/conda/lib/python3.6/lib-dynload/_ctypes.cpython-36m-x86_64-linux-gnu.so\r\nZMQbg/1    19  27 jovyan  mem       REG                8,1    64549           530858 /opt/conda/lib/python3.6/lib-dynload/_lsprof.cpython-36m-x86_64-linux-gnu.so\r\nZMQbg/1    19  27 jovyan  mem       REG                8,1   339757           530871 /opt/conda/lib/python3.6/lib-dynload/_socket.cpython-36m-x86_64-linux-gnu.so\r\nZMQbg/1    19  27 jovyan  mem       REG                8,1   963624           530898 /opt/conda/lib/python3.6/lib-dynload/unicodedata.cpython-36m-x86_64-linux-gnu.so\r\nZMQbg/1    19  27 jovyan  mem       REG                8,1   187746           530880 /opt/conda/lib/python3.6/lib-dynload/array.cpython-36m-x86_64-linux-gnu.so\r\nZMQbg/1    19  27 jovyan  mem       REG                8,1   249585           529581 /opt/conda/lib/libtinfo.so.5.9\r\nZMQbg/1    19  27 jovyan  mem       REG                8,1   176142           529542 /opt/conda/lib/libncurses.so.5.9\r\nZMQbg/1    19  27 jovyan  mem       REG                8,1  1165114           529569 /opt/conda/lib/libsqlite3.so.0.8.6\r\nZMQbg/1    19  27 jovyan  mem       REG                8,1   295030           530872 /opt/conda/lib/python3.6/lib-dynload/_sqlite3.cpython-36m-x86_64-linux-gnu.so\r\nZMQbg/1    19  27 jovyan  mem       REG                8,1   433613           530864 /opt/conda/lib/python3.6/lib-dynload/_pickle.cpython-36m-x86_64-linux-gnu.so\r\nZMQbg/1    19  27 jovyan  mem       REG                8,1   470165           530852 /opt/conda/lib/python3.6/lib-dynload/_datetime.cpython-36m-x86_64-linux-gnu.so\r\nZMQbg/1    19  27 jovyan  mem       REG                8,1    78638           530882 /opt/conda/lib/python3.6/lib-dynload/binascii.cpython-36m-x86_64-linux-gnu.so\r\nZMQbg/1    19  27 jovyan  mem       REG                8,1    32268           530893 /opt/conda/lib/python3.6/lib-dynload/resource.cpython-36m-x86_64-linux-gnu.so\r\nZMQbg/1    19  27 jovyan  mem       REG                8,1    41463           530884 /opt/conda/lib/python3.6/lib-dynload/fcntl.cpython-36m-x86_64-linux-gnu.so\r\nZMQbg/1    19  27 jovyan  mem       REG                8,1    46964           530897 /opt/conda/lib/python3.6/lib-dynload/termios.cpython-36m-x86_64-linux-gnu.so\r\nZMQbg/1    19  27 jovyan  mem       REG                8,1    37999           530866 /opt/conda/lib/python3.6/lib-dynload/_random.cpython-36m-x86_64-linux-gnu.so\r\nZMQbg/1    19  27 jovyan  mem       REG                8,1    33663           530837 /opt/conda/lib/python3.6/lib-dynload/_bisect.cpython-36m-x86_64-linux-gnu.so\r\nZMQbg/1    19  27 jovyan  mem       REG                8,1   355122           530869 /opt/conda/lib/python3.6/lib-dynload/_sha3.cpython-36m-x86_64-linux-gnu.so\r\nZMQbg/1    19  27 jovyan  mem       REG                8,1   329909           530838 /opt/conda/lib/python3.6/lib-dynload/_blake2.cpython-36m-x86_64-linux-gnu.so\r\nZMQbg/1    19  27 jovyan  mem       REG                8,1  2692340           529490 /opt/conda/lib/libcrypto.so.1.0.0\r\nZMQbg/1    19  27 jovyan  mem       REG                8,1   549929           529572 /opt/conda/lib/libssl.so.1.0.0\r\nZMQbg/1    19  27 jovyan  mem       REG                8,1    92355           530855 /opt/conda/lib/python3.6/lib-dynload/_hashlib.cpython-36m-x86_64-linux-gnu.so\r\nZMQbg/1    19  27 jovyan  mem       REG                8,1   159628           530874 /opt/conda/lib/python3.6/lib-dynload/_struct.cpython-36m-x86_64-linux-gnu.so\r\nZMQbg/1    19  27 jovyan  mem       REG                8,1    20447           530863 /opt/conda/lib/python3.6/lib-dynload/_opcode.cpython-36m-x86_64-linux-gnu.so\r\nZMQbg/1    19  27 jovyan  mem       REG                8,1    35500           530885 /opt/conda/lib/python3.6/lib-dynload/grp.cpython-36m-x86_64-linux-gnu.so\r\nZMQbg/1    19  27 jovyan  mem       REG                8,1   803563           529528 /opt/conda/lib/liblzma.so.5.2.3\r\nZMQbg/1    19  27 jovyan  mem       REG                8,1   117498           530859 /opt/conda/lib/python3.6/lib-dynload/_lzma.cpython-36m-x86_64-linux-gnu.so\r\nZMQbg/1    19  27 jovyan  mem       REG                8,1   269237           530839 /opt/conda/lib/python3.6/lib-dynload/_bz2.cpython-36m-x86_64-linux-gnu.so\r\nZMQbg/1    19  27 jovyan  mem       REG                8,1   127973           529602 /opt/conda/lib/libz.so.1.2.11\r\nZMQbg/1    19  27 jovyan  mem       REG                8,1   116664           530900 /opt/conda/lib/python3.6/lib-dynload/zlib.cpython-36m-x86_64-linux-gnu.so\r\nZMQbg/1    19  27 jovyan  mem       REG                8,1   210293           530886 /opt/conda/lib/python3.6/lib-dynload/math.cpython-36m-x86_64-linux-gnu.so\r\nZMQbg/1    19  27 jovyan  mem       REG                8,1    79124           530894 /opt/conda/lib/python3.6/lib-dynload/select.cpython-36m-x86_64-linux-gnu.so\r\nZMQbg/1    19  27 jovyan  mem       REG                8,1    85443           530865 /opt/conda/lib/python3.6/lib-dynload/_posixsubprocess.cpython-36m-x86_64-linux-gnu.so\r\nZMQbg/1    19  27 jovyan  mem       REG                8,1   164929           530857 /opt/conda/lib/python3.6/lib-dynload/_json.cpython-36m-x86_64-linux-gnu.so\r\nZMQbg/1    19  27 jovyan  mem       REG                8,1    47058           530856 /opt/conda/lib/python3.6/lib-dynload/_heapq.cpython-36m-x86_64-linux-gnu.so\r\nZMQbg/1    19  27 jovyan  mem       REG                8,1  1868984           394365 /lib/x86_64-linux-gnu/libc-2.23.so\r\nZMQbg/1    19  27 jovyan  mem       REG                8,1  1088952           394397 /lib/x86_64-linux-gnu/libm-2.23.so\r\nZMQbg/1    19  27 jovyan  mem       REG                8,1    31712           394440 /lib/x86_64-linux-gnu/librt-2.23.so\r\nZMQbg/1    19  27 jovyan  mem       REG                8,1    10656           394460 /lib/x86_64-linux-gnu/libutil-2.23.so\r\nZMQbg/1    19  27 jovyan  mem       REG                8,1    14608           394378 /lib/x86_64-linux-gnu/libdl-2.23.so\r\nZMQbg/1    19  27 jovyan  mem       REG                8,1   138696           394433 /lib/x86_64-linux-gnu/libpthread-2.23.so\r\nZMQbg/1    19  27 jovyan  mem       REG                8,1 12444567           529556 /opt/conda/lib/libpython3.6m.so.1.0\r\nZMQbg/1    19  27 jovyan  mem       REG                8,1   162632           394345 /lib/x86_64-linux-gnu/ld-2.23.so\r\nZMQbg/1    19  27 jovyan  mem       REG                8,1    26258           395222 /usr/lib/x86_64-linux-gnu/gconv/gconv-modules.cache\r\nZMQbg/1    19  27 jovyan  mem       REG                8,1  1668976           656066 /usr/lib/locale/locale-archive\r\nZMQbg/1    19  27 jovyan    0r     FIFO               0,10      0t0           183037 pipe\r\nZMQbg/1    19  27 jovyan    1w     FIFO               0,10      0t0           177822 pipe\r\nZMQbg/1    19  27 jovyan    2w     FIFO               0,10      0t0           177823 pipe\r\nZMQbg/1    19  27 jovyan    3r      CHR                1,9      0t0           177867 /dev/urandom\r\nZMQbg/1    19  27 jovyan    4w      CHR                1,3      0t0           177862 /dev/null\r\nZMQbg/1    19  27 jovyan    5u  a_inode               0,11        0            11923 [eventfd]\r\nZMQbg/1    19  27 jovyan    6r      CHR                1,9      0t0           177867 /dev/urandom\r\nZMQbg/1    19  27 jovyan    7u  a_inode               0,11        0            11923 [eventfd]\r\nZMQbg/1    19  27 jovyan    8u  a_inode               0,11        0            11923 [eventpoll]\r\nZMQbg/1    19  27 jovyan    9u  a_inode               0,11        0            11923 [eventfd]\r\nZMQbg/1    19  27 jovyan   10u  a_inode               0,11        0            11923 [eventpoll]\r\nZMQbg/1    19  27 jovyan   11u  a_inode               0,11        0            11923 [eventfd]\r\nZMQbg/1    19  27 jovyan   12u     IPv4             183100      0t0              TCP localhost:54603 (LISTEN)\r\nZMQbg/1    19  27 jovyan   13u  a_inode               0,11        0            11923 [eventfd]\r\nZMQbg/1    19  27 jovyan   14u     IPv4             183102      0t0              TCP localhost:37155 (LISTEN)\r\nZMQbg/1    19  27 jovyan   15u  a_inode               0,11        0            11923 [eventfd]\r\nZMQbg/1    19  27 jovyan   16u     IPv4             183104      0t0              TCP localhost:33055 (LISTEN)\r\nZMQbg/1    19  27 jovyan   17u  a_inode               0,11        0            11923 [eventfd]\r\nZMQbg/1    19  27 jovyan   18u     IPv4             183106      0t0              TCP localhost:39407 (LISTEN)\r\nZMQbg/1    19  27 jovyan   19u  a_inode               0,11        0            11923 [eventpoll]\r\nZMQbg/1    19  27 jovyan   20u     unix 0x0000000000000000      0t0           183107 type=STREAM\r\nZMQbg/1    19  27 jovyan   21u     unix 0x0000000000000000      0t0           183108 type=STREAM\r\nZMQbg/1    19  27 jovyan   22u  a_inode               0,11        0            11923 [eventfd]\r\nZMQbg/1    19  27 jovyan   23u     IPv4             183110      0t0              TCP localhost:43393 (LISTEN)\r\nZMQbg/1    19  27 jovyan   24u  a_inode               0,11        0            11923 [eventfd]\r\nZMQbg/1    19  27 jovyan   25u  a_inode               0,11        0            11923 [eventfd]\r\nZMQbg/1    19  27 jovyan   26u  a_inode               0,11        0            11923 [eventfd]\r\nZMQbg/1    19  27 jovyan   27u  a_inode               0,11        0            11923 [eventpoll]\r\nZMQbg/1    19  27 jovyan   28u  a_inode               0,11        0            11923 [eventfd]\r\nZMQbg/1    19  27 jovyan   29u  a_inode               0,11        0            11923 [eventpoll]\r\nZMQbg/1    19  27 jovyan   30u  a_inode               0,11        0            11923 [eventfd]\r\nZMQbg/1    19  27 jovyan   31u     IPv4             184683      0t0              TCP localhost:51695 (LISTEN)\r\nZMQbg/1    19  27 jovyan   32u  a_inode               0,11        0            11923 [eventpoll]\r\nZMQbg/1    19  27 jovyan   33u     unix 0x0000000000000000      0t0           184684 type=STREAM\r\nZMQbg/1    19  27 jovyan   34u     unix 0x0000000000000000      0t0           184685 type=STREAM\r\nZMQbg/1    19  27 jovyan   35u      REG                8,1    28672           262667 /home/jovyan/.ipython/profile_default/history.sqlite\r\nZMQbg/1    19  27 jovyan   36u      REG                8,1    28672           262667 /home/jovyan/.ipython/profile_default/history.sqlite\r\nZMQbg/1    19  27 jovyan   37u     IPv4             183114      0t0              TCP localhost:39407->localhost:50562 (ESTABLISHED)\r\nZMQbg/1    19  27 jovyan   38u     IPv4             183115      0t0              TCP localhost:33055->localhost:40336 (ESTABLISHED)\r\nZMQbg/1    19  27 jovyan   39u  a_inode               0,11        0            11923 [eventfd]\r\nZMQbg/1    19  27 jovyan   40u     IPv4             183150      0t0              TCP localhost:54603->localhost:35854 (ESTABLISHED)\r\nZMQbg/1    19  27 jovyan   41u     IPv4             183152      0t0              TCP localhost:39407->localhost:50580 (ESTABLISHED)\r\nZMQbg/1    19  27 jovyan   42u     IPv4             183154      0t0              TCP localhost:37155->localhost:36396 (ESTABLISHED)\r\nZMQbg/1    19  27 jovyan   43u  a_inode               0,11        0            11923 [eventfd]\r\nZMQbg/1    19  27 jovyan   47u      CHR                5,2      0t0                2 /dev/pts/ptmx\r\npython     19  28 jovyan  cwd       DIR               0,61     4096 9570149208167180 /home/jovyan/openforum2018\r\npython     19  28 jovyan  rtd       DIR               0,59     4096           181289 /\r\npython     19  28 jovyan  txt       REG                8,1    14857           529056 /opt/conda/bin/python3.6\r\npython     19  28 jovyan  mem       REG                8,1    47600           394414 /lib/x86_64-linux-gnu/libnss_files-2.23.so\r\npython     19  28 jovyan  mem       REG                8,1    47648           394418 /lib/x86_64-linux-gnu/libnss_nis-2.23.so\r\npython     19  28 jovyan  mem       REG                8,1    93128           394408 /lib/x86_64-linux-gnu/libnsl-2.23.so\r\npython     19  28 jovyan  mem       REG                8,1    35688           394410 /lib/x86_64-linux-gnu/libnss_compat-2.23.so\r\npython     19  28 jovyan  mem       REG                8,1  1686154           530853 /opt/conda/lib/python3.6/lib-dynload/_decimal.cpython-36m-x86_64-linux-gnu.so\r\npython     19  28 jovyan  mem       REG                8,1   375919           530873 /opt/conda/lib/python3.6/lib-dynload/_ssl.cpython-36m-x86_64-linux-gnu.so\r\npython     19  28 jovyan  mem       REG                8,1   194106           530836 /opt/conda/lib/python3.6/lib-dynload/_asyncio.cpython-36m-x86_64-linux-gnu.so\r\npython     19  28 jovyan  mem       REG                8,1    48787           530862 /opt/conda/lib/python3.6/lib-dynload/_multiprocessing.cpython-36m-x86_64-linux-gnu.so\r\npython     19  28 jovyan  mem       REG                8,1   316595           530850 /opt/conda/lib/python3.6/lib-dynload/_curses.cpython-36m-x86_64-linux-gnu.so\r\npython     19  28 jovyan  mem       REG                8,1    17873          1708597 /opt/conda/lib/python3.6/site-packages/tornado/speedups.cpython-36m-x86_64-linux-gnu.so\r\npython     19  28 jovyan  mem       REG                8,1    18976           394463 /lib/x86_64-linux-gnu/libuuid.so.1.3.0\r\npython     19  28 jovyan  mem       REG                8,1   228724          2230844 /opt/conda/lib/python3.6/site-packages/zmq/backend/cython/_device.cpython-36m-x86_64-linux-gnu.so\r\npython     19  28 jovyan  mem       REG                8,1    98032          2230846 /opt/conda/lib/python3.6/site-packages/zmq/backend/cython/_version.cpython-36m-x86_64-linux-gnu.so\r\npython     19  28 jovyan  mem       REG                8,1   327947          2230845 /opt/conda/lib/python3.6/site-packages/zmq/backend/cython/_poll.cpython-36m-x86_64-linux-gnu.so\r\npython     19  28 jovyan  mem       REG                8,1   149930          2230859 /opt/conda/lib/python3.6/site-packages/zmq/backend/cython/utils.cpython-36m-x86_64-linux-gnu.so\r\npython     19  28 jovyan  mem       REG                8,1   730559          2230857 /opt/conda/lib/python3.6/site-packages/zmq/backend/cython/socket.cpython-36m-x86_64-linux-gnu.so\r\npython     19  28 jovyan  mem       REG                8,1   311141          2230851 /opt/conda/lib/python3.6/site-packages/zmq/backend/cython/context.cpython-36m-x86_64-linux-gnu.so\r\npython     19  28 jovyan  mem       REG                8,1   452817          2230855 /opt/conda/lib/python3.6/site-packages/zmq/backend/cython/message.cpython-36m-x86_64-linux-gnu.so\r\npython     19  28 jovyan  mem       REG                8,1   115893          2230853 /opt/conda/lib/python3.6/site-packages/zmq/backend/cython/error.cpython-36m-x86_64-linux-gnu.so\r\npython     19  28 jovyan  mem       REG                8,1   706232           529510 /opt/conda/lib/libgcc_s.so.1\r\npython     19  28 jovyan  mem       REG                8,1  8167184           529575 /opt/conda/lib/libstdc++.so.6.0.24\r\npython     19  28 jovyan  mem       REG                8,1  1289027           661987 /opt/conda/lib/libzmq.so.5.1.5\r\npython     19  28 jovyan  mem       REG                8,1   228614          2230849 /opt/conda/lib/python3.6/site-packages/zmq/backend/cython/constants.cpython-36m-x86_64-linux-gnu.so\r\npython     19  28 jovyan  mem       REG                8,1   617309           530848 /opt/conda/lib/python3.6/lib-dynload/_ctypes.cpython-36m-x86_64-linux-gnu.so\r\npython     19  28 jovyan  mem       REG                8,1    64549           530858 /opt/conda/lib/python3.6/lib-dynload/_lsprof.cpython-36m-x86_64-linux-gnu.so\r\npython     19  28 jovyan  mem       REG                8,1   339757           530871 /opt/conda/lib/python3.6/lib-dynload/_socket.cpython-36m-x86_64-linux-gnu.so\r\npython     19  28 jovyan  mem       REG                8,1   963624           530898 /opt/conda/lib/python3.6/lib-dynload/unicodedata.cpython-36m-x86_64-linux-gnu.so\r\npython     19  28 jovyan  mem       REG                8,1   187746           530880 /opt/conda/lib/python3.6/lib-dynload/array.cpython-36m-x86_64-linux-gnu.so\r\npython     19  28 jovyan  mem       REG                8,1   249585           529581 /opt/conda/lib/libtinfo.so.5.9\r\npython     19  28 jovyan  mem       REG                8,1   176142           529542 /opt/conda/lib/libncurses.so.5.9\r\npython     19  28 jovyan  mem       REG                8,1  1165114           529569 /opt/conda/lib/libsqlite3.so.0.8.6\r\npython     19  28 jovyan  mem       REG                8,1   295030           530872 /opt/conda/lib/python3.6/lib-dynload/_sqlite3.cpython-36m-x86_64-linux-gnu.so\r\npython     19  28 jovyan  mem       REG                8,1   433613           530864 /opt/conda/lib/python3.6/lib-dynload/_pickle.cpython-36m-x86_64-linux-gnu.so\r\npython     19  28 jovyan  mem       REG                8,1   470165           530852 /opt/conda/lib/python3.6/lib-dynload/_datetime.cpython-36m-x86_64-linux-gnu.so\r\npython     19  28 jovyan  mem       REG                8,1    78638           530882 /opt/conda/lib/python3.6/lib-dynload/binascii.cpython-36m-x86_64-linux-gnu.so\r\npython     19  28 jovyan  mem       REG                8,1    32268           530893 /opt/conda/lib/python3.6/lib-dynload/resource.cpython-36m-x86_64-linux-gnu.so\r\npython     19  28 jovyan  mem       REG                8,1    41463           530884 /opt/conda/lib/python3.6/lib-dynload/fcntl.cpython-36m-x86_64-linux-gnu.so\r\npython     19  28 jovyan  mem       REG                8,1    46964           530897 /opt/conda/lib/python3.6/lib-dynload/termios.cpython-36m-x86_64-linux-gnu.so\r\npython     19  28 jovyan  mem       REG                8,1    37999           530866 /opt/conda/lib/python3.6/lib-dynload/_random.cpython-36m-x86_64-linux-gnu.so\r\npython     19  28 jovyan  mem       REG                8,1    33663           530837 /opt/conda/lib/python3.6/lib-dynload/_bisect.cpython-36m-x86_64-linux-gnu.so\r\npython     19  28 jovyan  mem       REG                8,1   355122           530869 /opt/conda/lib/python3.6/lib-dynload/_sha3.cpython-36m-x86_64-linux-gnu.so\r\npython     19  28 jovyan  mem       REG                8,1   329909           530838 /opt/conda/lib/python3.6/lib-dynload/_blake2.cpython-36m-x86_64-linux-gnu.so\r\npython     19  28 jovyan  mem       REG                8,1  2692340           529490 /opt/conda/lib/libcrypto.so.1.0.0\r\npython     19  28 jovyan  mem       REG                8,1   549929           529572 /opt/conda/lib/libssl.so.1.0.0\r\npython     19  28 jovyan  mem       REG                8,1    92355           530855 /opt/conda/lib/python3.6/lib-dynload/_hashlib.cpython-36m-x86_64-linux-gnu.so\r\npython     19  28 jovyan  mem       REG                8,1   159628           530874 /opt/conda/lib/python3.6/lib-dynload/_struct.cpython-36m-x86_64-linux-gnu.so\r\npython     19  28 jovyan  mem       REG                8,1    20447           530863 /opt/conda/lib/python3.6/lib-dynload/_opcode.cpython-36m-x86_64-linux-gnu.so\r\npython     19  28 jovyan  mem       REG                8,1    35500           530885 /opt/conda/lib/python3.6/lib-dynload/grp.cpython-36m-x86_64-linux-gnu.so\r\npython     19  28 jovyan  mem       REG                8,1   803563           529528 /opt/conda/lib/liblzma.so.5.2.3\r\npython     19  28 jovyan  mem       REG                8,1   117498           530859 /opt/conda/lib/python3.6/lib-dynload/_lzma.cpython-36m-x86_64-linux-gnu.so\r\npython     19  28 jovyan  mem       REG                8,1   269237           530839 /opt/conda/lib/python3.6/lib-dynload/_bz2.cpython-36m-x86_64-linux-gnu.so\r\npython     19  28 jovyan  mem       REG                8,1   127973           529602 /opt/conda/lib/libz.so.1.2.11\r\npython     19  28 jovyan  mem       REG                8,1   116664           530900 /opt/conda/lib/python3.6/lib-dynload/zlib.cpython-36m-x86_64-linux-gnu.so\r\npython     19  28 jovyan  mem       REG                8,1   210293           530886 /opt/conda/lib/python3.6/lib-dynload/math.cpython-36m-x86_64-linux-gnu.so\r\npython     19  28 jovyan  mem       REG                8,1    79124           530894 /opt/conda/lib/python3.6/lib-dynload/select.cpython-36m-x86_64-linux-gnu.so\r\npython     19  28 jovyan  mem       REG                8,1    85443           530865 /opt/conda/lib/python3.6/lib-dynload/_posixsubprocess.cpython-36m-x86_64-linux-gnu.so\r\npython     19  28 jovyan  mem       REG                8,1   164929           530857 /opt/conda/lib/python3.6/lib-dynload/_json.cpython-36m-x86_64-linux-gnu.so\r\npython     19  28 jovyan  mem       REG                8,1    47058           530856 /opt/conda/lib/python3.6/lib-dynload/_heapq.cpython-36m-x86_64-linux-gnu.so\r\npython     19  28 jovyan  mem       REG                8,1  1868984           394365 /lib/x86_64-linux-gnu/libc-2.23.so\r\npython     19  28 jovyan  mem       REG                8,1  1088952           394397 /lib/x86_64-linux-gnu/libm-2.23.so\r\npython     19  28 jovyan  mem       REG                8,1    31712           394440 /lib/x86_64-linux-gnu/librt-2.23.so\r\npython     19  28 jovyan  mem       REG                8,1    10656           394460 /lib/x86_64-linux-gnu/libutil-2.23.so\r\npython     19  28 jovyan  mem       REG                8,1    14608           394378 /lib/x86_64-linux-gnu/libdl-2.23.so\r\npython     19  28 jovyan  mem       REG                8,1   138696           394433 /lib/x86_64-linux-gnu/libpthread-2.23.so\r\npython     19  28 jovyan  mem       REG                8,1 12444567           529556 /opt/conda/lib/libpython3.6m.so.1.0\r\npython     19  28 jovyan  mem       REG                8,1   162632           394345 /lib/x86_64-linux-gnu/ld-2.23.so\r\npython     19  28 jovyan  mem       REG                8,1    26258           395222 /usr/lib/x86_64-linux-gnu/gconv/gconv-modules.cache\r\npython     19  28 jovyan  mem       REG                8,1  1668976           656066 /usr/lib/locale/locale-archive\r\npython     19  28 jovyan    0r     FIFO               0,10      0t0           183037 pipe\r\npython     19  28 jovyan    1w     FIFO               0,10      0t0           177822 pipe\r\npython     19  28 jovyan    2w     FIFO               0,10      0t0           177823 pipe\r\npython     19  28 jovyan    3r      CHR                1,9      0t0           177867 /dev/urandom\r\npython     19  28 jovyan    4w      CHR                1,3      0t0           177862 /dev/null\r\npython     19  28 jovyan    5u  a_inode               0,11        0            11923 [eventfd]\r\npython     19  28 jovyan    6r      CHR                1,9      0t0           177867 /dev/urandom\r\npython     19  28 jovyan    7u  a_inode               0,11        0            11923 [eventfd]\r\npython     19  28 jovyan    8u  a_inode               0,11        0            11923 [eventpoll]\r\npython     19  28 jovyan    9u  a_inode               0,11        0            11923 [eventfd]\r\npython     19  28 jovyan   10u  a_inode               0,11        0            11923 [eventpoll]\r\npython     19  28 jovyan   11u  a_inode               0,11        0            11923 [eventfd]\r\npython     19  28 jovyan   12u     IPv4             183100      0t0              TCP localhost:54603 (LISTEN)\r\npython     19  28 jovyan   13u  a_inode               0,11        0            11923 [eventfd]\r\npython     19  28 jovyan   14u     IPv4             183102      0t0              TCP localhost:37155 (LISTEN)\r\npython     19  28 jovyan   15u  a_inode               0,11        0            11923 [eventfd]\r\npython     19  28 jovyan   16u     IPv4             183104      0t0              TCP localhost:33055 (LISTEN)\r\npython     19  28 jovyan   17u  a_inode               0,11        0            11923 [eventfd]\r\npython     19  28 jovyan   18u     IPv4             183106      0t0              TCP localhost:39407 (LISTEN)\r\npython     19  28 jovyan   19u  a_inode               0,11        0            11923 [eventpoll]\r\npython     19  28 jovyan   20u     unix 0x0000000000000000      0t0           183107 type=STREAM\r\npython     19  28 jovyan   21u     unix 0x0000000000000000      0t0           183108 type=STREAM\r\npython     19  28 jovyan   22u  a_inode               0,11        0            11923 [eventfd]\r\npython     19  28 jovyan   23u     IPv4             183110      0t0              TCP localhost:43393 (LISTEN)\r\npython     19  28 jovyan   24u  a_inode               0,11        0            11923 [eventfd]\r\npython     19  28 jovyan   25u  a_inode               0,11        0            11923 [eventfd]\r\npython     19  28 jovyan   26u  a_inode               0,11        0            11923 [eventfd]\r\npython     19  28 jovyan   27u  a_inode               0,11        0            11923 [eventpoll]\r\npython     19  28 jovyan   28u  a_inode               0,11        0            11923 [eventfd]\r\npython     19  28 jovyan   29u  a_inode               0,11        0            11923 [eventpoll]\r\npython     19  28 jovyan   30u  a_inode               0,11        0            11923 [eventfd]\r\npython     19  28 jovyan   31u     IPv4             184683      0t0              TCP localhost:51695 (LISTEN)\r\npython     19  28 jovyan   32u  a_inode               0,11        0            11923 [eventpoll]\r\npython     19  28 jovyan   33u     unix 0x0000000000000000      0t0           184684 type=STREAM\r\npython     19  28 jovyan   34u     unix 0x0000000000000000      0t0           184685 type=STREAM\r\npython     19  28 jovyan   35u      REG                8,1    28672           262667 /home/jovyan/.ipython/profile_default/history.sqlite\r\npython     19  28 jovyan   36u      REG                8,1    28672           262667 /home/jovyan/.ipython/profile_default/history.sqlite\r\npython     19  28 jovyan   37u     IPv4             183114      0t0              TCP localhost:39407->localhost:50562 (ESTABLISHED)\r\npython     19  28 jovyan   38u     IPv4             183115      0t0              TCP localhost:33055->localhost:40336 (ESTABLISHED)\r\npython     19  28 jovyan   39u  a_inode               0,11        0            11923 [eventfd]\r\npython     19  28 jovyan   40u     IPv4             183150      0t0              TCP localhost:54603->localhost:35854 (ESTABLISHED)\r\npython     19  28 jovyan   41u     IPv4             183152      0t0              TCP localhost:39407->localhost:50580 (ESTABLISHED)\r\npython     19  28 jovyan   42u     IPv4             183154      0t0              TCP localhost:37155->localhost:36396 (ESTABLISHED)\r\npython     19  28 jovyan   43u  a_inode               0,11        0            11923 [eventfd]\r\npython     19  28 jovyan   47u      CHR                5,2      0t0                2 /dev/pts/ptmx\r\npython     19  29 jovyan  cwd       DIR               0,61     4096 9570149208167180 /home/jovyan/openforum2018\r\npython     19  29 jovyan  rtd       DIR               0,59     4096           181289 /\r\npython     19  29 jovyan  txt       REG                8,1    14857           529056 /opt/conda/bin/python3.6\r\npython     19  29 jovyan  mem       REG                8,1    47600           394414 /lib/x86_64-linux-gnu/libnss_files-2.23.so\r\npython     19  29 jovyan  mem       REG                8,1    47648           394418 /lib/x86_64-linux-gnu/libnss_nis-2.23.so\r\npython     19  29 jovyan  mem       REG                8,1    93128           394408 /lib/x86_64-linux-gnu/libnsl-2.23.so\r\npython     19  29 jovyan  mem       REG                8,1    35688           394410 /lib/x86_64-linux-gnu/libnss_compat-2.23.so\r\npython     19  29 jovyan  mem       REG                8,1  1686154           530853 /opt/conda/lib/python3.6/lib-dynload/_decimal.cpython-36m-x86_64-linux-gnu.so\r\npython     19  29 jovyan  mem       REG                8,1   375919           530873 /opt/conda/lib/python3.6/lib-dynload/_ssl.cpython-36m-x86_64-linux-gnu.so\r\npython     19  29 jovyan  mem       REG                8,1   194106           530836 /opt/conda/lib/python3.6/lib-dynload/_asyncio.cpython-36m-x86_64-linux-gnu.so\r\npython     19  29 jovyan  mem       REG                8,1    48787           530862 /opt/conda/lib/python3.6/lib-dynload/_multiprocessing.cpython-36m-x86_64-linux-gnu.so\r\npython     19  29 jovyan  mem       REG                8,1   316595           530850 /opt/conda/lib/python3.6/lib-dynload/_curses.cpython-36m-x86_64-linux-gnu.so\r\npython     19  29 jovyan  mem       REG                8,1    17873          1708597 /opt/conda/lib/python3.6/site-packages/tornado/speedups.cpython-36m-x86_64-linux-gnu.so\r\npython     19  29 jovyan  mem       REG                8,1    18976           394463 /lib/x86_64-linux-gnu/libuuid.so.1.3.0\r\npython     19  29 jovyan  mem       REG                8,1   228724          2230844 /opt/conda/lib/python3.6/site-packages/zmq/backend/cython/_device.cpython-36m-x86_64-linux-gnu.so\r\npython     19  29 jovyan  mem       REG                8,1    98032          2230846 /opt/conda/lib/python3.6/site-packages/zmq/backend/cython/_version.cpython-36m-x86_64-linux-gnu.so\r\npython     19  29 jovyan  mem       REG                8,1   327947          2230845 /opt/conda/lib/python3.6/site-packages/zmq/backend/cython/_poll.cpython-36m-x86_64-linux-gnu.so\r\npython     19  29 jovyan  mem       REG                8,1   149930          2230859 /opt/conda/lib/python3.6/site-packages/zmq/backend/cython/utils.cpython-36m-x86_64-linux-gnu.so\r\npython     19  29 jovyan  mem       REG                8,1   730559          2230857 /opt/conda/lib/python3.6/site-packages/zmq/backend/cython/socket.cpython-36m-x86_64-linux-gnu.so\r\npython     19  29 jovyan  mem       REG                8,1   311141          2230851 /opt/conda/lib/python3.6/site-packages/zmq/backend/cython/context.cpython-36m-x86_64-linux-gnu.so\r\npython     19  29 jovyan  mem       REG                8,1   452817          2230855 /opt/conda/lib/python3.6/site-packages/zmq/backend/cython/message.cpython-36m-x86_64-linux-gnu.so\r\npython     19  29 jovyan  mem       REG                8,1   115893          2230853 /opt/conda/lib/python3.6/site-packages/zmq/backend/cython/error.cpython-36m-x86_64-linux-gnu.so\r\npython     19  29 jovyan  mem       REG                8,1   706232           529510 /opt/conda/lib/libgcc_s.so.1\r\npython     19  29 jovyan  mem       REG                8,1  8167184           529575 /opt/conda/lib/libstdc++.so.6.0.24\r\npython     19  29 jovyan  mem       REG                8,1  1289027           661987 /opt/conda/lib/libzmq.so.5.1.5\r\npython     19  29 jovyan  mem       REG                8,1   228614          2230849 /opt/conda/lib/python3.6/site-packages/zmq/backend/cython/constants.cpython-36m-x86_64-linux-gnu.so\r\npython     19  29 jovyan  mem       REG                8,1   617309           530848 /opt/conda/lib/python3.6/lib-dynload/_ctypes.cpython-36m-x86_64-linux-gnu.so\r\npython     19  29 jovyan  mem       REG                8,1    64549           530858 /opt/conda/lib/python3.6/lib-dynload/_lsprof.cpython-36m-x86_64-linux-gnu.so\r\npython     19  29 jovyan  mem       REG                8,1   339757           530871 /opt/conda/lib/python3.6/lib-dynload/_socket.cpython-36m-x86_64-linux-gnu.so\r\npython     19  29 jovyan  mem       REG                8,1   963624           530898 /opt/conda/lib/python3.6/lib-dynload/unicodedata.cpython-36m-x86_64-linux-gnu.so\r\npython     19  29 jovyan  mem       REG                8,1   187746           530880 /opt/conda/lib/python3.6/lib-dynload/array.cpython-36m-x86_64-linux-gnu.so\r\npython     19  29 jovyan  mem       REG                8,1   249585           529581 /opt/conda/lib/libtinfo.so.5.9\r\npython     19  29 jovyan  mem       REG                8,1   176142           529542 /opt/conda/lib/libncurses.so.5.9\r\npython     19  29 jovyan  mem       REG                8,1  1165114           529569 /opt/conda/lib/libsqlite3.so.0.8.6\r\npython     19  29 jovyan  mem       REG                8,1   295030           530872 /opt/conda/lib/python3.6/lib-dynload/_sqlite3.cpython-36m-x86_64-linux-gnu.so\r\npython     19  29 jovyan  mem       REG                8,1   433613           530864 /opt/conda/lib/python3.6/lib-dynload/_pickle.cpython-36m-x86_64-linux-gnu.so\r\npython     19  29 jovyan  mem       REG                8,1   470165           530852 /opt/conda/lib/python3.6/lib-dynload/_datetime.cpython-36m-x86_64-linux-gnu.so\r\npython     19  29 jovyan  mem       REG                8,1    78638           530882 /opt/conda/lib/python3.6/lib-dynload/binascii.cpython-36m-x86_64-linux-gnu.so\r\npython     19  29 jovyan  mem       REG                8,1    32268           530893 /opt/conda/lib/python3.6/lib-dynload/resource.cpython-36m-x86_64-linux-gnu.so\r\npython     19  29 jovyan  mem       REG                8,1    41463           530884 /opt/conda/lib/python3.6/lib-dynload/fcntl.cpython-36m-x86_64-linux-gnu.so\r\npython     19  29 jovyan  mem       REG                8,1    46964           530897 /opt/conda/lib/python3.6/lib-dynload/termios.cpython-36m-x86_64-linux-gnu.so\r\npython     19  29 jovyan  mem       REG                8,1    37999           530866 /opt/conda/lib/python3.6/lib-dynload/_random.cpython-36m-x86_64-linux-gnu.so\r\npython     19  29 jovyan  mem       REG                8,1    33663           530837 /opt/conda/lib/python3.6/lib-dynload/_bisect.cpython-36m-x86_64-linux-gnu.so\r\npython     19  29 jovyan  mem       REG                8,1   355122           530869 /opt/conda/lib/python3.6/lib-dynload/_sha3.cpython-36m-x86_64-linux-gnu.so\r\npython     19  29 jovyan  mem       REG                8,1   329909           530838 /opt/conda/lib/python3.6/lib-dynload/_blake2.cpython-36m-x86_64-linux-gnu.so\r\npython     19  29 jovyan  mem       REG                8,1  2692340           529490 /opt/conda/lib/libcrypto.so.1.0.0\r\npython     19  29 jovyan  mem       REG                8,1   549929           529572 /opt/conda/lib/libssl.so.1.0.0\r\npython     19  29 jovyan  mem       REG                8,1    92355           530855 /opt/conda/lib/python3.6/lib-dynload/_hashlib.cpython-36m-x86_64-linux-gnu.so\r\npython     19  29 jovyan  mem       REG                8,1   159628           530874 /opt/conda/lib/python3.6/lib-dynload/_struct.cpython-36m-x86_64-linux-gnu.so\r\npython     19  29 jovyan  mem       REG                8,1    20447           530863 /opt/conda/lib/python3.6/lib-dynload/_opcode.cpython-36m-x86_64-linux-gnu.so\r\npython     19  29 jovyan  mem       REG                8,1    35500           530885 /opt/conda/lib/python3.6/lib-dynload/grp.cpython-36m-x86_64-linux-gnu.so\r\npython     19  29 jovyan  mem       REG                8,1   803563           529528 /opt/conda/lib/liblzma.so.5.2.3\r\npython     19  29 jovyan  mem       REG                8,1   117498           530859 /opt/conda/lib/python3.6/lib-dynload/_lzma.cpython-36m-x86_64-linux-gnu.so\r\npython     19  29 jovyan  mem       REG                8,1   269237           530839 /opt/conda/lib/python3.6/lib-dynload/_bz2.cpython-36m-x86_64-linux-gnu.so\r\npython     19  29 jovyan  mem       REG                8,1   127973           529602 /opt/conda/lib/libz.so.1.2.11\r\npython     19  29 jovyan  mem       REG                8,1   116664           530900 /opt/conda/lib/python3.6/lib-dynload/zlib.cpython-36m-x86_64-linux-gnu.so\r\npython     19  29 jovyan  mem       REG                8,1   210293           530886 /opt/conda/lib/python3.6/lib-dynload/math.cpython-36m-x86_64-linux-gnu.so\r\npython     19  29 jovyan  mem       REG                8,1    79124           530894 /opt/conda/lib/python3.6/lib-dynload/select.cpython-36m-x86_64-linux-gnu.so\r\npython     19  29 jovyan  mem       REG                8,1    85443           530865 /opt/conda/lib/python3.6/lib-dynload/_posixsubprocess.cpython-36m-x86_64-linux-gnu.so\r\npython     19  29 jovyan  mem       REG                8,1   164929           530857 /opt/conda/lib/python3.6/lib-dynload/_json.cpython-36m-x86_64-linux-gnu.so\r\npython     19  29 jovyan  mem       REG                8,1    47058           530856 /opt/conda/lib/python3.6/lib-dynload/_heapq.cpython-36m-x86_64-linux-gnu.so\r\npython     19  29 jovyan  mem       REG                8,1  1868984           394365 /lib/x86_64-linux-gnu/libc-2.23.so\r\npython     19  29 jovyan  mem       REG                8,1  1088952           394397 /lib/x86_64-linux-gnu/libm-2.23.so\r\npython     19  29 jovyan  mem       REG                8,1    31712           394440 /lib/x86_64-linux-gnu/librt-2.23.so\r\npython     19  29 jovyan  mem       REG                8,1    10656           394460 /lib/x86_64-linux-gnu/libutil-2.23.so\r\npython     19  29 jovyan  mem       REG                8,1    14608           394378 /lib/x86_64-linux-gnu/libdl-2.23.so\r\npython     19  29 jovyan  mem       REG                8,1   138696           394433 /lib/x86_64-linux-gnu/libpthread-2.23.so\r\npython     19  29 jovyan  mem       REG                8,1 12444567           529556 /opt/conda/lib/libpython3.6m.so.1.0\r\npython     19  29 jovyan  mem       REG                8,1   162632           394345 /lib/x86_64-linux-gnu/ld-2.23.so\r\npython     19  29 jovyan  mem       REG                8,1    26258           395222 /usr/lib/x86_64-linux-gnu/gconv/gconv-modules.cache\r\npython     19  29 jovyan  mem       REG                8,1  1668976           656066 /usr/lib/locale/locale-archive\r\npython     19  29 jovyan    0r     FIFO               0,10      0t0           183037 pipe\r\npython     19  29 jovyan    1w     FIFO               0,10      0t0           177822 pipe\r\npython     19  29 jovyan    2w     FIFO               0,10      0t0           177823 pipe\r\npython     19  29 jovyan    3r      CHR                1,9      0t0           177867 /dev/urandom\r\npython     19  29 jovyan    4w      CHR                1,3      0t0           177862 /dev/null\r\npython     19  29 jovyan    5u  a_inode               0,11        0            11923 [eventfd]\r\npython     19  29 jovyan    6r      CHR                1,9      0t0           177867 /dev/urandom\r\npython     19  29 jovyan    7u  a_inode               0,11        0            11923 [eventfd]\r\npython     19  29 jovyan    8u  a_inode               0,11        0            11923 [eventpoll]\r\npython     19  29 jovyan    9u  a_inode               0,11        0            11923 [eventfd]\r\npython     19  29 jovyan   10u  a_inode               0,11        0            11923 [eventpoll]\r\npython     19  29 jovyan   11u  a_inode               0,11        0            11923 [eventfd]\r\npython     19  29 jovyan   12u     IPv4             183100      0t0              TCP localhost:54603 (LISTEN)\r\npython     19  29 jovyan   13u  a_inode               0,11        0            11923 [eventfd]\r\npython     19  29 jovyan   14u     IPv4             183102      0t0              TCP localhost:37155 (LISTEN)\r\npython     19  29 jovyan   15u  a_inode               0,11        0            11923 [eventfd]\r\npython     19  29 jovyan   16u     IPv4             183104      0t0              TCP localhost:33055 (LISTEN)\r\npython     19  29 jovyan   17u  a_inode               0,11        0            11923 [eventfd]\r\npython     19  29 jovyan   18u     IPv4             183106      0t0              TCP localhost:39407 (LISTEN)\r\npython     19  29 jovyan   19u  a_inode               0,11        0            11923 [eventpoll]\r\npython     19  29 jovyan   20u     unix 0x0000000000000000      0t0           183107 type=STREAM\r\npython     19  29 jovyan   21u     unix 0x0000000000000000      0t0           183108 type=STREAM\r\npython     19  29 jovyan   22u  a_inode               0,11        0            11923 [eventfd]\r\npython     19  29 jovyan   23u     IPv4             183110      0t0              TCP localhost:43393 (LISTEN)\r\npython     19  29 jovyan   24u  a_inode               0,11        0            11923 [eventfd]\r\npython     19  29 jovyan   25u  a_inode               0,11        0            11923 [eventfd]\r\npython     19  29 jovyan   26u  a_inode               0,11        0            11923 [eventfd]\r\npython     19  29 jovyan   27u  a_inode               0,11        0            11923 [eventpoll]\r\npython     19  29 jovyan   28u  a_inode               0,11        0            11923 [eventfd]\r\npython     19  29 jovyan   29u  a_inode               0,11        0            11923 [eventpoll]\r\npython     19  29 jovyan   30u  a_inode               0,11        0            11923 [eventfd]\r\npython     19  29 jovyan   31u     IPv4             184683      0t0              TCP localhost:51695 (LISTEN)\r\npython     19  29 jovyan   32u  a_inode               0,11        0            11923 [eventpoll]\r\npython     19  29 jovyan   33u     unix 0x0000000000000000      0t0           184684 type=STREAM\r\npython     19  29 jovyan   34u     unix 0x0000000000000000      0t0           184685 type=STREAM\r\npython     19  29 jovyan   35u      REG                8,1    28672           262667 /home/jovyan/.ipython/profile_default/history.sqlite\r\npython     19  29 jovyan   36u      REG                8,1    28672           262667 /home/jovyan/.ipython/profile_default/history.sqlite\r\npython     19  29 jovyan   37u     IPv4             183114      0t0              TCP localhost:39407->localhost:50562 (ESTABLISHED)\r\npython     19  29 jovyan   38u     IPv4             183115      0t0              TCP localhost:33055->localhost:40336 (ESTABLISHED)\r\npython     19  29 jovyan   39u  a_inode               0,11        0            11923 [eventfd]\r\npython     19  29 jovyan   40u     IPv4             183150      0t0              TCP localhost:54603->localhost:35854 (ESTABLISHED)\r\npython     19  29 jovyan   41u     IPv4             183152      0t0              TCP localhost:39407->localhost:50580 (ESTABLISHED)\r\npython     19  29 jovyan   42u     IPv4             183154      0t0              TCP localhost:37155->localhost:36396 (ESTABLISHED)\r\npython     19  29 jovyan   43u  a_inode               0,11        0            11923 [eventfd]\r\npython     19  29 jovyan   47u      CHR                5,2      0t0                2 /dev/pts/ptmx\r\nZMQbg/2    19  30 jovyan  cwd       DIR               0,61     4096 9570149208167180 /home/jovyan/openforum2018\r\nZMQbg/2    19  30 jovyan  rtd       DIR               0,59     4096           181289 /\r\nZMQbg/2    19  30 jovyan  txt       REG                8,1    14857           529056 /opt/conda/bin/python3.6\r\nZMQbg/2    19  30 jovyan  mem       REG                8,1    47600           394414 /lib/x86_64-linux-gnu/libnss_files-2.23.so\r\nZMQbg/2    19  30 jovyan  mem       REG                8,1    47648           394418 /lib/x86_64-linux-gnu/libnss_nis-2.23.so\r\nZMQbg/2    19  30 jovyan  mem       REG                8,1    93128           394408 /lib/x86_64-linux-gnu/libnsl-2.23.so\r\nZMQbg/2    19  30 jovyan  mem       REG                8,1    35688           394410 /lib/x86_64-linux-gnu/libnss_compat-2.23.so\r\nZMQbg/2    19  30 jovyan  mem       REG                8,1  1686154           530853 /opt/conda/lib/python3.6/lib-dynload/_decimal.cpython-36m-x86_64-linux-gnu.so\r\nZMQbg/2    19  30 jovyan  mem       REG                8,1   375919           530873 /opt/conda/lib/python3.6/lib-dynload/_ssl.cpython-36m-x86_64-linux-gnu.so\r\nZMQbg/2    19  30 jovyan  mem       REG                8,1   194106           530836 /opt/conda/lib/python3.6/lib-dynload/_asyncio.cpython-36m-x86_64-linux-gnu.so\r\nZMQbg/2    19  30 jovyan  mem       REG                8,1    48787           530862 /opt/conda/lib/python3.6/lib-dynload/_multiprocessing.cpython-36m-x86_64-linux-gnu.so\r\nZMQbg/2    19  30 jovyan  mem       REG                8,1   316595           530850 /opt/conda/lib/python3.6/lib-dynload/_curses.cpython-36m-x86_64-linux-gnu.so\r\nZMQbg/2    19  30 jovyan  mem       REG                8,1    17873          1708597 /opt/conda/lib/python3.6/site-packages/tornado/speedups.cpython-36m-x86_64-linux-gnu.so\r\nZMQbg/2    19  30 jovyan  mem       REG                8,1    18976           394463 /lib/x86_64-linux-gnu/libuuid.so.1.3.0\r\nZMQbg/2    19  30 jovyan  mem       REG                8,1   228724          2230844 /opt/conda/lib/python3.6/site-packages/zmq/backend/cython/_device.cpython-36m-x86_64-linux-gnu.so\r\nZMQbg/2    19  30 jovyan  mem       REG                8,1    98032          2230846 /opt/conda/lib/python3.6/site-packages/zmq/backend/cython/_version.cpython-36m-x86_64-linux-gnu.so\r\nZMQbg/2    19  30 jovyan  mem       REG                8,1   327947          2230845 /opt/conda/lib/python3.6/site-packages/zmq/backend/cython/_poll.cpython-36m-x86_64-linux-gnu.so\r\nZMQbg/2    19  30 jovyan  mem       REG                8,1   149930          2230859 /opt/conda/lib/python3.6/site-packages/zmq/backend/cython/utils.cpython-36m-x86_64-linux-gnu.so\r\nZMQbg/2    19  30 jovyan  mem       REG                8,1   730559          2230857 /opt/conda/lib/python3.6/site-packages/zmq/backend/cython/socket.cpython-36m-x86_64-linux-gnu.so\r\nZMQbg/2    19  30 jovyan  mem       REG                8,1   311141          2230851 /opt/conda/lib/python3.6/site-packages/zmq/backend/cython/context.cpython-36m-x86_64-linux-gnu.so\r\nZMQbg/2    19  30 jovyan  mem       REG                8,1   452817          2230855 /opt/conda/lib/python3.6/site-packages/zmq/backend/cython/message.cpython-36m-x86_64-linux-gnu.so\r\nZMQbg/2    19  30 jovyan  mem       REG                8,1   115893          2230853 /opt/conda/lib/python3.6/site-packages/zmq/backend/cython/error.cpython-36m-x86_64-linux-gnu.so\r\nZMQbg/2    19  30 jovyan  mem       REG                8,1   706232           529510 /opt/conda/lib/libgcc_s.so.1\r\nZMQbg/2    19  30 jovyan  mem       REG                8,1  8167184           529575 /opt/conda/lib/libstdc++.so.6.0.24\r\nZMQbg/2    19  30 jovyan  mem       REG                8,1  1289027           661987 /opt/conda/lib/libzmq.so.5.1.5\r\nZMQbg/2    19  30 jovyan  mem       REG                8,1   228614          2230849 /opt/conda/lib/python3.6/site-packages/zmq/backend/cython/constants.cpython-36m-x86_64-linux-gnu.so\r\nZMQbg/2    19  30 jovyan  mem       REG                8,1   617309           530848 /opt/conda/lib/python3.6/lib-dynload/_ctypes.cpython-36m-x86_64-linux-gnu.so\r\nZMQbg/2    19  30 jovyan  mem       REG                8,1    64549           530858 /opt/conda/lib/python3.6/lib-dynload/_lsprof.cpython-36m-x86_64-linux-gnu.so\r\nZMQbg/2    19  30 jovyan  mem       REG                8,1   339757           530871 /opt/conda/lib/python3.6/lib-dynload/_socket.cpython-36m-x86_64-linux-gnu.so\r\nZMQbg/2    19  30 jovyan  mem       REG                8,1   963624           530898 /opt/conda/lib/python3.6/lib-dynload/unicodedata.cpython-36m-x86_64-linux-gnu.so\r\nZMQbg/2    19  30 jovyan  mem       REG                8,1   187746           530880 /opt/conda/lib/python3.6/lib-dynload/array.cpython-36m-x86_64-linux-gnu.so\r\nZMQbg/2    19  30 jovyan  mem       REG                8,1   249585           529581 /opt/conda/lib/libtinfo.so.5.9\r\nZMQbg/2    19  30 jovyan  mem       REG                8,1   176142           529542 /opt/conda/lib/libncurses.so.5.9\r\nZMQbg/2    19  30 jovyan  mem       REG                8,1  1165114           529569 /opt/conda/lib/libsqlite3.so.0.8.6\r\nZMQbg/2    19  30 jovyan  mem       REG                8,1   295030           530872 /opt/conda/lib/python3.6/lib-dynload/_sqlite3.cpython-36m-x86_64-linux-gnu.so\r\nZMQbg/2    19  30 jovyan  mem       REG                8,1   433613           530864 /opt/conda/lib/python3.6/lib-dynload/_pickle.cpython-36m-x86_64-linux-gnu.so\r\nZMQbg/2    19  30 jovyan  mem       REG                8,1   470165           530852 /opt/conda/lib/python3.6/lib-dynload/_datetime.cpython-36m-x86_64-linux-gnu.so\r\nZMQbg/2    19  30 jovyan  mem       REG                8,1    78638           530882 /opt/conda/lib/python3.6/lib-dynload/binascii.cpython-36m-x86_64-linux-gnu.so\r\nZMQbg/2    19  30 jovyan  mem       REG                8,1    32268           530893 /opt/conda/lib/python3.6/lib-dynload/resource.cpython-36m-x86_64-linux-gnu.so\r\nZMQbg/2    19  30 jovyan  mem       REG                8,1    41463           530884 /opt/conda/lib/python3.6/lib-dynload/fcntl.cpython-36m-x86_64-linux-gnu.so\r\nZMQbg/2    19  30 jovyan  mem       REG                8,1    46964           530897 /opt/conda/lib/python3.6/lib-dynload/termios.cpython-36m-x86_64-linux-gnu.so\r\nZMQbg/2    19  30 jovyan  mem       REG                8,1    37999           530866 /opt/conda/lib/python3.6/lib-dynload/_random.cpython-36m-x86_64-linux-gnu.so\r\nZMQbg/2    19  30 jovyan  mem       REG                8,1    33663           530837 /opt/conda/lib/python3.6/lib-dynload/_bisect.cpython-36m-x86_64-linux-gnu.so\r\nZMQbg/2    19  30 jovyan  mem       REG                8,1   355122           530869 /opt/conda/lib/python3.6/lib-dynload/_sha3.cpython-36m-x86_64-linux-gnu.so\r\nZMQbg/2    19  30 jovyan  mem       REG                8,1   329909           530838 /opt/conda/lib/python3.6/lib-dynload/_blake2.cpython-36m-x86_64-linux-gnu.so\r\nZMQbg/2    19  30 jovyan  mem       REG                8,1  2692340           529490 /opt/conda/lib/libcrypto.so.1.0.0\r\nZMQbg/2    19  30 jovyan  mem       REG                8,1   549929           529572 /opt/conda/lib/libssl.so.1.0.0\r\nZMQbg/2    19  30 jovyan  mem       REG                8,1    92355           530855 /opt/conda/lib/python3.6/lib-dynload/_hashlib.cpython-36m-x86_64-linux-gnu.so\r\nZMQbg/2    19  30 jovyan  mem       REG                8,1   159628           530874 /opt/conda/lib/python3.6/lib-dynload/_struct.cpython-36m-x86_64-linux-gnu.so\r\nZMQbg/2    19  30 jovyan  mem       REG                8,1    20447           530863 /opt/conda/lib/python3.6/lib-dynload/_opcode.cpython-36m-x86_64-linux-gnu.so\r\nZMQbg/2    19  30 jovyan  mem       REG                8,1    35500           530885 /opt/conda/lib/python3.6/lib-dynload/grp.cpython-36m-x86_64-linux-gnu.so\r\nZMQbg/2    19  30 jovyan  mem       REG                8,1   803563           529528 /opt/conda/lib/liblzma.so.5.2.3\r\nZMQbg/2    19  30 jovyan  mem       REG                8,1   117498           530859 /opt/conda/lib/python3.6/lib-dynload/_lzma.cpython-36m-x86_64-linux-gnu.so\r\nZMQbg/2    19  30 jovyan  mem       REG                8,1   269237           530839 /opt/conda/lib/python3.6/lib-dynload/_bz2.cpython-36m-x86_64-linux-gnu.so\r\nZMQbg/2    19  30 jovyan  mem       REG                8,1   127973           529602 /opt/conda/lib/libz.so.1.2.11\r\nZMQbg/2    19  30 jovyan  mem       REG                8,1   116664           530900 /opt/conda/lib/python3.6/lib-dynload/zlib.cpython-36m-x86_64-linux-gnu.so\r\nZMQbg/2    19  30 jovyan  mem       REG                8,1   210293           530886 /opt/conda/lib/python3.6/lib-dynload/math.cpython-36m-x86_64-linux-gnu.so\r\nZMQbg/2    19  30 jovyan  mem       REG                8,1    79124           530894 /opt/conda/lib/python3.6/lib-dynload/select.cpython-36m-x86_64-linux-gnu.so\r\nZMQbg/2    19  30 jovyan  mem       REG                8,1    85443           530865 /opt/conda/lib/python3.6/lib-dynload/_posixsubprocess.cpython-36m-x86_64-linux-gnu.so\r\nZMQbg/2    19  30 jovyan  mem       REG                8,1   164929           530857 /opt/conda/lib/python3.6/lib-dynload/_json.cpython-36m-x86_64-linux-gnu.so\r\nZMQbg/2    19  30 jovyan  mem       REG                8,1    47058           530856 /opt/conda/lib/python3.6/lib-dynload/_heapq.cpython-36m-x86_64-linux-gnu.so\r\nZMQbg/2    19  30 jovyan  mem       REG                8,1  1868984           394365 /lib/x86_64-linux-gnu/libc-2.23.so\r\nZMQbg/2    19  30 jovyan  mem       REG                8,1  1088952           394397 /lib/x86_64-linux-gnu/libm-2.23.so\r\nZMQbg/2    19  30 jovyan  mem       REG                8,1    31712           394440 /lib/x86_64-linux-gnu/librt-2.23.so\r\nZMQbg/2    19  30 jovyan  mem       REG                8,1    10656           394460 /lib/x86_64-linux-gnu/libutil-2.23.so\r\nZMQbg/2    19  30 jovyan  mem       REG                8,1    14608           394378 /lib/x86_64-linux-gnu/libdl-2.23.so\r\nZMQbg/2    19  30 jovyan  mem       REG                8,1   138696           394433 /lib/x86_64-linux-gnu/libpthread-2.23.so\r\nZMQbg/2    19  30 jovyan  mem       REG                8,1 12444567           529556 /opt/conda/lib/libpython3.6m.so.1.0\r\nZMQbg/2    19  30 jovyan  mem       REG                8,1   162632           394345 /lib/x86_64-linux-gnu/ld-2.23.so\r\nZMQbg/2    19  30 jovyan  mem       REG                8,1    26258           395222 /usr/lib/x86_64-linux-gnu/gconv/gconv-modules.cache\r\nZMQbg/2    19  30 jovyan  mem       REG                8,1  1668976           656066 /usr/lib/locale/locale-archive\r\nZMQbg/2    19  30 jovyan    0r     FIFO               0,10      0t0           183037 pipe\r\nZMQbg/2    19  30 jovyan    1w     FIFO               0,10      0t0           177822 pipe\r\nZMQbg/2    19  30 jovyan    2w     FIFO               0,10      0t0           177823 pipe\r\nZMQbg/2    19  30 jovyan    3r      CHR                1,9      0t0           177867 /dev/urandom\r\nZMQbg/2    19  30 jovyan    4w      CHR                1,3      0t0           177862 /dev/null\r\nZMQbg/2    19  30 jovyan    5u  a_inode               0,11        0            11923 [eventfd]\r\nZMQbg/2    19  30 jovyan    6r      CHR                1,9      0t0           177867 /dev/urandom\r\nZMQbg/2    19  30 jovyan    7u  a_inode               0,11        0            11923 [eventfd]\r\nZMQbg/2    19  30 jovyan    8u  a_inode               0,11        0            11923 [eventpoll]\r\nZMQbg/2    19  30 jovyan    9u  a_inode               0,11        0            11923 [eventfd]\r\nZMQbg/2    19  30 jovyan   10u  a_inode               0,11        0            11923 [eventpoll]\r\nZMQbg/2    19  30 jovyan   11u  a_inode               0,11        0            11923 [eventfd]\r\nZMQbg/2    19  30 jovyan   12u     IPv4             183100      0t0              TCP localhost:54603 (LISTEN)\r\nZMQbg/2    19  30 jovyan   13u  a_inode               0,11        0            11923 [eventfd]\r\nZMQbg/2    19  30 jovyan   14u     IPv4             183102      0t0              TCP localhost:37155 (LISTEN)\r\nZMQbg/2    19  30 jovyan   15u  a_inode               0,11        0            11923 [eventfd]\r\nZMQbg/2    19  30 jovyan   16u     IPv4             183104      0t0              TCP localhost:33055 (LISTEN)\r\nZMQbg/2    19  30 jovyan   17u  a_inode               0,11        0            11923 [eventfd]\r\nZMQbg/2    19  30 jovyan   18u     IPv4             183106      0t0              TCP localhost:39407 (LISTEN)\r\nZMQbg/2    19  30 jovyan   19u  a_inode               0,11        0            11923 [eventpoll]\r\nZMQbg/2    19  30 jovyan   20u     unix 0x0000000000000000      0t0           183107 type=STREAM\r\nZMQbg/2    19  30 jovyan   21u     unix 0x0000000000000000      0t0           183108 type=STREAM\r\nZMQbg/2    19  30 jovyan   22u  a_inode               0,11        0            11923 [eventfd]\r\nZMQbg/2    19  30 jovyan   23u     IPv4             183110      0t0              TCP localhost:43393 (LISTEN)\r\nZMQbg/2    19  30 jovyan   24u  a_inode               0,11        0            11923 [eventfd]\r\nZMQbg/2    19  30 jovyan   25u  a_inode               0,11        0            11923 [eventfd]\r\nZMQbg/2    19  30 jovyan   26u  a_inode               0,11        0            11923 [eventfd]\r\nZMQbg/2    19  30 jovyan   27u  a_inode               0,11        0            11923 [eventpoll]\r\nZMQbg/2    19  30 jovyan   28u  a_inode               0,11        0            11923 [eventfd]\r\nZMQbg/2    19  30 jovyan   29u  a_inode               0,11        0            11923 [eventpoll]\r\nZMQbg/2    19  30 jovyan   30u  a_inode               0,11        0            11923 [eventfd]\r\nZMQbg/2    19  30 jovyan   31u     IPv4             184683      0t0              TCP localhost:51695 (LISTEN)\r\nZMQbg/2    19  30 jovyan   32u  a_inode               0,11        0            11923 [eventpoll]\r\nZMQbg/2    19  30 jovyan   33u     unix 0x0000000000000000      0t0           184684 type=STREAM\r\nZMQbg/2    19  30 jovyan   34u     unix 0x0000000000000000      0t0           184685 type=STREAM\r\nZMQbg/2    19  30 jovyan   35u      REG                8,1    28672           262667 /home/jovyan/.ipython/profile_default/history.sqlite\r\nZMQbg/2    19  30 jovyan   36u      REG                8,1    28672           262667 /home/jovyan/.ipython/profile_default/history.sqlite\r\nZMQbg/2    19  30 jovyan   37u     IPv4             183114      0t0              TCP localhost:39407->localhost:50562 (ESTABLISHED)\r\nZMQbg/2    19  30 jovyan   38u     IPv4             183115      0t0              TCP localhost:33055->localhost:40336 (ESTABLISHED)\r\nZMQbg/2    19  30 jovyan   39u  a_inode               0,11        0            11923 [eventfd]\r\nZMQbg/2    19  30 jovyan   40u     IPv4             183150      0t0              TCP localhost:54603->localhost:35854 (ESTABLISHED)\r\nZMQbg/2    19  30 jovyan   41u     IPv4             183152      0t0              TCP localhost:39407->localhost:50580 (ESTABLISHED)\r\nZMQbg/2    19  30 jovyan   42u     IPv4             183154      0t0              TCP localhost:37155->localhost:36396 (ESTABLISHED)\r\nZMQbg/2    19  30 jovyan   43u  a_inode               0,11        0            11923 [eventfd]\r\nZMQbg/2    19  30 jovyan   47u      CHR                5,2      0t0                2 /dev/pts/ptmx\r\nZMQbg/3    19  31 jovyan  cwd       DIR               0,61     4096 9570149208167180 /home/jovyan/openforum2018\r\nZMQbg/3    19  31 jovyan  rtd       DIR               0,59     4096           181289 /\r\nZMQbg/3    19  31 jovyan  txt       REG                8,1    14857           529056 /opt/conda/bin/python3.6\r\nZMQbg/3    19  31 jovyan  mem       REG                8,1    47600           394414 /lib/x86_64-linux-gnu/libnss_files-2.23.so\r\nZMQbg/3    19  31 jovyan  mem       REG                8,1    47648           394418 /lib/x86_64-linux-gnu/libnss_nis-2.23.so\r\nZMQbg/3    19  31 jovyan  mem       REG                8,1    93128           394408 /lib/x86_64-linux-gnu/libnsl-2.23.so\r\nZMQbg/3    19  31 jovyan  mem       REG                8,1    35688           394410 /lib/x86_64-linux-gnu/libnss_compat-2.23.so\r\nZMQbg/3    19  31 jovyan  mem       REG                8,1  1686154           530853 /opt/conda/lib/python3.6/lib-dynload/_decimal.cpython-36m-x86_64-linux-gnu.so\r\nZMQbg/3    19  31 jovyan  mem       REG                8,1   375919           530873 /opt/conda/lib/python3.6/lib-dynload/_ssl.cpython-36m-x86_64-linux-gnu.so\r\nZMQbg/3    19  31 jovyan  mem       REG                8,1   194106           530836 /opt/conda/lib/python3.6/lib-dynload/_asyncio.cpython-36m-x86_64-linux-gnu.so\r\nZMQbg/3    19  31 jovyan  mem       REG                8,1    48787           530862 /opt/conda/lib/python3.6/lib-dynload/_multiprocessing.cpython-36m-x86_64-linux-gnu.so\r\nZMQbg/3    19  31 jovyan  mem       REG                8,1   316595           530850 /opt/conda/lib/python3.6/lib-dynload/_curses.cpython-36m-x86_64-linux-gnu.so\r\nZMQbg/3    19  31 jovyan  mem       REG                8,1    17873          1708597 /opt/conda/lib/python3.6/site-packages/tornado/speedups.cpython-36m-x86_64-linux-gnu.so\r\nZMQbg/3    19  31 jovyan  mem       REG                8,1    18976           394463 /lib/x86_64-linux-gnu/libuuid.so.1.3.0\r\nZMQbg/3    19  31 jovyan  mem       REG                8,1   228724          2230844 /opt/conda/lib/python3.6/site-packages/zmq/backend/cython/_device.cpython-36m-x86_64-linux-gnu.so\r\nZMQbg/3    19  31 jovyan  mem       REG                8,1    98032          2230846 /opt/conda/lib/python3.6/site-packages/zmq/backend/cython/_version.cpython-36m-x86_64-linux-gnu.so\r\nZMQbg/3    19  31 jovyan  mem       REG                8,1   327947          2230845 /opt/conda/lib/python3.6/site-packages/zmq/backend/cython/_poll.cpython-36m-x86_64-linux-gnu.so\r\nZMQbg/3    19  31 jovyan  mem       REG                8,1   149930          2230859 /opt/conda/lib/python3.6/site-packages/zmq/backend/cython/utils.cpython-36m-x86_64-linux-gnu.so\r\nZMQbg/3    19  31 jovyan  mem       REG                8,1   730559          2230857 /opt/conda/lib/python3.6/site-packages/zmq/backend/cython/socket.cpython-36m-x86_64-linux-gnu.so\r\nZMQbg/3    19  31 jovyan  mem       REG                8,1   311141          2230851 /opt/conda/lib/python3.6/site-packages/zmq/backend/cython/context.cpython-36m-x86_64-linux-gnu.so\r\nZMQbg/3    19  31 jovyan  mem       REG                8,1   452817          2230855 /opt/conda/lib/python3.6/site-packages/zmq/backend/cython/message.cpython-36m-x86_64-linux-gnu.so\r\nZMQbg/3    19  31 jovyan  mem       REG                8,1   115893          2230853 /opt/conda/lib/python3.6/site-packages/zmq/backend/cython/error.cpython-36m-x86_64-linux-gnu.so\r\nZMQbg/3    19  31 jovyan  mem       REG                8,1   706232           529510 /opt/conda/lib/libgcc_s.so.1\r\nZMQbg/3    19  31 jovyan  mem       REG                8,1  8167184           529575 /opt/conda/lib/libstdc++.so.6.0.24\r\nZMQbg/3    19  31 jovyan  mem       REG                8,1  1289027           661987 /opt/conda/lib/libzmq.so.5.1.5\r\nZMQbg/3    19  31 jovyan  mem       REG                8,1   228614          2230849 /opt/conda/lib/python3.6/site-packages/zmq/backend/cython/constants.cpython-36m-x86_64-linux-gnu.so\r\nZMQbg/3    19  31 jovyan  mem       REG                8,1   617309           530848 /opt/conda/lib/python3.6/lib-dynload/_ctypes.cpython-36m-x86_64-linux-gnu.so\r\nZMQbg/3    19  31 jovyan  mem       REG                8,1    64549           530858 /opt/conda/lib/python3.6/lib-dynload/_lsprof.cpython-36m-x86_64-linux-gnu.so\r\nZMQbg/3    19  31 jovyan  mem       REG                8,1   339757           530871 /opt/conda/lib/python3.6/lib-dynload/_socket.cpython-36m-x86_64-linux-gnu.so\r\nZMQbg/3    19  31 jovyan  mem       REG                8,1   963624           530898 /opt/conda/lib/python3.6/lib-dynload/unicodedata.cpython-36m-x86_64-linux-gnu.so\r\nZMQbg/3    19  31 jovyan  mem       REG                8,1   187746           530880 /opt/conda/lib/python3.6/lib-dynload/array.cpython-36m-x86_64-linux-gnu.so\r\nZMQbg/3    19  31 jovyan  mem       REG                8,1   249585           529581 /opt/conda/lib/libtinfo.so.5.9\r\nZMQbg/3    19  31 jovyan  mem       REG                8,1   176142           529542 /opt/conda/lib/libncurses.so.5.9\r\nZMQbg/3    19  31 jovyan  mem       REG                8,1  1165114           529569 /opt/conda/lib/libsqlite3.so.0.8.6\r\nZMQbg/3    19  31 jovyan  mem       REG                8,1   295030           530872 /opt/conda/lib/python3.6/lib-dynload/_sqlite3.cpython-36m-x86_64-linux-gnu.so\r\nZMQbg/3    19  31 jovyan  mem       REG                8,1   433613           530864 /opt/conda/lib/python3.6/lib-dynload/_pickle.cpython-36m-x86_64-linux-gnu.so\r\nZMQbg/3    19  31 jovyan  mem       REG                8,1   470165           530852 /opt/conda/lib/python3.6/lib-dynload/_datetime.cpython-36m-x86_64-linux-gnu.so\r\nZMQbg/3    19  31 jovyan  mem       REG                8,1    78638           530882 /opt/conda/lib/python3.6/lib-dynload/binascii.cpython-36m-x86_64-linux-gnu.so\r\nZMQbg/3    19  31 jovyan  mem       REG                8,1    32268           530893 /opt/conda/lib/python3.6/lib-dynload/resource.cpython-36m-x86_64-linux-gnu.so\r\nZMQbg/3    19  31 jovyan  mem       REG                8,1    41463           530884 /opt/conda/lib/python3.6/lib-dynload/fcntl.cpython-36m-x86_64-linux-gnu.so\r\nZMQbg/3    19  31 jovyan  mem       REG                8,1    46964           530897 /opt/conda/lib/python3.6/lib-dynload/termios.cpython-36m-x86_64-linux-gnu.so\r\nZMQbg/3    19  31 jovyan  mem       REG                8,1    37999           530866 /opt/conda/lib/python3.6/lib-dynload/_random.cpython-36m-x86_64-linux-gnu.so\r\nZMQbg/3    19  31 jovyan  mem       REG                8,1    33663           530837 /opt/conda/lib/python3.6/lib-dynload/_bisect.cpython-36m-x86_64-linux-gnu.so\r\nZMQbg/3    19  31 jovyan  mem       REG                8,1   355122           530869 /opt/conda/lib/python3.6/lib-dynload/_sha3.cpython-36m-x86_64-linux-gnu.so\r\nZMQbg/3    19  31 jovyan  mem       REG                8,1   329909           530838 /opt/conda/lib/python3.6/lib-dynload/_blake2.cpython-36m-x86_64-linux-gnu.so\r\nZMQbg/3    19  31 jovyan  mem       REG                8,1  2692340           529490 /opt/conda/lib/libcrypto.so.1.0.0\r\nZMQbg/3    19  31 jovyan  mem       REG                8,1   549929           529572 /opt/conda/lib/libssl.so.1.0.0\r\nZMQbg/3    19  31 jovyan  mem       REG                8,1    92355           530855 /opt/conda/lib/python3.6/lib-dynload/_hashlib.cpython-36m-x86_64-linux-gnu.so\r\nZMQbg/3    19  31 jovyan  mem       REG                8,1   159628           530874 /opt/conda/lib/python3.6/lib-dynload/_struct.cpython-36m-x86_64-linux-gnu.so\r\nZMQbg/3    19  31 jovyan  mem       REG                8,1    20447           530863 /opt/conda/lib/python3.6/lib-dynload/_opcode.cpython-36m-x86_64-linux-gnu.so\r\nZMQbg/3    19  31 jovyan  mem       REG                8,1    35500           530885 /opt/conda/lib/python3.6/lib-dynload/grp.cpython-36m-x86_64-linux-gnu.so\r\nZMQbg/3    19  31 jovyan  mem       REG                8,1   803563           529528 /opt/conda/lib/liblzma.so.5.2.3\r\nZMQbg/3    19  31 jovyan  mem       REG                8,1   117498           530859 /opt/conda/lib/python3.6/lib-dynload/_lzma.cpython-36m-x86_64-linux-gnu.so\r\nZMQbg/3    19  31 jovyan  mem       REG                8,1   269237           530839 /opt/conda/lib/python3.6/lib-dynload/_bz2.cpython-36m-x86_64-linux-gnu.so\r\nZMQbg/3    19  31 jovyan  mem       REG                8,1   127973           529602 /opt/conda/lib/libz.so.1.2.11\r\nZMQbg/3    19  31 jovyan  mem       REG                8,1   116664           530900 /opt/conda/lib/python3.6/lib-dynload/zlib.cpython-36m-x86_64-linux-gnu.so\r\nZMQbg/3    19  31 jovyan  mem       REG                8,1   210293           530886 /opt/conda/lib/python3.6/lib-dynload/math.cpython-36m-x86_64-linux-gnu.so\r\nZMQbg/3    19  31 jovyan  mem       REG                8,1    79124           530894 /opt/conda/lib/python3.6/lib-dynload/select.cpython-36m-x86_64-linux-gnu.so\r\nZMQbg/3    19  31 jovyan  mem       REG                8,1    85443           530865 /opt/conda/lib/python3.6/lib-dynload/_posixsubprocess.cpython-36m-x86_64-linux-gnu.so\r\nZMQbg/3    19  31 jovyan  mem       REG                8,1   164929           530857 /opt/conda/lib/python3.6/lib-dynload/_json.cpython-36m-x86_64-linux-gnu.so\r\nZMQbg/3    19  31 jovyan  mem       REG                8,1    47058           530856 /opt/conda/lib/python3.6/lib-dynload/_heapq.cpython-36m-x86_64-linux-gnu.so\r\nZMQbg/3    19  31 jovyan  mem       REG                8,1  1868984           394365 /lib/x86_64-linux-gnu/libc-2.23.so\r\nZMQbg/3    19  31 jovyan  mem       REG                8,1  1088952           394397 /lib/x86_64-linux-gnu/libm-2.23.so\r\nZMQbg/3    19  31 jovyan  mem       REG                8,1    31712           394440 /lib/x86_64-linux-gnu/librt-2.23.so\r\nZMQbg/3    19  31 jovyan  mem       REG                8,1    10656           394460 /lib/x86_64-linux-gnu/libutil-2.23.so\r\nZMQbg/3    19  31 jovyan  mem       REG                8,1    14608           394378 /lib/x86_64-linux-gnu/libdl-2.23.so\r\nZMQbg/3    19  31 jovyan  mem       REG                8,1   138696           394433 /lib/x86_64-linux-gnu/libpthread-2.23.so\r\nZMQbg/3    19  31 jovyan  mem       REG                8,1 12444567           529556 /opt/conda/lib/libpython3.6m.so.1.0\r\nZMQbg/3    19  31 jovyan  mem       REG                8,1   162632           394345 /lib/x86_64-linux-gnu/ld-2.23.so\r\nZMQbg/3    19  31 jovyan  mem       REG                8,1    26258           395222 /usr/lib/x86_64-linux-gnu/gconv/gconv-modules.cache\r\nZMQbg/3    19  31 jovyan  mem       REG                8,1  1668976           656066 /usr/lib/locale/locale-archive\r\nZMQbg/3    19  31 jovyan    0r     FIFO               0,10      0t0           183037 pipe\r\nZMQbg/3    19  31 jovyan    1w     FIFO               0,10      0t0           177822 pipe\r\nZMQbg/3    19  31 jovyan    2w     FIFO               0,10      0t0           177823 pipe\r\nZMQbg/3    19  31 jovyan    3r      CHR                1,9      0t0           177867 /dev/urandom\r\nZMQbg/3    19  31 jovyan    4w      CHR                1,3      0t0           177862 /dev/null\r\nZMQbg/3    19  31 jovyan    5u  a_inode               0,11        0            11923 [eventfd]\r\nZMQbg/3    19  31 jovyan    6r      CHR                1,9      0t0           177867 /dev/urandom\r\nZMQbg/3    19  31 jovyan    7u  a_inode               0,11        0            11923 [eventfd]\r\nZMQbg/3    19  31 jovyan    8u  a_inode               0,11        0            11923 [eventpoll]\r\nZMQbg/3    19  31 jovyan    9u  a_inode               0,11        0            11923 [eventfd]\r\nZMQbg/3    19  31 jovyan   10u  a_inode               0,11        0            11923 [eventpoll]\r\nZMQbg/3    19  31 jovyan   11u  a_inode               0,11        0            11923 [eventfd]\r\nZMQbg/3    19  31 jovyan   12u     IPv4             183100      0t0              TCP localhost:54603 (LISTEN)\r\nZMQbg/3    19  31 jovyan   13u  a_inode               0,11        0            11923 [eventfd]\r\nZMQbg/3    19  31 jovyan   14u     IPv4             183102      0t0              TCP localhost:37155 (LISTEN)\r\nZMQbg/3    19  31 jovyan   15u  a_inode               0,11        0            11923 [eventfd]\r\nZMQbg/3    19  31 jovyan   16u     IPv4             183104      0t0              TCP localhost:33055 (LISTEN)\r\nZMQbg/3    19  31 jovyan   17u  a_inode               0,11        0            11923 [eventfd]\r\nZMQbg/3    19  31 jovyan   18u     IPv4             183106      0t0              TCP localhost:39407 (LISTEN)\r\nZMQbg/3    19  31 jovyan   19u  a_inode               0,11        0            11923 [eventpoll]\r\nZMQbg/3    19  31 jovyan   20u     unix 0x0000000000000000      0t0           183107 type=STREAM\r\nZMQbg/3    19  31 jovyan   21u     unix 0x0000000000000000      0t0           183108 type=STREAM\r\nZMQbg/3    19  31 jovyan   22u  a_inode               0,11        0            11923 [eventfd]\r\nZMQbg/3    19  31 jovyan   23u     IPv4             183110      0t0              TCP localhost:43393 (LISTEN)\r\nZMQbg/3    19  31 jovyan   24u  a_inode               0,11        0            11923 [eventfd]\r\nZMQbg/3    19  31 jovyan   25u  a_inode               0,11        0            11923 [eventfd]\r\nZMQbg/3    19  31 jovyan   26u  a_inode               0,11        0            11923 [eventfd]\r\nZMQbg/3    19  31 jovyan   27u  a_inode               0,11        0            11923 [eventpoll]\r\nZMQbg/3    19  31 jovyan   28u  a_inode               0,11        0            11923 [eventfd]\r\nZMQbg/3    19  31 jovyan   29u  a_inode               0,11        0            11923 [eventpoll]\r\nZMQbg/3    19  31 jovyan   30u  a_inode               0,11        0            11923 [eventfd]\r\nZMQbg/3    19  31 jovyan   31u     IPv4             184683      0t0              TCP localhost:51695 (LISTEN)\r\nZMQbg/3    19  31 jovyan   32u  a_inode               0,11        0            11923 [eventpoll]\r\nZMQbg/3    19  31 jovyan   33u     unix 0x0000000000000000      0t0           184684 type=STREAM\r\nZMQbg/3    19  31 jovyan   34u     unix 0x0000000000000000      0t0           184685 type=STREAM\r\nZMQbg/3    19  31 jovyan   35u      REG                8,1    28672           262667 /home/jovyan/.ipython/profile_default/history.sqlite\r\nZMQbg/3    19  31 jovyan   36u      REG                8,1    28672           262667 /home/jovyan/.ipython/profile_default/history.sqlite\r\nZMQbg/3    19  31 jovyan   37u     IPv4             183114      0t0              TCP localhost:39407->localhost:50562 (ESTABLISHED)\r\nZMQbg/3    19  31 jovyan   38u     IPv4             183115      0t0              TCP localhost:33055->localhost:40336 (ESTABLISHED)\r\nZMQbg/3    19  31 jovyan   39u  a_inode               0,11        0            11923 [eventfd]\r\nZMQbg/3    19  31 jovyan   40u     IPv4             183150      0t0              TCP localhost:54603->localhost:35854 (ESTABLISHED)\r\nZMQbg/3    19  31 jovyan   41u     IPv4             183152      0t0              TCP localhost:39407->localhost:50580 (ESTABLISHED)\r\nZMQbg/3    19  31 jovyan   42u     IPv4             183154      0t0              TCP localhost:37155->localhost:36396 (ESTABLISHED)\r\nZMQbg/3    19  31 jovyan   43u  a_inode               0,11        0            11923 [eventfd]\r\nZMQbg/3    19  31 jovyan   47u      CHR                5,2      0t0                2 /dev/pts/ptmx\r\npython     19  32 jovyan  cwd       DIR               0,61     4096 9570149208167180 /home/jovyan/openforum2018\r\npython     19  32 jovyan  rtd       DIR               0,59     4096           181289 /\r\npython     19  32 jovyan  txt       REG                8,1    14857           529056 /opt/conda/bin/python3.6\r\npython     19  32 jovyan  mem       REG                8,1    47600           394414 /lib/x86_64-linux-gnu/libnss_files-2.23.so\r\npython     19  32 jovyan  mem       REG                8,1    47648           394418 /lib/x86_64-linux-gnu/libnss_nis-2.23.so\r\npython     19  32 jovyan  mem       REG                8,1    93128           394408 /lib/x86_64-linux-gnu/libnsl-2.23.so\r\npython     19  32 jovyan  mem       REG                8,1    35688           394410 /lib/x86_64-linux-gnu/libnss_compat-2.23.so\r\npython     19  32 jovyan  mem       REG                8,1  1686154           530853 /opt/conda/lib/python3.6/lib-dynload/_decimal.cpython-36m-x86_64-linux-gnu.so\r\npython     19  32 jovyan  mem       REG                8,1   375919           530873 /opt/conda/lib/python3.6/lib-dynload/_ssl.cpython-36m-x86_64-linux-gnu.so\r\npython     19  32 jovyan  mem       REG                8,1   194106           530836 /opt/conda/lib/python3.6/lib-dynload/_asyncio.cpython-36m-x86_64-linux-gnu.so\r\npython     19  32 jovyan  mem       REG                8,1    48787           530862 /opt/conda/lib/python3.6/lib-dynload/_multiprocessing.cpython-36m-x86_64-linux-gnu.so\r\npython     19  32 jovyan  mem       REG                8,1   316595           530850 /opt/conda/lib/python3.6/lib-dynload/_curses.cpython-36m-x86_64-linux-gnu.so\r\npython     19  32 jovyan  mem       REG                8,1    17873          1708597 /opt/conda/lib/python3.6/site-packages/tornado/speedups.cpython-36m-x86_64-linux-gnu.so\r\npython     19  32 jovyan  mem       REG                8,1    18976           394463 /lib/x86_64-linux-gnu/libuuid.so.1.3.0\r\npython     19  32 jovyan  mem       REG                8,1   228724          2230844 /opt/conda/lib/python3.6/site-packages/zmq/backend/cython/_device.cpython-36m-x86_64-linux-gnu.so\r\npython     19  32 jovyan  mem       REG                8,1    98032          2230846 /opt/conda/lib/python3.6/site-packages/zmq/backend/cython/_version.cpython-36m-x86_64-linux-gnu.so\r\npython     19  32 jovyan  mem       REG                8,1   327947          2230845 /opt/conda/lib/python3.6/site-packages/zmq/backend/cython/_poll.cpython-36m-x86_64-linux-gnu.so\r\npython     19  32 jovyan  mem       REG                8,1   149930          2230859 /opt/conda/lib/python3.6/site-packages/zmq/backend/cython/utils.cpython-36m-x86_64-linux-gnu.so\r\npython     19  32 jovyan  mem       REG                8,1   730559          2230857 /opt/conda/lib/python3.6/site-packages/zmq/backend/cython/socket.cpython-36m-x86_64-linux-gnu.so\r\npython     19  32 jovyan  mem       REG                8,1   311141          2230851 /opt/conda/lib/python3.6/site-packages/zmq/backend/cython/context.cpython-36m-x86_64-linux-gnu.so\r\npython     19  32 jovyan  mem       REG                8,1   452817          2230855 /opt/conda/lib/python3.6/site-packages/zmq/backend/cython/message.cpython-36m-x86_64-linux-gnu.so\r\npython     19  32 jovyan  mem       REG                8,1   115893          2230853 /opt/conda/lib/python3.6/site-packages/zmq/backend/cython/error.cpython-36m-x86_64-linux-gnu.so\r\npython     19  32 jovyan  mem       REG                8,1   706232           529510 /opt/conda/lib/libgcc_s.so.1\r\npython     19  32 jovyan  mem       REG                8,1  8167184           529575 /opt/conda/lib/libstdc++.so.6.0.24\r\npython     19  32 jovyan  mem       REG                8,1  1289027           661987 /opt/conda/lib/libzmq.so.5.1.5\r\npython     19  32 jovyan  mem       REG                8,1   228614          2230849 /opt/conda/lib/python3.6/site-packages/zmq/backend/cython/constants.cpython-36m-x86_64-linux-gnu.so\r\npython     19  32 jovyan  mem       REG                8,1   617309           530848 /opt/conda/lib/python3.6/lib-dynload/_ctypes.cpython-36m-x86_64-linux-gnu.so\r\npython     19  32 jovyan  mem       REG                8,1    64549           530858 /opt/conda/lib/python3.6/lib-dynload/_lsprof.cpython-36m-x86_64-linux-gnu.so\r\npython     19  32 jovyan  mem       REG                8,1   339757           530871 /opt/conda/lib/python3.6/lib-dynload/_socket.cpython-36m-x86_64-linux-gnu.so\r\npython     19  32 jovyan  mem       REG                8,1   963624           530898 /opt/conda/lib/python3.6/lib-dynload/unicodedata.cpython-36m-x86_64-linux-gnu.so\r\npython     19  32 jovyan  mem       REG                8,1   187746           530880 /opt/conda/lib/python3.6/lib-dynload/array.cpython-36m-x86_64-linux-gnu.so\r\npython     19  32 jovyan  mem       REG                8,1   249585           529581 /opt/conda/lib/libtinfo.so.5.9\r\npython     19  32 jovyan  mem       REG                8,1   176142           529542 /opt/conda/lib/libncurses.so.5.9\r\npython     19  32 jovyan  mem       REG                8,1  1165114           529569 /opt/conda/lib/libsqlite3.so.0.8.6\r\npython     19  32 jovyan  mem       REG                8,1   295030           530872 /opt/conda/lib/python3.6/lib-dynload/_sqlite3.cpython-36m-x86_64-linux-gnu.so\r\npython     19  32 jovyan  mem       REG                8,1   433613           530864 /opt/conda/lib/python3.6/lib-dynload/_pickle.cpython-36m-x86_64-linux-gnu.so\r\npython     19  32 jovyan  mem       REG                8,1   470165           530852 /opt/conda/lib/python3.6/lib-dynload/_datetime.cpython-36m-x86_64-linux-gnu.so\r\npython     19  32 jovyan  mem       REG                8,1    78638           530882 /opt/conda/lib/python3.6/lib-dynload/binascii.cpython-36m-x86_64-linux-gnu.so\r\npython     19  32 jovyan  mem       REG                8,1    32268           530893 /opt/conda/lib/python3.6/lib-dynload/resource.cpython-36m-x86_64-linux-gnu.so\r\npython     19  32 jovyan  mem       REG                8,1    41463           530884 /opt/conda/lib/python3.6/lib-dynload/fcntl.cpython-36m-x86_64-linux-gnu.so\r\npython     19  32 jovyan  mem       REG                8,1    46964           530897 /opt/conda/lib/python3.6/lib-dynload/termios.cpython-36m-x86_64-linux-gnu.so\r\npython     19  32 jovyan  mem       REG                8,1    37999           530866 /opt/conda/lib/python3.6/lib-dynload/_random.cpython-36m-x86_64-linux-gnu.so\r\npython     19  32 jovyan  mem       REG                8,1    33663           530837 /opt/conda/lib/python3.6/lib-dynload/_bisect.cpython-36m-x86_64-linux-gnu.so\r\npython     19  32 jovyan  mem       REG                8,1   355122           530869 /opt/conda/lib/python3.6/lib-dynload/_sha3.cpython-36m-x86_64-linux-gnu.so\r\npython     19  32 jovyan  mem       REG                8,1   329909           530838 /opt/conda/lib/python3.6/lib-dynload/_blake2.cpython-36m-x86_64-linux-gnu.so\r\npython     19  32 jovyan  mem       REG                8,1  2692340           529490 /opt/conda/lib/libcrypto.so.1.0.0\r\npython     19  32 jovyan  mem       REG                8,1   549929           529572 /opt/conda/lib/libssl.so.1.0.0\r\npython     19  32 jovyan  mem       REG                8,1    92355           530855 /opt/conda/lib/python3.6/lib-dynload/_hashlib.cpython-36m-x86_64-linux-gnu.so\r\npython     19  32 jovyan  mem       REG                8,1   159628           530874 /opt/conda/lib/python3.6/lib-dynload/_struct.cpython-36m-x86_64-linux-gnu.so\r\npython     19  32 jovyan  mem       REG                8,1    20447           530863 /opt/conda/lib/python3.6/lib-dynload/_opcode.cpython-36m-x86_64-linux-gnu.so\r\npython     19  32 jovyan  mem       REG                8,1    35500           530885 /opt/conda/lib/python3.6/lib-dynload/grp.cpython-36m-x86_64-linux-gnu.so\r\npython     19  32 jovyan  mem       REG                8,1   803563           529528 /opt/conda/lib/liblzma.so.5.2.3\r\npython     19  32 jovyan  mem       REG                8,1   117498           530859 /opt/conda/lib/python3.6/lib-dynload/_lzma.cpython-36m-x86_64-linux-gnu.so\r\npython     19  32 jovyan  mem       REG                8,1   269237           530839 /opt/conda/lib/python3.6/lib-dynload/_bz2.cpython-36m-x86_64-linux-gnu.so\r\npython     19  32 jovyan  mem       REG                8,1   127973           529602 /opt/conda/lib/libz.so.1.2.11\r\npython     19  32 jovyan  mem       REG                8,1   116664           530900 /opt/conda/lib/python3.6/lib-dynload/zlib.cpython-36m-x86_64-linux-gnu.so\r\npython     19  32 jovyan  mem       REG                8,1   210293           530886 /opt/conda/lib/python3.6/lib-dynload/math.cpython-36m-x86_64-linux-gnu.so\r\npython     19  32 jovyan  mem       REG                8,1    79124           530894 /opt/conda/lib/python3.6/lib-dynload/select.cpython-36m-x86_64-linux-gnu.so\r\npython     19  32 jovyan  mem       REG                8,1    85443           530865 /opt/conda/lib/python3.6/lib-dynload/_posixsubprocess.cpython-36m-x86_64-linux-gnu.so\r\npython     19  32 jovyan  mem       REG                8,1   164929           530857 /opt/conda/lib/python3.6/lib-dynload/_json.cpython-36m-x86_64-linux-gnu.so\r\npython     19  32 jovyan  mem       REG                8,1    47058           530856 /opt/conda/lib/python3.6/lib-dynload/_heapq.cpython-36m-x86_64-linux-gnu.so\r\npython     19  32 jovyan  mem       REG                8,1  1868984           394365 /lib/x86_64-linux-gnu/libc-2.23.so\r\npython     19  32 jovyan  mem       REG                8,1  1088952           394397 /lib/x86_64-linux-gnu/libm-2.23.so\r\npython     19  32 jovyan  mem       REG                8,1    31712           394440 /lib/x86_64-linux-gnu/librt-2.23.so\r\npython     19  32 jovyan  mem       REG                8,1    10656           394460 /lib/x86_64-linux-gnu/libutil-2.23.so\r\npython     19  32 jovyan  mem       REG                8,1    14608           394378 /lib/x86_64-linux-gnu/libdl-2.23.so\r\npython     19  32 jovyan  mem       REG                8,1   138696           394433 /lib/x86_64-linux-gnu/libpthread-2.23.so\r\npython     19  32 jovyan  mem       REG                8,1 12444567           529556 /opt/conda/lib/libpython3.6m.so.1.0\r\npython     19  32 jovyan  mem       REG                8,1   162632           394345 /lib/x86_64-linux-gnu/ld-2.23.so\r\npython     19  32 jovyan  mem       REG                8,1    26258           395222 /usr/lib/x86_64-linux-gnu/gconv/gconv-modules.cache\r\npython     19  32 jovyan  mem       REG                8,1  1668976           656066 /usr/lib/locale/locale-archive\r\npython     19  32 jovyan    0r     FIFO               0,10      0t0           183037 pipe\r\npython     19  32 jovyan    1w     FIFO               0,10      0t0           177822 pipe\r\npython     19  32 jovyan    2w     FIFO               0,10      0t0           177823 pipe\r\npython     19  32 jovyan    3r      CHR                1,9      0t0           177867 /dev/urandom\r\npython     19  32 jovyan    4w      CHR                1,3      0t0           177862 /dev/null\r\npython     19  32 jovyan    5u  a_inode               0,11        0            11923 [eventfd]\r\npython     19  32 jovyan    6r      CHR                1,9      0t0           177867 /dev/urandom\r\npython     19  32 jovyan    7u  a_inode               0,11        0            11923 [eventfd]\r\npython     19  32 jovyan    8u  a_inode               0,11        0            11923 [eventpoll]\r\npython     19  32 jovyan    9u  a_inode               0,11        0            11923 [eventfd]\r\npython     19  32 jovyan   10u  a_inode               0,11        0            11923 [eventpoll]\r\npython     19  32 jovyan   11u  a_inode               0,11        0            11923 [eventfd]\r\npython     19  32 jovyan   12u     IPv4             183100      0t0              TCP localhost:54603 (LISTEN)\r\npython     19  32 jovyan   13u  a_inode               0,11        0            11923 [eventfd]\r\npython     19  32 jovyan   14u     IPv4             183102      0t0              TCP localhost:37155 (LISTEN)\r\npython     19  32 jovyan   15u  a_inode               0,11        0            11923 [eventfd]\r\npython     19  32 jovyan   16u     IPv4             183104      0t0              TCP localhost:33055 (LISTEN)\r\npython     19  32 jovyan   17u  a_inode               0,11        0            11923 [eventfd]\r\npython     19  32 jovyan   18u     IPv4             183106      0t0              TCP localhost:39407 (LISTEN)\r\npython     19  32 jovyan   19u  a_inode               0,11        0            11923 [eventpoll]\r\npython     19  32 jovyan   20u     unix 0x0000000000000000      0t0           183107 type=STREAM\r\npython     19  32 jovyan   21u     unix 0x0000000000000000      0t0           183108 type=STREAM\r\npython     19  32 jovyan   22u  a_inode               0,11        0            11923 [eventfd]\r\npython     19  32 jovyan   23u     IPv4             183110      0t0              TCP localhost:43393 (LISTEN)\r\npython     19  32 jovyan   24u  a_inode               0,11        0            11923 [eventfd]\r\npython     19  32 jovyan   25u  a_inode               0,11        0            11923 [eventfd]\r\npython     19  32 jovyan   26u  a_inode               0,11        0            11923 [eventfd]\r\npython     19  32 jovyan   27u  a_inode               0,11        0            11923 [eventpoll]\r\npython     19  32 jovyan   28u  a_inode               0,11        0            11923 [eventfd]\r\npython     19  32 jovyan   29u  a_inode               0,11        0            11923 [eventpoll]\r\npython     19  32 jovyan   30u  a_inode               0,11        0            11923 [eventfd]\r\npython     19  32 jovyan   31u     IPv4             184683      0t0              TCP localhost:51695 (LISTEN)\r\npython     19  32 jovyan   32u  a_inode               0,11        0            11923 [eventpoll]\r\npython     19  32 jovyan   33u     unix 0x0000000000000000      0t0           184684 type=STREAM\r\npython     19  32 jovyan   34u     unix 0x0000000000000000      0t0           184685 type=STREAM\r\npython     19  32 jovyan   35u      REG                8,1    28672           262667 /home/jovyan/.ipython/profile_default/history.sqlite\r\npython     19  32 jovyan   36u      REG                8,1    28672           262667 /home/jovyan/.ipython/profile_default/history.sqlite\r\npython     19  32 jovyan   37u     IPv4             183114      0t0              TCP localhost:39407->localhost:50562 (ESTABLISHED)\r\npython     19  32 jovyan   38u     IPv4             183115      0t0              TCP localhost:33055->localhost:40336 (ESTABLISHED)\r\npython     19  32 jovyan   39u  a_inode               0,11        0            11923 [eventfd]\r\npython     19  32 jovyan   40u     IPv4             183150      0t0              TCP localhost:54603->localhost:35854 (ESTABLISHED)\r\npython     19  32 jovyan   41u     IPv4             183152      0t0              TCP localhost:39407->localhost:50580 (ESTABLISHED)\r\npython     19  32 jovyan   42u     IPv4             183154      0t0              TCP localhost:37155->localhost:36396 (ESTABLISHED)\r\npython     19  32 jovyan   43u  a_inode               0,11        0            11923 [eventfd]\r\npython     19  32 jovyan   47u      CHR                5,2      0t0                2 /dev/pts/ptmx\r\npython     19  33 jovyan  cwd       DIR               0,61     4096 9570149208167180 /home/jovyan/openforum2018\r\npython     19  33 jovyan  rtd       DIR               0,59     4096           181289 /\r\npython     19  33 jovyan  txt       REG                8,1    14857           529056 /opt/conda/bin/python3.6\r\npython     19  33 jovyan  mem       REG                8,1    47600           394414 /lib/x86_64-linux-gnu/libnss_files-2.23.so\r\npython     19  33 jovyan  mem       REG                8,1    47648           394418 /lib/x86_64-linux-gnu/libnss_nis-2.23.so\r\npython     19  33 jovyan  mem       REG                8,1    93128           394408 /lib/x86_64-linux-gnu/libnsl-2.23.so\r\npython     19  33 jovyan  mem       REG                8,1    35688           394410 /lib/x86_64-linux-gnu/libnss_compat-2.23.so\r\npython     19  33 jovyan  mem       REG                8,1  1686154           530853 /opt/conda/lib/python3.6/lib-dynload/_decimal.cpython-36m-x86_64-linux-gnu.so\r\npython     19  33 jovyan  mem       REG                8,1   375919           530873 /opt/conda/lib/python3.6/lib-dynload/_ssl.cpython-36m-x86_64-linux-gnu.so\r\npython     19  33 jovyan  mem       REG                8,1   194106           530836 /opt/conda/lib/python3.6/lib-dynload/_asyncio.cpython-36m-x86_64-linux-gnu.so\r\npython     19  33 jovyan  mem       REG                8,1    48787           530862 /opt/conda/lib/python3.6/lib-dynload/_multiprocessing.cpython-36m-x86_64-linux-gnu.so\r\npython     19  33 jovyan  mem       REG                8,1   316595           530850 /opt/conda/lib/python3.6/lib-dynload/_curses.cpython-36m-x86_64-linux-gnu.so\r\npython     19  33 jovyan  mem       REG                8,1    17873          1708597 /opt/conda/lib/python3.6/site-packages/tornado/speedups.cpython-36m-x86_64-linux-gnu.so\r\npython     19  33 jovyan  mem       REG                8,1    18976           394463 /lib/x86_64-linux-gnu/libuuid.so.1.3.0\r\npython     19  33 jovyan  mem       REG                8,1   228724          2230844 /opt/conda/lib/python3.6/site-packages/zmq/backend/cython/_device.cpython-36m-x86_64-linux-gnu.so\r\npython     19  33 jovyan  mem       REG                8,1    98032          2230846 /opt/conda/lib/python3.6/site-packages/zmq/backend/cython/_version.cpython-36m-x86_64-linux-gnu.so\r\npython     19  33 jovyan  mem       REG                8,1   327947          2230845 /opt/conda/lib/python3.6/site-packages/zmq/backend/cython/_poll.cpython-36m-x86_64-linux-gnu.so\r\npython     19  33 jovyan  mem       REG                8,1   149930          2230859 /opt/conda/lib/python3.6/site-packages/zmq/backend/cython/utils.cpython-36m-x86_64-linux-gnu.so\r\npython     19  33 jovyan  mem       REG                8,1   730559          2230857 /opt/conda/lib/python3.6/site-packages/zmq/backend/cython/socket.cpython-36m-x86_64-linux-gnu.so\r\npython     19  33 jovyan  mem       REG                8,1   311141          2230851 /opt/conda/lib/python3.6/site-packages/zmq/backend/cython/context.cpython-36m-x86_64-linux-gnu.so\r\npython     19  33 jovyan  mem       REG                8,1   452817          2230855 /opt/conda/lib/python3.6/site-packages/zmq/backend/cython/message.cpython-36m-x86_64-linux-gnu.so\r\npython     19  33 jovyan  mem       REG                8,1   115893          2230853 /opt/conda/lib/python3.6/site-packages/zmq/backend/cython/error.cpython-36m-x86_64-linux-gnu.so\r\npython     19  33 jovyan  mem       REG                8,1   706232           529510 /opt/conda/lib/libgcc_s.so.1\r\npython     19  33 jovyan  mem       REG                8,1  8167184           529575 /opt/conda/lib/libstdc++.so.6.0.24\r\npython     19  33 jovyan  mem       REG                8,1  1289027           661987 /opt/conda/lib/libzmq.so.5.1.5\r\npython     19  33 jovyan  mem       REG                8,1   228614          2230849 /opt/conda/lib/python3.6/site-packages/zmq/backend/cython/constants.cpython-36m-x86_64-linux-gnu.so\r\npython     19  33 jovyan  mem       REG                8,1   617309           530848 /opt/conda/lib/python3.6/lib-dynload/_ctypes.cpython-36m-x86_64-linux-gnu.so\r\npython     19  33 jovyan  mem       REG                8,1    64549           530858 /opt/conda/lib/python3.6/lib-dynload/_lsprof.cpython-36m-x86_64-linux-gnu.so\r\npython     19  33 jovyan  mem       REG                8,1   339757           530871 /opt/conda/lib/python3.6/lib-dynload/_socket.cpython-36m-x86_64-linux-gnu.so\r\npython     19  33 jovyan  mem       REG                8,1   963624           530898 /opt/conda/lib/python3.6/lib-dynload/unicodedata.cpython-36m-x86_64-linux-gnu.so\r\npython     19  33 jovyan  mem       REG                8,1   187746           530880 /opt/conda/lib/python3.6/lib-dynload/array.cpython-36m-x86_64-linux-gnu.so\r\npython     19  33 jovyan  mem       REG                8,1   249585           529581 /opt/conda/lib/libtinfo.so.5.9\r\npython     19  33 jovyan  mem       REG                8,1   176142           529542 /opt/conda/lib/libncurses.so.5.9\r\npython     19  33 jovyan  mem       REG                8,1  1165114           529569 /opt/conda/lib/libsqlite3.so.0.8.6\r\npython     19  33 jovyan  mem       REG                8,1   295030           530872 /opt/conda/lib/python3.6/lib-dynload/_sqlite3.cpython-36m-x86_64-linux-gnu.so\r\npython     19  33 jovyan  mem       REG                8,1   433613           530864 /opt/conda/lib/python3.6/lib-dynload/_pickle.cpython-36m-x86_64-linux-gnu.so\r\npython     19  33 jovyan  mem       REG                8,1   470165           530852 /opt/conda/lib/python3.6/lib-dynload/_datetime.cpython-36m-x86_64-linux-gnu.so\r\npython     19  33 jovyan  mem       REG                8,1    78638           530882 /opt/conda/lib/python3.6/lib-dynload/binascii.cpython-36m-x86_64-linux-gnu.so\r\npython     19  33 jovyan  mem       REG                8,1    32268           530893 /opt/conda/lib/python3.6/lib-dynload/resource.cpython-36m-x86_64-linux-gnu.so\r\npython     19  33 jovyan  mem       REG                8,1    41463           530884 /opt/conda/lib/python3.6/lib-dynload/fcntl.cpython-36m-x86_64-linux-gnu.so\r\npython     19  33 jovyan  mem       REG                8,1    46964           530897 /opt/conda/lib/python3.6/lib-dynload/termios.cpython-36m-x86_64-linux-gnu.so\r\npython     19  33 jovyan  mem       REG                8,1    37999           530866 /opt/conda/lib/python3.6/lib-dynload/_random.cpython-36m-x86_64-linux-gnu.so\r\npython     19  33 jovyan  mem       REG                8,1    33663           530837 /opt/conda/lib/python3.6/lib-dynload/_bisect.cpython-36m-x86_64-linux-gnu.so\r\npython     19  33 jovyan  mem       REG                8,1   355122           530869 /opt/conda/lib/python3.6/lib-dynload/_sha3.cpython-36m-x86_64-linux-gnu.so\r\npython     19  33 jovyan  mem       REG                8,1   329909           530838 /opt/conda/lib/python3.6/lib-dynload/_blake2.cpython-36m-x86_64-linux-gnu.so\r\npython     19  33 jovyan  mem       REG                8,1  2692340           529490 /opt/conda/lib/libcrypto.so.1.0.0\r\npython     19  33 jovyan  mem       REG                8,1   549929           529572 /opt/conda/lib/libssl.so.1.0.0\r\npython     19  33 jovyan  mem       REG                8,1    92355           530855 /opt/conda/lib/python3.6/lib-dynload/_hashlib.cpython-36m-x86_64-linux-gnu.so\r\npython     19  33 jovyan  mem       REG                8,1   159628           530874 /opt/conda/lib/python3.6/lib-dynload/_struct.cpython-36m-x86_64-linux-gnu.so\r\npython     19  33 jovyan  mem       REG                8,1    20447           530863 /opt/conda/lib/python3.6/lib-dynload/_opcode.cpython-36m-x86_64-linux-gnu.so\r\npython     19  33 jovyan  mem       REG                8,1    35500           530885 /opt/conda/lib/python3.6/lib-dynload/grp.cpython-36m-x86_64-linux-gnu.so\r\npython     19  33 jovyan  mem       REG                8,1   803563           529528 /opt/conda/lib/liblzma.so.5.2.3\r\npython     19  33 jovyan  mem       REG                8,1   117498           530859 /opt/conda/lib/python3.6/lib-dynload/_lzma.cpython-36m-x86_64-linux-gnu.so\r\npython     19  33 jovyan  mem       REG                8,1   269237           530839 /opt/conda/lib/python3.6/lib-dynload/_bz2.cpython-36m-x86_64-linux-gnu.so\r\npython     19  33 jovyan  mem       REG                8,1   127973           529602 /opt/conda/lib/libz.so.1.2.11\r\npython     19  33 jovyan  mem       REG                8,1   116664           530900 /opt/conda/lib/python3.6/lib-dynload/zlib.cpython-36m-x86_64-linux-gnu.so\r\npython     19  33 jovyan  mem       REG                8,1   210293           530886 /opt/conda/lib/python3.6/lib-dynload/math.cpython-36m-x86_64-linux-gnu.so\r\npython     19  33 jovyan  mem       REG                8,1    79124           530894 /opt/conda/lib/python3.6/lib-dynload/select.cpython-36m-x86_64-linux-gnu.so\r\npython     19  33 jovyan  mem       REG                8,1    85443           530865 /opt/conda/lib/python3.6/lib-dynload/_posixsubprocess.cpython-36m-x86_64-linux-gnu.so\r\npython     19  33 jovyan  mem       REG                8,1   164929           530857 /opt/conda/lib/python3.6/lib-dynload/_json.cpython-36m-x86_64-linux-gnu.so\r\npython     19  33 jovyan  mem       REG                8,1    47058           530856 /opt/conda/lib/python3.6/lib-dynload/_heapq.cpython-36m-x86_64-linux-gnu.so\r\npython     19  33 jovyan  mem       REG                8,1  1868984           394365 /lib/x86_64-linux-gnu/libc-2.23.so\r\npython     19  33 jovyan  mem       REG                8,1  1088952           394397 /lib/x86_64-linux-gnu/libm-2.23.so\r\npython     19  33 jovyan  mem       REG                8,1    31712           394440 /lib/x86_64-linux-gnu/librt-2.23.so\r\npython     19  33 jovyan  mem       REG                8,1    10656           394460 /lib/x86_64-linux-gnu/libutil-2.23.so\r\npython     19  33 jovyan  mem       REG                8,1    14608           394378 /lib/x86_64-linux-gnu/libdl-2.23.so\r\npython     19  33 jovyan  mem       REG                8,1   138696           394433 /lib/x86_64-linux-gnu/libpthread-2.23.so\r\npython     19  33 jovyan  mem       REG                8,1 12444567           529556 /opt/conda/lib/libpython3.6m.so.1.0\r\npython     19  33 jovyan  mem       REG                8,1   162632           394345 /lib/x86_64-linux-gnu/ld-2.23.so\r\npython     19  33 jovyan  mem       REG                8,1    26258           395222 /usr/lib/x86_64-linux-gnu/gconv/gconv-modules.cache\r\npython     19  33 jovyan  mem       REG                8,1  1668976           656066 /usr/lib/locale/locale-archive\r\npython     19  33 jovyan    0r     FIFO               0,10      0t0           183037 pipe\r\npython     19  33 jovyan    1w     FIFO               0,10      0t0           177822 pipe\r\npython     19  33 jovyan    2w     FIFO               0,10      0t0           177823 pipe\r\npython     19  33 jovyan    3r      CHR                1,9      0t0           177867 /dev/urandom\r\npython     19  33 jovyan    4w      CHR                1,3      0t0           177862 /dev/null\r\npython     19  33 jovyan    5u  a_inode               0,11        0            11923 [eventfd]\r\npython     19  33 jovyan    6r      CHR                1,9      0t0           177867 /dev/urandom\r\npython     19  33 jovyan    7u  a_inode               0,11        0            11923 [eventfd]\r\npython     19  33 jovyan    8u  a_inode               0,11        0            11923 [eventpoll]\r\npython     19  33 jovyan    9u  a_inode               0,11        0            11923 [eventfd]\r\npython     19  33 jovyan   10u  a_inode               0,11        0            11923 [eventpoll]\r\npython     19  33 jovyan   11u  a_inode               0,11        0            11923 [eventfd]\r\npython     19  33 jovyan   12u     IPv4             183100      0t0              TCP localhost:54603 (LISTEN)\r\npython     19  33 jovyan   13u  a_inode               0,11        0            11923 [eventfd]\r\npython     19  33 jovyan   14u     IPv4             183102      0t0              TCP localhost:37155 (LISTEN)\r\npython     19  33 jovyan   15u  a_inode               0,11        0            11923 [eventfd]\r\npython     19  33 jovyan   16u     IPv4             183104      0t0              TCP localhost:33055 (LISTEN)\r\npython     19  33 jovyan   17u  a_inode               0,11        0            11923 [eventfd]\r\npython     19  33 jovyan   18u     IPv4             183106      0t0              TCP localhost:39407 (LISTEN)\r\npython     19  33 jovyan   19u  a_inode               0,11        0            11923 [eventpoll]\r\npython     19  33 jovyan   20u     unix 0x0000000000000000      0t0           183107 type=STREAM\r\npython     19  33 jovyan   21u     unix 0x0000000000000000      0t0           183108 type=STREAM\r\npython     19  33 jovyan   22u  a_inode               0,11        0            11923 [eventfd]\r\npython     19  33 jovyan   23u     IPv4             183110      0t0              TCP localhost:43393 (LISTEN)\r\npython     19  33 jovyan   24u  a_inode               0,11        0            11923 [eventfd]\r\npython     19  33 jovyan   25u  a_inode               0,11        0            11923 [eventfd]\r\npython     19  33 jovyan   26u  a_inode               0,11        0            11923 [eventfd]\r\npython     19  33 jovyan   27u  a_inode               0,11        0            11923 [eventpoll]\r\npython     19  33 jovyan   28u  a_inode               0,11        0            11923 [eventfd]\r\npython     19  33 jovyan   29u  a_inode               0,11        0            11923 [eventpoll]\r\npython     19  33 jovyan   30u  a_inode               0,11        0            11923 [eventfd]\r\npython     19  33 jovyan   31u     IPv4             184683      0t0              TCP localhost:51695 (LISTEN)\r\npython     19  33 jovyan   32u  a_inode               0,11        0            11923 [eventpoll]\r\npython     19  33 jovyan   33u     unix 0x0000000000000000      0t0           184684 type=STREAM\r\npython     19  33 jovyan   34u     unix 0x0000000000000000      0t0           184685 type=STREAM\r\npython     19  33 jovyan   35u      REG                8,1    28672           262667 /home/jovyan/.ipython/profile_default/history.sqlite\r\npython     19  33 jovyan   36u      REG                8,1    28672           262667 /home/jovyan/.ipython/profile_default/history.sqlite\r\npython     19  33 jovyan   37u     IPv4             183114      0t0              TCP localhost:39407->localhost:50562 (ESTABLISHED)\r\npython     19  33 jovyan   38u     IPv4             183115      0t0              TCP localhost:33055->localhost:40336 (ESTABLISHED)\r\npython     19  33 jovyan   39u  a_inode               0,11        0            11923 [eventfd]\r\npython     19  33 jovyan   40u     IPv4             183150      0t0              TCP localhost:54603->localhost:35854 (ESTABLISHED)\r\npython     19  33 jovyan   41u     IPv4             183152      0t0              TCP localhost:39407->localhost:50580 (ESTABLISHED)\r\npython     19  33 jovyan   42u     IPv4             183154      0t0              TCP localhost:37155->localhost:36396 (ESTABLISHED)\r\npython     19  33 jovyan   43u  a_inode               0,11        0            11923 [eventfd]\r\npython     19  33 jovyan   47u      CHR                5,2      0t0                2 /dev/pts/ptmx\r\npython     34     jovyan  cwd       DIR               0,61     4096 9570149208167180 /home/jovyan/openforum2018\r\npython     34     jovyan  rtd       DIR               0,59     4096           181289 /\r\npython     34     jovyan  txt       REG                8,1    14857           529056 /opt/conda/bin/python3.6\r\npython     34     jovyan  mem       REG                8,1  1686154           530853 /opt/conda/lib/python3.6/lib-dynload/_decimal.cpython-36m-x86_64-linux-gnu.so\r\npython     34     jovyan  mem       REG                8,1   375919           530873 /opt/conda/lib/python3.6/lib-dynload/_ssl.cpython-36m-x86_64-linux-gnu.so\r\npython     34     jovyan  mem       REG                8,1   194106           530836 /opt/conda/lib/python3.6/lib-dynload/_asyncio.cpython-36m-x86_64-linux-gnu.so\r\npython     34     jovyan  mem       REG                8,1    48787           530862 /opt/conda/lib/python3.6/lib-dynload/_multiprocessing.cpython-36m-x86_64-linux-gnu.so\r\npython     34     jovyan  mem       REG                8,1   316595           530850 /opt/conda/lib/python3.6/lib-dynload/_curses.cpython-36m-x86_64-linux-gnu.so\r\npython     34     jovyan  mem       REG                8,1    17873          1708597 /opt/conda/lib/python3.6/site-packages/tornado/speedups.cpython-36m-x86_64-linux-gnu.so\r\npython     34     jovyan  mem       REG                8,1    18976           394463 /lib/x86_64-linux-gnu/libuuid.so.1.3.0\r\npython     34     jovyan  mem       REG                8,1   228724          2230844 /opt/conda/lib/python3.6/site-packages/zmq/backend/cython/_device.cpython-36m-x86_64-linux-gnu.so\r\n"
       },
       {
        "name": "stdout",
        "output_type": "stream",
        "text": "python     34     jovyan  mem       REG                8,1    98032          2230846 /opt/conda/lib/python3.6/site-packages/zmq/backend/cython/_version.cpython-36m-x86_64-linux-gnu.so\r\npython     34     jovyan  mem       REG                8,1   327947          2230845 /opt/conda/lib/python3.6/site-packages/zmq/backend/cython/_poll.cpython-36m-x86_64-linux-gnu.so\r\npython     34     jovyan  mem       REG                8,1   149930          2230859 /opt/conda/lib/python3.6/site-packages/zmq/backend/cython/utils.cpython-36m-x86_64-linux-gnu.so\r\npython     34     jovyan  mem       REG                8,1   730559          2230857 /opt/conda/lib/python3.6/site-packages/zmq/backend/cython/socket.cpython-36m-x86_64-linux-gnu.so\r\npython     34     jovyan  mem       REG                8,1   311141          2230851 /opt/conda/lib/python3.6/site-packages/zmq/backend/cython/context.cpython-36m-x86_64-linux-gnu.so\r\npython     34     jovyan  mem       REG                8,1   452817          2230855 /opt/conda/lib/python3.6/site-packages/zmq/backend/cython/message.cpython-36m-x86_64-linux-gnu.so\r\npython     34     jovyan  mem       REG                8,1   115893          2230853 /opt/conda/lib/python3.6/site-packages/zmq/backend/cython/error.cpython-36m-x86_64-linux-gnu.so\r\npython     34     jovyan  mem       REG                8,1   706232           529510 /opt/conda/lib/libgcc_s.so.1\r\npython     34     jovyan  mem       REG                8,1  8167184           529575 /opt/conda/lib/libstdc++.so.6.0.24\r\npython     34     jovyan  mem       REG                8,1  1289027           661987 /opt/conda/lib/libzmq.so.5.1.5\r\npython     34     jovyan  mem       REG                8,1   228614          2230849 /opt/conda/lib/python3.6/site-packages/zmq/backend/cython/constants.cpython-36m-x86_64-linux-gnu.so\r\npython     34     jovyan  mem       REG                8,1   617309           530848 /opt/conda/lib/python3.6/lib-dynload/_ctypes.cpython-36m-x86_64-linux-gnu.so\r\npython     34     jovyan  mem       REG                8,1    64549           530858 /opt/conda/lib/python3.6/lib-dynload/_lsprof.cpython-36m-x86_64-linux-gnu.so\r\npython     34     jovyan  mem       REG                8,1   339757           530871 /opt/conda/lib/python3.6/lib-dynload/_socket.cpython-36m-x86_64-linux-gnu.so\r\npython     34     jovyan  mem       REG                8,1   963624           530898 /opt/conda/lib/python3.6/lib-dynload/unicodedata.cpython-36m-x86_64-linux-gnu.so\r\npython     34     jovyan  mem       REG                8,1   187746           530880 /opt/conda/lib/python3.6/lib-dynload/array.cpython-36m-x86_64-linux-gnu.so\r\npython     34     jovyan  mem       REG                8,1   249585           529581 /opt/conda/lib/libtinfo.so.5.9\r\npython     34     jovyan  mem       REG                8,1   176142           529542 /opt/conda/lib/libncurses.so.5.9\r\npython     34     jovyan  mem       REG                8,1  1165114           529569 /opt/conda/lib/libsqlite3.so.0.8.6\r\npython     34     jovyan  mem       REG                8,1   295030           530872 /opt/conda/lib/python3.6/lib-dynload/_sqlite3.cpython-36m-x86_64-linux-gnu.so\r\npython     34     jovyan  mem       REG                8,1   433613           530864 /opt/conda/lib/python3.6/lib-dynload/_pickle.cpython-36m-x86_64-linux-gnu.so\r\npython     34     jovyan  mem       REG                8,1   470165           530852 /opt/conda/lib/python3.6/lib-dynload/_datetime.cpython-36m-x86_64-linux-gnu.so\r\npython     34     jovyan  mem       REG                8,1    78638           530882 /opt/conda/lib/python3.6/lib-dynload/binascii.cpython-36m-x86_64-linux-gnu.so\r\npython     34     jovyan  mem       REG                8,1    32268           530893 /opt/conda/lib/python3.6/lib-dynload/resource.cpython-36m-x86_64-linux-gnu.so\r\npython     34     jovyan  mem       REG                8,1    41463           530884 /opt/conda/lib/python3.6/lib-dynload/fcntl.cpython-36m-x86_64-linux-gnu.so\r\npython     34     jovyan  mem       REG                8,1    46964           530897 /opt/conda/lib/python3.6/lib-dynload/termios.cpython-36m-x86_64-linux-gnu.so\r\npython     34     jovyan  mem       REG                8,1    37999           530866 /opt/conda/lib/python3.6/lib-dynload/_random.cpython-36m-x86_64-linux-gnu.so\r\npython     34     jovyan  mem       REG                8,1    33663           530837 /opt/conda/lib/python3.6/lib-dynload/_bisect.cpython-36m-x86_64-linux-gnu.so\r\npython     34     jovyan  mem       REG                8,1   355122           530869 /opt/conda/lib/python3.6/lib-dynload/_sha3.cpython-36m-x86_64-linux-gnu.so\r\npython     34     jovyan  mem       REG                8,1   329909           530838 /opt/conda/lib/python3.6/lib-dynload/_blake2.cpython-36m-x86_64-linux-gnu.so\r\npython     34     jovyan  mem       REG                8,1  2692340           529490 /opt/conda/lib/libcrypto.so.1.0.0\r\npython     34     jovyan  mem       REG                8,1   549929           529572 /opt/conda/lib/libssl.so.1.0.0\r\npython     34     jovyan  mem       REG                8,1    92355           530855 /opt/conda/lib/python3.6/lib-dynload/_hashlib.cpython-36m-x86_64-linux-gnu.so\r\npython     34     jovyan  mem       REG                8,1   159628           530874 /opt/conda/lib/python3.6/lib-dynload/_struct.cpython-36m-x86_64-linux-gnu.so\r\npython     34     jovyan  mem       REG                8,1    20447           530863 /opt/conda/lib/python3.6/lib-dynload/_opcode.cpython-36m-x86_64-linux-gnu.so\r\npython     34     jovyan  mem       REG                8,1    35500           530885 /opt/conda/lib/python3.6/lib-dynload/grp.cpython-36m-x86_64-linux-gnu.so\r\npython     34     jovyan  mem       REG                8,1   803563           529528 /opt/conda/lib/liblzma.so.5.2.3\r\npython     34     jovyan  mem       REG                8,1   117498           530859 /opt/conda/lib/python3.6/lib-dynload/_lzma.cpython-36m-x86_64-linux-gnu.so\r\npython     34     jovyan  mem       REG                8,1   269237           530839 /opt/conda/lib/python3.6/lib-dynload/_bz2.cpython-36m-x86_64-linux-gnu.so\r\npython     34     jovyan  mem       REG                8,1   127973           529602 /opt/conda/lib/libz.so.1.2.11\r\npython     34     jovyan  mem       REG                8,1   116664           530900 /opt/conda/lib/python3.6/lib-dynload/zlib.cpython-36m-x86_64-linux-gnu.so\r\npython     34     jovyan  mem       REG                8,1   210293           530886 /opt/conda/lib/python3.6/lib-dynload/math.cpython-36m-x86_64-linux-gnu.so\r\npython     34     jovyan  mem       REG                8,1    79124           530894 /opt/conda/lib/python3.6/lib-dynload/select.cpython-36m-x86_64-linux-gnu.so\r\npython     34     jovyan  mem       REG                8,1    85443           530865 /opt/conda/lib/python3.6/lib-dynload/_posixsubprocess.cpython-36m-x86_64-linux-gnu.so\r\npython     34     jovyan  mem       REG                8,1   164929           530857 /opt/conda/lib/python3.6/lib-dynload/_json.cpython-36m-x86_64-linux-gnu.so\r\npython     34     jovyan  mem       REG                8,1    47058           530856 /opt/conda/lib/python3.6/lib-dynload/_heapq.cpython-36m-x86_64-linux-gnu.so\r\npython     34     jovyan  mem       REG                8,1  1868984           394365 /lib/x86_64-linux-gnu/libc-2.23.so\r\npython     34     jovyan  mem       REG                8,1  1088952           394397 /lib/x86_64-linux-gnu/libm-2.23.so\r\npython     34     jovyan  mem       REG                8,1    31712           394440 /lib/x86_64-linux-gnu/librt-2.23.so\r\npython     34     jovyan  mem       REG                8,1    10656           394460 /lib/x86_64-linux-gnu/libutil-2.23.so\r\npython     34     jovyan  mem       REG                8,1    14608           394378 /lib/x86_64-linux-gnu/libdl-2.23.so\r\npython     34     jovyan  mem       REG                8,1   138696           394433 /lib/x86_64-linux-gnu/libpthread-2.23.so\r\npython     34     jovyan  mem       REG                8,1 12444567           529556 /opt/conda/lib/libpython3.6m.so.1.0\r\npython     34     jovyan  mem       REG                8,1   162632           394345 /lib/x86_64-linux-gnu/ld-2.23.so\r\npython     34     jovyan  mem       REG                8,1    26258           395222 /usr/lib/x86_64-linux-gnu/gconv/gconv-modules.cache\r\npython     34     jovyan  mem       REG                8,1  1668976           656066 /usr/lib/locale/locale-archive\r\npython     34     jovyan    0r     FIFO               0,10      0t0           183161 pipe\r\npython     34     jovyan    1w     FIFO               0,10      0t0           177822 pipe\r\npython     34     jovyan    2w     FIFO               0,10      0t0           177823 pipe\r\npython     34     jovyan    3r      CHR                1,9      0t0           177867 /dev/urandom\r\npython     34     jovyan    4w      CHR                1,3      0t0           177862 /dev/null\r\npython     34     jovyan    5u  a_inode               0,11        0            11923 [eventfd]\r\npython     34     jovyan    6r      CHR                1,9      0t0           177867 /dev/urandom\r\npython     34     jovyan    7u  a_inode               0,11        0            11923 [eventfd]\r\npython     34     jovyan    8u  a_inode               0,11        0            11923 [eventpoll]\r\npython     34     jovyan    9u  a_inode               0,11        0            11923 [eventfd]\r\npython     34     jovyan   10u  a_inode               0,11        0            11923 [eventpoll]\r\npython     34     jovyan   11u  a_inode               0,11        0            11923 [eventfd]\r\npython     34     jovyan   12u     IPv4             184807      0t0              TCP localhost:56409 (LISTEN)\r\npython     34     jovyan   13u  a_inode               0,11        0            11923 [eventfd]\r\npython     34     jovyan   14u     IPv4             184809      0t0              TCP localhost:37411 (LISTEN)\r\npython     34     jovyan   15u  a_inode               0,11        0            11923 [eventfd]\r\npython     34     jovyan   16u     IPv4             184811      0t0              TCP localhost:43441 (LISTEN)\r\npython     34     jovyan   17u  a_inode               0,11        0            11923 [eventfd]\r\npython     34     jovyan   18u     IPv4             184813      0t0              TCP localhost:50275 (LISTEN)\r\npython     34     jovyan   19u  a_inode               0,11        0            11923 [eventpoll]\r\npython     34     jovyan   20u     unix 0x0000000000000000      0t0           184814 type=STREAM\r\npython     34     jovyan   21u     unix 0x0000000000000000      0t0           184815 type=STREAM\r\npython     34     jovyan   22u  a_inode               0,11        0            11923 [eventfd]\r\npython     34     jovyan   23u     IPv4             184817      0t0              TCP localhost:36681 (LISTEN)\r\npython     34     jovyan   24u  a_inode               0,11        0            11923 [eventfd]\r\npython     34     jovyan   25u  a_inode               0,11        0            11923 [eventfd]\r\npython     34     jovyan   26u  a_inode               0,11        0            11923 [eventfd]\r\npython     34     jovyan   27u  a_inode               0,11        0            11923 [eventpoll]\r\npython     34     jovyan   28u  a_inode               0,11        0            11923 [eventfd]\r\npython     34     jovyan   29u  a_inode               0,11        0            11923 [eventpoll]\r\npython     34     jovyan   30u  a_inode               0,11        0            11923 [eventfd]\r\npython     34     jovyan   31u     IPv4             183196      0t0              TCP localhost:44415 (LISTEN)\r\npython     34     jovyan   32u  a_inode               0,11        0            11923 [eventpoll]\r\npython     34     jovyan   33u     unix 0x0000000000000000      0t0           184818 type=STREAM\r\npython     34     jovyan   34u     unix 0x0000000000000000      0t0           184819 type=STREAM\r\npython     34     jovyan   35u      REG                8,1    28672           262667 /home/jovyan/.ipython/profile_default/history.sqlite\r\npython     34     jovyan   36u      REG                8,1    28672           262667 /home/jovyan/.ipython/profile_default/history.sqlite\r\npython     34     jovyan   37u     IPv4             183197      0t0              TCP localhost:50275->localhost:49172 (ESTABLISHED)\r\npython     34     jovyan   38u     IPv4             183198      0t0              TCP localhost:43441->localhost:57652 (ESTABLISHED)\r\npython     34     jovyan   39u  a_inode               0,11        0            11923 [eventfd]\r\npython     34     jovyan   40u     IPv4             183205      0t0              TCP localhost:56409->localhost:55780 (ESTABLISHED)\r\npython     34     jovyan   41u     IPv4             183207      0t0              TCP localhost:50275->localhost:49190 (ESTABLISHED)\r\npython     34     jovyan   42u     IPv4             183209      0t0              TCP localhost:37411->localhost:49246 (ESTABLISHED)\r\nZMQbg/0    34  39 jovyan  cwd       DIR               0,61     4096 9570149208167180 /home/jovyan/openforum2018\r\nZMQbg/0    34  39 jovyan  rtd       DIR               0,59     4096           181289 /\r\nZMQbg/0    34  39 jovyan  txt       REG                8,1    14857           529056 /opt/conda/bin/python3.6\r\nZMQbg/0    34  39 jovyan  mem       REG                8,1  1686154           530853 /opt/conda/lib/python3.6/lib-dynload/_decimal.cpython-36m-x86_64-linux-gnu.so\r\nZMQbg/0    34  39 jovyan  mem       REG                8,1   375919           530873 /opt/conda/lib/python3.6/lib-dynload/_ssl.cpython-36m-x86_64-linux-gnu.so\r\nZMQbg/0    34  39 jovyan  mem       REG                8,1   194106           530836 /opt/conda/lib/python3.6/lib-dynload/_asyncio.cpython-36m-x86_64-linux-gnu.so\r\nZMQbg/0    34  39 jovyan  mem       REG                8,1    48787           530862 /opt/conda/lib/python3.6/lib-dynload/_multiprocessing.cpython-36m-x86_64-linux-gnu.so\r\nZMQbg/0    34  39 jovyan  mem       REG                8,1   316595           530850 /opt/conda/lib/python3.6/lib-dynload/_curses.cpython-36m-x86_64-linux-gnu.so\r\nZMQbg/0    34  39 jovyan  mem       REG                8,1    17873          1708597 /opt/conda/lib/python3.6/site-packages/tornado/speedups.cpython-36m-x86_64-linux-gnu.so\r\nZMQbg/0    34  39 jovyan  mem       REG                8,1    18976           394463 /lib/x86_64-linux-gnu/libuuid.so.1.3.0\r\nZMQbg/0    34  39 jovyan  mem       REG                8,1   228724          2230844 /opt/conda/lib/python3.6/site-packages/zmq/backend/cython/_device.cpython-36m-x86_64-linux-gnu.so\r\nZMQbg/0    34  39 jovyan  mem       REG                8,1    98032          2230846 /opt/conda/lib/python3.6/site-packages/zmq/backend/cython/_version.cpython-36m-x86_64-linux-gnu.so\r\nZMQbg/0    34  39 jovyan  mem       REG                8,1   327947          2230845 /opt/conda/lib/python3.6/site-packages/zmq/backend/cython/_poll.cpython-36m-x86_64-linux-gnu.so\r\nZMQbg/0    34  39 jovyan  mem       REG                8,1   149930          2230859 /opt/conda/lib/python3.6/site-packages/zmq/backend/cython/utils.cpython-36m-x86_64-linux-gnu.so\r\nZMQbg/0    34  39 jovyan  mem       REG                8,1   730559          2230857 /opt/conda/lib/python3.6/site-packages/zmq/backend/cython/socket.cpython-36m-x86_64-linux-gnu.so\r\nZMQbg/0    34  39 jovyan  mem       REG                8,1   311141          2230851 /opt/conda/lib/python3.6/site-packages/zmq/backend/cython/context.cpython-36m-x86_64-linux-gnu.so\r\nZMQbg/0    34  39 jovyan  mem       REG                8,1   452817          2230855 /opt/conda/lib/python3.6/site-packages/zmq/backend/cython/message.cpython-36m-x86_64-linux-gnu.so\r\nZMQbg/0    34  39 jovyan  mem       REG                8,1   115893          2230853 /opt/conda/lib/python3.6/site-packages/zmq/backend/cython/error.cpython-36m-x86_64-linux-gnu.so\r\nZMQbg/0    34  39 jovyan  mem       REG                8,1   706232           529510 /opt/conda/lib/libgcc_s.so.1\r\nZMQbg/0    34  39 jovyan  mem       REG                8,1  8167184           529575 /opt/conda/lib/libstdc++.so.6.0.24\r\nZMQbg/0    34  39 jovyan  mem       REG                8,1  1289027           661987 /opt/conda/lib/libzmq.so.5.1.5\r\nZMQbg/0    34  39 jovyan  mem       REG                8,1   228614          2230849 /opt/conda/lib/python3.6/site-packages/zmq/backend/cython/constants.cpython-36m-x86_64-linux-gnu.so\r\nZMQbg/0    34  39 jovyan  mem       REG                8,1   617309           530848 /opt/conda/lib/python3.6/lib-dynload/_ctypes.cpython-36m-x86_64-linux-gnu.so\r\nZMQbg/0    34  39 jovyan  mem       REG                8,1    64549           530858 /opt/conda/lib/python3.6/lib-dynload/_lsprof.cpython-36m-x86_64-linux-gnu.so\r\nZMQbg/0    34  39 jovyan  mem       REG                8,1   339757           530871 /opt/conda/lib/python3.6/lib-dynload/_socket.cpython-36m-x86_64-linux-gnu.so\r\nZMQbg/0    34  39 jovyan  mem       REG                8,1   963624           530898 /opt/conda/lib/python3.6/lib-dynload/unicodedata.cpython-36m-x86_64-linux-gnu.so\r\nZMQbg/0    34  39 jovyan  mem       REG                8,1   187746           530880 /opt/conda/lib/python3.6/lib-dynload/array.cpython-36m-x86_64-linux-gnu.so\r\nZMQbg/0    34  39 jovyan  mem       REG                8,1   249585           529581 /opt/conda/lib/libtinfo.so.5.9\r\nZMQbg/0    34  39 jovyan  mem       REG                8,1   176142           529542 /opt/conda/lib/libncurses.so.5.9\r\nZMQbg/0    34  39 jovyan  mem       REG                8,1  1165114           529569 /opt/conda/lib/libsqlite3.so.0.8.6\r\nZMQbg/0    34  39 jovyan  mem       REG                8,1   295030           530872 /opt/conda/lib/python3.6/lib-dynload/_sqlite3.cpython-36m-x86_64-linux-gnu.so\r\nZMQbg/0    34  39 jovyan  mem       REG                8,1   433613           530864 /opt/conda/lib/python3.6/lib-dynload/_pickle.cpython-36m-x86_64-linux-gnu.so\r\nZMQbg/0    34  39 jovyan  mem       REG                8,1   470165           530852 /opt/conda/lib/python3.6/lib-dynload/_datetime.cpython-36m-x86_64-linux-gnu.so\r\nZMQbg/0    34  39 jovyan  mem       REG                8,1    78638           530882 /opt/conda/lib/python3.6/lib-dynload/binascii.cpython-36m-x86_64-linux-gnu.so\r\nZMQbg/0    34  39 jovyan  mem       REG                8,1    32268           530893 /opt/conda/lib/python3.6/lib-dynload/resource.cpython-36m-x86_64-linux-gnu.so\r\nZMQbg/0    34  39 jovyan  mem       REG                8,1    41463           530884 /opt/conda/lib/python3.6/lib-dynload/fcntl.cpython-36m-x86_64-linux-gnu.so\r\nZMQbg/0    34  39 jovyan  mem       REG                8,1    46964           530897 /opt/conda/lib/python3.6/lib-dynload/termios.cpython-36m-x86_64-linux-gnu.so\r\nZMQbg/0    34  39 jovyan  mem       REG                8,1    37999           530866 /opt/conda/lib/python3.6/lib-dynload/_random.cpython-36m-x86_64-linux-gnu.so\r\nZMQbg/0    34  39 jovyan  mem       REG                8,1    33663           530837 /opt/conda/lib/python3.6/lib-dynload/_bisect.cpython-36m-x86_64-linux-gnu.so\r\nZMQbg/0    34  39 jovyan  mem       REG                8,1   355122           530869 /opt/conda/lib/python3.6/lib-dynload/_sha3.cpython-36m-x86_64-linux-gnu.so\r\nZMQbg/0    34  39 jovyan  mem       REG                8,1   329909           530838 /opt/conda/lib/python3.6/lib-dynload/_blake2.cpython-36m-x86_64-linux-gnu.so\r\nZMQbg/0    34  39 jovyan  mem       REG                8,1  2692340           529490 /opt/conda/lib/libcrypto.so.1.0.0\r\nZMQbg/0    34  39 jovyan  mem       REG                8,1   549929           529572 /opt/conda/lib/libssl.so.1.0.0\r\nZMQbg/0    34  39 jovyan  mem       REG                8,1    92355           530855 /opt/conda/lib/python3.6/lib-dynload/_hashlib.cpython-36m-x86_64-linux-gnu.so\r\nZMQbg/0    34  39 jovyan  mem       REG                8,1   159628           530874 /opt/conda/lib/python3.6/lib-dynload/_struct.cpython-36m-x86_64-linux-gnu.so\r\nZMQbg/0    34  39 jovyan  mem       REG                8,1    20447           530863 /opt/conda/lib/python3.6/lib-dynload/_opcode.cpython-36m-x86_64-linux-gnu.so\r\nZMQbg/0    34  39 jovyan  mem       REG                8,1    35500           530885 /opt/conda/lib/python3.6/lib-dynload/grp.cpython-36m-x86_64-linux-gnu.so\r\nZMQbg/0    34  39 jovyan  mem       REG                8,1   803563           529528 /opt/conda/lib/liblzma.so.5.2.3\r\nZMQbg/0    34  39 jovyan  mem       REG                8,1   117498           530859 /opt/conda/lib/python3.6/lib-dynload/_lzma.cpython-36m-x86_64-linux-gnu.so\r\nZMQbg/0    34  39 jovyan  mem       REG                8,1   269237           530839 /opt/conda/lib/python3.6/lib-dynload/_bz2.cpython-36m-x86_64-linux-gnu.so\r\nZMQbg/0    34  39 jovyan  mem       REG                8,1   127973           529602 /opt/conda/lib/libz.so.1.2.11\r\nZMQbg/0    34  39 jovyan  mem       REG                8,1   116664           530900 /opt/conda/lib/python3.6/lib-dynload/zlib.cpython-36m-x86_64-linux-gnu.so\r\nZMQbg/0    34  39 jovyan  mem       REG                8,1   210293           530886 /opt/conda/lib/python3.6/lib-dynload/math.cpython-36m-x86_64-linux-gnu.so\r\nZMQbg/0    34  39 jovyan  mem       REG                8,1    79124           530894 /opt/conda/lib/python3.6/lib-dynload/select.cpython-36m-x86_64-linux-gnu.so\r\nZMQbg/0    34  39 jovyan  mem       REG                8,1    85443           530865 /opt/conda/lib/python3.6/lib-dynload/_posixsubprocess.cpython-36m-x86_64-linux-gnu.so\r\nZMQbg/0    34  39 jovyan  mem       REG                8,1   164929           530857 /opt/conda/lib/python3.6/lib-dynload/_json.cpython-36m-x86_64-linux-gnu.so\r\nZMQbg/0    34  39 jovyan  mem       REG                8,1    47058           530856 /opt/conda/lib/python3.6/lib-dynload/_heapq.cpython-36m-x86_64-linux-gnu.so\r\nZMQbg/0    34  39 jovyan  mem       REG                8,1  1868984           394365 /lib/x86_64-linux-gnu/libc-2.23.so\r\nZMQbg/0    34  39 jovyan  mem       REG                8,1  1088952           394397 /lib/x86_64-linux-gnu/libm-2.23.so\r\nZMQbg/0    34  39 jovyan  mem       REG                8,1    31712           394440 /lib/x86_64-linux-gnu/librt-2.23.so\r\nZMQbg/0    34  39 jovyan  mem       REG                8,1    10656           394460 /lib/x86_64-linux-gnu/libutil-2.23.so\r\nZMQbg/0    34  39 jovyan  mem       REG                8,1    14608           394378 /lib/x86_64-linux-gnu/libdl-2.23.so\r\nZMQbg/0    34  39 jovyan  mem       REG                8,1   138696           394433 /lib/x86_64-linux-gnu/libpthread-2.23.so\r\nZMQbg/0    34  39 jovyan  mem       REG                8,1 12444567           529556 /opt/conda/lib/libpython3.6m.so.1.0\r\nZMQbg/0    34  39 jovyan  mem       REG                8,1   162632           394345 /lib/x86_64-linux-gnu/ld-2.23.so\r\nZMQbg/0    34  39 jovyan  mem       REG                8,1    26258           395222 /usr/lib/x86_64-linux-gnu/gconv/gconv-modules.cache\r\nZMQbg/0    34  39 jovyan  mem       REG                8,1  1668976           656066 /usr/lib/locale/locale-archive\r\nZMQbg/0    34  39 jovyan    0r     FIFO               0,10      0t0           183161 pipe\r\nZMQbg/0    34  39 jovyan    1w     FIFO               0,10      0t0           177822 pipe\r\nZMQbg/0    34  39 jovyan    2w     FIFO               0,10      0t0           177823 pipe\r\nZMQbg/0    34  39 jovyan    3r      CHR                1,9      0t0           177867 /dev/urandom\r\nZMQbg/0    34  39 jovyan    4w      CHR                1,3      0t0           177862 /dev/null\r\nZMQbg/0    34  39 jovyan    5u  a_inode               0,11        0            11923 [eventfd]\r\nZMQbg/0    34  39 jovyan    6r      CHR                1,9      0t0           177867 /dev/urandom\r\nZMQbg/0    34  39 jovyan    7u  a_inode               0,11        0            11923 [eventfd]\r\nZMQbg/0    34  39 jovyan    8u  a_inode               0,11        0            11923 [eventpoll]\r\nZMQbg/0    34  39 jovyan    9u  a_inode               0,11        0            11923 [eventfd]\r\nZMQbg/0    34  39 jovyan   10u  a_inode               0,11        0            11923 [eventpoll]\r\nZMQbg/0    34  39 jovyan   11u  a_inode               0,11        0            11923 [eventfd]\r\nZMQbg/0    34  39 jovyan   12u     IPv4             184807      0t0              TCP localhost:56409 (LISTEN)\r\nZMQbg/0    34  39 jovyan   13u  a_inode               0,11        0            11923 [eventfd]\r\nZMQbg/0    34  39 jovyan   14u     IPv4             184809      0t0              TCP localhost:37411 (LISTEN)\r\nZMQbg/0    34  39 jovyan   15u  a_inode               0,11        0            11923 [eventfd]\r\nZMQbg/0    34  39 jovyan   16u     IPv4             184811      0t0              TCP localhost:43441 (LISTEN)\r\nZMQbg/0    34  39 jovyan   17u  a_inode               0,11        0            11923 [eventfd]\r\nZMQbg/0    34  39 jovyan   18u     IPv4             184813      0t0              TCP localhost:50275 (LISTEN)\r\nZMQbg/0    34  39 jovyan   19u  a_inode               0,11        0            11923 [eventpoll]\r\nZMQbg/0    34  39 jovyan   20u     unix 0x0000000000000000      0t0           184814 type=STREAM\r\nZMQbg/0    34  39 jovyan   21u     unix 0x0000000000000000      0t0           184815 type=STREAM\r\nZMQbg/0    34  39 jovyan   22u  a_inode               0,11        0            11923 [eventfd]\r\nZMQbg/0    34  39 jovyan   23u     IPv4             184817      0t0              TCP localhost:36681 (LISTEN)\r\nZMQbg/0    34  39 jovyan   24u  a_inode               0,11        0            11923 [eventfd]\r\nZMQbg/0    34  39 jovyan   25u  a_inode               0,11        0            11923 [eventfd]\r\nZMQbg/0    34  39 jovyan   26u  a_inode               0,11        0            11923 [eventfd]\r\nZMQbg/0    34  39 jovyan   27u  a_inode               0,11        0            11923 [eventpoll]\r\nZMQbg/0    34  39 jovyan   28u  a_inode               0,11        0            11923 [eventfd]\r\nZMQbg/0    34  39 jovyan   29u  a_inode               0,11        0            11923 [eventpoll]\r\nZMQbg/0    34  39 jovyan   30u  a_inode               0,11        0            11923 [eventfd]\r\nZMQbg/0    34  39 jovyan   31u     IPv4             183196      0t0              TCP localhost:44415 (LISTEN)\r\nZMQbg/0    34  39 jovyan   32u  a_inode               0,11        0            11923 [eventpoll]\r\nZMQbg/0    34  39 jovyan   33u     unix 0x0000000000000000      0t0           184818 type=STREAM\r\nZMQbg/0    34  39 jovyan   34u     unix 0x0000000000000000      0t0           184819 type=STREAM\r\nZMQbg/0    34  39 jovyan   35u      REG                8,1    28672           262667 /home/jovyan/.ipython/profile_default/history.sqlite\r\nZMQbg/0    34  39 jovyan   36u      REG                8,1    28672           262667 /home/jovyan/.ipython/profile_default/history.sqlite\r\nZMQbg/0    34  39 jovyan   37u     IPv4             183197      0t0              TCP localhost:50275->localhost:49172 (ESTABLISHED)\r\nZMQbg/0    34  39 jovyan   38u     IPv4             183198      0t0              TCP localhost:43441->localhost:57652 (ESTABLISHED)\r\nZMQbg/0    34  39 jovyan   39u  a_inode               0,11        0            11923 [eventfd]\r\nZMQbg/0    34  39 jovyan   40u     IPv4             183205      0t0              TCP localhost:56409->localhost:55780 (ESTABLISHED)\r\nZMQbg/0    34  39 jovyan   41u     IPv4             183207      0t0              TCP localhost:50275->localhost:49190 (ESTABLISHED)\r\nZMQbg/0    34  39 jovyan   42u     IPv4             183209      0t0              TCP localhost:37411->localhost:49246 (ESTABLISHED)\r\nZMQbg/1    34  40 jovyan  cwd       DIR               0,61     4096 9570149208167180 /home/jovyan/openforum2018\r\nZMQbg/1    34  40 jovyan  rtd       DIR               0,59     4096           181289 /\r\nZMQbg/1    34  40 jovyan  txt       REG                8,1    14857           529056 /opt/conda/bin/python3.6\r\nZMQbg/1    34  40 jovyan  mem       REG                8,1  1686154           530853 /opt/conda/lib/python3.6/lib-dynload/_decimal.cpython-36m-x86_64-linux-gnu.so\r\nZMQbg/1    34  40 jovyan  mem       REG                8,1   375919           530873 /opt/conda/lib/python3.6/lib-dynload/_ssl.cpython-36m-x86_64-linux-gnu.so\r\nZMQbg/1    34  40 jovyan  mem       REG                8,1   194106           530836 /opt/conda/lib/python3.6/lib-dynload/_asyncio.cpython-36m-x86_64-linux-gnu.so\r\nZMQbg/1    34  40 jovyan  mem       REG                8,1    48787           530862 /opt/conda/lib/python3.6/lib-dynload/_multiprocessing.cpython-36m-x86_64-linux-gnu.so\r\nZMQbg/1    34  40 jovyan  mem       REG                8,1   316595           530850 /opt/conda/lib/python3.6/lib-dynload/_curses.cpython-36m-x86_64-linux-gnu.so\r\nZMQbg/1    34  40 jovyan  mem       REG                8,1    17873          1708597 /opt/conda/lib/python3.6/site-packages/tornado/speedups.cpython-36m-x86_64-linux-gnu.so\r\nZMQbg/1    34  40 jovyan  mem       REG                8,1    18976           394463 /lib/x86_64-linux-gnu/libuuid.so.1.3.0\r\nZMQbg/1    34  40 jovyan  mem       REG                8,1   228724          2230844 /opt/conda/lib/python3.6/site-packages/zmq/backend/cython/_device.cpython-36m-x86_64-linux-gnu.so\r\nZMQbg/1    34  40 jovyan  mem       REG                8,1    98032          2230846 /opt/conda/lib/python3.6/site-packages/zmq/backend/cython/_version.cpython-36m-x86_64-linux-gnu.so\r\nZMQbg/1    34  40 jovyan  mem       REG                8,1   327947          2230845 /opt/conda/lib/python3.6/site-packages/zmq/backend/cython/_poll.cpython-36m-x86_64-linux-gnu.so\r\nZMQbg/1    34  40 jovyan  mem       REG                8,1   149930          2230859 /opt/conda/lib/python3.6/site-packages/zmq/backend/cython/utils.cpython-36m-x86_64-linux-gnu.so\r\nZMQbg/1    34  40 jovyan  mem       REG                8,1   730559          2230857 /opt/conda/lib/python3.6/site-packages/zmq/backend/cython/socket.cpython-36m-x86_64-linux-gnu.so\r\nZMQbg/1    34  40 jovyan  mem       REG                8,1   311141          2230851 /opt/conda/lib/python3.6/site-packages/zmq/backend/cython/context.cpython-36m-x86_64-linux-gnu.so\r\nZMQbg/1    34  40 jovyan  mem       REG                8,1   452817          2230855 /opt/conda/lib/python3.6/site-packages/zmq/backend/cython/message.cpython-36m-x86_64-linux-gnu.so\r\nZMQbg/1    34  40 jovyan  mem       REG                8,1   115893          2230853 /opt/conda/lib/python3.6/site-packages/zmq/backend/cython/error.cpython-36m-x86_64-linux-gnu.so\r\nZMQbg/1    34  40 jovyan  mem       REG                8,1   706232           529510 /opt/conda/lib/libgcc_s.so.1\r\nZMQbg/1    34  40 jovyan  mem       REG                8,1  8167184           529575 /opt/conda/lib/libstdc++.so.6.0.24\r\nZMQbg/1    34  40 jovyan  mem       REG                8,1  1289027           661987 /opt/conda/lib/libzmq.so.5.1.5\r\nZMQbg/1    34  40 jovyan  mem       REG                8,1   228614          2230849 /opt/conda/lib/python3.6/site-packages/zmq/backend/cython/constants.cpython-36m-x86_64-linux-gnu.so\r\nZMQbg/1    34  40 jovyan  mem       REG                8,1   617309           530848 /opt/conda/lib/python3.6/lib-dynload/_ctypes.cpython-36m-x86_64-linux-gnu.so\r\nZMQbg/1    34  40 jovyan  mem       REG                8,1    64549           530858 /opt/conda/lib/python3.6/lib-dynload/_lsprof.cpython-36m-x86_64-linux-gnu.so\r\nZMQbg/1    34  40 jovyan  mem       REG                8,1   339757           530871 /opt/conda/lib/python3.6/lib-dynload/_socket.cpython-36m-x86_64-linux-gnu.so\r\nZMQbg/1    34  40 jovyan  mem       REG                8,1   963624           530898 /opt/conda/lib/python3.6/lib-dynload/unicodedata.cpython-36m-x86_64-linux-gnu.so\r\nZMQbg/1    34  40 jovyan  mem       REG                8,1   187746           530880 /opt/conda/lib/python3.6/lib-dynload/array.cpython-36m-x86_64-linux-gnu.so\r\nZMQbg/1    34  40 jovyan  mem       REG                8,1   249585           529581 /opt/conda/lib/libtinfo.so.5.9\r\nZMQbg/1    34  40 jovyan  mem       REG                8,1   176142           529542 /opt/conda/lib/libncurses.so.5.9\r\nZMQbg/1    34  40 jovyan  mem       REG                8,1  1165114           529569 /opt/conda/lib/libsqlite3.so.0.8.6\r\nZMQbg/1    34  40 jovyan  mem       REG                8,1   295030           530872 /opt/conda/lib/python3.6/lib-dynload/_sqlite3.cpython-36m-x86_64-linux-gnu.so\r\nZMQbg/1    34  40 jovyan  mem       REG                8,1   433613           530864 /opt/conda/lib/python3.6/lib-dynload/_pickle.cpython-36m-x86_64-linux-gnu.so\r\nZMQbg/1    34  40 jovyan  mem       REG                8,1   470165           530852 /opt/conda/lib/python3.6/lib-dynload/_datetime.cpython-36m-x86_64-linux-gnu.so\r\nZMQbg/1    34  40 jovyan  mem       REG                8,1    78638           530882 /opt/conda/lib/python3.6/lib-dynload/binascii.cpython-36m-x86_64-linux-gnu.so\r\nZMQbg/1    34  40 jovyan  mem       REG                8,1    32268           530893 /opt/conda/lib/python3.6/lib-dynload/resource.cpython-36m-x86_64-linux-gnu.so\r\nZMQbg/1    34  40 jovyan  mem       REG                8,1    41463           530884 /opt/conda/lib/python3.6/lib-dynload/fcntl.cpython-36m-x86_64-linux-gnu.so\r\nZMQbg/1    34  40 jovyan  mem       REG                8,1    46964           530897 /opt/conda/lib/python3.6/lib-dynload/termios.cpython-36m-x86_64-linux-gnu.so\r\nZMQbg/1    34  40 jovyan  mem       REG                8,1    37999           530866 /opt/conda/lib/python3.6/lib-dynload/_random.cpython-36m-x86_64-linux-gnu.so\r\nZMQbg/1    34  40 jovyan  mem       REG                8,1    33663           530837 /opt/conda/lib/python3.6/lib-dynload/_bisect.cpython-36m-x86_64-linux-gnu.so\r\nZMQbg/1    34  40 jovyan  mem       REG                8,1   355122           530869 /opt/conda/lib/python3.6/lib-dynload/_sha3.cpython-36m-x86_64-linux-gnu.so\r\nZMQbg/1    34  40 jovyan  mem       REG                8,1   329909           530838 /opt/conda/lib/python3.6/lib-dynload/_blake2.cpython-36m-x86_64-linux-gnu.so\r\nZMQbg/1    34  40 jovyan  mem       REG                8,1  2692340           529490 /opt/conda/lib/libcrypto.so.1.0.0\r\nZMQbg/1    34  40 jovyan  mem       REG                8,1   549929           529572 /opt/conda/lib/libssl.so.1.0.0\r\nZMQbg/1    34  40 jovyan  mem       REG                8,1    92355           530855 /opt/conda/lib/python3.6/lib-dynload/_hashlib.cpython-36m-x86_64-linux-gnu.so\r\nZMQbg/1    34  40 jovyan  mem       REG                8,1   159628           530874 /opt/conda/lib/python3.6/lib-dynload/_struct.cpython-36m-x86_64-linux-gnu.so\r\nZMQbg/1    34  40 jovyan  mem       REG                8,1    20447           530863 /opt/conda/lib/python3.6/lib-dynload/_opcode.cpython-36m-x86_64-linux-gnu.so\r\nZMQbg/1    34  40 jovyan  mem       REG                8,1    35500           530885 /opt/conda/lib/python3.6/lib-dynload/grp.cpython-36m-x86_64-linux-gnu.so\r\nZMQbg/1    34  40 jovyan  mem       REG                8,1   803563           529528 /opt/conda/lib/liblzma.so.5.2.3\r\nZMQbg/1    34  40 jovyan  mem       REG                8,1   117498           530859 /opt/conda/lib/python3.6/lib-dynload/_lzma.cpython-36m-x86_64-linux-gnu.so\r\nZMQbg/1    34  40 jovyan  mem       REG                8,1   269237           530839 /opt/conda/lib/python3.6/lib-dynload/_bz2.cpython-36m-x86_64-linux-gnu.so\r\nZMQbg/1    34  40 jovyan  mem       REG                8,1   127973           529602 /opt/conda/lib/libz.so.1.2.11\r\nZMQbg/1    34  40 jovyan  mem       REG                8,1   116664           530900 /opt/conda/lib/python3.6/lib-dynload/zlib.cpython-36m-x86_64-linux-gnu.so\r\nZMQbg/1    34  40 jovyan  mem       REG                8,1   210293           530886 /opt/conda/lib/python3.6/lib-dynload/math.cpython-36m-x86_64-linux-gnu.so\r\nZMQbg/1    34  40 jovyan  mem       REG                8,1    79124           530894 /opt/conda/lib/python3.6/lib-dynload/select.cpython-36m-x86_64-linux-gnu.so\r\nZMQbg/1    34  40 jovyan  mem       REG                8,1    85443           530865 /opt/conda/lib/python3.6/lib-dynload/_posixsubprocess.cpython-36m-x86_64-linux-gnu.so\r\nZMQbg/1    34  40 jovyan  mem       REG                8,1   164929           530857 /opt/conda/lib/python3.6/lib-dynload/_json.cpython-36m-x86_64-linux-gnu.so\r\nZMQbg/1    34  40 jovyan  mem       REG                8,1    47058           530856 /opt/conda/lib/python3.6/lib-dynload/_heapq.cpython-36m-x86_64-linux-gnu.so\r\nZMQbg/1    34  40 jovyan  mem       REG                8,1  1868984           394365 /lib/x86_64-linux-gnu/libc-2.23.so\r\nZMQbg/1    34  40 jovyan  mem       REG                8,1  1088952           394397 /lib/x86_64-linux-gnu/libm-2.23.so\r\nZMQbg/1    34  40 jovyan  mem       REG                8,1    31712           394440 /lib/x86_64-linux-gnu/librt-2.23.so\r\nZMQbg/1    34  40 jovyan  mem       REG                8,1    10656           394460 /lib/x86_64-linux-gnu/libutil-2.23.so\r\nZMQbg/1    34  40 jovyan  mem       REG                8,1    14608           394378 /lib/x86_64-linux-gnu/libdl-2.23.so\r\nZMQbg/1    34  40 jovyan  mem       REG                8,1   138696           394433 /lib/x86_64-linux-gnu/libpthread-2.23.so\r\nZMQbg/1    34  40 jovyan  mem       REG                8,1 12444567           529556 /opt/conda/lib/libpython3.6m.so.1.0\r\nZMQbg/1    34  40 jovyan  mem       REG                8,1   162632           394345 /lib/x86_64-linux-gnu/ld-2.23.so\r\nZMQbg/1    34  40 jovyan  mem       REG                8,1    26258           395222 /usr/lib/x86_64-linux-gnu/gconv/gconv-modules.cache\r\nZMQbg/1    34  40 jovyan  mem       REG                8,1  1668976           656066 /usr/lib/locale/locale-archive\r\nZMQbg/1    34  40 jovyan    0r     FIFO               0,10      0t0           183161 pipe\r\nZMQbg/1    34  40 jovyan    1w     FIFO               0,10      0t0           177822 pipe\r\nZMQbg/1    34  40 jovyan    2w     FIFO               0,10      0t0           177823 pipe\r\nZMQbg/1    34  40 jovyan    3r      CHR                1,9      0t0           177867 /dev/urandom\r\nZMQbg/1    34  40 jovyan    4w      CHR                1,3      0t0           177862 /dev/null\r\nZMQbg/1    34  40 jovyan    5u  a_inode               0,11        0            11923 [eventfd]\r\nZMQbg/1    34  40 jovyan    6r      CHR                1,9      0t0           177867 /dev/urandom\r\nZMQbg/1    34  40 jovyan    7u  a_inode               0,11        0            11923 [eventfd]\r\nZMQbg/1    34  40 jovyan    8u  a_inode               0,11        0            11923 [eventpoll]\r\nZMQbg/1    34  40 jovyan    9u  a_inode               0,11        0            11923 [eventfd]\r\nZMQbg/1    34  40 jovyan   10u  a_inode               0,11        0            11923 [eventpoll]\r\nZMQbg/1    34  40 jovyan   11u  a_inode               0,11        0            11923 [eventfd]\r\nZMQbg/1    34  40 jovyan   12u     IPv4             184807      0t0              TCP localhost:56409 (LISTEN)\r\nZMQbg/1    34  40 jovyan   13u  a_inode               0,11        0            11923 [eventfd]\r\nZMQbg/1    34  40 jovyan   14u     IPv4             184809      0t0              TCP localhost:37411 (LISTEN)\r\nZMQbg/1    34  40 jovyan   15u  a_inode               0,11        0            11923 [eventfd]\r\nZMQbg/1    34  40 jovyan   16u     IPv4             184811      0t0              TCP localhost:43441 (LISTEN)\r\nZMQbg/1    34  40 jovyan   17u  a_inode               0,11        0            11923 [eventfd]\r\nZMQbg/1    34  40 jovyan   18u     IPv4             184813      0t0              TCP localhost:50275 (LISTEN)\r\nZMQbg/1    34  40 jovyan   19u  a_inode               0,11        0            11923 [eventpoll]\r\nZMQbg/1    34  40 jovyan   20u     unix 0x0000000000000000      0t0           184814 type=STREAM\r\nZMQbg/1    34  40 jovyan   21u     unix 0x0000000000000000      0t0           184815 type=STREAM\r\nZMQbg/1    34  40 jovyan   22u  a_inode               0,11        0            11923 [eventfd]\r\nZMQbg/1    34  40 jovyan   23u     IPv4             184817      0t0              TCP localhost:36681 (LISTEN)\r\nZMQbg/1    34  40 jovyan   24u  a_inode               0,11        0            11923 [eventfd]\r\nZMQbg/1    34  40 jovyan   25u  a_inode               0,11        0            11923 [eventfd]\r\nZMQbg/1    34  40 jovyan   26u  a_inode               0,11        0            11923 [eventfd]\r\nZMQbg/1    34  40 jovyan   27u  a_inode               0,11        0            11923 [eventpoll]\r\nZMQbg/1    34  40 jovyan   28u  a_inode               0,11        0            11923 [eventfd]\r\nZMQbg/1    34  40 jovyan   29u  a_inode               0,11        0            11923 [eventpoll]\r\nZMQbg/1    34  40 jovyan   30u  a_inode               0,11        0            11923 [eventfd]\r\nZMQbg/1    34  40 jovyan   31u     IPv4             183196      0t0              TCP localhost:44415 (LISTEN)\r\nZMQbg/1    34  40 jovyan   32u  a_inode               0,11        0            11923 [eventpoll]\r\nZMQbg/1    34  40 jovyan   33u     unix 0x0000000000000000      0t0           184818 type=STREAM\r\nZMQbg/1    34  40 jovyan   34u     unix 0x0000000000000000      0t0           184819 type=STREAM\r\nZMQbg/1    34  40 jovyan   35u      REG                8,1    28672           262667 /home/jovyan/.ipython/profile_default/history.sqlite\r\nZMQbg/1    34  40 jovyan   36u      REG                8,1    28672           262667 /home/jovyan/.ipython/profile_default/history.sqlite\r\nZMQbg/1    34  40 jovyan   37u     IPv4             183197      0t0              TCP localhost:50275->localhost:49172 (ESTABLISHED)\r\nZMQbg/1    34  40 jovyan   38u     IPv4             183198      0t0              TCP localhost:43441->localhost:57652 (ESTABLISHED)\r\nZMQbg/1    34  40 jovyan   39u  a_inode               0,11        0            11923 [eventfd]\r\nZMQbg/1    34  40 jovyan   40u     IPv4             183205      0t0              TCP localhost:56409->localhost:55780 (ESTABLISHED)\r\nZMQbg/1    34  40 jovyan   41u     IPv4             183207      0t0              TCP localhost:50275->localhost:49190 (ESTABLISHED)\r\nZMQbg/1    34  40 jovyan   42u     IPv4             183209      0t0              TCP localhost:37411->localhost:49246 (ESTABLISHED)\r\npython     34  41 jovyan  cwd       DIR               0,61     4096 9570149208167180 /home/jovyan/openforum2018\r\npython     34  41 jovyan  rtd       DIR               0,59     4096           181289 /\r\npython     34  41 jovyan  txt       REG                8,1    14857           529056 /opt/conda/bin/python3.6\r\npython     34  41 jovyan  mem       REG                8,1  1686154           530853 /opt/conda/lib/python3.6/lib-dynload/_decimal.cpython-36m-x86_64-linux-gnu.so\r\npython     34  41 jovyan  mem       REG                8,1   375919           530873 /opt/conda/lib/python3.6/lib-dynload/_ssl.cpython-36m-x86_64-linux-gnu.so\r\npython     34  41 jovyan  mem       REG                8,1   194106           530836 /opt/conda/lib/python3.6/lib-dynload/_asyncio.cpython-36m-x86_64-linux-gnu.so\r\npython     34  41 jovyan  mem       REG                8,1    48787           530862 /opt/conda/lib/python3.6/lib-dynload/_multiprocessing.cpython-36m-x86_64-linux-gnu.so\r\npython     34  41 jovyan  mem       REG                8,1   316595           530850 /opt/conda/lib/python3.6/lib-dynload/_curses.cpython-36m-x86_64-linux-gnu.so\r\npython     34  41 jovyan  mem       REG                8,1    17873          1708597 /opt/conda/lib/python3.6/site-packages/tornado/speedups.cpython-36m-x86_64-linux-gnu.so\r\npython     34  41 jovyan  mem       REG                8,1    18976           394463 /lib/x86_64-linux-gnu/libuuid.so.1.3.0\r\npython     34  41 jovyan  mem       REG                8,1   228724          2230844 /opt/conda/lib/python3.6/site-packages/zmq/backend/cython/_device.cpython-36m-x86_64-linux-gnu.so\r\npython     34  41 jovyan  mem       REG                8,1    98032          2230846 /opt/conda/lib/python3.6/site-packages/zmq/backend/cython/_version.cpython-36m-x86_64-linux-gnu.so\r\npython     34  41 jovyan  mem       REG                8,1   327947          2230845 /opt/conda/lib/python3.6/site-packages/zmq/backend/cython/_poll.cpython-36m-x86_64-linux-gnu.so\r\npython     34  41 jovyan  mem       REG                8,1   149930          2230859 /opt/conda/lib/python3.6/site-packages/zmq/backend/cython/utils.cpython-36m-x86_64-linux-gnu.so\r\npython     34  41 jovyan  mem       REG                8,1   730559          2230857 /opt/conda/lib/python3.6/site-packages/zmq/backend/cython/socket.cpython-36m-x86_64-linux-gnu.so\r\npython     34  41 jovyan  mem       REG                8,1   311141          2230851 /opt/conda/lib/python3.6/site-packages/zmq/backend/cython/context.cpython-36m-x86_64-linux-gnu.so\r\npython     34  41 jovyan  mem       REG                8,1   452817          2230855 /opt/conda/lib/python3.6/site-packages/zmq/backend/cython/message.cpython-36m-x86_64-linux-gnu.so\r\npython     34  41 jovyan  mem       REG                8,1   115893          2230853 /opt/conda/lib/python3.6/site-packages/zmq/backend/cython/error.cpython-36m-x86_64-linux-gnu.so\r\npython     34  41 jovyan  mem       REG                8,1   706232           529510 /opt/conda/lib/libgcc_s.so.1\r\npython     34  41 jovyan  mem       REG                8,1  8167184           529575 /opt/conda/lib/libstdc++.so.6.0.24\r\npython     34  41 jovyan  mem       REG                8,1  1289027           661987 /opt/conda/lib/libzmq.so.5.1.5\r\npython     34  41 jovyan  mem       REG                8,1   228614          2230849 /opt/conda/lib/python3.6/site-packages/zmq/backend/cython/constants.cpython-36m-x86_64-linux-gnu.so\r\npython     34  41 jovyan  mem       REG                8,1   617309           530848 /opt/conda/lib/python3.6/lib-dynload/_ctypes.cpython-36m-x86_64-linux-gnu.so\r\npython     34  41 jovyan  mem       REG                8,1    64549           530858 /opt/conda/lib/python3.6/lib-dynload/_lsprof.cpython-36m-x86_64-linux-gnu.so\r\npython     34  41 jovyan  mem       REG                8,1   339757           530871 /opt/conda/lib/python3.6/lib-dynload/_socket.cpython-36m-x86_64-linux-gnu.so\r\npython     34  41 jovyan  mem       REG                8,1   963624           530898 /opt/conda/lib/python3.6/lib-dynload/unicodedata.cpython-36m-x86_64-linux-gnu.so\r\npython     34  41 jovyan  mem       REG                8,1   187746           530880 /opt/conda/lib/python3.6/lib-dynload/array.cpython-36m-x86_64-linux-gnu.so\r\npython     34  41 jovyan  mem       REG                8,1   249585           529581 /opt/conda/lib/libtinfo.so.5.9\r\npython     34  41 jovyan  mem       REG                8,1   176142           529542 /opt/conda/lib/libncurses.so.5.9\r\npython     34  41 jovyan  mem       REG                8,1  1165114           529569 /opt/conda/lib/libsqlite3.so.0.8.6\r\npython     34  41 jovyan  mem       REG                8,1   295030           530872 /opt/conda/lib/python3.6/lib-dynload/_sqlite3.cpython-36m-x86_64-linux-gnu.so\r\npython     34  41 jovyan  mem       REG                8,1   433613           530864 /opt/conda/lib/python3.6/lib-dynload/_pickle.cpython-36m-x86_64-linux-gnu.so\r\npython     34  41 jovyan  mem       REG                8,1   470165           530852 /opt/conda/lib/python3.6/lib-dynload/_datetime.cpython-36m-x86_64-linux-gnu.so\r\npython     34  41 jovyan  mem       REG                8,1    78638           530882 /opt/conda/lib/python3.6/lib-dynload/binascii.cpython-36m-x86_64-linux-gnu.so\r\npython     34  41 jovyan  mem       REG                8,1    32268           530893 /opt/conda/lib/python3.6/lib-dynload/resource.cpython-36m-x86_64-linux-gnu.so\r\npython     34  41 jovyan  mem       REG                8,1    41463           530884 /opt/conda/lib/python3.6/lib-dynload/fcntl.cpython-36m-x86_64-linux-gnu.so\r\npython     34  41 jovyan  mem       REG                8,1    46964           530897 /opt/conda/lib/python3.6/lib-dynload/termios.cpython-36m-x86_64-linux-gnu.so\r\npython     34  41 jovyan  mem       REG                8,1    37999           530866 /opt/conda/lib/python3.6/lib-dynload/_random.cpython-36m-x86_64-linux-gnu.so\r\npython     34  41 jovyan  mem       REG                8,1    33663           530837 /opt/conda/lib/python3.6/lib-dynload/_bisect.cpython-36m-x86_64-linux-gnu.so\r\npython     34  41 jovyan  mem       REG                8,1   355122           530869 /opt/conda/lib/python3.6/lib-dynload/_sha3.cpython-36m-x86_64-linux-gnu.so\r\npython     34  41 jovyan  mem       REG                8,1   329909           530838 /opt/conda/lib/python3.6/lib-dynload/_blake2.cpython-36m-x86_64-linux-gnu.so\r\npython     34  41 jovyan  mem       REG                8,1  2692340           529490 /opt/conda/lib/libcrypto.so.1.0.0\r\npython     34  41 jovyan  mem       REG                8,1   549929           529572 /opt/conda/lib/libssl.so.1.0.0\r\npython     34  41 jovyan  mem       REG                8,1    92355           530855 /opt/conda/lib/python3.6/lib-dynload/_hashlib.cpython-36m-x86_64-linux-gnu.so\r\npython     34  41 jovyan  mem       REG                8,1   159628           530874 /opt/conda/lib/python3.6/lib-dynload/_struct.cpython-36m-x86_64-linux-gnu.so\r\npython     34  41 jovyan  mem       REG                8,1    20447           530863 /opt/conda/lib/python3.6/lib-dynload/_opcode.cpython-36m-x86_64-linux-gnu.so\r\npython     34  41 jovyan  mem       REG                8,1    35500           530885 /opt/conda/lib/python3.6/lib-dynload/grp.cpython-36m-x86_64-linux-gnu.so\r\npython     34  41 jovyan  mem       REG                8,1   803563           529528 /opt/conda/lib/liblzma.so.5.2.3\r\npython     34  41 jovyan  mem       REG                8,1   117498           530859 /opt/conda/lib/python3.6/lib-dynload/_lzma.cpython-36m-x86_64-linux-gnu.so\r\npython     34  41 jovyan  mem       REG                8,1   269237           530839 /opt/conda/lib/python3.6/lib-dynload/_bz2.cpython-36m-x86_64-linux-gnu.so\r\npython     34  41 jovyan  mem       REG                8,1   127973           529602 /opt/conda/lib/libz.so.1.2.11\r\npython     34  41 jovyan  mem       REG                8,1   116664           530900 /opt/conda/lib/python3.6/lib-dynload/zlib.cpython-36m-x86_64-linux-gnu.so\r\npython     34  41 jovyan  mem       REG                8,1   210293           530886 /opt/conda/lib/python3.6/lib-dynload/math.cpython-36m-x86_64-linux-gnu.so\r\npython     34  41 jovyan  mem       REG                8,1    79124           530894 /opt/conda/lib/python3.6/lib-dynload/select.cpython-36m-x86_64-linux-gnu.so\r\npython     34  41 jovyan  mem       REG                8,1    85443           530865 /opt/conda/lib/python3.6/lib-dynload/_posixsubprocess.cpython-36m-x86_64-linux-gnu.so\r\npython     34  41 jovyan  mem       REG                8,1   164929           530857 /opt/conda/lib/python3.6/lib-dynload/_json.cpython-36m-x86_64-linux-gnu.so\r\npython     34  41 jovyan  mem       REG                8,1    47058           530856 /opt/conda/lib/python3.6/lib-dynload/_heapq.cpython-36m-x86_64-linux-gnu.so\r\npython     34  41 jovyan  mem       REG                8,1  1868984           394365 /lib/x86_64-linux-gnu/libc-2.23.so\r\npython     34  41 jovyan  mem       REG                8,1  1088952           394397 /lib/x86_64-linux-gnu/libm-2.23.so\r\npython     34  41 jovyan  mem       REG                8,1    31712           394440 /lib/x86_64-linux-gnu/librt-2.23.so\r\npython     34  41 jovyan  mem       REG                8,1    10656           394460 /lib/x86_64-linux-gnu/libutil-2.23.so\r\npython     34  41 jovyan  mem       REG                8,1    14608           394378 /lib/x86_64-linux-gnu/libdl-2.23.so\r\npython     34  41 jovyan  mem       REG                8,1   138696           394433 /lib/x86_64-linux-gnu/libpthread-2.23.so\r\npython     34  41 jovyan  mem       REG                8,1 12444567           529556 /opt/conda/lib/libpython3.6m.so.1.0\r\npython     34  41 jovyan  mem       REG                8,1   162632           394345 /lib/x86_64-linux-gnu/ld-2.23.so\r\npython     34  41 jovyan  mem       REG                8,1    26258           395222 /usr/lib/x86_64-linux-gnu/gconv/gconv-modules.cache\r\npython     34  41 jovyan  mem       REG                8,1  1668976           656066 /usr/lib/locale/locale-archive\r\npython     34  41 jovyan    0r     FIFO               0,10      0t0           183161 pipe\r\npython     34  41 jovyan    1w     FIFO               0,10      0t0           177822 pipe\r\npython     34  41 jovyan    2w     FIFO               0,10      0t0           177823 pipe\r\npython     34  41 jovyan    3r      CHR                1,9      0t0           177867 /dev/urandom\r\npython     34  41 jovyan    4w      CHR                1,3      0t0           177862 /dev/null\r\npython     34  41 jovyan    5u  a_inode               0,11        0            11923 [eventfd]\r\npython     34  41 jovyan    6r      CHR                1,9      0t0           177867 /dev/urandom\r\npython     34  41 jovyan    7u  a_inode               0,11        0            11923 [eventfd]\r\npython     34  41 jovyan    8u  a_inode               0,11        0            11923 [eventpoll]\r\npython     34  41 jovyan    9u  a_inode               0,11        0            11923 [eventfd]\r\npython     34  41 jovyan   10u  a_inode               0,11        0            11923 [eventpoll]\r\npython     34  41 jovyan   11u  a_inode               0,11        0            11923 [eventfd]\r\npython     34  41 jovyan   12u     IPv4             184807      0t0              TCP localhost:56409 (LISTEN)\r\npython     34  41 jovyan   13u  a_inode               0,11        0            11923 [eventfd]\r\npython     34  41 jovyan   14u     IPv4             184809      0t0              TCP localhost:37411 (LISTEN)\r\npython     34  41 jovyan   15u  a_inode               0,11        0            11923 [eventfd]\r\npython     34  41 jovyan   16u     IPv4             184811      0t0              TCP localhost:43441 (LISTEN)\r\npython     34  41 jovyan   17u  a_inode               0,11        0            11923 [eventfd]\r\npython     34  41 jovyan   18u     IPv4             184813      0t0              TCP localhost:50275 (LISTEN)\r\npython     34  41 jovyan   19u  a_inode               0,11        0            11923 [eventpoll]\r\npython     34  41 jovyan   20u     unix 0x0000000000000000      0t0           184814 type=STREAM\r\npython     34  41 jovyan   21u     unix 0x0000000000000000      0t0           184815 type=STREAM\r\npython     34  41 jovyan   22u  a_inode               0,11        0            11923 [eventfd]\r\npython     34  41 jovyan   23u     IPv4             184817      0t0              TCP localhost:36681 (LISTEN)\r\npython     34  41 jovyan   24u  a_inode               0,11        0            11923 [eventfd]\r\npython     34  41 jovyan   25u  a_inode               0,11        0            11923 [eventfd]\r\npython     34  41 jovyan   26u  a_inode               0,11        0            11923 [eventfd]\r\npython     34  41 jovyan   27u  a_inode               0,11        0            11923 [eventpoll]\r\npython     34  41 jovyan   28u  a_inode               0,11        0            11923 [eventfd]\r\npython     34  41 jovyan   29u  a_inode               0,11        0            11923 [eventpoll]\r\npython     34  41 jovyan   30u  a_inode               0,11        0            11923 [eventfd]\r\npython     34  41 jovyan   31u     IPv4             183196      0t0              TCP localhost:44415 (LISTEN)\r\npython     34  41 jovyan   32u  a_inode               0,11        0            11923 [eventpoll]\r\npython     34  41 jovyan   33u     unix 0x0000000000000000      0t0           184818 type=STREAM\r\npython     34  41 jovyan   34u     unix 0x0000000000000000      0t0           184819 type=STREAM\r\npython     34  41 jovyan   35u      REG                8,1    28672           262667 /home/jovyan/.ipython/profile_default/history.sqlite\r\npython     34  41 jovyan   36u      REG                8,1    28672           262667 /home/jovyan/.ipython/profile_default/history.sqlite\r\npython     34  41 jovyan   37u     IPv4             183197      0t0              TCP localhost:50275->localhost:49172 (ESTABLISHED)\r\npython     34  41 jovyan   38u     IPv4             183198      0t0              TCP localhost:43441->localhost:57652 (ESTABLISHED)\r\npython     34  41 jovyan   39u  a_inode               0,11        0            11923 [eventfd]\r\npython     34  41 jovyan   40u     IPv4             183205      0t0              TCP localhost:56409->localhost:55780 (ESTABLISHED)\r\npython     34  41 jovyan   41u     IPv4             183207      0t0              TCP localhost:50275->localhost:49190 (ESTABLISHED)\r\npython     34  41 jovyan   42u     IPv4             183209      0t0              TCP localhost:37411->localhost:49246 (ESTABLISHED)\r\npython     34  42 jovyan  cwd       DIR               0,61     4096 9570149208167180 /home/jovyan/openforum2018\r\npython     34  42 jovyan  rtd       DIR               0,59     4096           181289 /\r\npython     34  42 jovyan  txt       REG                8,1    14857           529056 /opt/conda/bin/python3.6\r\npython     34  42 jovyan  mem       REG                8,1  1686154           530853 /opt/conda/lib/python3.6/lib-dynload/_decimal.cpython-36m-x86_64-linux-gnu.so\r\npython     34  42 jovyan  mem       REG                8,1   375919           530873 /opt/conda/lib/python3.6/lib-dynload/_ssl.cpython-36m-x86_64-linux-gnu.so\r\npython     34  42 jovyan  mem       REG                8,1   194106           530836 /opt/conda/lib/python3.6/lib-dynload/_asyncio.cpython-36m-x86_64-linux-gnu.so\r\npython     34  42 jovyan  mem       REG                8,1    48787           530862 /opt/conda/lib/python3.6/lib-dynload/_multiprocessing.cpython-36m-x86_64-linux-gnu.so\r\npython     34  42 jovyan  mem       REG                8,1   316595           530850 /opt/conda/lib/python3.6/lib-dynload/_curses.cpython-36m-x86_64-linux-gnu.so\r\npython     34  42 jovyan  mem       REG                8,1    17873          1708597 /opt/conda/lib/python3.6/site-packages/tornado/speedups.cpython-36m-x86_64-linux-gnu.so\r\npython     34  42 jovyan  mem       REG                8,1    18976           394463 /lib/x86_64-linux-gnu/libuuid.so.1.3.0\r\npython     34  42 jovyan  mem       REG                8,1   228724          2230844 /opt/conda/lib/python3.6/site-packages/zmq/backend/cython/_device.cpython-36m-x86_64-linux-gnu.so\r\npython     34  42 jovyan  mem       REG                8,1    98032          2230846 /opt/conda/lib/python3.6/site-packages/zmq/backend/cython/_version.cpython-36m-x86_64-linux-gnu.so\r\npython     34  42 jovyan  mem       REG                8,1   327947          2230845 /opt/conda/lib/python3.6/site-packages/zmq/backend/cython/_poll.cpython-36m-x86_64-linux-gnu.so\r\npython     34  42 jovyan  mem       REG                8,1   149930          2230859 /opt/conda/lib/python3.6/site-packages/zmq/backend/cython/utils.cpython-36m-x86_64-linux-gnu.so\r\npython     34  42 jovyan  mem       REG                8,1   730559          2230857 /opt/conda/lib/python3.6/site-packages/zmq/backend/cython/socket.cpython-36m-x86_64-linux-gnu.so\r\npython     34  42 jovyan  mem       REG                8,1   311141          2230851 /opt/conda/lib/python3.6/site-packages/zmq/backend/cython/context.cpython-36m-x86_64-linux-gnu.so\r\npython     34  42 jovyan  mem       REG                8,1   452817          2230855 /opt/conda/lib/python3.6/site-packages/zmq/backend/cython/message.cpython-36m-x86_64-linux-gnu.so\r\npython     34  42 jovyan  mem       REG                8,1   115893          2230853 /opt/conda/lib/python3.6/site-packages/zmq/backend/cython/error.cpython-36m-x86_64-linux-gnu.so\r\npython     34  42 jovyan  mem       REG                8,1   706232           529510 /opt/conda/lib/libgcc_s.so.1\r\npython     34  42 jovyan  mem       REG                8,1  8167184           529575 /opt/conda/lib/libstdc++.so.6.0.24\r\npython     34  42 jovyan  mem       REG                8,1  1289027           661987 /opt/conda/lib/libzmq.so.5.1.5\r\npython     34  42 jovyan  mem       REG                8,1   228614          2230849 /opt/conda/lib/python3.6/site-packages/zmq/backend/cython/constants.cpython-36m-x86_64-linux-gnu.so\r\npython     34  42 jovyan  mem       REG                8,1   617309           530848 /opt/conda/lib/python3.6/lib-dynload/_ctypes.cpython-36m-x86_64-linux-gnu.so\r\npython     34  42 jovyan  mem       REG                8,1    64549           530858 /opt/conda/lib/python3.6/lib-dynload/_lsprof.cpython-36m-x86_64-linux-gnu.so\r\npython     34  42 jovyan  mem       REG                8,1   339757           530871 /opt/conda/lib/python3.6/lib-dynload/_socket.cpython-36m-x86_64-linux-gnu.so\r\npython     34  42 jovyan  mem       REG                8,1   963624           530898 /opt/conda/lib/python3.6/lib-dynload/unicodedata.cpython-36m-x86_64-linux-gnu.so\r\npython     34  42 jovyan  mem       REG                8,1   187746           530880 /opt/conda/lib/python3.6/lib-dynload/array.cpython-36m-x86_64-linux-gnu.so\r\npython     34  42 jovyan  mem       REG                8,1   249585           529581 /opt/conda/lib/libtinfo.so.5.9\r\npython     34  42 jovyan  mem       REG                8,1   176142           529542 /opt/conda/lib/libncurses.so.5.9\r\npython     34  42 jovyan  mem       REG                8,1  1165114           529569 /opt/conda/lib/libsqlite3.so.0.8.6\r\npython     34  42 jovyan  mem       REG                8,1   295030           530872 /opt/conda/lib/python3.6/lib-dynload/_sqlite3.cpython-36m-x86_64-linux-gnu.so\r\npython     34  42 jovyan  mem       REG                8,1   433613           530864 /opt/conda/lib/python3.6/lib-dynload/_pickle.cpython-36m-x86_64-linux-gnu.so\r\npython     34  42 jovyan  mem       REG                8,1   470165           530852 /opt/conda/lib/python3.6/lib-dynload/_datetime.cpython-36m-x86_64-linux-gnu.so\r\npython     34  42 jovyan  mem       REG                8,1    78638           530882 /opt/conda/lib/python3.6/lib-dynload/binascii.cpython-36m-x86_64-linux-gnu.so\r\npython     34  42 jovyan  mem       REG                8,1    32268           530893 /opt/conda/lib/python3.6/lib-dynload/resource.cpython-36m-x86_64-linux-gnu.so\r\npython     34  42 jovyan  mem       REG                8,1    41463           530884 /opt/conda/lib/python3.6/lib-dynload/fcntl.cpython-36m-x86_64-linux-gnu.so\r\npython     34  42 jovyan  mem       REG                8,1    46964           530897 /opt/conda/lib/python3.6/lib-dynload/termios.cpython-36m-x86_64-linux-gnu.so\r\npython     34  42 jovyan  mem       REG                8,1    37999           530866 /opt/conda/lib/python3.6/lib-dynload/_random.cpython-36m-x86_64-linux-gnu.so\r\npython     34  42 jovyan  mem       REG                8,1    33663           530837 /opt/conda/lib/python3.6/lib-dynload/_bisect.cpython-36m-x86_64-linux-gnu.so\r\npython     34  42 jovyan  mem       REG                8,1   355122           530869 /opt/conda/lib/python3.6/lib-dynload/_sha3.cpython-36m-x86_64-linux-gnu.so\r\npython     34  42 jovyan  mem       REG                8,1   329909           530838 /opt/conda/lib/python3.6/lib-dynload/_blake2.cpython-36m-x86_64-linux-gnu.so\r\npython     34  42 jovyan  mem       REG                8,1  2692340           529490 /opt/conda/lib/libcrypto.so.1.0.0\r\npython     34  42 jovyan  mem       REG                8,1   549929           529572 /opt/conda/lib/libssl.so.1.0.0\r\npython     34  42 jovyan  mem       REG                8,1    92355           530855 /opt/conda/lib/python3.6/lib-dynload/_hashlib.cpython-36m-x86_64-linux-gnu.so\r\npython     34  42 jovyan  mem       REG                8,1   159628           530874 /opt/conda/lib/python3.6/lib-dynload/_struct.cpython-36m-x86_64-linux-gnu.so\r\npython     34  42 jovyan  mem       REG                8,1    20447           530863 /opt/conda/lib/python3.6/lib-dynload/_opcode.cpython-36m-x86_64-linux-gnu.so\r\npython     34  42 jovyan  mem       REG                8,1    35500           530885 /opt/conda/lib/python3.6/lib-dynload/grp.cpython-36m-x86_64-linux-gnu.so\r\npython     34  42 jovyan  mem       REG                8,1   803563           529528 /opt/conda/lib/liblzma.so.5.2.3\r\npython     34  42 jovyan  mem       REG                8,1   117498           530859 /opt/conda/lib/python3.6/lib-dynload/_lzma.cpython-36m-x86_64-linux-gnu.so\r\npython     34  42 jovyan  mem       REG                8,1   269237           530839 /opt/conda/lib/python3.6/lib-dynload/_bz2.cpython-36m-x86_64-linux-gnu.so\r\npython     34  42 jovyan  mem       REG                8,1   127973           529602 /opt/conda/lib/libz.so.1.2.11\r\npython     34  42 jovyan  mem       REG                8,1   116664           530900 /opt/conda/lib/python3.6/lib-dynload/zlib.cpython-36m-x86_64-linux-gnu.so\r\npython     34  42 jovyan  mem       REG                8,1   210293           530886 /opt/conda/lib/python3.6/lib-dynload/math.cpython-36m-x86_64-linux-gnu.so\r\npython     34  42 jovyan  mem       REG                8,1    79124           530894 /opt/conda/lib/python3.6/lib-dynload/select.cpython-36m-x86_64-linux-gnu.so\r\npython     34  42 jovyan  mem       REG                8,1    85443           530865 /opt/conda/lib/python3.6/lib-dynload/_posixsubprocess.cpython-36m-x86_64-linux-gnu.so\r\npython     34  42 jovyan  mem       REG                8,1   164929           530857 /opt/conda/lib/python3.6/lib-dynload/_json.cpython-36m-x86_64-linux-gnu.so\r\npython     34  42 jovyan  mem       REG                8,1    47058           530856 /opt/conda/lib/python3.6/lib-dynload/_heapq.cpython-36m-x86_64-linux-gnu.so\r\npython     34  42 jovyan  mem       REG                8,1  1868984           394365 /lib/x86_64-linux-gnu/libc-2.23.so\r\npython     34  42 jovyan  mem       REG                8,1  1088952           394397 /lib/x86_64-linux-gnu/libm-2.23.so\r\npython     34  42 jovyan  mem       REG                8,1    31712           394440 /lib/x86_64-linux-gnu/librt-2.23.so\r\npython     34  42 jovyan  mem       REG                8,1    10656           394460 /lib/x86_64-linux-gnu/libutil-2.23.so\r\npython     34  42 jovyan  mem       REG                8,1    14608           394378 /lib/x86_64-linux-gnu/libdl-2.23.so\r\npython     34  42 jovyan  mem       REG                8,1   138696           394433 /lib/x86_64-linux-gnu/libpthread-2.23.so\r\npython     34  42 jovyan  mem       REG                8,1 12444567           529556 /opt/conda/lib/libpython3.6m.so.1.0\r\npython     34  42 jovyan  mem       REG                8,1   162632           394345 /lib/x86_64-linux-gnu/ld-2.23.so\r\npython     34  42 jovyan  mem       REG                8,1    26258           395222 /usr/lib/x86_64-linux-gnu/gconv/gconv-modules.cache\r\npython     34  42 jovyan  mem       REG                8,1  1668976           656066 /usr/lib/locale/locale-archive\r\npython     34  42 jovyan    0r     FIFO               0,10      0t0           183161 pipe\r\npython     34  42 jovyan    1w     FIFO               0,10      0t0           177822 pipe\r\npython     34  42 jovyan    2w     FIFO               0,10      0t0           177823 pipe\r\npython     34  42 jovyan    3r      CHR                1,9      0t0           177867 /dev/urandom\r\npython     34  42 jovyan    4w      CHR                1,3      0t0           177862 /dev/null\r\npython     34  42 jovyan    5u  a_inode               0,11        0            11923 [eventfd]\r\npython     34  42 jovyan    6r      CHR                1,9      0t0           177867 /dev/urandom\r\npython     34  42 jovyan    7u  a_inode               0,11        0            11923 [eventfd]\r\npython     34  42 jovyan    8u  a_inode               0,11        0            11923 [eventpoll]\r\npython     34  42 jovyan    9u  a_inode               0,11        0            11923 [eventfd]\r\npython     34  42 jovyan   10u  a_inode               0,11        0            11923 [eventpoll]\r\npython     34  42 jovyan   11u  a_inode               0,11        0            11923 [eventfd]\r\npython     34  42 jovyan   12u     IPv4             184807      0t0              TCP localhost:56409 (LISTEN)\r\npython     34  42 jovyan   13u  a_inode               0,11        0            11923 [eventfd]\r\npython     34  42 jovyan   14u     IPv4             184809      0t0              TCP localhost:37411 (LISTEN)\r\npython     34  42 jovyan   15u  a_inode               0,11        0            11923 [eventfd]\r\npython     34  42 jovyan   16u     IPv4             184811      0t0              TCP localhost:43441 (LISTEN)\r\npython     34  42 jovyan   17u  a_inode               0,11        0            11923 [eventfd]\r\npython     34  42 jovyan   18u     IPv4             184813      0t0              TCP localhost:50275 (LISTEN)\r\npython     34  42 jovyan   19u  a_inode               0,11        0            11923 [eventpoll]\r\npython     34  42 jovyan   20u     unix 0x0000000000000000      0t0           184814 type=STREAM\r\npython     34  42 jovyan   21u     unix 0x0000000000000000      0t0           184815 type=STREAM\r\npython     34  42 jovyan   22u  a_inode               0,11        0            11923 [eventfd]\r\npython     34  42 jovyan   23u     IPv4             184817      0t0              TCP localhost:36681 (LISTEN)\r\npython     34  42 jovyan   24u  a_inode               0,11        0            11923 [eventfd]\r\npython     34  42 jovyan   25u  a_inode               0,11        0            11923 [eventfd]\r\npython     34  42 jovyan   26u  a_inode               0,11        0            11923 [eventfd]\r\npython     34  42 jovyan   27u  a_inode               0,11        0            11923 [eventpoll]\r\npython     34  42 jovyan   28u  a_inode               0,11        0            11923 [eventfd]\r\npython     34  42 jovyan   29u  a_inode               0,11        0            11923 [eventpoll]\r\npython     34  42 jovyan   30u  a_inode               0,11        0            11923 [eventfd]\r\npython     34  42 jovyan   31u     IPv4             183196      0t0              TCP localhost:44415 (LISTEN)\r\npython     34  42 jovyan   32u  a_inode               0,11        0            11923 [eventpoll]\r\npython     34  42 jovyan   33u     unix 0x0000000000000000      0t0           184818 type=STREAM\r\npython     34  42 jovyan   34u     unix 0x0000000000000000      0t0           184819 type=STREAM\r\npython     34  42 jovyan   35u      REG                8,1    28672           262667 /home/jovyan/.ipython/profile_default/history.sqlite\r\npython     34  42 jovyan   36u      REG                8,1    28672           262667 /home/jovyan/.ipython/profile_default/history.sqlite\r\npython     34  42 jovyan   37u     IPv4             183197      0t0              TCP localhost:50275->localhost:49172 (ESTABLISHED)\r\npython     34  42 jovyan   38u     IPv4             183198      0t0              TCP localhost:43441->localhost:57652 (ESTABLISHED)\r\npython     34  42 jovyan   39u  a_inode               0,11        0            11923 [eventfd]\r\npython     34  42 jovyan   40u     IPv4             183205      0t0              TCP localhost:56409->localhost:55780 (ESTABLISHED)\r\npython     34  42 jovyan   41u     IPv4             183207      0t0              TCP localhost:50275->localhost:49190 (ESTABLISHED)\r\npython     34  42 jovyan   42u     IPv4             183209      0t0              TCP localhost:37411->localhost:49246 (ESTABLISHED)\r\nZMQbg/2    34  43 jovyan  cwd       DIR               0,61     4096 9570149208167180 /home/jovyan/openforum2018\r\nZMQbg/2    34  43 jovyan  rtd       DIR               0,59     4096           181289 /\r\nZMQbg/2    34  43 jovyan  txt       REG                8,1    14857           529056 /opt/conda/bin/python3.6\r\nZMQbg/2    34  43 jovyan  mem       REG                8,1  1686154           530853 /opt/conda/lib/python3.6/lib-dynload/_decimal.cpython-36m-x86_64-linux-gnu.so\r\nZMQbg/2    34  43 jovyan  mem       REG                8,1   375919           530873 /opt/conda/lib/python3.6/lib-dynload/_ssl.cpython-36m-x86_64-linux-gnu.so\r\nZMQbg/2    34  43 jovyan  mem       REG                8,1   194106           530836 /opt/conda/lib/python3.6/lib-dynload/_asyncio.cpython-36m-x86_64-linux-gnu.so\r\nZMQbg/2    34  43 jovyan  mem       REG                8,1    48787           530862 /opt/conda/lib/python3.6/lib-dynload/_multiprocessing.cpython-36m-x86_64-linux-gnu.so\r\nZMQbg/2    34  43 jovyan  mem       REG                8,1   316595           530850 /opt/conda/lib/python3.6/lib-dynload/_curses.cpython-36m-x86_64-linux-gnu.so\r\nZMQbg/2    34  43 jovyan  mem       REG                8,1    17873          1708597 /opt/conda/lib/python3.6/site-packages/tornado/speedups.cpython-36m-x86_64-linux-gnu.so\r\nZMQbg/2    34  43 jovyan  mem       REG                8,1    18976           394463 /lib/x86_64-linux-gnu/libuuid.so.1.3.0\r\nZMQbg/2    34  43 jovyan  mem       REG                8,1   228724          2230844 /opt/conda/lib/python3.6/site-packages/zmq/backend/cython/_device.cpython-36m-x86_64-linux-gnu.so\r\nZMQbg/2    34  43 jovyan  mem       REG                8,1    98032          2230846 /opt/conda/lib/python3.6/site-packages/zmq/backend/cython/_version.cpython-36m-x86_64-linux-gnu.so\r\nZMQbg/2    34  43 jovyan  mem       REG                8,1   327947          2230845 /opt/conda/lib/python3.6/site-packages/zmq/backend/cython/_poll.cpython-36m-x86_64-linux-gnu.so\r\nZMQbg/2    34  43 jovyan  mem       REG                8,1   149930          2230859 /opt/conda/lib/python3.6/site-packages/zmq/backend/cython/utils.cpython-36m-x86_64-linux-gnu.so\r\nZMQbg/2    34  43 jovyan  mem       REG                8,1   730559          2230857 /opt/conda/lib/python3.6/site-packages/zmq/backend/cython/socket.cpython-36m-x86_64-linux-gnu.so\r\nZMQbg/2    34  43 jovyan  mem       REG                8,1   311141          2230851 /opt/conda/lib/python3.6/site-packages/zmq/backend/cython/context.cpython-36m-x86_64-linux-gnu.so\r\nZMQbg/2    34  43 jovyan  mem       REG                8,1   452817          2230855 /opt/conda/lib/python3.6/site-packages/zmq/backend/cython/message.cpython-36m-x86_64-linux-gnu.so\r\nZMQbg/2    34  43 jovyan  mem       REG                8,1   115893          2230853 /opt/conda/lib/python3.6/site-packages/zmq/backend/cython/error.cpython-36m-x86_64-linux-gnu.so\r\nZMQbg/2    34  43 jovyan  mem       REG                8,1   706232           529510 /opt/conda/lib/libgcc_s.so.1\r\nZMQbg/2    34  43 jovyan  mem       REG                8,1  8167184           529575 /opt/conda/lib/libstdc++.so.6.0.24\r\nZMQbg/2    34  43 jovyan  mem       REG                8,1  1289027           661987 /opt/conda/lib/libzmq.so.5.1.5\r\nZMQbg/2    34  43 jovyan  mem       REG                8,1   228614          2230849 /opt/conda/lib/python3.6/site-packages/zmq/backend/cython/constants.cpython-36m-x86_64-linux-gnu.so\r\nZMQbg/2    34  43 jovyan  mem       REG                8,1   617309           530848 /opt/conda/lib/python3.6/lib-dynload/_ctypes.cpython-36m-x86_64-linux-gnu.so\r\nZMQbg/2    34  43 jovyan  mem       REG                8,1    64549           530858 /opt/conda/lib/python3.6/lib-dynload/_lsprof.cpython-36m-x86_64-linux-gnu.so\r\nZMQbg/2    34  43 jovyan  mem       REG                8,1   339757           530871 /opt/conda/lib/python3.6/lib-dynload/_socket.cpython-36m-x86_64-linux-gnu.so\r\nZMQbg/2    34  43 jovyan  mem       REG                8,1   963624           530898 /opt/conda/lib/python3.6/lib-dynload/unicodedata.cpython-36m-x86_64-linux-gnu.so\r\nZMQbg/2    34  43 jovyan  mem       REG                8,1   187746           530880 /opt/conda/lib/python3.6/lib-dynload/array.cpython-36m-x86_64-linux-gnu.so\r\nZMQbg/2    34  43 jovyan  mem       REG                8,1   249585           529581 /opt/conda/lib/libtinfo.so.5.9\r\nZMQbg/2    34  43 jovyan  mem       REG                8,1   176142           529542 /opt/conda/lib/libncurses.so.5.9\r\nZMQbg/2    34  43 jovyan  mem       REG                8,1  1165114           529569 /opt/conda/lib/libsqlite3.so.0.8.6\r\nZMQbg/2    34  43 jovyan  mem       REG                8,1   295030           530872 /opt/conda/lib/python3.6/lib-dynload/_sqlite3.cpython-36m-x86_64-linux-gnu.so\r\nZMQbg/2    34  43 jovyan  mem       REG                8,1   433613           530864 /opt/conda/lib/python3.6/lib-dynload/_pickle.cpython-36m-x86_64-linux-gnu.so\r\nZMQbg/2    34  43 jovyan  mem       REG                8,1   470165           530852 /opt/conda/lib/python3.6/lib-dynload/_datetime.cpython-36m-x86_64-linux-gnu.so\r\nZMQbg/2    34  43 jovyan  mem       REG                8,1    78638           530882 /opt/conda/lib/python3.6/lib-dynload/binascii.cpython-36m-x86_64-linux-gnu.so\r\nZMQbg/2    34  43 jovyan  mem       REG                8,1    32268           530893 /opt/conda/lib/python3.6/lib-dynload/resource.cpython-36m-x86_64-linux-gnu.so\r\nZMQbg/2    34  43 jovyan  mem       REG                8,1    41463           530884 /opt/conda/lib/python3.6/lib-dynload/fcntl.cpython-36m-x86_64-linux-gnu.so\r\nZMQbg/2    34  43 jovyan  mem       REG                8,1    46964           530897 /opt/conda/lib/python3.6/lib-dynload/termios.cpython-36m-x86_64-linux-gnu.so\r\nZMQbg/2    34  43 jovyan  mem       REG                8,1    37999           530866 /opt/conda/lib/python3.6/lib-dynload/_random.cpython-36m-x86_64-linux-gnu.so\r\nZMQbg/2    34  43 jovyan  mem       REG                8,1    33663           530837 /opt/conda/lib/python3.6/lib-dynload/_bisect.cpython-36m-x86_64-linux-gnu.so\r\nZMQbg/2    34  43 jovyan  mem       REG                8,1   355122           530869 /opt/conda/lib/python3.6/lib-dynload/_sha3.cpython-36m-x86_64-linux-gnu.so\r\nZMQbg/2    34  43 jovyan  mem       REG                8,1   329909           530838 /opt/conda/lib/python3.6/lib-dynload/_blake2.cpython-36m-x86_64-linux-gnu.so\r\nZMQbg/2    34  43 jovyan  mem       REG                8,1  2692340           529490 /opt/conda/lib/libcrypto.so.1.0.0\r\nZMQbg/2    34  43 jovyan  mem       REG                8,1   549929           529572 /opt/conda/lib/libssl.so.1.0.0\r\nZMQbg/2    34  43 jovyan  mem       REG                8,1    92355           530855 /opt/conda/lib/python3.6/lib-dynload/_hashlib.cpython-36m-x86_64-linux-gnu.so\r\nZMQbg/2    34  43 jovyan  mem       REG                8,1   159628           530874 /opt/conda/lib/python3.6/lib-dynload/_struct.cpython-36m-x86_64-linux-gnu.so\r\nZMQbg/2    34  43 jovyan  mem       REG                8,1    20447           530863 /opt/conda/lib/python3.6/lib-dynload/_opcode.cpython-36m-x86_64-linux-gnu.so\r\nZMQbg/2    34  43 jovyan  mem       REG                8,1    35500           530885 /opt/conda/lib/python3.6/lib-dynload/grp.cpython-36m-x86_64-linux-gnu.so\r\nZMQbg/2    34  43 jovyan  mem       REG                8,1   803563           529528 /opt/conda/lib/liblzma.so.5.2.3\r\nZMQbg/2    34  43 jovyan  mem       REG                8,1   117498           530859 /opt/conda/lib/python3.6/lib-dynload/_lzma.cpython-36m-x86_64-linux-gnu.so\r\nZMQbg/2    34  43 jovyan  mem       REG                8,1   269237           530839 /opt/conda/lib/python3.6/lib-dynload/_bz2.cpython-36m-x86_64-linux-gnu.so\r\nZMQbg/2    34  43 jovyan  mem       REG                8,1   127973           529602 /opt/conda/lib/libz.so.1.2.11\r\nZMQbg/2    34  43 jovyan  mem       REG                8,1   116664           530900 /opt/conda/lib/python3.6/lib-dynload/zlib.cpython-36m-x86_64-linux-gnu.so\r\nZMQbg/2    34  43 jovyan  mem       REG                8,1   210293           530886 /opt/conda/lib/python3.6/lib-dynload/math.cpython-36m-x86_64-linux-gnu.so\r\nZMQbg/2    34  43 jovyan  mem       REG                8,1    79124           530894 /opt/conda/lib/python3.6/lib-dynload/select.cpython-36m-x86_64-linux-gnu.so\r\nZMQbg/2    34  43 jovyan  mem       REG                8,1    85443           530865 /opt/conda/lib/python3.6/lib-dynload/_posixsubprocess.cpython-36m-x86_64-linux-gnu.so\r\nZMQbg/2    34  43 jovyan  mem       REG                8,1   164929           530857 /opt/conda/lib/python3.6/lib-dynload/_json.cpython-36m-x86_64-linux-gnu.so\r\nZMQbg/2    34  43 jovyan  mem       REG                8,1    47058           530856 /opt/conda/lib/python3.6/lib-dynload/_heapq.cpython-36m-x86_64-linux-gnu.so\r\nZMQbg/2    34  43 jovyan  mem       REG                8,1  1868984           394365 /lib/x86_64-linux-gnu/libc-2.23.so\r\nZMQbg/2    34  43 jovyan  mem       REG                8,1  1088952           394397 /lib/x86_64-linux-gnu/libm-2.23.so\r\nZMQbg/2    34  43 jovyan  mem       REG                8,1    31712           394440 /lib/x86_64-linux-gnu/librt-2.23.so\r\nZMQbg/2    34  43 jovyan  mem       REG                8,1    10656           394460 /lib/x86_64-linux-gnu/libutil-2.23.so\r\nZMQbg/2    34  43 jovyan  mem       REG                8,1    14608           394378 /lib/x86_64-linux-gnu/libdl-2.23.so\r\nZMQbg/2    34  43 jovyan  mem       REG                8,1   138696           394433 /lib/x86_64-linux-gnu/libpthread-2.23.so\r\nZMQbg/2    34  43 jovyan  mem       REG                8,1 12444567           529556 /opt/conda/lib/libpython3.6m.so.1.0\r\nZMQbg/2    34  43 jovyan  mem       REG                8,1   162632           394345 /lib/x86_64-linux-gnu/ld-2.23.so\r\nZMQbg/2    34  43 jovyan  mem       REG                8,1    26258           395222 /usr/lib/x86_64-linux-gnu/gconv/gconv-modules.cache\r\nZMQbg/2    34  43 jovyan  mem       REG                8,1  1668976           656066 /usr/lib/locale/locale-archive\r\nZMQbg/2    34  43 jovyan    0r     FIFO               0,10      0t0           183161 pipe\r\nZMQbg/2    34  43 jovyan    1w     FIFO               0,10      0t0           177822 pipe\r\nZMQbg/2    34  43 jovyan    2w     FIFO               0,10      0t0           177823 pipe\r\nZMQbg/2    34  43 jovyan    3r      CHR                1,9      0t0           177867 /dev/urandom\r\nZMQbg/2    34  43 jovyan    4w      CHR                1,3      0t0           177862 /dev/null\r\nZMQbg/2    34  43 jovyan    5u  a_inode               0,11        0            11923 [eventfd]\r\nZMQbg/2    34  43 jovyan    6r      CHR                1,9      0t0           177867 /dev/urandom\r\nZMQbg/2    34  43 jovyan    7u  a_inode               0,11        0            11923 [eventfd]\r\nZMQbg/2    34  43 jovyan    8u  a_inode               0,11        0            11923 [eventpoll]\r\nZMQbg/2    34  43 jovyan    9u  a_inode               0,11        0            11923 [eventfd]\r\nZMQbg/2    34  43 jovyan   10u  a_inode               0,11        0            11923 [eventpoll]\r\nZMQbg/2    34  43 jovyan   11u  a_inode               0,11        0            11923 [eventfd]\r\nZMQbg/2    34  43 jovyan   12u     IPv4             184807      0t0              TCP localhost:56409 (LISTEN)\r\nZMQbg/2    34  43 jovyan   13u  a_inode               0,11        0            11923 [eventfd]\r\nZMQbg/2    34  43 jovyan   14u     IPv4             184809      0t0              TCP localhost:37411 (LISTEN)\r\nZMQbg/2    34  43 jovyan   15u  a_inode               0,11        0            11923 [eventfd]\r\nZMQbg/2    34  43 jovyan   16u     IPv4             184811      0t0              TCP localhost:43441 (LISTEN)\r\nZMQbg/2    34  43 jovyan   17u  a_inode               0,11        0            11923 [eventfd]\r\nZMQbg/2    34  43 jovyan   18u     IPv4             184813      0t0              TCP localhost:50275 (LISTEN)\r\nZMQbg/2    34  43 jovyan   19u  a_inode               0,11        0            11923 [eventpoll]\r\nZMQbg/2    34  43 jovyan   20u     unix 0x0000000000000000      0t0           184814 type=STREAM\r\nZMQbg/2    34  43 jovyan   21u     unix 0x0000000000000000      0t0           184815 type=STREAM\r\nZMQbg/2    34  43 jovyan   22u  a_inode               0,11        0            11923 [eventfd]\r\nZMQbg/2    34  43 jovyan   23u     IPv4             184817      0t0              TCP localhost:36681 (LISTEN)\r\nZMQbg/2    34  43 jovyan   24u  a_inode               0,11        0            11923 [eventfd]\r\nZMQbg/2    34  43 jovyan   25u  a_inode               0,11        0            11923 [eventfd]\r\nZMQbg/2    34  43 jovyan   26u  a_inode               0,11        0            11923 [eventfd]\r\nZMQbg/2    34  43 jovyan   27u  a_inode               0,11        0            11923 [eventpoll]\r\nZMQbg/2    34  43 jovyan   28u  a_inode               0,11        0            11923 [eventfd]\r\nZMQbg/2    34  43 jovyan   29u  a_inode               0,11        0            11923 [eventpoll]\r\nZMQbg/2    34  43 jovyan   30u  a_inode               0,11        0            11923 [eventfd]\r\nZMQbg/2    34  43 jovyan   31u     IPv4             183196      0t0              TCP localhost:44415 (LISTEN)\r\nZMQbg/2    34  43 jovyan   32u  a_inode               0,11        0            11923 [eventpoll]\r\nZMQbg/2    34  43 jovyan   33u     unix 0x0000000000000000      0t0           184818 type=STREAM\r\nZMQbg/2    34  43 jovyan   34u     unix 0x0000000000000000      0t0           184819 type=STREAM\r\nZMQbg/2    34  43 jovyan   35u      REG                8,1    28672           262667 /home/jovyan/.ipython/profile_default/history.sqlite\r\nZMQbg/2    34  43 jovyan   36u      REG                8,1    28672           262667 /home/jovyan/.ipython/profile_default/history.sqlite\r\nZMQbg/2    34  43 jovyan   37u     IPv4             183197      0t0              TCP localhost:50275->localhost:49172 (ESTABLISHED)\r\nZMQbg/2    34  43 jovyan   38u     IPv4             183198      0t0              TCP localhost:43441->localhost:57652 (ESTABLISHED)\r\nZMQbg/2    34  43 jovyan   39u  a_inode               0,11        0            11923 [eventfd]\r\nZMQbg/2    34  43 jovyan   40u     IPv4             183205      0t0              TCP localhost:56409->localhost:55780 (ESTABLISHED)\r\nZMQbg/2    34  43 jovyan   41u     IPv4             183207      0t0              TCP localhost:50275->localhost:49190 (ESTABLISHED)\r\nZMQbg/2    34  43 jovyan   42u     IPv4             183209      0t0              TCP localhost:37411->localhost:49246 (ESTABLISHED)\r\nZMQbg/3    34  44 jovyan  cwd       DIR               0,61     4096 9570149208167180 /home/jovyan/openforum2018\r\nZMQbg/3    34  44 jovyan  rtd       DIR               0,59     4096           181289 /\r\nZMQbg/3    34  44 jovyan  txt       REG                8,1    14857           529056 /opt/conda/bin/python3.6\r\nZMQbg/3    34  44 jovyan  mem       REG                8,1  1686154           530853 /opt/conda/lib/python3.6/lib-dynload/_decimal.cpython-36m-x86_64-linux-gnu.so\r\nZMQbg/3    34  44 jovyan  mem       REG                8,1   375919           530873 /opt/conda/lib/python3.6/lib-dynload/_ssl.cpython-36m-x86_64-linux-gnu.so\r\nZMQbg/3    34  44 jovyan  mem       REG                8,1   194106           530836 /opt/conda/lib/python3.6/lib-dynload/_asyncio.cpython-36m-x86_64-linux-gnu.so\r\nZMQbg/3    34  44 jovyan  mem       REG                8,1    48787           530862 /opt/conda/lib/python3.6/lib-dynload/_multiprocessing.cpython-36m-x86_64-linux-gnu.so\r\nZMQbg/3    34  44 jovyan  mem       REG                8,1   316595           530850 /opt/conda/lib/python3.6/lib-dynload/_curses.cpython-36m-x86_64-linux-gnu.so\r\nZMQbg/3    34  44 jovyan  mem       REG                8,1    17873          1708597 /opt/conda/lib/python3.6/site-packages/tornado/speedups.cpython-36m-x86_64-linux-gnu.so\r\nZMQbg/3    34  44 jovyan  mem       REG                8,1    18976           394463 /lib/x86_64-linux-gnu/libuuid.so.1.3.0\r\nZMQbg/3    34  44 jovyan  mem       REG                8,1   228724          2230844 /opt/conda/lib/python3.6/site-packages/zmq/backend/cython/_device.cpython-36m-x86_64-linux-gnu.so\r\nZMQbg/3    34  44 jovyan  mem       REG                8,1    98032          2230846 /opt/conda/lib/python3.6/site-packages/zmq/backend/cython/_version.cpython-36m-x86_64-linux-gnu.so\r\nZMQbg/3    34  44 jovyan  mem       REG                8,1   327947          2230845 /opt/conda/lib/python3.6/site-packages/zmq/backend/cython/_poll.cpython-36m-x86_64-linux-gnu.so\r\nZMQbg/3    34  44 jovyan  mem       REG                8,1   149930          2230859 /opt/conda/lib/python3.6/site-packages/zmq/backend/cython/utils.cpython-36m-x86_64-linux-gnu.so\r\nZMQbg/3    34  44 jovyan  mem       REG                8,1   730559          2230857 /opt/conda/lib/python3.6/site-packages/zmq/backend/cython/socket.cpython-36m-x86_64-linux-gnu.so\r\nZMQbg/3    34  44 jovyan  mem       REG                8,1   311141          2230851 /opt/conda/lib/python3.6/site-packages/zmq/backend/cython/context.cpython-36m-x86_64-linux-gnu.so\r\nZMQbg/3    34  44 jovyan  mem       REG                8,1   452817          2230855 /opt/conda/lib/python3.6/site-packages/zmq/backend/cython/message.cpython-36m-x86_64-linux-gnu.so\r\nZMQbg/3    34  44 jovyan  mem       REG                8,1   115893          2230853 /opt/conda/lib/python3.6/site-packages/zmq/backend/cython/error.cpython-36m-x86_64-linux-gnu.so\r\nZMQbg/3    34  44 jovyan  mem       REG                8,1   706232           529510 /opt/conda/lib/libgcc_s.so.1\r\nZMQbg/3    34  44 jovyan  mem       REG                8,1  8167184           529575 /opt/conda/lib/libstdc++.so.6.0.24\r\nZMQbg/3    34  44 jovyan  mem       REG                8,1  1289027           661987 /opt/conda/lib/libzmq.so.5.1.5\r\nZMQbg/3    34  44 jovyan  mem       REG                8,1   228614          2230849 /opt/conda/lib/python3.6/site-packages/zmq/backend/cython/constants.cpython-36m-x86_64-linux-gnu.so\r\nZMQbg/3    34  44 jovyan  mem       REG                8,1   617309           530848 /opt/conda/lib/python3.6/lib-dynload/_ctypes.cpython-36m-x86_64-linux-gnu.so\r\nZMQbg/3    34  44 jovyan  mem       REG                8,1    64549           530858 /opt/conda/lib/python3.6/lib-dynload/_lsprof.cpython-36m-x86_64-linux-gnu.so\r\nZMQbg/3    34  44 jovyan  mem       REG                8,1   339757           530871 /opt/conda/lib/python3.6/lib-dynload/_socket.cpython-36m-x86_64-linux-gnu.so\r\nZMQbg/3    34  44 jovyan  mem       REG                8,1   963624           530898 /opt/conda/lib/python3.6/lib-dynload/unicodedata.cpython-36m-x86_64-linux-gnu.so\r\nZMQbg/3    34  44 jovyan  mem       REG                8,1   187746           530880 /opt/conda/lib/python3.6/lib-dynload/array.cpython-36m-x86_64-linux-gnu.so\r\nZMQbg/3    34  44 jovyan  mem       REG                8,1   249585           529581 /opt/conda/lib/libtinfo.so.5.9\r\nZMQbg/3    34  44 jovyan  mem       REG                8,1   176142           529542 /opt/conda/lib/libncurses.so.5.9\r\nZMQbg/3    34  44 jovyan  mem       REG                8,1  1165114           529569 /opt/conda/lib/libsqlite3.so.0.8.6\r\nZMQbg/3    34  44 jovyan  mem       REG                8,1   295030           530872 /opt/conda/lib/python3.6/lib-dynload/_sqlite3.cpython-36m-x86_64-linux-gnu.so\r\nZMQbg/3    34  44 jovyan  mem       REG                8,1   433613           530864 /opt/conda/lib/python3.6/lib-dynload/_pickle.cpython-36m-x86_64-linux-gnu.so\r\nZMQbg/3    34  44 jovyan  mem       REG                8,1   470165           530852 /opt/conda/lib/python3.6/lib-dynload/_datetime.cpython-36m-x86_64-linux-gnu.so\r\nZMQbg/3    34  44 jovyan  mem       REG                8,1    78638           530882 /opt/conda/lib/python3.6/lib-dynload/binascii.cpython-36m-x86_64-linux-gnu.so\r\nZMQbg/3    34  44 jovyan  mem       REG                8,1    32268           530893 /opt/conda/lib/python3.6/lib-dynload/resource.cpython-36m-x86_64-linux-gnu.so\r\nZMQbg/3    34  44 jovyan  mem       REG                8,1    41463           530884 /opt/conda/lib/python3.6/lib-dynload/fcntl.cpython-36m-x86_64-linux-gnu.so\r\nZMQbg/3    34  44 jovyan  mem       REG                8,1    46964           530897 /opt/conda/lib/python3.6/lib-dynload/termios.cpython-36m-x86_64-linux-gnu.so\r\nZMQbg/3    34  44 jovyan  mem       REG                8,1    37999           530866 /opt/conda/lib/python3.6/lib-dynload/_random.cpython-36m-x86_64-linux-gnu.so\r\nZMQbg/3    34  44 jovyan  mem       REG                8,1    33663           530837 /opt/conda/lib/python3.6/lib-dynload/_bisect.cpython-36m-x86_64-linux-gnu.so\r\nZMQbg/3    34  44 jovyan  mem       REG                8,1   355122           530869 /opt/conda/lib/python3.6/lib-dynload/_sha3.cpython-36m-x86_64-linux-gnu.so\r\nZMQbg/3    34  44 jovyan  mem       REG                8,1   329909           530838 /opt/conda/lib/python3.6/lib-dynload/_blake2.cpython-36m-x86_64-linux-gnu.so\r\nZMQbg/3    34  44 jovyan  mem       REG                8,1  2692340           529490 /opt/conda/lib/libcrypto.so.1.0.0\r\nZMQbg/3    34  44 jovyan  mem       REG                8,1   549929           529572 /opt/conda/lib/libssl.so.1.0.0\r\nZMQbg/3    34  44 jovyan  mem       REG                8,1    92355           530855 /opt/conda/lib/python3.6/lib-dynload/_hashlib.cpython-36m-x86_64-linux-gnu.so\r\nZMQbg/3    34  44 jovyan  mem       REG                8,1   159628           530874 /opt/conda/lib/python3.6/lib-dynload/_struct.cpython-36m-x86_64-linux-gnu.so\r\nZMQbg/3    34  44 jovyan  mem       REG                8,1    20447           530863 /opt/conda/lib/python3.6/lib-dynload/_opcode.cpython-36m-x86_64-linux-gnu.so\r\nZMQbg/3    34  44 jovyan  mem       REG                8,1    35500           530885 /opt/conda/lib/python3.6/lib-dynload/grp.cpython-36m-x86_64-linux-gnu.so\r\nZMQbg/3    34  44 jovyan  mem       REG                8,1   803563           529528 /opt/conda/lib/liblzma.so.5.2.3\r\nZMQbg/3    34  44 jovyan  mem       REG                8,1   117498           530859 /opt/conda/lib/python3.6/lib-dynload/_lzma.cpython-36m-x86_64-linux-gnu.so\r\nZMQbg/3    34  44 jovyan  mem       REG                8,1   269237           530839 /opt/conda/lib/python3.6/lib-dynload/_bz2.cpython-36m-x86_64-linux-gnu.so\r\nZMQbg/3    34  44 jovyan  mem       REG                8,1   127973           529602 /opt/conda/lib/libz.so.1.2.11\r\nZMQbg/3    34  44 jovyan  mem       REG                8,1   116664           530900 /opt/conda/lib/python3.6/lib-dynload/zlib.cpython-36m-x86_64-linux-gnu.so\r\nZMQbg/3    34  44 jovyan  mem       REG                8,1   210293           530886 /opt/conda/lib/python3.6/lib-dynload/math.cpython-36m-x86_64-linux-gnu.so\r\nZMQbg/3    34  44 jovyan  mem       REG                8,1    79124           530894 /opt/conda/lib/python3.6/lib-dynload/select.cpython-36m-x86_64-linux-gnu.so\r\nZMQbg/3    34  44 jovyan  mem       REG                8,1    85443           530865 /opt/conda/lib/python3.6/lib-dynload/_posixsubprocess.cpython-36m-x86_64-linux-gnu.so\r\nZMQbg/3    34  44 jovyan  mem       REG                8,1   164929           530857 /opt/conda/lib/python3.6/lib-dynload/_json.cpython-36m-x86_64-linux-gnu.so\r\nZMQbg/3    34  44 jovyan  mem       REG                8,1    47058           530856 /opt/conda/lib/python3.6/lib-dynload/_heapq.cpython-36m-x86_64-linux-gnu.so\r\nZMQbg/3    34  44 jovyan  mem       REG                8,1  1868984           394365 /lib/x86_64-linux-gnu/libc-2.23.so\r\nZMQbg/3    34  44 jovyan  mem       REG                8,1  1088952           394397 /lib/x86_64-linux-gnu/libm-2.23.so\r\nZMQbg/3    34  44 jovyan  mem       REG                8,1    31712           394440 /lib/x86_64-linux-gnu/librt-2.23.so\r\nZMQbg/3    34  44 jovyan  mem       REG                8,1    10656           394460 /lib/x86_64-linux-gnu/libutil-2.23.so\r\nZMQbg/3    34  44 jovyan  mem       REG                8,1    14608           394378 /lib/x86_64-linux-gnu/libdl-2.23.so\r\nZMQbg/3    34  44 jovyan  mem       REG                8,1   138696           394433 /lib/x86_64-linux-gnu/libpthread-2.23.so\r\nZMQbg/3    34  44 jovyan  mem       REG                8,1 12444567           529556 /opt/conda/lib/libpython3.6m.so.1.0\r\nZMQbg/3    34  44 jovyan  mem       REG                8,1   162632           394345 /lib/x86_64-linux-gnu/ld-2.23.so\r\nZMQbg/3    34  44 jovyan  mem       REG                8,1    26258           395222 /usr/lib/x86_64-linux-gnu/gconv/gconv-modules.cache\r\nZMQbg/3    34  44 jovyan  mem       REG                8,1  1668976           656066 /usr/lib/locale/locale-archive\r\nZMQbg/3    34  44 jovyan    0r     FIFO               0,10      0t0           183161 pipe\r\nZMQbg/3    34  44 jovyan    1w     FIFO               0,10      0t0           177822 pipe\r\nZMQbg/3    34  44 jovyan    2w     FIFO               0,10      0t0           177823 pipe\r\nZMQbg/3    34  44 jovyan    3r      CHR                1,9      0t0           177867 /dev/urandom\r\nZMQbg/3    34  44 jovyan    4w      CHR                1,3      0t0           177862 /dev/null\r\nZMQbg/3    34  44 jovyan    5u  a_inode               0,11        0            11923 [eventfd]\r\nZMQbg/3    34  44 jovyan    6r      CHR                1,9      0t0           177867 /dev/urandom\r\nZMQbg/3    34  44 jovyan    7u  a_inode               0,11        0            11923 [eventfd]\r\nZMQbg/3    34  44 jovyan    8u  a_inode               0,11        0            11923 [eventpoll]\r\nZMQbg/3    34  44 jovyan    9u  a_inode               0,11        0            11923 [eventfd]\r\nZMQbg/3    34  44 jovyan   10u  a_inode               0,11        0            11923 [eventpoll]\r\nZMQbg/3    34  44 jovyan   11u  a_inode               0,11        0            11923 [eventfd]\r\nZMQbg/3    34  44 jovyan   12u     IPv4             184807      0t0              TCP localhost:56409 (LISTEN)\r\nZMQbg/3    34  44 jovyan   13u  a_inode               0,11        0            11923 [eventfd]\r\nZMQbg/3    34  44 jovyan   14u     IPv4             184809      0t0              TCP localhost:37411 (LISTEN)\r\nZMQbg/3    34  44 jovyan   15u  a_inode               0,11        0            11923 [eventfd]\r\nZMQbg/3    34  44 jovyan   16u     IPv4             184811      0t0              TCP localhost:43441 (LISTEN)\r\nZMQbg/3    34  44 jovyan   17u  a_inode               0,11        0            11923 [eventfd]\r\nZMQbg/3    34  44 jovyan   18u     IPv4             184813      0t0              TCP localhost:50275 (LISTEN)\r\nZMQbg/3    34  44 jovyan   19u  a_inode               0,11        0            11923 [eventpoll]\r\nZMQbg/3    34  44 jovyan   20u     unix 0x0000000000000000      0t0           184814 type=STREAM\r\nZMQbg/3    34  44 jovyan   21u     unix 0x0000000000000000      0t0           184815 type=STREAM\r\nZMQbg/3    34  44 jovyan   22u  a_inode               0,11        0            11923 [eventfd]\r\nZMQbg/3    34  44 jovyan   23u     IPv4             184817      0t0              TCP localhost:36681 (LISTEN)\r\nZMQbg/3    34  44 jovyan   24u  a_inode               0,11        0            11923 [eventfd]\r\nZMQbg/3    34  44 jovyan   25u  a_inode               0,11        0            11923 [eventfd]\r\nZMQbg/3    34  44 jovyan   26u  a_inode               0,11        0            11923 [eventfd]\r\nZMQbg/3    34  44 jovyan   27u  a_inode               0,11        0            11923 [eventpoll]\r\nZMQbg/3    34  44 jovyan   28u  a_inode               0,11        0            11923 [eventfd]\r\nZMQbg/3    34  44 jovyan   29u  a_inode               0,11        0            11923 [eventpoll]\r\nZMQbg/3    34  44 jovyan   30u  a_inode               0,11        0            11923 [eventfd]\r\nZMQbg/3    34  44 jovyan   31u     IPv4             183196      0t0              TCP localhost:44415 (LISTEN)\r\nZMQbg/3    34  44 jovyan   32u  a_inode               0,11        0            11923 [eventpoll]\r\nZMQbg/3    34  44 jovyan   33u     unix 0x0000000000000000      0t0           184818 type=STREAM\r\nZMQbg/3    34  44 jovyan   34u     unix 0x0000000000000000      0t0           184819 type=STREAM\r\nZMQbg/3    34  44 jovyan   35u      REG                8,1    28672           262667 /home/jovyan/.ipython/profile_default/history.sqlite\r\nZMQbg/3    34  44 jovyan   36u      REG                8,1    28672           262667 /home/jovyan/.ipython/profile_default/history.sqlite\r\nZMQbg/3    34  44 jovyan   37u     IPv4             183197      0t0              TCP localhost:50275->localhost:49172 (ESTABLISHED)\r\nZMQbg/3    34  44 jovyan   38u     IPv4             183198      0t0              TCP localhost:43441->localhost:57652 (ESTABLISHED)\r\nZMQbg/3    34  44 jovyan   39u  a_inode               0,11        0            11923 [eventfd]\r\nZMQbg/3    34  44 jovyan   40u     IPv4             183205      0t0              TCP localhost:56409->localhost:55780 (ESTABLISHED)\r\nZMQbg/3    34  44 jovyan   41u     IPv4             183207      0t0              TCP localhost:50275->localhost:49190 (ESTABLISHED)\r\nZMQbg/3    34  44 jovyan   42u     IPv4             183209      0t0              TCP localhost:37411->localhost:49246 (ESTABLISHED)\r\npython     34  45 jovyan  cwd       DIR               0,61     4096 9570149208167180 /home/jovyan/openforum2018\r\npython     34  45 jovyan  rtd       DIR               0,59     4096           181289 /\r\npython     34  45 jovyan  txt       REG                8,1    14857           529056 /opt/conda/bin/python3.6\r\npython     34  45 jovyan  mem       REG                8,1  1686154           530853 /opt/conda/lib/python3.6/lib-dynload/_decimal.cpython-36m-x86_64-linux-gnu.so\r\npython     34  45 jovyan  mem       REG                8,1   375919           530873 /opt/conda/lib/python3.6/lib-dynload/_ssl.cpython-36m-x86_64-linux-gnu.so\r\npython     34  45 jovyan  mem       REG                8,1   194106           530836 /opt/conda/lib/python3.6/lib-dynload/_asyncio.cpython-36m-x86_64-linux-gnu.so\r\npython     34  45 jovyan  mem       REG                8,1    48787           530862 /opt/conda/lib/python3.6/lib-dynload/_multiprocessing.cpython-36m-x86_64-linux-gnu.so\r\npython     34  45 jovyan  mem       REG                8,1   316595           530850 /opt/conda/lib/python3.6/lib-dynload/_curses.cpython-36m-x86_64-linux-gnu.so\r\npython     34  45 jovyan  mem       REG                8,1    17873          1708597 /opt/conda/lib/python3.6/site-packages/tornado/speedups.cpython-36m-x86_64-linux-gnu.so\r\npython     34  45 jovyan  mem       REG                8,1    18976           394463 /lib/x86_64-linux-gnu/libuuid.so.1.3.0\r\npython     34  45 jovyan  mem       REG                8,1   228724          2230844 /opt/conda/lib/python3.6/site-packages/zmq/backend/cython/_device.cpython-36m-x86_64-linux-gnu.so\r\npython     34  45 jovyan  mem       REG                8,1    98032          2230846 /opt/conda/lib/python3.6/site-packages/zmq/backend/cython/_version.cpython-36m-x86_64-linux-gnu.so\r\npython     34  45 jovyan  mem       REG                8,1   327947          2230845 /opt/conda/lib/python3.6/site-packages/zmq/backend/cython/_poll.cpython-36m-x86_64-linux-gnu.so\r\npython     34  45 jovyan  mem       REG                8,1   149930          2230859 /opt/conda/lib/python3.6/site-packages/zmq/backend/cython/utils.cpython-36m-x86_64-linux-gnu.so\r\npython     34  45 jovyan  mem       REG                8,1   730559          2230857 /opt/conda/lib/python3.6/site-packages/zmq/backend/cython/socket.cpython-36m-x86_64-linux-gnu.so\r\npython     34  45 jovyan  mem       REG                8,1   311141          2230851 /opt/conda/lib/python3.6/site-packages/zmq/backend/cython/context.cpython-36m-x86_64-linux-gnu.so\r\npython     34  45 jovyan  mem       REG                8,1   452817          2230855 /opt/conda/lib/python3.6/site-packages/zmq/backend/cython/message.cpython-36m-x86_64-linux-gnu.so\r\npython     34  45 jovyan  mem       REG                8,1   115893          2230853 /opt/conda/lib/python3.6/site-packages/zmq/backend/cython/error.cpython-36m-x86_64-linux-gnu.so\r\npython     34  45 jovyan  mem       REG                8,1   706232           529510 /opt/conda/lib/libgcc_s.so.1\r\npython     34  45 jovyan  mem       REG                8,1  8167184           529575 /opt/conda/lib/libstdc++.so.6.0.24\r\npython     34  45 jovyan  mem       REG                8,1  1289027           661987 /opt/conda/lib/libzmq.so.5.1.5\r\npython     34  45 jovyan  mem       REG                8,1   228614          2230849 /opt/conda/lib/python3.6/site-packages/zmq/backend/cython/constants.cpython-36m-x86_64-linux-gnu.so\r\npython     34  45 jovyan  mem       REG                8,1   617309           530848 /opt/conda/lib/python3.6/lib-dynload/_ctypes.cpython-36m-x86_64-linux-gnu.so\r\npython     34  45 jovyan  mem       REG                8,1    64549           530858 /opt/conda/lib/python3.6/lib-dynload/_lsprof.cpython-36m-x86_64-linux-gnu.so\r\npython     34  45 jovyan  mem       REG                8,1   339757           530871 /opt/conda/lib/python3.6/lib-dynload/_socket.cpython-36m-x86_64-linux-gnu.so\r\npython     34  45 jovyan  mem       REG                8,1   963624           530898 /opt/conda/lib/python3.6/lib-dynload/unicodedata.cpython-36m-x86_64-linux-gnu.so\r\npython     34  45 jovyan  mem       REG                8,1   187746           530880 /opt/conda/lib/python3.6/lib-dynload/array.cpython-36m-x86_64-linux-gnu.so\r\npython     34  45 jovyan  mem       REG                8,1   249585           529581 /opt/conda/lib/libtinfo.so.5.9\r\npython     34  45 jovyan  mem       REG                8,1   176142           529542 /opt/conda/lib/libncurses.so.5.9\r\npython     34  45 jovyan  mem       REG                8,1  1165114           529569 /opt/conda/lib/libsqlite3.so.0.8.6\r\npython     34  45 jovyan  mem       REG                8,1   295030           530872 /opt/conda/lib/python3.6/lib-dynload/_sqlite3.cpython-36m-x86_64-linux-gnu.so\r\npython     34  45 jovyan  mem       REG                8,1   433613           530864 /opt/conda/lib/python3.6/lib-dynload/_pickle.cpython-36m-x86_64-linux-gnu.so\r\npython     34  45 jovyan  mem       REG                8,1   470165           530852 /opt/conda/lib/python3.6/lib-dynload/_datetime.cpython-36m-x86_64-linux-gnu.so\r\npython     34  45 jovyan  mem       REG                8,1    78638           530882 /opt/conda/lib/python3.6/lib-dynload/binascii.cpython-36m-x86_64-linux-gnu.so\r\npython     34  45 jovyan  mem       REG                8,1    32268           530893 /opt/conda/lib/python3.6/lib-dynload/resource.cpython-36m-x86_64-linux-gnu.so\r\npython     34  45 jovyan  mem       REG                8,1    41463           530884 /opt/conda/lib/python3.6/lib-dynload/fcntl.cpython-36m-x86_64-linux-gnu.so\r\npython     34  45 jovyan  mem       REG                8,1    46964           530897 /opt/conda/lib/python3.6/lib-dynload/termios.cpython-36m-x86_64-linux-gnu.so\r\npython     34  45 jovyan  mem       REG                8,1    37999           530866 /opt/conda/lib/python3.6/lib-dynload/_random.cpython-36m-x86_64-linux-gnu.so\r\npython     34  45 jovyan  mem       REG                8,1    33663           530837 /opt/conda/lib/python3.6/lib-dynload/_bisect.cpython-36m-x86_64-linux-gnu.so\r\npython     34  45 jovyan  mem       REG                8,1   355122           530869 /opt/conda/lib/python3.6/lib-dynload/_sha3.cpython-36m-x86_64-linux-gnu.so\r\npython     34  45 jovyan  mem       REG                8,1   329909           530838 /opt/conda/lib/python3.6/lib-dynload/_blake2.cpython-36m-x86_64-linux-gnu.so\r\npython     34  45 jovyan  mem       REG                8,1  2692340           529490 /opt/conda/lib/libcrypto.so.1.0.0\r\npython     34  45 jovyan  mem       REG                8,1   549929           529572 /opt/conda/lib/libssl.so.1.0.0\r\npython     34  45 jovyan  mem       REG                8,1    92355           530855 /opt/conda/lib/python3.6/lib-dynload/_hashlib.cpython-36m-x86_64-linux-gnu.so\r\npython     34  45 jovyan  mem       REG                8,1   159628           530874 /opt/conda/lib/python3.6/lib-dynload/_struct.cpython-36m-x86_64-linux-gnu.so\r\npython     34  45 jovyan  mem       REG                8,1    20447           530863 /opt/conda/lib/python3.6/lib-dynload/_opcode.cpython-36m-x86_64-linux-gnu.so\r\npython     34  45 jovyan  mem       REG                8,1    35500           530885 /opt/conda/lib/python3.6/lib-dynload/grp.cpython-36m-x86_64-linux-gnu.so\r\npython     34  45 jovyan  mem       REG                8,1   803563           529528 /opt/conda/lib/liblzma.so.5.2.3\r\npython     34  45 jovyan  mem       REG                8,1   117498           530859 /opt/conda/lib/python3.6/lib-dynload/_lzma.cpython-36m-x86_64-linux-gnu.so\r\npython     34  45 jovyan  mem       REG                8,1   269237           530839 /opt/conda/lib/python3.6/lib-dynload/_bz2.cpython-36m-x86_64-linux-gnu.so\r\npython     34  45 jovyan  mem       REG                8,1   127973           529602 /opt/conda/lib/libz.so.1.2.11\r\npython     34  45 jovyan  mem       REG                8,1   116664           530900 /opt/conda/lib/python3.6/lib-dynload/zlib.cpython-36m-x86_64-linux-gnu.so\r\npython     34  45 jovyan  mem       REG                8,1   210293           530886 /opt/conda/lib/python3.6/lib-dynload/math.cpython-36m-x86_64-linux-gnu.so\r\npython     34  45 jovyan  mem       REG                8,1    79124           530894 /opt/conda/lib/python3.6/lib-dynload/select.cpython-36m-x86_64-linux-gnu.so\r\npython     34  45 jovyan  mem       REG                8,1    85443           530865 /opt/conda/lib/python3.6/lib-dynload/_posixsubprocess.cpython-36m-x86_64-linux-gnu.so\r\npython     34  45 jovyan  mem       REG                8,1   164929           530857 /opt/conda/lib/python3.6/lib-dynload/_json.cpython-36m-x86_64-linux-gnu.so\r\npython     34  45 jovyan  mem       REG                8,1    47058           530856 /opt/conda/lib/python3.6/lib-dynload/_heapq.cpython-36m-x86_64-linux-gnu.so\r\npython     34  45 jovyan  mem       REG                8,1  1868984           394365 /lib/x86_64-linux-gnu/libc-2.23.so\r\npython     34  45 jovyan  mem       REG                8,1  1088952           394397 /lib/x86_64-linux-gnu/libm-2.23.so\r\npython     34  45 jovyan  mem       REG                8,1    31712           394440 /lib/x86_64-linux-gnu/librt-2.23.so\r\npython     34  45 jovyan  mem       REG                8,1    10656           394460 /lib/x86_64-linux-gnu/libutil-2.23.so\r\npython     34  45 jovyan  mem       REG                8,1    14608           394378 /lib/x86_64-linux-gnu/libdl-2.23.so\r\npython     34  45 jovyan  mem       REG                8,1   138696           394433 /lib/x86_64-linux-gnu/libpthread-2.23.so\r\npython     34  45 jovyan  mem       REG                8,1 12444567           529556 /opt/conda/lib/libpython3.6m.so.1.0\r\npython     34  45 jovyan  mem       REG                8,1   162632           394345 /lib/x86_64-linux-gnu/ld-2.23.so\r\npython     34  45 jovyan  mem       REG                8,1    26258           395222 /usr/lib/x86_64-linux-gnu/gconv/gconv-modules.cache\r\npython     34  45 jovyan  mem       REG                8,1  1668976           656066 /usr/lib/locale/locale-archive\r\npython     34  45 jovyan    0r     FIFO               0,10      0t0           183161 pipe\r\npython     34  45 jovyan    1w     FIFO               0,10      0t0           177822 pipe\r\npython     34  45 jovyan    2w     FIFO               0,10      0t0           177823 pipe\r\npython     34  45 jovyan    3r      CHR                1,9      0t0           177867 /dev/urandom\r\npython     34  45 jovyan    4w      CHR                1,3      0t0           177862 /dev/null\r\npython     34  45 jovyan    5u  a_inode               0,11        0            11923 [eventfd]\r\npython     34  45 jovyan    6r      CHR                1,9      0t0           177867 /dev/urandom\r\npython     34  45 jovyan    7u  a_inode               0,11        0            11923 [eventfd]\r\npython     34  45 jovyan    8u  a_inode               0,11        0            11923 [eventpoll]\r\npython     34  45 jovyan    9u  a_inode               0,11        0            11923 [eventfd]\r\npython     34  45 jovyan   10u  a_inode               0,11        0            11923 [eventpoll]\r\npython     34  45 jovyan   11u  a_inode               0,11        0            11923 [eventfd]\r\npython     34  45 jovyan   12u     IPv4             184807      0t0              TCP localhost:56409 (LISTEN)\r\npython     34  45 jovyan   13u  a_inode               0,11        0            11923 [eventfd]\r\npython     34  45 jovyan   14u     IPv4             184809      0t0              TCP localhost:37411 (LISTEN)\r\npython     34  45 jovyan   15u  a_inode               0,11        0            11923 [eventfd]\r\npython     34  45 jovyan   16u     IPv4             184811      0t0              TCP localhost:43441 (LISTEN)\r\npython     34  45 jovyan   17u  a_inode               0,11        0            11923 [eventfd]\r\npython     34  45 jovyan   18u     IPv4             184813      0t0              TCP localhost:50275 (LISTEN)\r\npython     34  45 jovyan   19u  a_inode               0,11        0            11923 [eventpoll]\r\npython     34  45 jovyan   20u     unix 0x0000000000000000      0t0           184814 type=STREAM\r\npython     34  45 jovyan   21u     unix 0x0000000000000000      0t0           184815 type=STREAM\r\npython     34  45 jovyan   22u  a_inode               0,11        0            11923 [eventfd]\r\npython     34  45 jovyan   23u     IPv4             184817      0t0              TCP localhost:36681 (LISTEN)\r\npython     34  45 jovyan   24u  a_inode               0,11        0            11923 [eventfd]\r\npython     34  45 jovyan   25u  a_inode               0,11        0            11923 [eventfd]\r\npython     34  45 jovyan   26u  a_inode               0,11        0            11923 [eventfd]\r\npython     34  45 jovyan   27u  a_inode               0,11        0            11923 [eventpoll]\r\npython     34  45 jovyan   28u  a_inode               0,11        0            11923 [eventfd]\r\npython     34  45 jovyan   29u  a_inode               0,11        0            11923 [eventpoll]\r\npython     34  45 jovyan   30u  a_inode               0,11        0            11923 [eventfd]\r\npython     34  45 jovyan   31u     IPv4             183196      0t0              TCP localhost:44415 (LISTEN)\r\npython     34  45 jovyan   32u  a_inode               0,11        0            11923 [eventpoll]\r\npython     34  45 jovyan   33u     unix 0x0000000000000000      0t0           184818 type=STREAM\r\npython     34  45 jovyan   34u     unix 0x0000000000000000      0t0           184819 type=STREAM\r\npython     34  45 jovyan   35u      REG                8,1    28672           262667 /home/jovyan/.ipython/profile_default/history.sqlite\r\npython     34  45 jovyan   36u      REG                8,1    28672           262667 /home/jovyan/.ipython/profile_default/history.sqlite\r\npython     34  45 jovyan   37u     IPv4             183197      0t0              TCP localhost:50275->localhost:49172 (ESTABLISHED)\r\npython     34  45 jovyan   38u     IPv4             183198      0t0              TCP localhost:43441->localhost:57652 (ESTABLISHED)\r\npython     34  45 jovyan   39u  a_inode               0,11        0            11923 [eventfd]\r\npython     34  45 jovyan   40u     IPv4             183205      0t0              TCP localhost:56409->localhost:55780 (ESTABLISHED)\r\npython     34  45 jovyan   41u     IPv4             183207      0t0              TCP localhost:50275->localhost:49190 (ESTABLISHED)\r\npython     34  45 jovyan   42u     IPv4             183209      0t0              TCP localhost:37411->localhost:49246 (ESTABLISHED)\r\npython     34  46 jovyan  cwd       DIR               0,61     4096 9570149208167180 /home/jovyan/openforum2018\r\npython     34  46 jovyan  rtd       DIR               0,59     4096           181289 /\r\npython     34  46 jovyan  txt       REG                8,1    14857           529056 /opt/conda/bin/python3.6\r\npython     34  46 jovyan  mem       REG                8,1  1686154           530853 /opt/conda/lib/python3.6/lib-dynload/_decimal.cpython-36m-x86_64-linux-gnu.so\r\npython     34  46 jovyan  mem       REG                8,1   375919           530873 /opt/conda/lib/python3.6/lib-dynload/_ssl.cpython-36m-x86_64-linux-gnu.so\r\npython     34  46 jovyan  mem       REG                8,1   194106           530836 /opt/conda/lib/python3.6/lib-dynload/_asyncio.cpython-36m-x86_64-linux-gnu.so\r\npython     34  46 jovyan  mem       REG                8,1    48787           530862 /opt/conda/lib/python3.6/lib-dynload/_multiprocessing.cpython-36m-x86_64-linux-gnu.so\r\npython     34  46 jovyan  mem       REG                8,1   316595           530850 /opt/conda/lib/python3.6/lib-dynload/_curses.cpython-36m-x86_64-linux-gnu.so\r\npython     34  46 jovyan  mem       REG                8,1    17873          1708597 /opt/conda/lib/python3.6/site-packages/tornado/speedups.cpython-36m-x86_64-linux-gnu.so\r\npython     34  46 jovyan  mem       REG                8,1    18976           394463 /lib/x86_64-linux-gnu/libuuid.so.1.3.0\r\npython     34  46 jovyan  mem       REG                8,1   228724          2230844 /opt/conda/lib/python3.6/site-packages/zmq/backend/cython/_device.cpython-36m-x86_64-linux-gnu.so\r\npython     34  46 jovyan  mem       REG                8,1    98032          2230846 /opt/conda/lib/python3.6/site-packages/zmq/backend/cython/_version.cpython-36m-x86_64-linux-gnu.so\r\npython     34  46 jovyan  mem       REG                8,1   327947          2230845 /opt/conda/lib/python3.6/site-packages/zmq/backend/cython/_poll.cpython-36m-x86_64-linux-gnu.so\r\npython     34  46 jovyan  mem       REG                8,1   149930          2230859 /opt/conda/lib/python3.6/site-packages/zmq/backend/cython/utils.cpython-36m-x86_64-linux-gnu.so\r\npython     34  46 jovyan  mem       REG                8,1   730559          2230857 /opt/conda/lib/python3.6/site-packages/zmq/backend/cython/socket.cpython-36m-x86_64-linux-gnu.so\r\npython     34  46 jovyan  mem       REG                8,1   311141          2230851 /opt/conda/lib/python3.6/site-packages/zmq/backend/cython/context.cpython-36m-x86_64-linux-gnu.so\r\npython     34  46 jovyan  mem       REG                8,1   452817          2230855 /opt/conda/lib/python3.6/site-packages/zmq/backend/cython/message.cpython-36m-x86_64-linux-gnu.so\r\npython     34  46 jovyan  mem       REG                8,1   115893          2230853 /opt/conda/lib/python3.6/site-packages/zmq/backend/cython/error.cpython-36m-x86_64-linux-gnu.so\r\npython     34  46 jovyan  mem       REG                8,1   706232           529510 /opt/conda/lib/libgcc_s.so.1\r\npython     34  46 jovyan  mem       REG                8,1  8167184           529575 /opt/conda/lib/libstdc++.so.6.0.24\r\npython     34  46 jovyan  mem       REG                8,1  1289027           661987 /opt/conda/lib/libzmq.so.5.1.5\r\npython     34  46 jovyan  mem       REG                8,1   228614          2230849 /opt/conda/lib/python3.6/site-packages/zmq/backend/cython/constants.cpython-36m-x86_64-linux-gnu.so\r\npython     34  46 jovyan  mem       REG                8,1   617309           530848 /opt/conda/lib/python3.6/lib-dynload/_ctypes.cpython-36m-x86_64-linux-gnu.so\r\npython     34  46 jovyan  mem       REG                8,1    64549           530858 /opt/conda/lib/python3.6/lib-dynload/_lsprof.cpython-36m-x86_64-linux-gnu.so\r\npython     34  46 jovyan  mem       REG                8,1   339757           530871 /opt/conda/lib/python3.6/lib-dynload/_socket.cpython-36m-x86_64-linux-gnu.so\r\npython     34  46 jovyan  mem       REG                8,1   963624           530898 /opt/conda/lib/python3.6/lib-dynload/unicodedata.cpython-36m-x86_64-linux-gnu.so\r\npython     34  46 jovyan  mem       REG                8,1   187746           530880 /opt/conda/lib/python3.6/lib-dynload/array.cpython-36m-x86_64-linux-gnu.so\r\npython     34  46 jovyan  mem       REG                8,1   249585           529581 /opt/conda/lib/libtinfo.so.5.9\r\npython     34  46 jovyan  mem       REG                8,1   176142           529542 /opt/conda/lib/libncurses.so.5.9\r\npython     34  46 jovyan  mem       REG                8,1  1165114           529569 /opt/conda/lib/libsqlite3.so.0.8.6\r\npython     34  46 jovyan  mem       REG                8,1   295030           530872 /opt/conda/lib/python3.6/lib-dynload/_sqlite3.cpython-36m-x86_64-linux-gnu.so\r\npython     34  46 jovyan  mem       REG                8,1   433613           530864 /opt/conda/lib/python3.6/lib-dynload/_pickle.cpython-36m-x86_64-linux-gnu.so\r\npython     34  46 jovyan  mem       REG                8,1   470165           530852 /opt/conda/lib/python3.6/lib-dynload/_datetime.cpython-36m-x86_64-linux-gnu.so\r\npython     34  46 jovyan  mem       REG                8,1    78638           530882 /opt/conda/lib/python3.6/lib-dynload/binascii.cpython-36m-x86_64-linux-gnu.so\r\npython     34  46 jovyan  mem       REG                8,1    32268           530893 /opt/conda/lib/python3.6/lib-dynload/resource.cpython-36m-x86_64-linux-gnu.so\r\npython     34  46 jovyan  mem       REG                8,1    41463           530884 /opt/conda/lib/python3.6/lib-dynload/fcntl.cpython-36m-x86_64-linux-gnu.so\r\npython     34  46 jovyan  mem       REG                8,1    46964           530897 /opt/conda/lib/python3.6/lib-dynload/termios.cpython-36m-x86_64-linux-gnu.so\r\npython     34  46 jovyan  mem       REG                8,1    37999           530866 /opt/conda/lib/python3.6/lib-dynload/_random.cpython-36m-x86_64-linux-gnu.so\r\npython     34  46 jovyan  mem       REG                8,1    33663           530837 /opt/conda/lib/python3.6/lib-dynload/_bisect.cpython-36m-x86_64-linux-gnu.so\r\npython     34  46 jovyan  mem       REG                8,1   355122           530869 /opt/conda/lib/python3.6/lib-dynload/_sha3.cpython-36m-x86_64-linux-gnu.so\r\npython     34  46 jovyan  mem       REG                8,1   329909           530838 /opt/conda/lib/python3.6/lib-dynload/_blake2.cpython-36m-x86_64-linux-gnu.so\r\npython     34  46 jovyan  mem       REG                8,1  2692340           529490 /opt/conda/lib/libcrypto.so.1.0.0\r\npython     34  46 jovyan  mem       REG                8,1   549929           529572 /opt/conda/lib/libssl.so.1.0.0\r\npython     34  46 jovyan  mem       REG                8,1    92355           530855 /opt/conda/lib/python3.6/lib-dynload/_hashlib.cpython-36m-x86_64-linux-gnu.so\r\npython     34  46 jovyan  mem       REG                8,1   159628           530874 /opt/conda/lib/python3.6/lib-dynload/_struct.cpython-36m-x86_64-linux-gnu.so\r\npython     34  46 jovyan  mem       REG                8,1    20447           530863 /opt/conda/lib/python3.6/lib-dynload/_opcode.cpython-36m-x86_64-linux-gnu.so\r\npython     34  46 jovyan  mem       REG                8,1    35500           530885 /opt/conda/lib/python3.6/lib-dynload/grp.cpython-36m-x86_64-linux-gnu.so\r\npython     34  46 jovyan  mem       REG                8,1   803563           529528 /opt/conda/lib/liblzma.so.5.2.3\r\npython     34  46 jovyan  mem       REG                8,1   117498           530859 /opt/conda/lib/python3.6/lib-dynload/_lzma.cpython-36m-x86_64-linux-gnu.so\r\npython     34  46 jovyan  mem       REG                8,1   269237           530839 /opt/conda/lib/python3.6/lib-dynload/_bz2.cpython-36m-x86_64-linux-gnu.so\r\npython     34  46 jovyan  mem       REG                8,1   127973           529602 /opt/conda/lib/libz.so.1.2.11\r\npython     34  46 jovyan  mem       REG                8,1   116664           530900 /opt/conda/lib/python3.6/lib-dynload/zlib.cpython-36m-x86_64-linux-gnu.so\r\npython     34  46 jovyan  mem       REG                8,1   210293           530886 /opt/conda/lib/python3.6/lib-dynload/math.cpython-36m-x86_64-linux-gnu.so\r\npython     34  46 jovyan  mem       REG                8,1    79124           530894 /opt/conda/lib/python3.6/lib-dynload/select.cpython-36m-x86_64-linux-gnu.so\r\npython     34  46 jovyan  mem       REG                8,1    85443           530865 /opt/conda/lib/python3.6/lib-dynload/_posixsubprocess.cpython-36m-x86_64-linux-gnu.so\r\npython     34  46 jovyan  mem       REG                8,1   164929           530857 /opt/conda/lib/python3.6/lib-dynload/_json.cpython-36m-x86_64-linux-gnu.so\r\npython     34  46 jovyan  mem       REG                8,1    47058           530856 /opt/conda/lib/python3.6/lib-dynload/_heapq.cpython-36m-x86_64-linux-gnu.so\r\npython     34  46 jovyan  mem       REG                8,1  1868984           394365 /lib/x86_64-linux-gnu/libc-2.23.so\r\npython     34  46 jovyan  mem       REG                8,1  1088952           394397 /lib/x86_64-linux-gnu/libm-2.23.so\r\npython     34  46 jovyan  mem       REG                8,1    31712           394440 /lib/x86_64-linux-gnu/librt-2.23.so\r\npython     34  46 jovyan  mem       REG                8,1    10656           394460 /lib/x86_64-linux-gnu/libutil-2.23.so\r\npython     34  46 jovyan  mem       REG                8,1    14608           394378 /lib/x86_64-linux-gnu/libdl-2.23.so\r\npython     34  46 jovyan  mem       REG                8,1   138696           394433 /lib/x86_64-linux-gnu/libpthread-2.23.so\r\npython     34  46 jovyan  mem       REG                8,1 12444567           529556 /opt/conda/lib/libpython3.6m.so.1.0\r\npython     34  46 jovyan  mem       REG                8,1   162632           394345 /lib/x86_64-linux-gnu/ld-2.23.so\r\npython     34  46 jovyan  mem       REG                8,1    26258           395222 /usr/lib/x86_64-linux-gnu/gconv/gconv-modules.cache\r\npython     34  46 jovyan  mem       REG                8,1  1668976           656066 /usr/lib/locale/locale-archive\r\npython     34  46 jovyan    0r     FIFO               0,10      0t0           183161 pipe\r\npython     34  46 jovyan    1w     FIFO               0,10      0t0           177822 pipe\r\npython     34  46 jovyan    2w     FIFO               0,10      0t0           177823 pipe\r\npython     34  46 jovyan    3r      CHR                1,9      0t0           177867 /dev/urandom\r\npython     34  46 jovyan    4w      CHR                1,3      0t0           177862 /dev/null\r\npython     34  46 jovyan    5u  a_inode               0,11        0            11923 [eventfd]\r\npython     34  46 jovyan    6r      CHR                1,9      0t0           177867 /dev/urandom\r\npython     34  46 jovyan    7u  a_inode               0,11        0            11923 [eventfd]\r\npython     34  46 jovyan    8u  a_inode               0,11        0            11923 [eventpoll]\r\npython     34  46 jovyan    9u  a_inode               0,11        0            11923 [eventfd]\r\npython     34  46 jovyan   10u  a_inode               0,11        0            11923 [eventpoll]\r\npython     34  46 jovyan   11u  a_inode               0,11        0            11923 [eventfd]\r\npython     34  46 jovyan   12u     IPv4             184807      0t0              TCP localhost:56409 (LISTEN)\r\npython     34  46 jovyan   13u  a_inode               0,11        0            11923 [eventfd]\r\npython     34  46 jovyan   14u     IPv4             184809      0t0              TCP localhost:37411 (LISTEN)\r\npython     34  46 jovyan   15u  a_inode               0,11        0            11923 [eventfd]\r\npython     34  46 jovyan   16u     IPv4             184811      0t0              TCP localhost:43441 (LISTEN)\r\npython     34  46 jovyan   17u  a_inode               0,11        0            11923 [eventfd]\r\npython     34  46 jovyan   18u     IPv4             184813      0t0              TCP localhost:50275 (LISTEN)\r\npython     34  46 jovyan   19u  a_inode               0,11        0            11923 [eventpoll]\r\npython     34  46 jovyan   20u     unix 0x0000000000000000      0t0           184814 type=STREAM\r\npython     34  46 jovyan   21u     unix 0x0000000000000000      0t0           184815 type=STREAM\r\npython     34  46 jovyan   22u  a_inode               0,11        0            11923 [eventfd]\r\npython     34  46 jovyan   23u     IPv4             184817      0t0              TCP localhost:36681 (LISTEN)\r\npython     34  46 jovyan   24u  a_inode               0,11        0            11923 [eventfd]\r\npython     34  46 jovyan   25u  a_inode               0,11        0            11923 [eventfd]\r\npython     34  46 jovyan   26u  a_inode               0,11        0            11923 [eventfd]\r\npython     34  46 jovyan   27u  a_inode               0,11        0            11923 [eventpoll]\r\npython     34  46 jovyan   28u  a_inode               0,11        0            11923 [eventfd]\r\npython     34  46 jovyan   29u  a_inode               0,11        0            11923 [eventpoll]\r\npython     34  46 jovyan   30u  a_inode               0,11        0            11923 [eventfd]\r\npython     34  46 jovyan   31u     IPv4             183196      0t0              TCP localhost:44415 (LISTEN)\r\npython     34  46 jovyan   32u  a_inode               0,11        0            11923 [eventpoll]\r\npython     34  46 jovyan   33u     unix 0x0000000000000000      0t0           184818 type=STREAM\r\npython     34  46 jovyan   34u     unix 0x0000000000000000      0t0           184819 type=STREAM\r\npython     34  46 jovyan   35u      REG                8,1    28672           262667 /home/jovyan/.ipython/profile_default/history.sqlite\r\npython     34  46 jovyan   36u      REG                8,1    28672           262667 /home/jovyan/.ipython/profile_default/history.sqlite\r\npython     34  46 jovyan   37u     IPv4             183197      0t0              TCP localhost:50275->localhost:49172 (ESTABLISHED)\r\npython     34  46 jovyan   38u     IPv4             183198      0t0              TCP localhost:43441->localhost:57652 (ESTABLISHED)\r\npython     34  46 jovyan   39u  a_inode               0,11        0            11923 [eventfd]\r\npython     34  46 jovyan   40u     IPv4             183205      0t0              TCP localhost:56409->localhost:55780 (ESTABLISHED)\r\npython     34  46 jovyan   41u     IPv4             183207      0t0              TCP localhost:50275->localhost:49190 (ESTABLISHED)\r\npython     34  46 jovyan   42u     IPv4             183209      0t0              TCP localhost:37411->localhost:49246 (ESTABLISHED)\r\nsh        437     jovyan  cwd       DIR               0,61     4096 9570149208167180 /home/jovyan/openforum2018\r\nsh        437     jovyan  rtd       DIR               0,59     4096           181289 /\r\nsh        437     jovyan  txt       REG                8,1   154072           393358 /bin/dash\r\nsh        437     jovyan  mem       REG                8,1  1868984           394365 /lib/x86_64-linux-gnu/libc-2.23.so\r\nsh        437     jovyan  mem       REG                8,1   162632           394345 /lib/x86_64-linux-gnu/ld-2.23.so\r\nsh        437     jovyan    0u      CHR              136,0      0t0                3 /dev/pts/0\r\nsh        437     jovyan    1u      CHR              136,0      0t0                3 /dev/pts/0\r\nsh        437     jovyan    2u      CHR              136,0      0t0                3 /dev/pts/0\r\nlsof      438     jovyan  cwd       DIR               0,61     4096 9570149208167180 /home/jovyan/openforum2018\r\nlsof      438     jovyan  rtd       DIR               0,59     4096           181289 /\r\nlsof      438     jovyan  txt       REG                8,1   163224           262865 /usr/bin/lsof\r\nlsof      438     jovyan  mem       REG                8,1   138696           394433 /lib/x86_64-linux-gnu/libpthread-2.23.so\r\nlsof      438     jovyan  mem       REG                8,1    14608           394378 /lib/x86_64-linux-gnu/libdl-2.23.so\r\nlsof      438     jovyan  mem       REG                8,1   456632           394430 /lib/x86_64-linux-gnu/libpcre.so.3.13.2\r\nlsof      438     jovyan  mem       REG                8,1  1868984           394365 /lib/x86_64-linux-gnu/libc-2.23.so\r\nlsof      438     jovyan  mem       REG                8,1   130224           394444 /lib/x86_64-linux-gnu/libselinux.so.1\r\nlsof      438     jovyan  mem       REG                8,1   162632           394345 /lib/x86_64-linux-gnu/ld-2.23.so\r\nlsof      438     jovyan  mem       REG                8,1  1668976           656066 /usr/lib/locale/locale-archive\r\nlsof      438     jovyan    0u      CHR              136,0      0t0                3 /dev/pts/0\r\nlsof      438     jovyan    1u      CHR              136,0      0t0                3 /dev/pts/0\r\nlsof      438     jovyan    2u      CHR              136,0      0t0                3 /dev/pts/0\r\nlsof      438     jovyan    3r      DIR              0,101        0                1 /proc\r\nlsof      438     jovyan    4r      DIR              0,101        0           250542 /proc/438/fd\r\nlsof      438     jovyan    5w     FIFO               0,10      0t0           250547 pipe\r\nlsof      438     jovyan    6r     FIFO               0,10      0t0           250548 pipe\r\nlsof      439     jovyan  cwd       DIR               0,61     4096 9570149208167180 /home/jovyan/openforum2018\r\nlsof      439     jovyan  rtd       DIR               0,59     4096           181289 /\r\nlsof      439     jovyan  txt       REG                8,1   163224           262865 /usr/bin/lsof\r\nlsof      439     jovyan  mem       REG                8,1   138696           394433 /lib/x86_64-linux-gnu/libpthread-2.23.so\r\nlsof      439     jovyan  mem       REG                8,1    14608           394378 /lib/x86_64-linux-gnu/libdl-2.23.so\r\nlsof      439     jovyan  mem       REG                8,1   456632           394430 /lib/x86_64-linux-gnu/libpcre.so.3.13.2\r\nlsof      439     jovyan  mem       REG                8,1  1868984           394365 /lib/x86_64-linux-gnu/libc-2.23.so\r\nlsof      439     jovyan  mem       REG                8,1   130224           394444 /lib/x86_64-linux-gnu/libselinux.so.1\r\nlsof      439     jovyan  mem       REG                8,1   162632           394345 /lib/x86_64-linux-gnu/ld-2.23.so\r\nlsof      439     jovyan  mem       REG                8,1  1668976           656066 /usr/lib/locale/locale-archive\r\nlsof      439     jovyan    4r     FIFO               0,10      0t0           250547 pipe\r\nlsof      439     jovyan    7w     FIFO               0,10      0t0           250548 pipe\r\n"
       }
      ]
     }
    ],
    "run_through_control": {
     "frozen": true
    }
   },
   "outputs": [
    {
     "name": "stdout",
     "output_type": "stream",
     "text": [
      "COMMAND   PID TID   USER   FD      TYPE             DEVICE SIZE/OFF             NODE NAME\r\n",
      "tini        1     jovyan  cwd       DIR               0,59     4096           177804 /home/jovyan\r\n",
      "tini        1     jovyan  rtd       DIR               0,59     4096           181289 /\r\n",
      "tini        1     jovyan  txt       REG                8,1    19864           656083 /usr/local/bin/tini\r\n",
      "tini        1     jovyan  mem       REG                8,1  1868984           394365 /lib/x86_64-linux-gnu/libc-2.23.so\r\n",
      "tini        1     jovyan  mem       REG                8,1   162632           394345 /lib/x86_64-linux-gnu/ld-2.23.so\r\n",
      "tini        1     jovyan    0r     FIFO               0,10      0t0           177821 pipe\r\n",
      "tini        1     jovyan    1w     FIFO               0,10      0t0           177822 pipe\r\n",
      "tini        1     jovyan    2w     FIFO               0,10      0t0           177823 pipe\r\n",
      "jupyter-n   6     jovyan  cwd       DIR               0,59     4096           177804 /home/jovyan\r\n",
      "jupyter-n   6     jovyan  rtd       DIR               0,59     4096           181289 /\r\n",
      "jupyter-n   6     jovyan  txt       REG                8,1    14857           529056 /opt/conda/bin/python3.6\r\n",
      "jupyter-n   6     jovyan  mem       REG                8,1   498131          1839770 /opt/conda/lib/python3.6/site-packages/msgpack/_unpacker.cpython-36m-x86_64-linux-gnu.so\r\n",
      "jupyter-n   6     jovyan  mem       REG                8,1   430506          1839769 /opt/conda/lib/python3.6/site-packages/msgpack/_packer.cpython-36m-x86_64-linux-gnu.so\r\n",
      "jupyter-n   6     jovyan  mem       REG                8,1    64549           530858 /opt/conda/lib/python3.6/lib-dynload/_lsprof.cpython-36m-x86_64-linux-gnu.so\r\n",
      "jupyter-n   6     jovyan  mem       REG                8,1    32268           530893 /opt/conda/lib/python3.6/lib-dynload/resource.cpython-36m-x86_64-linux-gnu.so\r\n",
      "jupyter-n   6     jovyan  mem       REG                8,1  1165114           529569 /opt/conda/lib/libsqlite3.so.0.8.6\r\n",
      "jupyter-n   6     jovyan  mem       REG                8,1   295030           530872 /opt/conda/lib/python3.6/lib-dynload/_sqlite3.cpython-36m-x86_64-linux-gnu.so\r\n",
      "jupyter-n   6     jovyan  DEL       REG                8,1                    531913 /opt/conda/lib/python3.6/site-packages/cryptography/hazmat/bindings/_openssl.abi3.so\r\n",
      "jupyter-n   6     jovyan  mem       REG                8,1    42179           529500 /opt/conda/lib/libffi.so.6.0.4\r\n",
      "jupyter-n   6     jovyan  mem       REG                8,1   758089           531258 /opt/conda/lib/python3.6/site-packages/_cffi_backend.cpython-36m-x86_64-linux-gnu.so\r\n",
      "jupyter-n   6     jovyan  DEL       REG                8,1                    531912 /opt/conda/lib/python3.6/site-packages/cryptography/hazmat/bindings/_constant_time.abi3.so\r\n",
      "jupyter-n   6     jovyan  mem       REG                8,1   929104           530891 /opt/conda/lib/python3.6/lib-dynload/pyexpat.cpython-36m-x86_64-linux-gnu.so\r\n",
      "jupyter-n   6     jovyan  mem       REG                8,1   273999           530854 /opt/conda/lib/python3.6/lib-dynload/_elementtree.cpython-36m-x86_64-linux-gnu.so\r\n",
      "jupyter-n   6     jovyan  mem       REG                8,1    18976           394463 /lib/x86_64-linux-gnu/libuuid.so.1.3.0\r\n",
      "jupyter-n   6     jovyan  mem       REG                8,1    46964           530897 /opt/conda/lib/python3.6/lib-dynload/termios.cpython-36m-x86_64-linux-gnu.so\r\n",
      "jupyter-n   6     jovyan  mem       REG                8,1   112122           530847 /opt/conda/lib/python3.6/lib-dynload/_csv.cpython-36m-x86_64-linux-gnu.so\r\n",
      "jupyter-n   6     jovyan  mem       REG                8,1    41463           530884 /opt/conda/lib/python3.6/lib-dynload/fcntl.cpython-36m-x86_64-linux-gnu.so\r\n",
      "jupyter-n   6     jovyan  mem       REG                8,1   228724          2230844 /opt/conda/lib/python3.6/site-packages/zmq/backend/cython/_device.cpython-36m-x86_64-linux-gnu.so\r\n",
      "jupyter-n   6     jovyan  mem       REG                8,1    98032          2230846 /opt/conda/lib/python3.6/site-packages/zmq/backend/cython/_version.cpython-36m-x86_64-linux-gnu.so\r\n",
      "jupyter-n   6     jovyan  mem       REG                8,1   327947          2230845 /opt/conda/lib/python3.6/site-packages/zmq/backend/cython/_poll.cpython-36m-x86_64-linux-gnu.so\r\n",
      "jupyter-n   6     jovyan  mem       REG                8,1   149930          2230859 /opt/conda/lib/python3.6/site-packages/zmq/backend/cython/utils.cpython-36m-x86_64-linux-gnu.so\r\n",
      "jupyter-n   6     jovyan  mem       REG                8,1   730559          2230857 /opt/conda/lib/python3.6/site-packages/zmq/backend/cython/socket.cpython-36m-x86_64-linux-gnu.so\r\n",
      "jupyter-n   6     jovyan  mem       REG                8,1   311141          2230851 /opt/conda/lib/python3.6/site-packages/zmq/backend/cython/context.cpython-36m-x86_64-linux-gnu.so\r\n",
      "jupyter-n   6     jovyan  mem       REG                8,1   452817          2230855 /opt/conda/lib/python3.6/site-packages/zmq/backend/cython/message.cpython-36m-x86_64-linux-gnu.so\r\n",
      "jupyter-n   6     jovyan  mem       REG                8,1   115893          2230853 /opt/conda/lib/python3.6/site-packages/zmq/backend/cython/error.cpython-36m-x86_64-linux-gnu.so\r\n",
      "jupyter-n   6     jovyan  mem       REG                8,1   706232           529510 /opt/conda/lib/libgcc_s.so.1\r\n",
      "jupyter-n   6     jovyan  mem       REG                8,1  8167184           529575 /opt/conda/lib/libstdc++.so.6.0.24\r\n",
      "jupyter-n   6     jovyan  mem       REG                8,1  1289027           661987 /opt/conda/lib/libzmq.so.5.1.5\r\n",
      "jupyter-n   6     jovyan  mem       REG                8,1   228614          2230849 /opt/conda/lib/python3.6/site-packages/zmq/backend/cython/constants.cpython-36m-x86_64-linux-gnu.so\r\n",
      "jupyter-n   6     jovyan  mem       REG                8,1   617309           530848 /opt/conda/lib/python3.6/lib-dynload/_ctypes.cpython-36m-x86_64-linux-gnu.so\r\n",
      "jupyter-n   6     jovyan  mem       REG                8,1   194106           530836 /opt/conda/lib/python3.6/lib-dynload/_asyncio.cpython-36m-x86_64-linux-gnu.so\r\n",
      "jupyter-n   6     jovyan  mem       REG                8,1    48787           530862 /opt/conda/lib/python3.6/lib-dynload/_multiprocessing.cpython-36m-x86_64-linux-gnu.so\r\n",
      "jupyter-n   6     jovyan  mem       REG                8,1   963624           530898 /opt/conda/lib/python3.6/lib-dynload/unicodedata.cpython-36m-x86_64-linux-gnu.so\r\n",
      "jupyter-n   6     jovyan  mem       REG                8,1  1686154           530853 /opt/conda/lib/python3.6/lib-dynload/_decimal.cpython-36m-x86_64-linux-gnu.so\r\n",
      "jupyter-n   6     jovyan  mem       REG                8,1    33037          1837267 /opt/conda/lib/python3.6/site-packages/markupsafe/_speedups.cpython-36m-x86_64-linux-gnu.so\r\n",
      "jupyter-n   6     jovyan  mem       REG                8,1   249585           529581 /opt/conda/lib/libtinfo.so.5.9\r\n",
      "jupyter-n   6     jovyan  mem       REG                8,1   176142           529542 /opt/conda/lib/libncurses.so.5.9\r\n",
      "jupyter-n   6     jovyan  mem       REG                8,1   316595           530850 /opt/conda/lib/python3.6/lib-dynload/_curses.cpython-36m-x86_64-linux-gnu.so\r\n",
      "jupyter-n   6     jovyan  mem       REG                8,1    17873          1708597 /opt/conda/lib/python3.6/site-packages/tornado/speedups.cpython-36m-x86_64-linux-gnu.so\r\n",
      "jupyter-n   6     jovyan  mem       REG                8,1   187746           530880 /opt/conda/lib/python3.6/lib-dynload/array.cpython-36m-x86_64-linux-gnu.so\r\n",
      "jupyter-n   6     jovyan  mem       REG                8,1   433613           530864 /opt/conda/lib/python3.6/lib-dynload/_pickle.cpython-36m-x86_64-linux-gnu.so\r\n",
      "jupyter-n   6     jovyan  mem       REG                8,1    20447           530863 /opt/conda/lib/python3.6/lib-dynload/_opcode.cpython-36m-x86_64-linux-gnu.so\r\n",
      "jupyter-n   6     jovyan  mem       REG                8,1   164929           530857 /opt/conda/lib/python3.6/lib-dynload/_json.cpython-36m-x86_64-linux-gnu.so\r\n",
      "jupyter-n   6     jovyan  mem       REG                8,1    85443           530865 /opt/conda/lib/python3.6/lib-dynload/_posixsubprocess.cpython-36m-x86_64-linux-gnu.so\r\n",
      "jupyter-n   6     jovyan  mem       REG                8,1   375919           530873 /opt/conda/lib/python3.6/lib-dynload/_ssl.cpython-36m-x86_64-linux-gnu.so\r\n",
      "jupyter-n   6     jovyan  mem       REG                8,1   470165           530852 /opt/conda/lib/python3.6/lib-dynload/_datetime.cpython-36m-x86_64-linux-gnu.so\r\n",
      "jupyter-n   6     jovyan  mem       REG                8,1    79124           530894 /opt/conda/lib/python3.6/lib-dynload/select.cpython-36m-x86_64-linux-gnu.so\r\n",
      "jupyter-n   6     jovyan  mem       REG                8,1   339757           530871 /opt/conda/lib/python3.6/lib-dynload/_socket.cpython-36m-x86_64-linux-gnu.so\r\n",
      "jupyter-n   6     jovyan  mem       REG                8,1    37999           530866 /opt/conda/lib/python3.6/lib-dynload/_random.cpython-36m-x86_64-linux-gnu.so\r\n",
      "jupyter-n   6     jovyan  mem       REG                8,1   210293           530886 /opt/conda/lib/python3.6/lib-dynload/math.cpython-36m-x86_64-linux-gnu.so\r\n",
      "jupyter-n   6     jovyan  mem       REG                8,1   355122           530869 /opt/conda/lib/python3.6/lib-dynload/_sha3.cpython-36m-x86_64-linux-gnu.so\r\n",
      "jupyter-n   6     jovyan  mem       REG                8,1   329909           530838 /opt/conda/lib/python3.6/lib-dynload/_blake2.cpython-36m-x86_64-linux-gnu.so\r\n",
      "jupyter-n   6     jovyan  mem       REG                8,1  2692340           529490 /opt/conda/lib/libcrypto.so.1.0.0\r\n",
      "jupyter-n   6     jovyan  mem       REG                8,1   549929           529572 /opt/conda/lib/libssl.so.1.0.0\r\n",
      "jupyter-n   6     jovyan  mem       REG                8,1    92355           530855 /opt/conda/lib/python3.6/lib-dynload/_hashlib.cpython-36m-x86_64-linux-gnu.so\r\n",
      "jupyter-n   6     jovyan  mem       REG                8,1    33663           530837 /opt/conda/lib/python3.6/lib-dynload/_bisect.cpython-36m-x86_64-linux-gnu.so\r\n",
      "jupyter-n   6     jovyan  mem       REG                8,1    78638           530882 /opt/conda/lib/python3.6/lib-dynload/binascii.cpython-36m-x86_64-linux-gnu.so\r\n",
      "jupyter-n   6     jovyan  mem       REG                8,1   159628           530874 /opt/conda/lib/python3.6/lib-dynload/_struct.cpython-36m-x86_64-linux-gnu.so\r\n",
      "jupyter-n   6     jovyan  mem       REG                8,1    35500           530885 /opt/conda/lib/python3.6/lib-dynload/grp.cpython-36m-x86_64-linux-gnu.so\r\n",
      "jupyter-n   6     jovyan  mem       REG                8,1   803563           529528 /opt/conda/lib/liblzma.so.5.2.3\r\n",
      "jupyter-n   6     jovyan  mem       REG                8,1   117498           530859 /opt/conda/lib/python3.6/lib-dynload/_lzma.cpython-36m-x86_64-linux-gnu.so\r\n",
      "jupyter-n   6     jovyan  mem       REG                8,1   269237           530839 /opt/conda/lib/python3.6/lib-dynload/_bz2.cpython-36m-x86_64-linux-gnu.so\r\n",
      "jupyter-n   6     jovyan  mem       REG                8,1   127973           529602 /opt/conda/lib/libz.so.1.2.11\r\n",
      "jupyter-n   6     jovyan  mem       REG                8,1   116664           530900 /opt/conda/lib/python3.6/lib-dynload/zlib.cpython-36m-x86_64-linux-gnu.so\r\n",
      "jupyter-n   6     jovyan  mem       REG                8,1    47058           530856 /opt/conda/lib/python3.6/lib-dynload/_heapq.cpython-36m-x86_64-linux-gnu.so\r\n",
      "jupyter-n   6     jovyan  mem       REG                8,1  1868984           394365 /lib/x86_64-linux-gnu/libc-2.23.so\r\n",
      "jupyter-n   6     jovyan  mem       REG                8,1  1088952           394397 /lib/x86_64-linux-gnu/libm-2.23.so\r\n",
      "jupyter-n   6     jovyan  mem       REG                8,1    31712           394440 /lib/x86_64-linux-gnu/librt-2.23.so\r\n",
      "jupyter-n   6     jovyan  mem       REG                8,1    10656           394460 /lib/x86_64-linux-gnu/libutil-2.23.so\r\n",
      "jupyter-n   6     jovyan  mem       REG                8,1    14608           394378 /lib/x86_64-linux-gnu/libdl-2.23.so\r\n",
      "jupyter-n   6     jovyan  mem       REG                8,1   138696           394433 /lib/x86_64-linux-gnu/libpthread-2.23.so\r\n",
      "jupyter-n   6     jovyan  mem       REG                8,1 12444567           529556 /opt/conda/lib/libpython3.6m.so.1.0\r\n",
      "jupyter-n   6     jovyan  mem       REG                8,1   162632           394345 /lib/x86_64-linux-gnu/ld-2.23.so\r\n",
      "jupyter-n   6     jovyan  mem       REG                8,1    26258           395222 /usr/lib/x86_64-linux-gnu/gconv/gconv-modules.cache\r\n",
      "jupyter-n   6     jovyan  mem       REG                8,1  1668976           656066 /usr/lib/locale/locale-archive\r\n",
      "jupyter-n   6     jovyan    0r     FIFO               0,10      0t0           177821 pipe\r\n",
      "jupyter-n   6     jovyan    1w     FIFO               0,10      0t0           177822 pipe\r\n",
      "jupyter-n   6     jovyan    2w     FIFO               0,10      0t0           177823 pipe\r\n",
      "jupyter-n   6     jovyan    3r      CHR                1,9      0t0           177867 /dev/urandom\r\n",
      "jupyter-n   6     jovyan    4r      CHR                1,9      0t0           177867 /dev/urandom\r\n",
      "jupyter-n   6     jovyan    5w      CHR                1,3      0t0           177862 /dev/null\r\n",
      "jupyter-n   6     jovyan    6u     IPv4             184213      0t0              TCP *:8888 (LISTEN)\r\n",
      "jupyter-n   6     jovyan    7u     IPv6             184214      0t0              TCP *:8888 (LISTEN)\r\n",
      "jupyter-n   6     jovyan    8u  a_inode               0,11        0            11923 [eventpoll]\r\n",
      "jupyter-n   6     jovyan    9u     unix 0x0000000000000000      0t0           184215 type=STREAM\r\n",
      "jupyter-n   6     jovyan   10u     unix 0x0000000000000000      0t0           184216 type=STREAM\r\n",
      "jupyter-n   6     jovyan   12u     IPv4             183213      0t0              TCP 1a17b746bd59:8888->172.17.0.1:53982 (ESTABLISHED)\r\n",
      "jupyter-n   6     jovyan   17u      REG                8,1    16384           262654 /home/jovyan/.local/share/jupyter/nbsignatures.db\r\n",
      "jupyter-n   6     jovyan   18u  a_inode               0,11        0            11923 [eventfd]\r\n",
      "jupyter-n   6     jovyan   19r      CHR                1,9      0t0           177867 /dev/urandom\r\n",
      "jupyter-n   6     jovyan   20u  a_inode               0,11        0            11923 [eventfd]\r\n",
      "jupyter-n   6     jovyan   21u  a_inode               0,11        0            11923 [eventpoll]\r\n",
      "jupyter-n   6     jovyan   22u  a_inode               0,11        0            11923 [eventfd]\r\n",
      "jupyter-n   6     jovyan   23u  a_inode               0,11        0            11923 [eventpoll]\r\n",
      "jupyter-n   6     jovyan   24u  a_inode               0,11        0            11923 [eventfd]\r\n",
      "jupyter-n   6     jovyan   25u  a_inode               0,11        0            11923 [eventfd]\r\n",
      "jupyter-n   6     jovyan   26u     IPv4             184694      0t0              TCP localhost:50562->localhost:39407 (ESTABLISHED)\r\n",
      "jupyter-n   6     jovyan   27u     IPv4             184695      0t0              TCP localhost:40336->localhost:33055 (ESTABLISHED)\r\n",
      "jupyter-n   6     jovyan   28u     IPv4             184743      0t0              TCP 1a17b746bd59:8888->172.17.0.1:53936 (ESTABLISHED)\r\n",
      "jupyter-n   6     jovyan   29u     IPv4             183149      0t0              TCP localhost:35854->localhost:54603 (ESTABLISHED)\r\n",
      "jupyter-n   6     jovyan   30u  a_inode               0,11        0            11923 [eventfd]\r\n",
      "jupyter-n   6     jovyan   31u  a_inode               0,11        0            11923 [eventfd]\r\n",
      "jupyter-n   6     jovyan   32u     IPv4             183151      0t0              TCP localhost:50580->localhost:39407 (ESTABLISHED)\r\n",
      "jupyter-n   6     jovyan   33u  a_inode               0,11        0            11923 [eventfd]\r\n",
      "jupyter-n   6     jovyan   34u     IPv4             183153      0t0              TCP localhost:36396->localhost:37155 (ESTABLISHED)\r\n",
      "jupyter-n   6     jovyan   35u  a_inode               0,11        0            11923 [eventfd]\r\n",
      "jupyter-n   6     jovyan   36u  a_inode               0,11        0            11923 [eventfd]\r\n",
      "jupyter-n   6     jovyan   37u     IPv4             184821      0t0              TCP localhost:49172->localhost:50275 (ESTABLISHED)\r\n",
      "jupyter-n   6     jovyan   38u     IPv4             184822      0t0              TCP localhost:57652->localhost:43441 (ESTABLISHED)\r\n",
      "jupyter-n   6     jovyan   40u  a_inode               0,11        0            11923 [eventfd]\r\n",
      "jupyter-n   6     jovyan   41u     IPv4             183204      0t0              TCP localhost:55780->localhost:56409 (ESTABLISHED)\r\n",
      "jupyter-n   6     jovyan   42u  a_inode               0,11        0            11923 [eventfd]\r\n",
      "jupyter-n   6     jovyan   43u     IPv4             183206      0t0              TCP localhost:49190->localhost:50275 (ESTABLISHED)\r\n",
      "jupyter-n   6     jovyan   44u  a_inode               0,11        0            11923 [eventfd]\r\n",
      "jupyter-n   6     jovyan   45u     IPv4             183208      0t0              TCP localhost:49246->localhost:37411 (ESTABLISHED)\r\n",
      "ZMQbg/0     6  20 jovyan  cwd       DIR               0,59     4096           177804 /home/jovyan\r\n",
      "ZMQbg/0     6  20 jovyan  rtd       DIR               0,59     4096           181289 /\r\n",
      "ZMQbg/0     6  20 jovyan  txt       REG                8,1    14857           529056 /opt/conda/bin/python3.6\r\n",
      "ZMQbg/0     6  20 jovyan  mem       REG                8,1   498131          1839770 /opt/conda/lib/python3.6/site-packages/msgpack/_unpacker.cpython-36m-x86_64-linux-gnu.so\r\n",
      "ZMQbg/0     6  20 jovyan  mem       REG                8,1   430506          1839769 /opt/conda/lib/python3.6/site-packages/msgpack/_packer.cpython-36m-x86_64-linux-gnu.so\r\n",
      "ZMQbg/0     6  20 jovyan  mem       REG                8,1    64549           530858 /opt/conda/lib/python3.6/lib-dynload/_lsprof.cpython-36m-x86_64-linux-gnu.so\r\n",
      "ZMQbg/0     6  20 jovyan  mem       REG                8,1    32268           530893 /opt/conda/lib/python3.6/lib-dynload/resource.cpython-36m-x86_64-linux-gnu.so\r\n",
      "ZMQbg/0     6  20 jovyan  mem       REG                8,1  1165114           529569 /opt/conda/lib/libsqlite3.so.0.8.6\r\n",
      "ZMQbg/0     6  20 jovyan  mem       REG                8,1   295030           530872 /opt/conda/lib/python3.6/lib-dynload/_sqlite3.cpython-36m-x86_64-linux-gnu.so\r\n",
      "ZMQbg/0     6  20 jovyan  DEL       REG                8,1                    531913 /opt/conda/lib/python3.6/site-packages/cryptography/hazmat/bindings/_openssl.abi3.so\r\n",
      "ZMQbg/0     6  20 jovyan  mem       REG                8,1    42179           529500 /opt/conda/lib/libffi.so.6.0.4\r\n",
      "ZMQbg/0     6  20 jovyan  mem       REG                8,1   758089           531258 /opt/conda/lib/python3.6/site-packages/_cffi_backend.cpython-36m-x86_64-linux-gnu.so\r\n",
      "ZMQbg/0     6  20 jovyan  DEL       REG                8,1                    531912 /opt/conda/lib/python3.6/site-packages/cryptography/hazmat/bindings/_constant_time.abi3.so\r\n",
      "ZMQbg/0     6  20 jovyan  mem       REG                8,1   929104           530891 /opt/conda/lib/python3.6/lib-dynload/pyexpat.cpython-36m-x86_64-linux-gnu.so\r\n",
      "ZMQbg/0     6  20 jovyan  mem       REG                8,1   273999           530854 /opt/conda/lib/python3.6/lib-dynload/_elementtree.cpython-36m-x86_64-linux-gnu.so\r\n",
      "ZMQbg/0     6  20 jovyan  mem       REG                8,1    18976           394463 /lib/x86_64-linux-gnu/libuuid.so.1.3.0\r\n",
      "ZMQbg/0     6  20 jovyan  mem       REG                8,1    46964           530897 /opt/conda/lib/python3.6/lib-dynload/termios.cpython-36m-x86_64-linux-gnu.so\r\n",
      "ZMQbg/0     6  20 jovyan  mem       REG                8,1   112122           530847 /opt/conda/lib/python3.6/lib-dynload/_csv.cpython-36m-x86_64-linux-gnu.so\r\n",
      "ZMQbg/0     6  20 jovyan  mem       REG                8,1    41463           530884 /opt/conda/lib/python3.6/lib-dynload/fcntl.cpython-36m-x86_64-linux-gnu.so\r\n",
      "ZMQbg/0     6  20 jovyan  mem       REG                8,1   228724          2230844 /opt/conda/lib/python3.6/site-packages/zmq/backend/cython/_device.cpython-36m-x86_64-linux-gnu.so\r\n",
      "ZMQbg/0     6  20 jovyan  mem       REG                8,1    98032          2230846 /opt/conda/lib/python3.6/site-packages/zmq/backend/cython/_version.cpython-36m-x86_64-linux-gnu.so\r\n",
      "ZMQbg/0     6  20 jovyan  mem       REG                8,1   327947          2230845 /opt/conda/lib/python3.6/site-packages/zmq/backend/cython/_poll.cpython-36m-x86_64-linux-gnu.so\r\n",
      "ZMQbg/0     6  20 jovyan  mem       REG                8,1   149930          2230859 /opt/conda/lib/python3.6/site-packages/zmq/backend/cython/utils.cpython-36m-x86_64-linux-gnu.so\r\n",
      "ZMQbg/0     6  20 jovyan  mem       REG                8,1   730559          2230857 /opt/conda/lib/python3.6/site-packages/zmq/backend/cython/socket.cpython-36m-x86_64-linux-gnu.so\r\n",
      "ZMQbg/0     6  20 jovyan  mem       REG                8,1   311141          2230851 /opt/conda/lib/python3.6/site-packages/zmq/backend/cython/context.cpython-36m-x86_64-linux-gnu.so\r\n",
      "ZMQbg/0     6  20 jovyan  mem       REG                8,1   452817          2230855 /opt/conda/lib/python3.6/site-packages/zmq/backend/cython/message.cpython-36m-x86_64-linux-gnu.so\r\n",
      "ZMQbg/0     6  20 jovyan  mem       REG                8,1   115893          2230853 /opt/conda/lib/python3.6/site-packages/zmq/backend/cython/error.cpython-36m-x86_64-linux-gnu.so\r\n",
      "ZMQbg/0     6  20 jovyan  mem       REG                8,1   706232           529510 /opt/conda/lib/libgcc_s.so.1\r\n",
      "ZMQbg/0     6  20 jovyan  mem       REG                8,1  8167184           529575 /opt/conda/lib/libstdc++.so.6.0.24\r\n",
      "ZMQbg/0     6  20 jovyan  mem       REG                8,1  1289027           661987 /opt/conda/lib/libzmq.so.5.1.5\r\n",
      "ZMQbg/0     6  20 jovyan  mem       REG                8,1   228614          2230849 /opt/conda/lib/python3.6/site-packages/zmq/backend/cython/constants.cpython-36m-x86_64-linux-gnu.so\r\n",
      "ZMQbg/0     6  20 jovyan  mem       REG                8,1   617309           530848 /opt/conda/lib/python3.6/lib-dynload/_ctypes.cpython-36m-x86_64-linux-gnu.so\r\n",
      "ZMQbg/0     6  20 jovyan  mem       REG                8,1   194106           530836 /opt/conda/lib/python3.6/lib-dynload/_asyncio.cpython-36m-x86_64-linux-gnu.so\r\n",
      "ZMQbg/0     6  20 jovyan  mem       REG                8,1    48787           530862 /opt/conda/lib/python3.6/lib-dynload/_multiprocessing.cpython-36m-x86_64-linux-gnu.so\r\n",
      "ZMQbg/0     6  20 jovyan  mem       REG                8,1   963624           530898 /opt/conda/lib/python3.6/lib-dynload/unicodedata.cpython-36m-x86_64-linux-gnu.so\r\n",
      "ZMQbg/0     6  20 jovyan  mem       REG                8,1  1686154           530853 /opt/conda/lib/python3.6/lib-dynload/_decimal.cpython-36m-x86_64-linux-gnu.so\r\n",
      "ZMQbg/0     6  20 jovyan  mem       REG                8,1    33037          1837267 /opt/conda/lib/python3.6/site-packages/markupsafe/_speedups.cpython-36m-x86_64-linux-gnu.so\r\n",
      "ZMQbg/0     6  20 jovyan  mem       REG                8,1   249585           529581 /opt/conda/lib/libtinfo.so.5.9\r\n",
      "ZMQbg/0     6  20 jovyan  mem       REG                8,1   176142           529542 /opt/conda/lib/libncurses.so.5.9\r\n",
      "ZMQbg/0     6  20 jovyan  mem       REG                8,1   316595           530850 /opt/conda/lib/python3.6/lib-dynload/_curses.cpython-36m-x86_64-linux-gnu.so\r\n",
      "ZMQbg/0     6  20 jovyan  mem       REG                8,1    17873          1708597 /opt/conda/lib/python3.6/site-packages/tornado/speedups.cpython-36m-x86_64-linux-gnu.so\r\n",
      "ZMQbg/0     6  20 jovyan  mem       REG                8,1   187746           530880 /opt/conda/lib/python3.6/lib-dynload/array.cpython-36m-x86_64-linux-gnu.so\r\n",
      "ZMQbg/0     6  20 jovyan  mem       REG                8,1   433613           530864 /opt/conda/lib/python3.6/lib-dynload/_pickle.cpython-36m-x86_64-linux-gnu.so\r\n",
      "ZMQbg/0     6  20 jovyan  mem       REG                8,1    20447           530863 /opt/conda/lib/python3.6/lib-dynload/_opcode.cpython-36m-x86_64-linux-gnu.so\r\n",
      "ZMQbg/0     6  20 jovyan  mem       REG                8,1   164929           530857 /opt/conda/lib/python3.6/lib-dynload/_json.cpython-36m-x86_64-linux-gnu.so\r\n",
      "ZMQbg/0     6  20 jovyan  mem       REG                8,1    85443           530865 /opt/conda/lib/python3.6/lib-dynload/_posixsubprocess.cpython-36m-x86_64-linux-gnu.so\r\n",
      "ZMQbg/0     6  20 jovyan  mem       REG                8,1   375919           530873 /opt/conda/lib/python3.6/lib-dynload/_ssl.cpython-36m-x86_64-linux-gnu.so\r\n",
      "ZMQbg/0     6  20 jovyan  mem       REG                8,1   470165           530852 /opt/conda/lib/python3.6/lib-dynload/_datetime.cpython-36m-x86_64-linux-gnu.so\r\n",
      "ZMQbg/0     6  20 jovyan  mem       REG                8,1    79124           530894 /opt/conda/lib/python3.6/lib-dynload/select.cpython-36m-x86_64-linux-gnu.so\r\n",
      "ZMQbg/0     6  20 jovyan  mem       REG                8,1   339757           530871 /opt/conda/lib/python3.6/lib-dynload/_socket.cpython-36m-x86_64-linux-gnu.so\r\n",
      "ZMQbg/0     6  20 jovyan  mem       REG                8,1    37999           530866 /opt/conda/lib/python3.6/lib-dynload/_random.cpython-36m-x86_64-linux-gnu.so\r\n",
      "ZMQbg/0     6  20 jovyan  mem       REG                8,1   210293           530886 /opt/conda/lib/python3.6/lib-dynload/math.cpython-36m-x86_64-linux-gnu.so\r\n",
      "ZMQbg/0     6  20 jovyan  mem       REG                8,1   355122           530869 /opt/conda/lib/python3.6/lib-dynload/_sha3.cpython-36m-x86_64-linux-gnu.so\r\n",
      "ZMQbg/0     6  20 jovyan  mem       REG                8,1   329909           530838 /opt/conda/lib/python3.6/lib-dynload/_blake2.cpython-36m-x86_64-linux-gnu.so\r\n",
      "ZMQbg/0     6  20 jovyan  mem       REG                8,1  2692340           529490 /opt/conda/lib/libcrypto.so.1.0.0\r\n",
      "ZMQbg/0     6  20 jovyan  mem       REG                8,1   549929           529572 /opt/conda/lib/libssl.so.1.0.0\r\n",
      "ZMQbg/0     6  20 jovyan  mem       REG                8,1    92355           530855 /opt/conda/lib/python3.6/lib-dynload/_hashlib.cpython-36m-x86_64-linux-gnu.so\r\n",
      "ZMQbg/0     6  20 jovyan  mem       REG                8,1    33663           530837 /opt/conda/lib/python3.6/lib-dynload/_bisect.cpython-36m-x86_64-linux-gnu.so\r\n",
      "ZMQbg/0     6  20 jovyan  mem       REG                8,1    78638           530882 /opt/conda/lib/python3.6/lib-dynload/binascii.cpython-36m-x86_64-linux-gnu.so\r\n",
      "ZMQbg/0     6  20 jovyan  mem       REG                8,1   159628           530874 /opt/conda/lib/python3.6/lib-dynload/_struct.cpython-36m-x86_64-linux-gnu.so\r\n",
      "ZMQbg/0     6  20 jovyan  mem       REG                8,1    35500           530885 /opt/conda/lib/python3.6/lib-dynload/grp.cpython-36m-x86_64-linux-gnu.so\r\n",
      "ZMQbg/0     6  20 jovyan  mem       REG                8,1   803563           529528 /opt/conda/lib/liblzma.so.5.2.3\r\n",
      "ZMQbg/0     6  20 jovyan  mem       REG                8,1   117498           530859 /opt/conda/lib/python3.6/lib-dynload/_lzma.cpython-36m-x86_64-linux-gnu.so\r\n",
      "ZMQbg/0     6  20 jovyan  mem       REG                8,1   269237           530839 /opt/conda/lib/python3.6/lib-dynload/_bz2.cpython-36m-x86_64-linux-gnu.so\r\n",
      "ZMQbg/0     6  20 jovyan  mem       REG                8,1   127973           529602 /opt/conda/lib/libz.so.1.2.11\r\n",
      "ZMQbg/0     6  20 jovyan  mem       REG                8,1   116664           530900 /opt/conda/lib/python3.6/lib-dynload/zlib.cpython-36m-x86_64-linux-gnu.so\r\n",
      "ZMQbg/0     6  20 jovyan  mem       REG                8,1    47058           530856 /opt/conda/lib/python3.6/lib-dynload/_heapq.cpython-36m-x86_64-linux-gnu.so\r\n",
      "ZMQbg/0     6  20 jovyan  mem       REG                8,1  1868984           394365 /lib/x86_64-linux-gnu/libc-2.23.so\r\n",
      "ZMQbg/0     6  20 jovyan  mem       REG                8,1  1088952           394397 /lib/x86_64-linux-gnu/libm-2.23.so\r\n",
      "ZMQbg/0     6  20 jovyan  mem       REG                8,1    31712           394440 /lib/x86_64-linux-gnu/librt-2.23.so\r\n",
      "ZMQbg/0     6  20 jovyan  mem       REG                8,1    10656           394460 /lib/x86_64-linux-gnu/libutil-2.23.so\r\n",
      "ZMQbg/0     6  20 jovyan  mem       REG                8,1    14608           394378 /lib/x86_64-linux-gnu/libdl-2.23.so\r\n",
      "ZMQbg/0     6  20 jovyan  mem       REG                8,1   138696           394433 /lib/x86_64-linux-gnu/libpthread-2.23.so\r\n",
      "ZMQbg/0     6  20 jovyan  mem       REG                8,1 12444567           529556 /opt/conda/lib/libpython3.6m.so.1.0\r\n",
      "ZMQbg/0     6  20 jovyan  mem       REG                8,1   162632           394345 /lib/x86_64-linux-gnu/ld-2.23.so\r\n",
      "ZMQbg/0     6  20 jovyan  mem       REG                8,1    26258           395222 /usr/lib/x86_64-linux-gnu/gconv/gconv-modules.cache\r\n",
      "ZMQbg/0     6  20 jovyan  mem       REG                8,1  1668976           656066 /usr/lib/locale/locale-archive\r\n",
      "ZMQbg/0     6  20 jovyan    0r     FIFO               0,10      0t0           177821 pipe\r\n",
      "ZMQbg/0     6  20 jovyan    1w     FIFO               0,10      0t0           177822 pipe\r\n",
      "ZMQbg/0     6  20 jovyan    2w     FIFO               0,10      0t0           177823 pipe\r\n",
      "ZMQbg/0     6  20 jovyan    3r      CHR                1,9      0t0           177867 /dev/urandom\r\n",
      "ZMQbg/0     6  20 jovyan    4r      CHR                1,9      0t0           177867 /dev/urandom\r\n",
      "ZMQbg/0     6  20 jovyan    5w      CHR                1,3      0t0           177862 /dev/null\r\n",
      "ZMQbg/0     6  20 jovyan    6u     IPv4             184213      0t0              TCP *:8888 (LISTEN)\r\n",
      "ZMQbg/0     6  20 jovyan    7u     IPv6             184214      0t0              TCP *:8888 (LISTEN)\r\n",
      "ZMQbg/0     6  20 jovyan    8u  a_inode               0,11        0            11923 [eventpoll]\r\n",
      "ZMQbg/0     6  20 jovyan    9u     unix 0x0000000000000000      0t0           184215 type=STREAM\r\n",
      "ZMQbg/0     6  20 jovyan   10u     unix 0x0000000000000000      0t0           184216 type=STREAM\r\n",
      "ZMQbg/0     6  20 jovyan   12u     IPv4             183213      0t0              TCP 1a17b746bd59:8888->172.17.0.1:53982 (ESTABLISHED)\r\n",
      "ZMQbg/0     6  20 jovyan   17u      REG                8,1    16384           262654 /home/jovyan/.local/share/jupyter/nbsignatures.db\r\n",
      "ZMQbg/0     6  20 jovyan   18u  a_inode               0,11        0            11923 [eventfd]\r\n",
      "ZMQbg/0     6  20 jovyan   19r      CHR                1,9      0t0           177867 /dev/urandom\r\n",
      "ZMQbg/0     6  20 jovyan   20u  a_inode               0,11        0            11923 [eventfd]\r\n",
      "ZMQbg/0     6  20 jovyan   21u  a_inode               0,11        0            11923 [eventpoll]\r\n",
      "ZMQbg/0     6  20 jovyan   22u  a_inode               0,11        0            11923 [eventfd]\r\n",
      "ZMQbg/0     6  20 jovyan   23u  a_inode               0,11        0            11923 [eventpoll]\r\n",
      "ZMQbg/0     6  20 jovyan   24u  a_inode               0,11        0            11923 [eventfd]\r\n",
      "ZMQbg/0     6  20 jovyan   25u  a_inode               0,11        0            11923 [eventfd]\r\n",
      "ZMQbg/0     6  20 jovyan   26u     IPv4             184694      0t0              TCP localhost:50562->localhost:39407 (ESTABLISHED)\r\n",
      "ZMQbg/0     6  20 jovyan   27u     IPv4             184695      0t0              TCP localhost:40336->localhost:33055 (ESTABLISHED)\r\n",
      "ZMQbg/0     6  20 jovyan   28u     IPv4             184743      0t0              TCP 1a17b746bd59:8888->172.17.0.1:53936 (ESTABLISHED)\r\n",
      "ZMQbg/0     6  20 jovyan   29u     IPv4             183149      0t0              TCP localhost:35854->localhost:54603 (ESTABLISHED)\r\n",
      "ZMQbg/0     6  20 jovyan   30u  a_inode               0,11        0            11923 [eventfd]\r\n",
      "ZMQbg/0     6  20 jovyan   31u  a_inode               0,11        0            11923 [eventfd]\r\n",
      "ZMQbg/0     6  20 jovyan   32u     IPv4             183151      0t0              TCP localhost:50580->localhost:39407 (ESTABLISHED)\r\n",
      "ZMQbg/0     6  20 jovyan   33u  a_inode               0,11        0            11923 [eventfd]\r\n",
      "ZMQbg/0     6  20 jovyan   34u     IPv4             183153      0t0              TCP localhost:36396->localhost:37155 (ESTABLISHED)\r\n",
      "ZMQbg/0     6  20 jovyan   35u  a_inode               0,11        0            11923 [eventfd]\r\n",
      "ZMQbg/0     6  20 jovyan   36u  a_inode               0,11        0            11923 [eventfd]\r\n",
      "ZMQbg/0     6  20 jovyan   37u     IPv4             184821      0t0              TCP localhost:49172->localhost:50275 (ESTABLISHED)\r\n",
      "ZMQbg/0     6  20 jovyan   38u     IPv4             184822      0t0              TCP localhost:57652->localhost:43441 (ESTABLISHED)\r\n",
      "ZMQbg/0     6  20 jovyan   40u  a_inode               0,11        0            11923 [eventfd]\r\n",
      "ZMQbg/0     6  20 jovyan   41u     IPv4             183204      0t0              TCP localhost:55780->localhost:56409 (ESTABLISHED)\r\n",
      "ZMQbg/0     6  20 jovyan   42u  a_inode               0,11        0            11923 [eventfd]\r\n",
      "ZMQbg/0     6  20 jovyan   43u     IPv4             183206      0t0              TCP localhost:49190->localhost:50275 (ESTABLISHED)\r\n",
      "ZMQbg/0     6  20 jovyan   44u  a_inode               0,11        0            11923 [eventfd]\r\n",
      "ZMQbg/0     6  20 jovyan   45u     IPv4             183208      0t0              TCP localhost:49246->localhost:37411 (ESTABLISHED)\r\n",
      "ZMQbg/1     6  21 jovyan  cwd       DIR               0,59     4096           177804 /home/jovyan\r\n",
      "ZMQbg/1     6  21 jovyan  rtd       DIR               0,59     4096           181289 /\r\n",
      "ZMQbg/1     6  21 jovyan  txt       REG                8,1    14857           529056 /opt/conda/bin/python3.6\r\n",
      "ZMQbg/1     6  21 jovyan  mem       REG                8,1   498131          1839770 /opt/conda/lib/python3.6/site-packages/msgpack/_unpacker.cpython-36m-x86_64-linux-gnu.so\r\n",
      "ZMQbg/1     6  21 jovyan  mem       REG                8,1   430506          1839769 /opt/conda/lib/python3.6/site-packages/msgpack/_packer.cpython-36m-x86_64-linux-gnu.so\r\n",
      "ZMQbg/1     6  21 jovyan  mem       REG                8,1    64549           530858 /opt/conda/lib/python3.6/lib-dynload/_lsprof.cpython-36m-x86_64-linux-gnu.so\r\n",
      "ZMQbg/1     6  21 jovyan  mem       REG                8,1    32268           530893 /opt/conda/lib/python3.6/lib-dynload/resource.cpython-36m-x86_64-linux-gnu.so\r\n",
      "ZMQbg/1     6  21 jovyan  mem       REG                8,1  1165114           529569 /opt/conda/lib/libsqlite3.so.0.8.6\r\n",
      "ZMQbg/1     6  21 jovyan  mem       REG                8,1   295030           530872 /opt/conda/lib/python3.6/lib-dynload/_sqlite3.cpython-36m-x86_64-linux-gnu.so\r\n",
      "ZMQbg/1     6  21 jovyan  DEL       REG                8,1                    531913 /opt/conda/lib/python3.6/site-packages/cryptography/hazmat/bindings/_openssl.abi3.so\r\n",
      "ZMQbg/1     6  21 jovyan  mem       REG                8,1    42179           529500 /opt/conda/lib/libffi.so.6.0.4\r\n",
      "ZMQbg/1     6  21 jovyan  mem       REG                8,1   758089           531258 /opt/conda/lib/python3.6/site-packages/_cffi_backend.cpython-36m-x86_64-linux-gnu.so\r\n",
      "ZMQbg/1     6  21 jovyan  DEL       REG                8,1                    531912 /opt/conda/lib/python3.6/site-packages/cryptography/hazmat/bindings/_constant_time.abi3.so\r\n",
      "ZMQbg/1     6  21 jovyan  mem       REG                8,1   929104           530891 /opt/conda/lib/python3.6/lib-dynload/pyexpat.cpython-36m-x86_64-linux-gnu.so\r\n",
      "ZMQbg/1     6  21 jovyan  mem       REG                8,1   273999           530854 /opt/conda/lib/python3.6/lib-dynload/_elementtree.cpython-36m-x86_64-linux-gnu.so\r\n",
      "ZMQbg/1     6  21 jovyan  mem       REG                8,1    18976           394463 /lib/x86_64-linux-gnu/libuuid.so.1.3.0\r\n",
      "ZMQbg/1     6  21 jovyan  mem       REG                8,1    46964           530897 /opt/conda/lib/python3.6/lib-dynload/termios.cpython-36m-x86_64-linux-gnu.so\r\n",
      "ZMQbg/1     6  21 jovyan  mem       REG                8,1   112122           530847 /opt/conda/lib/python3.6/lib-dynload/_csv.cpython-36m-x86_64-linux-gnu.so\r\n",
      "ZMQbg/1     6  21 jovyan  mem       REG                8,1    41463           530884 /opt/conda/lib/python3.6/lib-dynload/fcntl.cpython-36m-x86_64-linux-gnu.so\r\n",
      "ZMQbg/1     6  21 jovyan  mem       REG                8,1   228724          2230844 /opt/conda/lib/python3.6/site-packages/zmq/backend/cython/_device.cpython-36m-x86_64-linux-gnu.so\r\n",
      "ZMQbg/1     6  21 jovyan  mem       REG                8,1    98032          2230846 /opt/conda/lib/python3.6/site-packages/zmq/backend/cython/_version.cpython-36m-x86_64-linux-gnu.so\r\n",
      "ZMQbg/1     6  21 jovyan  mem       REG                8,1   327947          2230845 /opt/conda/lib/python3.6/site-packages/zmq/backend/cython/_poll.cpython-36m-x86_64-linux-gnu.so\r\n",
      "ZMQbg/1     6  21 jovyan  mem       REG                8,1   149930          2230859 /opt/conda/lib/python3.6/site-packages/zmq/backend/cython/utils.cpython-36m-x86_64-linux-gnu.so\r\n",
      "ZMQbg/1     6  21 jovyan  mem       REG                8,1   730559          2230857 /opt/conda/lib/python3.6/site-packages/zmq/backend/cython/socket.cpython-36m-x86_64-linux-gnu.so\r\n",
      "ZMQbg/1     6  21 jovyan  mem       REG                8,1   311141          2230851 /opt/conda/lib/python3.6/site-packages/zmq/backend/cython/context.cpython-36m-x86_64-linux-gnu.so\r\n",
      "ZMQbg/1     6  21 jovyan  mem       REG                8,1   452817          2230855 /opt/conda/lib/python3.6/site-packages/zmq/backend/cython/message.cpython-36m-x86_64-linux-gnu.so\r\n",
      "ZMQbg/1     6  21 jovyan  mem       REG                8,1   115893          2230853 /opt/conda/lib/python3.6/site-packages/zmq/backend/cython/error.cpython-36m-x86_64-linux-gnu.so\r\n",
      "ZMQbg/1     6  21 jovyan  mem       REG                8,1   706232           529510 /opt/conda/lib/libgcc_s.so.1\r\n",
      "ZMQbg/1     6  21 jovyan  mem       REG                8,1  8167184           529575 /opt/conda/lib/libstdc++.so.6.0.24\r\n",
      "ZMQbg/1     6  21 jovyan  mem       REG                8,1  1289027           661987 /opt/conda/lib/libzmq.so.5.1.5\r\n",
      "ZMQbg/1     6  21 jovyan  mem       REG                8,1   228614          2230849 /opt/conda/lib/python3.6/site-packages/zmq/backend/cython/constants.cpython-36m-x86_64-linux-gnu.so\r\n",
      "ZMQbg/1     6  21 jovyan  mem       REG                8,1   617309           530848 /opt/conda/lib/python3.6/lib-dynload/_ctypes.cpython-36m-x86_64-linux-gnu.so\r\n",
      "ZMQbg/1     6  21 jovyan  mem       REG                8,1   194106           530836 /opt/conda/lib/python3.6/lib-dynload/_asyncio.cpython-36m-x86_64-linux-gnu.so\r\n",
      "ZMQbg/1     6  21 jovyan  mem       REG                8,1    48787           530862 /opt/conda/lib/python3.6/lib-dynload/_multiprocessing.cpython-36m-x86_64-linux-gnu.so\r\n",
      "ZMQbg/1     6  21 jovyan  mem       REG                8,1   963624           530898 /opt/conda/lib/python3.6/lib-dynload/unicodedata.cpython-36m-x86_64-linux-gnu.so\r\n",
      "ZMQbg/1     6  21 jovyan  mem       REG                8,1  1686154           530853 /opt/conda/lib/python3.6/lib-dynload/_decimal.cpython-36m-x86_64-linux-gnu.so\r\n",
      "ZMQbg/1     6  21 jovyan  mem       REG                8,1    33037          1837267 /opt/conda/lib/python3.6/site-packages/markupsafe/_speedups.cpython-36m-x86_64-linux-gnu.so\r\n",
      "ZMQbg/1     6  21 jovyan  mem       REG                8,1   249585           529581 /opt/conda/lib/libtinfo.so.5.9\r\n",
      "ZMQbg/1     6  21 jovyan  mem       REG                8,1   176142           529542 /opt/conda/lib/libncurses.so.5.9\r\n",
      "ZMQbg/1     6  21 jovyan  mem       REG                8,1   316595           530850 /opt/conda/lib/python3.6/lib-dynload/_curses.cpython-36m-x86_64-linux-gnu.so\r\n",
      "ZMQbg/1     6  21 jovyan  mem       REG                8,1    17873          1708597 /opt/conda/lib/python3.6/site-packages/tornado/speedups.cpython-36m-x86_64-linux-gnu.so\r\n",
      "ZMQbg/1     6  21 jovyan  mem       REG                8,1   187746           530880 /opt/conda/lib/python3.6/lib-dynload/array.cpython-36m-x86_64-linux-gnu.so\r\n",
      "ZMQbg/1     6  21 jovyan  mem       REG                8,1   433613           530864 /opt/conda/lib/python3.6/lib-dynload/_pickle.cpython-36m-x86_64-linux-gnu.so\r\n",
      "ZMQbg/1     6  21 jovyan  mem       REG                8,1    20447           530863 /opt/conda/lib/python3.6/lib-dynload/_opcode.cpython-36m-x86_64-linux-gnu.so\r\n",
      "ZMQbg/1     6  21 jovyan  mem       REG                8,1   164929           530857 /opt/conda/lib/python3.6/lib-dynload/_json.cpython-36m-x86_64-linux-gnu.so\r\n",
      "ZMQbg/1     6  21 jovyan  mem       REG                8,1    85443           530865 /opt/conda/lib/python3.6/lib-dynload/_posixsubprocess.cpython-36m-x86_64-linux-gnu.so\r\n",
      "ZMQbg/1     6  21 jovyan  mem       REG                8,1   375919           530873 /opt/conda/lib/python3.6/lib-dynload/_ssl.cpython-36m-x86_64-linux-gnu.so\r\n",
      "ZMQbg/1     6  21 jovyan  mem       REG                8,1   470165           530852 /opt/conda/lib/python3.6/lib-dynload/_datetime.cpython-36m-x86_64-linux-gnu.so\r\n",
      "ZMQbg/1     6  21 jovyan  mem       REG                8,1    79124           530894 /opt/conda/lib/python3.6/lib-dynload/select.cpython-36m-x86_64-linux-gnu.so\r\n",
      "ZMQbg/1     6  21 jovyan  mem       REG                8,1   339757           530871 /opt/conda/lib/python3.6/lib-dynload/_socket.cpython-36m-x86_64-linux-gnu.so\r\n",
      "ZMQbg/1     6  21 jovyan  mem       REG                8,1    37999           530866 /opt/conda/lib/python3.6/lib-dynload/_random.cpython-36m-x86_64-linux-gnu.so\r\n",
      "ZMQbg/1     6  21 jovyan  mem       REG                8,1   210293           530886 /opt/conda/lib/python3.6/lib-dynload/math.cpython-36m-x86_64-linux-gnu.so\r\n",
      "ZMQbg/1     6  21 jovyan  mem       REG                8,1   355122           530869 /opt/conda/lib/python3.6/lib-dynload/_sha3.cpython-36m-x86_64-linux-gnu.so\r\n",
      "ZMQbg/1     6  21 jovyan  mem       REG                8,1   329909           530838 /opt/conda/lib/python3.6/lib-dynload/_blake2.cpython-36m-x86_64-linux-gnu.so\r\n",
      "ZMQbg/1     6  21 jovyan  mem       REG                8,1  2692340           529490 /opt/conda/lib/libcrypto.so.1.0.0\r\n",
      "ZMQbg/1     6  21 jovyan  mem       REG                8,1   549929           529572 /opt/conda/lib/libssl.so.1.0.0\r\n",
      "ZMQbg/1     6  21 jovyan  mem       REG                8,1    92355           530855 /opt/conda/lib/python3.6/lib-dynload/_hashlib.cpython-36m-x86_64-linux-gnu.so\r\n",
      "ZMQbg/1     6  21 jovyan  mem       REG                8,1    33663           530837 /opt/conda/lib/python3.6/lib-dynload/_bisect.cpython-36m-x86_64-linux-gnu.so\r\n",
      "ZMQbg/1     6  21 jovyan  mem       REG                8,1    78638           530882 /opt/conda/lib/python3.6/lib-dynload/binascii.cpython-36m-x86_64-linux-gnu.so\r\n",
      "ZMQbg/1     6  21 jovyan  mem       REG                8,1   159628           530874 /opt/conda/lib/python3.6/lib-dynload/_struct.cpython-36m-x86_64-linux-gnu.so\r\n",
      "ZMQbg/1     6  21 jovyan  mem       REG                8,1    35500           530885 /opt/conda/lib/python3.6/lib-dynload/grp.cpython-36m-x86_64-linux-gnu.so\r\n",
      "ZMQbg/1     6  21 jovyan  mem       REG                8,1   803563           529528 /opt/conda/lib/liblzma.so.5.2.3\r\n",
      "ZMQbg/1     6  21 jovyan  mem       REG                8,1   117498           530859 /opt/conda/lib/python3.6/lib-dynload/_lzma.cpython-36m-x86_64-linux-gnu.so\r\n",
      "ZMQbg/1     6  21 jovyan  mem       REG                8,1   269237           530839 /opt/conda/lib/python3.6/lib-dynload/_bz2.cpython-36m-x86_64-linux-gnu.so\r\n",
      "ZMQbg/1     6  21 jovyan  mem       REG                8,1   127973           529602 /opt/conda/lib/libz.so.1.2.11\r\n",
      "ZMQbg/1     6  21 jovyan  mem       REG                8,1   116664           530900 /opt/conda/lib/python3.6/lib-dynload/zlib.cpython-36m-x86_64-linux-gnu.so\r\n",
      "ZMQbg/1     6  21 jovyan  mem       REG                8,1    47058           530856 /opt/conda/lib/python3.6/lib-dynload/_heapq.cpython-36m-x86_64-linux-gnu.so\r\n",
      "ZMQbg/1     6  21 jovyan  mem       REG                8,1  1868984           394365 /lib/x86_64-linux-gnu/libc-2.23.so\r\n",
      "ZMQbg/1     6  21 jovyan  mem       REG                8,1  1088952           394397 /lib/x86_64-linux-gnu/libm-2.23.so\r\n",
      "ZMQbg/1     6  21 jovyan  mem       REG                8,1    31712           394440 /lib/x86_64-linux-gnu/librt-2.23.so\r\n",
      "ZMQbg/1     6  21 jovyan  mem       REG                8,1    10656           394460 /lib/x86_64-linux-gnu/libutil-2.23.so\r\n",
      "ZMQbg/1     6  21 jovyan  mem       REG                8,1    14608           394378 /lib/x86_64-linux-gnu/libdl-2.23.so\r\n",
      "ZMQbg/1     6  21 jovyan  mem       REG                8,1   138696           394433 /lib/x86_64-linux-gnu/libpthread-2.23.so\r\n",
      "ZMQbg/1     6  21 jovyan  mem       REG                8,1 12444567           529556 /opt/conda/lib/libpython3.6m.so.1.0\r\n",
      "ZMQbg/1     6  21 jovyan  mem       REG                8,1   162632           394345 /lib/x86_64-linux-gnu/ld-2.23.so\r\n",
      "ZMQbg/1     6  21 jovyan  mem       REG                8,1    26258           395222 /usr/lib/x86_64-linux-gnu/gconv/gconv-modules.cache\r\n",
      "ZMQbg/1     6  21 jovyan  mem       REG                8,1  1668976           656066 /usr/lib/locale/locale-archive\r\n",
      "ZMQbg/1     6  21 jovyan    0r     FIFO               0,10      0t0           177821 pipe\r\n",
      "ZMQbg/1     6  21 jovyan    1w     FIFO               0,10      0t0           177822 pipe\r\n",
      "ZMQbg/1     6  21 jovyan    2w     FIFO               0,10      0t0           177823 pipe\r\n",
      "ZMQbg/1     6  21 jovyan    3r      CHR                1,9      0t0           177867 /dev/urandom\r\n",
      "ZMQbg/1     6  21 jovyan    4r      CHR                1,9      0t0           177867 /dev/urandom\r\n",
      "ZMQbg/1     6  21 jovyan    5w      CHR                1,3      0t0           177862 /dev/null\r\n",
      "ZMQbg/1     6  21 jovyan    6u     IPv4             184213      0t0              TCP *:8888 (LISTEN)\r\n",
      "ZMQbg/1     6  21 jovyan    7u     IPv6             184214      0t0              TCP *:8888 (LISTEN)\r\n",
      "ZMQbg/1     6  21 jovyan    8u  a_inode               0,11        0            11923 [eventpoll]\r\n",
      "ZMQbg/1     6  21 jovyan    9u     unix 0x0000000000000000      0t0           184215 type=STREAM\r\n",
      "ZMQbg/1     6  21 jovyan   10u     unix 0x0000000000000000      0t0           184216 type=STREAM\r\n",
      "ZMQbg/1     6  21 jovyan   12u     IPv4             183213      0t0              TCP 1a17b746bd59:8888->172.17.0.1:53982 (ESTABLISHED)\r\n",
      "ZMQbg/1     6  21 jovyan   17u      REG                8,1    16384           262654 /home/jovyan/.local/share/jupyter/nbsignatures.db\r\n",
      "ZMQbg/1     6  21 jovyan   18u  a_inode               0,11        0            11923 [eventfd]\r\n",
      "ZMQbg/1     6  21 jovyan   19r      CHR                1,9      0t0           177867 /dev/urandom\r\n",
      "ZMQbg/1     6  21 jovyan   20u  a_inode               0,11        0            11923 [eventfd]\r\n",
      "ZMQbg/1     6  21 jovyan   21u  a_inode               0,11        0            11923 [eventpoll]\r\n",
      "ZMQbg/1     6  21 jovyan   22u  a_inode               0,11        0            11923 [eventfd]\r\n",
      "ZMQbg/1     6  21 jovyan   23u  a_inode               0,11        0            11923 [eventpoll]\r\n",
      "ZMQbg/1     6  21 jovyan   24u  a_inode               0,11        0            11923 [eventfd]\r\n",
      "ZMQbg/1     6  21 jovyan   25u  a_inode               0,11        0            11923 [eventfd]\r\n",
      "ZMQbg/1     6  21 jovyan   26u     IPv4             184694      0t0              TCP localhost:50562->localhost:39407 (ESTABLISHED)\r\n",
      "ZMQbg/1     6  21 jovyan   27u     IPv4             184695      0t0              TCP localhost:40336->localhost:33055 (ESTABLISHED)\r\n",
      "ZMQbg/1     6  21 jovyan   28u     IPv4             184743      0t0              TCP 1a17b746bd59:8888->172.17.0.1:53936 (ESTABLISHED)\r\n",
      "ZMQbg/1     6  21 jovyan   29u     IPv4             183149      0t0              TCP localhost:35854->localhost:54603 (ESTABLISHED)\r\n",
      "ZMQbg/1     6  21 jovyan   30u  a_inode               0,11        0            11923 [eventfd]\r\n",
      "ZMQbg/1     6  21 jovyan   31u  a_inode               0,11        0            11923 [eventfd]\r\n",
      "ZMQbg/1     6  21 jovyan   32u     IPv4             183151      0t0              TCP localhost:50580->localhost:39407 (ESTABLISHED)\r\n",
      "ZMQbg/1     6  21 jovyan   33u  a_inode               0,11        0            11923 [eventfd]\r\n",
      "ZMQbg/1     6  21 jovyan   34u     IPv4             183153      0t0              TCP localhost:36396->localhost:37155 (ESTABLISHED)\r\n",
      "ZMQbg/1     6  21 jovyan   35u  a_inode               0,11        0            11923 [eventfd]\r\n",
      "ZMQbg/1     6  21 jovyan   36u  a_inode               0,11        0            11923 [eventfd]\r\n",
      "ZMQbg/1     6  21 jovyan   37u     IPv4             184821      0t0              TCP localhost:49172->localhost:50275 (ESTABLISHED)\r\n",
      "ZMQbg/1     6  21 jovyan   38u     IPv4             184822      0t0              TCP localhost:57652->localhost:43441 (ESTABLISHED)\r\n",
      "ZMQbg/1     6  21 jovyan   40u  a_inode               0,11        0            11923 [eventfd]\r\n",
      "ZMQbg/1     6  21 jovyan   41u     IPv4             183204      0t0              TCP localhost:55780->localhost:56409 (ESTABLISHED)\r\n",
      "ZMQbg/1     6  21 jovyan   42u  a_inode               0,11        0            11923 [eventfd]\r\n",
      "ZMQbg/1     6  21 jovyan   43u     IPv4             183206      0t0              TCP localhost:49190->localhost:50275 (ESTABLISHED)\r\n",
      "ZMQbg/1     6  21 jovyan   44u  a_inode               0,11        0            11923 [eventfd]\r\n",
      "ZMQbg/1     6  21 jovyan   45u     IPv4             183208      0t0              TCP localhost:49246->localhost:37411 (ESTABLISHED)\r\n",
      "python     19     jovyan  cwd       DIR               0,61     4096 9570149208167180 /home/jovyan/openforum2018\r\n",
      "python     19     jovyan  rtd       DIR               0,59     4096           181289 /\r\n",
      "python     19     jovyan  txt       REG                8,1    14857           529056 /opt/conda/bin/python3.6\r\n",
      "python     19     jovyan  mem       REG                8,1    47600           394414 /lib/x86_64-linux-gnu/libnss_files-2.23.so\r\n",
      "python     19     jovyan  mem       REG                8,1    47648           394418 /lib/x86_64-linux-gnu/libnss_nis-2.23.so\r\n",
      "python     19     jovyan  mem       REG                8,1    93128           394408 /lib/x86_64-linux-gnu/libnsl-2.23.so\r\n",
      "python     19     jovyan  mem       REG                8,1    35688           394410 /lib/x86_64-linux-gnu/libnss_compat-2.23.so\r\n",
      "python     19     jovyan  mem       REG                8,1  1686154           530853 /opt/conda/lib/python3.6/lib-dynload/_decimal.cpython-36m-x86_64-linux-gnu.so\r\n",
      "python     19     jovyan  mem       REG                8,1   375919           530873 /opt/conda/lib/python3.6/lib-dynload/_ssl.cpython-36m-x86_64-linux-gnu.so\r\n",
      "python     19     jovyan  mem       REG                8,1   194106           530836 /opt/conda/lib/python3.6/lib-dynload/_asyncio.cpython-36m-x86_64-linux-gnu.so\r\n",
      "python     19     jovyan  mem       REG                8,1    48787           530862 /opt/conda/lib/python3.6/lib-dynload/_multiprocessing.cpython-36m-x86_64-linux-gnu.so\r\n",
      "python     19     jovyan  mem       REG                8,1   316595           530850 /opt/conda/lib/python3.6/lib-dynload/_curses.cpython-36m-x86_64-linux-gnu.so\r\n",
      "python     19     jovyan  mem       REG                8,1    17873          1708597 /opt/conda/lib/python3.6/site-packages/tornado/speedups.cpython-36m-x86_64-linux-gnu.so\r\n",
      "python     19     jovyan  mem       REG                8,1    18976           394463 /lib/x86_64-linux-gnu/libuuid.so.1.3.0\r\n",
      "python     19     jovyan  mem       REG                8,1   228724          2230844 /opt/conda/lib/python3.6/site-packages/zmq/backend/cython/_device.cpython-36m-x86_64-linux-gnu.so\r\n",
      "python     19     jovyan  mem       REG                8,1    98032          2230846 /opt/conda/lib/python3.6/site-packages/zmq/backend/cython/_version.cpython-36m-x86_64-linux-gnu.so\r\n",
      "python     19     jovyan  mem       REG                8,1   327947          2230845 /opt/conda/lib/python3.6/site-packages/zmq/backend/cython/_poll.cpython-36m-x86_64-linux-gnu.so\r\n",
      "python     19     jovyan  mem       REG                8,1   149930          2230859 /opt/conda/lib/python3.6/site-packages/zmq/backend/cython/utils.cpython-36m-x86_64-linux-gnu.so\r\n",
      "python     19     jovyan  mem       REG                8,1   730559          2230857 /opt/conda/lib/python3.6/site-packages/zmq/backend/cython/socket.cpython-36m-x86_64-linux-gnu.so\r\n",
      "python     19     jovyan  mem       REG                8,1   311141          2230851 /opt/conda/lib/python3.6/site-packages/zmq/backend/cython/context.cpython-36m-x86_64-linux-gnu.so\r\n",
      "python     19     jovyan  mem       REG                8,1   452817          2230855 /opt/conda/lib/python3.6/site-packages/zmq/backend/cython/message.cpython-36m-x86_64-linux-gnu.so\r\n",
      "python     19     jovyan  mem       REG                8,1   115893          2230853 /opt/conda/lib/python3.6/site-packages/zmq/backend/cython/error.cpython-36m-x86_64-linux-gnu.so\r\n",
      "python     19     jovyan  mem       REG                8,1   706232           529510 /opt/conda/lib/libgcc_s.so.1\r\n",
      "python     19     jovyan  mem       REG                8,1  8167184           529575 /opt/conda/lib/libstdc++.so.6.0.24\r\n",
      "python     19     jovyan  mem       REG                8,1  1289027           661987 /opt/conda/lib/libzmq.so.5.1.5\r\n",
      "python     19     jovyan  mem       REG                8,1   228614          2230849 /opt/conda/lib/python3.6/site-packages/zmq/backend/cython/constants.cpython-36m-x86_64-linux-gnu.so\r\n",
      "python     19     jovyan  mem       REG                8,1   617309           530848 /opt/conda/lib/python3.6/lib-dynload/_ctypes.cpython-36m-x86_64-linux-gnu.so\r\n",
      "python     19     jovyan  mem       REG                8,1    64549           530858 /opt/conda/lib/python3.6/lib-dynload/_lsprof.cpython-36m-x86_64-linux-gnu.so\r\n",
      "python     19     jovyan  mem       REG                8,1   339757           530871 /opt/conda/lib/python3.6/lib-dynload/_socket.cpython-36m-x86_64-linux-gnu.so\r\n",
      "python     19     jovyan  mem       REG                8,1   963624           530898 /opt/conda/lib/python3.6/lib-dynload/unicodedata.cpython-36m-x86_64-linux-gnu.so\r\n",
      "python     19     jovyan  mem       REG                8,1   187746           530880 /opt/conda/lib/python3.6/lib-dynload/array.cpython-36m-x86_64-linux-gnu.so\r\n",
      "python     19     jovyan  mem       REG                8,1   249585           529581 /opt/conda/lib/libtinfo.so.5.9\r\n",
      "python     19     jovyan  mem       REG                8,1   176142           529542 /opt/conda/lib/libncurses.so.5.9\r\n",
      "python     19     jovyan  mem       REG                8,1  1165114           529569 /opt/conda/lib/libsqlite3.so.0.8.6\r\n",
      "python     19     jovyan  mem       REG                8,1   295030           530872 /opt/conda/lib/python3.6/lib-dynload/_sqlite3.cpython-36m-x86_64-linux-gnu.so\r\n",
      "python     19     jovyan  mem       REG                8,1   433613           530864 /opt/conda/lib/python3.6/lib-dynload/_pickle.cpython-36m-x86_64-linux-gnu.so\r\n",
      "python     19     jovyan  mem       REG                8,1   470165           530852 /opt/conda/lib/python3.6/lib-dynload/_datetime.cpython-36m-x86_64-linux-gnu.so\r\n",
      "python     19     jovyan  mem       REG                8,1    78638           530882 /opt/conda/lib/python3.6/lib-dynload/binascii.cpython-36m-x86_64-linux-gnu.so\r\n",
      "python     19     jovyan  mem       REG                8,1    32268           530893 /opt/conda/lib/python3.6/lib-dynload/resource.cpython-36m-x86_64-linux-gnu.so\r\n",
      "python     19     jovyan  mem       REG                8,1    41463           530884 /opt/conda/lib/python3.6/lib-dynload/fcntl.cpython-36m-x86_64-linux-gnu.so\r\n",
      "python     19     jovyan  mem       REG                8,1    46964           530897 /opt/conda/lib/python3.6/lib-dynload/termios.cpython-36m-x86_64-linux-gnu.so\r\n",
      "python     19     jovyan  mem       REG                8,1    37999           530866 /opt/conda/lib/python3.6/lib-dynload/_random.cpython-36m-x86_64-linux-gnu.so\r\n",
      "python     19     jovyan  mem       REG                8,1    33663           530837 /opt/conda/lib/python3.6/lib-dynload/_bisect.cpython-36m-x86_64-linux-gnu.so\r\n",
      "python     19     jovyan  mem       REG                8,1   355122           530869 /opt/conda/lib/python3.6/lib-dynload/_sha3.cpython-36m-x86_64-linux-gnu.so\r\n",
      "python     19     jovyan  mem       REG                8,1   329909           530838 /opt/conda/lib/python3.6/lib-dynload/_blake2.cpython-36m-x86_64-linux-gnu.so\r\n",
      "python     19     jovyan  mem       REG                8,1  2692340           529490 /opt/conda/lib/libcrypto.so.1.0.0\r\n",
      "python     19     jovyan  mem       REG                8,1   549929           529572 /opt/conda/lib/libssl.so.1.0.0\r\n",
      "python     19     jovyan  mem       REG                8,1    92355           530855 /opt/conda/lib/python3.6/lib-dynload/_hashlib.cpython-36m-x86_64-linux-gnu.so\r\n",
      "python     19     jovyan  mem       REG                8,1   159628           530874 /opt/conda/lib/python3.6/lib-dynload/_struct.cpython-36m-x86_64-linux-gnu.so\r\n",
      "python     19     jovyan  mem       REG                8,1    20447           530863 /opt/conda/lib/python3.6/lib-dynload/_opcode.cpython-36m-x86_64-linux-gnu.so\r\n",
      "python     19     jovyan  mem       REG                8,1    35500           530885 /opt/conda/lib/python3.6/lib-dynload/grp.cpython-36m-x86_64-linux-gnu.so\r\n",
      "python     19     jovyan  mem       REG                8,1   803563           529528 /opt/conda/lib/liblzma.so.5.2.3\r\n",
      "python     19     jovyan  mem       REG                8,1   117498           530859 /opt/conda/lib/python3.6/lib-dynload/_lzma.cpython-36m-x86_64-linux-gnu.so\r\n",
      "python     19     jovyan  mem       REG                8,1   269237           530839 /opt/conda/lib/python3.6/lib-dynload/_bz2.cpython-36m-x86_64-linux-gnu.so\r\n",
      "python     19     jovyan  mem       REG                8,1   127973           529602 /opt/conda/lib/libz.so.1.2.11\r\n",
      "python     19     jovyan  mem       REG                8,1   116664           530900 /opt/conda/lib/python3.6/lib-dynload/zlib.cpython-36m-x86_64-linux-gnu.so\r\n",
      "python     19     jovyan  mem       REG                8,1   210293           530886 /opt/conda/lib/python3.6/lib-dynload/math.cpython-36m-x86_64-linux-gnu.so\r\n",
      "python     19     jovyan  mem       REG                8,1    79124           530894 /opt/conda/lib/python3.6/lib-dynload/select.cpython-36m-x86_64-linux-gnu.so\r\n",
      "python     19     jovyan  mem       REG                8,1    85443           530865 /opt/conda/lib/python3.6/lib-dynload/_posixsubprocess.cpython-36m-x86_64-linux-gnu.so\r\n",
      "python     19     jovyan  mem       REG                8,1   164929           530857 /opt/conda/lib/python3.6/lib-dynload/_json.cpython-36m-x86_64-linux-gnu.so\r\n",
      "python     19     jovyan  mem       REG                8,1    47058           530856 /opt/conda/lib/python3.6/lib-dynload/_heapq.cpython-36m-x86_64-linux-gnu.so\r\n",
      "python     19     jovyan  mem       REG                8,1  1868984           394365 /lib/x86_64-linux-gnu/libc-2.23.so\r\n",
      "python     19     jovyan  mem       REG                8,1  1088952           394397 /lib/x86_64-linux-gnu/libm-2.23.so\r\n",
      "python     19     jovyan  mem       REG                8,1    31712           394440 /lib/x86_64-linux-gnu/librt-2.23.so\r\n",
      "python     19     jovyan  mem       REG                8,1    10656           394460 /lib/x86_64-linux-gnu/libutil-2.23.so\r\n",
      "python     19     jovyan  mem       REG                8,1    14608           394378 /lib/x86_64-linux-gnu/libdl-2.23.so\r\n",
      "python     19     jovyan  mem       REG                8,1   138696           394433 /lib/x86_64-linux-gnu/libpthread-2.23.so\r\n",
      "python     19     jovyan  mem       REG                8,1 12444567           529556 /opt/conda/lib/libpython3.6m.so.1.0\r\n",
      "python     19     jovyan  mem       REG                8,1   162632           394345 /lib/x86_64-linux-gnu/ld-2.23.so\r\n",
      "python     19     jovyan  mem       REG                8,1    26258           395222 /usr/lib/x86_64-linux-gnu/gconv/gconv-modules.cache\r\n",
      "python     19     jovyan  mem       REG                8,1  1668976           656066 /usr/lib/locale/locale-archive\r\n",
      "python     19     jovyan    0r     FIFO               0,10      0t0           183037 pipe\r\n",
      "python     19     jovyan    1w     FIFO               0,10      0t0           177822 pipe\r\n",
      "python     19     jovyan    2w     FIFO               0,10      0t0           177823 pipe\r\n",
      "python     19     jovyan    3r      CHR                1,9      0t0           177867 /dev/urandom\r\n",
      "python     19     jovyan    4w      CHR                1,3      0t0           177862 /dev/null\r\n",
      "python     19     jovyan    5u  a_inode               0,11        0            11923 [eventfd]\r\n",
      "python     19     jovyan    6r      CHR                1,9      0t0           177867 /dev/urandom\r\n",
      "python     19     jovyan    7u  a_inode               0,11        0            11923 [eventfd]\r\n",
      "python     19     jovyan    8u  a_inode               0,11        0            11923 [eventpoll]\r\n",
      "python     19     jovyan    9u  a_inode               0,11        0            11923 [eventfd]\r\n",
      "python     19     jovyan   10u  a_inode               0,11        0            11923 [eventpoll]\r\n",
      "python     19     jovyan   11u  a_inode               0,11        0            11923 [eventfd]\r\n",
      "python     19     jovyan   12u     IPv4             183100      0t0              TCP localhost:54603 (LISTEN)\r\n",
      "python     19     jovyan   13u  a_inode               0,11        0            11923 [eventfd]\r\n",
      "python     19     jovyan   14u     IPv4             183102      0t0              TCP localhost:37155 (LISTEN)\r\n",
      "python     19     jovyan   15u  a_inode               0,11        0            11923 [eventfd]\r\n",
      "python     19     jovyan   16u     IPv4             183104      0t0              TCP localhost:33055 (LISTEN)\r\n",
      "python     19     jovyan   17u  a_inode               0,11        0            11923 [eventfd]\r\n",
      "python     19     jovyan   18u     IPv4             183106      0t0              TCP localhost:39407 (LISTEN)\r\n",
      "python     19     jovyan   19u  a_inode               0,11        0            11923 [eventpoll]\r\n",
      "python     19     jovyan   20u     unix 0x0000000000000000      0t0           183107 type=STREAM\r\n",
      "python     19     jovyan   21u     unix 0x0000000000000000      0t0           183108 type=STREAM\r\n",
      "python     19     jovyan   22u  a_inode               0,11        0            11923 [eventfd]\r\n",
      "python     19     jovyan   23u     IPv4             183110      0t0              TCP localhost:43393 (LISTEN)\r\n",
      "python     19     jovyan   24u  a_inode               0,11        0            11923 [eventfd]\r\n",
      "python     19     jovyan   25u  a_inode               0,11        0            11923 [eventfd]\r\n",
      "python     19     jovyan   26u  a_inode               0,11        0            11923 [eventfd]\r\n",
      "python     19     jovyan   27u  a_inode               0,11        0            11923 [eventpoll]\r\n",
      "python     19     jovyan   28u  a_inode               0,11        0            11923 [eventfd]\r\n",
      "python     19     jovyan   29u  a_inode               0,11        0            11923 [eventpoll]\r\n",
      "python     19     jovyan   30u  a_inode               0,11        0            11923 [eventfd]\r\n",
      "python     19     jovyan   31u     IPv4             184683      0t0              TCP localhost:51695 (LISTEN)\r\n",
      "python     19     jovyan   32u  a_inode               0,11        0            11923 [eventpoll]\r\n",
      "python     19     jovyan   33u     unix 0x0000000000000000      0t0           184684 type=STREAM\r\n",
      "python     19     jovyan   34u     unix 0x0000000000000000      0t0           184685 type=STREAM\r\n",
      "python     19     jovyan   35u      REG                8,1    28672           262667 /home/jovyan/.ipython/profile_default/history.sqlite\r\n",
      "python     19     jovyan   36u      REG                8,1    28672           262667 /home/jovyan/.ipython/profile_default/history.sqlite\r\n",
      "python     19     jovyan   37u     IPv4             183114      0t0              TCP localhost:39407->localhost:50562 (ESTABLISHED)\r\n",
      "python     19     jovyan   38u     IPv4             183115      0t0              TCP localhost:33055->localhost:40336 (ESTABLISHED)\r\n",
      "python     19     jovyan   39u  a_inode               0,11        0            11923 [eventfd]\r\n",
      "python     19     jovyan   40u     IPv4             183150      0t0              TCP localhost:54603->localhost:35854 (ESTABLISHED)\r\n",
      "python     19     jovyan   41u     IPv4             183152      0t0              TCP localhost:39407->localhost:50580 (ESTABLISHED)\r\n",
      "python     19     jovyan   42u     IPv4             183154      0t0              TCP localhost:37155->localhost:36396 (ESTABLISHED)\r\n",
      "python     19     jovyan   43u  a_inode               0,11        0            11923 [eventfd]\r\n",
      "python     19     jovyan   47u      CHR                5,2      0t0                2 /dev/pts/ptmx\r\n",
      "ZMQbg/0    19  26 jovyan  cwd       DIR               0,61     4096 9570149208167180 /home/jovyan/openforum2018\r\n",
      "ZMQbg/0    19  26 jovyan  rtd       DIR               0,59     4096           181289 /\r\n",
      "ZMQbg/0    19  26 jovyan  txt       REG                8,1    14857           529056 /opt/conda/bin/python3.6\r\n",
      "ZMQbg/0    19  26 jovyan  mem       REG                8,1    47600           394414 /lib/x86_64-linux-gnu/libnss_files-2.23.so\r\n",
      "ZMQbg/0    19  26 jovyan  mem       REG                8,1    47648           394418 /lib/x86_64-linux-gnu/libnss_nis-2.23.so\r\n",
      "ZMQbg/0    19  26 jovyan  mem       REG                8,1    93128           394408 /lib/x86_64-linux-gnu/libnsl-2.23.so\r\n",
      "ZMQbg/0    19  26 jovyan  mem       REG                8,1    35688           394410 /lib/x86_64-linux-gnu/libnss_compat-2.23.so\r\n",
      "ZMQbg/0    19  26 jovyan  mem       REG                8,1  1686154           530853 /opt/conda/lib/python3.6/lib-dynload/_decimal.cpython-36m-x86_64-linux-gnu.so\r\n",
      "ZMQbg/0    19  26 jovyan  mem       REG                8,1   375919           530873 /opt/conda/lib/python3.6/lib-dynload/_ssl.cpython-36m-x86_64-linux-gnu.so\r\n",
      "ZMQbg/0    19  26 jovyan  mem       REG                8,1   194106           530836 /opt/conda/lib/python3.6/lib-dynload/_asyncio.cpython-36m-x86_64-linux-gnu.so\r\n",
      "ZMQbg/0    19  26 jovyan  mem       REG                8,1    48787           530862 /opt/conda/lib/python3.6/lib-dynload/_multiprocessing.cpython-36m-x86_64-linux-gnu.so\r\n",
      "ZMQbg/0    19  26 jovyan  mem       REG                8,1   316595           530850 /opt/conda/lib/python3.6/lib-dynload/_curses.cpython-36m-x86_64-linux-gnu.so\r\n",
      "ZMQbg/0    19  26 jovyan  mem       REG                8,1    17873          1708597 /opt/conda/lib/python3.6/site-packages/tornado/speedups.cpython-36m-x86_64-linux-gnu.so\r\n",
      "ZMQbg/0    19  26 jovyan  mem       REG                8,1    18976           394463 /lib/x86_64-linux-gnu/libuuid.so.1.3.0\r\n",
      "ZMQbg/0    19  26 jovyan  mem       REG                8,1   228724          2230844 /opt/conda/lib/python3.6/site-packages/zmq/backend/cython/_device.cpython-36m-x86_64-linux-gnu.so\r\n",
      "ZMQbg/0    19  26 jovyan  mem       REG                8,1    98032          2230846 /opt/conda/lib/python3.6/site-packages/zmq/backend/cython/_version.cpython-36m-x86_64-linux-gnu.so\r\n",
      "ZMQbg/0    19  26 jovyan  mem       REG                8,1   327947          2230845 /opt/conda/lib/python3.6/site-packages/zmq/backend/cython/_poll.cpython-36m-x86_64-linux-gnu.so\r\n",
      "ZMQbg/0    19  26 jovyan  mem       REG                8,1   149930          2230859 /opt/conda/lib/python3.6/site-packages/zmq/backend/cython/utils.cpython-36m-x86_64-linux-gnu.so\r\n",
      "ZMQbg/0    19  26 jovyan  mem       REG                8,1   730559          2230857 /opt/conda/lib/python3.6/site-packages/zmq/backend/cython/socket.cpython-36m-x86_64-linux-gnu.so\r\n",
      "ZMQbg/0    19  26 jovyan  mem       REG                8,1   311141          2230851 /opt/conda/lib/python3.6/site-packages/zmq/backend/cython/context.cpython-36m-x86_64-linux-gnu.so\r\n",
      "ZMQbg/0    19  26 jovyan  mem       REG                8,1   452817          2230855 /opt/conda/lib/python3.6/site-packages/zmq/backend/cython/message.cpython-36m-x86_64-linux-gnu.so\r\n",
      "ZMQbg/0    19  26 jovyan  mem       REG                8,1   115893          2230853 /opt/conda/lib/python3.6/site-packages/zmq/backend/cython/error.cpython-36m-x86_64-linux-gnu.so\r\n",
      "ZMQbg/0    19  26 jovyan  mem       REG                8,1   706232           529510 /opt/conda/lib/libgcc_s.so.1\r\n",
      "ZMQbg/0    19  26 jovyan  mem       REG                8,1  8167184           529575 /opt/conda/lib/libstdc++.so.6.0.24\r\n",
      "ZMQbg/0    19  26 jovyan  mem       REG                8,1  1289027           661987 /opt/conda/lib/libzmq.so.5.1.5\r\n",
      "ZMQbg/0    19  26 jovyan  mem       REG                8,1   228614          2230849 /opt/conda/lib/python3.6/site-packages/zmq/backend/cython/constants.cpython-36m-x86_64-linux-gnu.so\r\n",
      "ZMQbg/0    19  26 jovyan  mem       REG                8,1   617309           530848 /opt/conda/lib/python3.6/lib-dynload/_ctypes.cpython-36m-x86_64-linux-gnu.so\r\n",
      "ZMQbg/0    19  26 jovyan  mem       REG                8,1    64549           530858 /opt/conda/lib/python3.6/lib-dynload/_lsprof.cpython-36m-x86_64-linux-gnu.so\r\n",
      "ZMQbg/0    19  26 jovyan  mem       REG                8,1   339757           530871 /opt/conda/lib/python3.6/lib-dynload/_socket.cpython-36m-x86_64-linux-gnu.so\r\n",
      "ZMQbg/0    19  26 jovyan  mem       REG                8,1   963624           530898 /opt/conda/lib/python3.6/lib-dynload/unicodedata.cpython-36m-x86_64-linux-gnu.so\r\n",
      "ZMQbg/0    19  26 jovyan  mem       REG                8,1   187746           530880 /opt/conda/lib/python3.6/lib-dynload/array.cpython-36m-x86_64-linux-gnu.so\r\n",
      "ZMQbg/0    19  26 jovyan  mem       REG                8,1   249585           529581 /opt/conda/lib/libtinfo.so.5.9\r\n",
      "ZMQbg/0    19  26 jovyan  mem       REG                8,1   176142           529542 /opt/conda/lib/libncurses.so.5.9\r\n",
      "ZMQbg/0    19  26 jovyan  mem       REG                8,1  1165114           529569 /opt/conda/lib/libsqlite3.so.0.8.6\r\n",
      "ZMQbg/0    19  26 jovyan  mem       REG                8,1   295030           530872 /opt/conda/lib/python3.6/lib-dynload/_sqlite3.cpython-36m-x86_64-linux-gnu.so\r\n",
      "ZMQbg/0    19  26 jovyan  mem       REG                8,1   433613           530864 /opt/conda/lib/python3.6/lib-dynload/_pickle.cpython-36m-x86_64-linux-gnu.so\r\n",
      "ZMQbg/0    19  26 jovyan  mem       REG                8,1   470165           530852 /opt/conda/lib/python3.6/lib-dynload/_datetime.cpython-36m-x86_64-linux-gnu.so\r\n",
      "ZMQbg/0    19  26 jovyan  mem       REG                8,1    78638           530882 /opt/conda/lib/python3.6/lib-dynload/binascii.cpython-36m-x86_64-linux-gnu.so\r\n",
      "ZMQbg/0    19  26 jovyan  mem       REG                8,1    32268           530893 /opt/conda/lib/python3.6/lib-dynload/resource.cpython-36m-x86_64-linux-gnu.so\r\n",
      "ZMQbg/0    19  26 jovyan  mem       REG                8,1    41463           530884 /opt/conda/lib/python3.6/lib-dynload/fcntl.cpython-36m-x86_64-linux-gnu.so\r\n",
      "ZMQbg/0    19  26 jovyan  mem       REG                8,1    46964           530897 /opt/conda/lib/python3.6/lib-dynload/termios.cpython-36m-x86_64-linux-gnu.so\r\n",
      "ZMQbg/0    19  26 jovyan  mem       REG                8,1    37999           530866 /opt/conda/lib/python3.6/lib-dynload/_random.cpython-36m-x86_64-linux-gnu.so\r\n",
      "ZMQbg/0    19  26 jovyan  mem       REG                8,1    33663           530837 /opt/conda/lib/python3.6/lib-dynload/_bisect.cpython-36m-x86_64-linux-gnu.so\r\n",
      "ZMQbg/0    19  26 jovyan  mem       REG                8,1   355122           530869 /opt/conda/lib/python3.6/lib-dynload/_sha3.cpython-36m-x86_64-linux-gnu.so\r\n",
      "ZMQbg/0    19  26 jovyan  mem       REG                8,1   329909           530838 /opt/conda/lib/python3.6/lib-dynload/_blake2.cpython-36m-x86_64-linux-gnu.so\r\n",
      "ZMQbg/0    19  26 jovyan  mem       REG                8,1  2692340           529490 /opt/conda/lib/libcrypto.so.1.0.0\r\n",
      "ZMQbg/0    19  26 jovyan  mem       REG                8,1   549929           529572 /opt/conda/lib/libssl.so.1.0.0\r\n",
      "ZMQbg/0    19  26 jovyan  mem       REG                8,1    92355           530855 /opt/conda/lib/python3.6/lib-dynload/_hashlib.cpython-36m-x86_64-linux-gnu.so\r\n",
      "ZMQbg/0    19  26 jovyan  mem       REG                8,1   159628           530874 /opt/conda/lib/python3.6/lib-dynload/_struct.cpython-36m-x86_64-linux-gnu.so\r\n",
      "ZMQbg/0    19  26 jovyan  mem       REG                8,1    20447           530863 /opt/conda/lib/python3.6/lib-dynload/_opcode.cpython-36m-x86_64-linux-gnu.so\r\n",
      "ZMQbg/0    19  26 jovyan  mem       REG                8,1    35500           530885 /opt/conda/lib/python3.6/lib-dynload/grp.cpython-36m-x86_64-linux-gnu.so\r\n",
      "ZMQbg/0    19  26 jovyan  mem       REG                8,1   803563           529528 /opt/conda/lib/liblzma.so.5.2.3\r\n",
      "ZMQbg/0    19  26 jovyan  mem       REG                8,1   117498           530859 /opt/conda/lib/python3.6/lib-dynload/_lzma.cpython-36m-x86_64-linux-gnu.so\r\n",
      "ZMQbg/0    19  26 jovyan  mem       REG                8,1   269237           530839 /opt/conda/lib/python3.6/lib-dynload/_bz2.cpython-36m-x86_64-linux-gnu.so\r\n",
      "ZMQbg/0    19  26 jovyan  mem       REG                8,1   127973           529602 /opt/conda/lib/libz.so.1.2.11\r\n",
      "ZMQbg/0    19  26 jovyan  mem       REG                8,1   116664           530900 /opt/conda/lib/python3.6/lib-dynload/zlib.cpython-36m-x86_64-linux-gnu.so\r\n",
      "ZMQbg/0    19  26 jovyan  mem       REG                8,1   210293           530886 /opt/conda/lib/python3.6/lib-dynload/math.cpython-36m-x86_64-linux-gnu.so\r\n",
      "ZMQbg/0    19  26 jovyan  mem       REG                8,1    79124           530894 /opt/conda/lib/python3.6/lib-dynload/select.cpython-36m-x86_64-linux-gnu.so\r\n",
      "ZMQbg/0    19  26 jovyan  mem       REG                8,1    85443           530865 /opt/conda/lib/python3.6/lib-dynload/_posixsubprocess.cpython-36m-x86_64-linux-gnu.so\r\n",
      "ZMQbg/0    19  26 jovyan  mem       REG                8,1   164929           530857 /opt/conda/lib/python3.6/lib-dynload/_json.cpython-36m-x86_64-linux-gnu.so\r\n",
      "ZMQbg/0    19  26 jovyan  mem       REG                8,1    47058           530856 /opt/conda/lib/python3.6/lib-dynload/_heapq.cpython-36m-x86_64-linux-gnu.so\r\n",
      "ZMQbg/0    19  26 jovyan  mem       REG                8,1  1868984           394365 /lib/x86_64-linux-gnu/libc-2.23.so\r\n",
      "ZMQbg/0    19  26 jovyan  mem       REG                8,1  1088952           394397 /lib/x86_64-linux-gnu/libm-2.23.so\r\n",
      "ZMQbg/0    19  26 jovyan  mem       REG                8,1    31712           394440 /lib/x86_64-linux-gnu/librt-2.23.so\r\n",
      "ZMQbg/0    19  26 jovyan  mem       REG                8,1    10656           394460 /lib/x86_64-linux-gnu/libutil-2.23.so\r\n",
      "ZMQbg/0    19  26 jovyan  mem       REG                8,1    14608           394378 /lib/x86_64-linux-gnu/libdl-2.23.so\r\n",
      "ZMQbg/0    19  26 jovyan  mem       REG                8,1   138696           394433 /lib/x86_64-linux-gnu/libpthread-2.23.so\r\n",
      "ZMQbg/0    19  26 jovyan  mem       REG                8,1 12444567           529556 /opt/conda/lib/libpython3.6m.so.1.0\r\n",
      "ZMQbg/0    19  26 jovyan  mem       REG                8,1   162632           394345 /lib/x86_64-linux-gnu/ld-2.23.so\r\n",
      "ZMQbg/0    19  26 jovyan  mem       REG                8,1    26258           395222 /usr/lib/x86_64-linux-gnu/gconv/gconv-modules.cache\r\n",
      "ZMQbg/0    19  26 jovyan  mem       REG                8,1  1668976           656066 /usr/lib/locale/locale-archive\r\n",
      "ZMQbg/0    19  26 jovyan    0r     FIFO               0,10      0t0           183037 pipe\r\n",
      "ZMQbg/0    19  26 jovyan    1w     FIFO               0,10      0t0           177822 pipe\r\n",
      "ZMQbg/0    19  26 jovyan    2w     FIFO               0,10      0t0           177823 pipe\r\n",
      "ZMQbg/0    19  26 jovyan    3r      CHR                1,9      0t0           177867 /dev/urandom\r\n",
      "ZMQbg/0    19  26 jovyan    4w      CHR                1,3      0t0           177862 /dev/null\r\n",
      "ZMQbg/0    19  26 jovyan    5u  a_inode               0,11        0            11923 [eventfd]\r\n",
      "ZMQbg/0    19  26 jovyan    6r      CHR                1,9      0t0           177867 /dev/urandom\r\n",
      "ZMQbg/0    19  26 jovyan    7u  a_inode               0,11        0            11923 [eventfd]\r\n",
      "ZMQbg/0    19  26 jovyan    8u  a_inode               0,11        0            11923 [eventpoll]\r\n",
      "ZMQbg/0    19  26 jovyan    9u  a_inode               0,11        0            11923 [eventfd]\r\n",
      "ZMQbg/0    19  26 jovyan   10u  a_inode               0,11        0            11923 [eventpoll]\r\n",
      "ZMQbg/0    19  26 jovyan   11u  a_inode               0,11        0            11923 [eventfd]\r\n",
      "ZMQbg/0    19  26 jovyan   12u     IPv4             183100      0t0              TCP localhost:54603 (LISTEN)\r\n",
      "ZMQbg/0    19  26 jovyan   13u  a_inode               0,11        0            11923 [eventfd]\r\n",
      "ZMQbg/0    19  26 jovyan   14u     IPv4             183102      0t0              TCP localhost:37155 (LISTEN)\r\n",
      "ZMQbg/0    19  26 jovyan   15u  a_inode               0,11        0            11923 [eventfd]\r\n",
      "ZMQbg/0    19  26 jovyan   16u     IPv4             183104      0t0              TCP localhost:33055 (LISTEN)\r\n",
      "ZMQbg/0    19  26 jovyan   17u  a_inode               0,11        0            11923 [eventfd]\r\n",
      "ZMQbg/0    19  26 jovyan   18u     IPv4             183106      0t0              TCP localhost:39407 (LISTEN)\r\n",
      "ZMQbg/0    19  26 jovyan   19u  a_inode               0,11        0            11923 [eventpoll]\r\n",
      "ZMQbg/0    19  26 jovyan   20u     unix 0x0000000000000000      0t0           183107 type=STREAM\r\n",
      "ZMQbg/0    19  26 jovyan   21u     unix 0x0000000000000000      0t0           183108 type=STREAM\r\n",
      "ZMQbg/0    19  26 jovyan   22u  a_inode               0,11        0            11923 [eventfd]\r\n",
      "ZMQbg/0    19  26 jovyan   23u     IPv4             183110      0t0              TCP localhost:43393 (LISTEN)\r\n",
      "ZMQbg/0    19  26 jovyan   24u  a_inode               0,11        0            11923 [eventfd]\r\n",
      "ZMQbg/0    19  26 jovyan   25u  a_inode               0,11        0            11923 [eventfd]\r\n",
      "ZMQbg/0    19  26 jovyan   26u  a_inode               0,11        0            11923 [eventfd]\r\n",
      "ZMQbg/0    19  26 jovyan   27u  a_inode               0,11        0            11923 [eventpoll]\r\n",
      "ZMQbg/0    19  26 jovyan   28u  a_inode               0,11        0            11923 [eventfd]\r\n",
      "ZMQbg/0    19  26 jovyan   29u  a_inode               0,11        0            11923 [eventpoll]\r\n",
      "ZMQbg/0    19  26 jovyan   30u  a_inode               0,11        0            11923 [eventfd]\r\n",
      "ZMQbg/0    19  26 jovyan   31u     IPv4             184683      0t0              TCP localhost:51695 (LISTEN)\r\n",
      "ZMQbg/0    19  26 jovyan   32u  a_inode               0,11        0            11923 [eventpoll]\r\n",
      "ZMQbg/0    19  26 jovyan   33u     unix 0x0000000000000000      0t0           184684 type=STREAM\r\n",
      "ZMQbg/0    19  26 jovyan   34u     unix 0x0000000000000000      0t0           184685 type=STREAM\r\n",
      "ZMQbg/0    19  26 jovyan   35u      REG                8,1    28672           262667 /home/jovyan/.ipython/profile_default/history.sqlite\r\n",
      "ZMQbg/0    19  26 jovyan   36u      REG                8,1    28672           262667 /home/jovyan/.ipython/profile_default/history.sqlite\r\n",
      "ZMQbg/0    19  26 jovyan   37u     IPv4             183114      0t0              TCP localhost:39407->localhost:50562 (ESTABLISHED)\r\n",
      "ZMQbg/0    19  26 jovyan   38u     IPv4             183115      0t0              TCP localhost:33055->localhost:40336 (ESTABLISHED)\r\n",
      "ZMQbg/0    19  26 jovyan   39u  a_inode               0,11        0            11923 [eventfd]\r\n",
      "ZMQbg/0    19  26 jovyan   40u     IPv4             183150      0t0              TCP localhost:54603->localhost:35854 (ESTABLISHED)\r\n",
      "ZMQbg/0    19  26 jovyan   41u     IPv4             183152      0t0              TCP localhost:39407->localhost:50580 (ESTABLISHED)\r\n",
      "ZMQbg/0    19  26 jovyan   42u     IPv4             183154      0t0              TCP localhost:37155->localhost:36396 (ESTABLISHED)\r\n",
      "ZMQbg/0    19  26 jovyan   43u  a_inode               0,11        0            11923 [eventfd]\r\n",
      "ZMQbg/0    19  26 jovyan   47u      CHR                5,2      0t0                2 /dev/pts/ptmx\r\n",
      "ZMQbg/1    19  27 jovyan  cwd       DIR               0,61     4096 9570149208167180 /home/jovyan/openforum2018\r\n",
      "ZMQbg/1    19  27 jovyan  rtd       DIR               0,59     4096           181289 /\r\n",
      "ZMQbg/1    19  27 jovyan  txt       REG                8,1    14857           529056 /opt/conda/bin/python3.6\r\n",
      "ZMQbg/1    19  27 jovyan  mem       REG                8,1    47600           394414 /lib/x86_64-linux-gnu/libnss_files-2.23.so\r\n",
      "ZMQbg/1    19  27 jovyan  mem       REG                8,1    47648           394418 /lib/x86_64-linux-gnu/libnss_nis-2.23.so\r\n",
      "ZMQbg/1    19  27 jovyan  mem       REG                8,1    93128           394408 /lib/x86_64-linux-gnu/libnsl-2.23.so\r\n",
      "ZMQbg/1    19  27 jovyan  mem       REG                8,1    35688           394410 /lib/x86_64-linux-gnu/libnss_compat-2.23.so\r\n",
      "ZMQbg/1    19  27 jovyan  mem       REG                8,1  1686154           530853 /opt/conda/lib/python3.6/lib-dynload/_decimal.cpython-36m-x86_64-linux-gnu.so\r\n",
      "ZMQbg/1    19  27 jovyan  mem       REG                8,1   375919           530873 /opt/conda/lib/python3.6/lib-dynload/_ssl.cpython-36m-x86_64-linux-gnu.so\r\n",
      "ZMQbg/1    19  27 jovyan  mem       REG                8,1   194106           530836 /opt/conda/lib/python3.6/lib-dynload/_asyncio.cpython-36m-x86_64-linux-gnu.so\r\n",
      "ZMQbg/1    19  27 jovyan  mem       REG                8,1    48787           530862 /opt/conda/lib/python3.6/lib-dynload/_multiprocessing.cpython-36m-x86_64-linux-gnu.so\r\n",
      "ZMQbg/1    19  27 jovyan  mem       REG                8,1   316595           530850 /opt/conda/lib/python3.6/lib-dynload/_curses.cpython-36m-x86_64-linux-gnu.so\r\n",
      "ZMQbg/1    19  27 jovyan  mem       REG                8,1    17873          1708597 /opt/conda/lib/python3.6/site-packages/tornado/speedups.cpython-36m-x86_64-linux-gnu.so\r\n",
      "ZMQbg/1    19  27 jovyan  mem       REG                8,1    18976           394463 /lib/x86_64-linux-gnu/libuuid.so.1.3.0\r\n",
      "ZMQbg/1    19  27 jovyan  mem       REG                8,1   228724          2230844 /opt/conda/lib/python3.6/site-packages/zmq/backend/cython/_device.cpython-36m-x86_64-linux-gnu.so\r\n",
      "ZMQbg/1    19  27 jovyan  mem       REG                8,1    98032          2230846 /opt/conda/lib/python3.6/site-packages/zmq/backend/cython/_version.cpython-36m-x86_64-linux-gnu.so\r\n",
      "ZMQbg/1    19  27 jovyan  mem       REG                8,1   327947          2230845 /opt/conda/lib/python3.6/site-packages/zmq/backend/cython/_poll.cpython-36m-x86_64-linux-gnu.so\r\n",
      "ZMQbg/1    19  27 jovyan  mem       REG                8,1   149930          2230859 /opt/conda/lib/python3.6/site-packages/zmq/backend/cython/utils.cpython-36m-x86_64-linux-gnu.so\r\n",
      "ZMQbg/1    19  27 jovyan  mem       REG                8,1   730559          2230857 /opt/conda/lib/python3.6/site-packages/zmq/backend/cython/socket.cpython-36m-x86_64-linux-gnu.so\r\n",
      "ZMQbg/1    19  27 jovyan  mem       REG                8,1   311141          2230851 /opt/conda/lib/python3.6/site-packages/zmq/backend/cython/context.cpython-36m-x86_64-linux-gnu.so\r\n",
      "ZMQbg/1    19  27 jovyan  mem       REG                8,1   452817          2230855 /opt/conda/lib/python3.6/site-packages/zmq/backend/cython/message.cpython-36m-x86_64-linux-gnu.so\r\n",
      "ZMQbg/1    19  27 jovyan  mem       REG                8,1   115893          2230853 /opt/conda/lib/python3.6/site-packages/zmq/backend/cython/error.cpython-36m-x86_64-linux-gnu.so\r\n",
      "ZMQbg/1    19  27 jovyan  mem       REG                8,1   706232           529510 /opt/conda/lib/libgcc_s.so.1\r\n",
      "ZMQbg/1    19  27 jovyan  mem       REG                8,1  8167184           529575 /opt/conda/lib/libstdc++.so.6.0.24\r\n",
      "ZMQbg/1    19  27 jovyan  mem       REG                8,1  1289027           661987 /opt/conda/lib/libzmq.so.5.1.5\r\n",
      "ZMQbg/1    19  27 jovyan  mem       REG                8,1   228614          2230849 /opt/conda/lib/python3.6/site-packages/zmq/backend/cython/constants.cpython-36m-x86_64-linux-gnu.so\r\n",
      "ZMQbg/1    19  27 jovyan  mem       REG                8,1   617309           530848 /opt/conda/lib/python3.6/lib-dynload/_ctypes.cpython-36m-x86_64-linux-gnu.so\r\n",
      "ZMQbg/1    19  27 jovyan  mem       REG                8,1    64549           530858 /opt/conda/lib/python3.6/lib-dynload/_lsprof.cpython-36m-x86_64-linux-gnu.so\r\n",
      "ZMQbg/1    19  27 jovyan  mem       REG                8,1   339757           530871 /opt/conda/lib/python3.6/lib-dynload/_socket.cpython-36m-x86_64-linux-gnu.so\r\n",
      "ZMQbg/1    19  27 jovyan  mem       REG                8,1   963624           530898 /opt/conda/lib/python3.6/lib-dynload/unicodedata.cpython-36m-x86_64-linux-gnu.so\r\n",
      "ZMQbg/1    19  27 jovyan  mem       REG                8,1   187746           530880 /opt/conda/lib/python3.6/lib-dynload/array.cpython-36m-x86_64-linux-gnu.so\r\n",
      "ZMQbg/1    19  27 jovyan  mem       REG                8,1   249585           529581 /opt/conda/lib/libtinfo.so.5.9\r\n",
      "ZMQbg/1    19  27 jovyan  mem       REG                8,1   176142           529542 /opt/conda/lib/libncurses.so.5.9\r\n",
      "ZMQbg/1    19  27 jovyan  mem       REG                8,1  1165114           529569 /opt/conda/lib/libsqlite3.so.0.8.6\r\n",
      "ZMQbg/1    19  27 jovyan  mem       REG                8,1   295030           530872 /opt/conda/lib/python3.6/lib-dynload/_sqlite3.cpython-36m-x86_64-linux-gnu.so\r\n",
      "ZMQbg/1    19  27 jovyan  mem       REG                8,1   433613           530864 /opt/conda/lib/python3.6/lib-dynload/_pickle.cpython-36m-x86_64-linux-gnu.so\r\n",
      "ZMQbg/1    19  27 jovyan  mem       REG                8,1   470165           530852 /opt/conda/lib/python3.6/lib-dynload/_datetime.cpython-36m-x86_64-linux-gnu.so\r\n",
      "ZMQbg/1    19  27 jovyan  mem       REG                8,1    78638           530882 /opt/conda/lib/python3.6/lib-dynload/binascii.cpython-36m-x86_64-linux-gnu.so\r\n",
      "ZMQbg/1    19  27 jovyan  mem       REG                8,1    32268           530893 /opt/conda/lib/python3.6/lib-dynload/resource.cpython-36m-x86_64-linux-gnu.so\r\n",
      "ZMQbg/1    19  27 jovyan  mem       REG                8,1    41463           530884 /opt/conda/lib/python3.6/lib-dynload/fcntl.cpython-36m-x86_64-linux-gnu.so\r\n",
      "ZMQbg/1    19  27 jovyan  mem       REG                8,1    46964           530897 /opt/conda/lib/python3.6/lib-dynload/termios.cpython-36m-x86_64-linux-gnu.so\r\n",
      "ZMQbg/1    19  27 jovyan  mem       REG                8,1    37999           530866 /opt/conda/lib/python3.6/lib-dynload/_random.cpython-36m-x86_64-linux-gnu.so\r\n",
      "ZMQbg/1    19  27 jovyan  mem       REG                8,1    33663           530837 /opt/conda/lib/python3.6/lib-dynload/_bisect.cpython-36m-x86_64-linux-gnu.so\r\n",
      "ZMQbg/1    19  27 jovyan  mem       REG                8,1   355122           530869 /opt/conda/lib/python3.6/lib-dynload/_sha3.cpython-36m-x86_64-linux-gnu.so\r\n",
      "ZMQbg/1    19  27 jovyan  mem       REG                8,1   329909           530838 /opt/conda/lib/python3.6/lib-dynload/_blake2.cpython-36m-x86_64-linux-gnu.so\r\n",
      "ZMQbg/1    19  27 jovyan  mem       REG                8,1  2692340           529490 /opt/conda/lib/libcrypto.so.1.0.0\r\n",
      "ZMQbg/1    19  27 jovyan  mem       REG                8,1   549929           529572 /opt/conda/lib/libssl.so.1.0.0\r\n",
      "ZMQbg/1    19  27 jovyan  mem       REG                8,1    92355           530855 /opt/conda/lib/python3.6/lib-dynload/_hashlib.cpython-36m-x86_64-linux-gnu.so\r\n",
      "ZMQbg/1    19  27 jovyan  mem       REG                8,1   159628           530874 /opt/conda/lib/python3.6/lib-dynload/_struct.cpython-36m-x86_64-linux-gnu.so\r\n",
      "ZMQbg/1    19  27 jovyan  mem       REG                8,1    20447           530863 /opt/conda/lib/python3.6/lib-dynload/_opcode.cpython-36m-x86_64-linux-gnu.so\r\n",
      "ZMQbg/1    19  27 jovyan  mem       REG                8,1    35500           530885 /opt/conda/lib/python3.6/lib-dynload/grp.cpython-36m-x86_64-linux-gnu.so\r\n",
      "ZMQbg/1    19  27 jovyan  mem       REG                8,1   803563           529528 /opt/conda/lib/liblzma.so.5.2.3\r\n",
      "ZMQbg/1    19  27 jovyan  mem       REG                8,1   117498           530859 /opt/conda/lib/python3.6/lib-dynload/_lzma.cpython-36m-x86_64-linux-gnu.so\r\n",
      "ZMQbg/1    19  27 jovyan  mem       REG                8,1   269237           530839 /opt/conda/lib/python3.6/lib-dynload/_bz2.cpython-36m-x86_64-linux-gnu.so\r\n",
      "ZMQbg/1    19  27 jovyan  mem       REG                8,1   127973           529602 /opt/conda/lib/libz.so.1.2.11\r\n",
      "ZMQbg/1    19  27 jovyan  mem       REG                8,1   116664           530900 /opt/conda/lib/python3.6/lib-dynload/zlib.cpython-36m-x86_64-linux-gnu.so\r\n",
      "ZMQbg/1    19  27 jovyan  mem       REG                8,1   210293           530886 /opt/conda/lib/python3.6/lib-dynload/math.cpython-36m-x86_64-linux-gnu.so\r\n",
      "ZMQbg/1    19  27 jovyan  mem       REG                8,1    79124           530894 /opt/conda/lib/python3.6/lib-dynload/select.cpython-36m-x86_64-linux-gnu.so\r\n",
      "ZMQbg/1    19  27 jovyan  mem       REG                8,1    85443           530865 /opt/conda/lib/python3.6/lib-dynload/_posixsubprocess.cpython-36m-x86_64-linux-gnu.so\r\n",
      "ZMQbg/1    19  27 jovyan  mem       REG                8,1   164929           530857 /opt/conda/lib/python3.6/lib-dynload/_json.cpython-36m-x86_64-linux-gnu.so\r\n",
      "ZMQbg/1    19  27 jovyan  mem       REG                8,1    47058           530856 /opt/conda/lib/python3.6/lib-dynload/_heapq.cpython-36m-x86_64-linux-gnu.so\r\n",
      "ZMQbg/1    19  27 jovyan  mem       REG                8,1  1868984           394365 /lib/x86_64-linux-gnu/libc-2.23.so\r\n",
      "ZMQbg/1    19  27 jovyan  mem       REG                8,1  1088952           394397 /lib/x86_64-linux-gnu/libm-2.23.so\r\n",
      "ZMQbg/1    19  27 jovyan  mem       REG                8,1    31712           394440 /lib/x86_64-linux-gnu/librt-2.23.so\r\n",
      "ZMQbg/1    19  27 jovyan  mem       REG                8,1    10656           394460 /lib/x86_64-linux-gnu/libutil-2.23.so\r\n",
      "ZMQbg/1    19  27 jovyan  mem       REG                8,1    14608           394378 /lib/x86_64-linux-gnu/libdl-2.23.so\r\n",
      "ZMQbg/1    19  27 jovyan  mem       REG                8,1   138696           394433 /lib/x86_64-linux-gnu/libpthread-2.23.so\r\n",
      "ZMQbg/1    19  27 jovyan  mem       REG                8,1 12444567           529556 /opt/conda/lib/libpython3.6m.so.1.0\r\n",
      "ZMQbg/1    19  27 jovyan  mem       REG                8,1   162632           394345 /lib/x86_64-linux-gnu/ld-2.23.so\r\n",
      "ZMQbg/1    19  27 jovyan  mem       REG                8,1    26258           395222 /usr/lib/x86_64-linux-gnu/gconv/gconv-modules.cache\r\n",
      "ZMQbg/1    19  27 jovyan  mem       REG                8,1  1668976           656066 /usr/lib/locale/locale-archive\r\n",
      "ZMQbg/1    19  27 jovyan    0r     FIFO               0,10      0t0           183037 pipe\r\n",
      "ZMQbg/1    19  27 jovyan    1w     FIFO               0,10      0t0           177822 pipe\r\n",
      "ZMQbg/1    19  27 jovyan    2w     FIFO               0,10      0t0           177823 pipe\r\n",
      "ZMQbg/1    19  27 jovyan    3r      CHR                1,9      0t0           177867 /dev/urandom\r\n",
      "ZMQbg/1    19  27 jovyan    4w      CHR                1,3      0t0           177862 /dev/null\r\n",
      "ZMQbg/1    19  27 jovyan    5u  a_inode               0,11        0            11923 [eventfd]\r\n",
      "ZMQbg/1    19  27 jovyan    6r      CHR                1,9      0t0           177867 /dev/urandom\r\n",
      "ZMQbg/1    19  27 jovyan    7u  a_inode               0,11        0            11923 [eventfd]\r\n",
      "ZMQbg/1    19  27 jovyan    8u  a_inode               0,11        0            11923 [eventpoll]\r\n",
      "ZMQbg/1    19  27 jovyan    9u  a_inode               0,11        0            11923 [eventfd]\r\n",
      "ZMQbg/1    19  27 jovyan   10u  a_inode               0,11        0            11923 [eventpoll]\r\n",
      "ZMQbg/1    19  27 jovyan   11u  a_inode               0,11        0            11923 [eventfd]\r\n",
      "ZMQbg/1    19  27 jovyan   12u     IPv4             183100      0t0              TCP localhost:54603 (LISTEN)\r\n",
      "ZMQbg/1    19  27 jovyan   13u  a_inode               0,11        0            11923 [eventfd]\r\n",
      "ZMQbg/1    19  27 jovyan   14u     IPv4             183102      0t0              TCP localhost:37155 (LISTEN)\r\n",
      "ZMQbg/1    19  27 jovyan   15u  a_inode               0,11        0            11923 [eventfd]\r\n",
      "ZMQbg/1    19  27 jovyan   16u     IPv4             183104      0t0              TCP localhost:33055 (LISTEN)\r\n",
      "ZMQbg/1    19  27 jovyan   17u  a_inode               0,11        0            11923 [eventfd]\r\n",
      "ZMQbg/1    19  27 jovyan   18u     IPv4             183106      0t0              TCP localhost:39407 (LISTEN)\r\n",
      "ZMQbg/1    19  27 jovyan   19u  a_inode               0,11        0            11923 [eventpoll]\r\n",
      "ZMQbg/1    19  27 jovyan   20u     unix 0x0000000000000000      0t0           183107 type=STREAM\r\n",
      "ZMQbg/1    19  27 jovyan   21u     unix 0x0000000000000000      0t0           183108 type=STREAM\r\n",
      "ZMQbg/1    19  27 jovyan   22u  a_inode               0,11        0            11923 [eventfd]\r\n",
      "ZMQbg/1    19  27 jovyan   23u     IPv4             183110      0t0              TCP localhost:43393 (LISTEN)\r\n",
      "ZMQbg/1    19  27 jovyan   24u  a_inode               0,11        0            11923 [eventfd]\r\n",
      "ZMQbg/1    19  27 jovyan   25u  a_inode               0,11        0            11923 [eventfd]\r\n",
      "ZMQbg/1    19  27 jovyan   26u  a_inode               0,11        0            11923 [eventfd]\r\n",
      "ZMQbg/1    19  27 jovyan   27u  a_inode               0,11        0            11923 [eventpoll]\r\n",
      "ZMQbg/1    19  27 jovyan   28u  a_inode               0,11        0            11923 [eventfd]\r\n",
      "ZMQbg/1    19  27 jovyan   29u  a_inode               0,11        0            11923 [eventpoll]\r\n",
      "ZMQbg/1    19  27 jovyan   30u  a_inode               0,11        0            11923 [eventfd]\r\n",
      "ZMQbg/1    19  27 jovyan   31u     IPv4             184683      0t0              TCP localhost:51695 (LISTEN)\r\n",
      "ZMQbg/1    19  27 jovyan   32u  a_inode               0,11        0            11923 [eventpoll]\r\n",
      "ZMQbg/1    19  27 jovyan   33u     unix 0x0000000000000000      0t0           184684 type=STREAM\r\n",
      "ZMQbg/1    19  27 jovyan   34u     unix 0x0000000000000000      0t0           184685 type=STREAM\r\n",
      "ZMQbg/1    19  27 jovyan   35u      REG                8,1    28672           262667 /home/jovyan/.ipython/profile_default/history.sqlite\r\n",
      "ZMQbg/1    19  27 jovyan   36u      REG                8,1    28672           262667 /home/jovyan/.ipython/profile_default/history.sqlite\r\n",
      "ZMQbg/1    19  27 jovyan   37u     IPv4             183114      0t0              TCP localhost:39407->localhost:50562 (ESTABLISHED)\r\n",
      "ZMQbg/1    19  27 jovyan   38u     IPv4             183115      0t0              TCP localhost:33055->localhost:40336 (ESTABLISHED)\r\n",
      "ZMQbg/1    19  27 jovyan   39u  a_inode               0,11        0            11923 [eventfd]\r\n",
      "ZMQbg/1    19  27 jovyan   40u     IPv4             183150      0t0              TCP localhost:54603->localhost:35854 (ESTABLISHED)\r\n",
      "ZMQbg/1    19  27 jovyan   41u     IPv4             183152      0t0              TCP localhost:39407->localhost:50580 (ESTABLISHED)\r\n",
      "ZMQbg/1    19  27 jovyan   42u     IPv4             183154      0t0              TCP localhost:37155->localhost:36396 (ESTABLISHED)\r\n",
      "ZMQbg/1    19  27 jovyan   43u  a_inode               0,11        0            11923 [eventfd]\r\n",
      "ZMQbg/1    19  27 jovyan   47u      CHR                5,2      0t0                2 /dev/pts/ptmx\r\n",
      "python     19  28 jovyan  cwd       DIR               0,61     4096 9570149208167180 /home/jovyan/openforum2018\r\n",
      "python     19  28 jovyan  rtd       DIR               0,59     4096           181289 /\r\n",
      "python     19  28 jovyan  txt       REG                8,1    14857           529056 /opt/conda/bin/python3.6\r\n",
      "python     19  28 jovyan  mem       REG                8,1    47600           394414 /lib/x86_64-linux-gnu/libnss_files-2.23.so\r\n",
      "python     19  28 jovyan  mem       REG                8,1    47648           394418 /lib/x86_64-linux-gnu/libnss_nis-2.23.so\r\n",
      "python     19  28 jovyan  mem       REG                8,1    93128           394408 /lib/x86_64-linux-gnu/libnsl-2.23.so\r\n",
      "python     19  28 jovyan  mem       REG                8,1    35688           394410 /lib/x86_64-linux-gnu/libnss_compat-2.23.so\r\n",
      "python     19  28 jovyan  mem       REG                8,1  1686154           530853 /opt/conda/lib/python3.6/lib-dynload/_decimal.cpython-36m-x86_64-linux-gnu.so\r\n",
      "python     19  28 jovyan  mem       REG                8,1   375919           530873 /opt/conda/lib/python3.6/lib-dynload/_ssl.cpython-36m-x86_64-linux-gnu.so\r\n",
      "python     19  28 jovyan  mem       REG                8,1   194106           530836 /opt/conda/lib/python3.6/lib-dynload/_asyncio.cpython-36m-x86_64-linux-gnu.so\r\n",
      "python     19  28 jovyan  mem       REG                8,1    48787           530862 /opt/conda/lib/python3.6/lib-dynload/_multiprocessing.cpython-36m-x86_64-linux-gnu.so\r\n",
      "python     19  28 jovyan  mem       REG                8,1   316595           530850 /opt/conda/lib/python3.6/lib-dynload/_curses.cpython-36m-x86_64-linux-gnu.so\r\n",
      "python     19  28 jovyan  mem       REG                8,1    17873          1708597 /opt/conda/lib/python3.6/site-packages/tornado/speedups.cpython-36m-x86_64-linux-gnu.so\r\n",
      "python     19  28 jovyan  mem       REG                8,1    18976           394463 /lib/x86_64-linux-gnu/libuuid.so.1.3.0\r\n",
      "python     19  28 jovyan  mem       REG                8,1   228724          2230844 /opt/conda/lib/python3.6/site-packages/zmq/backend/cython/_device.cpython-36m-x86_64-linux-gnu.so\r\n",
      "python     19  28 jovyan  mem       REG                8,1    98032          2230846 /opt/conda/lib/python3.6/site-packages/zmq/backend/cython/_version.cpython-36m-x86_64-linux-gnu.so\r\n",
      "python     19  28 jovyan  mem       REG                8,1   327947          2230845 /opt/conda/lib/python3.6/site-packages/zmq/backend/cython/_poll.cpython-36m-x86_64-linux-gnu.so\r\n",
      "python     19  28 jovyan  mem       REG                8,1   149930          2230859 /opt/conda/lib/python3.6/site-packages/zmq/backend/cython/utils.cpython-36m-x86_64-linux-gnu.so\r\n",
      "python     19  28 jovyan  mem       REG                8,1   730559          2230857 /opt/conda/lib/python3.6/site-packages/zmq/backend/cython/socket.cpython-36m-x86_64-linux-gnu.so\r\n",
      "python     19  28 jovyan  mem       REG                8,1   311141          2230851 /opt/conda/lib/python3.6/site-packages/zmq/backend/cython/context.cpython-36m-x86_64-linux-gnu.so\r\n",
      "python     19  28 jovyan  mem       REG                8,1   452817          2230855 /opt/conda/lib/python3.6/site-packages/zmq/backend/cython/message.cpython-36m-x86_64-linux-gnu.so\r\n",
      "python     19  28 jovyan  mem       REG                8,1   115893          2230853 /opt/conda/lib/python3.6/site-packages/zmq/backend/cython/error.cpython-36m-x86_64-linux-gnu.so\r\n",
      "python     19  28 jovyan  mem       REG                8,1   706232           529510 /opt/conda/lib/libgcc_s.so.1\r\n",
      "python     19  28 jovyan  mem       REG                8,1  8167184           529575 /opt/conda/lib/libstdc++.so.6.0.24\r\n",
      "python     19  28 jovyan  mem       REG                8,1  1289027           661987 /opt/conda/lib/libzmq.so.5.1.5\r\n",
      "python     19  28 jovyan  mem       REG                8,1   228614          2230849 /opt/conda/lib/python3.6/site-packages/zmq/backend/cython/constants.cpython-36m-x86_64-linux-gnu.so\r\n",
      "python     19  28 jovyan  mem       REG                8,1   617309           530848 /opt/conda/lib/python3.6/lib-dynload/_ctypes.cpython-36m-x86_64-linux-gnu.so\r\n",
      "python     19  28 jovyan  mem       REG                8,1    64549           530858 /opt/conda/lib/python3.6/lib-dynload/_lsprof.cpython-36m-x86_64-linux-gnu.so\r\n",
      "python     19  28 jovyan  mem       REG                8,1   339757           530871 /opt/conda/lib/python3.6/lib-dynload/_socket.cpython-36m-x86_64-linux-gnu.so\r\n",
      "python     19  28 jovyan  mem       REG                8,1   963624           530898 /opt/conda/lib/python3.6/lib-dynload/unicodedata.cpython-36m-x86_64-linux-gnu.so\r\n",
      "python     19  28 jovyan  mem       REG                8,1   187746           530880 /opt/conda/lib/python3.6/lib-dynload/array.cpython-36m-x86_64-linux-gnu.so\r\n",
      "python     19  28 jovyan  mem       REG                8,1   249585           529581 /opt/conda/lib/libtinfo.so.5.9\r\n",
      "python     19  28 jovyan  mem       REG                8,1   176142           529542 /opt/conda/lib/libncurses.so.5.9\r\n",
      "python     19  28 jovyan  mem       REG                8,1  1165114           529569 /opt/conda/lib/libsqlite3.so.0.8.6\r\n",
      "python     19  28 jovyan  mem       REG                8,1   295030           530872 /opt/conda/lib/python3.6/lib-dynload/_sqlite3.cpython-36m-x86_64-linux-gnu.so\r\n",
      "python     19  28 jovyan  mem       REG                8,1   433613           530864 /opt/conda/lib/python3.6/lib-dynload/_pickle.cpython-36m-x86_64-linux-gnu.so\r\n",
      "python     19  28 jovyan  mem       REG                8,1   470165           530852 /opt/conda/lib/python3.6/lib-dynload/_datetime.cpython-36m-x86_64-linux-gnu.so\r\n",
      "python     19  28 jovyan  mem       REG                8,1    78638           530882 /opt/conda/lib/python3.6/lib-dynload/binascii.cpython-36m-x86_64-linux-gnu.so\r\n",
      "python     19  28 jovyan  mem       REG                8,1    32268           530893 /opt/conda/lib/python3.6/lib-dynload/resource.cpython-36m-x86_64-linux-gnu.so\r\n",
      "python     19  28 jovyan  mem       REG                8,1    41463           530884 /opt/conda/lib/python3.6/lib-dynload/fcntl.cpython-36m-x86_64-linux-gnu.so\r\n",
      "python     19  28 jovyan  mem       REG                8,1    46964           530897 /opt/conda/lib/python3.6/lib-dynload/termios.cpython-36m-x86_64-linux-gnu.so\r\n",
      "python     19  28 jovyan  mem       REG                8,1    37999           530866 /opt/conda/lib/python3.6/lib-dynload/_random.cpython-36m-x86_64-linux-gnu.so\r\n",
      "python     19  28 jovyan  mem       REG                8,1    33663           530837 /opt/conda/lib/python3.6/lib-dynload/_bisect.cpython-36m-x86_64-linux-gnu.so\r\n",
      "python     19  28 jovyan  mem       REG                8,1   355122           530869 /opt/conda/lib/python3.6/lib-dynload/_sha3.cpython-36m-x86_64-linux-gnu.so\r\n",
      "python     19  28 jovyan  mem       REG                8,1   329909           530838 /opt/conda/lib/python3.6/lib-dynload/_blake2.cpython-36m-x86_64-linux-gnu.so\r\n",
      "python     19  28 jovyan  mem       REG                8,1  2692340           529490 /opt/conda/lib/libcrypto.so.1.0.0\r\n",
      "python     19  28 jovyan  mem       REG                8,1   549929           529572 /opt/conda/lib/libssl.so.1.0.0\r\n",
      "python     19  28 jovyan  mem       REG                8,1    92355           530855 /opt/conda/lib/python3.6/lib-dynload/_hashlib.cpython-36m-x86_64-linux-gnu.so\r\n",
      "python     19  28 jovyan  mem       REG                8,1   159628           530874 /opt/conda/lib/python3.6/lib-dynload/_struct.cpython-36m-x86_64-linux-gnu.so\r\n",
      "python     19  28 jovyan  mem       REG                8,1    20447           530863 /opt/conda/lib/python3.6/lib-dynload/_opcode.cpython-36m-x86_64-linux-gnu.so\r\n",
      "python     19  28 jovyan  mem       REG                8,1    35500           530885 /opt/conda/lib/python3.6/lib-dynload/grp.cpython-36m-x86_64-linux-gnu.so\r\n",
      "python     19  28 jovyan  mem       REG                8,1   803563           529528 /opt/conda/lib/liblzma.so.5.2.3\r\n",
      "python     19  28 jovyan  mem       REG                8,1   117498           530859 /opt/conda/lib/python3.6/lib-dynload/_lzma.cpython-36m-x86_64-linux-gnu.so\r\n",
      "python     19  28 jovyan  mem       REG                8,1   269237           530839 /opt/conda/lib/python3.6/lib-dynload/_bz2.cpython-36m-x86_64-linux-gnu.so\r\n",
      "python     19  28 jovyan  mem       REG                8,1   127973           529602 /opt/conda/lib/libz.so.1.2.11\r\n",
      "python     19  28 jovyan  mem       REG                8,1   116664           530900 /opt/conda/lib/python3.6/lib-dynload/zlib.cpython-36m-x86_64-linux-gnu.so\r\n",
      "python     19  28 jovyan  mem       REG                8,1   210293           530886 /opt/conda/lib/python3.6/lib-dynload/math.cpython-36m-x86_64-linux-gnu.so\r\n",
      "python     19  28 jovyan  mem       REG                8,1    79124           530894 /opt/conda/lib/python3.6/lib-dynload/select.cpython-36m-x86_64-linux-gnu.so\r\n",
      "python     19  28 jovyan  mem       REG                8,1    85443           530865 /opt/conda/lib/python3.6/lib-dynload/_posixsubprocess.cpython-36m-x86_64-linux-gnu.so\r\n",
      "python     19  28 jovyan  mem       REG                8,1   164929           530857 /opt/conda/lib/python3.6/lib-dynload/_json.cpython-36m-x86_64-linux-gnu.so\r\n",
      "python     19  28 jovyan  mem       REG                8,1    47058           530856 /opt/conda/lib/python3.6/lib-dynload/_heapq.cpython-36m-x86_64-linux-gnu.so\r\n",
      "python     19  28 jovyan  mem       REG                8,1  1868984           394365 /lib/x86_64-linux-gnu/libc-2.23.so\r\n",
      "python     19  28 jovyan  mem       REG                8,1  1088952           394397 /lib/x86_64-linux-gnu/libm-2.23.so\r\n",
      "python     19  28 jovyan  mem       REG                8,1    31712           394440 /lib/x86_64-linux-gnu/librt-2.23.so\r\n",
      "python     19  28 jovyan  mem       REG                8,1    10656           394460 /lib/x86_64-linux-gnu/libutil-2.23.so\r\n",
      "python     19  28 jovyan  mem       REG                8,1    14608           394378 /lib/x86_64-linux-gnu/libdl-2.23.so\r\n",
      "python     19  28 jovyan  mem       REG                8,1   138696           394433 /lib/x86_64-linux-gnu/libpthread-2.23.so\r\n",
      "python     19  28 jovyan  mem       REG                8,1 12444567           529556 /opt/conda/lib/libpython3.6m.so.1.0\r\n",
      "python     19  28 jovyan  mem       REG                8,1   162632           394345 /lib/x86_64-linux-gnu/ld-2.23.so\r\n",
      "python     19  28 jovyan  mem       REG                8,1    26258           395222 /usr/lib/x86_64-linux-gnu/gconv/gconv-modules.cache\r\n",
      "python     19  28 jovyan  mem       REG                8,1  1668976           656066 /usr/lib/locale/locale-archive\r\n",
      "python     19  28 jovyan    0r     FIFO               0,10      0t0           183037 pipe\r\n",
      "python     19  28 jovyan    1w     FIFO               0,10      0t0           177822 pipe\r\n",
      "python     19  28 jovyan    2w     FIFO               0,10      0t0           177823 pipe\r\n",
      "python     19  28 jovyan    3r      CHR                1,9      0t0           177867 /dev/urandom\r\n",
      "python     19  28 jovyan    4w      CHR                1,3      0t0           177862 /dev/null\r\n",
      "python     19  28 jovyan    5u  a_inode               0,11        0            11923 [eventfd]\r\n",
      "python     19  28 jovyan    6r      CHR                1,9      0t0           177867 /dev/urandom\r\n",
      "python     19  28 jovyan    7u  a_inode               0,11        0            11923 [eventfd]\r\n",
      "python     19  28 jovyan    8u  a_inode               0,11        0            11923 [eventpoll]\r\n",
      "python     19  28 jovyan    9u  a_inode               0,11        0            11923 [eventfd]\r\n",
      "python     19  28 jovyan   10u  a_inode               0,11        0            11923 [eventpoll]\r\n",
      "python     19  28 jovyan   11u  a_inode               0,11        0            11923 [eventfd]\r\n",
      "python     19  28 jovyan   12u     IPv4             183100      0t0              TCP localhost:54603 (LISTEN)\r\n",
      "python     19  28 jovyan   13u  a_inode               0,11        0            11923 [eventfd]\r\n",
      "python     19  28 jovyan   14u     IPv4             183102      0t0              TCP localhost:37155 (LISTEN)\r\n",
      "python     19  28 jovyan   15u  a_inode               0,11        0            11923 [eventfd]\r\n",
      "python     19  28 jovyan   16u     IPv4             183104      0t0              TCP localhost:33055 (LISTEN)\r\n",
      "python     19  28 jovyan   17u  a_inode               0,11        0            11923 [eventfd]\r\n",
      "python     19  28 jovyan   18u     IPv4             183106      0t0              TCP localhost:39407 (LISTEN)\r\n",
      "python     19  28 jovyan   19u  a_inode               0,11        0            11923 [eventpoll]\r\n",
      "python     19  28 jovyan   20u     unix 0x0000000000000000      0t0           183107 type=STREAM\r\n",
      "python     19  28 jovyan   21u     unix 0x0000000000000000      0t0           183108 type=STREAM\r\n",
      "python     19  28 jovyan   22u  a_inode               0,11        0            11923 [eventfd]\r\n",
      "python     19  28 jovyan   23u     IPv4             183110      0t0              TCP localhost:43393 (LISTEN)\r\n",
      "python     19  28 jovyan   24u  a_inode               0,11        0            11923 [eventfd]\r\n",
      "python     19  28 jovyan   25u  a_inode               0,11        0            11923 [eventfd]\r\n",
      "python     19  28 jovyan   26u  a_inode               0,11        0            11923 [eventfd]\r\n",
      "python     19  28 jovyan   27u  a_inode               0,11        0            11923 [eventpoll]\r\n",
      "python     19  28 jovyan   28u  a_inode               0,11        0            11923 [eventfd]\r\n",
      "python     19  28 jovyan   29u  a_inode               0,11        0            11923 [eventpoll]\r\n",
      "python     19  28 jovyan   30u  a_inode               0,11        0            11923 [eventfd]\r\n",
      "python     19  28 jovyan   31u     IPv4             184683      0t0              TCP localhost:51695 (LISTEN)\r\n",
      "python     19  28 jovyan   32u  a_inode               0,11        0            11923 [eventpoll]\r\n",
      "python     19  28 jovyan   33u     unix 0x0000000000000000      0t0           184684 type=STREAM\r\n",
      "python     19  28 jovyan   34u     unix 0x0000000000000000      0t0           184685 type=STREAM\r\n",
      "python     19  28 jovyan   35u      REG                8,1    28672           262667 /home/jovyan/.ipython/profile_default/history.sqlite\r\n",
      "python     19  28 jovyan   36u      REG                8,1    28672           262667 /home/jovyan/.ipython/profile_default/history.sqlite\r\n",
      "python     19  28 jovyan   37u     IPv4             183114      0t0              TCP localhost:39407->localhost:50562 (ESTABLISHED)\r\n",
      "python     19  28 jovyan   38u     IPv4             183115      0t0              TCP localhost:33055->localhost:40336 (ESTABLISHED)\r\n",
      "python     19  28 jovyan   39u  a_inode               0,11        0            11923 [eventfd]\r\n",
      "python     19  28 jovyan   40u     IPv4             183150      0t0              TCP localhost:54603->localhost:35854 (ESTABLISHED)\r\n",
      "python     19  28 jovyan   41u     IPv4             183152      0t0              TCP localhost:39407->localhost:50580 (ESTABLISHED)\r\n",
      "python     19  28 jovyan   42u     IPv4             183154      0t0              TCP localhost:37155->localhost:36396 (ESTABLISHED)\r\n",
      "python     19  28 jovyan   43u  a_inode               0,11        0            11923 [eventfd]\r\n",
      "python     19  28 jovyan   47u      CHR                5,2      0t0                2 /dev/pts/ptmx\r\n",
      "python     19  29 jovyan  cwd       DIR               0,61     4096 9570149208167180 /home/jovyan/openforum2018\r\n",
      "python     19  29 jovyan  rtd       DIR               0,59     4096           181289 /\r\n",
      "python     19  29 jovyan  txt       REG                8,1    14857           529056 /opt/conda/bin/python3.6\r\n",
      "python     19  29 jovyan  mem       REG                8,1    47600           394414 /lib/x86_64-linux-gnu/libnss_files-2.23.so\r\n",
      "python     19  29 jovyan  mem       REG                8,1    47648           394418 /lib/x86_64-linux-gnu/libnss_nis-2.23.so\r\n",
      "python     19  29 jovyan  mem       REG                8,1    93128           394408 /lib/x86_64-linux-gnu/libnsl-2.23.so\r\n",
      "python     19  29 jovyan  mem       REG                8,1    35688           394410 /lib/x86_64-linux-gnu/libnss_compat-2.23.so\r\n",
      "python     19  29 jovyan  mem       REG                8,1  1686154           530853 /opt/conda/lib/python3.6/lib-dynload/_decimal.cpython-36m-x86_64-linux-gnu.so\r\n",
      "python     19  29 jovyan  mem       REG                8,1   375919           530873 /opt/conda/lib/python3.6/lib-dynload/_ssl.cpython-36m-x86_64-linux-gnu.so\r\n",
      "python     19  29 jovyan  mem       REG                8,1   194106           530836 /opt/conda/lib/python3.6/lib-dynload/_asyncio.cpython-36m-x86_64-linux-gnu.so\r\n",
      "python     19  29 jovyan  mem       REG                8,1    48787           530862 /opt/conda/lib/python3.6/lib-dynload/_multiprocessing.cpython-36m-x86_64-linux-gnu.so\r\n",
      "python     19  29 jovyan  mem       REG                8,1   316595           530850 /opt/conda/lib/python3.6/lib-dynload/_curses.cpython-36m-x86_64-linux-gnu.so\r\n",
      "python     19  29 jovyan  mem       REG                8,1    17873          1708597 /opt/conda/lib/python3.6/site-packages/tornado/speedups.cpython-36m-x86_64-linux-gnu.so\r\n",
      "python     19  29 jovyan  mem       REG                8,1    18976           394463 /lib/x86_64-linux-gnu/libuuid.so.1.3.0\r\n",
      "python     19  29 jovyan  mem       REG                8,1   228724          2230844 /opt/conda/lib/python3.6/site-packages/zmq/backend/cython/_device.cpython-36m-x86_64-linux-gnu.so\r\n",
      "python     19  29 jovyan  mem       REG                8,1    98032          2230846 /opt/conda/lib/python3.6/site-packages/zmq/backend/cython/_version.cpython-36m-x86_64-linux-gnu.so\r\n",
      "python     19  29 jovyan  mem       REG                8,1   327947          2230845 /opt/conda/lib/python3.6/site-packages/zmq/backend/cython/_poll.cpython-36m-x86_64-linux-gnu.so\r\n",
      "python     19  29 jovyan  mem       REG                8,1   149930          2230859 /opt/conda/lib/python3.6/site-packages/zmq/backend/cython/utils.cpython-36m-x86_64-linux-gnu.so\r\n",
      "python     19  29 jovyan  mem       REG                8,1   730559          2230857 /opt/conda/lib/python3.6/site-packages/zmq/backend/cython/socket.cpython-36m-x86_64-linux-gnu.so\r\n",
      "python     19  29 jovyan  mem       REG                8,1   311141          2230851 /opt/conda/lib/python3.6/site-packages/zmq/backend/cython/context.cpython-36m-x86_64-linux-gnu.so\r\n",
      "python     19  29 jovyan  mem       REG                8,1   452817          2230855 /opt/conda/lib/python3.6/site-packages/zmq/backend/cython/message.cpython-36m-x86_64-linux-gnu.so\r\n",
      "python     19  29 jovyan  mem       REG                8,1   115893          2230853 /opt/conda/lib/python3.6/site-packages/zmq/backend/cython/error.cpython-36m-x86_64-linux-gnu.so\r\n",
      "python     19  29 jovyan  mem       REG                8,1   706232           529510 /opt/conda/lib/libgcc_s.so.1\r\n",
      "python     19  29 jovyan  mem       REG                8,1  8167184           529575 /opt/conda/lib/libstdc++.so.6.0.24\r\n",
      "python     19  29 jovyan  mem       REG                8,1  1289027           661987 /opt/conda/lib/libzmq.so.5.1.5\r\n",
      "python     19  29 jovyan  mem       REG                8,1   228614          2230849 /opt/conda/lib/python3.6/site-packages/zmq/backend/cython/constants.cpython-36m-x86_64-linux-gnu.so\r\n",
      "python     19  29 jovyan  mem       REG                8,1   617309           530848 /opt/conda/lib/python3.6/lib-dynload/_ctypes.cpython-36m-x86_64-linux-gnu.so\r\n",
      "python     19  29 jovyan  mem       REG                8,1    64549           530858 /opt/conda/lib/python3.6/lib-dynload/_lsprof.cpython-36m-x86_64-linux-gnu.so\r\n",
      "python     19  29 jovyan  mem       REG                8,1   339757           530871 /opt/conda/lib/python3.6/lib-dynload/_socket.cpython-36m-x86_64-linux-gnu.so\r\n",
      "python     19  29 jovyan  mem       REG                8,1   963624           530898 /opt/conda/lib/python3.6/lib-dynload/unicodedata.cpython-36m-x86_64-linux-gnu.so\r\n",
      "python     19  29 jovyan  mem       REG                8,1   187746           530880 /opt/conda/lib/python3.6/lib-dynload/array.cpython-36m-x86_64-linux-gnu.so\r\n",
      "python     19  29 jovyan  mem       REG                8,1   249585           529581 /opt/conda/lib/libtinfo.so.5.9\r\n",
      "python     19  29 jovyan  mem       REG                8,1   176142           529542 /opt/conda/lib/libncurses.so.5.9\r\n",
      "python     19  29 jovyan  mem       REG                8,1  1165114           529569 /opt/conda/lib/libsqlite3.so.0.8.6\r\n",
      "python     19  29 jovyan  mem       REG                8,1   295030           530872 /opt/conda/lib/python3.6/lib-dynload/_sqlite3.cpython-36m-x86_64-linux-gnu.so\r\n",
      "python     19  29 jovyan  mem       REG                8,1   433613           530864 /opt/conda/lib/python3.6/lib-dynload/_pickle.cpython-36m-x86_64-linux-gnu.so\r\n",
      "python     19  29 jovyan  mem       REG                8,1   470165           530852 /opt/conda/lib/python3.6/lib-dynload/_datetime.cpython-36m-x86_64-linux-gnu.so\r\n",
      "python     19  29 jovyan  mem       REG                8,1    78638           530882 /opt/conda/lib/python3.6/lib-dynload/binascii.cpython-36m-x86_64-linux-gnu.so\r\n",
      "python     19  29 jovyan  mem       REG                8,1    32268           530893 /opt/conda/lib/python3.6/lib-dynload/resource.cpython-36m-x86_64-linux-gnu.so\r\n",
      "python     19  29 jovyan  mem       REG                8,1    41463           530884 /opt/conda/lib/python3.6/lib-dynload/fcntl.cpython-36m-x86_64-linux-gnu.so\r\n",
      "python     19  29 jovyan  mem       REG                8,1    46964           530897 /opt/conda/lib/python3.6/lib-dynload/termios.cpython-36m-x86_64-linux-gnu.so\r\n",
      "python     19  29 jovyan  mem       REG                8,1    37999           530866 /opt/conda/lib/python3.6/lib-dynload/_random.cpython-36m-x86_64-linux-gnu.so\r\n",
      "python     19  29 jovyan  mem       REG                8,1    33663           530837 /opt/conda/lib/python3.6/lib-dynload/_bisect.cpython-36m-x86_64-linux-gnu.so\r\n",
      "python     19  29 jovyan  mem       REG                8,1   355122           530869 /opt/conda/lib/python3.6/lib-dynload/_sha3.cpython-36m-x86_64-linux-gnu.so\r\n",
      "python     19  29 jovyan  mem       REG                8,1   329909           530838 /opt/conda/lib/python3.6/lib-dynload/_blake2.cpython-36m-x86_64-linux-gnu.so\r\n",
      "python     19  29 jovyan  mem       REG                8,1  2692340           529490 /opt/conda/lib/libcrypto.so.1.0.0\r\n",
      "python     19  29 jovyan  mem       REG                8,1   549929           529572 /opt/conda/lib/libssl.so.1.0.0\r\n",
      "python     19  29 jovyan  mem       REG                8,1    92355           530855 /opt/conda/lib/python3.6/lib-dynload/_hashlib.cpython-36m-x86_64-linux-gnu.so\r\n",
      "python     19  29 jovyan  mem       REG                8,1   159628           530874 /opt/conda/lib/python3.6/lib-dynload/_struct.cpython-36m-x86_64-linux-gnu.so\r\n",
      "python     19  29 jovyan  mem       REG                8,1    20447           530863 /opt/conda/lib/python3.6/lib-dynload/_opcode.cpython-36m-x86_64-linux-gnu.so\r\n",
      "python     19  29 jovyan  mem       REG                8,1    35500           530885 /opt/conda/lib/python3.6/lib-dynload/grp.cpython-36m-x86_64-linux-gnu.so\r\n",
      "python     19  29 jovyan  mem       REG                8,1   803563           529528 /opt/conda/lib/liblzma.so.5.2.3\r\n",
      "python     19  29 jovyan  mem       REG                8,1   117498           530859 /opt/conda/lib/python3.6/lib-dynload/_lzma.cpython-36m-x86_64-linux-gnu.so\r\n",
      "python     19  29 jovyan  mem       REG                8,1   269237           530839 /opt/conda/lib/python3.6/lib-dynload/_bz2.cpython-36m-x86_64-linux-gnu.so\r\n",
      "python     19  29 jovyan  mem       REG                8,1   127973           529602 /opt/conda/lib/libz.so.1.2.11\r\n",
      "python     19  29 jovyan  mem       REG                8,1   116664           530900 /opt/conda/lib/python3.6/lib-dynload/zlib.cpython-36m-x86_64-linux-gnu.so\r\n",
      "python     19  29 jovyan  mem       REG                8,1   210293           530886 /opt/conda/lib/python3.6/lib-dynload/math.cpython-36m-x86_64-linux-gnu.so\r\n",
      "python     19  29 jovyan  mem       REG                8,1    79124           530894 /opt/conda/lib/python3.6/lib-dynload/select.cpython-36m-x86_64-linux-gnu.so\r\n",
      "python     19  29 jovyan  mem       REG                8,1    85443           530865 /opt/conda/lib/python3.6/lib-dynload/_posixsubprocess.cpython-36m-x86_64-linux-gnu.so\r\n",
      "python     19  29 jovyan  mem       REG                8,1   164929           530857 /opt/conda/lib/python3.6/lib-dynload/_json.cpython-36m-x86_64-linux-gnu.so\r\n",
      "python     19  29 jovyan  mem       REG                8,1    47058           530856 /opt/conda/lib/python3.6/lib-dynload/_heapq.cpython-36m-x86_64-linux-gnu.so\r\n",
      "python     19  29 jovyan  mem       REG                8,1  1868984           394365 /lib/x86_64-linux-gnu/libc-2.23.so\r\n",
      "python     19  29 jovyan  mem       REG                8,1  1088952           394397 /lib/x86_64-linux-gnu/libm-2.23.so\r\n",
      "python     19  29 jovyan  mem       REG                8,1    31712           394440 /lib/x86_64-linux-gnu/librt-2.23.so\r\n",
      "python     19  29 jovyan  mem       REG                8,1    10656           394460 /lib/x86_64-linux-gnu/libutil-2.23.so\r\n",
      "python     19  29 jovyan  mem       REG                8,1    14608           394378 /lib/x86_64-linux-gnu/libdl-2.23.so\r\n",
      "python     19  29 jovyan  mem       REG                8,1   138696           394433 /lib/x86_64-linux-gnu/libpthread-2.23.so\r\n",
      "python     19  29 jovyan  mem       REG                8,1 12444567           529556 /opt/conda/lib/libpython3.6m.so.1.0\r\n",
      "python     19  29 jovyan  mem       REG                8,1   162632           394345 /lib/x86_64-linux-gnu/ld-2.23.so\r\n",
      "python     19  29 jovyan  mem       REG                8,1    26258           395222 /usr/lib/x86_64-linux-gnu/gconv/gconv-modules.cache\r\n",
      "python     19  29 jovyan  mem       REG                8,1  1668976           656066 /usr/lib/locale/locale-archive\r\n",
      "python     19  29 jovyan    0r     FIFO               0,10      0t0           183037 pipe\r\n",
      "python     19  29 jovyan    1w     FIFO               0,10      0t0           177822 pipe\r\n",
      "python     19  29 jovyan    2w     FIFO               0,10      0t0           177823 pipe\r\n",
      "python     19  29 jovyan    3r      CHR                1,9      0t0           177867 /dev/urandom\r\n",
      "python     19  29 jovyan    4w      CHR                1,3      0t0           177862 /dev/null\r\n",
      "python     19  29 jovyan    5u  a_inode               0,11        0            11923 [eventfd]\r\n",
      "python     19  29 jovyan    6r      CHR                1,9      0t0           177867 /dev/urandom\r\n",
      "python     19  29 jovyan    7u  a_inode               0,11        0            11923 [eventfd]\r\n",
      "python     19  29 jovyan    8u  a_inode               0,11        0            11923 [eventpoll]\r\n",
      "python     19  29 jovyan    9u  a_inode               0,11        0            11923 [eventfd]\r\n",
      "python     19  29 jovyan   10u  a_inode               0,11        0            11923 [eventpoll]\r\n",
      "python     19  29 jovyan   11u  a_inode               0,11        0            11923 [eventfd]\r\n",
      "python     19  29 jovyan   12u     IPv4             183100      0t0              TCP localhost:54603 (LISTEN)\r\n",
      "python     19  29 jovyan   13u  a_inode               0,11        0            11923 [eventfd]\r\n",
      "python     19  29 jovyan   14u     IPv4             183102      0t0              TCP localhost:37155 (LISTEN)\r\n",
      "python     19  29 jovyan   15u  a_inode               0,11        0            11923 [eventfd]\r\n",
      "python     19  29 jovyan   16u     IPv4             183104      0t0              TCP localhost:33055 (LISTEN)\r\n",
      "python     19  29 jovyan   17u  a_inode               0,11        0            11923 [eventfd]\r\n",
      "python     19  29 jovyan   18u     IPv4             183106      0t0              TCP localhost:39407 (LISTEN)\r\n",
      "python     19  29 jovyan   19u  a_inode               0,11        0            11923 [eventpoll]\r\n",
      "python     19  29 jovyan   20u     unix 0x0000000000000000      0t0           183107 type=STREAM\r\n",
      "python     19  29 jovyan   21u     unix 0x0000000000000000      0t0           183108 type=STREAM\r\n",
      "python     19  29 jovyan   22u  a_inode               0,11        0            11923 [eventfd]\r\n",
      "python     19  29 jovyan   23u     IPv4             183110      0t0              TCP localhost:43393 (LISTEN)\r\n",
      "python     19  29 jovyan   24u  a_inode               0,11        0            11923 [eventfd]\r\n",
      "python     19  29 jovyan   25u  a_inode               0,11        0            11923 [eventfd]\r\n",
      "python     19  29 jovyan   26u  a_inode               0,11        0            11923 [eventfd]\r\n",
      "python     19  29 jovyan   27u  a_inode               0,11        0            11923 [eventpoll]\r\n",
      "python     19  29 jovyan   28u  a_inode               0,11        0            11923 [eventfd]\r\n",
      "python     19  29 jovyan   29u  a_inode               0,11        0            11923 [eventpoll]\r\n",
      "python     19  29 jovyan   30u  a_inode               0,11        0            11923 [eventfd]\r\n",
      "python     19  29 jovyan   31u     IPv4             184683      0t0              TCP localhost:51695 (LISTEN)\r\n",
      "python     19  29 jovyan   32u  a_inode               0,11        0            11923 [eventpoll]\r\n",
      "python     19  29 jovyan   33u     unix 0x0000000000000000      0t0           184684 type=STREAM\r\n",
      "python     19  29 jovyan   34u     unix 0x0000000000000000      0t0           184685 type=STREAM\r\n",
      "python     19  29 jovyan   35u      REG                8,1    28672           262667 /home/jovyan/.ipython/profile_default/history.sqlite\r\n",
      "python     19  29 jovyan   36u      REG                8,1    28672           262667 /home/jovyan/.ipython/profile_default/history.sqlite\r\n",
      "python     19  29 jovyan   37u     IPv4             183114      0t0              TCP localhost:39407->localhost:50562 (ESTABLISHED)\r\n",
      "python     19  29 jovyan   38u     IPv4             183115      0t0              TCP localhost:33055->localhost:40336 (ESTABLISHED)\r\n",
      "python     19  29 jovyan   39u  a_inode               0,11        0            11923 [eventfd]\r\n",
      "python     19  29 jovyan   40u     IPv4             183150      0t0              TCP localhost:54603->localhost:35854 (ESTABLISHED)\r\n",
      "python     19  29 jovyan   41u     IPv4             183152      0t0              TCP localhost:39407->localhost:50580 (ESTABLISHED)\r\n",
      "python     19  29 jovyan   42u     IPv4             183154      0t0              TCP localhost:37155->localhost:36396 (ESTABLISHED)\r\n",
      "python     19  29 jovyan   43u  a_inode               0,11        0            11923 [eventfd]\r\n",
      "python     19  29 jovyan   47u      CHR                5,2      0t0                2 /dev/pts/ptmx\r\n",
      "ZMQbg/2    19  30 jovyan  cwd       DIR               0,61     4096 9570149208167180 /home/jovyan/openforum2018\r\n",
      "ZMQbg/2    19  30 jovyan  rtd       DIR               0,59     4096           181289 /\r\n",
      "ZMQbg/2    19  30 jovyan  txt       REG                8,1    14857           529056 /opt/conda/bin/python3.6\r\n",
      "ZMQbg/2    19  30 jovyan  mem       REG                8,1    47600           394414 /lib/x86_64-linux-gnu/libnss_files-2.23.so\r\n",
      "ZMQbg/2    19  30 jovyan  mem       REG                8,1    47648           394418 /lib/x86_64-linux-gnu/libnss_nis-2.23.so\r\n",
      "ZMQbg/2    19  30 jovyan  mem       REG                8,1    93128           394408 /lib/x86_64-linux-gnu/libnsl-2.23.so\r\n",
      "ZMQbg/2    19  30 jovyan  mem       REG                8,1    35688           394410 /lib/x86_64-linux-gnu/libnss_compat-2.23.so\r\n",
      "ZMQbg/2    19  30 jovyan  mem       REG                8,1  1686154           530853 /opt/conda/lib/python3.6/lib-dynload/_decimal.cpython-36m-x86_64-linux-gnu.so\r\n",
      "ZMQbg/2    19  30 jovyan  mem       REG                8,1   375919           530873 /opt/conda/lib/python3.6/lib-dynload/_ssl.cpython-36m-x86_64-linux-gnu.so\r\n",
      "ZMQbg/2    19  30 jovyan  mem       REG                8,1   194106           530836 /opt/conda/lib/python3.6/lib-dynload/_asyncio.cpython-36m-x86_64-linux-gnu.so\r\n",
      "ZMQbg/2    19  30 jovyan  mem       REG                8,1    48787           530862 /opt/conda/lib/python3.6/lib-dynload/_multiprocessing.cpython-36m-x86_64-linux-gnu.so\r\n",
      "ZMQbg/2    19  30 jovyan  mem       REG                8,1   316595           530850 /opt/conda/lib/python3.6/lib-dynload/_curses.cpython-36m-x86_64-linux-gnu.so\r\n",
      "ZMQbg/2    19  30 jovyan  mem       REG                8,1    17873          1708597 /opt/conda/lib/python3.6/site-packages/tornado/speedups.cpython-36m-x86_64-linux-gnu.so\r\n",
      "ZMQbg/2    19  30 jovyan  mem       REG                8,1    18976           394463 /lib/x86_64-linux-gnu/libuuid.so.1.3.0\r\n",
      "ZMQbg/2    19  30 jovyan  mem       REG                8,1   228724          2230844 /opt/conda/lib/python3.6/site-packages/zmq/backend/cython/_device.cpython-36m-x86_64-linux-gnu.so\r\n",
      "ZMQbg/2    19  30 jovyan  mem       REG                8,1    98032          2230846 /opt/conda/lib/python3.6/site-packages/zmq/backend/cython/_version.cpython-36m-x86_64-linux-gnu.so\r\n",
      "ZMQbg/2    19  30 jovyan  mem       REG                8,1   327947          2230845 /opt/conda/lib/python3.6/site-packages/zmq/backend/cython/_poll.cpython-36m-x86_64-linux-gnu.so\r\n",
      "ZMQbg/2    19  30 jovyan  mem       REG                8,1   149930          2230859 /opt/conda/lib/python3.6/site-packages/zmq/backend/cython/utils.cpython-36m-x86_64-linux-gnu.so\r\n",
      "ZMQbg/2    19  30 jovyan  mem       REG                8,1   730559          2230857 /opt/conda/lib/python3.6/site-packages/zmq/backend/cython/socket.cpython-36m-x86_64-linux-gnu.so\r\n",
      "ZMQbg/2    19  30 jovyan  mem       REG                8,1   311141          2230851 /opt/conda/lib/python3.6/site-packages/zmq/backend/cython/context.cpython-36m-x86_64-linux-gnu.so\r\n",
      "ZMQbg/2    19  30 jovyan  mem       REG                8,1   452817          2230855 /opt/conda/lib/python3.6/site-packages/zmq/backend/cython/message.cpython-36m-x86_64-linux-gnu.so\r\n",
      "ZMQbg/2    19  30 jovyan  mem       REG                8,1   115893          2230853 /opt/conda/lib/python3.6/site-packages/zmq/backend/cython/error.cpython-36m-x86_64-linux-gnu.so\r\n",
      "ZMQbg/2    19  30 jovyan  mem       REG                8,1   706232           529510 /opt/conda/lib/libgcc_s.so.1\r\n",
      "ZMQbg/2    19  30 jovyan  mem       REG                8,1  8167184           529575 /opt/conda/lib/libstdc++.so.6.0.24\r\n",
      "ZMQbg/2    19  30 jovyan  mem       REG                8,1  1289027           661987 /opt/conda/lib/libzmq.so.5.1.5\r\n",
      "ZMQbg/2    19  30 jovyan  mem       REG                8,1   228614          2230849 /opt/conda/lib/python3.6/site-packages/zmq/backend/cython/constants.cpython-36m-x86_64-linux-gnu.so\r\n",
      "ZMQbg/2    19  30 jovyan  mem       REG                8,1   617309           530848 /opt/conda/lib/python3.6/lib-dynload/_ctypes.cpython-36m-x86_64-linux-gnu.so\r\n",
      "ZMQbg/2    19  30 jovyan  mem       REG                8,1    64549           530858 /opt/conda/lib/python3.6/lib-dynload/_lsprof.cpython-36m-x86_64-linux-gnu.so\r\n",
      "ZMQbg/2    19  30 jovyan  mem       REG                8,1   339757           530871 /opt/conda/lib/python3.6/lib-dynload/_socket.cpython-36m-x86_64-linux-gnu.so\r\n",
      "ZMQbg/2    19  30 jovyan  mem       REG                8,1   963624           530898 /opt/conda/lib/python3.6/lib-dynload/unicodedata.cpython-36m-x86_64-linux-gnu.so\r\n",
      "ZMQbg/2    19  30 jovyan  mem       REG                8,1   187746           530880 /opt/conda/lib/python3.6/lib-dynload/array.cpython-36m-x86_64-linux-gnu.so\r\n",
      "ZMQbg/2    19  30 jovyan  mem       REG                8,1   249585           529581 /opt/conda/lib/libtinfo.so.5.9\r\n",
      "ZMQbg/2    19  30 jovyan  mem       REG                8,1   176142           529542 /opt/conda/lib/libncurses.so.5.9\r\n",
      "ZMQbg/2    19  30 jovyan  mem       REG                8,1  1165114           529569 /opt/conda/lib/libsqlite3.so.0.8.6\r\n",
      "ZMQbg/2    19  30 jovyan  mem       REG                8,1   295030           530872 /opt/conda/lib/python3.6/lib-dynload/_sqlite3.cpython-36m-x86_64-linux-gnu.so\r\n",
      "ZMQbg/2    19  30 jovyan  mem       REG                8,1   433613           530864 /opt/conda/lib/python3.6/lib-dynload/_pickle.cpython-36m-x86_64-linux-gnu.so\r\n",
      "ZMQbg/2    19  30 jovyan  mem       REG                8,1   470165           530852 /opt/conda/lib/python3.6/lib-dynload/_datetime.cpython-36m-x86_64-linux-gnu.so\r\n",
      "ZMQbg/2    19  30 jovyan  mem       REG                8,1    78638           530882 /opt/conda/lib/python3.6/lib-dynload/binascii.cpython-36m-x86_64-linux-gnu.so\r\n",
      "ZMQbg/2    19  30 jovyan  mem       REG                8,1    32268           530893 /opt/conda/lib/python3.6/lib-dynload/resource.cpython-36m-x86_64-linux-gnu.so\r\n",
      "ZMQbg/2    19  30 jovyan  mem       REG                8,1    41463           530884 /opt/conda/lib/python3.6/lib-dynload/fcntl.cpython-36m-x86_64-linux-gnu.so\r\n",
      "ZMQbg/2    19  30 jovyan  mem       REG                8,1    46964           530897 /opt/conda/lib/python3.6/lib-dynload/termios.cpython-36m-x86_64-linux-gnu.so\r\n",
      "ZMQbg/2    19  30 jovyan  mem       REG                8,1    37999           530866 /opt/conda/lib/python3.6/lib-dynload/_random.cpython-36m-x86_64-linux-gnu.so\r\n",
      "ZMQbg/2    19  30 jovyan  mem       REG                8,1    33663           530837 /opt/conda/lib/python3.6/lib-dynload/_bisect.cpython-36m-x86_64-linux-gnu.so\r\n",
      "ZMQbg/2    19  30 jovyan  mem       REG                8,1   355122           530869 /opt/conda/lib/python3.6/lib-dynload/_sha3.cpython-36m-x86_64-linux-gnu.so\r\n",
      "ZMQbg/2    19  30 jovyan  mem       REG                8,1   329909           530838 /opt/conda/lib/python3.6/lib-dynload/_blake2.cpython-36m-x86_64-linux-gnu.so\r\n",
      "ZMQbg/2    19  30 jovyan  mem       REG                8,1  2692340           529490 /opt/conda/lib/libcrypto.so.1.0.0\r\n",
      "ZMQbg/2    19  30 jovyan  mem       REG                8,1   549929           529572 /opt/conda/lib/libssl.so.1.0.0\r\n",
      "ZMQbg/2    19  30 jovyan  mem       REG                8,1    92355           530855 /opt/conda/lib/python3.6/lib-dynload/_hashlib.cpython-36m-x86_64-linux-gnu.so\r\n",
      "ZMQbg/2    19  30 jovyan  mem       REG                8,1   159628           530874 /opt/conda/lib/python3.6/lib-dynload/_struct.cpython-36m-x86_64-linux-gnu.so\r\n",
      "ZMQbg/2    19  30 jovyan  mem       REG                8,1    20447           530863 /opt/conda/lib/python3.6/lib-dynload/_opcode.cpython-36m-x86_64-linux-gnu.so\r\n",
      "ZMQbg/2    19  30 jovyan  mem       REG                8,1    35500           530885 /opt/conda/lib/python3.6/lib-dynload/grp.cpython-36m-x86_64-linux-gnu.so\r\n",
      "ZMQbg/2    19  30 jovyan  mem       REG                8,1   803563           529528 /opt/conda/lib/liblzma.so.5.2.3\r\n",
      "ZMQbg/2    19  30 jovyan  mem       REG                8,1   117498           530859 /opt/conda/lib/python3.6/lib-dynload/_lzma.cpython-36m-x86_64-linux-gnu.so\r\n",
      "ZMQbg/2    19  30 jovyan  mem       REG                8,1   269237           530839 /opt/conda/lib/python3.6/lib-dynload/_bz2.cpython-36m-x86_64-linux-gnu.so\r\n",
      "ZMQbg/2    19  30 jovyan  mem       REG                8,1   127973           529602 /opt/conda/lib/libz.so.1.2.11\r\n",
      "ZMQbg/2    19  30 jovyan  mem       REG                8,1   116664           530900 /opt/conda/lib/python3.6/lib-dynload/zlib.cpython-36m-x86_64-linux-gnu.so\r\n",
      "ZMQbg/2    19  30 jovyan  mem       REG                8,1   210293           530886 /opt/conda/lib/python3.6/lib-dynload/math.cpython-36m-x86_64-linux-gnu.so\r\n",
      "ZMQbg/2    19  30 jovyan  mem       REG                8,1    79124           530894 /opt/conda/lib/python3.6/lib-dynload/select.cpython-36m-x86_64-linux-gnu.so\r\n",
      "ZMQbg/2    19  30 jovyan  mem       REG                8,1    85443           530865 /opt/conda/lib/python3.6/lib-dynload/_posixsubprocess.cpython-36m-x86_64-linux-gnu.so\r\n",
      "ZMQbg/2    19  30 jovyan  mem       REG                8,1   164929           530857 /opt/conda/lib/python3.6/lib-dynload/_json.cpython-36m-x86_64-linux-gnu.so\r\n",
      "ZMQbg/2    19  30 jovyan  mem       REG                8,1    47058           530856 /opt/conda/lib/python3.6/lib-dynload/_heapq.cpython-36m-x86_64-linux-gnu.so\r\n",
      "ZMQbg/2    19  30 jovyan  mem       REG                8,1  1868984           394365 /lib/x86_64-linux-gnu/libc-2.23.so\r\n",
      "ZMQbg/2    19  30 jovyan  mem       REG                8,1  1088952           394397 /lib/x86_64-linux-gnu/libm-2.23.so\r\n",
      "ZMQbg/2    19  30 jovyan  mem       REG                8,1    31712           394440 /lib/x86_64-linux-gnu/librt-2.23.so\r\n",
      "ZMQbg/2    19  30 jovyan  mem       REG                8,1    10656           394460 /lib/x86_64-linux-gnu/libutil-2.23.so\r\n",
      "ZMQbg/2    19  30 jovyan  mem       REG                8,1    14608           394378 /lib/x86_64-linux-gnu/libdl-2.23.so\r\n",
      "ZMQbg/2    19  30 jovyan  mem       REG                8,1   138696           394433 /lib/x86_64-linux-gnu/libpthread-2.23.so\r\n",
      "ZMQbg/2    19  30 jovyan  mem       REG                8,1 12444567           529556 /opt/conda/lib/libpython3.6m.so.1.0\r\n",
      "ZMQbg/2    19  30 jovyan  mem       REG                8,1   162632           394345 /lib/x86_64-linux-gnu/ld-2.23.so\r\n",
      "ZMQbg/2    19  30 jovyan  mem       REG                8,1    26258           395222 /usr/lib/x86_64-linux-gnu/gconv/gconv-modules.cache\r\n",
      "ZMQbg/2    19  30 jovyan  mem       REG                8,1  1668976           656066 /usr/lib/locale/locale-archive\r\n",
      "ZMQbg/2    19  30 jovyan    0r     FIFO               0,10      0t0           183037 pipe\r\n",
      "ZMQbg/2    19  30 jovyan    1w     FIFO               0,10      0t0           177822 pipe\r\n",
      "ZMQbg/2    19  30 jovyan    2w     FIFO               0,10      0t0           177823 pipe\r\n",
      "ZMQbg/2    19  30 jovyan    3r      CHR                1,9      0t0           177867 /dev/urandom\r\n",
      "ZMQbg/2    19  30 jovyan    4w      CHR                1,3      0t0           177862 /dev/null\r\n",
      "ZMQbg/2    19  30 jovyan    5u  a_inode               0,11        0            11923 [eventfd]\r\n",
      "ZMQbg/2    19  30 jovyan    6r      CHR                1,9      0t0           177867 /dev/urandom\r\n",
      "ZMQbg/2    19  30 jovyan    7u  a_inode               0,11        0            11923 [eventfd]\r\n",
      "ZMQbg/2    19  30 jovyan    8u  a_inode               0,11        0            11923 [eventpoll]\r\n",
      "ZMQbg/2    19  30 jovyan    9u  a_inode               0,11        0            11923 [eventfd]\r\n",
      "ZMQbg/2    19  30 jovyan   10u  a_inode               0,11        0            11923 [eventpoll]\r\n",
      "ZMQbg/2    19  30 jovyan   11u  a_inode               0,11        0            11923 [eventfd]\r\n",
      "ZMQbg/2    19  30 jovyan   12u     IPv4             183100      0t0              TCP localhost:54603 (LISTEN)\r\n",
      "ZMQbg/2    19  30 jovyan   13u  a_inode               0,11        0            11923 [eventfd]\r\n",
      "ZMQbg/2    19  30 jovyan   14u     IPv4             183102      0t0              TCP localhost:37155 (LISTEN)\r\n",
      "ZMQbg/2    19  30 jovyan   15u  a_inode               0,11        0            11923 [eventfd]\r\n",
      "ZMQbg/2    19  30 jovyan   16u     IPv4             183104      0t0              TCP localhost:33055 (LISTEN)\r\n",
      "ZMQbg/2    19  30 jovyan   17u  a_inode               0,11        0            11923 [eventfd]\r\n",
      "ZMQbg/2    19  30 jovyan   18u     IPv4             183106      0t0              TCP localhost:39407 (LISTEN)\r\n",
      "ZMQbg/2    19  30 jovyan   19u  a_inode               0,11        0            11923 [eventpoll]\r\n",
      "ZMQbg/2    19  30 jovyan   20u     unix 0x0000000000000000      0t0           183107 type=STREAM\r\n",
      "ZMQbg/2    19  30 jovyan   21u     unix 0x0000000000000000      0t0           183108 type=STREAM\r\n",
      "ZMQbg/2    19  30 jovyan   22u  a_inode               0,11        0            11923 [eventfd]\r\n",
      "ZMQbg/2    19  30 jovyan   23u     IPv4             183110      0t0              TCP localhost:43393 (LISTEN)\r\n",
      "ZMQbg/2    19  30 jovyan   24u  a_inode               0,11        0            11923 [eventfd]\r\n",
      "ZMQbg/2    19  30 jovyan   25u  a_inode               0,11        0            11923 [eventfd]\r\n",
      "ZMQbg/2    19  30 jovyan   26u  a_inode               0,11        0            11923 [eventfd]\r\n",
      "ZMQbg/2    19  30 jovyan   27u  a_inode               0,11        0            11923 [eventpoll]\r\n",
      "ZMQbg/2    19  30 jovyan   28u  a_inode               0,11        0            11923 [eventfd]\r\n",
      "ZMQbg/2    19  30 jovyan   29u  a_inode               0,11        0            11923 [eventpoll]\r\n",
      "ZMQbg/2    19  30 jovyan   30u  a_inode               0,11        0            11923 [eventfd]\r\n",
      "ZMQbg/2    19  30 jovyan   31u     IPv4             184683      0t0              TCP localhost:51695 (LISTEN)\r\n",
      "ZMQbg/2    19  30 jovyan   32u  a_inode               0,11        0            11923 [eventpoll]\r\n",
      "ZMQbg/2    19  30 jovyan   33u     unix 0x0000000000000000      0t0           184684 type=STREAM\r\n",
      "ZMQbg/2    19  30 jovyan   34u     unix 0x0000000000000000      0t0           184685 type=STREAM\r\n",
      "ZMQbg/2    19  30 jovyan   35u      REG                8,1    28672           262667 /home/jovyan/.ipython/profile_default/history.sqlite\r\n",
      "ZMQbg/2    19  30 jovyan   36u      REG                8,1    28672           262667 /home/jovyan/.ipython/profile_default/history.sqlite\r\n",
      "ZMQbg/2    19  30 jovyan   37u     IPv4             183114      0t0              TCP localhost:39407->localhost:50562 (ESTABLISHED)\r\n",
      "ZMQbg/2    19  30 jovyan   38u     IPv4             183115      0t0              TCP localhost:33055->localhost:40336 (ESTABLISHED)\r\n",
      "ZMQbg/2    19  30 jovyan   39u  a_inode               0,11        0            11923 [eventfd]\r\n",
      "ZMQbg/2    19  30 jovyan   40u     IPv4             183150      0t0              TCP localhost:54603->localhost:35854 (ESTABLISHED)\r\n",
      "ZMQbg/2    19  30 jovyan   41u     IPv4             183152      0t0              TCP localhost:39407->localhost:50580 (ESTABLISHED)\r\n",
      "ZMQbg/2    19  30 jovyan   42u     IPv4             183154      0t0              TCP localhost:37155->localhost:36396 (ESTABLISHED)\r\n",
      "ZMQbg/2    19  30 jovyan   43u  a_inode               0,11        0            11923 [eventfd]\r\n",
      "ZMQbg/2    19  30 jovyan   47u      CHR                5,2      0t0                2 /dev/pts/ptmx\r\n",
      "ZMQbg/3    19  31 jovyan  cwd       DIR               0,61     4096 9570149208167180 /home/jovyan/openforum2018\r\n",
      "ZMQbg/3    19  31 jovyan  rtd       DIR               0,59     4096           181289 /\r\n",
      "ZMQbg/3    19  31 jovyan  txt       REG                8,1    14857           529056 /opt/conda/bin/python3.6\r\n",
      "ZMQbg/3    19  31 jovyan  mem       REG                8,1    47600           394414 /lib/x86_64-linux-gnu/libnss_files-2.23.so\r\n",
      "ZMQbg/3    19  31 jovyan  mem       REG                8,1    47648           394418 /lib/x86_64-linux-gnu/libnss_nis-2.23.so\r\n",
      "ZMQbg/3    19  31 jovyan  mem       REG                8,1    93128           394408 /lib/x86_64-linux-gnu/libnsl-2.23.so\r\n",
      "ZMQbg/3    19  31 jovyan  mem       REG                8,1    35688           394410 /lib/x86_64-linux-gnu/libnss_compat-2.23.so\r\n",
      "ZMQbg/3    19  31 jovyan  mem       REG                8,1  1686154           530853 /opt/conda/lib/python3.6/lib-dynload/_decimal.cpython-36m-x86_64-linux-gnu.so\r\n",
      "ZMQbg/3    19  31 jovyan  mem       REG                8,1   375919           530873 /opt/conda/lib/python3.6/lib-dynload/_ssl.cpython-36m-x86_64-linux-gnu.so\r\n",
      "ZMQbg/3    19  31 jovyan  mem       REG                8,1   194106           530836 /opt/conda/lib/python3.6/lib-dynload/_asyncio.cpython-36m-x86_64-linux-gnu.so\r\n",
      "ZMQbg/3    19  31 jovyan  mem       REG                8,1    48787           530862 /opt/conda/lib/python3.6/lib-dynload/_multiprocessing.cpython-36m-x86_64-linux-gnu.so\r\n",
      "ZMQbg/3    19  31 jovyan  mem       REG                8,1   316595           530850 /opt/conda/lib/python3.6/lib-dynload/_curses.cpython-36m-x86_64-linux-gnu.so\r\n",
      "ZMQbg/3    19  31 jovyan  mem       REG                8,1    17873          1708597 /opt/conda/lib/python3.6/site-packages/tornado/speedups.cpython-36m-x86_64-linux-gnu.so\r\n",
      "ZMQbg/3    19  31 jovyan  mem       REG                8,1    18976           394463 /lib/x86_64-linux-gnu/libuuid.so.1.3.0\r\n",
      "ZMQbg/3    19  31 jovyan  mem       REG                8,1   228724          2230844 /opt/conda/lib/python3.6/site-packages/zmq/backend/cython/_device.cpython-36m-x86_64-linux-gnu.so\r\n",
      "ZMQbg/3    19  31 jovyan  mem       REG                8,1    98032          2230846 /opt/conda/lib/python3.6/site-packages/zmq/backend/cython/_version.cpython-36m-x86_64-linux-gnu.so\r\n",
      "ZMQbg/3    19  31 jovyan  mem       REG                8,1   327947          2230845 /opt/conda/lib/python3.6/site-packages/zmq/backend/cython/_poll.cpython-36m-x86_64-linux-gnu.so\r\n",
      "ZMQbg/3    19  31 jovyan  mem       REG                8,1   149930          2230859 /opt/conda/lib/python3.6/site-packages/zmq/backend/cython/utils.cpython-36m-x86_64-linux-gnu.so\r\n",
      "ZMQbg/3    19  31 jovyan  mem       REG                8,1   730559          2230857 /opt/conda/lib/python3.6/site-packages/zmq/backend/cython/socket.cpython-36m-x86_64-linux-gnu.so\r\n",
      "ZMQbg/3    19  31 jovyan  mem       REG                8,1   311141          2230851 /opt/conda/lib/python3.6/site-packages/zmq/backend/cython/context.cpython-36m-x86_64-linux-gnu.so\r\n",
      "ZMQbg/3    19  31 jovyan  mem       REG                8,1   452817          2230855 /opt/conda/lib/python3.6/site-packages/zmq/backend/cython/message.cpython-36m-x86_64-linux-gnu.so\r\n",
      "ZMQbg/3    19  31 jovyan  mem       REG                8,1   115893          2230853 /opt/conda/lib/python3.6/site-packages/zmq/backend/cython/error.cpython-36m-x86_64-linux-gnu.so\r\n",
      "ZMQbg/3    19  31 jovyan  mem       REG                8,1   706232           529510 /opt/conda/lib/libgcc_s.so.1\r\n",
      "ZMQbg/3    19  31 jovyan  mem       REG                8,1  8167184           529575 /opt/conda/lib/libstdc++.so.6.0.24\r\n",
      "ZMQbg/3    19  31 jovyan  mem       REG                8,1  1289027           661987 /opt/conda/lib/libzmq.so.5.1.5\r\n",
      "ZMQbg/3    19  31 jovyan  mem       REG                8,1   228614          2230849 /opt/conda/lib/python3.6/site-packages/zmq/backend/cython/constants.cpython-36m-x86_64-linux-gnu.so\r\n",
      "ZMQbg/3    19  31 jovyan  mem       REG                8,1   617309           530848 /opt/conda/lib/python3.6/lib-dynload/_ctypes.cpython-36m-x86_64-linux-gnu.so\r\n",
      "ZMQbg/3    19  31 jovyan  mem       REG                8,1    64549           530858 /opt/conda/lib/python3.6/lib-dynload/_lsprof.cpython-36m-x86_64-linux-gnu.so\r\n",
      "ZMQbg/3    19  31 jovyan  mem       REG                8,1   339757           530871 /opt/conda/lib/python3.6/lib-dynload/_socket.cpython-36m-x86_64-linux-gnu.so\r\n",
      "ZMQbg/3    19  31 jovyan  mem       REG                8,1   963624           530898 /opt/conda/lib/python3.6/lib-dynload/unicodedata.cpython-36m-x86_64-linux-gnu.so\r\n",
      "ZMQbg/3    19  31 jovyan  mem       REG                8,1   187746           530880 /opt/conda/lib/python3.6/lib-dynload/array.cpython-36m-x86_64-linux-gnu.so\r\n",
      "ZMQbg/3    19  31 jovyan  mem       REG                8,1   249585           529581 /opt/conda/lib/libtinfo.so.5.9\r\n",
      "ZMQbg/3    19  31 jovyan  mem       REG                8,1   176142           529542 /opt/conda/lib/libncurses.so.5.9\r\n",
      "ZMQbg/3    19  31 jovyan  mem       REG                8,1  1165114           529569 /opt/conda/lib/libsqlite3.so.0.8.6\r\n",
      "ZMQbg/3    19  31 jovyan  mem       REG                8,1   295030           530872 /opt/conda/lib/python3.6/lib-dynload/_sqlite3.cpython-36m-x86_64-linux-gnu.so\r\n",
      "ZMQbg/3    19  31 jovyan  mem       REG                8,1   433613           530864 /opt/conda/lib/python3.6/lib-dynload/_pickle.cpython-36m-x86_64-linux-gnu.so\r\n",
      "ZMQbg/3    19  31 jovyan  mem       REG                8,1   470165           530852 /opt/conda/lib/python3.6/lib-dynload/_datetime.cpython-36m-x86_64-linux-gnu.so\r\n",
      "ZMQbg/3    19  31 jovyan  mem       REG                8,1    78638           530882 /opt/conda/lib/python3.6/lib-dynload/binascii.cpython-36m-x86_64-linux-gnu.so\r\n",
      "ZMQbg/3    19  31 jovyan  mem       REG                8,1    32268           530893 /opt/conda/lib/python3.6/lib-dynload/resource.cpython-36m-x86_64-linux-gnu.so\r\n",
      "ZMQbg/3    19  31 jovyan  mem       REG                8,1    41463           530884 /opt/conda/lib/python3.6/lib-dynload/fcntl.cpython-36m-x86_64-linux-gnu.so\r\n",
      "ZMQbg/3    19  31 jovyan  mem       REG                8,1    46964           530897 /opt/conda/lib/python3.6/lib-dynload/termios.cpython-36m-x86_64-linux-gnu.so\r\n",
      "ZMQbg/3    19  31 jovyan  mem       REG                8,1    37999           530866 /opt/conda/lib/python3.6/lib-dynload/_random.cpython-36m-x86_64-linux-gnu.so\r\n",
      "ZMQbg/3    19  31 jovyan  mem       REG                8,1    33663           530837 /opt/conda/lib/python3.6/lib-dynload/_bisect.cpython-36m-x86_64-linux-gnu.so\r\n",
      "ZMQbg/3    19  31 jovyan  mem       REG                8,1   355122           530869 /opt/conda/lib/python3.6/lib-dynload/_sha3.cpython-36m-x86_64-linux-gnu.so\r\n",
      "ZMQbg/3    19  31 jovyan  mem       REG                8,1   329909           530838 /opt/conda/lib/python3.6/lib-dynload/_blake2.cpython-36m-x86_64-linux-gnu.so\r\n",
      "ZMQbg/3    19  31 jovyan  mem       REG                8,1  2692340           529490 /opt/conda/lib/libcrypto.so.1.0.0\r\n",
      "ZMQbg/3    19  31 jovyan  mem       REG                8,1   549929           529572 /opt/conda/lib/libssl.so.1.0.0\r\n",
      "ZMQbg/3    19  31 jovyan  mem       REG                8,1    92355           530855 /opt/conda/lib/python3.6/lib-dynload/_hashlib.cpython-36m-x86_64-linux-gnu.so\r\n",
      "ZMQbg/3    19  31 jovyan  mem       REG                8,1   159628           530874 /opt/conda/lib/python3.6/lib-dynload/_struct.cpython-36m-x86_64-linux-gnu.so\r\n",
      "ZMQbg/3    19  31 jovyan  mem       REG                8,1    20447           530863 /opt/conda/lib/python3.6/lib-dynload/_opcode.cpython-36m-x86_64-linux-gnu.so\r\n",
      "ZMQbg/3    19  31 jovyan  mem       REG                8,1    35500           530885 /opt/conda/lib/python3.6/lib-dynload/grp.cpython-36m-x86_64-linux-gnu.so\r\n",
      "ZMQbg/3    19  31 jovyan  mem       REG                8,1   803563           529528 /opt/conda/lib/liblzma.so.5.2.3\r\n",
      "ZMQbg/3    19  31 jovyan  mem       REG                8,1   117498           530859 /opt/conda/lib/python3.6/lib-dynload/_lzma.cpython-36m-x86_64-linux-gnu.so\r\n",
      "ZMQbg/3    19  31 jovyan  mem       REG                8,1   269237           530839 /opt/conda/lib/python3.6/lib-dynload/_bz2.cpython-36m-x86_64-linux-gnu.so\r\n",
      "ZMQbg/3    19  31 jovyan  mem       REG                8,1   127973           529602 /opt/conda/lib/libz.so.1.2.11\r\n",
      "ZMQbg/3    19  31 jovyan  mem       REG                8,1   116664           530900 /opt/conda/lib/python3.6/lib-dynload/zlib.cpython-36m-x86_64-linux-gnu.so\r\n",
      "ZMQbg/3    19  31 jovyan  mem       REG                8,1   210293           530886 /opt/conda/lib/python3.6/lib-dynload/math.cpython-36m-x86_64-linux-gnu.so\r\n",
      "ZMQbg/3    19  31 jovyan  mem       REG                8,1    79124           530894 /opt/conda/lib/python3.6/lib-dynload/select.cpython-36m-x86_64-linux-gnu.so\r\n",
      "ZMQbg/3    19  31 jovyan  mem       REG                8,1    85443           530865 /opt/conda/lib/python3.6/lib-dynload/_posixsubprocess.cpython-36m-x86_64-linux-gnu.so\r\n",
      "ZMQbg/3    19  31 jovyan  mem       REG                8,1   164929           530857 /opt/conda/lib/python3.6/lib-dynload/_json.cpython-36m-x86_64-linux-gnu.so\r\n",
      "ZMQbg/3    19  31 jovyan  mem       REG                8,1    47058           530856 /opt/conda/lib/python3.6/lib-dynload/_heapq.cpython-36m-x86_64-linux-gnu.so\r\n",
      "ZMQbg/3    19  31 jovyan  mem       REG                8,1  1868984           394365 /lib/x86_64-linux-gnu/libc-2.23.so\r\n",
      "ZMQbg/3    19  31 jovyan  mem       REG                8,1  1088952           394397 /lib/x86_64-linux-gnu/libm-2.23.so\r\n",
      "ZMQbg/3    19  31 jovyan  mem       REG                8,1    31712           394440 /lib/x86_64-linux-gnu/librt-2.23.so\r\n",
      "ZMQbg/3    19  31 jovyan  mem       REG                8,1    10656           394460 /lib/x86_64-linux-gnu/libutil-2.23.so\r\n",
      "ZMQbg/3    19  31 jovyan  mem       REG                8,1    14608           394378 /lib/x86_64-linux-gnu/libdl-2.23.so\r\n",
      "ZMQbg/3    19  31 jovyan  mem       REG                8,1   138696           394433 /lib/x86_64-linux-gnu/libpthread-2.23.so\r\n",
      "ZMQbg/3    19  31 jovyan  mem       REG                8,1 12444567           529556 /opt/conda/lib/libpython3.6m.so.1.0\r\n",
      "ZMQbg/3    19  31 jovyan  mem       REG                8,1   162632           394345 /lib/x86_64-linux-gnu/ld-2.23.so\r\n",
      "ZMQbg/3    19  31 jovyan  mem       REG                8,1    26258           395222 /usr/lib/x86_64-linux-gnu/gconv/gconv-modules.cache\r\n",
      "ZMQbg/3    19  31 jovyan  mem       REG                8,1  1668976           656066 /usr/lib/locale/locale-archive\r\n",
      "ZMQbg/3    19  31 jovyan    0r     FIFO               0,10      0t0           183037 pipe\r\n",
      "ZMQbg/3    19  31 jovyan    1w     FIFO               0,10      0t0           177822 pipe\r\n",
      "ZMQbg/3    19  31 jovyan    2w     FIFO               0,10      0t0           177823 pipe\r\n",
      "ZMQbg/3    19  31 jovyan    3r      CHR                1,9      0t0           177867 /dev/urandom\r\n",
      "ZMQbg/3    19  31 jovyan    4w      CHR                1,3      0t0           177862 /dev/null\r\n",
      "ZMQbg/3    19  31 jovyan    5u  a_inode               0,11        0            11923 [eventfd]\r\n",
      "ZMQbg/3    19  31 jovyan    6r      CHR                1,9      0t0           177867 /dev/urandom\r\n",
      "ZMQbg/3    19  31 jovyan    7u  a_inode               0,11        0            11923 [eventfd]\r\n",
      "ZMQbg/3    19  31 jovyan    8u  a_inode               0,11        0            11923 [eventpoll]\r\n",
      "ZMQbg/3    19  31 jovyan    9u  a_inode               0,11        0            11923 [eventfd]\r\n",
      "ZMQbg/3    19  31 jovyan   10u  a_inode               0,11        0            11923 [eventpoll]\r\n",
      "ZMQbg/3    19  31 jovyan   11u  a_inode               0,11        0            11923 [eventfd]\r\n",
      "ZMQbg/3    19  31 jovyan   12u     IPv4             183100      0t0              TCP localhost:54603 (LISTEN)\r\n",
      "ZMQbg/3    19  31 jovyan   13u  a_inode               0,11        0            11923 [eventfd]\r\n",
      "ZMQbg/3    19  31 jovyan   14u     IPv4             183102      0t0              TCP localhost:37155 (LISTEN)\r\n",
      "ZMQbg/3    19  31 jovyan   15u  a_inode               0,11        0            11923 [eventfd]\r\n",
      "ZMQbg/3    19  31 jovyan   16u     IPv4             183104      0t0              TCP localhost:33055 (LISTEN)\r\n",
      "ZMQbg/3    19  31 jovyan   17u  a_inode               0,11        0            11923 [eventfd]\r\n",
      "ZMQbg/3    19  31 jovyan   18u     IPv4             183106      0t0              TCP localhost:39407 (LISTEN)\r\n",
      "ZMQbg/3    19  31 jovyan   19u  a_inode               0,11        0            11923 [eventpoll]\r\n",
      "ZMQbg/3    19  31 jovyan   20u     unix 0x0000000000000000      0t0           183107 type=STREAM\r\n",
      "ZMQbg/3    19  31 jovyan   21u     unix 0x0000000000000000      0t0           183108 type=STREAM\r\n",
      "ZMQbg/3    19  31 jovyan   22u  a_inode               0,11        0            11923 [eventfd]\r\n",
      "ZMQbg/3    19  31 jovyan   23u     IPv4             183110      0t0              TCP localhost:43393 (LISTEN)\r\n",
      "ZMQbg/3    19  31 jovyan   24u  a_inode               0,11        0            11923 [eventfd]\r\n",
      "ZMQbg/3    19  31 jovyan   25u  a_inode               0,11        0            11923 [eventfd]\r\n",
      "ZMQbg/3    19  31 jovyan   26u  a_inode               0,11        0            11923 [eventfd]\r\n",
      "ZMQbg/3    19  31 jovyan   27u  a_inode               0,11        0            11923 [eventpoll]\r\n",
      "ZMQbg/3    19  31 jovyan   28u  a_inode               0,11        0            11923 [eventfd]\r\n",
      "ZMQbg/3    19  31 jovyan   29u  a_inode               0,11        0            11923 [eventpoll]\r\n",
      "ZMQbg/3    19  31 jovyan   30u  a_inode               0,11        0            11923 [eventfd]\r\n",
      "ZMQbg/3    19  31 jovyan   31u     IPv4             184683      0t0              TCP localhost:51695 (LISTEN)\r\n",
      "ZMQbg/3    19  31 jovyan   32u  a_inode               0,11        0            11923 [eventpoll]\r\n",
      "ZMQbg/3    19  31 jovyan   33u     unix 0x0000000000000000      0t0           184684 type=STREAM\r\n",
      "ZMQbg/3    19  31 jovyan   34u     unix 0x0000000000000000      0t0           184685 type=STREAM\r\n",
      "ZMQbg/3    19  31 jovyan   35u      REG                8,1    28672           262667 /home/jovyan/.ipython/profile_default/history.sqlite\r\n",
      "ZMQbg/3    19  31 jovyan   36u      REG                8,1    28672           262667 /home/jovyan/.ipython/profile_default/history.sqlite\r\n",
      "ZMQbg/3    19  31 jovyan   37u     IPv4             183114      0t0              TCP localhost:39407->localhost:50562 (ESTABLISHED)\r\n",
      "ZMQbg/3    19  31 jovyan   38u     IPv4             183115      0t0              TCP localhost:33055->localhost:40336 (ESTABLISHED)\r\n",
      "ZMQbg/3    19  31 jovyan   39u  a_inode               0,11        0            11923 [eventfd]\r\n",
      "ZMQbg/3    19  31 jovyan   40u     IPv4             183150      0t0              TCP localhost:54603->localhost:35854 (ESTABLISHED)\r\n",
      "ZMQbg/3    19  31 jovyan   41u     IPv4             183152      0t0              TCP localhost:39407->localhost:50580 (ESTABLISHED)\r\n",
      "ZMQbg/3    19  31 jovyan   42u     IPv4             183154      0t0              TCP localhost:37155->localhost:36396 (ESTABLISHED)\r\n",
      "ZMQbg/3    19  31 jovyan   43u  a_inode               0,11        0            11923 [eventfd]\r\n",
      "ZMQbg/3    19  31 jovyan   47u      CHR                5,2      0t0                2 /dev/pts/ptmx\r\n",
      "python     19  32 jovyan  cwd       DIR               0,61     4096 9570149208167180 /home/jovyan/openforum2018\r\n",
      "python     19  32 jovyan  rtd       DIR               0,59     4096           181289 /\r\n",
      "python     19  32 jovyan  txt       REG                8,1    14857           529056 /opt/conda/bin/python3.6\r\n",
      "python     19  32 jovyan  mem       REG                8,1    47600           394414 /lib/x86_64-linux-gnu/libnss_files-2.23.so\r\n",
      "python     19  32 jovyan  mem       REG                8,1    47648           394418 /lib/x86_64-linux-gnu/libnss_nis-2.23.so\r\n",
      "python     19  32 jovyan  mem       REG                8,1    93128           394408 /lib/x86_64-linux-gnu/libnsl-2.23.so\r\n",
      "python     19  32 jovyan  mem       REG                8,1    35688           394410 /lib/x86_64-linux-gnu/libnss_compat-2.23.so\r\n",
      "python     19  32 jovyan  mem       REG                8,1  1686154           530853 /opt/conda/lib/python3.6/lib-dynload/_decimal.cpython-36m-x86_64-linux-gnu.so\r\n",
      "python     19  32 jovyan  mem       REG                8,1   375919           530873 /opt/conda/lib/python3.6/lib-dynload/_ssl.cpython-36m-x86_64-linux-gnu.so\r\n",
      "python     19  32 jovyan  mem       REG                8,1   194106           530836 /opt/conda/lib/python3.6/lib-dynload/_asyncio.cpython-36m-x86_64-linux-gnu.so\r\n",
      "python     19  32 jovyan  mem       REG                8,1    48787           530862 /opt/conda/lib/python3.6/lib-dynload/_multiprocessing.cpython-36m-x86_64-linux-gnu.so\r\n",
      "python     19  32 jovyan  mem       REG                8,1   316595           530850 /opt/conda/lib/python3.6/lib-dynload/_curses.cpython-36m-x86_64-linux-gnu.so\r\n",
      "python     19  32 jovyan  mem       REG                8,1    17873          1708597 /opt/conda/lib/python3.6/site-packages/tornado/speedups.cpython-36m-x86_64-linux-gnu.so\r\n",
      "python     19  32 jovyan  mem       REG                8,1    18976           394463 /lib/x86_64-linux-gnu/libuuid.so.1.3.0\r\n",
      "python     19  32 jovyan  mem       REG                8,1   228724          2230844 /opt/conda/lib/python3.6/site-packages/zmq/backend/cython/_device.cpython-36m-x86_64-linux-gnu.so\r\n",
      "python     19  32 jovyan  mem       REG                8,1    98032          2230846 /opt/conda/lib/python3.6/site-packages/zmq/backend/cython/_version.cpython-36m-x86_64-linux-gnu.so\r\n",
      "python     19  32 jovyan  mem       REG                8,1   327947          2230845 /opt/conda/lib/python3.6/site-packages/zmq/backend/cython/_poll.cpython-36m-x86_64-linux-gnu.so\r\n",
      "python     19  32 jovyan  mem       REG                8,1   149930          2230859 /opt/conda/lib/python3.6/site-packages/zmq/backend/cython/utils.cpython-36m-x86_64-linux-gnu.so\r\n",
      "python     19  32 jovyan  mem       REG                8,1   730559          2230857 /opt/conda/lib/python3.6/site-packages/zmq/backend/cython/socket.cpython-36m-x86_64-linux-gnu.so\r\n",
      "python     19  32 jovyan  mem       REG                8,1   311141          2230851 /opt/conda/lib/python3.6/site-packages/zmq/backend/cython/context.cpython-36m-x86_64-linux-gnu.so\r\n",
      "python     19  32 jovyan  mem       REG                8,1   452817          2230855 /opt/conda/lib/python3.6/site-packages/zmq/backend/cython/message.cpython-36m-x86_64-linux-gnu.so\r\n",
      "python     19  32 jovyan  mem       REG                8,1   115893          2230853 /opt/conda/lib/python3.6/site-packages/zmq/backend/cython/error.cpython-36m-x86_64-linux-gnu.so\r\n",
      "python     19  32 jovyan  mem       REG                8,1   706232           529510 /opt/conda/lib/libgcc_s.so.1\r\n",
      "python     19  32 jovyan  mem       REG                8,1  8167184           529575 /opt/conda/lib/libstdc++.so.6.0.24\r\n",
      "python     19  32 jovyan  mem       REG                8,1  1289027           661987 /opt/conda/lib/libzmq.so.5.1.5\r\n",
      "python     19  32 jovyan  mem       REG                8,1   228614          2230849 /opt/conda/lib/python3.6/site-packages/zmq/backend/cython/constants.cpython-36m-x86_64-linux-gnu.so\r\n",
      "python     19  32 jovyan  mem       REG                8,1   617309           530848 /opt/conda/lib/python3.6/lib-dynload/_ctypes.cpython-36m-x86_64-linux-gnu.so\r\n",
      "python     19  32 jovyan  mem       REG                8,1    64549           530858 /opt/conda/lib/python3.6/lib-dynload/_lsprof.cpython-36m-x86_64-linux-gnu.so\r\n",
      "python     19  32 jovyan  mem       REG                8,1   339757           530871 /opt/conda/lib/python3.6/lib-dynload/_socket.cpython-36m-x86_64-linux-gnu.so\r\n",
      "python     19  32 jovyan  mem       REG                8,1   963624           530898 /opt/conda/lib/python3.6/lib-dynload/unicodedata.cpython-36m-x86_64-linux-gnu.so\r\n",
      "python     19  32 jovyan  mem       REG                8,1   187746           530880 /opt/conda/lib/python3.6/lib-dynload/array.cpython-36m-x86_64-linux-gnu.so\r\n",
      "python     19  32 jovyan  mem       REG                8,1   249585           529581 /opt/conda/lib/libtinfo.so.5.9\r\n",
      "python     19  32 jovyan  mem       REG                8,1   176142           529542 /opt/conda/lib/libncurses.so.5.9\r\n",
      "python     19  32 jovyan  mem       REG                8,1  1165114           529569 /opt/conda/lib/libsqlite3.so.0.8.6\r\n",
      "python     19  32 jovyan  mem       REG                8,1   295030           530872 /opt/conda/lib/python3.6/lib-dynload/_sqlite3.cpython-36m-x86_64-linux-gnu.so\r\n",
      "python     19  32 jovyan  mem       REG                8,1   433613           530864 /opt/conda/lib/python3.6/lib-dynload/_pickle.cpython-36m-x86_64-linux-gnu.so\r\n",
      "python     19  32 jovyan  mem       REG                8,1   470165           530852 /opt/conda/lib/python3.6/lib-dynload/_datetime.cpython-36m-x86_64-linux-gnu.so\r\n",
      "python     19  32 jovyan  mem       REG                8,1    78638           530882 /opt/conda/lib/python3.6/lib-dynload/binascii.cpython-36m-x86_64-linux-gnu.so\r\n",
      "python     19  32 jovyan  mem       REG                8,1    32268           530893 /opt/conda/lib/python3.6/lib-dynload/resource.cpython-36m-x86_64-linux-gnu.so\r\n",
      "python     19  32 jovyan  mem       REG                8,1    41463           530884 /opt/conda/lib/python3.6/lib-dynload/fcntl.cpython-36m-x86_64-linux-gnu.so\r\n",
      "python     19  32 jovyan  mem       REG                8,1    46964           530897 /opt/conda/lib/python3.6/lib-dynload/termios.cpython-36m-x86_64-linux-gnu.so\r\n",
      "python     19  32 jovyan  mem       REG                8,1    37999           530866 /opt/conda/lib/python3.6/lib-dynload/_random.cpython-36m-x86_64-linux-gnu.so\r\n",
      "python     19  32 jovyan  mem       REG                8,1    33663           530837 /opt/conda/lib/python3.6/lib-dynload/_bisect.cpython-36m-x86_64-linux-gnu.so\r\n",
      "python     19  32 jovyan  mem       REG                8,1   355122           530869 /opt/conda/lib/python3.6/lib-dynload/_sha3.cpython-36m-x86_64-linux-gnu.so\r\n",
      "python     19  32 jovyan  mem       REG                8,1   329909           530838 /opt/conda/lib/python3.6/lib-dynload/_blake2.cpython-36m-x86_64-linux-gnu.so\r\n",
      "python     19  32 jovyan  mem       REG                8,1  2692340           529490 /opt/conda/lib/libcrypto.so.1.0.0\r\n",
      "python     19  32 jovyan  mem       REG                8,1   549929           529572 /opt/conda/lib/libssl.so.1.0.0\r\n",
      "python     19  32 jovyan  mem       REG                8,1    92355           530855 /opt/conda/lib/python3.6/lib-dynload/_hashlib.cpython-36m-x86_64-linux-gnu.so\r\n",
      "python     19  32 jovyan  mem       REG                8,1   159628           530874 /opt/conda/lib/python3.6/lib-dynload/_struct.cpython-36m-x86_64-linux-gnu.so\r\n",
      "python     19  32 jovyan  mem       REG                8,1    20447           530863 /opt/conda/lib/python3.6/lib-dynload/_opcode.cpython-36m-x86_64-linux-gnu.so\r\n",
      "python     19  32 jovyan  mem       REG                8,1    35500           530885 /opt/conda/lib/python3.6/lib-dynload/grp.cpython-36m-x86_64-linux-gnu.so\r\n",
      "python     19  32 jovyan  mem       REG                8,1   803563           529528 /opt/conda/lib/liblzma.so.5.2.3\r\n",
      "python     19  32 jovyan  mem       REG                8,1   117498           530859 /opt/conda/lib/python3.6/lib-dynload/_lzma.cpython-36m-x86_64-linux-gnu.so\r\n",
      "python     19  32 jovyan  mem       REG                8,1   269237           530839 /opt/conda/lib/python3.6/lib-dynload/_bz2.cpython-36m-x86_64-linux-gnu.so\r\n",
      "python     19  32 jovyan  mem       REG                8,1   127973           529602 /opt/conda/lib/libz.so.1.2.11\r\n",
      "python     19  32 jovyan  mem       REG                8,1   116664           530900 /opt/conda/lib/python3.6/lib-dynload/zlib.cpython-36m-x86_64-linux-gnu.so\r\n",
      "python     19  32 jovyan  mem       REG                8,1   210293           530886 /opt/conda/lib/python3.6/lib-dynload/math.cpython-36m-x86_64-linux-gnu.so\r\n",
      "python     19  32 jovyan  mem       REG                8,1    79124           530894 /opt/conda/lib/python3.6/lib-dynload/select.cpython-36m-x86_64-linux-gnu.so\r\n",
      "python     19  32 jovyan  mem       REG                8,1    85443           530865 /opt/conda/lib/python3.6/lib-dynload/_posixsubprocess.cpython-36m-x86_64-linux-gnu.so\r\n",
      "python     19  32 jovyan  mem       REG                8,1   164929           530857 /opt/conda/lib/python3.6/lib-dynload/_json.cpython-36m-x86_64-linux-gnu.so\r\n",
      "python     19  32 jovyan  mem       REG                8,1    47058           530856 /opt/conda/lib/python3.6/lib-dynload/_heapq.cpython-36m-x86_64-linux-gnu.so\r\n",
      "python     19  32 jovyan  mem       REG                8,1  1868984           394365 /lib/x86_64-linux-gnu/libc-2.23.so\r\n",
      "python     19  32 jovyan  mem       REG                8,1  1088952           394397 /lib/x86_64-linux-gnu/libm-2.23.so\r\n",
      "python     19  32 jovyan  mem       REG                8,1    31712           394440 /lib/x86_64-linux-gnu/librt-2.23.so\r\n",
      "python     19  32 jovyan  mem       REG                8,1    10656           394460 /lib/x86_64-linux-gnu/libutil-2.23.so\r\n",
      "python     19  32 jovyan  mem       REG                8,1    14608           394378 /lib/x86_64-linux-gnu/libdl-2.23.so\r\n",
      "python     19  32 jovyan  mem       REG                8,1   138696           394433 /lib/x86_64-linux-gnu/libpthread-2.23.so\r\n",
      "python     19  32 jovyan  mem       REG                8,1 12444567           529556 /opt/conda/lib/libpython3.6m.so.1.0\r\n",
      "python     19  32 jovyan  mem       REG                8,1   162632           394345 /lib/x86_64-linux-gnu/ld-2.23.so\r\n",
      "python     19  32 jovyan  mem       REG                8,1    26258           395222 /usr/lib/x86_64-linux-gnu/gconv/gconv-modules.cache\r\n",
      "python     19  32 jovyan  mem       REG                8,1  1668976           656066 /usr/lib/locale/locale-archive\r\n",
      "python     19  32 jovyan    0r     FIFO               0,10      0t0           183037 pipe\r\n",
      "python     19  32 jovyan    1w     FIFO               0,10      0t0           177822 pipe\r\n",
      "python     19  32 jovyan    2w     FIFO               0,10      0t0           177823 pipe\r\n",
      "python     19  32 jovyan    3r      CHR                1,9      0t0           177867 /dev/urandom\r\n",
      "python     19  32 jovyan    4w      CHR                1,3      0t0           177862 /dev/null\r\n",
      "python     19  32 jovyan    5u  a_inode               0,11        0            11923 [eventfd]\r\n",
      "python     19  32 jovyan    6r      CHR                1,9      0t0           177867 /dev/urandom\r\n",
      "python     19  32 jovyan    7u  a_inode               0,11        0            11923 [eventfd]\r\n",
      "python     19  32 jovyan    8u  a_inode               0,11        0            11923 [eventpoll]\r\n",
      "python     19  32 jovyan    9u  a_inode               0,11        0            11923 [eventfd]\r\n",
      "python     19  32 jovyan   10u  a_inode               0,11        0            11923 [eventpoll]\r\n",
      "python     19  32 jovyan   11u  a_inode               0,11        0            11923 [eventfd]\r\n",
      "python     19  32 jovyan   12u     IPv4             183100      0t0              TCP localhost:54603 (LISTEN)\r\n",
      "python     19  32 jovyan   13u  a_inode               0,11        0            11923 [eventfd]\r\n",
      "python     19  32 jovyan   14u     IPv4             183102      0t0              TCP localhost:37155 (LISTEN)\r\n",
      "python     19  32 jovyan   15u  a_inode               0,11        0            11923 [eventfd]\r\n",
      "python     19  32 jovyan   16u     IPv4             183104      0t0              TCP localhost:33055 (LISTEN)\r\n",
      "python     19  32 jovyan   17u  a_inode               0,11        0            11923 [eventfd]\r\n",
      "python     19  32 jovyan   18u     IPv4             183106      0t0              TCP localhost:39407 (LISTEN)\r\n",
      "python     19  32 jovyan   19u  a_inode               0,11        0            11923 [eventpoll]\r\n",
      "python     19  32 jovyan   20u     unix 0x0000000000000000      0t0           183107 type=STREAM\r\n",
      "python     19  32 jovyan   21u     unix 0x0000000000000000      0t0           183108 type=STREAM\r\n",
      "python     19  32 jovyan   22u  a_inode               0,11        0            11923 [eventfd]\r\n",
      "python     19  32 jovyan   23u     IPv4             183110      0t0              TCP localhost:43393 (LISTEN)\r\n",
      "python     19  32 jovyan   24u  a_inode               0,11        0            11923 [eventfd]\r\n",
      "python     19  32 jovyan   25u  a_inode               0,11        0            11923 [eventfd]\r\n",
      "python     19  32 jovyan   26u  a_inode               0,11        0            11923 [eventfd]\r\n",
      "python     19  32 jovyan   27u  a_inode               0,11        0            11923 [eventpoll]\r\n",
      "python     19  32 jovyan   28u  a_inode               0,11        0            11923 [eventfd]\r\n",
      "python     19  32 jovyan   29u  a_inode               0,11        0            11923 [eventpoll]\r\n",
      "python     19  32 jovyan   30u  a_inode               0,11        0            11923 [eventfd]\r\n",
      "python     19  32 jovyan   31u     IPv4             184683      0t0              TCP localhost:51695 (LISTEN)\r\n",
      "python     19  32 jovyan   32u  a_inode               0,11        0            11923 [eventpoll]\r\n",
      "python     19  32 jovyan   33u     unix 0x0000000000000000      0t0           184684 type=STREAM\r\n",
      "python     19  32 jovyan   34u     unix 0x0000000000000000      0t0           184685 type=STREAM\r\n",
      "python     19  32 jovyan   35u      REG                8,1    28672           262667 /home/jovyan/.ipython/profile_default/history.sqlite\r\n",
      "python     19  32 jovyan   36u      REG                8,1    28672           262667 /home/jovyan/.ipython/profile_default/history.sqlite\r\n",
      "python     19  32 jovyan   37u     IPv4             183114      0t0              TCP localhost:39407->localhost:50562 (ESTABLISHED)\r\n",
      "python     19  32 jovyan   38u     IPv4             183115      0t0              TCP localhost:33055->localhost:40336 (ESTABLISHED)\r\n",
      "python     19  32 jovyan   39u  a_inode               0,11        0            11923 [eventfd]\r\n",
      "python     19  32 jovyan   40u     IPv4             183150      0t0              TCP localhost:54603->localhost:35854 (ESTABLISHED)\r\n",
      "python     19  32 jovyan   41u     IPv4             183152      0t0              TCP localhost:39407->localhost:50580 (ESTABLISHED)\r\n",
      "python     19  32 jovyan   42u     IPv4             183154      0t0              TCP localhost:37155->localhost:36396 (ESTABLISHED)\r\n",
      "python     19  32 jovyan   43u  a_inode               0,11        0            11923 [eventfd]\r\n",
      "python     19  32 jovyan   47u      CHR                5,2      0t0                2 /dev/pts/ptmx\r\n",
      "python     19  33 jovyan  cwd       DIR               0,61     4096 9570149208167180 /home/jovyan/openforum2018\r\n",
      "python     19  33 jovyan  rtd       DIR               0,59     4096           181289 /\r\n",
      "python     19  33 jovyan  txt       REG                8,1    14857           529056 /opt/conda/bin/python3.6\r\n",
      "python     19  33 jovyan  mem       REG                8,1    47600           394414 /lib/x86_64-linux-gnu/libnss_files-2.23.so\r\n",
      "python     19  33 jovyan  mem       REG                8,1    47648           394418 /lib/x86_64-linux-gnu/libnss_nis-2.23.so\r\n",
      "python     19  33 jovyan  mem       REG                8,1    93128           394408 /lib/x86_64-linux-gnu/libnsl-2.23.so\r\n",
      "python     19  33 jovyan  mem       REG                8,1    35688           394410 /lib/x86_64-linux-gnu/libnss_compat-2.23.so\r\n",
      "python     19  33 jovyan  mem       REG                8,1  1686154           530853 /opt/conda/lib/python3.6/lib-dynload/_decimal.cpython-36m-x86_64-linux-gnu.so\r\n",
      "python     19  33 jovyan  mem       REG                8,1   375919           530873 /opt/conda/lib/python3.6/lib-dynload/_ssl.cpython-36m-x86_64-linux-gnu.so\r\n",
      "python     19  33 jovyan  mem       REG                8,1   194106           530836 /opt/conda/lib/python3.6/lib-dynload/_asyncio.cpython-36m-x86_64-linux-gnu.so\r\n",
      "python     19  33 jovyan  mem       REG                8,1    48787           530862 /opt/conda/lib/python3.6/lib-dynload/_multiprocessing.cpython-36m-x86_64-linux-gnu.so\r\n",
      "python     19  33 jovyan  mem       REG                8,1   316595           530850 /opt/conda/lib/python3.6/lib-dynload/_curses.cpython-36m-x86_64-linux-gnu.so\r\n",
      "python     19  33 jovyan  mem       REG                8,1    17873          1708597 /opt/conda/lib/python3.6/site-packages/tornado/speedups.cpython-36m-x86_64-linux-gnu.so\r\n",
      "python     19  33 jovyan  mem       REG                8,1    18976           394463 /lib/x86_64-linux-gnu/libuuid.so.1.3.0\r\n",
      "python     19  33 jovyan  mem       REG                8,1   228724          2230844 /opt/conda/lib/python3.6/site-packages/zmq/backend/cython/_device.cpython-36m-x86_64-linux-gnu.so\r\n",
      "python     19  33 jovyan  mem       REG                8,1    98032          2230846 /opt/conda/lib/python3.6/site-packages/zmq/backend/cython/_version.cpython-36m-x86_64-linux-gnu.so\r\n",
      "python     19  33 jovyan  mem       REG                8,1   327947          2230845 /opt/conda/lib/python3.6/site-packages/zmq/backend/cython/_poll.cpython-36m-x86_64-linux-gnu.so\r\n",
      "python     19  33 jovyan  mem       REG                8,1   149930          2230859 /opt/conda/lib/python3.6/site-packages/zmq/backend/cython/utils.cpython-36m-x86_64-linux-gnu.so\r\n",
      "python     19  33 jovyan  mem       REG                8,1   730559          2230857 /opt/conda/lib/python3.6/site-packages/zmq/backend/cython/socket.cpython-36m-x86_64-linux-gnu.so\r\n",
      "python     19  33 jovyan  mem       REG                8,1   311141          2230851 /opt/conda/lib/python3.6/site-packages/zmq/backend/cython/context.cpython-36m-x86_64-linux-gnu.so\r\n",
      "python     19  33 jovyan  mem       REG                8,1   452817          2230855 /opt/conda/lib/python3.6/site-packages/zmq/backend/cython/message.cpython-36m-x86_64-linux-gnu.so\r\n",
      "python     19  33 jovyan  mem       REG                8,1   115893          2230853 /opt/conda/lib/python3.6/site-packages/zmq/backend/cython/error.cpython-36m-x86_64-linux-gnu.so\r\n",
      "python     19  33 jovyan  mem       REG                8,1   706232           529510 /opt/conda/lib/libgcc_s.so.1\r\n",
      "python     19  33 jovyan  mem       REG                8,1  8167184           529575 /opt/conda/lib/libstdc++.so.6.0.24\r\n",
      "python     19  33 jovyan  mem       REG                8,1  1289027           661987 /opt/conda/lib/libzmq.so.5.1.5\r\n",
      "python     19  33 jovyan  mem       REG                8,1   228614          2230849 /opt/conda/lib/python3.6/site-packages/zmq/backend/cython/constants.cpython-36m-x86_64-linux-gnu.so\r\n",
      "python     19  33 jovyan  mem       REG                8,1   617309           530848 /opt/conda/lib/python3.6/lib-dynload/_ctypes.cpython-36m-x86_64-linux-gnu.so\r\n",
      "python     19  33 jovyan  mem       REG                8,1    64549           530858 /opt/conda/lib/python3.6/lib-dynload/_lsprof.cpython-36m-x86_64-linux-gnu.so\r\n",
      "python     19  33 jovyan  mem       REG                8,1   339757           530871 /opt/conda/lib/python3.6/lib-dynload/_socket.cpython-36m-x86_64-linux-gnu.so\r\n",
      "python     19  33 jovyan  mem       REG                8,1   963624           530898 /opt/conda/lib/python3.6/lib-dynload/unicodedata.cpython-36m-x86_64-linux-gnu.so\r\n",
      "python     19  33 jovyan  mem       REG                8,1   187746           530880 /opt/conda/lib/python3.6/lib-dynload/array.cpython-36m-x86_64-linux-gnu.so\r\n",
      "python     19  33 jovyan  mem       REG                8,1   249585           529581 /opt/conda/lib/libtinfo.so.5.9\r\n",
      "python     19  33 jovyan  mem       REG                8,1   176142           529542 /opt/conda/lib/libncurses.so.5.9\r\n",
      "python     19  33 jovyan  mem       REG                8,1  1165114           529569 /opt/conda/lib/libsqlite3.so.0.8.6\r\n",
      "python     19  33 jovyan  mem       REG                8,1   295030           530872 /opt/conda/lib/python3.6/lib-dynload/_sqlite3.cpython-36m-x86_64-linux-gnu.so\r\n",
      "python     19  33 jovyan  mem       REG                8,1   433613           530864 /opt/conda/lib/python3.6/lib-dynload/_pickle.cpython-36m-x86_64-linux-gnu.so\r\n",
      "python     19  33 jovyan  mem       REG                8,1   470165           530852 /opt/conda/lib/python3.6/lib-dynload/_datetime.cpython-36m-x86_64-linux-gnu.so\r\n",
      "python     19  33 jovyan  mem       REG                8,1    78638           530882 /opt/conda/lib/python3.6/lib-dynload/binascii.cpython-36m-x86_64-linux-gnu.so\r\n",
      "python     19  33 jovyan  mem       REG                8,1    32268           530893 /opt/conda/lib/python3.6/lib-dynload/resource.cpython-36m-x86_64-linux-gnu.so\r\n",
      "python     19  33 jovyan  mem       REG                8,1    41463           530884 /opt/conda/lib/python3.6/lib-dynload/fcntl.cpython-36m-x86_64-linux-gnu.so\r\n",
      "python     19  33 jovyan  mem       REG                8,1    46964           530897 /opt/conda/lib/python3.6/lib-dynload/termios.cpython-36m-x86_64-linux-gnu.so\r\n",
      "python     19  33 jovyan  mem       REG                8,1    37999           530866 /opt/conda/lib/python3.6/lib-dynload/_random.cpython-36m-x86_64-linux-gnu.so\r\n",
      "python     19  33 jovyan  mem       REG                8,1    33663           530837 /opt/conda/lib/python3.6/lib-dynload/_bisect.cpython-36m-x86_64-linux-gnu.so\r\n",
      "python     19  33 jovyan  mem       REG                8,1   355122           530869 /opt/conda/lib/python3.6/lib-dynload/_sha3.cpython-36m-x86_64-linux-gnu.so\r\n",
      "python     19  33 jovyan  mem       REG                8,1   329909           530838 /opt/conda/lib/python3.6/lib-dynload/_blake2.cpython-36m-x86_64-linux-gnu.so\r\n",
      "python     19  33 jovyan  mem       REG                8,1  2692340           529490 /opt/conda/lib/libcrypto.so.1.0.0\r\n",
      "python     19  33 jovyan  mem       REG                8,1   549929           529572 /opt/conda/lib/libssl.so.1.0.0\r\n",
      "python     19  33 jovyan  mem       REG                8,1    92355           530855 /opt/conda/lib/python3.6/lib-dynload/_hashlib.cpython-36m-x86_64-linux-gnu.so\r\n",
      "python     19  33 jovyan  mem       REG                8,1   159628           530874 /opt/conda/lib/python3.6/lib-dynload/_struct.cpython-36m-x86_64-linux-gnu.so\r\n",
      "python     19  33 jovyan  mem       REG                8,1    20447           530863 /opt/conda/lib/python3.6/lib-dynload/_opcode.cpython-36m-x86_64-linux-gnu.so\r\n",
      "python     19  33 jovyan  mem       REG                8,1    35500           530885 /opt/conda/lib/python3.6/lib-dynload/grp.cpython-36m-x86_64-linux-gnu.so\r\n",
      "python     19  33 jovyan  mem       REG                8,1   803563           529528 /opt/conda/lib/liblzma.so.5.2.3\r\n",
      "python     19  33 jovyan  mem       REG                8,1   117498           530859 /opt/conda/lib/python3.6/lib-dynload/_lzma.cpython-36m-x86_64-linux-gnu.so\r\n",
      "python     19  33 jovyan  mem       REG                8,1   269237           530839 /opt/conda/lib/python3.6/lib-dynload/_bz2.cpython-36m-x86_64-linux-gnu.so\r\n",
      "python     19  33 jovyan  mem       REG                8,1   127973           529602 /opt/conda/lib/libz.so.1.2.11\r\n",
      "python     19  33 jovyan  mem       REG                8,1   116664           530900 /opt/conda/lib/python3.6/lib-dynload/zlib.cpython-36m-x86_64-linux-gnu.so\r\n",
      "python     19  33 jovyan  mem       REG                8,1   210293           530886 /opt/conda/lib/python3.6/lib-dynload/math.cpython-36m-x86_64-linux-gnu.so\r\n",
      "python     19  33 jovyan  mem       REG                8,1    79124           530894 /opt/conda/lib/python3.6/lib-dynload/select.cpython-36m-x86_64-linux-gnu.so\r\n",
      "python     19  33 jovyan  mem       REG                8,1    85443           530865 /opt/conda/lib/python3.6/lib-dynload/_posixsubprocess.cpython-36m-x86_64-linux-gnu.so\r\n",
      "python     19  33 jovyan  mem       REG                8,1   164929           530857 /opt/conda/lib/python3.6/lib-dynload/_json.cpython-36m-x86_64-linux-gnu.so\r\n",
      "python     19  33 jovyan  mem       REG                8,1    47058           530856 /opt/conda/lib/python3.6/lib-dynload/_heapq.cpython-36m-x86_64-linux-gnu.so\r\n",
      "python     19  33 jovyan  mem       REG                8,1  1868984           394365 /lib/x86_64-linux-gnu/libc-2.23.so\r\n",
      "python     19  33 jovyan  mem       REG                8,1  1088952           394397 /lib/x86_64-linux-gnu/libm-2.23.so\r\n",
      "python     19  33 jovyan  mem       REG                8,1    31712           394440 /lib/x86_64-linux-gnu/librt-2.23.so\r\n",
      "python     19  33 jovyan  mem       REG                8,1    10656           394460 /lib/x86_64-linux-gnu/libutil-2.23.so\r\n",
      "python     19  33 jovyan  mem       REG                8,1    14608           394378 /lib/x86_64-linux-gnu/libdl-2.23.so\r\n",
      "python     19  33 jovyan  mem       REG                8,1   138696           394433 /lib/x86_64-linux-gnu/libpthread-2.23.so\r\n",
      "python     19  33 jovyan  mem       REG                8,1 12444567           529556 /opt/conda/lib/libpython3.6m.so.1.0\r\n",
      "python     19  33 jovyan  mem       REG                8,1   162632           394345 /lib/x86_64-linux-gnu/ld-2.23.so\r\n",
      "python     19  33 jovyan  mem       REG                8,1    26258           395222 /usr/lib/x86_64-linux-gnu/gconv/gconv-modules.cache\r\n",
      "python     19  33 jovyan  mem       REG                8,1  1668976           656066 /usr/lib/locale/locale-archive\r\n",
      "python     19  33 jovyan    0r     FIFO               0,10      0t0           183037 pipe\r\n",
      "python     19  33 jovyan    1w     FIFO               0,10      0t0           177822 pipe\r\n",
      "python     19  33 jovyan    2w     FIFO               0,10      0t0           177823 pipe\r\n",
      "python     19  33 jovyan    3r      CHR                1,9      0t0           177867 /dev/urandom\r\n",
      "python     19  33 jovyan    4w      CHR                1,3      0t0           177862 /dev/null\r\n",
      "python     19  33 jovyan    5u  a_inode               0,11        0            11923 [eventfd]\r\n",
      "python     19  33 jovyan    6r      CHR                1,9      0t0           177867 /dev/urandom\r\n",
      "python     19  33 jovyan    7u  a_inode               0,11        0            11923 [eventfd]\r\n",
      "python     19  33 jovyan    8u  a_inode               0,11        0            11923 [eventpoll]\r\n",
      "python     19  33 jovyan    9u  a_inode               0,11        0            11923 [eventfd]\r\n",
      "python     19  33 jovyan   10u  a_inode               0,11        0            11923 [eventpoll]\r\n",
      "python     19  33 jovyan   11u  a_inode               0,11        0            11923 [eventfd]\r\n",
      "python     19  33 jovyan   12u     IPv4             183100      0t0              TCP localhost:54603 (LISTEN)\r\n",
      "python     19  33 jovyan   13u  a_inode               0,11        0            11923 [eventfd]\r\n",
      "python     19  33 jovyan   14u     IPv4             183102      0t0              TCP localhost:37155 (LISTEN)\r\n",
      "python     19  33 jovyan   15u  a_inode               0,11        0            11923 [eventfd]\r\n",
      "python     19  33 jovyan   16u     IPv4             183104      0t0              TCP localhost:33055 (LISTEN)\r\n",
      "python     19  33 jovyan   17u  a_inode               0,11        0            11923 [eventfd]\r\n",
      "python     19  33 jovyan   18u     IPv4             183106      0t0              TCP localhost:39407 (LISTEN)\r\n",
      "python     19  33 jovyan   19u  a_inode               0,11        0            11923 [eventpoll]\r\n",
      "python     19  33 jovyan   20u     unix 0x0000000000000000      0t0           183107 type=STREAM\r\n",
      "python     19  33 jovyan   21u     unix 0x0000000000000000      0t0           183108 type=STREAM\r\n",
      "python     19  33 jovyan   22u  a_inode               0,11        0            11923 [eventfd]\r\n",
      "python     19  33 jovyan   23u     IPv4             183110      0t0              TCP localhost:43393 (LISTEN)\r\n",
      "python     19  33 jovyan   24u  a_inode               0,11        0            11923 [eventfd]\r\n",
      "python     19  33 jovyan   25u  a_inode               0,11        0            11923 [eventfd]\r\n",
      "python     19  33 jovyan   26u  a_inode               0,11        0            11923 [eventfd]\r\n",
      "python     19  33 jovyan   27u  a_inode               0,11        0            11923 [eventpoll]\r\n",
      "python     19  33 jovyan   28u  a_inode               0,11        0            11923 [eventfd]\r\n",
      "python     19  33 jovyan   29u  a_inode               0,11        0            11923 [eventpoll]\r\n",
      "python     19  33 jovyan   30u  a_inode               0,11        0            11923 [eventfd]\r\n",
      "python     19  33 jovyan   31u     IPv4             184683      0t0              TCP localhost:51695 (LISTEN)\r\n",
      "python     19  33 jovyan   32u  a_inode               0,11        0            11923 [eventpoll]\r\n",
      "python     19  33 jovyan   33u     unix 0x0000000000000000      0t0           184684 type=STREAM\r\n",
      "python     19  33 jovyan   34u     unix 0x0000000000000000      0t0           184685 type=STREAM\r\n",
      "python     19  33 jovyan   35u      REG                8,1    28672           262667 /home/jovyan/.ipython/profile_default/history.sqlite\r\n",
      "python     19  33 jovyan   36u      REG                8,1    28672           262667 /home/jovyan/.ipython/profile_default/history.sqlite\r\n",
      "python     19  33 jovyan   37u     IPv4             183114      0t0              TCP localhost:39407->localhost:50562 (ESTABLISHED)\r\n",
      "python     19  33 jovyan   38u     IPv4             183115      0t0              TCP localhost:33055->localhost:40336 (ESTABLISHED)\r\n",
      "python     19  33 jovyan   39u  a_inode               0,11        0            11923 [eventfd]\r\n",
      "python     19  33 jovyan   40u     IPv4             183150      0t0              TCP localhost:54603->localhost:35854 (ESTABLISHED)\r\n",
      "python     19  33 jovyan   41u     IPv4             183152      0t0              TCP localhost:39407->localhost:50580 (ESTABLISHED)\r\n",
      "python     19  33 jovyan   42u     IPv4             183154      0t0              TCP localhost:37155->localhost:36396 (ESTABLISHED)\r\n",
      "python     19  33 jovyan   43u  a_inode               0,11        0            11923 [eventfd]\r\n",
      "python     19  33 jovyan   47u      CHR                5,2      0t0                2 /dev/pts/ptmx\r\n",
      "python     34     jovyan  cwd       DIR               0,61     4096 9570149208167180 /home/jovyan/openforum2018\r\n",
      "python     34     jovyan  rtd       DIR               0,59     4096           181289 /\r\n",
      "python     34     jovyan  txt       REG                8,1    14857           529056 /opt/conda/bin/python3.6\r\n",
      "python     34     jovyan  mem       REG                8,1  1686154           530853 /opt/conda/lib/python3.6/lib-dynload/_decimal.cpython-36m-x86_64-linux-gnu.so\r\n",
      "python     34     jovyan  mem       REG                8,1   375919           530873 /opt/conda/lib/python3.6/lib-dynload/_ssl.cpython-36m-x86_64-linux-gnu.so\r\n",
      "python     34     jovyan  mem       REG                8,1   194106           530836 /opt/conda/lib/python3.6/lib-dynload/_asyncio.cpython-36m-x86_64-linux-gnu.so\r\n",
      "python     34     jovyan  mem       REG                8,1    48787           530862 /opt/conda/lib/python3.6/lib-dynload/_multiprocessing.cpython-36m-x86_64-linux-gnu.so\r\n",
      "python     34     jovyan  mem       REG                8,1   316595           530850 /opt/conda/lib/python3.6/lib-dynload/_curses.cpython-36m-x86_64-linux-gnu.so\r\n",
      "python     34     jovyan  mem       REG                8,1    17873          1708597 /opt/conda/lib/python3.6/site-packages/tornado/speedups.cpython-36m-x86_64-linux-gnu.so\r\n",
      "python     34     jovyan  mem       REG                8,1    18976           394463 /lib/x86_64-linux-gnu/libuuid.so.1.3.0\r\n",
      "python     34     jovyan  mem       REG                8,1   228724          2230844 /opt/conda/lib/python3.6/site-packages/zmq/backend/cython/_device.cpython-36m-x86_64-linux-gnu.so\r\n"
     ]
    },
    {
     "name": "stdout",
     "output_type": "stream",
     "text": [
      "python     34     jovyan  mem       REG                8,1    98032          2230846 /opt/conda/lib/python3.6/site-packages/zmq/backend/cython/_version.cpython-36m-x86_64-linux-gnu.so\r\n",
      "python     34     jovyan  mem       REG                8,1   327947          2230845 /opt/conda/lib/python3.6/site-packages/zmq/backend/cython/_poll.cpython-36m-x86_64-linux-gnu.so\r\n",
      "python     34     jovyan  mem       REG                8,1   149930          2230859 /opt/conda/lib/python3.6/site-packages/zmq/backend/cython/utils.cpython-36m-x86_64-linux-gnu.so\r\n",
      "python     34     jovyan  mem       REG                8,1   730559          2230857 /opt/conda/lib/python3.6/site-packages/zmq/backend/cython/socket.cpython-36m-x86_64-linux-gnu.so\r\n",
      "python     34     jovyan  mem       REG                8,1   311141          2230851 /opt/conda/lib/python3.6/site-packages/zmq/backend/cython/context.cpython-36m-x86_64-linux-gnu.so\r\n",
      "python     34     jovyan  mem       REG                8,1   452817          2230855 /opt/conda/lib/python3.6/site-packages/zmq/backend/cython/message.cpython-36m-x86_64-linux-gnu.so\r\n",
      "python     34     jovyan  mem       REG                8,1   115893          2230853 /opt/conda/lib/python3.6/site-packages/zmq/backend/cython/error.cpython-36m-x86_64-linux-gnu.so\r\n",
      "python     34     jovyan  mem       REG                8,1   706232           529510 /opt/conda/lib/libgcc_s.so.1\r\n",
      "python     34     jovyan  mem       REG                8,1  8167184           529575 /opt/conda/lib/libstdc++.so.6.0.24\r\n",
      "python     34     jovyan  mem       REG                8,1  1289027           661987 /opt/conda/lib/libzmq.so.5.1.5\r\n",
      "python     34     jovyan  mem       REG                8,1   228614          2230849 /opt/conda/lib/python3.6/site-packages/zmq/backend/cython/constants.cpython-36m-x86_64-linux-gnu.so\r\n",
      "python     34     jovyan  mem       REG                8,1   617309           530848 /opt/conda/lib/python3.6/lib-dynload/_ctypes.cpython-36m-x86_64-linux-gnu.so\r\n",
      "python     34     jovyan  mem       REG                8,1    64549           530858 /opt/conda/lib/python3.6/lib-dynload/_lsprof.cpython-36m-x86_64-linux-gnu.so\r\n",
      "python     34     jovyan  mem       REG                8,1   339757           530871 /opt/conda/lib/python3.6/lib-dynload/_socket.cpython-36m-x86_64-linux-gnu.so\r\n",
      "python     34     jovyan  mem       REG                8,1   963624           530898 /opt/conda/lib/python3.6/lib-dynload/unicodedata.cpython-36m-x86_64-linux-gnu.so\r\n",
      "python     34     jovyan  mem       REG                8,1   187746           530880 /opt/conda/lib/python3.6/lib-dynload/array.cpython-36m-x86_64-linux-gnu.so\r\n",
      "python     34     jovyan  mem       REG                8,1   249585           529581 /opt/conda/lib/libtinfo.so.5.9\r\n",
      "python     34     jovyan  mem       REG                8,1   176142           529542 /opt/conda/lib/libncurses.so.5.9\r\n",
      "python     34     jovyan  mem       REG                8,1  1165114           529569 /opt/conda/lib/libsqlite3.so.0.8.6\r\n",
      "python     34     jovyan  mem       REG                8,1   295030           530872 /opt/conda/lib/python3.6/lib-dynload/_sqlite3.cpython-36m-x86_64-linux-gnu.so\r\n",
      "python     34     jovyan  mem       REG                8,1   433613           530864 /opt/conda/lib/python3.6/lib-dynload/_pickle.cpython-36m-x86_64-linux-gnu.so\r\n",
      "python     34     jovyan  mem       REG                8,1   470165           530852 /opt/conda/lib/python3.6/lib-dynload/_datetime.cpython-36m-x86_64-linux-gnu.so\r\n",
      "python     34     jovyan  mem       REG                8,1    78638           530882 /opt/conda/lib/python3.6/lib-dynload/binascii.cpython-36m-x86_64-linux-gnu.so\r\n",
      "python     34     jovyan  mem       REG                8,1    32268           530893 /opt/conda/lib/python3.6/lib-dynload/resource.cpython-36m-x86_64-linux-gnu.so\r\n",
      "python     34     jovyan  mem       REG                8,1    41463           530884 /opt/conda/lib/python3.6/lib-dynload/fcntl.cpython-36m-x86_64-linux-gnu.so\r\n",
      "python     34     jovyan  mem       REG                8,1    46964           530897 /opt/conda/lib/python3.6/lib-dynload/termios.cpython-36m-x86_64-linux-gnu.so\r\n",
      "python     34     jovyan  mem       REG                8,1    37999           530866 /opt/conda/lib/python3.6/lib-dynload/_random.cpython-36m-x86_64-linux-gnu.so\r\n",
      "python     34     jovyan  mem       REG                8,1    33663           530837 /opt/conda/lib/python3.6/lib-dynload/_bisect.cpython-36m-x86_64-linux-gnu.so\r\n",
      "python     34     jovyan  mem       REG                8,1   355122           530869 /opt/conda/lib/python3.6/lib-dynload/_sha3.cpython-36m-x86_64-linux-gnu.so\r\n",
      "python     34     jovyan  mem       REG                8,1   329909           530838 /opt/conda/lib/python3.6/lib-dynload/_blake2.cpython-36m-x86_64-linux-gnu.so\r\n",
      "python     34     jovyan  mem       REG                8,1  2692340           529490 /opt/conda/lib/libcrypto.so.1.0.0\r\n",
      "python     34     jovyan  mem       REG                8,1   549929           529572 /opt/conda/lib/libssl.so.1.0.0\r\n",
      "python     34     jovyan  mem       REG                8,1    92355           530855 /opt/conda/lib/python3.6/lib-dynload/_hashlib.cpython-36m-x86_64-linux-gnu.so\r\n",
      "python     34     jovyan  mem       REG                8,1   159628           530874 /opt/conda/lib/python3.6/lib-dynload/_struct.cpython-36m-x86_64-linux-gnu.so\r\n",
      "python     34     jovyan  mem       REG                8,1    20447           530863 /opt/conda/lib/python3.6/lib-dynload/_opcode.cpython-36m-x86_64-linux-gnu.so\r\n",
      "python     34     jovyan  mem       REG                8,1    35500           530885 /opt/conda/lib/python3.6/lib-dynload/grp.cpython-36m-x86_64-linux-gnu.so\r\n",
      "python     34     jovyan  mem       REG                8,1   803563           529528 /opt/conda/lib/liblzma.so.5.2.3\r\n",
      "python     34     jovyan  mem       REG                8,1   117498           530859 /opt/conda/lib/python3.6/lib-dynload/_lzma.cpython-36m-x86_64-linux-gnu.so\r\n",
      "python     34     jovyan  mem       REG                8,1   269237           530839 /opt/conda/lib/python3.6/lib-dynload/_bz2.cpython-36m-x86_64-linux-gnu.so\r\n",
      "python     34     jovyan  mem       REG                8,1   127973           529602 /opt/conda/lib/libz.so.1.2.11\r\n",
      "python     34     jovyan  mem       REG                8,1   116664           530900 /opt/conda/lib/python3.6/lib-dynload/zlib.cpython-36m-x86_64-linux-gnu.so\r\n",
      "python     34     jovyan  mem       REG                8,1   210293           530886 /opt/conda/lib/python3.6/lib-dynload/math.cpython-36m-x86_64-linux-gnu.so\r\n",
      "python     34     jovyan  mem       REG                8,1    79124           530894 /opt/conda/lib/python3.6/lib-dynload/select.cpython-36m-x86_64-linux-gnu.so\r\n",
      "python     34     jovyan  mem       REG                8,1    85443           530865 /opt/conda/lib/python3.6/lib-dynload/_posixsubprocess.cpython-36m-x86_64-linux-gnu.so\r\n",
      "python     34     jovyan  mem       REG                8,1   164929           530857 /opt/conda/lib/python3.6/lib-dynload/_json.cpython-36m-x86_64-linux-gnu.so\r\n",
      "python     34     jovyan  mem       REG                8,1    47058           530856 /opt/conda/lib/python3.6/lib-dynload/_heapq.cpython-36m-x86_64-linux-gnu.so\r\n",
      "python     34     jovyan  mem       REG                8,1  1868984           394365 /lib/x86_64-linux-gnu/libc-2.23.so\r\n",
      "python     34     jovyan  mem       REG                8,1  1088952           394397 /lib/x86_64-linux-gnu/libm-2.23.so\r\n",
      "python     34     jovyan  mem       REG                8,1    31712           394440 /lib/x86_64-linux-gnu/librt-2.23.so\r\n",
      "python     34     jovyan  mem       REG                8,1    10656           394460 /lib/x86_64-linux-gnu/libutil-2.23.so\r\n",
      "python     34     jovyan  mem       REG                8,1    14608           394378 /lib/x86_64-linux-gnu/libdl-2.23.so\r\n",
      "python     34     jovyan  mem       REG                8,1   138696           394433 /lib/x86_64-linux-gnu/libpthread-2.23.so\r\n",
      "python     34     jovyan  mem       REG                8,1 12444567           529556 /opt/conda/lib/libpython3.6m.so.1.0\r\n",
      "python     34     jovyan  mem       REG                8,1   162632           394345 /lib/x86_64-linux-gnu/ld-2.23.so\r\n",
      "python     34     jovyan  mem       REG                8,1    26258           395222 /usr/lib/x86_64-linux-gnu/gconv/gconv-modules.cache\r\n",
      "python     34     jovyan  mem       REG                8,1  1668976           656066 /usr/lib/locale/locale-archive\r\n",
      "python     34     jovyan    0r     FIFO               0,10      0t0           183161 pipe\r\n",
      "python     34     jovyan    1w     FIFO               0,10      0t0           177822 pipe\r\n",
      "python     34     jovyan    2w     FIFO               0,10      0t0           177823 pipe\r\n",
      "python     34     jovyan    3r      CHR                1,9      0t0           177867 /dev/urandom\r\n",
      "python     34     jovyan    4w      CHR                1,3      0t0           177862 /dev/null\r\n",
      "python     34     jovyan    5u  a_inode               0,11        0            11923 [eventfd]\r\n",
      "python     34     jovyan    6r      CHR                1,9      0t0           177867 /dev/urandom\r\n",
      "python     34     jovyan    7u  a_inode               0,11        0            11923 [eventfd]\r\n",
      "python     34     jovyan    8u  a_inode               0,11        0            11923 [eventpoll]\r\n",
      "python     34     jovyan    9u  a_inode               0,11        0            11923 [eventfd]\r\n",
      "python     34     jovyan   10u  a_inode               0,11        0            11923 [eventpoll]\r\n",
      "python     34     jovyan   11u  a_inode               0,11        0            11923 [eventfd]\r\n",
      "python     34     jovyan   12u     IPv4             184807      0t0              TCP localhost:56409 (LISTEN)\r\n",
      "python     34     jovyan   13u  a_inode               0,11        0            11923 [eventfd]\r\n",
      "python     34     jovyan   14u     IPv4             184809      0t0              TCP localhost:37411 (LISTEN)\r\n",
      "python     34     jovyan   15u  a_inode               0,11        0            11923 [eventfd]\r\n",
      "python     34     jovyan   16u     IPv4             184811      0t0              TCP localhost:43441 (LISTEN)\r\n",
      "python     34     jovyan   17u  a_inode               0,11        0            11923 [eventfd]\r\n",
      "python     34     jovyan   18u     IPv4             184813      0t0              TCP localhost:50275 (LISTEN)\r\n",
      "python     34     jovyan   19u  a_inode               0,11        0            11923 [eventpoll]\r\n",
      "python     34     jovyan   20u     unix 0x0000000000000000      0t0           184814 type=STREAM\r\n",
      "python     34     jovyan   21u     unix 0x0000000000000000      0t0           184815 type=STREAM\r\n",
      "python     34     jovyan   22u  a_inode               0,11        0            11923 [eventfd]\r\n",
      "python     34     jovyan   23u     IPv4             184817      0t0              TCP localhost:36681 (LISTEN)\r\n",
      "python     34     jovyan   24u  a_inode               0,11        0            11923 [eventfd]\r\n",
      "python     34     jovyan   25u  a_inode               0,11        0            11923 [eventfd]\r\n",
      "python     34     jovyan   26u  a_inode               0,11        0            11923 [eventfd]\r\n",
      "python     34     jovyan   27u  a_inode               0,11        0            11923 [eventpoll]\r\n",
      "python     34     jovyan   28u  a_inode               0,11        0            11923 [eventfd]\r\n",
      "python     34     jovyan   29u  a_inode               0,11        0            11923 [eventpoll]\r\n",
      "python     34     jovyan   30u  a_inode               0,11        0            11923 [eventfd]\r\n",
      "python     34     jovyan   31u     IPv4             183196      0t0              TCP localhost:44415 (LISTEN)\r\n",
      "python     34     jovyan   32u  a_inode               0,11        0            11923 [eventpoll]\r\n",
      "python     34     jovyan   33u     unix 0x0000000000000000      0t0           184818 type=STREAM\r\n",
      "python     34     jovyan   34u     unix 0x0000000000000000      0t0           184819 type=STREAM\r\n",
      "python     34     jovyan   35u      REG                8,1    28672           262667 /home/jovyan/.ipython/profile_default/history.sqlite\r\n",
      "python     34     jovyan   36u      REG                8,1    28672           262667 /home/jovyan/.ipython/profile_default/history.sqlite\r\n",
      "python     34     jovyan   37u     IPv4             183197      0t0              TCP localhost:50275->localhost:49172 (ESTABLISHED)\r\n",
      "python     34     jovyan   38u     IPv4             183198      0t0              TCP localhost:43441->localhost:57652 (ESTABLISHED)\r\n",
      "python     34     jovyan   39u  a_inode               0,11        0            11923 [eventfd]\r\n",
      "python     34     jovyan   40u     IPv4             183205      0t0              TCP localhost:56409->localhost:55780 (ESTABLISHED)\r\n",
      "python     34     jovyan   41u     IPv4             183207      0t0              TCP localhost:50275->localhost:49190 (ESTABLISHED)\r\n",
      "python     34     jovyan   42u     IPv4             183209      0t0              TCP localhost:37411->localhost:49246 (ESTABLISHED)\r\n",
      "ZMQbg/0    34  39 jovyan  cwd       DIR               0,61     4096 9570149208167180 /home/jovyan/openforum2018\r\n",
      "ZMQbg/0    34  39 jovyan  rtd       DIR               0,59     4096           181289 /\r\n",
      "ZMQbg/0    34  39 jovyan  txt       REG                8,1    14857           529056 /opt/conda/bin/python3.6\r\n",
      "ZMQbg/0    34  39 jovyan  mem       REG                8,1  1686154           530853 /opt/conda/lib/python3.6/lib-dynload/_decimal.cpython-36m-x86_64-linux-gnu.so\r\n",
      "ZMQbg/0    34  39 jovyan  mem       REG                8,1   375919           530873 /opt/conda/lib/python3.6/lib-dynload/_ssl.cpython-36m-x86_64-linux-gnu.so\r\n",
      "ZMQbg/0    34  39 jovyan  mem       REG                8,1   194106           530836 /opt/conda/lib/python3.6/lib-dynload/_asyncio.cpython-36m-x86_64-linux-gnu.so\r\n",
      "ZMQbg/0    34  39 jovyan  mem       REG                8,1    48787           530862 /opt/conda/lib/python3.6/lib-dynload/_multiprocessing.cpython-36m-x86_64-linux-gnu.so\r\n",
      "ZMQbg/0    34  39 jovyan  mem       REG                8,1   316595           530850 /opt/conda/lib/python3.6/lib-dynload/_curses.cpython-36m-x86_64-linux-gnu.so\r\n",
      "ZMQbg/0    34  39 jovyan  mem       REG                8,1    17873          1708597 /opt/conda/lib/python3.6/site-packages/tornado/speedups.cpython-36m-x86_64-linux-gnu.so\r\n",
      "ZMQbg/0    34  39 jovyan  mem       REG                8,1    18976           394463 /lib/x86_64-linux-gnu/libuuid.so.1.3.0\r\n",
      "ZMQbg/0    34  39 jovyan  mem       REG                8,1   228724          2230844 /opt/conda/lib/python3.6/site-packages/zmq/backend/cython/_device.cpython-36m-x86_64-linux-gnu.so\r\n",
      "ZMQbg/0    34  39 jovyan  mem       REG                8,1    98032          2230846 /opt/conda/lib/python3.6/site-packages/zmq/backend/cython/_version.cpython-36m-x86_64-linux-gnu.so\r\n",
      "ZMQbg/0    34  39 jovyan  mem       REG                8,1   327947          2230845 /opt/conda/lib/python3.6/site-packages/zmq/backend/cython/_poll.cpython-36m-x86_64-linux-gnu.so\r\n",
      "ZMQbg/0    34  39 jovyan  mem       REG                8,1   149930          2230859 /opt/conda/lib/python3.6/site-packages/zmq/backend/cython/utils.cpython-36m-x86_64-linux-gnu.so\r\n",
      "ZMQbg/0    34  39 jovyan  mem       REG                8,1   730559          2230857 /opt/conda/lib/python3.6/site-packages/zmq/backend/cython/socket.cpython-36m-x86_64-linux-gnu.so\r\n",
      "ZMQbg/0    34  39 jovyan  mem       REG                8,1   311141          2230851 /opt/conda/lib/python3.6/site-packages/zmq/backend/cython/context.cpython-36m-x86_64-linux-gnu.so\r\n",
      "ZMQbg/0    34  39 jovyan  mem       REG                8,1   452817          2230855 /opt/conda/lib/python3.6/site-packages/zmq/backend/cython/message.cpython-36m-x86_64-linux-gnu.so\r\n",
      "ZMQbg/0    34  39 jovyan  mem       REG                8,1   115893          2230853 /opt/conda/lib/python3.6/site-packages/zmq/backend/cython/error.cpython-36m-x86_64-linux-gnu.so\r\n",
      "ZMQbg/0    34  39 jovyan  mem       REG                8,1   706232           529510 /opt/conda/lib/libgcc_s.so.1\r\n",
      "ZMQbg/0    34  39 jovyan  mem       REG                8,1  8167184           529575 /opt/conda/lib/libstdc++.so.6.0.24\r\n",
      "ZMQbg/0    34  39 jovyan  mem       REG                8,1  1289027           661987 /opt/conda/lib/libzmq.so.5.1.5\r\n",
      "ZMQbg/0    34  39 jovyan  mem       REG                8,1   228614          2230849 /opt/conda/lib/python3.6/site-packages/zmq/backend/cython/constants.cpython-36m-x86_64-linux-gnu.so\r\n",
      "ZMQbg/0    34  39 jovyan  mem       REG                8,1   617309           530848 /opt/conda/lib/python3.6/lib-dynload/_ctypes.cpython-36m-x86_64-linux-gnu.so\r\n",
      "ZMQbg/0    34  39 jovyan  mem       REG                8,1    64549           530858 /opt/conda/lib/python3.6/lib-dynload/_lsprof.cpython-36m-x86_64-linux-gnu.so\r\n",
      "ZMQbg/0    34  39 jovyan  mem       REG                8,1   339757           530871 /opt/conda/lib/python3.6/lib-dynload/_socket.cpython-36m-x86_64-linux-gnu.so\r\n",
      "ZMQbg/0    34  39 jovyan  mem       REG                8,1   963624           530898 /opt/conda/lib/python3.6/lib-dynload/unicodedata.cpython-36m-x86_64-linux-gnu.so\r\n",
      "ZMQbg/0    34  39 jovyan  mem       REG                8,1   187746           530880 /opt/conda/lib/python3.6/lib-dynload/array.cpython-36m-x86_64-linux-gnu.so\r\n",
      "ZMQbg/0    34  39 jovyan  mem       REG                8,1   249585           529581 /opt/conda/lib/libtinfo.so.5.9\r\n",
      "ZMQbg/0    34  39 jovyan  mem       REG                8,1   176142           529542 /opt/conda/lib/libncurses.so.5.9\r\n",
      "ZMQbg/0    34  39 jovyan  mem       REG                8,1  1165114           529569 /opt/conda/lib/libsqlite3.so.0.8.6\r\n",
      "ZMQbg/0    34  39 jovyan  mem       REG                8,1   295030           530872 /opt/conda/lib/python3.6/lib-dynload/_sqlite3.cpython-36m-x86_64-linux-gnu.so\r\n",
      "ZMQbg/0    34  39 jovyan  mem       REG                8,1   433613           530864 /opt/conda/lib/python3.6/lib-dynload/_pickle.cpython-36m-x86_64-linux-gnu.so\r\n",
      "ZMQbg/0    34  39 jovyan  mem       REG                8,1   470165           530852 /opt/conda/lib/python3.6/lib-dynload/_datetime.cpython-36m-x86_64-linux-gnu.so\r\n",
      "ZMQbg/0    34  39 jovyan  mem       REG                8,1    78638           530882 /opt/conda/lib/python3.6/lib-dynload/binascii.cpython-36m-x86_64-linux-gnu.so\r\n",
      "ZMQbg/0    34  39 jovyan  mem       REG                8,1    32268           530893 /opt/conda/lib/python3.6/lib-dynload/resource.cpython-36m-x86_64-linux-gnu.so\r\n",
      "ZMQbg/0    34  39 jovyan  mem       REG                8,1    41463           530884 /opt/conda/lib/python3.6/lib-dynload/fcntl.cpython-36m-x86_64-linux-gnu.so\r\n",
      "ZMQbg/0    34  39 jovyan  mem       REG                8,1    46964           530897 /opt/conda/lib/python3.6/lib-dynload/termios.cpython-36m-x86_64-linux-gnu.so\r\n",
      "ZMQbg/0    34  39 jovyan  mem       REG                8,1    37999           530866 /opt/conda/lib/python3.6/lib-dynload/_random.cpython-36m-x86_64-linux-gnu.so\r\n",
      "ZMQbg/0    34  39 jovyan  mem       REG                8,1    33663           530837 /opt/conda/lib/python3.6/lib-dynload/_bisect.cpython-36m-x86_64-linux-gnu.so\r\n",
      "ZMQbg/0    34  39 jovyan  mem       REG                8,1   355122           530869 /opt/conda/lib/python3.6/lib-dynload/_sha3.cpython-36m-x86_64-linux-gnu.so\r\n",
      "ZMQbg/0    34  39 jovyan  mem       REG                8,1   329909           530838 /opt/conda/lib/python3.6/lib-dynload/_blake2.cpython-36m-x86_64-linux-gnu.so\r\n",
      "ZMQbg/0    34  39 jovyan  mem       REG                8,1  2692340           529490 /opt/conda/lib/libcrypto.so.1.0.0\r\n",
      "ZMQbg/0    34  39 jovyan  mem       REG                8,1   549929           529572 /opt/conda/lib/libssl.so.1.0.0\r\n",
      "ZMQbg/0    34  39 jovyan  mem       REG                8,1    92355           530855 /opt/conda/lib/python3.6/lib-dynload/_hashlib.cpython-36m-x86_64-linux-gnu.so\r\n",
      "ZMQbg/0    34  39 jovyan  mem       REG                8,1   159628           530874 /opt/conda/lib/python3.6/lib-dynload/_struct.cpython-36m-x86_64-linux-gnu.so\r\n",
      "ZMQbg/0    34  39 jovyan  mem       REG                8,1    20447           530863 /opt/conda/lib/python3.6/lib-dynload/_opcode.cpython-36m-x86_64-linux-gnu.so\r\n",
      "ZMQbg/0    34  39 jovyan  mem       REG                8,1    35500           530885 /opt/conda/lib/python3.6/lib-dynload/grp.cpython-36m-x86_64-linux-gnu.so\r\n",
      "ZMQbg/0    34  39 jovyan  mem       REG                8,1   803563           529528 /opt/conda/lib/liblzma.so.5.2.3\r\n",
      "ZMQbg/0    34  39 jovyan  mem       REG                8,1   117498           530859 /opt/conda/lib/python3.6/lib-dynload/_lzma.cpython-36m-x86_64-linux-gnu.so\r\n",
      "ZMQbg/0    34  39 jovyan  mem       REG                8,1   269237           530839 /opt/conda/lib/python3.6/lib-dynload/_bz2.cpython-36m-x86_64-linux-gnu.so\r\n",
      "ZMQbg/0    34  39 jovyan  mem       REG                8,1   127973           529602 /opt/conda/lib/libz.so.1.2.11\r\n",
      "ZMQbg/0    34  39 jovyan  mem       REG                8,1   116664           530900 /opt/conda/lib/python3.6/lib-dynload/zlib.cpython-36m-x86_64-linux-gnu.so\r\n",
      "ZMQbg/0    34  39 jovyan  mem       REG                8,1   210293           530886 /opt/conda/lib/python3.6/lib-dynload/math.cpython-36m-x86_64-linux-gnu.so\r\n",
      "ZMQbg/0    34  39 jovyan  mem       REG                8,1    79124           530894 /opt/conda/lib/python3.6/lib-dynload/select.cpython-36m-x86_64-linux-gnu.so\r\n",
      "ZMQbg/0    34  39 jovyan  mem       REG                8,1    85443           530865 /opt/conda/lib/python3.6/lib-dynload/_posixsubprocess.cpython-36m-x86_64-linux-gnu.so\r\n",
      "ZMQbg/0    34  39 jovyan  mem       REG                8,1   164929           530857 /opt/conda/lib/python3.6/lib-dynload/_json.cpython-36m-x86_64-linux-gnu.so\r\n",
      "ZMQbg/0    34  39 jovyan  mem       REG                8,1    47058           530856 /opt/conda/lib/python3.6/lib-dynload/_heapq.cpython-36m-x86_64-linux-gnu.so\r\n",
      "ZMQbg/0    34  39 jovyan  mem       REG                8,1  1868984           394365 /lib/x86_64-linux-gnu/libc-2.23.so\r\n",
      "ZMQbg/0    34  39 jovyan  mem       REG                8,1  1088952           394397 /lib/x86_64-linux-gnu/libm-2.23.so\r\n",
      "ZMQbg/0    34  39 jovyan  mem       REG                8,1    31712           394440 /lib/x86_64-linux-gnu/librt-2.23.so\r\n",
      "ZMQbg/0    34  39 jovyan  mem       REG                8,1    10656           394460 /lib/x86_64-linux-gnu/libutil-2.23.so\r\n",
      "ZMQbg/0    34  39 jovyan  mem       REG                8,1    14608           394378 /lib/x86_64-linux-gnu/libdl-2.23.so\r\n",
      "ZMQbg/0    34  39 jovyan  mem       REG                8,1   138696           394433 /lib/x86_64-linux-gnu/libpthread-2.23.so\r\n",
      "ZMQbg/0    34  39 jovyan  mem       REG                8,1 12444567           529556 /opt/conda/lib/libpython3.6m.so.1.0\r\n",
      "ZMQbg/0    34  39 jovyan  mem       REG                8,1   162632           394345 /lib/x86_64-linux-gnu/ld-2.23.so\r\n",
      "ZMQbg/0    34  39 jovyan  mem       REG                8,1    26258           395222 /usr/lib/x86_64-linux-gnu/gconv/gconv-modules.cache\r\n",
      "ZMQbg/0    34  39 jovyan  mem       REG                8,1  1668976           656066 /usr/lib/locale/locale-archive\r\n",
      "ZMQbg/0    34  39 jovyan    0r     FIFO               0,10      0t0           183161 pipe\r\n",
      "ZMQbg/0    34  39 jovyan    1w     FIFO               0,10      0t0           177822 pipe\r\n",
      "ZMQbg/0    34  39 jovyan    2w     FIFO               0,10      0t0           177823 pipe\r\n",
      "ZMQbg/0    34  39 jovyan    3r      CHR                1,9      0t0           177867 /dev/urandom\r\n",
      "ZMQbg/0    34  39 jovyan    4w      CHR                1,3      0t0           177862 /dev/null\r\n",
      "ZMQbg/0    34  39 jovyan    5u  a_inode               0,11        0            11923 [eventfd]\r\n",
      "ZMQbg/0    34  39 jovyan    6r      CHR                1,9      0t0           177867 /dev/urandom\r\n",
      "ZMQbg/0    34  39 jovyan    7u  a_inode               0,11        0            11923 [eventfd]\r\n",
      "ZMQbg/0    34  39 jovyan    8u  a_inode               0,11        0            11923 [eventpoll]\r\n",
      "ZMQbg/0    34  39 jovyan    9u  a_inode               0,11        0            11923 [eventfd]\r\n",
      "ZMQbg/0    34  39 jovyan   10u  a_inode               0,11        0            11923 [eventpoll]\r\n",
      "ZMQbg/0    34  39 jovyan   11u  a_inode               0,11        0            11923 [eventfd]\r\n",
      "ZMQbg/0    34  39 jovyan   12u     IPv4             184807      0t0              TCP localhost:56409 (LISTEN)\r\n",
      "ZMQbg/0    34  39 jovyan   13u  a_inode               0,11        0            11923 [eventfd]\r\n",
      "ZMQbg/0    34  39 jovyan   14u     IPv4             184809      0t0              TCP localhost:37411 (LISTEN)\r\n",
      "ZMQbg/0    34  39 jovyan   15u  a_inode               0,11        0            11923 [eventfd]\r\n",
      "ZMQbg/0    34  39 jovyan   16u     IPv4             184811      0t0              TCP localhost:43441 (LISTEN)\r\n",
      "ZMQbg/0    34  39 jovyan   17u  a_inode               0,11        0            11923 [eventfd]\r\n",
      "ZMQbg/0    34  39 jovyan   18u     IPv4             184813      0t0              TCP localhost:50275 (LISTEN)\r\n",
      "ZMQbg/0    34  39 jovyan   19u  a_inode               0,11        0            11923 [eventpoll]\r\n",
      "ZMQbg/0    34  39 jovyan   20u     unix 0x0000000000000000      0t0           184814 type=STREAM\r\n",
      "ZMQbg/0    34  39 jovyan   21u     unix 0x0000000000000000      0t0           184815 type=STREAM\r\n",
      "ZMQbg/0    34  39 jovyan   22u  a_inode               0,11        0            11923 [eventfd]\r\n",
      "ZMQbg/0    34  39 jovyan   23u     IPv4             184817      0t0              TCP localhost:36681 (LISTEN)\r\n",
      "ZMQbg/0    34  39 jovyan   24u  a_inode               0,11        0            11923 [eventfd]\r\n",
      "ZMQbg/0    34  39 jovyan   25u  a_inode               0,11        0            11923 [eventfd]\r\n",
      "ZMQbg/0    34  39 jovyan   26u  a_inode               0,11        0            11923 [eventfd]\r\n",
      "ZMQbg/0    34  39 jovyan   27u  a_inode               0,11        0            11923 [eventpoll]\r\n",
      "ZMQbg/0    34  39 jovyan   28u  a_inode               0,11        0            11923 [eventfd]\r\n",
      "ZMQbg/0    34  39 jovyan   29u  a_inode               0,11        0            11923 [eventpoll]\r\n",
      "ZMQbg/0    34  39 jovyan   30u  a_inode               0,11        0            11923 [eventfd]\r\n",
      "ZMQbg/0    34  39 jovyan   31u     IPv4             183196      0t0              TCP localhost:44415 (LISTEN)\r\n",
      "ZMQbg/0    34  39 jovyan   32u  a_inode               0,11        0            11923 [eventpoll]\r\n",
      "ZMQbg/0    34  39 jovyan   33u     unix 0x0000000000000000      0t0           184818 type=STREAM\r\n",
      "ZMQbg/0    34  39 jovyan   34u     unix 0x0000000000000000      0t0           184819 type=STREAM\r\n",
      "ZMQbg/0    34  39 jovyan   35u      REG                8,1    28672           262667 /home/jovyan/.ipython/profile_default/history.sqlite\r\n",
      "ZMQbg/0    34  39 jovyan   36u      REG                8,1    28672           262667 /home/jovyan/.ipython/profile_default/history.sqlite\r\n",
      "ZMQbg/0    34  39 jovyan   37u     IPv4             183197      0t0              TCP localhost:50275->localhost:49172 (ESTABLISHED)\r\n",
      "ZMQbg/0    34  39 jovyan   38u     IPv4             183198      0t0              TCP localhost:43441->localhost:57652 (ESTABLISHED)\r\n",
      "ZMQbg/0    34  39 jovyan   39u  a_inode               0,11        0            11923 [eventfd]\r\n",
      "ZMQbg/0    34  39 jovyan   40u     IPv4             183205      0t0              TCP localhost:56409->localhost:55780 (ESTABLISHED)\r\n",
      "ZMQbg/0    34  39 jovyan   41u     IPv4             183207      0t0              TCP localhost:50275->localhost:49190 (ESTABLISHED)\r\n",
      "ZMQbg/0    34  39 jovyan   42u     IPv4             183209      0t0              TCP localhost:37411->localhost:49246 (ESTABLISHED)\r\n",
      "ZMQbg/1    34  40 jovyan  cwd       DIR               0,61     4096 9570149208167180 /home/jovyan/openforum2018\r\n",
      "ZMQbg/1    34  40 jovyan  rtd       DIR               0,59     4096           181289 /\r\n",
      "ZMQbg/1    34  40 jovyan  txt       REG                8,1    14857           529056 /opt/conda/bin/python3.6\r\n",
      "ZMQbg/1    34  40 jovyan  mem       REG                8,1  1686154           530853 /opt/conda/lib/python3.6/lib-dynload/_decimal.cpython-36m-x86_64-linux-gnu.so\r\n",
      "ZMQbg/1    34  40 jovyan  mem       REG                8,1   375919           530873 /opt/conda/lib/python3.6/lib-dynload/_ssl.cpython-36m-x86_64-linux-gnu.so\r\n",
      "ZMQbg/1    34  40 jovyan  mem       REG                8,1   194106           530836 /opt/conda/lib/python3.6/lib-dynload/_asyncio.cpython-36m-x86_64-linux-gnu.so\r\n",
      "ZMQbg/1    34  40 jovyan  mem       REG                8,1    48787           530862 /opt/conda/lib/python3.6/lib-dynload/_multiprocessing.cpython-36m-x86_64-linux-gnu.so\r\n",
      "ZMQbg/1    34  40 jovyan  mem       REG                8,1   316595           530850 /opt/conda/lib/python3.6/lib-dynload/_curses.cpython-36m-x86_64-linux-gnu.so\r\n",
      "ZMQbg/1    34  40 jovyan  mem       REG                8,1    17873          1708597 /opt/conda/lib/python3.6/site-packages/tornado/speedups.cpython-36m-x86_64-linux-gnu.so\r\n",
      "ZMQbg/1    34  40 jovyan  mem       REG                8,1    18976           394463 /lib/x86_64-linux-gnu/libuuid.so.1.3.0\r\n",
      "ZMQbg/1    34  40 jovyan  mem       REG                8,1   228724          2230844 /opt/conda/lib/python3.6/site-packages/zmq/backend/cython/_device.cpython-36m-x86_64-linux-gnu.so\r\n",
      "ZMQbg/1    34  40 jovyan  mem       REG                8,1    98032          2230846 /opt/conda/lib/python3.6/site-packages/zmq/backend/cython/_version.cpython-36m-x86_64-linux-gnu.so\r\n",
      "ZMQbg/1    34  40 jovyan  mem       REG                8,1   327947          2230845 /opt/conda/lib/python3.6/site-packages/zmq/backend/cython/_poll.cpython-36m-x86_64-linux-gnu.so\r\n",
      "ZMQbg/1    34  40 jovyan  mem       REG                8,1   149930          2230859 /opt/conda/lib/python3.6/site-packages/zmq/backend/cython/utils.cpython-36m-x86_64-linux-gnu.so\r\n",
      "ZMQbg/1    34  40 jovyan  mem       REG                8,1   730559          2230857 /opt/conda/lib/python3.6/site-packages/zmq/backend/cython/socket.cpython-36m-x86_64-linux-gnu.so\r\n",
      "ZMQbg/1    34  40 jovyan  mem       REG                8,1   311141          2230851 /opt/conda/lib/python3.6/site-packages/zmq/backend/cython/context.cpython-36m-x86_64-linux-gnu.so\r\n",
      "ZMQbg/1    34  40 jovyan  mem       REG                8,1   452817          2230855 /opt/conda/lib/python3.6/site-packages/zmq/backend/cython/message.cpython-36m-x86_64-linux-gnu.so\r\n",
      "ZMQbg/1    34  40 jovyan  mem       REG                8,1   115893          2230853 /opt/conda/lib/python3.6/site-packages/zmq/backend/cython/error.cpython-36m-x86_64-linux-gnu.so\r\n",
      "ZMQbg/1    34  40 jovyan  mem       REG                8,1   706232           529510 /opt/conda/lib/libgcc_s.so.1\r\n",
      "ZMQbg/1    34  40 jovyan  mem       REG                8,1  8167184           529575 /opt/conda/lib/libstdc++.so.6.0.24\r\n",
      "ZMQbg/1    34  40 jovyan  mem       REG                8,1  1289027           661987 /opt/conda/lib/libzmq.so.5.1.5\r\n",
      "ZMQbg/1    34  40 jovyan  mem       REG                8,1   228614          2230849 /opt/conda/lib/python3.6/site-packages/zmq/backend/cython/constants.cpython-36m-x86_64-linux-gnu.so\r\n",
      "ZMQbg/1    34  40 jovyan  mem       REG                8,1   617309           530848 /opt/conda/lib/python3.6/lib-dynload/_ctypes.cpython-36m-x86_64-linux-gnu.so\r\n",
      "ZMQbg/1    34  40 jovyan  mem       REG                8,1    64549           530858 /opt/conda/lib/python3.6/lib-dynload/_lsprof.cpython-36m-x86_64-linux-gnu.so\r\n",
      "ZMQbg/1    34  40 jovyan  mem       REG                8,1   339757           530871 /opt/conda/lib/python3.6/lib-dynload/_socket.cpython-36m-x86_64-linux-gnu.so\r\n",
      "ZMQbg/1    34  40 jovyan  mem       REG                8,1   963624           530898 /opt/conda/lib/python3.6/lib-dynload/unicodedata.cpython-36m-x86_64-linux-gnu.so\r\n",
      "ZMQbg/1    34  40 jovyan  mem       REG                8,1   187746           530880 /opt/conda/lib/python3.6/lib-dynload/array.cpython-36m-x86_64-linux-gnu.so\r\n",
      "ZMQbg/1    34  40 jovyan  mem       REG                8,1   249585           529581 /opt/conda/lib/libtinfo.so.5.9\r\n",
      "ZMQbg/1    34  40 jovyan  mem       REG                8,1   176142           529542 /opt/conda/lib/libncurses.so.5.9\r\n",
      "ZMQbg/1    34  40 jovyan  mem       REG                8,1  1165114           529569 /opt/conda/lib/libsqlite3.so.0.8.6\r\n",
      "ZMQbg/1    34  40 jovyan  mem       REG                8,1   295030           530872 /opt/conda/lib/python3.6/lib-dynload/_sqlite3.cpython-36m-x86_64-linux-gnu.so\r\n",
      "ZMQbg/1    34  40 jovyan  mem       REG                8,1   433613           530864 /opt/conda/lib/python3.6/lib-dynload/_pickle.cpython-36m-x86_64-linux-gnu.so\r\n",
      "ZMQbg/1    34  40 jovyan  mem       REG                8,1   470165           530852 /opt/conda/lib/python3.6/lib-dynload/_datetime.cpython-36m-x86_64-linux-gnu.so\r\n",
      "ZMQbg/1    34  40 jovyan  mem       REG                8,1    78638           530882 /opt/conda/lib/python3.6/lib-dynload/binascii.cpython-36m-x86_64-linux-gnu.so\r\n",
      "ZMQbg/1    34  40 jovyan  mem       REG                8,1    32268           530893 /opt/conda/lib/python3.6/lib-dynload/resource.cpython-36m-x86_64-linux-gnu.so\r\n",
      "ZMQbg/1    34  40 jovyan  mem       REG                8,1    41463           530884 /opt/conda/lib/python3.6/lib-dynload/fcntl.cpython-36m-x86_64-linux-gnu.so\r\n",
      "ZMQbg/1    34  40 jovyan  mem       REG                8,1    46964           530897 /opt/conda/lib/python3.6/lib-dynload/termios.cpython-36m-x86_64-linux-gnu.so\r\n",
      "ZMQbg/1    34  40 jovyan  mem       REG                8,1    37999           530866 /opt/conda/lib/python3.6/lib-dynload/_random.cpython-36m-x86_64-linux-gnu.so\r\n",
      "ZMQbg/1    34  40 jovyan  mem       REG                8,1    33663           530837 /opt/conda/lib/python3.6/lib-dynload/_bisect.cpython-36m-x86_64-linux-gnu.so\r\n",
      "ZMQbg/1    34  40 jovyan  mem       REG                8,1   355122           530869 /opt/conda/lib/python3.6/lib-dynload/_sha3.cpython-36m-x86_64-linux-gnu.so\r\n",
      "ZMQbg/1    34  40 jovyan  mem       REG                8,1   329909           530838 /opt/conda/lib/python3.6/lib-dynload/_blake2.cpython-36m-x86_64-linux-gnu.so\r\n",
      "ZMQbg/1    34  40 jovyan  mem       REG                8,1  2692340           529490 /opt/conda/lib/libcrypto.so.1.0.0\r\n",
      "ZMQbg/1    34  40 jovyan  mem       REG                8,1   549929           529572 /opt/conda/lib/libssl.so.1.0.0\r\n",
      "ZMQbg/1    34  40 jovyan  mem       REG                8,1    92355           530855 /opt/conda/lib/python3.6/lib-dynload/_hashlib.cpython-36m-x86_64-linux-gnu.so\r\n",
      "ZMQbg/1    34  40 jovyan  mem       REG                8,1   159628           530874 /opt/conda/lib/python3.6/lib-dynload/_struct.cpython-36m-x86_64-linux-gnu.so\r\n",
      "ZMQbg/1    34  40 jovyan  mem       REG                8,1    20447           530863 /opt/conda/lib/python3.6/lib-dynload/_opcode.cpython-36m-x86_64-linux-gnu.so\r\n",
      "ZMQbg/1    34  40 jovyan  mem       REG                8,1    35500           530885 /opt/conda/lib/python3.6/lib-dynload/grp.cpython-36m-x86_64-linux-gnu.so\r\n",
      "ZMQbg/1    34  40 jovyan  mem       REG                8,1   803563           529528 /opt/conda/lib/liblzma.so.5.2.3\r\n",
      "ZMQbg/1    34  40 jovyan  mem       REG                8,1   117498           530859 /opt/conda/lib/python3.6/lib-dynload/_lzma.cpython-36m-x86_64-linux-gnu.so\r\n",
      "ZMQbg/1    34  40 jovyan  mem       REG                8,1   269237           530839 /opt/conda/lib/python3.6/lib-dynload/_bz2.cpython-36m-x86_64-linux-gnu.so\r\n",
      "ZMQbg/1    34  40 jovyan  mem       REG                8,1   127973           529602 /opt/conda/lib/libz.so.1.2.11\r\n",
      "ZMQbg/1    34  40 jovyan  mem       REG                8,1   116664           530900 /opt/conda/lib/python3.6/lib-dynload/zlib.cpython-36m-x86_64-linux-gnu.so\r\n",
      "ZMQbg/1    34  40 jovyan  mem       REG                8,1   210293           530886 /opt/conda/lib/python3.6/lib-dynload/math.cpython-36m-x86_64-linux-gnu.so\r\n",
      "ZMQbg/1    34  40 jovyan  mem       REG                8,1    79124           530894 /opt/conda/lib/python3.6/lib-dynload/select.cpython-36m-x86_64-linux-gnu.so\r\n",
      "ZMQbg/1    34  40 jovyan  mem       REG                8,1    85443           530865 /opt/conda/lib/python3.6/lib-dynload/_posixsubprocess.cpython-36m-x86_64-linux-gnu.so\r\n",
      "ZMQbg/1    34  40 jovyan  mem       REG                8,1   164929           530857 /opt/conda/lib/python3.6/lib-dynload/_json.cpython-36m-x86_64-linux-gnu.so\r\n",
      "ZMQbg/1    34  40 jovyan  mem       REG                8,1    47058           530856 /opt/conda/lib/python3.6/lib-dynload/_heapq.cpython-36m-x86_64-linux-gnu.so\r\n",
      "ZMQbg/1    34  40 jovyan  mem       REG                8,1  1868984           394365 /lib/x86_64-linux-gnu/libc-2.23.so\r\n",
      "ZMQbg/1    34  40 jovyan  mem       REG                8,1  1088952           394397 /lib/x86_64-linux-gnu/libm-2.23.so\r\n",
      "ZMQbg/1    34  40 jovyan  mem       REG                8,1    31712           394440 /lib/x86_64-linux-gnu/librt-2.23.so\r\n",
      "ZMQbg/1    34  40 jovyan  mem       REG                8,1    10656           394460 /lib/x86_64-linux-gnu/libutil-2.23.so\r\n",
      "ZMQbg/1    34  40 jovyan  mem       REG                8,1    14608           394378 /lib/x86_64-linux-gnu/libdl-2.23.so\r\n",
      "ZMQbg/1    34  40 jovyan  mem       REG                8,1   138696           394433 /lib/x86_64-linux-gnu/libpthread-2.23.so\r\n",
      "ZMQbg/1    34  40 jovyan  mem       REG                8,1 12444567           529556 /opt/conda/lib/libpython3.6m.so.1.0\r\n",
      "ZMQbg/1    34  40 jovyan  mem       REG                8,1   162632           394345 /lib/x86_64-linux-gnu/ld-2.23.so\r\n",
      "ZMQbg/1    34  40 jovyan  mem       REG                8,1    26258           395222 /usr/lib/x86_64-linux-gnu/gconv/gconv-modules.cache\r\n",
      "ZMQbg/1    34  40 jovyan  mem       REG                8,1  1668976           656066 /usr/lib/locale/locale-archive\r\n",
      "ZMQbg/1    34  40 jovyan    0r     FIFO               0,10      0t0           183161 pipe\r\n",
      "ZMQbg/1    34  40 jovyan    1w     FIFO               0,10      0t0           177822 pipe\r\n",
      "ZMQbg/1    34  40 jovyan    2w     FIFO               0,10      0t0           177823 pipe\r\n",
      "ZMQbg/1    34  40 jovyan    3r      CHR                1,9      0t0           177867 /dev/urandom\r\n",
      "ZMQbg/1    34  40 jovyan    4w      CHR                1,3      0t0           177862 /dev/null\r\n",
      "ZMQbg/1    34  40 jovyan    5u  a_inode               0,11        0            11923 [eventfd]\r\n",
      "ZMQbg/1    34  40 jovyan    6r      CHR                1,9      0t0           177867 /dev/urandom\r\n",
      "ZMQbg/1    34  40 jovyan    7u  a_inode               0,11        0            11923 [eventfd]\r\n",
      "ZMQbg/1    34  40 jovyan    8u  a_inode               0,11        0            11923 [eventpoll]\r\n",
      "ZMQbg/1    34  40 jovyan    9u  a_inode               0,11        0            11923 [eventfd]\r\n",
      "ZMQbg/1    34  40 jovyan   10u  a_inode               0,11        0            11923 [eventpoll]\r\n",
      "ZMQbg/1    34  40 jovyan   11u  a_inode               0,11        0            11923 [eventfd]\r\n",
      "ZMQbg/1    34  40 jovyan   12u     IPv4             184807      0t0              TCP localhost:56409 (LISTEN)\r\n",
      "ZMQbg/1    34  40 jovyan   13u  a_inode               0,11        0            11923 [eventfd]\r\n",
      "ZMQbg/1    34  40 jovyan   14u     IPv4             184809      0t0              TCP localhost:37411 (LISTEN)\r\n",
      "ZMQbg/1    34  40 jovyan   15u  a_inode               0,11        0            11923 [eventfd]\r\n",
      "ZMQbg/1    34  40 jovyan   16u     IPv4             184811      0t0              TCP localhost:43441 (LISTEN)\r\n",
      "ZMQbg/1    34  40 jovyan   17u  a_inode               0,11        0            11923 [eventfd]\r\n",
      "ZMQbg/1    34  40 jovyan   18u     IPv4             184813      0t0              TCP localhost:50275 (LISTEN)\r\n",
      "ZMQbg/1    34  40 jovyan   19u  a_inode               0,11        0            11923 [eventpoll]\r\n",
      "ZMQbg/1    34  40 jovyan   20u     unix 0x0000000000000000      0t0           184814 type=STREAM\r\n",
      "ZMQbg/1    34  40 jovyan   21u     unix 0x0000000000000000      0t0           184815 type=STREAM\r\n",
      "ZMQbg/1    34  40 jovyan   22u  a_inode               0,11        0            11923 [eventfd]\r\n",
      "ZMQbg/1    34  40 jovyan   23u     IPv4             184817      0t0              TCP localhost:36681 (LISTEN)\r\n",
      "ZMQbg/1    34  40 jovyan   24u  a_inode               0,11        0            11923 [eventfd]\r\n",
      "ZMQbg/1    34  40 jovyan   25u  a_inode               0,11        0            11923 [eventfd]\r\n",
      "ZMQbg/1    34  40 jovyan   26u  a_inode               0,11        0            11923 [eventfd]\r\n",
      "ZMQbg/1    34  40 jovyan   27u  a_inode               0,11        0            11923 [eventpoll]\r\n",
      "ZMQbg/1    34  40 jovyan   28u  a_inode               0,11        0            11923 [eventfd]\r\n",
      "ZMQbg/1    34  40 jovyan   29u  a_inode               0,11        0            11923 [eventpoll]\r\n",
      "ZMQbg/1    34  40 jovyan   30u  a_inode               0,11        0            11923 [eventfd]\r\n",
      "ZMQbg/1    34  40 jovyan   31u     IPv4             183196      0t0              TCP localhost:44415 (LISTEN)\r\n",
      "ZMQbg/1    34  40 jovyan   32u  a_inode               0,11        0            11923 [eventpoll]\r\n",
      "ZMQbg/1    34  40 jovyan   33u     unix 0x0000000000000000      0t0           184818 type=STREAM\r\n",
      "ZMQbg/1    34  40 jovyan   34u     unix 0x0000000000000000      0t0           184819 type=STREAM\r\n",
      "ZMQbg/1    34  40 jovyan   35u      REG                8,1    28672           262667 /home/jovyan/.ipython/profile_default/history.sqlite\r\n",
      "ZMQbg/1    34  40 jovyan   36u      REG                8,1    28672           262667 /home/jovyan/.ipython/profile_default/history.sqlite\r\n",
      "ZMQbg/1    34  40 jovyan   37u     IPv4             183197      0t0              TCP localhost:50275->localhost:49172 (ESTABLISHED)\r\n",
      "ZMQbg/1    34  40 jovyan   38u     IPv4             183198      0t0              TCP localhost:43441->localhost:57652 (ESTABLISHED)\r\n",
      "ZMQbg/1    34  40 jovyan   39u  a_inode               0,11        0            11923 [eventfd]\r\n",
      "ZMQbg/1    34  40 jovyan   40u     IPv4             183205      0t0              TCP localhost:56409->localhost:55780 (ESTABLISHED)\r\n",
      "ZMQbg/1    34  40 jovyan   41u     IPv4             183207      0t0              TCP localhost:50275->localhost:49190 (ESTABLISHED)\r\n",
      "ZMQbg/1    34  40 jovyan   42u     IPv4             183209      0t0              TCP localhost:37411->localhost:49246 (ESTABLISHED)\r\n",
      "python     34  41 jovyan  cwd       DIR               0,61     4096 9570149208167180 /home/jovyan/openforum2018\r\n",
      "python     34  41 jovyan  rtd       DIR               0,59     4096           181289 /\r\n",
      "python     34  41 jovyan  txt       REG                8,1    14857           529056 /opt/conda/bin/python3.6\r\n",
      "python     34  41 jovyan  mem       REG                8,1  1686154           530853 /opt/conda/lib/python3.6/lib-dynload/_decimal.cpython-36m-x86_64-linux-gnu.so\r\n",
      "python     34  41 jovyan  mem       REG                8,1   375919           530873 /opt/conda/lib/python3.6/lib-dynload/_ssl.cpython-36m-x86_64-linux-gnu.so\r\n",
      "python     34  41 jovyan  mem       REG                8,1   194106           530836 /opt/conda/lib/python3.6/lib-dynload/_asyncio.cpython-36m-x86_64-linux-gnu.so\r\n",
      "python     34  41 jovyan  mem       REG                8,1    48787           530862 /opt/conda/lib/python3.6/lib-dynload/_multiprocessing.cpython-36m-x86_64-linux-gnu.so\r\n",
      "python     34  41 jovyan  mem       REG                8,1   316595           530850 /opt/conda/lib/python3.6/lib-dynload/_curses.cpython-36m-x86_64-linux-gnu.so\r\n",
      "python     34  41 jovyan  mem       REG                8,1    17873          1708597 /opt/conda/lib/python3.6/site-packages/tornado/speedups.cpython-36m-x86_64-linux-gnu.so\r\n",
      "python     34  41 jovyan  mem       REG                8,1    18976           394463 /lib/x86_64-linux-gnu/libuuid.so.1.3.0\r\n",
      "python     34  41 jovyan  mem       REG                8,1   228724          2230844 /opt/conda/lib/python3.6/site-packages/zmq/backend/cython/_device.cpython-36m-x86_64-linux-gnu.so\r\n",
      "python     34  41 jovyan  mem       REG                8,1    98032          2230846 /opt/conda/lib/python3.6/site-packages/zmq/backend/cython/_version.cpython-36m-x86_64-linux-gnu.so\r\n",
      "python     34  41 jovyan  mem       REG                8,1   327947          2230845 /opt/conda/lib/python3.6/site-packages/zmq/backend/cython/_poll.cpython-36m-x86_64-linux-gnu.so\r\n",
      "python     34  41 jovyan  mem       REG                8,1   149930          2230859 /opt/conda/lib/python3.6/site-packages/zmq/backend/cython/utils.cpython-36m-x86_64-linux-gnu.so\r\n",
      "python     34  41 jovyan  mem       REG                8,1   730559          2230857 /opt/conda/lib/python3.6/site-packages/zmq/backend/cython/socket.cpython-36m-x86_64-linux-gnu.so\r\n",
      "python     34  41 jovyan  mem       REG                8,1   311141          2230851 /opt/conda/lib/python3.6/site-packages/zmq/backend/cython/context.cpython-36m-x86_64-linux-gnu.so\r\n",
      "python     34  41 jovyan  mem       REG                8,1   452817          2230855 /opt/conda/lib/python3.6/site-packages/zmq/backend/cython/message.cpython-36m-x86_64-linux-gnu.so\r\n",
      "python     34  41 jovyan  mem       REG                8,1   115893          2230853 /opt/conda/lib/python3.6/site-packages/zmq/backend/cython/error.cpython-36m-x86_64-linux-gnu.so\r\n",
      "python     34  41 jovyan  mem       REG                8,1   706232           529510 /opt/conda/lib/libgcc_s.so.1\r\n",
      "python     34  41 jovyan  mem       REG                8,1  8167184           529575 /opt/conda/lib/libstdc++.so.6.0.24\r\n",
      "python     34  41 jovyan  mem       REG                8,1  1289027           661987 /opt/conda/lib/libzmq.so.5.1.5\r\n",
      "python     34  41 jovyan  mem       REG                8,1   228614          2230849 /opt/conda/lib/python3.6/site-packages/zmq/backend/cython/constants.cpython-36m-x86_64-linux-gnu.so\r\n",
      "python     34  41 jovyan  mem       REG                8,1   617309           530848 /opt/conda/lib/python3.6/lib-dynload/_ctypes.cpython-36m-x86_64-linux-gnu.so\r\n",
      "python     34  41 jovyan  mem       REG                8,1    64549           530858 /opt/conda/lib/python3.6/lib-dynload/_lsprof.cpython-36m-x86_64-linux-gnu.so\r\n",
      "python     34  41 jovyan  mem       REG                8,1   339757           530871 /opt/conda/lib/python3.6/lib-dynload/_socket.cpython-36m-x86_64-linux-gnu.so\r\n",
      "python     34  41 jovyan  mem       REG                8,1   963624           530898 /opt/conda/lib/python3.6/lib-dynload/unicodedata.cpython-36m-x86_64-linux-gnu.so\r\n",
      "python     34  41 jovyan  mem       REG                8,1   187746           530880 /opt/conda/lib/python3.6/lib-dynload/array.cpython-36m-x86_64-linux-gnu.so\r\n",
      "python     34  41 jovyan  mem       REG                8,1   249585           529581 /opt/conda/lib/libtinfo.so.5.9\r\n",
      "python     34  41 jovyan  mem       REG                8,1   176142           529542 /opt/conda/lib/libncurses.so.5.9\r\n",
      "python     34  41 jovyan  mem       REG                8,1  1165114           529569 /opt/conda/lib/libsqlite3.so.0.8.6\r\n",
      "python     34  41 jovyan  mem       REG                8,1   295030           530872 /opt/conda/lib/python3.6/lib-dynload/_sqlite3.cpython-36m-x86_64-linux-gnu.so\r\n",
      "python     34  41 jovyan  mem       REG                8,1   433613           530864 /opt/conda/lib/python3.6/lib-dynload/_pickle.cpython-36m-x86_64-linux-gnu.so\r\n",
      "python     34  41 jovyan  mem       REG                8,1   470165           530852 /opt/conda/lib/python3.6/lib-dynload/_datetime.cpython-36m-x86_64-linux-gnu.so\r\n",
      "python     34  41 jovyan  mem       REG                8,1    78638           530882 /opt/conda/lib/python3.6/lib-dynload/binascii.cpython-36m-x86_64-linux-gnu.so\r\n",
      "python     34  41 jovyan  mem       REG                8,1    32268           530893 /opt/conda/lib/python3.6/lib-dynload/resource.cpython-36m-x86_64-linux-gnu.so\r\n",
      "python     34  41 jovyan  mem       REG                8,1    41463           530884 /opt/conda/lib/python3.6/lib-dynload/fcntl.cpython-36m-x86_64-linux-gnu.so\r\n",
      "python     34  41 jovyan  mem       REG                8,1    46964           530897 /opt/conda/lib/python3.6/lib-dynload/termios.cpython-36m-x86_64-linux-gnu.so\r\n",
      "python     34  41 jovyan  mem       REG                8,1    37999           530866 /opt/conda/lib/python3.6/lib-dynload/_random.cpython-36m-x86_64-linux-gnu.so\r\n",
      "python     34  41 jovyan  mem       REG                8,1    33663           530837 /opt/conda/lib/python3.6/lib-dynload/_bisect.cpython-36m-x86_64-linux-gnu.so\r\n",
      "python     34  41 jovyan  mem       REG                8,1   355122           530869 /opt/conda/lib/python3.6/lib-dynload/_sha3.cpython-36m-x86_64-linux-gnu.so\r\n",
      "python     34  41 jovyan  mem       REG                8,1   329909           530838 /opt/conda/lib/python3.6/lib-dynload/_blake2.cpython-36m-x86_64-linux-gnu.so\r\n",
      "python     34  41 jovyan  mem       REG                8,1  2692340           529490 /opt/conda/lib/libcrypto.so.1.0.0\r\n",
      "python     34  41 jovyan  mem       REG                8,1   549929           529572 /opt/conda/lib/libssl.so.1.0.0\r\n",
      "python     34  41 jovyan  mem       REG                8,1    92355           530855 /opt/conda/lib/python3.6/lib-dynload/_hashlib.cpython-36m-x86_64-linux-gnu.so\r\n",
      "python     34  41 jovyan  mem       REG                8,1   159628           530874 /opt/conda/lib/python3.6/lib-dynload/_struct.cpython-36m-x86_64-linux-gnu.so\r\n",
      "python     34  41 jovyan  mem       REG                8,1    20447           530863 /opt/conda/lib/python3.6/lib-dynload/_opcode.cpython-36m-x86_64-linux-gnu.so\r\n",
      "python     34  41 jovyan  mem       REG                8,1    35500           530885 /opt/conda/lib/python3.6/lib-dynload/grp.cpython-36m-x86_64-linux-gnu.so\r\n",
      "python     34  41 jovyan  mem       REG                8,1   803563           529528 /opt/conda/lib/liblzma.so.5.2.3\r\n",
      "python     34  41 jovyan  mem       REG                8,1   117498           530859 /opt/conda/lib/python3.6/lib-dynload/_lzma.cpython-36m-x86_64-linux-gnu.so\r\n",
      "python     34  41 jovyan  mem       REG                8,1   269237           530839 /opt/conda/lib/python3.6/lib-dynload/_bz2.cpython-36m-x86_64-linux-gnu.so\r\n",
      "python     34  41 jovyan  mem       REG                8,1   127973           529602 /opt/conda/lib/libz.so.1.2.11\r\n",
      "python     34  41 jovyan  mem       REG                8,1   116664           530900 /opt/conda/lib/python3.6/lib-dynload/zlib.cpython-36m-x86_64-linux-gnu.so\r\n",
      "python     34  41 jovyan  mem       REG                8,1   210293           530886 /opt/conda/lib/python3.6/lib-dynload/math.cpython-36m-x86_64-linux-gnu.so\r\n",
      "python     34  41 jovyan  mem       REG                8,1    79124           530894 /opt/conda/lib/python3.6/lib-dynload/select.cpython-36m-x86_64-linux-gnu.so\r\n",
      "python     34  41 jovyan  mem       REG                8,1    85443           530865 /opt/conda/lib/python3.6/lib-dynload/_posixsubprocess.cpython-36m-x86_64-linux-gnu.so\r\n",
      "python     34  41 jovyan  mem       REG                8,1   164929           530857 /opt/conda/lib/python3.6/lib-dynload/_json.cpython-36m-x86_64-linux-gnu.so\r\n",
      "python     34  41 jovyan  mem       REG                8,1    47058           530856 /opt/conda/lib/python3.6/lib-dynload/_heapq.cpython-36m-x86_64-linux-gnu.so\r\n",
      "python     34  41 jovyan  mem       REG                8,1  1868984           394365 /lib/x86_64-linux-gnu/libc-2.23.so\r\n",
      "python     34  41 jovyan  mem       REG                8,1  1088952           394397 /lib/x86_64-linux-gnu/libm-2.23.so\r\n",
      "python     34  41 jovyan  mem       REG                8,1    31712           394440 /lib/x86_64-linux-gnu/librt-2.23.so\r\n",
      "python     34  41 jovyan  mem       REG                8,1    10656           394460 /lib/x86_64-linux-gnu/libutil-2.23.so\r\n",
      "python     34  41 jovyan  mem       REG                8,1    14608           394378 /lib/x86_64-linux-gnu/libdl-2.23.so\r\n",
      "python     34  41 jovyan  mem       REG                8,1   138696           394433 /lib/x86_64-linux-gnu/libpthread-2.23.so\r\n",
      "python     34  41 jovyan  mem       REG                8,1 12444567           529556 /opt/conda/lib/libpython3.6m.so.1.0\r\n",
      "python     34  41 jovyan  mem       REG                8,1   162632           394345 /lib/x86_64-linux-gnu/ld-2.23.so\r\n",
      "python     34  41 jovyan  mem       REG                8,1    26258           395222 /usr/lib/x86_64-linux-gnu/gconv/gconv-modules.cache\r\n",
      "python     34  41 jovyan  mem       REG                8,1  1668976           656066 /usr/lib/locale/locale-archive\r\n",
      "python     34  41 jovyan    0r     FIFO               0,10      0t0           183161 pipe\r\n",
      "python     34  41 jovyan    1w     FIFO               0,10      0t0           177822 pipe\r\n",
      "python     34  41 jovyan    2w     FIFO               0,10      0t0           177823 pipe\r\n",
      "python     34  41 jovyan    3r      CHR                1,9      0t0           177867 /dev/urandom\r\n",
      "python     34  41 jovyan    4w      CHR                1,3      0t0           177862 /dev/null\r\n",
      "python     34  41 jovyan    5u  a_inode               0,11        0            11923 [eventfd]\r\n",
      "python     34  41 jovyan    6r      CHR                1,9      0t0           177867 /dev/urandom\r\n",
      "python     34  41 jovyan    7u  a_inode               0,11        0            11923 [eventfd]\r\n",
      "python     34  41 jovyan    8u  a_inode               0,11        0            11923 [eventpoll]\r\n",
      "python     34  41 jovyan    9u  a_inode               0,11        0            11923 [eventfd]\r\n",
      "python     34  41 jovyan   10u  a_inode               0,11        0            11923 [eventpoll]\r\n",
      "python     34  41 jovyan   11u  a_inode               0,11        0            11923 [eventfd]\r\n",
      "python     34  41 jovyan   12u     IPv4             184807      0t0              TCP localhost:56409 (LISTEN)\r\n",
      "python     34  41 jovyan   13u  a_inode               0,11        0            11923 [eventfd]\r\n",
      "python     34  41 jovyan   14u     IPv4             184809      0t0              TCP localhost:37411 (LISTEN)\r\n",
      "python     34  41 jovyan   15u  a_inode               0,11        0            11923 [eventfd]\r\n",
      "python     34  41 jovyan   16u     IPv4             184811      0t0              TCP localhost:43441 (LISTEN)\r\n",
      "python     34  41 jovyan   17u  a_inode               0,11        0            11923 [eventfd]\r\n",
      "python     34  41 jovyan   18u     IPv4             184813      0t0              TCP localhost:50275 (LISTEN)\r\n",
      "python     34  41 jovyan   19u  a_inode               0,11        0            11923 [eventpoll]\r\n",
      "python     34  41 jovyan   20u     unix 0x0000000000000000      0t0           184814 type=STREAM\r\n",
      "python     34  41 jovyan   21u     unix 0x0000000000000000      0t0           184815 type=STREAM\r\n",
      "python     34  41 jovyan   22u  a_inode               0,11        0            11923 [eventfd]\r\n",
      "python     34  41 jovyan   23u     IPv4             184817      0t0              TCP localhost:36681 (LISTEN)\r\n",
      "python     34  41 jovyan   24u  a_inode               0,11        0            11923 [eventfd]\r\n",
      "python     34  41 jovyan   25u  a_inode               0,11        0            11923 [eventfd]\r\n",
      "python     34  41 jovyan   26u  a_inode               0,11        0            11923 [eventfd]\r\n",
      "python     34  41 jovyan   27u  a_inode               0,11        0            11923 [eventpoll]\r\n",
      "python     34  41 jovyan   28u  a_inode               0,11        0            11923 [eventfd]\r\n",
      "python     34  41 jovyan   29u  a_inode               0,11        0            11923 [eventpoll]\r\n",
      "python     34  41 jovyan   30u  a_inode               0,11        0            11923 [eventfd]\r\n",
      "python     34  41 jovyan   31u     IPv4             183196      0t0              TCP localhost:44415 (LISTEN)\r\n",
      "python     34  41 jovyan   32u  a_inode               0,11        0            11923 [eventpoll]\r\n",
      "python     34  41 jovyan   33u     unix 0x0000000000000000      0t0           184818 type=STREAM\r\n",
      "python     34  41 jovyan   34u     unix 0x0000000000000000      0t0           184819 type=STREAM\r\n",
      "python     34  41 jovyan   35u      REG                8,1    28672           262667 /home/jovyan/.ipython/profile_default/history.sqlite\r\n",
      "python     34  41 jovyan   36u      REG                8,1    28672           262667 /home/jovyan/.ipython/profile_default/history.sqlite\r\n",
      "python     34  41 jovyan   37u     IPv4             183197      0t0              TCP localhost:50275->localhost:49172 (ESTABLISHED)\r\n",
      "python     34  41 jovyan   38u     IPv4             183198      0t0              TCP localhost:43441->localhost:57652 (ESTABLISHED)\r\n",
      "python     34  41 jovyan   39u  a_inode               0,11        0            11923 [eventfd]\r\n",
      "python     34  41 jovyan   40u     IPv4             183205      0t0              TCP localhost:56409->localhost:55780 (ESTABLISHED)\r\n",
      "python     34  41 jovyan   41u     IPv4             183207      0t0              TCP localhost:50275->localhost:49190 (ESTABLISHED)\r\n",
      "python     34  41 jovyan   42u     IPv4             183209      0t0              TCP localhost:37411->localhost:49246 (ESTABLISHED)\r\n",
      "python     34  42 jovyan  cwd       DIR               0,61     4096 9570149208167180 /home/jovyan/openforum2018\r\n",
      "python     34  42 jovyan  rtd       DIR               0,59     4096           181289 /\r\n",
      "python     34  42 jovyan  txt       REG                8,1    14857           529056 /opt/conda/bin/python3.6\r\n",
      "python     34  42 jovyan  mem       REG                8,1  1686154           530853 /opt/conda/lib/python3.6/lib-dynload/_decimal.cpython-36m-x86_64-linux-gnu.so\r\n",
      "python     34  42 jovyan  mem       REG                8,1   375919           530873 /opt/conda/lib/python3.6/lib-dynload/_ssl.cpython-36m-x86_64-linux-gnu.so\r\n",
      "python     34  42 jovyan  mem       REG                8,1   194106           530836 /opt/conda/lib/python3.6/lib-dynload/_asyncio.cpython-36m-x86_64-linux-gnu.so\r\n",
      "python     34  42 jovyan  mem       REG                8,1    48787           530862 /opt/conda/lib/python3.6/lib-dynload/_multiprocessing.cpython-36m-x86_64-linux-gnu.so\r\n",
      "python     34  42 jovyan  mem       REG                8,1   316595           530850 /opt/conda/lib/python3.6/lib-dynload/_curses.cpython-36m-x86_64-linux-gnu.so\r\n",
      "python     34  42 jovyan  mem       REG                8,1    17873          1708597 /opt/conda/lib/python3.6/site-packages/tornado/speedups.cpython-36m-x86_64-linux-gnu.so\r\n",
      "python     34  42 jovyan  mem       REG                8,1    18976           394463 /lib/x86_64-linux-gnu/libuuid.so.1.3.0\r\n",
      "python     34  42 jovyan  mem       REG                8,1   228724          2230844 /opt/conda/lib/python3.6/site-packages/zmq/backend/cython/_device.cpython-36m-x86_64-linux-gnu.so\r\n",
      "python     34  42 jovyan  mem       REG                8,1    98032          2230846 /opt/conda/lib/python3.6/site-packages/zmq/backend/cython/_version.cpython-36m-x86_64-linux-gnu.so\r\n",
      "python     34  42 jovyan  mem       REG                8,1   327947          2230845 /opt/conda/lib/python3.6/site-packages/zmq/backend/cython/_poll.cpython-36m-x86_64-linux-gnu.so\r\n",
      "python     34  42 jovyan  mem       REG                8,1   149930          2230859 /opt/conda/lib/python3.6/site-packages/zmq/backend/cython/utils.cpython-36m-x86_64-linux-gnu.so\r\n",
      "python     34  42 jovyan  mem       REG                8,1   730559          2230857 /opt/conda/lib/python3.6/site-packages/zmq/backend/cython/socket.cpython-36m-x86_64-linux-gnu.so\r\n",
      "python     34  42 jovyan  mem       REG                8,1   311141          2230851 /opt/conda/lib/python3.6/site-packages/zmq/backend/cython/context.cpython-36m-x86_64-linux-gnu.so\r\n",
      "python     34  42 jovyan  mem       REG                8,1   452817          2230855 /opt/conda/lib/python3.6/site-packages/zmq/backend/cython/message.cpython-36m-x86_64-linux-gnu.so\r\n",
      "python     34  42 jovyan  mem       REG                8,1   115893          2230853 /opt/conda/lib/python3.6/site-packages/zmq/backend/cython/error.cpython-36m-x86_64-linux-gnu.so\r\n",
      "python     34  42 jovyan  mem       REG                8,1   706232           529510 /opt/conda/lib/libgcc_s.so.1\r\n",
      "python     34  42 jovyan  mem       REG                8,1  8167184           529575 /opt/conda/lib/libstdc++.so.6.0.24\r\n",
      "python     34  42 jovyan  mem       REG                8,1  1289027           661987 /opt/conda/lib/libzmq.so.5.1.5\r\n",
      "python     34  42 jovyan  mem       REG                8,1   228614          2230849 /opt/conda/lib/python3.6/site-packages/zmq/backend/cython/constants.cpython-36m-x86_64-linux-gnu.so\r\n",
      "python     34  42 jovyan  mem       REG                8,1   617309           530848 /opt/conda/lib/python3.6/lib-dynload/_ctypes.cpython-36m-x86_64-linux-gnu.so\r\n",
      "python     34  42 jovyan  mem       REG                8,1    64549           530858 /opt/conda/lib/python3.6/lib-dynload/_lsprof.cpython-36m-x86_64-linux-gnu.so\r\n",
      "python     34  42 jovyan  mem       REG                8,1   339757           530871 /opt/conda/lib/python3.6/lib-dynload/_socket.cpython-36m-x86_64-linux-gnu.so\r\n",
      "python     34  42 jovyan  mem       REG                8,1   963624           530898 /opt/conda/lib/python3.6/lib-dynload/unicodedata.cpython-36m-x86_64-linux-gnu.so\r\n",
      "python     34  42 jovyan  mem       REG                8,1   187746           530880 /opt/conda/lib/python3.6/lib-dynload/array.cpython-36m-x86_64-linux-gnu.so\r\n",
      "python     34  42 jovyan  mem       REG                8,1   249585           529581 /opt/conda/lib/libtinfo.so.5.9\r\n",
      "python     34  42 jovyan  mem       REG                8,1   176142           529542 /opt/conda/lib/libncurses.so.5.9\r\n",
      "python     34  42 jovyan  mem       REG                8,1  1165114           529569 /opt/conda/lib/libsqlite3.so.0.8.6\r\n",
      "python     34  42 jovyan  mem       REG                8,1   295030           530872 /opt/conda/lib/python3.6/lib-dynload/_sqlite3.cpython-36m-x86_64-linux-gnu.so\r\n",
      "python     34  42 jovyan  mem       REG                8,1   433613           530864 /opt/conda/lib/python3.6/lib-dynload/_pickle.cpython-36m-x86_64-linux-gnu.so\r\n",
      "python     34  42 jovyan  mem       REG                8,1   470165           530852 /opt/conda/lib/python3.6/lib-dynload/_datetime.cpython-36m-x86_64-linux-gnu.so\r\n",
      "python     34  42 jovyan  mem       REG                8,1    78638           530882 /opt/conda/lib/python3.6/lib-dynload/binascii.cpython-36m-x86_64-linux-gnu.so\r\n",
      "python     34  42 jovyan  mem       REG                8,1    32268           530893 /opt/conda/lib/python3.6/lib-dynload/resource.cpython-36m-x86_64-linux-gnu.so\r\n",
      "python     34  42 jovyan  mem       REG                8,1    41463           530884 /opt/conda/lib/python3.6/lib-dynload/fcntl.cpython-36m-x86_64-linux-gnu.so\r\n",
      "python     34  42 jovyan  mem       REG                8,1    46964           530897 /opt/conda/lib/python3.6/lib-dynload/termios.cpython-36m-x86_64-linux-gnu.so\r\n",
      "python     34  42 jovyan  mem       REG                8,1    37999           530866 /opt/conda/lib/python3.6/lib-dynload/_random.cpython-36m-x86_64-linux-gnu.so\r\n",
      "python     34  42 jovyan  mem       REG                8,1    33663           530837 /opt/conda/lib/python3.6/lib-dynload/_bisect.cpython-36m-x86_64-linux-gnu.so\r\n",
      "python     34  42 jovyan  mem       REG                8,1   355122           530869 /opt/conda/lib/python3.6/lib-dynload/_sha3.cpython-36m-x86_64-linux-gnu.so\r\n",
      "python     34  42 jovyan  mem       REG                8,1   329909           530838 /opt/conda/lib/python3.6/lib-dynload/_blake2.cpython-36m-x86_64-linux-gnu.so\r\n",
      "python     34  42 jovyan  mem       REG                8,1  2692340           529490 /opt/conda/lib/libcrypto.so.1.0.0\r\n",
      "python     34  42 jovyan  mem       REG                8,1   549929           529572 /opt/conda/lib/libssl.so.1.0.0\r\n",
      "python     34  42 jovyan  mem       REG                8,1    92355           530855 /opt/conda/lib/python3.6/lib-dynload/_hashlib.cpython-36m-x86_64-linux-gnu.so\r\n",
      "python     34  42 jovyan  mem       REG                8,1   159628           530874 /opt/conda/lib/python3.6/lib-dynload/_struct.cpython-36m-x86_64-linux-gnu.so\r\n",
      "python     34  42 jovyan  mem       REG                8,1    20447           530863 /opt/conda/lib/python3.6/lib-dynload/_opcode.cpython-36m-x86_64-linux-gnu.so\r\n",
      "python     34  42 jovyan  mem       REG                8,1    35500           530885 /opt/conda/lib/python3.6/lib-dynload/grp.cpython-36m-x86_64-linux-gnu.so\r\n",
      "python     34  42 jovyan  mem       REG                8,1   803563           529528 /opt/conda/lib/liblzma.so.5.2.3\r\n",
      "python     34  42 jovyan  mem       REG                8,1   117498           530859 /opt/conda/lib/python3.6/lib-dynload/_lzma.cpython-36m-x86_64-linux-gnu.so\r\n",
      "python     34  42 jovyan  mem       REG                8,1   269237           530839 /opt/conda/lib/python3.6/lib-dynload/_bz2.cpython-36m-x86_64-linux-gnu.so\r\n",
      "python     34  42 jovyan  mem       REG                8,1   127973           529602 /opt/conda/lib/libz.so.1.2.11\r\n",
      "python     34  42 jovyan  mem       REG                8,1   116664           530900 /opt/conda/lib/python3.6/lib-dynload/zlib.cpython-36m-x86_64-linux-gnu.so\r\n",
      "python     34  42 jovyan  mem       REG                8,1   210293           530886 /opt/conda/lib/python3.6/lib-dynload/math.cpython-36m-x86_64-linux-gnu.so\r\n",
      "python     34  42 jovyan  mem       REG                8,1    79124           530894 /opt/conda/lib/python3.6/lib-dynload/select.cpython-36m-x86_64-linux-gnu.so\r\n",
      "python     34  42 jovyan  mem       REG                8,1    85443           530865 /opt/conda/lib/python3.6/lib-dynload/_posixsubprocess.cpython-36m-x86_64-linux-gnu.so\r\n",
      "python     34  42 jovyan  mem       REG                8,1   164929           530857 /opt/conda/lib/python3.6/lib-dynload/_json.cpython-36m-x86_64-linux-gnu.so\r\n",
      "python     34  42 jovyan  mem       REG                8,1    47058           530856 /opt/conda/lib/python3.6/lib-dynload/_heapq.cpython-36m-x86_64-linux-gnu.so\r\n",
      "python     34  42 jovyan  mem       REG                8,1  1868984           394365 /lib/x86_64-linux-gnu/libc-2.23.so\r\n",
      "python     34  42 jovyan  mem       REG                8,1  1088952           394397 /lib/x86_64-linux-gnu/libm-2.23.so\r\n",
      "python     34  42 jovyan  mem       REG                8,1    31712           394440 /lib/x86_64-linux-gnu/librt-2.23.so\r\n",
      "python     34  42 jovyan  mem       REG                8,1    10656           394460 /lib/x86_64-linux-gnu/libutil-2.23.so\r\n",
      "python     34  42 jovyan  mem       REG                8,1    14608           394378 /lib/x86_64-linux-gnu/libdl-2.23.so\r\n",
      "python     34  42 jovyan  mem       REG                8,1   138696           394433 /lib/x86_64-linux-gnu/libpthread-2.23.so\r\n",
      "python     34  42 jovyan  mem       REG                8,1 12444567           529556 /opt/conda/lib/libpython3.6m.so.1.0\r\n",
      "python     34  42 jovyan  mem       REG                8,1   162632           394345 /lib/x86_64-linux-gnu/ld-2.23.so\r\n",
      "python     34  42 jovyan  mem       REG                8,1    26258           395222 /usr/lib/x86_64-linux-gnu/gconv/gconv-modules.cache\r\n",
      "python     34  42 jovyan  mem       REG                8,1  1668976           656066 /usr/lib/locale/locale-archive\r\n",
      "python     34  42 jovyan    0r     FIFO               0,10      0t0           183161 pipe\r\n",
      "python     34  42 jovyan    1w     FIFO               0,10      0t0           177822 pipe\r\n",
      "python     34  42 jovyan    2w     FIFO               0,10      0t0           177823 pipe\r\n",
      "python     34  42 jovyan    3r      CHR                1,9      0t0           177867 /dev/urandom\r\n",
      "python     34  42 jovyan    4w      CHR                1,3      0t0           177862 /dev/null\r\n",
      "python     34  42 jovyan    5u  a_inode               0,11        0            11923 [eventfd]\r\n",
      "python     34  42 jovyan    6r      CHR                1,9      0t0           177867 /dev/urandom\r\n",
      "python     34  42 jovyan    7u  a_inode               0,11        0            11923 [eventfd]\r\n",
      "python     34  42 jovyan    8u  a_inode               0,11        0            11923 [eventpoll]\r\n",
      "python     34  42 jovyan    9u  a_inode               0,11        0            11923 [eventfd]\r\n",
      "python     34  42 jovyan   10u  a_inode               0,11        0            11923 [eventpoll]\r\n",
      "python     34  42 jovyan   11u  a_inode               0,11        0            11923 [eventfd]\r\n",
      "python     34  42 jovyan   12u     IPv4             184807      0t0              TCP localhost:56409 (LISTEN)\r\n",
      "python     34  42 jovyan   13u  a_inode               0,11        0            11923 [eventfd]\r\n",
      "python     34  42 jovyan   14u     IPv4             184809      0t0              TCP localhost:37411 (LISTEN)\r\n",
      "python     34  42 jovyan   15u  a_inode               0,11        0            11923 [eventfd]\r\n",
      "python     34  42 jovyan   16u     IPv4             184811      0t0              TCP localhost:43441 (LISTEN)\r\n",
      "python     34  42 jovyan   17u  a_inode               0,11        0            11923 [eventfd]\r\n",
      "python     34  42 jovyan   18u     IPv4             184813      0t0              TCP localhost:50275 (LISTEN)\r\n",
      "python     34  42 jovyan   19u  a_inode               0,11        0            11923 [eventpoll]\r\n",
      "python     34  42 jovyan   20u     unix 0x0000000000000000      0t0           184814 type=STREAM\r\n",
      "python     34  42 jovyan   21u     unix 0x0000000000000000      0t0           184815 type=STREAM\r\n",
      "python     34  42 jovyan   22u  a_inode               0,11        0            11923 [eventfd]\r\n",
      "python     34  42 jovyan   23u     IPv4             184817      0t0              TCP localhost:36681 (LISTEN)\r\n",
      "python     34  42 jovyan   24u  a_inode               0,11        0            11923 [eventfd]\r\n",
      "python     34  42 jovyan   25u  a_inode               0,11        0            11923 [eventfd]\r\n",
      "python     34  42 jovyan   26u  a_inode               0,11        0            11923 [eventfd]\r\n",
      "python     34  42 jovyan   27u  a_inode               0,11        0            11923 [eventpoll]\r\n",
      "python     34  42 jovyan   28u  a_inode               0,11        0            11923 [eventfd]\r\n",
      "python     34  42 jovyan   29u  a_inode               0,11        0            11923 [eventpoll]\r\n",
      "python     34  42 jovyan   30u  a_inode               0,11        0            11923 [eventfd]\r\n",
      "python     34  42 jovyan   31u     IPv4             183196      0t0              TCP localhost:44415 (LISTEN)\r\n",
      "python     34  42 jovyan   32u  a_inode               0,11        0            11923 [eventpoll]\r\n",
      "python     34  42 jovyan   33u     unix 0x0000000000000000      0t0           184818 type=STREAM\r\n",
      "python     34  42 jovyan   34u     unix 0x0000000000000000      0t0           184819 type=STREAM\r\n",
      "python     34  42 jovyan   35u      REG                8,1    28672           262667 /home/jovyan/.ipython/profile_default/history.sqlite\r\n",
      "python     34  42 jovyan   36u      REG                8,1    28672           262667 /home/jovyan/.ipython/profile_default/history.sqlite\r\n",
      "python     34  42 jovyan   37u     IPv4             183197      0t0              TCP localhost:50275->localhost:49172 (ESTABLISHED)\r\n",
      "python     34  42 jovyan   38u     IPv4             183198      0t0              TCP localhost:43441->localhost:57652 (ESTABLISHED)\r\n",
      "python     34  42 jovyan   39u  a_inode               0,11        0            11923 [eventfd]\r\n",
      "python     34  42 jovyan   40u     IPv4             183205      0t0              TCP localhost:56409->localhost:55780 (ESTABLISHED)\r\n",
      "python     34  42 jovyan   41u     IPv4             183207      0t0              TCP localhost:50275->localhost:49190 (ESTABLISHED)\r\n",
      "python     34  42 jovyan   42u     IPv4             183209      0t0              TCP localhost:37411->localhost:49246 (ESTABLISHED)\r\n",
      "ZMQbg/2    34  43 jovyan  cwd       DIR               0,61     4096 9570149208167180 /home/jovyan/openforum2018\r\n",
      "ZMQbg/2    34  43 jovyan  rtd       DIR               0,59     4096           181289 /\r\n",
      "ZMQbg/2    34  43 jovyan  txt       REG                8,1    14857           529056 /opt/conda/bin/python3.6\r\n",
      "ZMQbg/2    34  43 jovyan  mem       REG                8,1  1686154           530853 /opt/conda/lib/python3.6/lib-dynload/_decimal.cpython-36m-x86_64-linux-gnu.so\r\n",
      "ZMQbg/2    34  43 jovyan  mem       REG                8,1   375919           530873 /opt/conda/lib/python3.6/lib-dynload/_ssl.cpython-36m-x86_64-linux-gnu.so\r\n",
      "ZMQbg/2    34  43 jovyan  mem       REG                8,1   194106           530836 /opt/conda/lib/python3.6/lib-dynload/_asyncio.cpython-36m-x86_64-linux-gnu.so\r\n",
      "ZMQbg/2    34  43 jovyan  mem       REG                8,1    48787           530862 /opt/conda/lib/python3.6/lib-dynload/_multiprocessing.cpython-36m-x86_64-linux-gnu.so\r\n",
      "ZMQbg/2    34  43 jovyan  mem       REG                8,1   316595           530850 /opt/conda/lib/python3.6/lib-dynload/_curses.cpython-36m-x86_64-linux-gnu.so\r\n",
      "ZMQbg/2    34  43 jovyan  mem       REG                8,1    17873          1708597 /opt/conda/lib/python3.6/site-packages/tornado/speedups.cpython-36m-x86_64-linux-gnu.so\r\n",
      "ZMQbg/2    34  43 jovyan  mem       REG                8,1    18976           394463 /lib/x86_64-linux-gnu/libuuid.so.1.3.0\r\n",
      "ZMQbg/2    34  43 jovyan  mem       REG                8,1   228724          2230844 /opt/conda/lib/python3.6/site-packages/zmq/backend/cython/_device.cpython-36m-x86_64-linux-gnu.so\r\n",
      "ZMQbg/2    34  43 jovyan  mem       REG                8,1    98032          2230846 /opt/conda/lib/python3.6/site-packages/zmq/backend/cython/_version.cpython-36m-x86_64-linux-gnu.so\r\n",
      "ZMQbg/2    34  43 jovyan  mem       REG                8,1   327947          2230845 /opt/conda/lib/python3.6/site-packages/zmq/backend/cython/_poll.cpython-36m-x86_64-linux-gnu.so\r\n",
      "ZMQbg/2    34  43 jovyan  mem       REG                8,1   149930          2230859 /opt/conda/lib/python3.6/site-packages/zmq/backend/cython/utils.cpython-36m-x86_64-linux-gnu.so\r\n",
      "ZMQbg/2    34  43 jovyan  mem       REG                8,1   730559          2230857 /opt/conda/lib/python3.6/site-packages/zmq/backend/cython/socket.cpython-36m-x86_64-linux-gnu.so\r\n",
      "ZMQbg/2    34  43 jovyan  mem       REG                8,1   311141          2230851 /opt/conda/lib/python3.6/site-packages/zmq/backend/cython/context.cpython-36m-x86_64-linux-gnu.so\r\n",
      "ZMQbg/2    34  43 jovyan  mem       REG                8,1   452817          2230855 /opt/conda/lib/python3.6/site-packages/zmq/backend/cython/message.cpython-36m-x86_64-linux-gnu.so\r\n",
      "ZMQbg/2    34  43 jovyan  mem       REG                8,1   115893          2230853 /opt/conda/lib/python3.6/site-packages/zmq/backend/cython/error.cpython-36m-x86_64-linux-gnu.so\r\n",
      "ZMQbg/2    34  43 jovyan  mem       REG                8,1   706232           529510 /opt/conda/lib/libgcc_s.so.1\r\n",
      "ZMQbg/2    34  43 jovyan  mem       REG                8,1  8167184           529575 /opt/conda/lib/libstdc++.so.6.0.24\r\n",
      "ZMQbg/2    34  43 jovyan  mem       REG                8,1  1289027           661987 /opt/conda/lib/libzmq.so.5.1.5\r\n",
      "ZMQbg/2    34  43 jovyan  mem       REG                8,1   228614          2230849 /opt/conda/lib/python3.6/site-packages/zmq/backend/cython/constants.cpython-36m-x86_64-linux-gnu.so\r\n",
      "ZMQbg/2    34  43 jovyan  mem       REG                8,1   617309           530848 /opt/conda/lib/python3.6/lib-dynload/_ctypes.cpython-36m-x86_64-linux-gnu.so\r\n",
      "ZMQbg/2    34  43 jovyan  mem       REG                8,1    64549           530858 /opt/conda/lib/python3.6/lib-dynload/_lsprof.cpython-36m-x86_64-linux-gnu.so\r\n",
      "ZMQbg/2    34  43 jovyan  mem       REG                8,1   339757           530871 /opt/conda/lib/python3.6/lib-dynload/_socket.cpython-36m-x86_64-linux-gnu.so\r\n",
      "ZMQbg/2    34  43 jovyan  mem       REG                8,1   963624           530898 /opt/conda/lib/python3.6/lib-dynload/unicodedata.cpython-36m-x86_64-linux-gnu.so\r\n",
      "ZMQbg/2    34  43 jovyan  mem       REG                8,1   187746           530880 /opt/conda/lib/python3.6/lib-dynload/array.cpython-36m-x86_64-linux-gnu.so\r\n",
      "ZMQbg/2    34  43 jovyan  mem       REG                8,1   249585           529581 /opt/conda/lib/libtinfo.so.5.9\r\n",
      "ZMQbg/2    34  43 jovyan  mem       REG                8,1   176142           529542 /opt/conda/lib/libncurses.so.5.9\r\n",
      "ZMQbg/2    34  43 jovyan  mem       REG                8,1  1165114           529569 /opt/conda/lib/libsqlite3.so.0.8.6\r\n",
      "ZMQbg/2    34  43 jovyan  mem       REG                8,1   295030           530872 /opt/conda/lib/python3.6/lib-dynload/_sqlite3.cpython-36m-x86_64-linux-gnu.so\r\n",
      "ZMQbg/2    34  43 jovyan  mem       REG                8,1   433613           530864 /opt/conda/lib/python3.6/lib-dynload/_pickle.cpython-36m-x86_64-linux-gnu.so\r\n",
      "ZMQbg/2    34  43 jovyan  mem       REG                8,1   470165           530852 /opt/conda/lib/python3.6/lib-dynload/_datetime.cpython-36m-x86_64-linux-gnu.so\r\n",
      "ZMQbg/2    34  43 jovyan  mem       REG                8,1    78638           530882 /opt/conda/lib/python3.6/lib-dynload/binascii.cpython-36m-x86_64-linux-gnu.so\r\n",
      "ZMQbg/2    34  43 jovyan  mem       REG                8,1    32268           530893 /opt/conda/lib/python3.6/lib-dynload/resource.cpython-36m-x86_64-linux-gnu.so\r\n",
      "ZMQbg/2    34  43 jovyan  mem       REG                8,1    41463           530884 /opt/conda/lib/python3.6/lib-dynload/fcntl.cpython-36m-x86_64-linux-gnu.so\r\n",
      "ZMQbg/2    34  43 jovyan  mem       REG                8,1    46964           530897 /opt/conda/lib/python3.6/lib-dynload/termios.cpython-36m-x86_64-linux-gnu.so\r\n",
      "ZMQbg/2    34  43 jovyan  mem       REG                8,1    37999           530866 /opt/conda/lib/python3.6/lib-dynload/_random.cpython-36m-x86_64-linux-gnu.so\r\n",
      "ZMQbg/2    34  43 jovyan  mem       REG                8,1    33663           530837 /opt/conda/lib/python3.6/lib-dynload/_bisect.cpython-36m-x86_64-linux-gnu.so\r\n",
      "ZMQbg/2    34  43 jovyan  mem       REG                8,1   355122           530869 /opt/conda/lib/python3.6/lib-dynload/_sha3.cpython-36m-x86_64-linux-gnu.so\r\n",
      "ZMQbg/2    34  43 jovyan  mem       REG                8,1   329909           530838 /opt/conda/lib/python3.6/lib-dynload/_blake2.cpython-36m-x86_64-linux-gnu.so\r\n",
      "ZMQbg/2    34  43 jovyan  mem       REG                8,1  2692340           529490 /opt/conda/lib/libcrypto.so.1.0.0\r\n",
      "ZMQbg/2    34  43 jovyan  mem       REG                8,1   549929           529572 /opt/conda/lib/libssl.so.1.0.0\r\n",
      "ZMQbg/2    34  43 jovyan  mem       REG                8,1    92355           530855 /opt/conda/lib/python3.6/lib-dynload/_hashlib.cpython-36m-x86_64-linux-gnu.so\r\n",
      "ZMQbg/2    34  43 jovyan  mem       REG                8,1   159628           530874 /opt/conda/lib/python3.6/lib-dynload/_struct.cpython-36m-x86_64-linux-gnu.so\r\n",
      "ZMQbg/2    34  43 jovyan  mem       REG                8,1    20447           530863 /opt/conda/lib/python3.6/lib-dynload/_opcode.cpython-36m-x86_64-linux-gnu.so\r\n",
      "ZMQbg/2    34  43 jovyan  mem       REG                8,1    35500           530885 /opt/conda/lib/python3.6/lib-dynload/grp.cpython-36m-x86_64-linux-gnu.so\r\n",
      "ZMQbg/2    34  43 jovyan  mem       REG                8,1   803563           529528 /opt/conda/lib/liblzma.so.5.2.3\r\n",
      "ZMQbg/2    34  43 jovyan  mem       REG                8,1   117498           530859 /opt/conda/lib/python3.6/lib-dynload/_lzma.cpython-36m-x86_64-linux-gnu.so\r\n",
      "ZMQbg/2    34  43 jovyan  mem       REG                8,1   269237           530839 /opt/conda/lib/python3.6/lib-dynload/_bz2.cpython-36m-x86_64-linux-gnu.so\r\n",
      "ZMQbg/2    34  43 jovyan  mem       REG                8,1   127973           529602 /opt/conda/lib/libz.so.1.2.11\r\n",
      "ZMQbg/2    34  43 jovyan  mem       REG                8,1   116664           530900 /opt/conda/lib/python3.6/lib-dynload/zlib.cpython-36m-x86_64-linux-gnu.so\r\n",
      "ZMQbg/2    34  43 jovyan  mem       REG                8,1   210293           530886 /opt/conda/lib/python3.6/lib-dynload/math.cpython-36m-x86_64-linux-gnu.so\r\n",
      "ZMQbg/2    34  43 jovyan  mem       REG                8,1    79124           530894 /opt/conda/lib/python3.6/lib-dynload/select.cpython-36m-x86_64-linux-gnu.so\r\n",
      "ZMQbg/2    34  43 jovyan  mem       REG                8,1    85443           530865 /opt/conda/lib/python3.6/lib-dynload/_posixsubprocess.cpython-36m-x86_64-linux-gnu.so\r\n",
      "ZMQbg/2    34  43 jovyan  mem       REG                8,1   164929           530857 /opt/conda/lib/python3.6/lib-dynload/_json.cpython-36m-x86_64-linux-gnu.so\r\n",
      "ZMQbg/2    34  43 jovyan  mem       REG                8,1    47058           530856 /opt/conda/lib/python3.6/lib-dynload/_heapq.cpython-36m-x86_64-linux-gnu.so\r\n",
      "ZMQbg/2    34  43 jovyan  mem       REG                8,1  1868984           394365 /lib/x86_64-linux-gnu/libc-2.23.so\r\n",
      "ZMQbg/2    34  43 jovyan  mem       REG                8,1  1088952           394397 /lib/x86_64-linux-gnu/libm-2.23.so\r\n",
      "ZMQbg/2    34  43 jovyan  mem       REG                8,1    31712           394440 /lib/x86_64-linux-gnu/librt-2.23.so\r\n",
      "ZMQbg/2    34  43 jovyan  mem       REG                8,1    10656           394460 /lib/x86_64-linux-gnu/libutil-2.23.so\r\n",
      "ZMQbg/2    34  43 jovyan  mem       REG                8,1    14608           394378 /lib/x86_64-linux-gnu/libdl-2.23.so\r\n",
      "ZMQbg/2    34  43 jovyan  mem       REG                8,1   138696           394433 /lib/x86_64-linux-gnu/libpthread-2.23.so\r\n",
      "ZMQbg/2    34  43 jovyan  mem       REG                8,1 12444567           529556 /opt/conda/lib/libpython3.6m.so.1.0\r\n",
      "ZMQbg/2    34  43 jovyan  mem       REG                8,1   162632           394345 /lib/x86_64-linux-gnu/ld-2.23.so\r\n",
      "ZMQbg/2    34  43 jovyan  mem       REG                8,1    26258           395222 /usr/lib/x86_64-linux-gnu/gconv/gconv-modules.cache\r\n",
      "ZMQbg/2    34  43 jovyan  mem       REG                8,1  1668976           656066 /usr/lib/locale/locale-archive\r\n",
      "ZMQbg/2    34  43 jovyan    0r     FIFO               0,10      0t0           183161 pipe\r\n",
      "ZMQbg/2    34  43 jovyan    1w     FIFO               0,10      0t0           177822 pipe\r\n",
      "ZMQbg/2    34  43 jovyan    2w     FIFO               0,10      0t0           177823 pipe\r\n",
      "ZMQbg/2    34  43 jovyan    3r      CHR                1,9      0t0           177867 /dev/urandom\r\n",
      "ZMQbg/2    34  43 jovyan    4w      CHR                1,3      0t0           177862 /dev/null\r\n",
      "ZMQbg/2    34  43 jovyan    5u  a_inode               0,11        0            11923 [eventfd]\r\n",
      "ZMQbg/2    34  43 jovyan    6r      CHR                1,9      0t0           177867 /dev/urandom\r\n",
      "ZMQbg/2    34  43 jovyan    7u  a_inode               0,11        0            11923 [eventfd]\r\n",
      "ZMQbg/2    34  43 jovyan    8u  a_inode               0,11        0            11923 [eventpoll]\r\n",
      "ZMQbg/2    34  43 jovyan    9u  a_inode               0,11        0            11923 [eventfd]\r\n",
      "ZMQbg/2    34  43 jovyan   10u  a_inode               0,11        0            11923 [eventpoll]\r\n",
      "ZMQbg/2    34  43 jovyan   11u  a_inode               0,11        0            11923 [eventfd]\r\n",
      "ZMQbg/2    34  43 jovyan   12u     IPv4             184807      0t0              TCP localhost:56409 (LISTEN)\r\n",
      "ZMQbg/2    34  43 jovyan   13u  a_inode               0,11        0            11923 [eventfd]\r\n",
      "ZMQbg/2    34  43 jovyan   14u     IPv4             184809      0t0              TCP localhost:37411 (LISTEN)\r\n",
      "ZMQbg/2    34  43 jovyan   15u  a_inode               0,11        0            11923 [eventfd]\r\n",
      "ZMQbg/2    34  43 jovyan   16u     IPv4             184811      0t0              TCP localhost:43441 (LISTEN)\r\n",
      "ZMQbg/2    34  43 jovyan   17u  a_inode               0,11        0            11923 [eventfd]\r\n",
      "ZMQbg/2    34  43 jovyan   18u     IPv4             184813      0t0              TCP localhost:50275 (LISTEN)\r\n",
      "ZMQbg/2    34  43 jovyan   19u  a_inode               0,11        0            11923 [eventpoll]\r\n",
      "ZMQbg/2    34  43 jovyan   20u     unix 0x0000000000000000      0t0           184814 type=STREAM\r\n",
      "ZMQbg/2    34  43 jovyan   21u     unix 0x0000000000000000      0t0           184815 type=STREAM\r\n",
      "ZMQbg/2    34  43 jovyan   22u  a_inode               0,11        0            11923 [eventfd]\r\n",
      "ZMQbg/2    34  43 jovyan   23u     IPv4             184817      0t0              TCP localhost:36681 (LISTEN)\r\n",
      "ZMQbg/2    34  43 jovyan   24u  a_inode               0,11        0            11923 [eventfd]\r\n",
      "ZMQbg/2    34  43 jovyan   25u  a_inode               0,11        0            11923 [eventfd]\r\n",
      "ZMQbg/2    34  43 jovyan   26u  a_inode               0,11        0            11923 [eventfd]\r\n",
      "ZMQbg/2    34  43 jovyan   27u  a_inode               0,11        0            11923 [eventpoll]\r\n",
      "ZMQbg/2    34  43 jovyan   28u  a_inode               0,11        0            11923 [eventfd]\r\n",
      "ZMQbg/2    34  43 jovyan   29u  a_inode               0,11        0            11923 [eventpoll]\r\n",
      "ZMQbg/2    34  43 jovyan   30u  a_inode               0,11        0            11923 [eventfd]\r\n",
      "ZMQbg/2    34  43 jovyan   31u     IPv4             183196      0t0              TCP localhost:44415 (LISTEN)\r\n",
      "ZMQbg/2    34  43 jovyan   32u  a_inode               0,11        0            11923 [eventpoll]\r\n",
      "ZMQbg/2    34  43 jovyan   33u     unix 0x0000000000000000      0t0           184818 type=STREAM\r\n",
      "ZMQbg/2    34  43 jovyan   34u     unix 0x0000000000000000      0t0           184819 type=STREAM\r\n",
      "ZMQbg/2    34  43 jovyan   35u      REG                8,1    28672           262667 /home/jovyan/.ipython/profile_default/history.sqlite\r\n",
      "ZMQbg/2    34  43 jovyan   36u      REG                8,1    28672           262667 /home/jovyan/.ipython/profile_default/history.sqlite\r\n",
      "ZMQbg/2    34  43 jovyan   37u     IPv4             183197      0t0              TCP localhost:50275->localhost:49172 (ESTABLISHED)\r\n",
      "ZMQbg/2    34  43 jovyan   38u     IPv4             183198      0t0              TCP localhost:43441->localhost:57652 (ESTABLISHED)\r\n",
      "ZMQbg/2    34  43 jovyan   39u  a_inode               0,11        0            11923 [eventfd]\r\n",
      "ZMQbg/2    34  43 jovyan   40u     IPv4             183205      0t0              TCP localhost:56409->localhost:55780 (ESTABLISHED)\r\n",
      "ZMQbg/2    34  43 jovyan   41u     IPv4             183207      0t0              TCP localhost:50275->localhost:49190 (ESTABLISHED)\r\n",
      "ZMQbg/2    34  43 jovyan   42u     IPv4             183209      0t0              TCP localhost:37411->localhost:49246 (ESTABLISHED)\r\n",
      "ZMQbg/3    34  44 jovyan  cwd       DIR               0,61     4096 9570149208167180 /home/jovyan/openforum2018\r\n",
      "ZMQbg/3    34  44 jovyan  rtd       DIR               0,59     4096           181289 /\r\n",
      "ZMQbg/3    34  44 jovyan  txt       REG                8,1    14857           529056 /opt/conda/bin/python3.6\r\n",
      "ZMQbg/3    34  44 jovyan  mem       REG                8,1  1686154           530853 /opt/conda/lib/python3.6/lib-dynload/_decimal.cpython-36m-x86_64-linux-gnu.so\r\n",
      "ZMQbg/3    34  44 jovyan  mem       REG                8,1   375919           530873 /opt/conda/lib/python3.6/lib-dynload/_ssl.cpython-36m-x86_64-linux-gnu.so\r\n",
      "ZMQbg/3    34  44 jovyan  mem       REG                8,1   194106           530836 /opt/conda/lib/python3.6/lib-dynload/_asyncio.cpython-36m-x86_64-linux-gnu.so\r\n",
      "ZMQbg/3    34  44 jovyan  mem       REG                8,1    48787           530862 /opt/conda/lib/python3.6/lib-dynload/_multiprocessing.cpython-36m-x86_64-linux-gnu.so\r\n",
      "ZMQbg/3    34  44 jovyan  mem       REG                8,1   316595           530850 /opt/conda/lib/python3.6/lib-dynload/_curses.cpython-36m-x86_64-linux-gnu.so\r\n",
      "ZMQbg/3    34  44 jovyan  mem       REG                8,1    17873          1708597 /opt/conda/lib/python3.6/site-packages/tornado/speedups.cpython-36m-x86_64-linux-gnu.so\r\n",
      "ZMQbg/3    34  44 jovyan  mem       REG                8,1    18976           394463 /lib/x86_64-linux-gnu/libuuid.so.1.3.0\r\n",
      "ZMQbg/3    34  44 jovyan  mem       REG                8,1   228724          2230844 /opt/conda/lib/python3.6/site-packages/zmq/backend/cython/_device.cpython-36m-x86_64-linux-gnu.so\r\n",
      "ZMQbg/3    34  44 jovyan  mem       REG                8,1    98032          2230846 /opt/conda/lib/python3.6/site-packages/zmq/backend/cython/_version.cpython-36m-x86_64-linux-gnu.so\r\n",
      "ZMQbg/3    34  44 jovyan  mem       REG                8,1   327947          2230845 /opt/conda/lib/python3.6/site-packages/zmq/backend/cython/_poll.cpython-36m-x86_64-linux-gnu.so\r\n",
      "ZMQbg/3    34  44 jovyan  mem       REG                8,1   149930          2230859 /opt/conda/lib/python3.6/site-packages/zmq/backend/cython/utils.cpython-36m-x86_64-linux-gnu.so\r\n",
      "ZMQbg/3    34  44 jovyan  mem       REG                8,1   730559          2230857 /opt/conda/lib/python3.6/site-packages/zmq/backend/cython/socket.cpython-36m-x86_64-linux-gnu.so\r\n",
      "ZMQbg/3    34  44 jovyan  mem       REG                8,1   311141          2230851 /opt/conda/lib/python3.6/site-packages/zmq/backend/cython/context.cpython-36m-x86_64-linux-gnu.so\r\n",
      "ZMQbg/3    34  44 jovyan  mem       REG                8,1   452817          2230855 /opt/conda/lib/python3.6/site-packages/zmq/backend/cython/message.cpython-36m-x86_64-linux-gnu.so\r\n",
      "ZMQbg/3    34  44 jovyan  mem       REG                8,1   115893          2230853 /opt/conda/lib/python3.6/site-packages/zmq/backend/cython/error.cpython-36m-x86_64-linux-gnu.so\r\n",
      "ZMQbg/3    34  44 jovyan  mem       REG                8,1   706232           529510 /opt/conda/lib/libgcc_s.so.1\r\n",
      "ZMQbg/3    34  44 jovyan  mem       REG                8,1  8167184           529575 /opt/conda/lib/libstdc++.so.6.0.24\r\n",
      "ZMQbg/3    34  44 jovyan  mem       REG                8,1  1289027           661987 /opt/conda/lib/libzmq.so.5.1.5\r\n",
      "ZMQbg/3    34  44 jovyan  mem       REG                8,1   228614          2230849 /opt/conda/lib/python3.6/site-packages/zmq/backend/cython/constants.cpython-36m-x86_64-linux-gnu.so\r\n",
      "ZMQbg/3    34  44 jovyan  mem       REG                8,1   617309           530848 /opt/conda/lib/python3.6/lib-dynload/_ctypes.cpython-36m-x86_64-linux-gnu.so\r\n",
      "ZMQbg/3    34  44 jovyan  mem       REG                8,1    64549           530858 /opt/conda/lib/python3.6/lib-dynload/_lsprof.cpython-36m-x86_64-linux-gnu.so\r\n",
      "ZMQbg/3    34  44 jovyan  mem       REG                8,1   339757           530871 /opt/conda/lib/python3.6/lib-dynload/_socket.cpython-36m-x86_64-linux-gnu.so\r\n",
      "ZMQbg/3    34  44 jovyan  mem       REG                8,1   963624           530898 /opt/conda/lib/python3.6/lib-dynload/unicodedata.cpython-36m-x86_64-linux-gnu.so\r\n",
      "ZMQbg/3    34  44 jovyan  mem       REG                8,1   187746           530880 /opt/conda/lib/python3.6/lib-dynload/array.cpython-36m-x86_64-linux-gnu.so\r\n",
      "ZMQbg/3    34  44 jovyan  mem       REG                8,1   249585           529581 /opt/conda/lib/libtinfo.so.5.9\r\n",
      "ZMQbg/3    34  44 jovyan  mem       REG                8,1   176142           529542 /opt/conda/lib/libncurses.so.5.9\r\n",
      "ZMQbg/3    34  44 jovyan  mem       REG                8,1  1165114           529569 /opt/conda/lib/libsqlite3.so.0.8.6\r\n",
      "ZMQbg/3    34  44 jovyan  mem       REG                8,1   295030           530872 /opt/conda/lib/python3.6/lib-dynload/_sqlite3.cpython-36m-x86_64-linux-gnu.so\r\n",
      "ZMQbg/3    34  44 jovyan  mem       REG                8,1   433613           530864 /opt/conda/lib/python3.6/lib-dynload/_pickle.cpython-36m-x86_64-linux-gnu.so\r\n",
      "ZMQbg/3    34  44 jovyan  mem       REG                8,1   470165           530852 /opt/conda/lib/python3.6/lib-dynload/_datetime.cpython-36m-x86_64-linux-gnu.so\r\n",
      "ZMQbg/3    34  44 jovyan  mem       REG                8,1    78638           530882 /opt/conda/lib/python3.6/lib-dynload/binascii.cpython-36m-x86_64-linux-gnu.so\r\n",
      "ZMQbg/3    34  44 jovyan  mem       REG                8,1    32268           530893 /opt/conda/lib/python3.6/lib-dynload/resource.cpython-36m-x86_64-linux-gnu.so\r\n",
      "ZMQbg/3    34  44 jovyan  mem       REG                8,1    41463           530884 /opt/conda/lib/python3.6/lib-dynload/fcntl.cpython-36m-x86_64-linux-gnu.so\r\n",
      "ZMQbg/3    34  44 jovyan  mem       REG                8,1    46964           530897 /opt/conda/lib/python3.6/lib-dynload/termios.cpython-36m-x86_64-linux-gnu.so\r\n",
      "ZMQbg/3    34  44 jovyan  mem       REG                8,1    37999           530866 /opt/conda/lib/python3.6/lib-dynload/_random.cpython-36m-x86_64-linux-gnu.so\r\n",
      "ZMQbg/3    34  44 jovyan  mem       REG                8,1    33663           530837 /opt/conda/lib/python3.6/lib-dynload/_bisect.cpython-36m-x86_64-linux-gnu.so\r\n",
      "ZMQbg/3    34  44 jovyan  mem       REG                8,1   355122           530869 /opt/conda/lib/python3.6/lib-dynload/_sha3.cpython-36m-x86_64-linux-gnu.so\r\n",
      "ZMQbg/3    34  44 jovyan  mem       REG                8,1   329909           530838 /opt/conda/lib/python3.6/lib-dynload/_blake2.cpython-36m-x86_64-linux-gnu.so\r\n",
      "ZMQbg/3    34  44 jovyan  mem       REG                8,1  2692340           529490 /opt/conda/lib/libcrypto.so.1.0.0\r\n",
      "ZMQbg/3    34  44 jovyan  mem       REG                8,1   549929           529572 /opt/conda/lib/libssl.so.1.0.0\r\n",
      "ZMQbg/3    34  44 jovyan  mem       REG                8,1    92355           530855 /opt/conda/lib/python3.6/lib-dynload/_hashlib.cpython-36m-x86_64-linux-gnu.so\r\n",
      "ZMQbg/3    34  44 jovyan  mem       REG                8,1   159628           530874 /opt/conda/lib/python3.6/lib-dynload/_struct.cpython-36m-x86_64-linux-gnu.so\r\n",
      "ZMQbg/3    34  44 jovyan  mem       REG                8,1    20447           530863 /opt/conda/lib/python3.6/lib-dynload/_opcode.cpython-36m-x86_64-linux-gnu.so\r\n",
      "ZMQbg/3    34  44 jovyan  mem       REG                8,1    35500           530885 /opt/conda/lib/python3.6/lib-dynload/grp.cpython-36m-x86_64-linux-gnu.so\r\n",
      "ZMQbg/3    34  44 jovyan  mem       REG                8,1   803563           529528 /opt/conda/lib/liblzma.so.5.2.3\r\n",
      "ZMQbg/3    34  44 jovyan  mem       REG                8,1   117498           530859 /opt/conda/lib/python3.6/lib-dynload/_lzma.cpython-36m-x86_64-linux-gnu.so\r\n",
      "ZMQbg/3    34  44 jovyan  mem       REG                8,1   269237           530839 /opt/conda/lib/python3.6/lib-dynload/_bz2.cpython-36m-x86_64-linux-gnu.so\r\n",
      "ZMQbg/3    34  44 jovyan  mem       REG                8,1   127973           529602 /opt/conda/lib/libz.so.1.2.11\r\n",
      "ZMQbg/3    34  44 jovyan  mem       REG                8,1   116664           530900 /opt/conda/lib/python3.6/lib-dynload/zlib.cpython-36m-x86_64-linux-gnu.so\r\n",
      "ZMQbg/3    34  44 jovyan  mem       REG                8,1   210293           530886 /opt/conda/lib/python3.6/lib-dynload/math.cpython-36m-x86_64-linux-gnu.so\r\n",
      "ZMQbg/3    34  44 jovyan  mem       REG                8,1    79124           530894 /opt/conda/lib/python3.6/lib-dynload/select.cpython-36m-x86_64-linux-gnu.so\r\n",
      "ZMQbg/3    34  44 jovyan  mem       REG                8,1    85443           530865 /opt/conda/lib/python3.6/lib-dynload/_posixsubprocess.cpython-36m-x86_64-linux-gnu.so\r\n",
      "ZMQbg/3    34  44 jovyan  mem       REG                8,1   164929           530857 /opt/conda/lib/python3.6/lib-dynload/_json.cpython-36m-x86_64-linux-gnu.so\r\n",
      "ZMQbg/3    34  44 jovyan  mem       REG                8,1    47058           530856 /opt/conda/lib/python3.6/lib-dynload/_heapq.cpython-36m-x86_64-linux-gnu.so\r\n",
      "ZMQbg/3    34  44 jovyan  mem       REG                8,1  1868984           394365 /lib/x86_64-linux-gnu/libc-2.23.so\r\n",
      "ZMQbg/3    34  44 jovyan  mem       REG                8,1  1088952           394397 /lib/x86_64-linux-gnu/libm-2.23.so\r\n",
      "ZMQbg/3    34  44 jovyan  mem       REG                8,1    31712           394440 /lib/x86_64-linux-gnu/librt-2.23.so\r\n",
      "ZMQbg/3    34  44 jovyan  mem       REG                8,1    10656           394460 /lib/x86_64-linux-gnu/libutil-2.23.so\r\n",
      "ZMQbg/3    34  44 jovyan  mem       REG                8,1    14608           394378 /lib/x86_64-linux-gnu/libdl-2.23.so\r\n",
      "ZMQbg/3    34  44 jovyan  mem       REG                8,1   138696           394433 /lib/x86_64-linux-gnu/libpthread-2.23.so\r\n",
      "ZMQbg/3    34  44 jovyan  mem       REG                8,1 12444567           529556 /opt/conda/lib/libpython3.6m.so.1.0\r\n",
      "ZMQbg/3    34  44 jovyan  mem       REG                8,1   162632           394345 /lib/x86_64-linux-gnu/ld-2.23.so\r\n",
      "ZMQbg/3    34  44 jovyan  mem       REG                8,1    26258           395222 /usr/lib/x86_64-linux-gnu/gconv/gconv-modules.cache\r\n",
      "ZMQbg/3    34  44 jovyan  mem       REG                8,1  1668976           656066 /usr/lib/locale/locale-archive\r\n",
      "ZMQbg/3    34  44 jovyan    0r     FIFO               0,10      0t0           183161 pipe\r\n",
      "ZMQbg/3    34  44 jovyan    1w     FIFO               0,10      0t0           177822 pipe\r\n",
      "ZMQbg/3    34  44 jovyan    2w     FIFO               0,10      0t0           177823 pipe\r\n",
      "ZMQbg/3    34  44 jovyan    3r      CHR                1,9      0t0           177867 /dev/urandom\r\n",
      "ZMQbg/3    34  44 jovyan    4w      CHR                1,3      0t0           177862 /dev/null\r\n",
      "ZMQbg/3    34  44 jovyan    5u  a_inode               0,11        0            11923 [eventfd]\r\n",
      "ZMQbg/3    34  44 jovyan    6r      CHR                1,9      0t0           177867 /dev/urandom\r\n",
      "ZMQbg/3    34  44 jovyan    7u  a_inode               0,11        0            11923 [eventfd]\r\n",
      "ZMQbg/3    34  44 jovyan    8u  a_inode               0,11        0            11923 [eventpoll]\r\n",
      "ZMQbg/3    34  44 jovyan    9u  a_inode               0,11        0            11923 [eventfd]\r\n",
      "ZMQbg/3    34  44 jovyan   10u  a_inode               0,11        0            11923 [eventpoll]\r\n",
      "ZMQbg/3    34  44 jovyan   11u  a_inode               0,11        0            11923 [eventfd]\r\n",
      "ZMQbg/3    34  44 jovyan   12u     IPv4             184807      0t0              TCP localhost:56409 (LISTEN)\r\n",
      "ZMQbg/3    34  44 jovyan   13u  a_inode               0,11        0            11923 [eventfd]\r\n",
      "ZMQbg/3    34  44 jovyan   14u     IPv4             184809      0t0              TCP localhost:37411 (LISTEN)\r\n",
      "ZMQbg/3    34  44 jovyan   15u  a_inode               0,11        0            11923 [eventfd]\r\n",
      "ZMQbg/3    34  44 jovyan   16u     IPv4             184811      0t0              TCP localhost:43441 (LISTEN)\r\n",
      "ZMQbg/3    34  44 jovyan   17u  a_inode               0,11        0            11923 [eventfd]\r\n",
      "ZMQbg/3    34  44 jovyan   18u     IPv4             184813      0t0              TCP localhost:50275 (LISTEN)\r\n",
      "ZMQbg/3    34  44 jovyan   19u  a_inode               0,11        0            11923 [eventpoll]\r\n",
      "ZMQbg/3    34  44 jovyan   20u     unix 0x0000000000000000      0t0           184814 type=STREAM\r\n",
      "ZMQbg/3    34  44 jovyan   21u     unix 0x0000000000000000      0t0           184815 type=STREAM\r\n",
      "ZMQbg/3    34  44 jovyan   22u  a_inode               0,11        0            11923 [eventfd]\r\n",
      "ZMQbg/3    34  44 jovyan   23u     IPv4             184817      0t0              TCP localhost:36681 (LISTEN)\r\n",
      "ZMQbg/3    34  44 jovyan   24u  a_inode               0,11        0            11923 [eventfd]\r\n",
      "ZMQbg/3    34  44 jovyan   25u  a_inode               0,11        0            11923 [eventfd]\r\n",
      "ZMQbg/3    34  44 jovyan   26u  a_inode               0,11        0            11923 [eventfd]\r\n",
      "ZMQbg/3    34  44 jovyan   27u  a_inode               0,11        0            11923 [eventpoll]\r\n",
      "ZMQbg/3    34  44 jovyan   28u  a_inode               0,11        0            11923 [eventfd]\r\n",
      "ZMQbg/3    34  44 jovyan   29u  a_inode               0,11        0            11923 [eventpoll]\r\n",
      "ZMQbg/3    34  44 jovyan   30u  a_inode               0,11        0            11923 [eventfd]\r\n",
      "ZMQbg/3    34  44 jovyan   31u     IPv4             183196      0t0              TCP localhost:44415 (LISTEN)\r\n",
      "ZMQbg/3    34  44 jovyan   32u  a_inode               0,11        0            11923 [eventpoll]\r\n",
      "ZMQbg/3    34  44 jovyan   33u     unix 0x0000000000000000      0t0           184818 type=STREAM\r\n",
      "ZMQbg/3    34  44 jovyan   34u     unix 0x0000000000000000      0t0           184819 type=STREAM\r\n",
      "ZMQbg/3    34  44 jovyan   35u      REG                8,1    28672           262667 /home/jovyan/.ipython/profile_default/history.sqlite\r\n",
      "ZMQbg/3    34  44 jovyan   36u      REG                8,1    28672           262667 /home/jovyan/.ipython/profile_default/history.sqlite\r\n",
      "ZMQbg/3    34  44 jovyan   37u     IPv4             183197      0t0              TCP localhost:50275->localhost:49172 (ESTABLISHED)\r\n",
      "ZMQbg/3    34  44 jovyan   38u     IPv4             183198      0t0              TCP localhost:43441->localhost:57652 (ESTABLISHED)\r\n",
      "ZMQbg/3    34  44 jovyan   39u  a_inode               0,11        0            11923 [eventfd]\r\n",
      "ZMQbg/3    34  44 jovyan   40u     IPv4             183205      0t0              TCP localhost:56409->localhost:55780 (ESTABLISHED)\r\n",
      "ZMQbg/3    34  44 jovyan   41u     IPv4             183207      0t0              TCP localhost:50275->localhost:49190 (ESTABLISHED)\r\n",
      "ZMQbg/3    34  44 jovyan   42u     IPv4             183209      0t0              TCP localhost:37411->localhost:49246 (ESTABLISHED)\r\n",
      "python     34  45 jovyan  cwd       DIR               0,61     4096 9570149208167180 /home/jovyan/openforum2018\r\n",
      "python     34  45 jovyan  rtd       DIR               0,59     4096           181289 /\r\n",
      "python     34  45 jovyan  txt       REG                8,1    14857           529056 /opt/conda/bin/python3.6\r\n",
      "python     34  45 jovyan  mem       REG                8,1  1686154           530853 /opt/conda/lib/python3.6/lib-dynload/_decimal.cpython-36m-x86_64-linux-gnu.so\r\n",
      "python     34  45 jovyan  mem       REG                8,1   375919           530873 /opt/conda/lib/python3.6/lib-dynload/_ssl.cpython-36m-x86_64-linux-gnu.so\r\n",
      "python     34  45 jovyan  mem       REG                8,1   194106           530836 /opt/conda/lib/python3.6/lib-dynload/_asyncio.cpython-36m-x86_64-linux-gnu.so\r\n",
      "python     34  45 jovyan  mem       REG                8,1    48787           530862 /opt/conda/lib/python3.6/lib-dynload/_multiprocessing.cpython-36m-x86_64-linux-gnu.so\r\n",
      "python     34  45 jovyan  mem       REG                8,1   316595           530850 /opt/conda/lib/python3.6/lib-dynload/_curses.cpython-36m-x86_64-linux-gnu.so\r\n",
      "python     34  45 jovyan  mem       REG                8,1    17873          1708597 /opt/conda/lib/python3.6/site-packages/tornado/speedups.cpython-36m-x86_64-linux-gnu.so\r\n",
      "python     34  45 jovyan  mem       REG                8,1    18976           394463 /lib/x86_64-linux-gnu/libuuid.so.1.3.0\r\n",
      "python     34  45 jovyan  mem       REG                8,1   228724          2230844 /opt/conda/lib/python3.6/site-packages/zmq/backend/cython/_device.cpython-36m-x86_64-linux-gnu.so\r\n",
      "python     34  45 jovyan  mem       REG                8,1    98032          2230846 /opt/conda/lib/python3.6/site-packages/zmq/backend/cython/_version.cpython-36m-x86_64-linux-gnu.so\r\n",
      "python     34  45 jovyan  mem       REG                8,1   327947          2230845 /opt/conda/lib/python3.6/site-packages/zmq/backend/cython/_poll.cpython-36m-x86_64-linux-gnu.so\r\n",
      "python     34  45 jovyan  mem       REG                8,1   149930          2230859 /opt/conda/lib/python3.6/site-packages/zmq/backend/cython/utils.cpython-36m-x86_64-linux-gnu.so\r\n",
      "python     34  45 jovyan  mem       REG                8,1   730559          2230857 /opt/conda/lib/python3.6/site-packages/zmq/backend/cython/socket.cpython-36m-x86_64-linux-gnu.so\r\n",
      "python     34  45 jovyan  mem       REG                8,1   311141          2230851 /opt/conda/lib/python3.6/site-packages/zmq/backend/cython/context.cpython-36m-x86_64-linux-gnu.so\r\n",
      "python     34  45 jovyan  mem       REG                8,1   452817          2230855 /opt/conda/lib/python3.6/site-packages/zmq/backend/cython/message.cpython-36m-x86_64-linux-gnu.so\r\n",
      "python     34  45 jovyan  mem       REG                8,1   115893          2230853 /opt/conda/lib/python3.6/site-packages/zmq/backend/cython/error.cpython-36m-x86_64-linux-gnu.so\r\n",
      "python     34  45 jovyan  mem       REG                8,1   706232           529510 /opt/conda/lib/libgcc_s.so.1\r\n",
      "python     34  45 jovyan  mem       REG                8,1  8167184           529575 /opt/conda/lib/libstdc++.so.6.0.24\r\n",
      "python     34  45 jovyan  mem       REG                8,1  1289027           661987 /opt/conda/lib/libzmq.so.5.1.5\r\n",
      "python     34  45 jovyan  mem       REG                8,1   228614          2230849 /opt/conda/lib/python3.6/site-packages/zmq/backend/cython/constants.cpython-36m-x86_64-linux-gnu.so\r\n",
      "python     34  45 jovyan  mem       REG                8,1   617309           530848 /opt/conda/lib/python3.6/lib-dynload/_ctypes.cpython-36m-x86_64-linux-gnu.so\r\n",
      "python     34  45 jovyan  mem       REG                8,1    64549           530858 /opt/conda/lib/python3.6/lib-dynload/_lsprof.cpython-36m-x86_64-linux-gnu.so\r\n",
      "python     34  45 jovyan  mem       REG                8,1   339757           530871 /opt/conda/lib/python3.6/lib-dynload/_socket.cpython-36m-x86_64-linux-gnu.so\r\n",
      "python     34  45 jovyan  mem       REG                8,1   963624           530898 /opt/conda/lib/python3.6/lib-dynload/unicodedata.cpython-36m-x86_64-linux-gnu.so\r\n",
      "python     34  45 jovyan  mem       REG                8,1   187746           530880 /opt/conda/lib/python3.6/lib-dynload/array.cpython-36m-x86_64-linux-gnu.so\r\n",
      "python     34  45 jovyan  mem       REG                8,1   249585           529581 /opt/conda/lib/libtinfo.so.5.9\r\n",
      "python     34  45 jovyan  mem       REG                8,1   176142           529542 /opt/conda/lib/libncurses.so.5.9\r\n",
      "python     34  45 jovyan  mem       REG                8,1  1165114           529569 /opt/conda/lib/libsqlite3.so.0.8.6\r\n",
      "python     34  45 jovyan  mem       REG                8,1   295030           530872 /opt/conda/lib/python3.6/lib-dynload/_sqlite3.cpython-36m-x86_64-linux-gnu.so\r\n",
      "python     34  45 jovyan  mem       REG                8,1   433613           530864 /opt/conda/lib/python3.6/lib-dynload/_pickle.cpython-36m-x86_64-linux-gnu.so\r\n",
      "python     34  45 jovyan  mem       REG                8,1   470165           530852 /opt/conda/lib/python3.6/lib-dynload/_datetime.cpython-36m-x86_64-linux-gnu.so\r\n",
      "python     34  45 jovyan  mem       REG                8,1    78638           530882 /opt/conda/lib/python3.6/lib-dynload/binascii.cpython-36m-x86_64-linux-gnu.so\r\n",
      "python     34  45 jovyan  mem       REG                8,1    32268           530893 /opt/conda/lib/python3.6/lib-dynload/resource.cpython-36m-x86_64-linux-gnu.so\r\n",
      "python     34  45 jovyan  mem       REG                8,1    41463           530884 /opt/conda/lib/python3.6/lib-dynload/fcntl.cpython-36m-x86_64-linux-gnu.so\r\n",
      "python     34  45 jovyan  mem       REG                8,1    46964           530897 /opt/conda/lib/python3.6/lib-dynload/termios.cpython-36m-x86_64-linux-gnu.so\r\n",
      "python     34  45 jovyan  mem       REG                8,1    37999           530866 /opt/conda/lib/python3.6/lib-dynload/_random.cpython-36m-x86_64-linux-gnu.so\r\n",
      "python     34  45 jovyan  mem       REG                8,1    33663           530837 /opt/conda/lib/python3.6/lib-dynload/_bisect.cpython-36m-x86_64-linux-gnu.so\r\n",
      "python     34  45 jovyan  mem       REG                8,1   355122           530869 /opt/conda/lib/python3.6/lib-dynload/_sha3.cpython-36m-x86_64-linux-gnu.so\r\n",
      "python     34  45 jovyan  mem       REG                8,1   329909           530838 /opt/conda/lib/python3.6/lib-dynload/_blake2.cpython-36m-x86_64-linux-gnu.so\r\n",
      "python     34  45 jovyan  mem       REG                8,1  2692340           529490 /opt/conda/lib/libcrypto.so.1.0.0\r\n",
      "python     34  45 jovyan  mem       REG                8,1   549929           529572 /opt/conda/lib/libssl.so.1.0.0\r\n",
      "python     34  45 jovyan  mem       REG                8,1    92355           530855 /opt/conda/lib/python3.6/lib-dynload/_hashlib.cpython-36m-x86_64-linux-gnu.so\r\n",
      "python     34  45 jovyan  mem       REG                8,1   159628           530874 /opt/conda/lib/python3.6/lib-dynload/_struct.cpython-36m-x86_64-linux-gnu.so\r\n",
      "python     34  45 jovyan  mem       REG                8,1    20447           530863 /opt/conda/lib/python3.6/lib-dynload/_opcode.cpython-36m-x86_64-linux-gnu.so\r\n",
      "python     34  45 jovyan  mem       REG                8,1    35500           530885 /opt/conda/lib/python3.6/lib-dynload/grp.cpython-36m-x86_64-linux-gnu.so\r\n",
      "python     34  45 jovyan  mem       REG                8,1   803563           529528 /opt/conda/lib/liblzma.so.5.2.3\r\n",
      "python     34  45 jovyan  mem       REG                8,1   117498           530859 /opt/conda/lib/python3.6/lib-dynload/_lzma.cpython-36m-x86_64-linux-gnu.so\r\n",
      "python     34  45 jovyan  mem       REG                8,1   269237           530839 /opt/conda/lib/python3.6/lib-dynload/_bz2.cpython-36m-x86_64-linux-gnu.so\r\n",
      "python     34  45 jovyan  mem       REG                8,1   127973           529602 /opt/conda/lib/libz.so.1.2.11\r\n",
      "python     34  45 jovyan  mem       REG                8,1   116664           530900 /opt/conda/lib/python3.6/lib-dynload/zlib.cpython-36m-x86_64-linux-gnu.so\r\n",
      "python     34  45 jovyan  mem       REG                8,1   210293           530886 /opt/conda/lib/python3.6/lib-dynload/math.cpython-36m-x86_64-linux-gnu.so\r\n",
      "python     34  45 jovyan  mem       REG                8,1    79124           530894 /opt/conda/lib/python3.6/lib-dynload/select.cpython-36m-x86_64-linux-gnu.so\r\n",
      "python     34  45 jovyan  mem       REG                8,1    85443           530865 /opt/conda/lib/python3.6/lib-dynload/_posixsubprocess.cpython-36m-x86_64-linux-gnu.so\r\n",
      "python     34  45 jovyan  mem       REG                8,1   164929           530857 /opt/conda/lib/python3.6/lib-dynload/_json.cpython-36m-x86_64-linux-gnu.so\r\n",
      "python     34  45 jovyan  mem       REG                8,1    47058           530856 /opt/conda/lib/python3.6/lib-dynload/_heapq.cpython-36m-x86_64-linux-gnu.so\r\n",
      "python     34  45 jovyan  mem       REG                8,1  1868984           394365 /lib/x86_64-linux-gnu/libc-2.23.so\r\n",
      "python     34  45 jovyan  mem       REG                8,1  1088952           394397 /lib/x86_64-linux-gnu/libm-2.23.so\r\n",
      "python     34  45 jovyan  mem       REG                8,1    31712           394440 /lib/x86_64-linux-gnu/librt-2.23.so\r\n",
      "python     34  45 jovyan  mem       REG                8,1    10656           394460 /lib/x86_64-linux-gnu/libutil-2.23.so\r\n",
      "python     34  45 jovyan  mem       REG                8,1    14608           394378 /lib/x86_64-linux-gnu/libdl-2.23.so\r\n",
      "python     34  45 jovyan  mem       REG                8,1   138696           394433 /lib/x86_64-linux-gnu/libpthread-2.23.so\r\n",
      "python     34  45 jovyan  mem       REG                8,1 12444567           529556 /opt/conda/lib/libpython3.6m.so.1.0\r\n",
      "python     34  45 jovyan  mem       REG                8,1   162632           394345 /lib/x86_64-linux-gnu/ld-2.23.so\r\n",
      "python     34  45 jovyan  mem       REG                8,1    26258           395222 /usr/lib/x86_64-linux-gnu/gconv/gconv-modules.cache\r\n",
      "python     34  45 jovyan  mem       REG                8,1  1668976           656066 /usr/lib/locale/locale-archive\r\n",
      "python     34  45 jovyan    0r     FIFO               0,10      0t0           183161 pipe\r\n",
      "python     34  45 jovyan    1w     FIFO               0,10      0t0           177822 pipe\r\n",
      "python     34  45 jovyan    2w     FIFO               0,10      0t0           177823 pipe\r\n",
      "python     34  45 jovyan    3r      CHR                1,9      0t0           177867 /dev/urandom\r\n",
      "python     34  45 jovyan    4w      CHR                1,3      0t0           177862 /dev/null\r\n",
      "python     34  45 jovyan    5u  a_inode               0,11        0            11923 [eventfd]\r\n",
      "python     34  45 jovyan    6r      CHR                1,9      0t0           177867 /dev/urandom\r\n",
      "python     34  45 jovyan    7u  a_inode               0,11        0            11923 [eventfd]\r\n",
      "python     34  45 jovyan    8u  a_inode               0,11        0            11923 [eventpoll]\r\n",
      "python     34  45 jovyan    9u  a_inode               0,11        0            11923 [eventfd]\r\n",
      "python     34  45 jovyan   10u  a_inode               0,11        0            11923 [eventpoll]\r\n",
      "python     34  45 jovyan   11u  a_inode               0,11        0            11923 [eventfd]\r\n",
      "python     34  45 jovyan   12u     IPv4             184807      0t0              TCP localhost:56409 (LISTEN)\r\n",
      "python     34  45 jovyan   13u  a_inode               0,11        0            11923 [eventfd]\r\n",
      "python     34  45 jovyan   14u     IPv4             184809      0t0              TCP localhost:37411 (LISTEN)\r\n",
      "python     34  45 jovyan   15u  a_inode               0,11        0            11923 [eventfd]\r\n",
      "python     34  45 jovyan   16u     IPv4             184811      0t0              TCP localhost:43441 (LISTEN)\r\n",
      "python     34  45 jovyan   17u  a_inode               0,11        0            11923 [eventfd]\r\n",
      "python     34  45 jovyan   18u     IPv4             184813      0t0              TCP localhost:50275 (LISTEN)\r\n",
      "python     34  45 jovyan   19u  a_inode               0,11        0            11923 [eventpoll]\r\n",
      "python     34  45 jovyan   20u     unix 0x0000000000000000      0t0           184814 type=STREAM\r\n",
      "python     34  45 jovyan   21u     unix 0x0000000000000000      0t0           184815 type=STREAM\r\n",
      "python     34  45 jovyan   22u  a_inode               0,11        0            11923 [eventfd]\r\n",
      "python     34  45 jovyan   23u     IPv4             184817      0t0              TCP localhost:36681 (LISTEN)\r\n",
      "python     34  45 jovyan   24u  a_inode               0,11        0            11923 [eventfd]\r\n",
      "python     34  45 jovyan   25u  a_inode               0,11        0            11923 [eventfd]\r\n",
      "python     34  45 jovyan   26u  a_inode               0,11        0            11923 [eventfd]\r\n",
      "python     34  45 jovyan   27u  a_inode               0,11        0            11923 [eventpoll]\r\n",
      "python     34  45 jovyan   28u  a_inode               0,11        0            11923 [eventfd]\r\n",
      "python     34  45 jovyan   29u  a_inode               0,11        0            11923 [eventpoll]\r\n",
      "python     34  45 jovyan   30u  a_inode               0,11        0            11923 [eventfd]\r\n",
      "python     34  45 jovyan   31u     IPv4             183196      0t0              TCP localhost:44415 (LISTEN)\r\n",
      "python     34  45 jovyan   32u  a_inode               0,11        0            11923 [eventpoll]\r\n",
      "python     34  45 jovyan   33u     unix 0x0000000000000000      0t0           184818 type=STREAM\r\n",
      "python     34  45 jovyan   34u     unix 0x0000000000000000      0t0           184819 type=STREAM\r\n",
      "python     34  45 jovyan   35u      REG                8,1    28672           262667 /home/jovyan/.ipython/profile_default/history.sqlite\r\n",
      "python     34  45 jovyan   36u      REG                8,1    28672           262667 /home/jovyan/.ipython/profile_default/history.sqlite\r\n",
      "python     34  45 jovyan   37u     IPv4             183197      0t0              TCP localhost:50275->localhost:49172 (ESTABLISHED)\r\n",
      "python     34  45 jovyan   38u     IPv4             183198      0t0              TCP localhost:43441->localhost:57652 (ESTABLISHED)\r\n",
      "python     34  45 jovyan   39u  a_inode               0,11        0            11923 [eventfd]\r\n",
      "python     34  45 jovyan   40u     IPv4             183205      0t0              TCP localhost:56409->localhost:55780 (ESTABLISHED)\r\n",
      "python     34  45 jovyan   41u     IPv4             183207      0t0              TCP localhost:50275->localhost:49190 (ESTABLISHED)\r\n",
      "python     34  45 jovyan   42u     IPv4             183209      0t0              TCP localhost:37411->localhost:49246 (ESTABLISHED)\r\n",
      "python     34  46 jovyan  cwd       DIR               0,61     4096 9570149208167180 /home/jovyan/openforum2018\r\n",
      "python     34  46 jovyan  rtd       DIR               0,59     4096           181289 /\r\n",
      "python     34  46 jovyan  txt       REG                8,1    14857           529056 /opt/conda/bin/python3.6\r\n",
      "python     34  46 jovyan  mem       REG                8,1  1686154           530853 /opt/conda/lib/python3.6/lib-dynload/_decimal.cpython-36m-x86_64-linux-gnu.so\r\n",
      "python     34  46 jovyan  mem       REG                8,1   375919           530873 /opt/conda/lib/python3.6/lib-dynload/_ssl.cpython-36m-x86_64-linux-gnu.so\r\n",
      "python     34  46 jovyan  mem       REG                8,1   194106           530836 /opt/conda/lib/python3.6/lib-dynload/_asyncio.cpython-36m-x86_64-linux-gnu.so\r\n",
      "python     34  46 jovyan  mem       REG                8,1    48787           530862 /opt/conda/lib/python3.6/lib-dynload/_multiprocessing.cpython-36m-x86_64-linux-gnu.so\r\n",
      "python     34  46 jovyan  mem       REG                8,1   316595           530850 /opt/conda/lib/python3.6/lib-dynload/_curses.cpython-36m-x86_64-linux-gnu.so\r\n",
      "python     34  46 jovyan  mem       REG                8,1    17873          1708597 /opt/conda/lib/python3.6/site-packages/tornado/speedups.cpython-36m-x86_64-linux-gnu.so\r\n",
      "python     34  46 jovyan  mem       REG                8,1    18976           394463 /lib/x86_64-linux-gnu/libuuid.so.1.3.0\r\n",
      "python     34  46 jovyan  mem       REG                8,1   228724          2230844 /opt/conda/lib/python3.6/site-packages/zmq/backend/cython/_device.cpython-36m-x86_64-linux-gnu.so\r\n",
      "python     34  46 jovyan  mem       REG                8,1    98032          2230846 /opt/conda/lib/python3.6/site-packages/zmq/backend/cython/_version.cpython-36m-x86_64-linux-gnu.so\r\n",
      "python     34  46 jovyan  mem       REG                8,1   327947          2230845 /opt/conda/lib/python3.6/site-packages/zmq/backend/cython/_poll.cpython-36m-x86_64-linux-gnu.so\r\n",
      "python     34  46 jovyan  mem       REG                8,1   149930          2230859 /opt/conda/lib/python3.6/site-packages/zmq/backend/cython/utils.cpython-36m-x86_64-linux-gnu.so\r\n",
      "python     34  46 jovyan  mem       REG                8,1   730559          2230857 /opt/conda/lib/python3.6/site-packages/zmq/backend/cython/socket.cpython-36m-x86_64-linux-gnu.so\r\n",
      "python     34  46 jovyan  mem       REG                8,1   311141          2230851 /opt/conda/lib/python3.6/site-packages/zmq/backend/cython/context.cpython-36m-x86_64-linux-gnu.so\r\n",
      "python     34  46 jovyan  mem       REG                8,1   452817          2230855 /opt/conda/lib/python3.6/site-packages/zmq/backend/cython/message.cpython-36m-x86_64-linux-gnu.so\r\n",
      "python     34  46 jovyan  mem       REG                8,1   115893          2230853 /opt/conda/lib/python3.6/site-packages/zmq/backend/cython/error.cpython-36m-x86_64-linux-gnu.so\r\n",
      "python     34  46 jovyan  mem       REG                8,1   706232           529510 /opt/conda/lib/libgcc_s.so.1\r\n",
      "python     34  46 jovyan  mem       REG                8,1  8167184           529575 /opt/conda/lib/libstdc++.so.6.0.24\r\n",
      "python     34  46 jovyan  mem       REG                8,1  1289027           661987 /opt/conda/lib/libzmq.so.5.1.5\r\n",
      "python     34  46 jovyan  mem       REG                8,1   228614          2230849 /opt/conda/lib/python3.6/site-packages/zmq/backend/cython/constants.cpython-36m-x86_64-linux-gnu.so\r\n",
      "python     34  46 jovyan  mem       REG                8,1   617309           530848 /opt/conda/lib/python3.6/lib-dynload/_ctypes.cpython-36m-x86_64-linux-gnu.so\r\n",
      "python     34  46 jovyan  mem       REG                8,1    64549           530858 /opt/conda/lib/python3.6/lib-dynload/_lsprof.cpython-36m-x86_64-linux-gnu.so\r\n",
      "python     34  46 jovyan  mem       REG                8,1   339757           530871 /opt/conda/lib/python3.6/lib-dynload/_socket.cpython-36m-x86_64-linux-gnu.so\r\n",
      "python     34  46 jovyan  mem       REG                8,1   963624           530898 /opt/conda/lib/python3.6/lib-dynload/unicodedata.cpython-36m-x86_64-linux-gnu.so\r\n",
      "python     34  46 jovyan  mem       REG                8,1   187746           530880 /opt/conda/lib/python3.6/lib-dynload/array.cpython-36m-x86_64-linux-gnu.so\r\n",
      "python     34  46 jovyan  mem       REG                8,1   249585           529581 /opt/conda/lib/libtinfo.so.5.9\r\n",
      "python     34  46 jovyan  mem       REG                8,1   176142           529542 /opt/conda/lib/libncurses.so.5.9\r\n",
      "python     34  46 jovyan  mem       REG                8,1  1165114           529569 /opt/conda/lib/libsqlite3.so.0.8.6\r\n",
      "python     34  46 jovyan  mem       REG                8,1   295030           530872 /opt/conda/lib/python3.6/lib-dynload/_sqlite3.cpython-36m-x86_64-linux-gnu.so\r\n",
      "python     34  46 jovyan  mem       REG                8,1   433613           530864 /opt/conda/lib/python3.6/lib-dynload/_pickle.cpython-36m-x86_64-linux-gnu.so\r\n",
      "python     34  46 jovyan  mem       REG                8,1   470165           530852 /opt/conda/lib/python3.6/lib-dynload/_datetime.cpython-36m-x86_64-linux-gnu.so\r\n",
      "python     34  46 jovyan  mem       REG                8,1    78638           530882 /opt/conda/lib/python3.6/lib-dynload/binascii.cpython-36m-x86_64-linux-gnu.so\r\n",
      "python     34  46 jovyan  mem       REG                8,1    32268           530893 /opt/conda/lib/python3.6/lib-dynload/resource.cpython-36m-x86_64-linux-gnu.so\r\n",
      "python     34  46 jovyan  mem       REG                8,1    41463           530884 /opt/conda/lib/python3.6/lib-dynload/fcntl.cpython-36m-x86_64-linux-gnu.so\r\n",
      "python     34  46 jovyan  mem       REG                8,1    46964           530897 /opt/conda/lib/python3.6/lib-dynload/termios.cpython-36m-x86_64-linux-gnu.so\r\n",
      "python     34  46 jovyan  mem       REG                8,1    37999           530866 /opt/conda/lib/python3.6/lib-dynload/_random.cpython-36m-x86_64-linux-gnu.so\r\n",
      "python     34  46 jovyan  mem       REG                8,1    33663           530837 /opt/conda/lib/python3.6/lib-dynload/_bisect.cpython-36m-x86_64-linux-gnu.so\r\n",
      "python     34  46 jovyan  mem       REG                8,1   355122           530869 /opt/conda/lib/python3.6/lib-dynload/_sha3.cpython-36m-x86_64-linux-gnu.so\r\n",
      "python     34  46 jovyan  mem       REG                8,1   329909           530838 /opt/conda/lib/python3.6/lib-dynload/_blake2.cpython-36m-x86_64-linux-gnu.so\r\n",
      "python     34  46 jovyan  mem       REG                8,1  2692340           529490 /opt/conda/lib/libcrypto.so.1.0.0\r\n",
      "python     34  46 jovyan  mem       REG                8,1   549929           529572 /opt/conda/lib/libssl.so.1.0.0\r\n",
      "python     34  46 jovyan  mem       REG                8,1    92355           530855 /opt/conda/lib/python3.6/lib-dynload/_hashlib.cpython-36m-x86_64-linux-gnu.so\r\n",
      "python     34  46 jovyan  mem       REG                8,1   159628           530874 /opt/conda/lib/python3.6/lib-dynload/_struct.cpython-36m-x86_64-linux-gnu.so\r\n",
      "python     34  46 jovyan  mem       REG                8,1    20447           530863 /opt/conda/lib/python3.6/lib-dynload/_opcode.cpython-36m-x86_64-linux-gnu.so\r\n",
      "python     34  46 jovyan  mem       REG                8,1    35500           530885 /opt/conda/lib/python3.6/lib-dynload/grp.cpython-36m-x86_64-linux-gnu.so\r\n",
      "python     34  46 jovyan  mem       REG                8,1   803563           529528 /opt/conda/lib/liblzma.so.5.2.3\r\n",
      "python     34  46 jovyan  mem       REG                8,1   117498           530859 /opt/conda/lib/python3.6/lib-dynload/_lzma.cpython-36m-x86_64-linux-gnu.so\r\n",
      "python     34  46 jovyan  mem       REG                8,1   269237           530839 /opt/conda/lib/python3.6/lib-dynload/_bz2.cpython-36m-x86_64-linux-gnu.so\r\n",
      "python     34  46 jovyan  mem       REG                8,1   127973           529602 /opt/conda/lib/libz.so.1.2.11\r\n",
      "python     34  46 jovyan  mem       REG                8,1   116664           530900 /opt/conda/lib/python3.6/lib-dynload/zlib.cpython-36m-x86_64-linux-gnu.so\r\n",
      "python     34  46 jovyan  mem       REG                8,1   210293           530886 /opt/conda/lib/python3.6/lib-dynload/math.cpython-36m-x86_64-linux-gnu.so\r\n",
      "python     34  46 jovyan  mem       REG                8,1    79124           530894 /opt/conda/lib/python3.6/lib-dynload/select.cpython-36m-x86_64-linux-gnu.so\r\n",
      "python     34  46 jovyan  mem       REG                8,1    85443           530865 /opt/conda/lib/python3.6/lib-dynload/_posixsubprocess.cpython-36m-x86_64-linux-gnu.so\r\n",
      "python     34  46 jovyan  mem       REG                8,1   164929           530857 /opt/conda/lib/python3.6/lib-dynload/_json.cpython-36m-x86_64-linux-gnu.so\r\n",
      "python     34  46 jovyan  mem       REG                8,1    47058           530856 /opt/conda/lib/python3.6/lib-dynload/_heapq.cpython-36m-x86_64-linux-gnu.so\r\n",
      "python     34  46 jovyan  mem       REG                8,1  1868984           394365 /lib/x86_64-linux-gnu/libc-2.23.so\r\n",
      "python     34  46 jovyan  mem       REG                8,1  1088952           394397 /lib/x86_64-linux-gnu/libm-2.23.so\r\n",
      "python     34  46 jovyan  mem       REG                8,1    31712           394440 /lib/x86_64-linux-gnu/librt-2.23.so\r\n",
      "python     34  46 jovyan  mem       REG                8,1    10656           394460 /lib/x86_64-linux-gnu/libutil-2.23.so\r\n",
      "python     34  46 jovyan  mem       REG                8,1    14608           394378 /lib/x86_64-linux-gnu/libdl-2.23.so\r\n",
      "python     34  46 jovyan  mem       REG                8,1   138696           394433 /lib/x86_64-linux-gnu/libpthread-2.23.so\r\n",
      "python     34  46 jovyan  mem       REG                8,1 12444567           529556 /opt/conda/lib/libpython3.6m.so.1.0\r\n",
      "python     34  46 jovyan  mem       REG                8,1   162632           394345 /lib/x86_64-linux-gnu/ld-2.23.so\r\n",
      "python     34  46 jovyan  mem       REG                8,1    26258           395222 /usr/lib/x86_64-linux-gnu/gconv/gconv-modules.cache\r\n",
      "python     34  46 jovyan  mem       REG                8,1  1668976           656066 /usr/lib/locale/locale-archive\r\n",
      "python     34  46 jovyan    0r     FIFO               0,10      0t0           183161 pipe\r\n",
      "python     34  46 jovyan    1w     FIFO               0,10      0t0           177822 pipe\r\n",
      "python     34  46 jovyan    2w     FIFO               0,10      0t0           177823 pipe\r\n",
      "python     34  46 jovyan    3r      CHR                1,9      0t0           177867 /dev/urandom\r\n",
      "python     34  46 jovyan    4w      CHR                1,3      0t0           177862 /dev/null\r\n",
      "python     34  46 jovyan    5u  a_inode               0,11        0            11923 [eventfd]\r\n",
      "python     34  46 jovyan    6r      CHR                1,9      0t0           177867 /dev/urandom\r\n",
      "python     34  46 jovyan    7u  a_inode               0,11        0            11923 [eventfd]\r\n",
      "python     34  46 jovyan    8u  a_inode               0,11        0            11923 [eventpoll]\r\n",
      "python     34  46 jovyan    9u  a_inode               0,11        0            11923 [eventfd]\r\n",
      "python     34  46 jovyan   10u  a_inode               0,11        0            11923 [eventpoll]\r\n",
      "python     34  46 jovyan   11u  a_inode               0,11        0            11923 [eventfd]\r\n",
      "python     34  46 jovyan   12u     IPv4             184807      0t0              TCP localhost:56409 (LISTEN)\r\n",
      "python     34  46 jovyan   13u  a_inode               0,11        0            11923 [eventfd]\r\n",
      "python     34  46 jovyan   14u     IPv4             184809      0t0              TCP localhost:37411 (LISTEN)\r\n",
      "python     34  46 jovyan   15u  a_inode               0,11        0            11923 [eventfd]\r\n",
      "python     34  46 jovyan   16u     IPv4             184811      0t0              TCP localhost:43441 (LISTEN)\r\n",
      "python     34  46 jovyan   17u  a_inode               0,11        0            11923 [eventfd]\r\n",
      "python     34  46 jovyan   18u     IPv4             184813      0t0              TCP localhost:50275 (LISTEN)\r\n",
      "python     34  46 jovyan   19u  a_inode               0,11        0            11923 [eventpoll]\r\n",
      "python     34  46 jovyan   20u     unix 0x0000000000000000      0t0           184814 type=STREAM\r\n",
      "python     34  46 jovyan   21u     unix 0x0000000000000000      0t0           184815 type=STREAM\r\n",
      "python     34  46 jovyan   22u  a_inode               0,11        0            11923 [eventfd]\r\n",
      "python     34  46 jovyan   23u     IPv4             184817      0t0              TCP localhost:36681 (LISTEN)\r\n",
      "python     34  46 jovyan   24u  a_inode               0,11        0            11923 [eventfd]\r\n",
      "python     34  46 jovyan   25u  a_inode               0,11        0            11923 [eventfd]\r\n",
      "python     34  46 jovyan   26u  a_inode               0,11        0            11923 [eventfd]\r\n",
      "python     34  46 jovyan   27u  a_inode               0,11        0            11923 [eventpoll]\r\n",
      "python     34  46 jovyan   28u  a_inode               0,11        0            11923 [eventfd]\r\n",
      "python     34  46 jovyan   29u  a_inode               0,11        0            11923 [eventpoll]\r\n",
      "python     34  46 jovyan   30u  a_inode               0,11        0            11923 [eventfd]\r\n",
      "python     34  46 jovyan   31u     IPv4             183196      0t0              TCP localhost:44415 (LISTEN)\r\n",
      "python     34  46 jovyan   32u  a_inode               0,11        0            11923 [eventpoll]\r\n",
      "python     34  46 jovyan   33u     unix 0x0000000000000000      0t0           184818 type=STREAM\r\n",
      "python     34  46 jovyan   34u     unix 0x0000000000000000      0t0           184819 type=STREAM\r\n",
      "python     34  46 jovyan   35u      REG                8,1    28672           262667 /home/jovyan/.ipython/profile_default/history.sqlite\r\n",
      "python     34  46 jovyan   36u      REG                8,1    28672           262667 /home/jovyan/.ipython/profile_default/history.sqlite\r\n",
      "python     34  46 jovyan   37u     IPv4             183197      0t0              TCP localhost:50275->localhost:49172 (ESTABLISHED)\r\n",
      "python     34  46 jovyan   38u     IPv4             183198      0t0              TCP localhost:43441->localhost:57652 (ESTABLISHED)\r\n",
      "python     34  46 jovyan   39u  a_inode               0,11        0            11923 [eventfd]\r\n",
      "python     34  46 jovyan   40u     IPv4             183205      0t0              TCP localhost:56409->localhost:55780 (ESTABLISHED)\r\n",
      "python     34  46 jovyan   41u     IPv4             183207      0t0              TCP localhost:50275->localhost:49190 (ESTABLISHED)\r\n",
      "python     34  46 jovyan   42u     IPv4             183209      0t0              TCP localhost:37411->localhost:49246 (ESTABLISHED)\r\n",
      "sh        437     jovyan  cwd       DIR               0,61     4096 9570149208167180 /home/jovyan/openforum2018\r\n",
      "sh        437     jovyan  rtd       DIR               0,59     4096           181289 /\r\n",
      "sh        437     jovyan  txt       REG                8,1   154072           393358 /bin/dash\r\n",
      "sh        437     jovyan  mem       REG                8,1  1868984           394365 /lib/x86_64-linux-gnu/libc-2.23.so\r\n",
      "sh        437     jovyan  mem       REG                8,1   162632           394345 /lib/x86_64-linux-gnu/ld-2.23.so\r\n",
      "sh        437     jovyan    0u      CHR              136,0      0t0                3 /dev/pts/0\r\n",
      "sh        437     jovyan    1u      CHR              136,0      0t0                3 /dev/pts/0\r\n",
      "sh        437     jovyan    2u      CHR              136,0      0t0                3 /dev/pts/0\r\n",
      "lsof      438     jovyan  cwd       DIR               0,61     4096 9570149208167180 /home/jovyan/openforum2018\r\n",
      "lsof      438     jovyan  rtd       DIR               0,59     4096           181289 /\r\n",
      "lsof      438     jovyan  txt       REG                8,1   163224           262865 /usr/bin/lsof\r\n",
      "lsof      438     jovyan  mem       REG                8,1   138696           394433 /lib/x86_64-linux-gnu/libpthread-2.23.so\r\n",
      "lsof      438     jovyan  mem       REG                8,1    14608           394378 /lib/x86_64-linux-gnu/libdl-2.23.so\r\n",
      "lsof      438     jovyan  mem       REG                8,1   456632           394430 /lib/x86_64-linux-gnu/libpcre.so.3.13.2\r\n",
      "lsof      438     jovyan  mem       REG                8,1  1868984           394365 /lib/x86_64-linux-gnu/libc-2.23.so\r\n",
      "lsof      438     jovyan  mem       REG                8,1   130224           394444 /lib/x86_64-linux-gnu/libselinux.so.1\r\n",
      "lsof      438     jovyan  mem       REG                8,1   162632           394345 /lib/x86_64-linux-gnu/ld-2.23.so\r\n",
      "lsof      438     jovyan  mem       REG                8,1  1668976           656066 /usr/lib/locale/locale-archive\r\n",
      "lsof      438     jovyan    0u      CHR              136,0      0t0                3 /dev/pts/0\r\n",
      "lsof      438     jovyan    1u      CHR              136,0      0t0                3 /dev/pts/0\r\n",
      "lsof      438     jovyan    2u      CHR              136,0      0t0                3 /dev/pts/0\r\n",
      "lsof      438     jovyan    3r      DIR              0,101        0                1 /proc\r\n",
      "lsof      438     jovyan    4r      DIR              0,101        0           250542 /proc/438/fd\r\n",
      "lsof      438     jovyan    5w     FIFO               0,10      0t0           250547 pipe\r\n",
      "lsof      438     jovyan    6r     FIFO               0,10      0t0           250548 pipe\r\n",
      "lsof      439     jovyan  cwd       DIR               0,61     4096 9570149208167180 /home/jovyan/openforum2018\r\n",
      "lsof      439     jovyan  rtd       DIR               0,59     4096           181289 /\r\n",
      "lsof      439     jovyan  txt       REG                8,1   163224           262865 /usr/bin/lsof\r\n",
      "lsof      439     jovyan  mem       REG                8,1   138696           394433 /lib/x86_64-linux-gnu/libpthread-2.23.so\r\n",
      "lsof      439     jovyan  mem       REG                8,1    14608           394378 /lib/x86_64-linux-gnu/libdl-2.23.so\r\n",
      "lsof      439     jovyan  mem       REG                8,1   456632           394430 /lib/x86_64-linux-gnu/libpcre.so.3.13.2\r\n",
      "lsof      439     jovyan  mem       REG                8,1  1868984           394365 /lib/x86_64-linux-gnu/libc-2.23.so\r\n",
      "lsof      439     jovyan  mem       REG                8,1   130224           394444 /lib/x86_64-linux-gnu/libselinux.so.1\r\n",
      "lsof      439     jovyan  mem       REG                8,1   162632           394345 /lib/x86_64-linux-gnu/ld-2.23.so\r\n",
      "lsof      439     jovyan  mem       REG                8,1  1668976           656066 /usr/lib/locale/locale-archive\r\n",
      "lsof      439     jovyan    4r     FIFO               0,10      0t0           250547 pipe\r\n",
      "lsof      439     jovyan    7w     FIFO               0,10      0t0           250548 pipe\r\n"
     ]
    }
   ],
   "source": [
    "!lsof"
   ]
  },
  {
   "cell_type": "markdown",
   "metadata": {
    "lc_cell_meme": {
     "current": "a1092984-64bd-11e8-8364-0242ac110002",
     "next": "a1092a06-64bd-11e8-8364-0242ac110002",
     "previous": "a10928da-64bd-11e8-8364-0242ac110002"
    }
   },
   "source": [
    "## 実行中のプロセスとスレッド"
   ]
  },
  {
   "cell_type": "code",
   "execution_count": 28,
   "metadata": {
    "deletable": false,
    "editable": false,
    "lc_cell_meme": {
     "current": "a1092a06-64bd-11e8-8364-0242ac110002",
     "next": "a1092a88-64bd-11e8-8364-0242ac110002",
     "previous": "a1092984-64bd-11e8-8364-0242ac110002"
    },
    "pinned_outputs": [
     {
      "execution_count": 28,
      "outputs": [
       {
        "name": "stdout",
        "output_type": "stream",
        "text": "USER        PID %CPU %MEM    VSZ   RSS TTY      STAT START   TIME COMMAND\r\njovyan        1  0.0  0.0   4360   684 ?        -    15:26   0:00 tini -- bash -c set +u ; . /usr/local/bin/start.sh jupyter notebook --NotebookApp.token='' PATH=/opt/conda/bin:/usr/local/sbin:/usr/local/bin:/usr/sbin:/usr/bin:/sbin:/bin HOSTNAME=1a17b746bd59 DEBIAN_FRONTEND=noninteractive CONDA_DIR=/opt/conda SHELL=/bin/bash NB_USER=jovyan NB_UID=1000 NB_GID=100 LC_ALL=en_US.UTF-8 LANG=en_US.UTF-8 LANGUAGE=en_US.UTF-8 HOME=/home/jovyan MINICONDA_VERSION=4.5.1 BASH_ENV=/etc/bash_env\r\njovyan        -  0.0    -      -     - -        Ss   15:26   0:00 -\r\njovyan        6  0.9  3.4 366912 69356 ?        -    15:26   0:05 /opt/conda/bin/python /opt/conda/bin/jupyter-notebook --NotebookApp.token= HOSTNAME=1a17b746bd59 NB_USER=jovyan SHELL=/bin/bash LC_ALL=en_US.UTF-8 PATH=/opt/conda/bin:/opt/conda/bin:/usr/local/sbin:/usr/local/bin:/usr/sbin:/usr/bin:/sbin:/bin MINICONDA_VERSION=4.5.1 PWD=/home/jovyan LANG=en_US.UTF-8 SHLVL=0 HOME=/home/jovyan LANGUAGE=en_US.UTF-8 BASH_ENV=/etc/bash_env DEBIAN_FRONTEND=noninteractive NB_GID=100 CONDA_DIR=/opt/conda NB_UID=1000\r\njovyan        -  0.9    -      -     - -        Sl   15:26   0:05 -\r\njovyan        -  0.0    -      -     - -        Sl   15:28   0:00 -\r\njovyan        -  0.0    -      -     - -        Sl   15:28   0:00 -\r\njovyan       19  1.7  2.2 730600 45416 ?        -    15:28   0:08 /opt/conda/bin/python -m ipykernel_launcher -f /home/jovyan/.local/share/jupyter/runtime/kernel-9cf37ba4-f98b-4140-b6d9-81f073197a49.json HOSTNAME=1a17b746bd59 NB_USER=jovyan SHELL=/bin/bash LC_ALL=en_US.UTF-8 PATH=/opt/conda/bin:/opt/conda/bin:/usr/local/sbin:/usr/local/bin:/usr/sbin:/usr/bin:/sbin:/bin MINICONDA_VERSION=4.5.1 PWD=/home/jovyan LANG=en_US.UTF-8 SHLVL=0 HOME=/home/jovyan LANGUAGE=en_US.UTF-8 BASH_ENV=/etc/bash_env DEBIAN_FRONTEND=noninteractive NB_GID=100 CONDA_DIR=/opt/conda NB_UID=1000 JPY_PARENT_PID=6\r\njovyan        -  0.8    -      -     - -        Ssl  15:28   0:03 -\r\njovyan        -  0.0    -      -     - -        Ssl  15:28   0:00 -\r\njovyan        -  0.0    -      -     - -        Ssl  15:28   0:00 -\r\njovyan        -  0.8    -      -     - -        Ssl  15:28   0:04 -\r\njovyan        -  0.0    -      -     - -        Ssl  15:28   0:00 -\r\njovyan        -  0.0    -      -     - -        Ssl  15:28   0:00 -\r\njovyan        -  0.0    -      -     - -        Ssl  15:28   0:00 -\r\njovyan        -  0.0    -      -     - -        Ssl  15:28   0:00 -\r\njovyan        -  0.0    -      -     - -        Ssl  15:28   0:00 -\r\njovyan        -  0.0    -      -     - -        Ssl  15:35   0:00 -\r\njovyan        -  0.0    -      -     - -        Ssl  15:35   0:00 -\r\njovyan        -  0.0    -      -     - -        Ssl  15:35   0:00 -\r\njovyan       34  0.1  2.1 631508 42984 ?        -    15:29   0:00 /opt/conda/bin/python -m ipykernel_launcher -f /home/jovyan/.local/share/jupyter/runtime/kernel-b4914beb-84e2-46ff-ab3d-15d923611a61.json HOSTNAME=1a17b746bd59 NB_USER=jovyan SHELL=/bin/bash LC_ALL=en_US.UTF-8 PATH=/opt/conda/bin:/opt/conda/bin:/usr/local/sbin:/usr/local/bin:/usr/sbin:/usr/bin:/sbin:/bin MINICONDA_VERSION=4.5.1 PWD=/home/jovyan LANG=en_US.UTF-8 SHLVL=0 HOME=/home/jovyan LANGUAGE=en_US.UTF-8 BASH_ENV=/etc/bash_env DEBIAN_FRONTEND=noninteractive NB_GID=100 CONDA_DIR=/opt/conda NB_UID=1000 JPY_PARENT_PID=6\r\njovyan        -  0.1    -      -     - -        Ssl  15:29   0:00 -\r\njovyan        -  0.0    -      -     - -        Ssl  15:29   0:00 -\r\njovyan        -  0.0    -      -     - -        Ssl  15:29   0:00 -\r\njovyan        -  0.0    -      -     - -        Ssl  15:29   0:00 -\r\njovyan        -  0.0    -      -     - -        Ssl  15:29   0:00 -\r\njovyan        -  0.0    -      -     - -        Ssl  15:29   0:00 -\r\njovyan        -  0.0    -      -     - -        Ssl  15:29   0:00 -\r\njovyan        -  0.0    -      -     - -        Ssl  15:29   0:00 -\r\njovyan        -  0.0    -      -     - -        Ssl  15:29   0:00 -\r\njovyan      443 28.0  0.0   4500   708 pts/0    -    15:35   0:00 /bin/sh -c ps auxwwwem HOSTNAME=1a17b746bd59 NB_USER=jovyan SHELL=/bin/bash LC_ALL=en_US.UTF-8 PATH=/opt/conda/bin:/opt/conda/bin:/usr/local/sbin:/usr/local/bin:/usr/sbin:/usr/bin:/sbin:/bin MINICONDA_VERSION=4.5.1 PWD=/home/jovyan LANG=en_US.UTF-8 SHLVL=0 HOME=/home/jovyan LANGUAGE=en_US.UTF-8 BASH_ENV=/etc/bash_env DEBIAN_FRONTEND=noninteractive NB_GID=100 CONDA_DIR=/opt/conda NB_UID=1000 JPY_PARENT_PID=6 TERM=xterm-color CLICOLOR=1 PAGER=cat GIT_PAGER=cat MPLBACKEND=module://ipykernel.pylab.backend_inline TZ=JST-9\r\njovyan        - 28.0    -      -     - -        Ss+  15:35   0:00 -\r\njovyan      444  0.0  0.1  36080  3068 pts/0    -    15:35   0:00 ps auxwwwem MINICONDA_VERSION=4.5.1 LANGUAGE=en_US.UTF-8 MPLBACKEND=module://ipykernel.pylab.backend_inline HOSTNAME=1a17b746bd59 SHLVL=0 HOME=/home/jovyan PAGER=cat NB_USER=jovyan TERM=xterm-color PATH=/opt/conda/bin:/opt/conda/bin:/usr/local/sbin:/usr/local/bin:/usr/sbin:/usr/bin:/sbin:/bin NB_GID=100 LANG=en_US.UTF-8 DEBIAN_FRONTEND=noninteractive SHELL=/bin/bash CONDA_DIR=/opt/conda BASH_ENV=/etc/bash_env GIT_PAGER=cat LC_ALL=en_US.UTF-8 PWD=/home/jovyan/openforum2018 CLICOLOR=1 JPY_PARENT_PID=6 NB_UID=1000 TZ=JST-9\r\njovyan        -  0.0    -      -     - -        R+   15:35   0:00 -\r\n"
       }
      ]
     }
    ],
    "run_through_control": {
     "frozen": true
    }
   },
   "outputs": [
    {
     "name": "stdout",
     "output_type": "stream",
     "text": [
      "USER        PID %CPU %MEM    VSZ   RSS TTY      STAT START   TIME COMMAND\r\n",
      "jovyan        1  0.0  0.0   4360   684 ?        -    15:26   0:00 tini -- bash -c set +u ; . /usr/local/bin/start.sh jupyter notebook --NotebookApp.token='' PATH=/opt/conda/bin:/usr/local/sbin:/usr/local/bin:/usr/sbin:/usr/bin:/sbin:/bin HOSTNAME=1a17b746bd59 DEBIAN_FRONTEND=noninteractive CONDA_DIR=/opt/conda SHELL=/bin/bash NB_USER=jovyan NB_UID=1000 NB_GID=100 LC_ALL=en_US.UTF-8 LANG=en_US.UTF-8 LANGUAGE=en_US.UTF-8 HOME=/home/jovyan MINICONDA_VERSION=4.5.1 BASH_ENV=/etc/bash_env\r\n",
      "jovyan        -  0.0    -      -     - -        Ss   15:26   0:00 -\r\n",
      "jovyan        6  0.9  3.4 366912 69356 ?        -    15:26   0:05 /opt/conda/bin/python /opt/conda/bin/jupyter-notebook --NotebookApp.token= HOSTNAME=1a17b746bd59 NB_USER=jovyan SHELL=/bin/bash LC_ALL=en_US.UTF-8 PATH=/opt/conda/bin:/opt/conda/bin:/usr/local/sbin:/usr/local/bin:/usr/sbin:/usr/bin:/sbin:/bin MINICONDA_VERSION=4.5.1 PWD=/home/jovyan LANG=en_US.UTF-8 SHLVL=0 HOME=/home/jovyan LANGUAGE=en_US.UTF-8 BASH_ENV=/etc/bash_env DEBIAN_FRONTEND=noninteractive NB_GID=100 CONDA_DIR=/opt/conda NB_UID=1000\r\n",
      "jovyan        -  0.9    -      -     - -        Sl   15:26   0:05 -\r\n",
      "jovyan        -  0.0    -      -     - -        Sl   15:28   0:00 -\r\n",
      "jovyan        -  0.0    -      -     - -        Sl   15:28   0:00 -\r\n",
      "jovyan       19  1.7  2.2 730600 45416 ?        -    15:28   0:08 /opt/conda/bin/python -m ipykernel_launcher -f /home/jovyan/.local/share/jupyter/runtime/kernel-9cf37ba4-f98b-4140-b6d9-81f073197a49.json HOSTNAME=1a17b746bd59 NB_USER=jovyan SHELL=/bin/bash LC_ALL=en_US.UTF-8 PATH=/opt/conda/bin:/opt/conda/bin:/usr/local/sbin:/usr/local/bin:/usr/sbin:/usr/bin:/sbin:/bin MINICONDA_VERSION=4.5.1 PWD=/home/jovyan LANG=en_US.UTF-8 SHLVL=0 HOME=/home/jovyan LANGUAGE=en_US.UTF-8 BASH_ENV=/etc/bash_env DEBIAN_FRONTEND=noninteractive NB_GID=100 CONDA_DIR=/opt/conda NB_UID=1000 JPY_PARENT_PID=6\r\n",
      "jovyan        -  0.8    -      -     - -        Ssl  15:28   0:03 -\r\n",
      "jovyan        -  0.0    -      -     - -        Ssl  15:28   0:00 -\r\n",
      "jovyan        -  0.0    -      -     - -        Ssl  15:28   0:00 -\r\n",
      "jovyan        -  0.8    -      -     - -        Ssl  15:28   0:04 -\r\n",
      "jovyan        -  0.0    -      -     - -        Ssl  15:28   0:00 -\r\n",
      "jovyan        -  0.0    -      -     - -        Ssl  15:28   0:00 -\r\n",
      "jovyan        -  0.0    -      -     - -        Ssl  15:28   0:00 -\r\n",
      "jovyan        -  0.0    -      -     - -        Ssl  15:28   0:00 -\r\n",
      "jovyan        -  0.0    -      -     - -        Ssl  15:28   0:00 -\r\n",
      "jovyan        -  0.0    -      -     - -        Ssl  15:35   0:00 -\r\n",
      "jovyan        -  0.0    -      -     - -        Ssl  15:35   0:00 -\r\n",
      "jovyan        -  0.0    -      -     - -        Ssl  15:35   0:00 -\r\n",
      "jovyan       34  0.1  2.1 631508 42984 ?        -    15:29   0:00 /opt/conda/bin/python -m ipykernel_launcher -f /home/jovyan/.local/share/jupyter/runtime/kernel-b4914beb-84e2-46ff-ab3d-15d923611a61.json HOSTNAME=1a17b746bd59 NB_USER=jovyan SHELL=/bin/bash LC_ALL=en_US.UTF-8 PATH=/opt/conda/bin:/opt/conda/bin:/usr/local/sbin:/usr/local/bin:/usr/sbin:/usr/bin:/sbin:/bin MINICONDA_VERSION=4.5.1 PWD=/home/jovyan LANG=en_US.UTF-8 SHLVL=0 HOME=/home/jovyan LANGUAGE=en_US.UTF-8 BASH_ENV=/etc/bash_env DEBIAN_FRONTEND=noninteractive NB_GID=100 CONDA_DIR=/opt/conda NB_UID=1000 JPY_PARENT_PID=6\r\n",
      "jovyan        -  0.1    -      -     - -        Ssl  15:29   0:00 -\r\n",
      "jovyan        -  0.0    -      -     - -        Ssl  15:29   0:00 -\r\n",
      "jovyan        -  0.0    -      -     - -        Ssl  15:29   0:00 -\r\n",
      "jovyan        -  0.0    -      -     - -        Ssl  15:29   0:00 -\r\n",
      "jovyan        -  0.0    -      -     - -        Ssl  15:29   0:00 -\r\n",
      "jovyan        -  0.0    -      -     - -        Ssl  15:29   0:00 -\r\n",
      "jovyan        -  0.0    -      -     - -        Ssl  15:29   0:00 -\r\n",
      "jovyan        -  0.0    -      -     - -        Ssl  15:29   0:00 -\r\n",
      "jovyan        -  0.0    -      -     - -        Ssl  15:29   0:00 -\r\n",
      "jovyan      443 28.0  0.0   4500   708 pts/0    -    15:35   0:00 /bin/sh -c ps auxwwwem HOSTNAME=1a17b746bd59 NB_USER=jovyan SHELL=/bin/bash LC_ALL=en_US.UTF-8 PATH=/opt/conda/bin:/opt/conda/bin:/usr/local/sbin:/usr/local/bin:/usr/sbin:/usr/bin:/sbin:/bin MINICONDA_VERSION=4.5.1 PWD=/home/jovyan LANG=en_US.UTF-8 SHLVL=0 HOME=/home/jovyan LANGUAGE=en_US.UTF-8 BASH_ENV=/etc/bash_env DEBIAN_FRONTEND=noninteractive NB_GID=100 CONDA_DIR=/opt/conda NB_UID=1000 JPY_PARENT_PID=6 TERM=xterm-color CLICOLOR=1 PAGER=cat GIT_PAGER=cat MPLBACKEND=module://ipykernel.pylab.backend_inline TZ=JST-9\r\n",
      "jovyan        - 28.0    -      -     - -        Ss+  15:35   0:00 -\r\n",
      "jovyan      444  0.0  0.1  36080  3068 pts/0    -    15:35   0:00 ps auxwwwem MINICONDA_VERSION=4.5.1 LANGUAGE=en_US.UTF-8 MPLBACKEND=module://ipykernel.pylab.backend_inline HOSTNAME=1a17b746bd59 SHLVL=0 HOME=/home/jovyan PAGER=cat NB_USER=jovyan TERM=xterm-color PATH=/opt/conda/bin:/opt/conda/bin:/usr/local/sbin:/usr/local/bin:/usr/sbin:/usr/bin:/sbin:/bin NB_GID=100 LANG=en_US.UTF-8 DEBIAN_FRONTEND=noninteractive SHELL=/bin/bash CONDA_DIR=/opt/conda BASH_ENV=/etc/bash_env GIT_PAGER=cat LC_ALL=en_US.UTF-8 PWD=/home/jovyan/openforum2018 CLICOLOR=1 JPY_PARENT_PID=6 NB_UID=1000 TZ=JST-9\r\n",
      "jovyan        -  0.0    -      -     - -        R+   15:35   0:00 -\r\n"
     ]
    }
   ],
   "source": [
    "!ps auxwwwem"
   ]
  },
  {
   "cell_type": "markdown",
   "metadata": {
    "lc_cell_meme": {
     "current": "a1092a88-64bd-11e8-8364-0242ac110002",
     "history": [
      {
       "current": "a1092a88-64bd-11e8-8364-0242ac110002",
       "next": null,
       "previous": "a1092a06-64bd-11e8-8364-0242ac110002"
      },
      {
       "current": "a1092a88-64bd-11e8-8364-0242ac110002",
       "next": "e88fb21e-64bd-11e8-8364-0242ac110002",
       "previous": "a1092a06-64bd-11e8-8364-0242ac110002"
      }
     ],
     "next": "c3feee0c-653e-11e8-8364-0242ac110002",
     "previous": "a1092a06-64bd-11e8-8364-0242ac110002"
    }
   },
   "source": [
    "## 設定情報の保全"
   ]
  },
  {
   "cell_type": "markdown",
   "metadata": {
    "lc_cell_meme": {
     "current": "c3feee0c-653e-11e8-8364-0242ac110002",
     "history": [
      {
       "current": "c3feee0c-653e-11e8-8364-0242ac110002",
       "next": "e88fb21e-64bd-11e8-8364-0242ac110002",
       "previous": "a1092a88-64bd-11e8-8364-0242ac110002"
      }
     ],
     "next": "0ed73904-656f-11e8-8364-0242ac110002",
     "previous": "a1092a88-64bd-11e8-8364-0242ac110002"
    }
   },
   "source": [
    "ファイルに日時のプリフィクスを付ける。"
   ]
  },
  {
   "cell_type": "code",
   "execution_count": 29,
   "metadata": {
    "deletable": false,
    "editable": false,
    "lc_cell_meme": {
     "current": "0ed73904-656f-11e8-8364-0242ac110002",
     "next": "e88fb21e-64bd-11e8-8364-0242ac110002",
     "previous": "c3feee0c-653e-11e8-8364-0242ac110002"
    },
    "pinned_outputs": [
     {
      "execution_count": 29,
      "outputs": [
       {
        "name": "stdout",
        "output_type": "stream",
        "text": "201806041535\n"
       }
      ]
     }
    ],
    "run_through_control": {
     "frozen": true
    }
   },
   "outputs": [
    {
     "name": "stdout",
     "output_type": "stream",
     "text": [
      "201806041535\n"
     ]
    }
   ],
   "source": [
    "prefix = datetime.datetime.now(JST).strftime(\"%Y%m%d%H%M\")\n",
    "print(prefix)"
   ]
  },
  {
   "cell_type": "code",
   "execution_count": 30,
   "metadata": {
    "deletable": false,
    "editable": false,
    "lc_cell_meme": {
     "current": "e88fb21e-64bd-11e8-8364-0242ac110002",
     "history": [
      {
       "current": "e88fb21e-64bd-11e8-8364-0242ac110002",
       "next": null,
       "previous": "a1092a88-64bd-11e8-8364-0242ac110002"
      },
      {
       "current": "e88fb21e-64bd-11e8-8364-0242ac110002",
       "next": "301787c4-64be-11e8-8364-0242ac110002",
       "previous": "a1092a88-64bd-11e8-8364-0242ac110002"
      },
      {
       "current": "e88fb21e-64bd-11e8-8364-0242ac110002",
       "next": "301787c4-64be-11e8-8364-0242ac110002",
       "previous": "c3feee0c-653e-11e8-8364-0242ac110002"
      },
      {
       "current": "e88fb21e-64bd-11e8-8364-0242ac110002",
       "next": "301787c4-64be-11e8-8364-0242ac110002",
       "previous": "e88fb21e-64bd-11e8-8364-0242ac110002"
      },
      {
       "current": "e88fb21e-64bd-11e8-8364-0242ac110002",
       "next": "301787c4-64be-11e8-8364-0242ac110002",
       "previous": "c3feee0c-653e-11e8-8364-0242ac110002"
      }
     ],
     "next": "301787c4-64be-11e8-8364-0242ac110002",
     "previous": "0ed73904-656f-11e8-8364-0242ac110002"
    },
    "pinned_outputs": [
     {
      "execution_count": 30,
      "outputs": [
       {
        "name": "stdout",
        "output_type": "stream",
        "text": "tar: Removing leading `/' from member names\n/etc/\n/etc/passwd\n/etc/rc1.d/\n/etc/rc1.d/S02single\n/etc/rc1.d/README\n/etc/rc1.d/S01killprocs\n/etc/cron.weekly/\n/etc/cron.weekly/fstrim\n/etc/selinux/\n/etc/selinux/semanage.conf\n/etc/rc.local\n/etc/update-motd.d/\n/etc/update-motd.d/00-header\n/etc/update-motd.d/10-help-text\n/etc/dhcp/\n/etc/dhcp/dhclient-exit-hooks.d/\n/etc/dhcp/dhclient-exit-hooks.d/timesyncd\n/etc/rc6.d/\n/etc/rc6.d/K03umountfs\n/etc/rc6.d/K02umountnfs.sh\n/etc/rc6.d/K05reboot\n/etc/rc6.d/K01sendsigs\n/etc/rc6.d/README\n/etc/rc6.d/K01hwclock.sh\n/etc/rc6.d/K01urandom\n/etc/rc6.d/K04umountroot\n/etc/sysctl.d/\n/etc/sysctl.d/10-console-messages.conf\n/etc/sysctl.d/10-link-restrictions.conf\n/etc/sysctl.d/10-network-security.conf\n/etc/sysctl.d/10-magic-sysrq.conf\n/etc/sysctl.d/10-ipv6-privacy.conf\n/etc/sysctl.d/10-ptrace.conf\n/etc/sysctl.d/README\n/etc/sysctl.d/10-zeropage.conf\n/etc/sysctl.d/99-sysctl.conf\n/etc/sysctl.d/10-kernel-hardening.conf\n/etc/init.d/\n/etc/init.d/checkroot-bootclean.sh\n/etc/init.d/mountkernfs.sh\n/etc/init.d/rc.local\n/etc/init.d/procps\n/etc/init.d/checkroot.sh\n/etc/init.d/skeleton\n/etc/init.d/umountfs\n/etc/init.d/mountnfs-bootclean.sh\n/etc/init.d/ondemand\n/etc/init.d/rc\n/etc/init.d/rcS\n/etc/init.d/bootmisc.sh\n/etc/init.d/checkfs.sh\n/etc/init.d/hostname.sh\n/etc/init.d/hwclock.sh\n/etc/init.d/single\n/etc/init.d/halt\n/etc/init.d/.depend.boot\n/etc/init.d/.depend.stop\n/etc/init.d/README\n/etc/init.d/sendsigs\n/etc/init.d/umountroot\n/etc/init.d/mountdevsubfs.sh\n/etc/init.d/.depend.start\n/etc/init.d/mountall-bootclean.sh\n/etc/init.d/mountall.sh\n/etc/init.d/reboot\n/etc/init.d/killprocs\n/etc/init.d/umountnfs.sh\n/etc/init.d/urandom\n/etc/init.d/mountnfs.sh\n/etc/init.d/kmod\n/etc/rc5.d/\n/etc/rc5.d/S01ondemand\n/etc/rc5.d/README\n/etc/rc5.d/S01rc.local\n/etc/dbus-1/\n/etc/dbus-1/system.d/\n/etc/dbus-1/system.d/org.freedesktop.systemd1.conf\n/etc/dbus-1/system.d/org.freedesktop.locale1.conf\n/etc/dbus-1/system.d/org.freedesktop.network1.conf\n/etc/dbus-1/system.d/org.freedesktop.login1.conf\n/etc/dbus-1/system.d/org.freedesktop.timedate1.conf\n/etc/dbus-1/system.d/org.freedesktop.hostname1.conf\n/etc/dbus-1/system.d/org.freedesktop.resolve1.conf\n/etc/gai.conf\n/etc/libaudit.conf\n/etc/hosts\n/etc/rc0.d/\n/etc/rc0.d/K05halt\n/etc/rc0.d/K03umountfs\n/etc/rc0.d/K02umountnfs.sh\n/etc/rc0.d/K01sendsigs\n/etc/rc0.d/README\n/etc/rc0.d/K01hwclock.sh\n/etc/rc0.d/K01urandom\n/etc/rc0.d/K04umountroot\n/etc/fstab\n/etc/insserv.conf.d/\n/etc/tmpfiles.d/\n/etc/resolv.conf\n/etc/pam.d/\n/etc/pam.d/common-session-noninteractive\n/etc/pam.d/passwd\n/etc/pam.d/other\n/etc/pam.d/common-auth\n/etc/pam.d/newusers\n/etc/pam.d/chfn\n/etc/pam.d/su\n/etc/pam.d/systemd-user\n/etc/pam.d/common-password\n/etc/pam.d/chpasswd\n/etc/pam.d/chsh\n/etc/pam.d/runuser\n/etc/pam.d/runuser-l\n/etc/pam.d/common-session\n/etc/pam.d/login\n/etc/pam.d/common-account\n/etc/pam.d/sudo\n/etc/X11/\n/etc/X11/xinit/\n/etc/X11/xinit/xinitrc.d/\n/etc/lsb-release\n/etc/rc2.d/\n/etc/rc2.d/S01ondemand\n/etc/rc2.d/README\n/etc/rc2.d/S01rc.local\n/etc/.pwd.lock\n/etc/bash_completion.d/\n/etc/bash_completion.d/insserv\n/etc/bash_completion.d/git-prompt\n/etc/alternatives/\n/etc/alternatives/builtins.7.gz\n/etc/alternatives/nawk.1.gz\n/etc/alternatives/awk\n/etc/alternatives/w\n/etc/alternatives/pager.1.gz\n/etc/alternatives/rmt.8.gz\n/etc/alternatives/awk.1.gz\n/etc/alternatives/README\n/etc/alternatives/pager\n/etc/alternatives/rmt\n/etc/alternatives/w.1.gz\n/etc/alternatives/nawk\n/etc/alternatives/editor.fr.1.gz\n/etc/alternatives/view.it.1.gz\n/etc/alternatives/view\n/etc/alternatives/ex\n/etc/alternatives/editor.ja.1.gz\n/etc/alternatives/fonts-japanese-gothic.ttf\n/etc/alternatives/vi.ja.1.gz\n/etc/alternatives/editor.it.1.gz\n/etc/alternatives/view.pl.1.gz\n/etc/alternatives/ex.ru.1.gz\n/etc/alternatives/ex.fr.1.gz\n/etc/alternatives/editor.pl.1.gz\n/etc/alternatives/view.1.gz\n/etc/alternatives/vi\n/etc/alternatives/view.ja.1.gz\n/etc/alternatives/editor\n/etc/alternatives/ex.1.gz\n/etc/alternatives/rename\n/etc/alternatives/rvim\n/etc/alternatives/ex.it.1.gz\n/etc/alternatives/vi.ru.1.gz\n/etc/alternatives/vimdiff\n/etc/alternatives/editor.ru.1.gz\n/etc/alternatives/editor.1.gz\n/etc/alternatives/vi.it.1.gz\n/etc/alternatives/vi.fr.1.gz\n/etc/alternatives/view.fr.1.gz\n/etc/alternatives/vi.pl.1.gz\n/etc/alternatives/ex.ja.1.gz\n/etc/alternatives/rename.1.gz\n/etc/alternatives/fonts-japanese-mincho.ttf\n/etc/alternatives/rview\n/etc/alternatives/view.ru.1.gz\n/etc/alternatives/vim\n/etc/alternatives/vi.1.gz\n/etc/alternatives/ex.pl.1.gz\n/etc/terminfo/\n/etc/terminfo/README\n/etc/legal\n/etc/systemd/\n/etc/systemd/user.conf\n/etc/systemd/resolved.conf\n/etc/systemd/user/\n/etc/systemd/system/\n/etc/systemd/system/sysinit.target.wants/\n/etc/systemd/system/sysinit.target.wants/systemd-timesyncd.service\n/etc/systemd/system/timers.target.wants/\n/etc/systemd/system/timers.target.wants/apt-daily.timer\n/etc/systemd/system/timers.target.wants/apt-daily-upgrade.timer\n/etc/systemd/system/getty.target.wants/\n/etc/systemd/system/getty.target.wants/getty@tty1.service\n/etc/systemd/system/multi-user.target.wants/\n/etc/systemd/system/multi-user.target.wants/remote-fs.target\n/etc/systemd/timesyncd.conf\n/etc/systemd/logind.conf\n/etc/systemd/journald.conf\n/etc/systemd/bootchart.conf\n/etc/systemd/system.conf\n/etc/systemd/network/\n/etc/timezone\n/etc/subgid\n/etc/shells\n/etc/init/\n/etc/init/hostname.sh.conf\n/etc/init/hostname.conf\n/etc/init/procps.conf\n/etc/init/procps-instance.conf\n/etc/init/hwclock.conf\n/etc/init/hwclock.sh.conf\n/etc/init/passwd.conf\n/etc/init/hwclock-save.conf\n/etc/init/kmod.conf\n/etc/sysctl.conf\n/etc/profile.d/\n/etc/pam.conf\n/etc/subuid\n/etc/rc3.d/\n/etc/rc3.d/S01ondemand\n/etc/rc3.d/README\n/etc/rc3.d/S01rc.local\n/etc/issue\n/etc/gshadow\n/etc/profile\n/etc/cron.daily/\n/etc/cron.daily/passwd\n/etc/cron.daily/apt-compat\n/etc/cron.daily/dpkg\n/etc/environment\n/etc/security/\n/etc/security/pam_env.conf\n/etc/security/time.conf\n/etc/security/sepermit.conf\n/etc/security/limits.d/\n/etc/security/group.conf\n/etc/security/opasswd\n/etc/security/namespace.init\n/etc/security/limits.conf\n/etc/security/access.conf\n/etc/security/namespace.d/\n/etc/security/namespace.conf\n/etc/os-release\n/etc/localtime\n/etc/modules-load.d/\n/etc/modules-load.d/modules.conf\n/etc/apt/\n/etc/apt/trusted.gpg\n/etc/apt/apt.conf.d/\n/etc/apt/apt.conf.d/01-vendor-ubuntu\n/etc/apt/apt.conf.d/70debconf\n/etc/apt/apt.conf.d/01autoremove-kernels\n/etc/apt/apt.conf.d/01autoremove\n/etc/apt/apt.conf.d/docker-clean\n/etc/apt/apt.conf.d/docker-autoremove-suggests\n/etc/apt/apt.conf.d/docker-gzip-indexes\n/etc/apt/apt.conf.d/docker-no-languages\n/etc/apt/preferences.d/\n/etc/apt/trusted.gpg.d/\n/etc/apt/sources.list.d/\n/etc/apt/sources.list\n/etc/issue.net\n/etc/debian_version\n/etc/securetty\n/etc/ld.so.conf\n/etc/debconf.conf\n/etc/deluser.conf\n/etc/insserv/\n/etc/insserv/overrides/\n/etc/hostname\n/etc/inputrc\n/etc/adduser.conf\n/etc/insserv.conf\n/etc/login.defs\n/etc/networks\n/etc/bash.bashrc\n/etc/ld.so.cache\n/etc/rmt\n/etc/rc4.d/\n/etc/rc4.d/S01ondemand\n/etc/rc4.d/README\n/etc/rc4.d/S01rc.local\n/etc/group\n/etc/default/\n/etc/default/rcS\n/etc/default/useradd\n/etc/default/halt\n/etc/default/devpts\n/etc/default/nss\n/etc/default/locale\n/etc/ld.so.conf.d/\n/etc/ld.so.conf.d/x86_64-linux-gnu.conf\n/etc/ld.so.conf.d/libc.conf\n/etc/udev/\n/etc/skel/\n/etc/skel/.bashrc\n/etc/skel/.profile\n/etc/skel/.bash_logout\n/etc/binfmt.d/\n/etc/shadow\n/etc/kernel/\n/etc/kernel/postinst.d/\n/etc/kernel/postinst.d/apt-auto-removal\n/etc/host.conf\n/etc/opt/\n/etc/logrotate.d/\n/etc/logrotate.d/apt\n/etc/logrotate.d/dpkg\n/etc/bindresvport.blacklist\n/etc/dpkg/\n/etc/dpkg/dpkg.cfg.d/\n/etc/dpkg/dpkg.cfg.d/docker-apt-speedup\n/etc/dpkg/origins/\n/etc/dpkg/origins/ubuntu\n/etc/dpkg/origins/default\n/etc/dpkg/origins/debian\n/etc/dpkg/dpkg.cfg\n/etc/xdg/\n/etc/xdg/systemd/\n/etc/xdg/systemd/user\n/etc/rcS.d/\n/etc/rcS.d/S01mountkernfs.sh\n/etc/rcS.d/S09bootmisc.sh\n/etc/rcS.d/S04checkroot.sh\n/etc/rcS.d/S07mountall.sh\n/etc/rcS.d/S01hostname.sh\n/etc/rcS.d/S03hwclock.sh\n/etc/rcS.d/S03mountnfs.sh\n/etc/rcS.d/S08mountall-bootclean.sh\n/etc/rcS.d/README\n/etc/rcS.d/S06checkroot-bootclean.sh\n/etc/rcS.d/S02mountdevsubfs.sh\n/etc/rcS.d/S06urandom\n/etc/rcS.d/S05checkfs.sh\n/etc/rcS.d/S02procps\n/etc/rcS.d/S06mountnfs-bootclean.sh\n/etc/rcS.d/S06kmod\n/etc/machine-id\n/etc/nsswitch.conf\n/etc/mke2fs.conf\n/etc/modprobe.d/\n/etc/modprobe.d/blacklist.conf\n/etc/modprobe.d/mlx4.conf\n/etc/modprobe.d/blacklist-framebuffer.conf\n/etc/modprobe.d/blacklist-firewire.conf\n/etc/modprobe.d/blacklist-watchdog.conf\n/etc/modprobe.d/blacklist-ath_pci.conf\n/etc/modprobe.d/iwlwifi.conf\n/etc/modprobe.d/blacklist-rare-network.conf\n/etc/depmod.d/\n/etc/depmod.d/ubuntu.conf\n/etc/modules\n/etc/mtab\n/etc/mailcap\n/etc/ansible/\n/etc/ansible/ansible.cfg\n/etc/mime.types\n/etc/bash_env\n/etc/sudoers.d/\n/etc/sudoers.d/README\n/etc/sudoers.d/jovyan\n/etc/fonts/\n/etc/fonts/conf.d/\n/etc/fonts/conf.d/65-fonts-ipafont-gothic.conf\n/etc/fonts/conf.d/65-fonts-ipafont-mincho.conf\n/etc/fonts/conf.avail/\n/etc/fonts/conf.avail/65-fonts-ipafont-gothic.conf\n"
       },
       {
        "name": "stdout",
        "output_type": "stream",
        "text": "/etc/fonts/conf.avail/65-fonts-ipafont-mincho.conf\n/etc/python3.5/\n/etc/python3.5/sitecustomize.py\n/etc/sudoers\n/etc/mailcap.order\n/etc/ssl/\n/etc/ssl/certs/\n/etc/ssl/certs/861a399d.0\n/etc/ssl/certs/b7db1890.0\n/etc/ssl/certs/Certum_Root_CA.pem\n/etc/ssl/certs/cd8c0d63.0\n/etc/ssl/certs/244b5494.0\n/etc/ssl/certs/f060240e.0\n/etc/ssl/certs/062cdee6.0\n/etc/ssl/certs/d4dae3dd.0\n/etc/ssl/certs/VeriSign_Class_3_Public_Primary_Certification_Authority_-_G4.pem\n/etc/ssl/certs/5f47b495.0\n/etc/ssl/certs/080911ac.0\n/etc/ssl/certs/LuxTrust_Global_Root_2.pem\n/etc/ssl/certs/bd1910d4.0\n/etc/ssl/certs/87753b0d.0\n/etc/ssl/certs/e113c810.0\n/etc/ssl/certs/cc450945.0\n/etc/ssl/certs/034868d6.0\n/etc/ssl/certs/ba89ed3b.0\n/etc/ssl/certs/02265526.0\n/etc/ssl/certs/DigiCert_Global_Root_G2.pem\n/etc/ssl/certs/Hongkong_Post_Root_CA_1.pem\n/etc/ssl/certs/Certum_Trusted_Network_CA.pem\n/etc/ssl/certs/5cd81ad7.0\n/etc/ssl/certs/ccc52f49.0\n/etc/ssl/certs/399e7759.0\n/etc/ssl/certs/Amazon_Root_CA_3.pem\n/etc/ssl/certs/f3377b1b.0\n/etc/ssl/certs/3c860d51.0\n/etc/ssl/certs/40193066.0\n/etc/ssl/certs/8b59b1ad.0\n/etc/ssl/certs/D-TRUST_Root_Class_3_CA_2_EV_2009.pem\n/etc/ssl/certs/40dc992e.0\n/etc/ssl/certs/2e5ac55d.0\n/etc/ssl/certs/930ac5d2.0\n/etc/ssl/certs/91739615.0\n/etc/ssl/certs/653b494a.0\n/etc/ssl/certs/c90bc37d.0\n/etc/ssl/certs/e36a6752.0\n/etc/ssl/certs/OpenTrust_Root_CA_G2.pem\n/etc/ssl/certs/3d441de8.0\n/etc/ssl/certs/56657bde.0\n/etc/ssl/certs/Certum_Trusted_Network_CA_2.pem\n/etc/ssl/certs/Taiwan_GRCA.pem\n/etc/ssl/certs/Swisscom_Root_CA_1.pem\n/etc/ssl/certs/1676090a.0\n/etc/ssl/certs/ePKI_Root_Certification_Authority.pem\n/etc/ssl/certs/7d453d8f.0\n/etc/ssl/certs/ff34af3f.0\n/etc/ssl/certs/Hellenic_Academic_and_Research_Institutions_RootCA_2015.pem\n/etc/ssl/certs/b13cc6df.0\n/etc/ssl/certs/d8317ada.0\n/etc/ssl/certs/451b5485.0\n/etc/ssl/certs/6b99d060.0\n/etc/ssl/certs/1e1eab7c.0\n/etc/ssl/certs/cbeee9e2.0\n/etc/ssl/certs/8c24b137.0\n/etc/ssl/certs/d957f522.0\n/etc/ssl/certs/988a38cb.0\n/etc/ssl/certs/cbf06781.0\n/etc/ssl/certs/cb1c3204.0\n/etc/ssl/certs/a2c66da8.0\n/etc/ssl/certs/442adcac.0\n/etc/ssl/certs/3929ec9f.0\n/etc/ssl/certs/China_Internet_Network_Information_Center_EV_Certificates_Root.pem\n/etc/ssl/certs/7999be0d.0\n/etc/ssl/certs/81b9768f.0\n/etc/ssl/certs/1d3472b9.0\n/etc/ssl/certs/e8651083.0\n/etc/ssl/certs/7f3d5d1d.0\n/etc/ssl/certs/ef954a4e.0\n/etc/ssl/certs/1eb37bdf.0\n/etc/ssl/certs/1e09d511.0\n/etc/ssl/certs/157753a5.0\n/etc/ssl/certs/f90208f7.0\n/etc/ssl/certs/a760e1bd.0\n/etc/ssl/certs/COMODO_RSA_Certification_Authority.pem\n/etc/ssl/certs/2c543cd1.0\n/etc/ssl/certs/d7746a63.0\n/etc/ssl/certs/52b525c7.0\n/etc/ssl/certs/76faf6c0.0\n/etc/ssl/certs/3513523f.0\n/etc/ssl/certs/Certinomis_-_Autorité_Racine.pem\n/etc/ssl/certs/d4c339cb.0\n/etc/ssl/certs/SecureTrust_CA.pem\n/etc/ssl/certs/QuoVadis_Root_CA_1_G3.pem\n/etc/ssl/certs/480720ec.0\n/etc/ssl/certs/e775ed2d.0\n/etc/ssl/certs/VeriSign_Universal_Root_Certification_Authority.pem\n/etc/ssl/certs/Entrust_Root_Certification_Authority.pem\n/etc/ssl/certs/CNNIC_ROOT.pem\n/etc/ssl/certs/de6d66f3.0\n/etc/ssl/certs/bc3f2570.0\n/etc/ssl/certs/TÜBİTAK_UEKAE_Kök_Sertifika_Hizmet_Sağlayıcısı_-_Sürüm_3.pem\n/etc/ssl/certs/4be590e0.0\n/etc/ssl/certs/1df5a75f.0\n/etc/ssl/certs/T-TeleSec_GlobalRoot_Class_2.pem\n/etc/ssl/certs/b1159c4c.0\n/etc/ssl/certs/Starfield_Class_2_CA.pem\n/etc/ssl/certs/7a819ef2.0\n/etc/ssl/certs/9d520b32.0\n/etc/ssl/certs/VeriSign_Class_3_Public_Primary_Certification_Authority_-_G5.pem\n/etc/ssl/certs/790a7190.0\n/etc/ssl/certs/a7d2cf64.0\n/etc/ssl/certs/b872f2b4.0\n/etc/ssl/certs/OpenTrust_Root_CA_G1.pem\n/etc/ssl/certs/418595b9.0\n/etc/ssl/certs/2add47b6.0\n/etc/ssl/certs/9f533518.0\n/etc/ssl/certs/ee64a828.0\n/etc/ssl/certs/d16a5865.0\n/etc/ssl/certs/Hellenic_Academic_and_Research_Institutions_RootCA_2011.pem\n/etc/ssl/certs/AddTrust_Public_Services_Root.pem\n/etc/ssl/certs/thawte_Primary_Root_CA_-_G3.pem\n/etc/ssl/certs/2fa87019.0\n/etc/ssl/certs/2c11d503.0\n/etc/ssl/certs/CA_Disig_Root_R2.pem\n/etc/ssl/certs/e442e424.0\n/etc/ssl/certs/AffirmTrust_Commercial.pem\n/etc/ssl/certs/12d55845.0\n/etc/ssl/certs/e8de2f56.0\n/etc/ssl/certs/524d9b43.0\n/etc/ssl/certs/5046c355.0\n/etc/ssl/certs/559f7c71.0\n/etc/ssl/certs/3ad48a91.0\n/etc/ssl/certs/GeoTrust_Universal_CA_2.pem\n/etc/ssl/certs/455f1b52.0\n/etc/ssl/certs/75d1b2ed.0\n/etc/ssl/certs/63a2c897.0\n/etc/ssl/certs/3e45d192.0\n/etc/ssl/certs/Camerfirma_Chambers_of_Commerce_Root.pem\n/etc/ssl/certs/48bec511.0\n/etc/ssl/certs/82223c44.0\n/etc/ssl/certs/86212b19.0\n/etc/ssl/certs/116bf586.0\n/etc/ssl/certs/Swisscom_Root_CA_2.pem\n/etc/ssl/certs/AddTrust_Low-Value_Services_Root.pem\n/etc/ssl/certs/21855f49.0\n/etc/ssl/certs/608a55ad.0\n/etc/ssl/certs/064e0aa9.0\n/etc/ssl/certs/DigiCert_Global_Root_G3.pem\n/etc/ssl/certs/dfc0fe80.0\n/etc/ssl/certs/AffirmTrust_Networking.pem\n/etc/ssl/certs/111e6273.0\n/etc/ssl/certs/9282e51c.0\n/etc/ssl/certs/ab5346f4.0\n/etc/ssl/certs/b0e59380.0\n/etc/ssl/certs/219d9499.0\n/etc/ssl/certs/57bcb2da.0\n/etc/ssl/certs/GeoTrust_Primary_Certification_Authority_-_G3.pem\n/etc/ssl/certs/EC-ACC.pem\n/etc/ssl/certs/e18bfb83.0\n/etc/ssl/certs/667c66d4.0\n/etc/ssl/certs/7719f463.0\n/etc/ssl/certs/ea169617.0\n/etc/ssl/certs/c491639e.0\n/etc/ssl/certs/thawte_Primary_Root_CA_-_G2.pem\n/etc/ssl/certs/e536d871.0\n/etc/ssl/certs/Certplus_Root_CA_G2.pem\n/etc/ssl/certs/2b349938.0\n/etc/ssl/certs/0c4c9b6c.0\n/etc/ssl/certs/c47d9980.0\n/etc/ssl/certs/bf64f35b.0\n/etc/ssl/certs/4a6481c9.0\n/etc/ssl/certs/b66938e9.0\n/etc/ssl/certs/CFCA_EV_ROOT.pem\n/etc/ssl/certs/9ab62355.0\n/etc/ssl/certs/Amazon_Root_CA_2.pem\n/etc/ssl/certs/USERTrust_RSA_Certification_Authority.pem\n/etc/ssl/certs/02b73561.0\n/etc/ssl/certs/c0ff1f52.0\n/etc/ssl/certs/9d04f354.0\n/etc/ssl/certs/895cad1a.0\n/etc/ssl/certs/facacbc6.0\n/etc/ssl/certs/ACEDICOM_Root.pem\n/etc/ssl/certs/b3fb433b.0\n/etc/ssl/certs/QuoVadis_Root_CA_3.pem\n/etc/ssl/certs/1636090b.0\n/etc/ssl/certs/Security_Communication_RootCA2.pem\n/etc/ssl/certs/AddTrust_Qualified_Certificates_Root.pem\n/etc/ssl/certs/2e4eed3c.0\n/etc/ssl/certs/c089bbbd.0\n/etc/ssl/certs/COMODO_Certification_Authority.pem\n/etc/ssl/certs/749e9e03.0\n/etc/ssl/certs/ad088e1d.0\n/etc/ssl/certs/AffirmTrust_Premium_ECC.pem\n/etc/ssl/certs/Izenpe.com.pem\n/etc/ssl/certs/5a3f0ff8.0\n/etc/ssl/certs/Staat_der_Nederlanden_Root_CA_-_G3.pem\n/etc/ssl/certs/9d6523ce.0\n/etc/ssl/certs/60afe812.0\n/etc/ssl/certs/a7605362.0\n/etc/ssl/certs/1874d4aa.0\n/etc/ssl/certs/thawte_Primary_Root_CA.pem\n/etc/ssl/certs/00673b5b.0\n/etc/ssl/certs/40547a79.0\n/etc/ssl/certs/e2799e36.0\n/etc/ssl/certs/3c58f906.0\n/etc/ssl/certs/Actalis_Authentication_Root_CA.pem\n/etc/ssl/certs/1dac3003.0\n/etc/ssl/certs/f081611a.0\n/etc/ssl/certs/349f2832.0\n/etc/ssl/certs/450c6e38.0\n/etc/ssl/certs/1f58a078.0\n/etc/ssl/certs/1e08bfd1.0\n/etc/ssl/certs/9c8dfbd4.0\n/etc/ssl/certs/5a4d6896.0\n/etc/ssl/certs/Deutsche_Telekom_Root_CA_2.pem\n/etc/ssl/certs/4e18c148.0\n/etc/ssl/certs/TWCA_Global_Root_CA.pem\n/etc/ssl/certs/f387163d.0\n/etc/ssl/certs/QuoVadis_Root_CA.pem\n/etc/ssl/certs/9c2e7d30.0\n/etc/ssl/certs/1e8e7201.0\n/etc/ssl/certs/QuoVadis_Root_CA_2.pem\n/etc/ssl/certs/ca6e4ad9.0\n/etc/ssl/certs/ACCVRAIZ1.pem\n/etc/ssl/certs/AffirmTrust_Premium.pem\n/etc/ssl/certs/a94d09e5.0\n/etc/ssl/certs/75680d2e.0\n/etc/ssl/certs/COMODO_ECC_Certification_Authority.pem\n/etc/ssl/certs/a0bc6fbb.0\n/etc/ssl/certs/e60bf0c0.0\n/etc/ssl/certs/76579174.0\n/etc/ssl/certs/dc99f41e.0\n/etc/ssl/certs/b936d1c6.0\n/etc/ssl/certs/a81e292b.0\n/etc/ssl/certs/c51c224c.0\n/etc/ssl/certs/fc5a8f99.0\n/etc/ssl/certs/ca-certificates.crt\n/etc/ssl/certs/OISTE_WISeKey_Global_Root_GB_CA.pem\n/etc/ssl/certs/c907e29b.0\n/etc/ssl/certs/d06393bb.0\n/etc/ssl/certs/Security_Communication_Root_CA.pem\n/etc/ssl/certs/6187b673.0\n/etc/ssl/certs/EE_Certification_Centre_Root_CA.pem\n/etc/ssl/certs/9007ae68.0\n/etc/ssl/certs/9339512a.0\n/etc/ssl/certs/GeoTrust_Universal_CA.pem\n/etc/ssl/certs/Atos_TrustedRoot_2011.pem\n/etc/ssl/certs/dbc54cab.0\n/etc/ssl/certs/0b1b94ef.0\n/etc/ssl/certs/5f15c80c.0\n/etc/ssl/certs/DigiCert_High_Assurance_EV_Root_CA.pem\n/etc/ssl/certs/GlobalSign_Root_CA_-_R2.pem\n/etc/ssl/certs/XRamp_Global_CA_Root.pem\n/etc/ssl/certs/GeoTrust_Global_CA_2.pem\n/etc/ssl/certs/OISTE_WISeKey_Global_Root_GA_CA.pem\n/etc/ssl/certs/Swisscom_Root_EV_CA_2.pem\n/etc/ssl/certs/9479c8c3.0\n/etc/ssl/certs/89c02a45.0\n/etc/ssl/certs/Microsec_e-Szigno_Root_CA_2009.pem\n/etc/ssl/certs/Comodo_AAA_Services_root.pem\n/etc/ssl/certs/9dbefe7b.0\n/etc/ssl/certs/TURKTRUST_Certificate_Services_Provider_Root_2007.pem\n/etc/ssl/certs/dd8e9d41.0\n/etc/ssl/certs/GeoTrust_Primary_Certification_Authority.pem\n/etc/ssl/certs/T-TeleSec_GlobalRoot_Class_3.pem\n/etc/ssl/certs/Sonera_Class_2_Root_CA.pem\n/etc/ssl/certs/87229d21.0\n/etc/ssl/certs/DigiCert_Assured_ID_Root_CA.pem\n/etc/ssl/certs/Certplus_Class_2_Primary_CA.pem\n/etc/ssl/certs/09789157.0\n/etc/ssl/certs/d59297b8.0\n/etc/ssl/certs/7a7c655d.0\n/etc/ssl/certs/c28a8a30.0\n/etc/ssl/certs/Cybertrust_Global_Root.pem\n/etc/ssl/certs/DigiCert_Global_Root_CA.pem\n"
       },
       {
        "name": "stdout",
        "output_type": "stream",
        "text": "/etc/ssl/certs/Entrust.net_Premium_2048_Secure_Server_CA.pem\n/etc/ssl/certs/SecureSign_RootCA11.pem\n/etc/ssl/certs/2d9dafe4.0\n/etc/ssl/certs/CA_Disig_Root_R1.pem\n/etc/ssl/certs/GeoTrust_Global_CA.pem\n/etc/ssl/certs/Certigna.pem\n/etc/ssl/certs/D-TRUST_Root_Class_3_CA_2_2009.pem\n/etc/ssl/certs/d853d49e.0\n/etc/ssl/certs/e48193cf.0\n/etc/ssl/certs/Secure_Global_CA.pem\n/etc/ssl/certs/c5d3212a.0\n/etc/ssl/certs/Hellenic_Academic_and_Research_Institutions_ECC_RootCA_2015.pem\n/etc/ssl/certs/d41b5e2a.0\n/etc/ssl/certs/95aff9e3.0\n/etc/ssl/certs/OpenTrust_Root_CA_G3.pem\n/etc/ssl/certs/TÜRKTRUST_Elektronik_Sertifika_Hizmet_Sağlayıcısı_H5.pem\n/etc/ssl/certs/E-Tugra_Certification_Authority.pem\n/etc/ssl/certs/GlobalSign_Root_CA.pem\n/etc/ssl/certs/TWCA_Root_Certification_Authority.pem\n/etc/ssl/certs/SwissSign_Silver_CA_-_G2.pem\n/etc/ssl/certs/9576d26b.0\n/etc/ssl/certs/ff783690.0\n/etc/ssl/certs/706f604c.0\n/etc/ssl/certs/3bde41ac.0\n/etc/ssl/certs/fde84897.0\n/etc/ssl/certs/Staat_der_Nederlanden_Root_CA_-_G2.pem\n/etc/ssl/certs/03179a64.0\n/etc/ssl/certs/3efd4dc0.0\n/etc/ssl/certs/4042bcee.0\n/etc/ssl/certs/607986c7.0\n/etc/ssl/certs/76cb8f92.0\n/etc/ssl/certs/10531352.0\n/etc/ssl/certs/5c44d531.0\n/etc/ssl/certs/b1b8a7f3.0\n/etc/ssl/certs/Starfield_Services_Root_Certificate_Authority_-_G2.pem\n/etc/ssl/certs/3c9a4d3b.0\n/etc/ssl/certs/381ce4dd.0\n/etc/ssl/certs/IdenTrust_Public_Sector_Root_CA_1.pem\n/etc/ssl/certs/54657681.0\n/etc/ssl/certs/DST_ACES_CA_X6.pem\n/etc/ssl/certs/a3896b44.0\n/etc/ssl/certs/ee7cd6fb.0\n/etc/ssl/certs/7672ac4b.0\n/etc/ssl/certs/USERTrust_ECC_Certification_Authority.pem\n/etc/ssl/certs/Certinomis_-_Root_CA.pem\n/etc/ssl/certs/aeb67534.0\n/etc/ssl/certs/NetLock_Arany_=Class_Gold=_Főtanúsítvány.pem\n/etc/ssl/certs/GlobalSign_Root_CA_-_R3.pem\n/etc/ssl/certs/b0ed035a.0\n/etc/ssl/certs/Go_Daddy_Root_Certificate_Authority_-_G2.pem\n/etc/ssl/certs/02756ea4.0\n/etc/ssl/certs/ce5e74ef.0\n/etc/ssl/certs/Comodo_Secure_Services_root.pem\n/etc/ssl/certs/IdenTrust_Commercial_Root_CA_1.pem\n/etc/ssl/certs/Go_Daddy_Class_2_CA.pem\n/etc/ssl/certs/65b876bd.0\n/etc/ssl/certs/5cf9d536.0\n/etc/ssl/certs/35105088.0\n/etc/ssl/certs/e268a4c5.0\n/etc/ssl/certs/cf701eeb.0\n/etc/ssl/certs/d66b55d9.0\n/etc/ssl/certs/PSCProcert.pem\n/etc/ssl/certs/Buypass_Class_2_Root_CA.pem\n/etc/ssl/certs/f30dd6ad.0\n/etc/ssl/certs/7992b8bb.0\n/etc/ssl/certs/Buypass_Class_3_Root_CA.pem\n/etc/ssl/certs/DigiCert_Assured_ID_Root_G3.pem\n/etc/ssl/certs/Visa_eCommerce_Root.pem\n/etc/ssl/certs/Certplus_Root_CA_G1.pem\n/etc/ssl/certs/AC_RAIZ_FNMT-RCM.pem\n/etc/ssl/certs/9772ca32.0\n/etc/ssl/certs/SwissSign_Gold_CA_-_G2.pem\n/etc/ssl/certs/48a195d8.0\n/etc/ssl/certs/Staat_der_Nederlanden_EV_Root_CA.pem\n/etc/ssl/certs/GlobalSign_ECC_Root_CA_-_R5.pem\n/etc/ssl/certs/Security_Communication_EV_RootCA1.pem\n/etc/ssl/certs/8867006a.0\n/etc/ssl/certs/d7e8dc79.0\n/etc/ssl/certs/d6325660.0\n/etc/ssl/certs/c7e2a638.0\n/etc/ssl/certs/812e17de.0\n/etc/ssl/certs/d18e9066.0\n/etc/ssl/certs/DigiCert_Trusted_Root_G4.pem\n/etc/ssl/certs/Global_Chambersign_Root_-_2008.pem\n/etc/ssl/certs/0d5a4e1c.0\n/etc/ssl/certs/QuoVadis_Root_CA_2_G3.pem\n/etc/ssl/certs/4bfab552.0\n/etc/ssl/certs/GlobalSign_ECC_Root_CA_-_R4.pem\n/etc/ssl/certs/ISRG_Root_X1.pem\n/etc/ssl/certs/Network_Solutions_Certificate_Authority.pem\n/etc/ssl/certs/bdacca6f.0\n/etc/ssl/certs/cd58d51e.0\n/etc/ssl/certs/8160b96c.0\n/etc/ssl/certs/128805a3.0\n/etc/ssl/certs/cb156124.0\n/etc/ssl/certs/b7a5b843.0\n/etc/ssl/certs/Trustis_FPS_Root_CA.pem\n/etc/ssl/certs/57692373.0\n/etc/ssl/certs/2ae6433e.0\n/etc/ssl/certs/8d86cdd1.0\n/etc/ssl/certs/9c3323d4.0\n/etc/ssl/certs/04f60c28.0\n/etc/ssl/certs/SZAFIR_ROOT_CA2.pem\n/etc/ssl/certs/fb5fa911.0\n/etc/ssl/certs/Verisign_Class_3_Public_Primary_Certification_Authority_-_G3.pem\n/etc/ssl/certs/a2df7ad7.0\n/etc/ssl/certs/6fcc125d.0\n/etc/ssl/certs/DST_Root_CA_X3.pem\n/etc/ssl/certs/Entrust_Root_Certification_Authority_-_G2.pem\n/etc/ssl/certs/93bc0acc.0\n/etc/ssl/certs/9f0f5fd6.0\n/etc/ssl/certs/23f4c490.0\n/etc/ssl/certs/6e8bf996.0\n/etc/ssl/certs/cb59f961.0\n/etc/ssl/certs/5ad8a5d6.0\n/etc/ssl/certs/eed8c118.0\n/etc/ssl/certs/d6e6eab9.0\n/etc/ssl/certs/b727005e.0\n/etc/ssl/certs/27af790d.0\n/etc/ssl/certs/4304c5e5.0\n/etc/ssl/certs/8d6437c3.0\n/etc/ssl/certs/9168f543.0\n/etc/ssl/certs/592c0a9a.0\n/etc/ssl/certs/17b51fe6.0\n/etc/ssl/certs/32888f65.0\n/etc/ssl/certs/3e7271e8.0\n/etc/ssl/certs/5e4e69e7.0\n/etc/ssl/certs/Starfield_Root_Certificate_Authority_-_G2.pem\n/etc/ssl/certs/f39fc864.0\n/etc/ssl/certs/3c6676aa.0\n/etc/ssl/certs/31188b5e.0\n/etc/ssl/certs/9685a493.0\n/etc/ssl/certs/5443e9e3.0\n/etc/ssl/certs/c9f83a1c.0\n/etc/ssl/certs/8cb5ee0f.0\n/etc/ssl/certs/Chambers_of_Commerce_Root_-_2008.pem\n/etc/ssl/certs/1dcd6f4c.0\n/etc/ssl/certs/DigiCert_Assured_ID_Root_G2.pem\n/etc/ssl/certs/5273a94c.0\n/etc/ssl/certs/67495436.0\n/etc/ssl/certs/Camerfirma_Global_Chambersign_Root.pem\n/etc/ssl/certs/TUBITAK_Kamu_SM_SSL_Kok_Sertifikasi_-_Surum_1.pem\n/etc/ssl/certs/fe8a2cd8.0\n/etc/ssl/certs/AddTrust_External_Root.pem\n/etc/ssl/certs/882de061.0\n/etc/ssl/certs/124bbd54.0\n/etc/ssl/certs/343eb6cb.0\n/etc/ssl/certs/052e396b.0\n/etc/ssl/certs/Amazon_Root_CA_1.pem\n/etc/ssl/certs/UTN_USERFirst_Hardware_Root_CA.pem\n/etc/ssl/certs/GeoTrust_Primary_Certification_Authority_-_G2.pem\n/etc/ssl/certs/fd08c599.0\n/etc/ssl/certs/4f316efb.0\n/etc/ssl/certs/7d0b38bd.0\n/etc/ssl/certs/18856ac4.0\n/etc/ssl/certs/Entrust_Root_Certification_Authority_-_EC1.pem\n/etc/ssl/certs/Autoridad_de_Certificacion_Firmaprofesional_CIF_A62634068.pem\n/etc/ssl/certs/69105f4f.0\n/etc/ssl/certs/3a3b02ce.0\n/etc/ssl/certs/6410666e.0\n/etc/ssl/certs/Amazon_Root_CA_4.pem\n/etc/ssl/certs/106f3e4d.0\n/etc/ssl/certs/certSIGN_ROOT_CA.pem\n/etc/ssl/certs/TeliaSonera_Root_CA_v1.pem\n/etc/ssl/certs/QuoVadis_Root_CA_3_G3.pem\n/etc/ssl/certs/aee5f10d.0\n/etc/ssl/certs/ed39abd0.0\n/etc/ssl/certs/Comodo_Trusted_Services_root.pem\n/etc/ssl/certs/5a250ea7.0\n/etc/ssl/certs/e73d606e.0\n/etc/ssl/certs/Baltimore_CyberTrust_Root.pem\n/etc/ssl/certs/b204d74a.0\n/etc/ssl/certs/b0f3e76e.0\n/etc/ssl/certs/0d69c7e1.0\n/etc/ssl/certs/6d41d539.0\n/etc/ssl/certs/c01cdfa2.0\n/etc/ssl/certs/def36a68.0\n/etc/ssl/certs/85cde254.0\n/etc/ssl/openssl.cnf\n/etc/ssl/private/\n/etc/ldap/\n/etc/ldap/ldap.conf\n/etc/perl/\n/etc/perl/Net/\n/etc/perl/Net/libnet.cfg\n/etc/perl/CPAN/\n/etc/iproute2/\n/etc/iproute2/rt_protos\n/etc/iproute2/rt_dsfield\n/etc/iproute2/rt_realms\n/etc/iproute2/rt_tables\n/etc/iproute2/rt_scopes\n/etc/iproute2/nl_protos\n/etc/iproute2/group\n/etc/iproute2/ematch_map\n/etc/vim/\n/etc/vim/vimrc\n/etc/gss/\n/etc/gss/mech.d/\n/etc/gss/mech.d/README\n/etc/jupyter/\n/etc/jupyter/jupyter_notebook_config.py\n/etc/subgid-\n/etc/shadow-\n/etc/subuid-\n/etc/passwd-\n/etc/locale.gen\n/etc/ca-certificates.conf\n/etc/wgetrc\n/etc/locale.alias\n/etc/ca-certificates/\n/etc/ca-certificates/update.d/\n-rwxr-xr-x 1 root root 262646 Jun  4 15:35 201806041535_host_etc.tar.gz\n"
       }
      ]
     }
    ],
    "run_through_control": {
     "frozen": true
    }
   },
   "outputs": [
    {
     "name": "stdout",
     "output_type": "stream",
     "text": [
      "tar: Removing leading `/' from member names\n",
      "/etc/\n",
      "/etc/passwd\n",
      "/etc/rc1.d/\n",
      "/etc/rc1.d/S02single\n",
      "/etc/rc1.d/README\n",
      "/etc/rc1.d/S01killprocs\n",
      "/etc/cron.weekly/\n",
      "/etc/cron.weekly/fstrim\n",
      "/etc/selinux/\n",
      "/etc/selinux/semanage.conf\n",
      "/etc/rc.local\n",
      "/etc/update-motd.d/\n",
      "/etc/update-motd.d/00-header\n",
      "/etc/update-motd.d/10-help-text\n",
      "/etc/dhcp/\n",
      "/etc/dhcp/dhclient-exit-hooks.d/\n",
      "/etc/dhcp/dhclient-exit-hooks.d/timesyncd\n",
      "/etc/rc6.d/\n",
      "/etc/rc6.d/K03umountfs\n",
      "/etc/rc6.d/K02umountnfs.sh\n",
      "/etc/rc6.d/K05reboot\n",
      "/etc/rc6.d/K01sendsigs\n",
      "/etc/rc6.d/README\n",
      "/etc/rc6.d/K01hwclock.sh\n",
      "/etc/rc6.d/K01urandom\n",
      "/etc/rc6.d/K04umountroot\n",
      "/etc/sysctl.d/\n",
      "/etc/sysctl.d/10-console-messages.conf\n",
      "/etc/sysctl.d/10-link-restrictions.conf\n",
      "/etc/sysctl.d/10-network-security.conf\n",
      "/etc/sysctl.d/10-magic-sysrq.conf\n",
      "/etc/sysctl.d/10-ipv6-privacy.conf\n",
      "/etc/sysctl.d/10-ptrace.conf\n",
      "/etc/sysctl.d/README\n",
      "/etc/sysctl.d/10-zeropage.conf\n",
      "/etc/sysctl.d/99-sysctl.conf\n",
      "/etc/sysctl.d/10-kernel-hardening.conf\n",
      "/etc/init.d/\n",
      "/etc/init.d/checkroot-bootclean.sh\n",
      "/etc/init.d/mountkernfs.sh\n",
      "/etc/init.d/rc.local\n",
      "/etc/init.d/procps\n",
      "/etc/init.d/checkroot.sh\n",
      "/etc/init.d/skeleton\n",
      "/etc/init.d/umountfs\n",
      "/etc/init.d/mountnfs-bootclean.sh\n",
      "/etc/init.d/ondemand\n",
      "/etc/init.d/rc\n",
      "/etc/init.d/rcS\n",
      "/etc/init.d/bootmisc.sh\n",
      "/etc/init.d/checkfs.sh\n",
      "/etc/init.d/hostname.sh\n",
      "/etc/init.d/hwclock.sh\n",
      "/etc/init.d/single\n",
      "/etc/init.d/halt\n",
      "/etc/init.d/.depend.boot\n",
      "/etc/init.d/.depend.stop\n",
      "/etc/init.d/README\n",
      "/etc/init.d/sendsigs\n",
      "/etc/init.d/umountroot\n",
      "/etc/init.d/mountdevsubfs.sh\n",
      "/etc/init.d/.depend.start\n",
      "/etc/init.d/mountall-bootclean.sh\n",
      "/etc/init.d/mountall.sh\n",
      "/etc/init.d/reboot\n",
      "/etc/init.d/killprocs\n",
      "/etc/init.d/umountnfs.sh\n",
      "/etc/init.d/urandom\n",
      "/etc/init.d/mountnfs.sh\n",
      "/etc/init.d/kmod\n",
      "/etc/rc5.d/\n",
      "/etc/rc5.d/S01ondemand\n",
      "/etc/rc5.d/README\n",
      "/etc/rc5.d/S01rc.local\n",
      "/etc/dbus-1/\n",
      "/etc/dbus-1/system.d/\n",
      "/etc/dbus-1/system.d/org.freedesktop.systemd1.conf\n",
      "/etc/dbus-1/system.d/org.freedesktop.locale1.conf\n",
      "/etc/dbus-1/system.d/org.freedesktop.network1.conf\n",
      "/etc/dbus-1/system.d/org.freedesktop.login1.conf\n",
      "/etc/dbus-1/system.d/org.freedesktop.timedate1.conf\n",
      "/etc/dbus-1/system.d/org.freedesktop.hostname1.conf\n",
      "/etc/dbus-1/system.d/org.freedesktop.resolve1.conf\n",
      "/etc/gai.conf\n",
      "/etc/libaudit.conf\n",
      "/etc/hosts\n",
      "/etc/rc0.d/\n",
      "/etc/rc0.d/K05halt\n",
      "/etc/rc0.d/K03umountfs\n",
      "/etc/rc0.d/K02umountnfs.sh\n",
      "/etc/rc0.d/K01sendsigs\n",
      "/etc/rc0.d/README\n",
      "/etc/rc0.d/K01hwclock.sh\n",
      "/etc/rc0.d/K01urandom\n",
      "/etc/rc0.d/K04umountroot\n",
      "/etc/fstab\n",
      "/etc/insserv.conf.d/\n",
      "/etc/tmpfiles.d/\n",
      "/etc/resolv.conf\n",
      "/etc/pam.d/\n",
      "/etc/pam.d/common-session-noninteractive\n",
      "/etc/pam.d/passwd\n",
      "/etc/pam.d/other\n",
      "/etc/pam.d/common-auth\n",
      "/etc/pam.d/newusers\n",
      "/etc/pam.d/chfn\n",
      "/etc/pam.d/su\n",
      "/etc/pam.d/systemd-user\n",
      "/etc/pam.d/common-password\n",
      "/etc/pam.d/chpasswd\n",
      "/etc/pam.d/chsh\n",
      "/etc/pam.d/runuser\n",
      "/etc/pam.d/runuser-l\n",
      "/etc/pam.d/common-session\n",
      "/etc/pam.d/login\n",
      "/etc/pam.d/common-account\n",
      "/etc/pam.d/sudo\n",
      "/etc/X11/\n",
      "/etc/X11/xinit/\n",
      "/etc/X11/xinit/xinitrc.d/\n",
      "/etc/lsb-release\n",
      "/etc/rc2.d/\n",
      "/etc/rc2.d/S01ondemand\n",
      "/etc/rc2.d/README\n",
      "/etc/rc2.d/S01rc.local\n",
      "/etc/.pwd.lock\n",
      "/etc/bash_completion.d/\n",
      "/etc/bash_completion.d/insserv\n",
      "/etc/bash_completion.d/git-prompt\n",
      "/etc/alternatives/\n",
      "/etc/alternatives/builtins.7.gz\n",
      "/etc/alternatives/nawk.1.gz\n",
      "/etc/alternatives/awk\n",
      "/etc/alternatives/w\n",
      "/etc/alternatives/pager.1.gz\n",
      "/etc/alternatives/rmt.8.gz\n",
      "/etc/alternatives/awk.1.gz\n",
      "/etc/alternatives/README\n",
      "/etc/alternatives/pager\n",
      "/etc/alternatives/rmt\n",
      "/etc/alternatives/w.1.gz\n",
      "/etc/alternatives/nawk\n",
      "/etc/alternatives/editor.fr.1.gz\n",
      "/etc/alternatives/view.it.1.gz\n",
      "/etc/alternatives/view\n",
      "/etc/alternatives/ex\n",
      "/etc/alternatives/editor.ja.1.gz\n",
      "/etc/alternatives/fonts-japanese-gothic.ttf\n",
      "/etc/alternatives/vi.ja.1.gz\n",
      "/etc/alternatives/editor.it.1.gz\n",
      "/etc/alternatives/view.pl.1.gz\n",
      "/etc/alternatives/ex.ru.1.gz\n",
      "/etc/alternatives/ex.fr.1.gz\n",
      "/etc/alternatives/editor.pl.1.gz\n",
      "/etc/alternatives/view.1.gz\n",
      "/etc/alternatives/vi\n",
      "/etc/alternatives/view.ja.1.gz\n",
      "/etc/alternatives/editor\n",
      "/etc/alternatives/ex.1.gz\n",
      "/etc/alternatives/rename\n",
      "/etc/alternatives/rvim\n",
      "/etc/alternatives/ex.it.1.gz\n",
      "/etc/alternatives/vi.ru.1.gz\n",
      "/etc/alternatives/vimdiff\n",
      "/etc/alternatives/editor.ru.1.gz\n",
      "/etc/alternatives/editor.1.gz\n",
      "/etc/alternatives/vi.it.1.gz\n",
      "/etc/alternatives/vi.fr.1.gz\n",
      "/etc/alternatives/view.fr.1.gz\n",
      "/etc/alternatives/vi.pl.1.gz\n",
      "/etc/alternatives/ex.ja.1.gz\n",
      "/etc/alternatives/rename.1.gz\n",
      "/etc/alternatives/fonts-japanese-mincho.ttf\n",
      "/etc/alternatives/rview\n",
      "/etc/alternatives/view.ru.1.gz\n",
      "/etc/alternatives/vim\n",
      "/etc/alternatives/vi.1.gz\n",
      "/etc/alternatives/ex.pl.1.gz\n",
      "/etc/terminfo/\n",
      "/etc/terminfo/README\n",
      "/etc/legal\n",
      "/etc/systemd/\n",
      "/etc/systemd/user.conf\n",
      "/etc/systemd/resolved.conf\n",
      "/etc/systemd/user/\n",
      "/etc/systemd/system/\n",
      "/etc/systemd/system/sysinit.target.wants/\n",
      "/etc/systemd/system/sysinit.target.wants/systemd-timesyncd.service\n",
      "/etc/systemd/system/timers.target.wants/\n",
      "/etc/systemd/system/timers.target.wants/apt-daily.timer\n",
      "/etc/systemd/system/timers.target.wants/apt-daily-upgrade.timer\n",
      "/etc/systemd/system/getty.target.wants/\n",
      "/etc/systemd/system/getty.target.wants/getty@tty1.service\n",
      "/etc/systemd/system/multi-user.target.wants/\n",
      "/etc/systemd/system/multi-user.target.wants/remote-fs.target\n",
      "/etc/systemd/timesyncd.conf\n",
      "/etc/systemd/logind.conf\n",
      "/etc/systemd/journald.conf\n",
      "/etc/systemd/bootchart.conf\n",
      "/etc/systemd/system.conf\n",
      "/etc/systemd/network/\n",
      "/etc/timezone\n",
      "/etc/subgid\n",
      "/etc/shells\n",
      "/etc/init/\n",
      "/etc/init/hostname.sh.conf\n",
      "/etc/init/hostname.conf\n",
      "/etc/init/procps.conf\n",
      "/etc/init/procps-instance.conf\n",
      "/etc/init/hwclock.conf\n",
      "/etc/init/hwclock.sh.conf\n",
      "/etc/init/passwd.conf\n",
      "/etc/init/hwclock-save.conf\n",
      "/etc/init/kmod.conf\n",
      "/etc/sysctl.conf\n",
      "/etc/profile.d/\n",
      "/etc/pam.conf\n",
      "/etc/subuid\n",
      "/etc/rc3.d/\n",
      "/etc/rc3.d/S01ondemand\n",
      "/etc/rc3.d/README\n",
      "/etc/rc3.d/S01rc.local\n",
      "/etc/issue\n",
      "/etc/gshadow\n",
      "/etc/profile\n",
      "/etc/cron.daily/\n",
      "/etc/cron.daily/passwd\n",
      "/etc/cron.daily/apt-compat\n",
      "/etc/cron.daily/dpkg\n",
      "/etc/environment\n",
      "/etc/security/\n",
      "/etc/security/pam_env.conf\n",
      "/etc/security/time.conf\n",
      "/etc/security/sepermit.conf\n",
      "/etc/security/limits.d/\n",
      "/etc/security/group.conf\n",
      "/etc/security/opasswd\n",
      "/etc/security/namespace.init\n",
      "/etc/security/limits.conf\n",
      "/etc/security/access.conf\n",
      "/etc/security/namespace.d/\n",
      "/etc/security/namespace.conf\n",
      "/etc/os-release\n",
      "/etc/localtime\n",
      "/etc/modules-load.d/\n",
      "/etc/modules-load.d/modules.conf\n",
      "/etc/apt/\n",
      "/etc/apt/trusted.gpg\n",
      "/etc/apt/apt.conf.d/\n",
      "/etc/apt/apt.conf.d/01-vendor-ubuntu\n",
      "/etc/apt/apt.conf.d/70debconf\n",
      "/etc/apt/apt.conf.d/01autoremove-kernels\n",
      "/etc/apt/apt.conf.d/01autoremove\n",
      "/etc/apt/apt.conf.d/docker-clean\n",
      "/etc/apt/apt.conf.d/docker-autoremove-suggests\n",
      "/etc/apt/apt.conf.d/docker-gzip-indexes\n",
      "/etc/apt/apt.conf.d/docker-no-languages\n",
      "/etc/apt/preferences.d/\n",
      "/etc/apt/trusted.gpg.d/\n",
      "/etc/apt/sources.list.d/\n",
      "/etc/apt/sources.list\n",
      "/etc/issue.net\n",
      "/etc/debian_version\n",
      "/etc/securetty\n",
      "/etc/ld.so.conf\n",
      "/etc/debconf.conf\n",
      "/etc/deluser.conf\n",
      "/etc/insserv/\n",
      "/etc/insserv/overrides/\n",
      "/etc/hostname\n",
      "/etc/inputrc\n",
      "/etc/adduser.conf\n",
      "/etc/insserv.conf\n",
      "/etc/login.defs\n",
      "/etc/networks\n",
      "/etc/bash.bashrc\n",
      "/etc/ld.so.cache\n",
      "/etc/rmt\n",
      "/etc/rc4.d/\n",
      "/etc/rc4.d/S01ondemand\n",
      "/etc/rc4.d/README\n",
      "/etc/rc4.d/S01rc.local\n",
      "/etc/group\n",
      "/etc/default/\n",
      "/etc/default/rcS\n",
      "/etc/default/useradd\n",
      "/etc/default/halt\n",
      "/etc/default/devpts\n",
      "/etc/default/nss\n",
      "/etc/default/locale\n",
      "/etc/ld.so.conf.d/\n",
      "/etc/ld.so.conf.d/x86_64-linux-gnu.conf\n",
      "/etc/ld.so.conf.d/libc.conf\n",
      "/etc/udev/\n",
      "/etc/skel/\n",
      "/etc/skel/.bashrc\n",
      "/etc/skel/.profile\n",
      "/etc/skel/.bash_logout\n",
      "/etc/binfmt.d/\n",
      "/etc/shadow\n",
      "/etc/kernel/\n",
      "/etc/kernel/postinst.d/\n",
      "/etc/kernel/postinst.d/apt-auto-removal\n",
      "/etc/host.conf\n",
      "/etc/opt/\n",
      "/etc/logrotate.d/\n",
      "/etc/logrotate.d/apt\n",
      "/etc/logrotate.d/dpkg\n",
      "/etc/bindresvport.blacklist\n",
      "/etc/dpkg/\n",
      "/etc/dpkg/dpkg.cfg.d/\n",
      "/etc/dpkg/dpkg.cfg.d/docker-apt-speedup\n",
      "/etc/dpkg/origins/\n",
      "/etc/dpkg/origins/ubuntu\n",
      "/etc/dpkg/origins/default\n",
      "/etc/dpkg/origins/debian\n",
      "/etc/dpkg/dpkg.cfg\n",
      "/etc/xdg/\n",
      "/etc/xdg/systemd/\n",
      "/etc/xdg/systemd/user\n",
      "/etc/rcS.d/\n",
      "/etc/rcS.d/S01mountkernfs.sh\n",
      "/etc/rcS.d/S09bootmisc.sh\n",
      "/etc/rcS.d/S04checkroot.sh\n",
      "/etc/rcS.d/S07mountall.sh\n",
      "/etc/rcS.d/S01hostname.sh\n",
      "/etc/rcS.d/S03hwclock.sh\n",
      "/etc/rcS.d/S03mountnfs.sh\n",
      "/etc/rcS.d/S08mountall-bootclean.sh\n",
      "/etc/rcS.d/README\n",
      "/etc/rcS.d/S06checkroot-bootclean.sh\n",
      "/etc/rcS.d/S02mountdevsubfs.sh\n",
      "/etc/rcS.d/S06urandom\n",
      "/etc/rcS.d/S05checkfs.sh\n",
      "/etc/rcS.d/S02procps\n",
      "/etc/rcS.d/S06mountnfs-bootclean.sh\n",
      "/etc/rcS.d/S06kmod\n",
      "/etc/machine-id\n",
      "/etc/nsswitch.conf\n",
      "/etc/mke2fs.conf\n",
      "/etc/modprobe.d/\n",
      "/etc/modprobe.d/blacklist.conf\n",
      "/etc/modprobe.d/mlx4.conf\n",
      "/etc/modprobe.d/blacklist-framebuffer.conf\n",
      "/etc/modprobe.d/blacklist-firewire.conf\n",
      "/etc/modprobe.d/blacklist-watchdog.conf\n",
      "/etc/modprobe.d/blacklist-ath_pci.conf\n",
      "/etc/modprobe.d/iwlwifi.conf\n",
      "/etc/modprobe.d/blacklist-rare-network.conf\n",
      "/etc/depmod.d/\n",
      "/etc/depmod.d/ubuntu.conf\n",
      "/etc/modules\n",
      "/etc/mtab\n",
      "/etc/mailcap\n",
      "/etc/ansible/\n",
      "/etc/ansible/ansible.cfg\n",
      "/etc/mime.types\n",
      "/etc/bash_env\n",
      "/etc/sudoers.d/\n",
      "/etc/sudoers.d/README\n",
      "/etc/sudoers.d/jovyan\n",
      "/etc/fonts/\n",
      "/etc/fonts/conf.d/\n",
      "/etc/fonts/conf.d/65-fonts-ipafont-gothic.conf\n",
      "/etc/fonts/conf.d/65-fonts-ipafont-mincho.conf\n",
      "/etc/fonts/conf.avail/\n",
      "/etc/fonts/conf.avail/65-fonts-ipafont-gothic.conf\n"
     ]
    },
    {
     "name": "stdout",
     "output_type": "stream",
     "text": [
      "/etc/fonts/conf.avail/65-fonts-ipafont-mincho.conf\n",
      "/etc/python3.5/\n",
      "/etc/python3.5/sitecustomize.py\n",
      "/etc/sudoers\n",
      "/etc/mailcap.order\n",
      "/etc/ssl/\n",
      "/etc/ssl/certs/\n",
      "/etc/ssl/certs/861a399d.0\n",
      "/etc/ssl/certs/b7db1890.0\n",
      "/etc/ssl/certs/Certum_Root_CA.pem\n",
      "/etc/ssl/certs/cd8c0d63.0\n",
      "/etc/ssl/certs/244b5494.0\n",
      "/etc/ssl/certs/f060240e.0\n",
      "/etc/ssl/certs/062cdee6.0\n",
      "/etc/ssl/certs/d4dae3dd.0\n",
      "/etc/ssl/certs/VeriSign_Class_3_Public_Primary_Certification_Authority_-_G4.pem\n",
      "/etc/ssl/certs/5f47b495.0\n",
      "/etc/ssl/certs/080911ac.0\n",
      "/etc/ssl/certs/LuxTrust_Global_Root_2.pem\n",
      "/etc/ssl/certs/bd1910d4.0\n",
      "/etc/ssl/certs/87753b0d.0\n",
      "/etc/ssl/certs/e113c810.0\n",
      "/etc/ssl/certs/cc450945.0\n",
      "/etc/ssl/certs/034868d6.0\n",
      "/etc/ssl/certs/ba89ed3b.0\n",
      "/etc/ssl/certs/02265526.0\n",
      "/etc/ssl/certs/DigiCert_Global_Root_G2.pem\n",
      "/etc/ssl/certs/Hongkong_Post_Root_CA_1.pem\n",
      "/etc/ssl/certs/Certum_Trusted_Network_CA.pem\n",
      "/etc/ssl/certs/5cd81ad7.0\n",
      "/etc/ssl/certs/ccc52f49.0\n",
      "/etc/ssl/certs/399e7759.0\n",
      "/etc/ssl/certs/Amazon_Root_CA_3.pem\n",
      "/etc/ssl/certs/f3377b1b.0\n",
      "/etc/ssl/certs/3c860d51.0\n",
      "/etc/ssl/certs/40193066.0\n",
      "/etc/ssl/certs/8b59b1ad.0\n",
      "/etc/ssl/certs/D-TRUST_Root_Class_3_CA_2_EV_2009.pem\n",
      "/etc/ssl/certs/40dc992e.0\n",
      "/etc/ssl/certs/2e5ac55d.0\n",
      "/etc/ssl/certs/930ac5d2.0\n",
      "/etc/ssl/certs/91739615.0\n",
      "/etc/ssl/certs/653b494a.0\n",
      "/etc/ssl/certs/c90bc37d.0\n",
      "/etc/ssl/certs/e36a6752.0\n",
      "/etc/ssl/certs/OpenTrust_Root_CA_G2.pem\n",
      "/etc/ssl/certs/3d441de8.0\n",
      "/etc/ssl/certs/56657bde.0\n",
      "/etc/ssl/certs/Certum_Trusted_Network_CA_2.pem\n",
      "/etc/ssl/certs/Taiwan_GRCA.pem\n",
      "/etc/ssl/certs/Swisscom_Root_CA_1.pem\n",
      "/etc/ssl/certs/1676090a.0\n",
      "/etc/ssl/certs/ePKI_Root_Certification_Authority.pem\n",
      "/etc/ssl/certs/7d453d8f.0\n",
      "/etc/ssl/certs/ff34af3f.0\n",
      "/etc/ssl/certs/Hellenic_Academic_and_Research_Institutions_RootCA_2015.pem\n",
      "/etc/ssl/certs/b13cc6df.0\n",
      "/etc/ssl/certs/d8317ada.0\n",
      "/etc/ssl/certs/451b5485.0\n",
      "/etc/ssl/certs/6b99d060.0\n",
      "/etc/ssl/certs/1e1eab7c.0\n",
      "/etc/ssl/certs/cbeee9e2.0\n",
      "/etc/ssl/certs/8c24b137.0\n",
      "/etc/ssl/certs/d957f522.0\n",
      "/etc/ssl/certs/988a38cb.0\n",
      "/etc/ssl/certs/cbf06781.0\n",
      "/etc/ssl/certs/cb1c3204.0\n",
      "/etc/ssl/certs/a2c66da8.0\n",
      "/etc/ssl/certs/442adcac.0\n",
      "/etc/ssl/certs/3929ec9f.0\n",
      "/etc/ssl/certs/China_Internet_Network_Information_Center_EV_Certificates_Root.pem\n",
      "/etc/ssl/certs/7999be0d.0\n",
      "/etc/ssl/certs/81b9768f.0\n",
      "/etc/ssl/certs/1d3472b9.0\n",
      "/etc/ssl/certs/e8651083.0\n",
      "/etc/ssl/certs/7f3d5d1d.0\n",
      "/etc/ssl/certs/ef954a4e.0\n",
      "/etc/ssl/certs/1eb37bdf.0\n",
      "/etc/ssl/certs/1e09d511.0\n",
      "/etc/ssl/certs/157753a5.0\n",
      "/etc/ssl/certs/f90208f7.0\n",
      "/etc/ssl/certs/a760e1bd.0\n",
      "/etc/ssl/certs/COMODO_RSA_Certification_Authority.pem\n",
      "/etc/ssl/certs/2c543cd1.0\n",
      "/etc/ssl/certs/d7746a63.0\n",
      "/etc/ssl/certs/52b525c7.0\n",
      "/etc/ssl/certs/76faf6c0.0\n",
      "/etc/ssl/certs/3513523f.0\n",
      "/etc/ssl/certs/Certinomis_-_Autorité_Racine.pem\n",
      "/etc/ssl/certs/d4c339cb.0\n",
      "/etc/ssl/certs/SecureTrust_CA.pem\n",
      "/etc/ssl/certs/QuoVadis_Root_CA_1_G3.pem\n",
      "/etc/ssl/certs/480720ec.0\n",
      "/etc/ssl/certs/e775ed2d.0\n",
      "/etc/ssl/certs/VeriSign_Universal_Root_Certification_Authority.pem\n",
      "/etc/ssl/certs/Entrust_Root_Certification_Authority.pem\n",
      "/etc/ssl/certs/CNNIC_ROOT.pem\n",
      "/etc/ssl/certs/de6d66f3.0\n",
      "/etc/ssl/certs/bc3f2570.0\n",
      "/etc/ssl/certs/TÜBİTAK_UEKAE_Kök_Sertifika_Hizmet_Sağlayıcısı_-_Sürüm_3.pem\n",
      "/etc/ssl/certs/4be590e0.0\n",
      "/etc/ssl/certs/1df5a75f.0\n",
      "/etc/ssl/certs/T-TeleSec_GlobalRoot_Class_2.pem\n",
      "/etc/ssl/certs/b1159c4c.0\n",
      "/etc/ssl/certs/Starfield_Class_2_CA.pem\n",
      "/etc/ssl/certs/7a819ef2.0\n",
      "/etc/ssl/certs/9d520b32.0\n",
      "/etc/ssl/certs/VeriSign_Class_3_Public_Primary_Certification_Authority_-_G5.pem\n",
      "/etc/ssl/certs/790a7190.0\n",
      "/etc/ssl/certs/a7d2cf64.0\n",
      "/etc/ssl/certs/b872f2b4.0\n",
      "/etc/ssl/certs/OpenTrust_Root_CA_G1.pem\n",
      "/etc/ssl/certs/418595b9.0\n",
      "/etc/ssl/certs/2add47b6.0\n",
      "/etc/ssl/certs/9f533518.0\n",
      "/etc/ssl/certs/ee64a828.0\n",
      "/etc/ssl/certs/d16a5865.0\n",
      "/etc/ssl/certs/Hellenic_Academic_and_Research_Institutions_RootCA_2011.pem\n",
      "/etc/ssl/certs/AddTrust_Public_Services_Root.pem\n",
      "/etc/ssl/certs/thawte_Primary_Root_CA_-_G3.pem\n",
      "/etc/ssl/certs/2fa87019.0\n",
      "/etc/ssl/certs/2c11d503.0\n",
      "/etc/ssl/certs/CA_Disig_Root_R2.pem\n",
      "/etc/ssl/certs/e442e424.0\n",
      "/etc/ssl/certs/AffirmTrust_Commercial.pem\n",
      "/etc/ssl/certs/12d55845.0\n",
      "/etc/ssl/certs/e8de2f56.0\n",
      "/etc/ssl/certs/524d9b43.0\n",
      "/etc/ssl/certs/5046c355.0\n",
      "/etc/ssl/certs/559f7c71.0\n",
      "/etc/ssl/certs/3ad48a91.0\n",
      "/etc/ssl/certs/GeoTrust_Universal_CA_2.pem\n",
      "/etc/ssl/certs/455f1b52.0\n",
      "/etc/ssl/certs/75d1b2ed.0\n",
      "/etc/ssl/certs/63a2c897.0\n",
      "/etc/ssl/certs/3e45d192.0\n",
      "/etc/ssl/certs/Camerfirma_Chambers_of_Commerce_Root.pem\n",
      "/etc/ssl/certs/48bec511.0\n",
      "/etc/ssl/certs/82223c44.0\n",
      "/etc/ssl/certs/86212b19.0\n",
      "/etc/ssl/certs/116bf586.0\n",
      "/etc/ssl/certs/Swisscom_Root_CA_2.pem\n",
      "/etc/ssl/certs/AddTrust_Low-Value_Services_Root.pem\n",
      "/etc/ssl/certs/21855f49.0\n",
      "/etc/ssl/certs/608a55ad.0\n",
      "/etc/ssl/certs/064e0aa9.0\n",
      "/etc/ssl/certs/DigiCert_Global_Root_G3.pem\n",
      "/etc/ssl/certs/dfc0fe80.0\n",
      "/etc/ssl/certs/AffirmTrust_Networking.pem\n",
      "/etc/ssl/certs/111e6273.0\n",
      "/etc/ssl/certs/9282e51c.0\n",
      "/etc/ssl/certs/ab5346f4.0\n",
      "/etc/ssl/certs/b0e59380.0\n",
      "/etc/ssl/certs/219d9499.0\n",
      "/etc/ssl/certs/57bcb2da.0\n",
      "/etc/ssl/certs/GeoTrust_Primary_Certification_Authority_-_G3.pem\n",
      "/etc/ssl/certs/EC-ACC.pem\n",
      "/etc/ssl/certs/e18bfb83.0\n",
      "/etc/ssl/certs/667c66d4.0\n",
      "/etc/ssl/certs/7719f463.0\n",
      "/etc/ssl/certs/ea169617.0\n",
      "/etc/ssl/certs/c491639e.0\n",
      "/etc/ssl/certs/thawte_Primary_Root_CA_-_G2.pem\n",
      "/etc/ssl/certs/e536d871.0\n",
      "/etc/ssl/certs/Certplus_Root_CA_G2.pem\n",
      "/etc/ssl/certs/2b349938.0\n",
      "/etc/ssl/certs/0c4c9b6c.0\n",
      "/etc/ssl/certs/c47d9980.0\n",
      "/etc/ssl/certs/bf64f35b.0\n",
      "/etc/ssl/certs/4a6481c9.0\n",
      "/etc/ssl/certs/b66938e9.0\n",
      "/etc/ssl/certs/CFCA_EV_ROOT.pem\n",
      "/etc/ssl/certs/9ab62355.0\n",
      "/etc/ssl/certs/Amazon_Root_CA_2.pem\n",
      "/etc/ssl/certs/USERTrust_RSA_Certification_Authority.pem\n",
      "/etc/ssl/certs/02b73561.0\n",
      "/etc/ssl/certs/c0ff1f52.0\n",
      "/etc/ssl/certs/9d04f354.0\n",
      "/etc/ssl/certs/895cad1a.0\n",
      "/etc/ssl/certs/facacbc6.0\n",
      "/etc/ssl/certs/ACEDICOM_Root.pem\n",
      "/etc/ssl/certs/b3fb433b.0\n",
      "/etc/ssl/certs/QuoVadis_Root_CA_3.pem\n",
      "/etc/ssl/certs/1636090b.0\n",
      "/etc/ssl/certs/Security_Communication_RootCA2.pem\n",
      "/etc/ssl/certs/AddTrust_Qualified_Certificates_Root.pem\n",
      "/etc/ssl/certs/2e4eed3c.0\n",
      "/etc/ssl/certs/c089bbbd.0\n",
      "/etc/ssl/certs/COMODO_Certification_Authority.pem\n",
      "/etc/ssl/certs/749e9e03.0\n",
      "/etc/ssl/certs/ad088e1d.0\n",
      "/etc/ssl/certs/AffirmTrust_Premium_ECC.pem\n",
      "/etc/ssl/certs/Izenpe.com.pem\n",
      "/etc/ssl/certs/5a3f0ff8.0\n",
      "/etc/ssl/certs/Staat_der_Nederlanden_Root_CA_-_G3.pem\n",
      "/etc/ssl/certs/9d6523ce.0\n",
      "/etc/ssl/certs/60afe812.0\n",
      "/etc/ssl/certs/a7605362.0\n",
      "/etc/ssl/certs/1874d4aa.0\n",
      "/etc/ssl/certs/thawte_Primary_Root_CA.pem\n",
      "/etc/ssl/certs/00673b5b.0\n",
      "/etc/ssl/certs/40547a79.0\n",
      "/etc/ssl/certs/e2799e36.0\n",
      "/etc/ssl/certs/3c58f906.0\n",
      "/etc/ssl/certs/Actalis_Authentication_Root_CA.pem\n",
      "/etc/ssl/certs/1dac3003.0\n",
      "/etc/ssl/certs/f081611a.0\n",
      "/etc/ssl/certs/349f2832.0\n",
      "/etc/ssl/certs/450c6e38.0\n",
      "/etc/ssl/certs/1f58a078.0\n",
      "/etc/ssl/certs/1e08bfd1.0\n",
      "/etc/ssl/certs/9c8dfbd4.0\n",
      "/etc/ssl/certs/5a4d6896.0\n",
      "/etc/ssl/certs/Deutsche_Telekom_Root_CA_2.pem\n",
      "/etc/ssl/certs/4e18c148.0\n",
      "/etc/ssl/certs/TWCA_Global_Root_CA.pem\n",
      "/etc/ssl/certs/f387163d.0\n",
      "/etc/ssl/certs/QuoVadis_Root_CA.pem\n",
      "/etc/ssl/certs/9c2e7d30.0\n",
      "/etc/ssl/certs/1e8e7201.0\n",
      "/etc/ssl/certs/QuoVadis_Root_CA_2.pem\n",
      "/etc/ssl/certs/ca6e4ad9.0\n",
      "/etc/ssl/certs/ACCVRAIZ1.pem\n",
      "/etc/ssl/certs/AffirmTrust_Premium.pem\n",
      "/etc/ssl/certs/a94d09e5.0\n",
      "/etc/ssl/certs/75680d2e.0\n",
      "/etc/ssl/certs/COMODO_ECC_Certification_Authority.pem\n",
      "/etc/ssl/certs/a0bc6fbb.0\n",
      "/etc/ssl/certs/e60bf0c0.0\n",
      "/etc/ssl/certs/76579174.0\n",
      "/etc/ssl/certs/dc99f41e.0\n",
      "/etc/ssl/certs/b936d1c6.0\n",
      "/etc/ssl/certs/a81e292b.0\n",
      "/etc/ssl/certs/c51c224c.0\n",
      "/etc/ssl/certs/fc5a8f99.0\n",
      "/etc/ssl/certs/ca-certificates.crt\n",
      "/etc/ssl/certs/OISTE_WISeKey_Global_Root_GB_CA.pem\n",
      "/etc/ssl/certs/c907e29b.0\n",
      "/etc/ssl/certs/d06393bb.0\n",
      "/etc/ssl/certs/Security_Communication_Root_CA.pem\n",
      "/etc/ssl/certs/6187b673.0\n",
      "/etc/ssl/certs/EE_Certification_Centre_Root_CA.pem\n",
      "/etc/ssl/certs/9007ae68.0\n",
      "/etc/ssl/certs/9339512a.0\n",
      "/etc/ssl/certs/GeoTrust_Universal_CA.pem\n",
      "/etc/ssl/certs/Atos_TrustedRoot_2011.pem\n",
      "/etc/ssl/certs/dbc54cab.0\n",
      "/etc/ssl/certs/0b1b94ef.0\n",
      "/etc/ssl/certs/5f15c80c.0\n",
      "/etc/ssl/certs/DigiCert_High_Assurance_EV_Root_CA.pem\n",
      "/etc/ssl/certs/GlobalSign_Root_CA_-_R2.pem\n",
      "/etc/ssl/certs/XRamp_Global_CA_Root.pem\n",
      "/etc/ssl/certs/GeoTrust_Global_CA_2.pem\n",
      "/etc/ssl/certs/OISTE_WISeKey_Global_Root_GA_CA.pem\n",
      "/etc/ssl/certs/Swisscom_Root_EV_CA_2.pem\n",
      "/etc/ssl/certs/9479c8c3.0\n",
      "/etc/ssl/certs/89c02a45.0\n",
      "/etc/ssl/certs/Microsec_e-Szigno_Root_CA_2009.pem\n",
      "/etc/ssl/certs/Comodo_AAA_Services_root.pem\n",
      "/etc/ssl/certs/9dbefe7b.0\n",
      "/etc/ssl/certs/TURKTRUST_Certificate_Services_Provider_Root_2007.pem\n",
      "/etc/ssl/certs/dd8e9d41.0\n",
      "/etc/ssl/certs/GeoTrust_Primary_Certification_Authority.pem\n",
      "/etc/ssl/certs/T-TeleSec_GlobalRoot_Class_3.pem\n",
      "/etc/ssl/certs/Sonera_Class_2_Root_CA.pem\n",
      "/etc/ssl/certs/87229d21.0\n",
      "/etc/ssl/certs/DigiCert_Assured_ID_Root_CA.pem\n",
      "/etc/ssl/certs/Certplus_Class_2_Primary_CA.pem\n",
      "/etc/ssl/certs/09789157.0\n",
      "/etc/ssl/certs/d59297b8.0\n",
      "/etc/ssl/certs/7a7c655d.0\n",
      "/etc/ssl/certs/c28a8a30.0\n",
      "/etc/ssl/certs/Cybertrust_Global_Root.pem\n",
      "/etc/ssl/certs/DigiCert_Global_Root_CA.pem\n"
     ]
    },
    {
     "name": "stdout",
     "output_type": "stream",
     "text": [
      "/etc/ssl/certs/Entrust.net_Premium_2048_Secure_Server_CA.pem\n",
      "/etc/ssl/certs/SecureSign_RootCA11.pem\n",
      "/etc/ssl/certs/2d9dafe4.0\n",
      "/etc/ssl/certs/CA_Disig_Root_R1.pem\n",
      "/etc/ssl/certs/GeoTrust_Global_CA.pem\n",
      "/etc/ssl/certs/Certigna.pem\n",
      "/etc/ssl/certs/D-TRUST_Root_Class_3_CA_2_2009.pem\n",
      "/etc/ssl/certs/d853d49e.0\n",
      "/etc/ssl/certs/e48193cf.0\n",
      "/etc/ssl/certs/Secure_Global_CA.pem\n",
      "/etc/ssl/certs/c5d3212a.0\n",
      "/etc/ssl/certs/Hellenic_Academic_and_Research_Institutions_ECC_RootCA_2015.pem\n",
      "/etc/ssl/certs/d41b5e2a.0\n",
      "/etc/ssl/certs/95aff9e3.0\n",
      "/etc/ssl/certs/OpenTrust_Root_CA_G3.pem\n",
      "/etc/ssl/certs/TÜRKTRUST_Elektronik_Sertifika_Hizmet_Sağlayıcısı_H5.pem\n",
      "/etc/ssl/certs/E-Tugra_Certification_Authority.pem\n",
      "/etc/ssl/certs/GlobalSign_Root_CA.pem\n",
      "/etc/ssl/certs/TWCA_Root_Certification_Authority.pem\n",
      "/etc/ssl/certs/SwissSign_Silver_CA_-_G2.pem\n",
      "/etc/ssl/certs/9576d26b.0\n",
      "/etc/ssl/certs/ff783690.0\n",
      "/etc/ssl/certs/706f604c.0\n",
      "/etc/ssl/certs/3bde41ac.0\n",
      "/etc/ssl/certs/fde84897.0\n",
      "/etc/ssl/certs/Staat_der_Nederlanden_Root_CA_-_G2.pem\n",
      "/etc/ssl/certs/03179a64.0\n",
      "/etc/ssl/certs/3efd4dc0.0\n",
      "/etc/ssl/certs/4042bcee.0\n",
      "/etc/ssl/certs/607986c7.0\n",
      "/etc/ssl/certs/76cb8f92.0\n",
      "/etc/ssl/certs/10531352.0\n",
      "/etc/ssl/certs/5c44d531.0\n",
      "/etc/ssl/certs/b1b8a7f3.0\n",
      "/etc/ssl/certs/Starfield_Services_Root_Certificate_Authority_-_G2.pem\n",
      "/etc/ssl/certs/3c9a4d3b.0\n",
      "/etc/ssl/certs/381ce4dd.0\n",
      "/etc/ssl/certs/IdenTrust_Public_Sector_Root_CA_1.pem\n",
      "/etc/ssl/certs/54657681.0\n",
      "/etc/ssl/certs/DST_ACES_CA_X6.pem\n",
      "/etc/ssl/certs/a3896b44.0\n",
      "/etc/ssl/certs/ee7cd6fb.0\n",
      "/etc/ssl/certs/7672ac4b.0\n",
      "/etc/ssl/certs/USERTrust_ECC_Certification_Authority.pem\n",
      "/etc/ssl/certs/Certinomis_-_Root_CA.pem\n",
      "/etc/ssl/certs/aeb67534.0\n",
      "/etc/ssl/certs/NetLock_Arany_=Class_Gold=_Főtanúsítvány.pem\n",
      "/etc/ssl/certs/GlobalSign_Root_CA_-_R3.pem\n",
      "/etc/ssl/certs/b0ed035a.0\n",
      "/etc/ssl/certs/Go_Daddy_Root_Certificate_Authority_-_G2.pem\n",
      "/etc/ssl/certs/02756ea4.0\n",
      "/etc/ssl/certs/ce5e74ef.0\n",
      "/etc/ssl/certs/Comodo_Secure_Services_root.pem\n",
      "/etc/ssl/certs/IdenTrust_Commercial_Root_CA_1.pem\n",
      "/etc/ssl/certs/Go_Daddy_Class_2_CA.pem\n",
      "/etc/ssl/certs/65b876bd.0\n",
      "/etc/ssl/certs/5cf9d536.0\n",
      "/etc/ssl/certs/35105088.0\n",
      "/etc/ssl/certs/e268a4c5.0\n",
      "/etc/ssl/certs/cf701eeb.0\n",
      "/etc/ssl/certs/d66b55d9.0\n",
      "/etc/ssl/certs/PSCProcert.pem\n",
      "/etc/ssl/certs/Buypass_Class_2_Root_CA.pem\n",
      "/etc/ssl/certs/f30dd6ad.0\n",
      "/etc/ssl/certs/7992b8bb.0\n",
      "/etc/ssl/certs/Buypass_Class_3_Root_CA.pem\n",
      "/etc/ssl/certs/DigiCert_Assured_ID_Root_G3.pem\n",
      "/etc/ssl/certs/Visa_eCommerce_Root.pem\n",
      "/etc/ssl/certs/Certplus_Root_CA_G1.pem\n",
      "/etc/ssl/certs/AC_RAIZ_FNMT-RCM.pem\n",
      "/etc/ssl/certs/9772ca32.0\n",
      "/etc/ssl/certs/SwissSign_Gold_CA_-_G2.pem\n",
      "/etc/ssl/certs/48a195d8.0\n",
      "/etc/ssl/certs/Staat_der_Nederlanden_EV_Root_CA.pem\n",
      "/etc/ssl/certs/GlobalSign_ECC_Root_CA_-_R5.pem\n",
      "/etc/ssl/certs/Security_Communication_EV_RootCA1.pem\n",
      "/etc/ssl/certs/8867006a.0\n",
      "/etc/ssl/certs/d7e8dc79.0\n",
      "/etc/ssl/certs/d6325660.0\n",
      "/etc/ssl/certs/c7e2a638.0\n",
      "/etc/ssl/certs/812e17de.0\n",
      "/etc/ssl/certs/d18e9066.0\n",
      "/etc/ssl/certs/DigiCert_Trusted_Root_G4.pem\n",
      "/etc/ssl/certs/Global_Chambersign_Root_-_2008.pem\n",
      "/etc/ssl/certs/0d5a4e1c.0\n",
      "/etc/ssl/certs/QuoVadis_Root_CA_2_G3.pem\n",
      "/etc/ssl/certs/4bfab552.0\n",
      "/etc/ssl/certs/GlobalSign_ECC_Root_CA_-_R4.pem\n",
      "/etc/ssl/certs/ISRG_Root_X1.pem\n",
      "/etc/ssl/certs/Network_Solutions_Certificate_Authority.pem\n",
      "/etc/ssl/certs/bdacca6f.0\n",
      "/etc/ssl/certs/cd58d51e.0\n",
      "/etc/ssl/certs/8160b96c.0\n",
      "/etc/ssl/certs/128805a3.0\n",
      "/etc/ssl/certs/cb156124.0\n",
      "/etc/ssl/certs/b7a5b843.0\n",
      "/etc/ssl/certs/Trustis_FPS_Root_CA.pem\n",
      "/etc/ssl/certs/57692373.0\n",
      "/etc/ssl/certs/2ae6433e.0\n",
      "/etc/ssl/certs/8d86cdd1.0\n",
      "/etc/ssl/certs/9c3323d4.0\n",
      "/etc/ssl/certs/04f60c28.0\n",
      "/etc/ssl/certs/SZAFIR_ROOT_CA2.pem\n",
      "/etc/ssl/certs/fb5fa911.0\n",
      "/etc/ssl/certs/Verisign_Class_3_Public_Primary_Certification_Authority_-_G3.pem\n",
      "/etc/ssl/certs/a2df7ad7.0\n",
      "/etc/ssl/certs/6fcc125d.0\n",
      "/etc/ssl/certs/DST_Root_CA_X3.pem\n",
      "/etc/ssl/certs/Entrust_Root_Certification_Authority_-_G2.pem\n",
      "/etc/ssl/certs/93bc0acc.0\n",
      "/etc/ssl/certs/9f0f5fd6.0\n",
      "/etc/ssl/certs/23f4c490.0\n",
      "/etc/ssl/certs/6e8bf996.0\n",
      "/etc/ssl/certs/cb59f961.0\n",
      "/etc/ssl/certs/5ad8a5d6.0\n",
      "/etc/ssl/certs/eed8c118.0\n",
      "/etc/ssl/certs/d6e6eab9.0\n",
      "/etc/ssl/certs/b727005e.0\n",
      "/etc/ssl/certs/27af790d.0\n",
      "/etc/ssl/certs/4304c5e5.0\n",
      "/etc/ssl/certs/8d6437c3.0\n",
      "/etc/ssl/certs/9168f543.0\n",
      "/etc/ssl/certs/592c0a9a.0\n",
      "/etc/ssl/certs/17b51fe6.0\n",
      "/etc/ssl/certs/32888f65.0\n",
      "/etc/ssl/certs/3e7271e8.0\n",
      "/etc/ssl/certs/5e4e69e7.0\n",
      "/etc/ssl/certs/Starfield_Root_Certificate_Authority_-_G2.pem\n",
      "/etc/ssl/certs/f39fc864.0\n",
      "/etc/ssl/certs/3c6676aa.0\n",
      "/etc/ssl/certs/31188b5e.0\n",
      "/etc/ssl/certs/9685a493.0\n",
      "/etc/ssl/certs/5443e9e3.0\n",
      "/etc/ssl/certs/c9f83a1c.0\n",
      "/etc/ssl/certs/8cb5ee0f.0\n",
      "/etc/ssl/certs/Chambers_of_Commerce_Root_-_2008.pem\n",
      "/etc/ssl/certs/1dcd6f4c.0\n",
      "/etc/ssl/certs/DigiCert_Assured_ID_Root_G2.pem\n",
      "/etc/ssl/certs/5273a94c.0\n",
      "/etc/ssl/certs/67495436.0\n",
      "/etc/ssl/certs/Camerfirma_Global_Chambersign_Root.pem\n",
      "/etc/ssl/certs/TUBITAK_Kamu_SM_SSL_Kok_Sertifikasi_-_Surum_1.pem\n",
      "/etc/ssl/certs/fe8a2cd8.0\n",
      "/etc/ssl/certs/AddTrust_External_Root.pem\n",
      "/etc/ssl/certs/882de061.0\n",
      "/etc/ssl/certs/124bbd54.0\n",
      "/etc/ssl/certs/343eb6cb.0\n",
      "/etc/ssl/certs/052e396b.0\n",
      "/etc/ssl/certs/Amazon_Root_CA_1.pem\n",
      "/etc/ssl/certs/UTN_USERFirst_Hardware_Root_CA.pem\n",
      "/etc/ssl/certs/GeoTrust_Primary_Certification_Authority_-_G2.pem\n",
      "/etc/ssl/certs/fd08c599.0\n",
      "/etc/ssl/certs/4f316efb.0\n",
      "/etc/ssl/certs/7d0b38bd.0\n",
      "/etc/ssl/certs/18856ac4.0\n",
      "/etc/ssl/certs/Entrust_Root_Certification_Authority_-_EC1.pem\n",
      "/etc/ssl/certs/Autoridad_de_Certificacion_Firmaprofesional_CIF_A62634068.pem\n",
      "/etc/ssl/certs/69105f4f.0\n",
      "/etc/ssl/certs/3a3b02ce.0\n",
      "/etc/ssl/certs/6410666e.0\n",
      "/etc/ssl/certs/Amazon_Root_CA_4.pem\n",
      "/etc/ssl/certs/106f3e4d.0\n",
      "/etc/ssl/certs/certSIGN_ROOT_CA.pem\n",
      "/etc/ssl/certs/TeliaSonera_Root_CA_v1.pem\n",
      "/etc/ssl/certs/QuoVadis_Root_CA_3_G3.pem\n",
      "/etc/ssl/certs/aee5f10d.0\n",
      "/etc/ssl/certs/ed39abd0.0\n",
      "/etc/ssl/certs/Comodo_Trusted_Services_root.pem\n",
      "/etc/ssl/certs/5a250ea7.0\n",
      "/etc/ssl/certs/e73d606e.0\n",
      "/etc/ssl/certs/Baltimore_CyberTrust_Root.pem\n",
      "/etc/ssl/certs/b204d74a.0\n",
      "/etc/ssl/certs/b0f3e76e.0\n",
      "/etc/ssl/certs/0d69c7e1.0\n",
      "/etc/ssl/certs/6d41d539.0\n",
      "/etc/ssl/certs/c01cdfa2.0\n",
      "/etc/ssl/certs/def36a68.0\n",
      "/etc/ssl/certs/85cde254.0\n",
      "/etc/ssl/openssl.cnf\n",
      "/etc/ssl/private/\n",
      "/etc/ldap/\n",
      "/etc/ldap/ldap.conf\n",
      "/etc/perl/\n",
      "/etc/perl/Net/\n",
      "/etc/perl/Net/libnet.cfg\n",
      "/etc/perl/CPAN/\n",
      "/etc/iproute2/\n",
      "/etc/iproute2/rt_protos\n",
      "/etc/iproute2/rt_dsfield\n",
      "/etc/iproute2/rt_realms\n",
      "/etc/iproute2/rt_tables\n",
      "/etc/iproute2/rt_scopes\n",
      "/etc/iproute2/nl_protos\n",
      "/etc/iproute2/group\n",
      "/etc/iproute2/ematch_map\n",
      "/etc/vim/\n",
      "/etc/vim/vimrc\n",
      "/etc/gss/\n",
      "/etc/gss/mech.d/\n",
      "/etc/gss/mech.d/README\n",
      "/etc/jupyter/\n",
      "/etc/jupyter/jupyter_notebook_config.py\n",
      "/etc/subgid-\n",
      "/etc/shadow-\n",
      "/etc/subuid-\n",
      "/etc/passwd-\n",
      "/etc/locale.gen\n",
      "/etc/ca-certificates.conf\n",
      "/etc/wgetrc\n",
      "/etc/locale.alias\n",
      "/etc/ca-certificates/\n",
      "/etc/ca-certificates/update.d/\n",
      "-rwxr-xr-x 1 root root 262646 Jun  4 15:35 201806041535_host_etc.tar.gz\n"
     ]
    }
   ],
   "source": [
    "!sudo tar cvzf {prefix}_host_etc.tar.gz /etc/\n",
    "!ls -la {prefix}_host_etc.tar.gz"
   ]
  },
  {
   "cell_type": "markdown",
   "metadata": {
    "lc_cell_meme": {
     "current": "301787c4-64be-11e8-8364-0242ac110002",
     "next": "30178cd8-64be-11e8-8364-0242ac110002",
     "previous": "e88fb21e-64bd-11e8-8364-0242ac110002"
    }
   },
   "source": [
    "## システムログの保全"
   ]
  },
  {
   "cell_type": "code",
   "execution_count": 31,
   "metadata": {
    "deletable": false,
    "editable": false,
    "lc_cell_meme": {
     "current": "30178cd8-64be-11e8-8364-0242ac110002",
     "history": [
      {
       "current": "30178cd8-64be-11e8-8364-0242ac110002",
       "next": "30178ff8-64be-11e8-8364-0242ac110002",
       "previous": "301787c4-64be-11e8-8364-0242ac110002"
      },
      {
       "current": "30178cd8-64be-11e8-8364-0242ac110002",
       "next": "a93636d2-656d-11e8-8364-0242ac110002",
       "previous": "301787c4-64be-11e8-8364-0242ac110002"
      }
     ],
     "next": "bf231226-64be-11e8-8364-0242ac110002",
     "previous": "301787c4-64be-11e8-8364-0242ac110002"
    },
    "pinned_outputs": [
     {
      "execution_count": 31,
      "outputs": [
       {
        "name": "stdout",
        "output_type": "stream",
        "text": "tar: Removing leading `/' from member names\n/var/log/\n/var/log/dmesg\n/var/log/bootstrap.log\n/var/log/fsck/\n/var/log/fsck/checkroot\n/var/log/fsck/checkfs\n/var/log/faillog\n/var/log/dpkg.log\n/var/log/lastlog\n/var/log/apt/\n/var/log/apt/history.log\n/var/log/apt/term.log\n/var/log/alternatives.log\n/var/log/btmp\n/var/log/wtmp\n-rwxr-xr-x 1 root root 25486 Jun  4 15:35 201806041535_host_log.tar.gz\n"
       }
      ]
     }
    ],
    "run_through_control": {
     "frozen": true
    },
    "scrolled": true
   },
   "outputs": [
    {
     "name": "stdout",
     "output_type": "stream",
     "text": [
      "tar: Removing leading `/' from member names\n",
      "/var/log/\n",
      "/var/log/dmesg\n",
      "/var/log/bootstrap.log\n",
      "/var/log/fsck/\n",
      "/var/log/fsck/checkroot\n",
      "/var/log/fsck/checkfs\n",
      "/var/log/faillog\n",
      "/var/log/dpkg.log\n",
      "/var/log/lastlog\n",
      "/var/log/apt/\n",
      "/var/log/apt/history.log\n",
      "/var/log/apt/term.log\n",
      "/var/log/alternatives.log\n",
      "/var/log/btmp\n",
      "/var/log/wtmp\n",
      "-rwxr-xr-x 1 root root 25486 Jun  4 15:35 201806041535_host_log.tar.gz\n"
     ]
    }
   ],
   "source": [
    "!sudo tar cvzf {prefix}_host_log.tar.gz /var/log/\n",
    "!ls -la {prefix}_host_log.tar.gz"
   ]
  },
  {
   "cell_type": "markdown",
   "metadata": {
    "lc_cell_meme": {
     "current": "bf231226-64be-11e8-8364-0242ac110002",
     "history": [
      {
       "current": "bf231226-64be-11e8-8364-0242ac110002",
       "next": null,
       "previous": "bf231096-64be-11e8-8364-0242ac110002"
      },
      {
       "current": "bf231226-64be-11e8-8364-0242ac110002",
       "next": "06e6fc76-64bf-11e8-8364-0242ac110002",
       "previous": "bf231096-64be-11e8-8364-0242ac110002"
      }
     ],
     "next": "06e6fc76-64bf-11e8-8364-0242ac110002",
     "previous": "30178cd8-64be-11e8-8364-0242ac110002"
    }
   },
   "source": [
    "## ファイル一覧"
   ]
  },
  {
   "cell_type": "code",
   "execution_count": 32,
   "metadata": {
    "deletable": false,
    "editable": false,
    "lc_cell_meme": {
     "current": "06e6fc76-64bf-11e8-8364-0242ac110002",
     "next": "06e6fec4-64bf-11e8-8364-0242ac110002",
     "previous": "bf231226-64be-11e8-8364-0242ac110002"
    },
    "pinned_outputs": [
     {
      "execution_count": 32,
      "outputs": [
       {
        "name": "stdout",
        "output_type": "stream",
        "text": "-rwxr-xr-x 1 root root 13846655 Jun  4 15:35 201806041535_host_files.txt\r\n"
       }
      ]
     }
    ],
    "run_through_control": {
     "frozen": true
    }
   },
   "outputs": [
    {
     "name": "stdout",
     "output_type": "stream",
     "text": [
      "-rwxr-xr-x 1 root root 13846655 Jun  4 15:35 201806041535_host_files.txt\r\n"
     ]
    }
   ],
   "source": [
    "!sudo find / -xdev -printf \"%m;%Ax;%AT;%Tx;%TT;%Cx;%CT;%U;%G;%s;%p;\\n\" > {prefix}_host_files.txt\n",
    "!ls -la {prefix}_host_files.txt"
   ]
  },
  {
   "cell_type": "markdown",
   "metadata": {
    "lc_cell_meme": {
     "current": "06e6fec4-64bf-11e8-8364-0242ac110002",
     "history": [
      {
       "current": "06e6fec4-64bf-11e8-8364-0242ac110002",
       "next": null,
       "previous": "06e6fc76-64bf-11e8-8364-0242ac110002"
      }
     ],
     "next": "dd3d0540-64bf-11e8-8364-0242ac110002",
     "previous": "06e6fc76-64bf-11e8-8364-0242ac110002"
    }
   },
   "source": [
    "## ライブレスポンス出力チェックサム計算"
   ]
  },
  {
   "cell_type": "markdown",
   "metadata": {
    "lc_cell_meme": {
     "current": "dd3d0540-64bf-11e8-8364-0242ac110002",
     "history": [
      {
       "current": "dd3d0540-64bf-11e8-8364-0242ac110002",
       "next": null,
       "previous": "06e6fec4-64bf-11e8-8364-0242ac110002"
      }
     ],
     "next": "6c4c0eca-64c0-11e8-8364-0242ac110002",
     "previous": "06e6fec4-64bf-11e8-8364-0242ac110002"
    }
   },
   "source": [
    "ファイルを、host_etc.tar.gz、host_files.txt、host_log.tar.gzと3つ作ったので、md5sumしておく。"
   ]
  },
  {
   "cell_type": "code",
   "execution_count": 33,
   "metadata": {
    "deletable": false,
    "editable": false,
    "lc_cell_meme": {
     "current": "6c4c0eca-64c0-11e8-8364-0242ac110002",
     "history": [
      {
       "current": "6c4c0eca-64c0-11e8-8364-0242ac110002",
       "next": "6c4c1370-64c0-11e8-8364-0242ac110002",
       "previous": "dd3d0540-64bf-11e8-8364-0242ac110002"
      }
     ],
     "next": "45cc9114-6571-11e8-8364-0242ac110002",
     "previous": "dd3d0540-64bf-11e8-8364-0242ac110002"
    },
    "pinned_outputs": [
     {
      "execution_count": 33,
      "outputs": [
       {
        "name": "stdout",
        "output_type": "stream",
        "text": "177c4c0b6aa017d4fdaa862ddbd72f86  201806041535_host_etc.tar.gz\n7d620bc6396e08c4a3a224491d815f57  201806041535_host_files.txt\ndf7891098865b637aba40cca3d560107  201806041535_host_log.tar.gz\n"
       }
      ]
     }
    ],
    "run_through_control": {
     "frozen": true
    }
   },
   "outputs": [
    {
     "name": "stdout",
     "output_type": "stream",
     "text": [
      "177c4c0b6aa017d4fdaa862ddbd72f86  201806041535_host_etc.tar.gz\n",
      "7d620bc6396e08c4a3a224491d815f57  201806041535_host_files.txt\n",
      "df7891098865b637aba40cca3d560107  201806041535_host_log.tar.gz\n"
     ]
    }
   ],
   "source": [
    "!md5sum {prefix}_host_etc.tar.gz {prefix}_host_files.txt {prefix}_host_log.tar.gz"
   ]
  },
  {
   "cell_type": "markdown",
   "metadata": {
    "lc_cell_meme": {
     "current": "45cc9114-6571-11e8-8364-0242ac110002",
     "next": "45cc9286-6571-11e8-8364-0242ac110002",
     "previous": "6c4c0eca-64c0-11e8-8364-0242ac110002"
    }
   },
   "source": [
    "システムの負荷状態を記録しておく。"
   ]
  },
  {
   "cell_type": "code",
   "execution_count": 34,
   "metadata": {
    "deletable": false,
    "editable": false,
    "lc_cell_meme": {
     "current": "45cc9286-6571-11e8-8364-0242ac110002",
     "next": "30178ff8-64be-11e8-8364-0242ac110002",
     "previous": "45cc9114-6571-11e8-8364-0242ac110002"
    },
    "pinned_outputs": [
     {
      "execution_count": 34,
      "outputs": [
       {
        "name": "stdout",
        "output_type": "stream",
        "text": "[[datetime.datetime(2018, 6, 4, 15, 33, 6, 58195, tzinfo=datetime.timezone(datetime.timedelta(0, 32400), 'JST')), 0.08, 0.04, 0.08], [datetime.datetime(2018, 6, 4, 15, 35, 46, 826019, tzinfo=datetime.timezone(datetime.timedelta(0, 32400), 'JST')), 1.74, 0.68, 0.31]]\n"
       }
      ]
     }
    ],
    "run_through_control": {
     "frozen": true
    }
   },
   "outputs": [
    {
     "name": "stdout",
     "output_type": "stream",
     "text": [
      "[[datetime.datetime(2018, 6, 4, 15, 33, 6, 58195, tzinfo=datetime.timezone(datetime.timedelta(0, 32400), 'JST')), 0.08, 0.04, 0.08], [datetime.datetime(2018, 6, 4, 15, 35, 46, 826019, tzinfo=datetime.timezone(datetime.timedelta(0, 32400), 'JST')), 1.74, 0.68, 0.31]]\n"
     ]
    }
   ],
   "source": [
    "uptime_str = !uptime\n",
    "uptime_clumn = parse.parse(\"{}load average: {:g}, {:g}, {:g}\", uptime_str[0])\n",
    "uptime_clumn = list(uptime_clumn)[1:]\n",
    "uptime_clumn.insert(0, datetime.datetime.now(JST))\n",
    "uptime_list.append(uptime_clumn)\n",
    "print(uptime_list)"
   ]
  },
  {
   "cell_type": "markdown",
   "metadata": {
    "lc_cell_meme": {
     "current": "30178ff8-64be-11e8-8364-0242ac110002",
     "history": [
      {
       "current": "30178ff8-64be-11e8-8364-0242ac110002",
       "next": "301791ce-64be-11e8-8364-0242ac110002",
       "previous": "30178cd8-64be-11e8-8364-0242ac110002"
      },
      {
       "current": "30178ff8-64be-11e8-8364-0242ac110002",
       "next": "779cc802-64be-11e8-8364-0242ac110002",
       "previous": "30178cd8-64be-11e8-8364-0242ac110002"
      },
      {
       "current": "30178ff8-64be-11e8-8364-0242ac110002",
       "next": "779cc802-64be-11e8-8364-0242ac110002",
       "previous": "a93636d2-656d-11e8-8364-0242ac110002"
      },
      {
       "current": "30178ff8-64be-11e8-8364-0242ac110002",
       "next": "779cc802-64be-11e8-8364-0242ac110002",
       "previous": "6c4c1604-64c0-11e8-8364-0242ac110002"
      },
      {
       "current": "30178ff8-64be-11e8-8364-0242ac110002",
       "next": "779cc802-64be-11e8-8364-0242ac110002",
       "previous": "45cc9286-6571-11e8-8364-0242ac110002"
      },
      {
       "current": "30178ff8-64be-11e8-8364-0242ac110002",
       "next": "248841a6-6599-11e8-8364-0242ac110002",
       "previous": "45cc9286-6571-11e8-8364-0242ac110002"
      }
     ],
     "next": "779cc802-64be-11e8-8364-0242ac110002",
     "previous": "45cc9286-6571-11e8-8364-0242ac110002"
    }
   },
   "source": [
    "## [手動]ユーザのシェル履歴"
   ]
  },
  {
   "cell_type": "markdown",
   "metadata": {
    "lc_cell_meme": {
     "current": "779cc802-64be-11e8-8364-0242ac110002",
     "history": [
      {
       "current": "779cc802-64be-11e8-8364-0242ac110002",
       "next": null,
       "previous": "301791ce-64be-11e8-8364-0242ac110002"
      },
      {
       "current": "779cc802-64be-11e8-8364-0242ac110002",
       "next": "bf231096-64be-11e8-8364-0242ac110002",
       "previous": "301791ce-64be-11e8-8364-0242ac110002"
      },
      {
       "current": "779cc802-64be-11e8-8364-0242ac110002",
       "next": "bf231096-64be-11e8-8364-0242ac110002",
       "previous": "30178ff8-64be-11e8-8364-0242ac110002"
      },
      {
       "current": "779cc802-64be-11e8-8364-0242ac110002",
       "next": "bf231096-64be-11e8-8364-0242ac110002",
       "previous": "248841a6-6599-11e8-8364-0242ac110002"
      },
      {
       "current": "779cc802-64be-11e8-8364-0242ac110002",
       "next": "248841a6-6599-11e8-8364-0242ac110002",
       "previous": "30178ff8-64be-11e8-8364-0242ac110002"
      }
     ],
     "next": "e0eab5bc-67c0-11e8-8450-0242ac110002",
     "previous": "30178ff8-64be-11e8-8364-0242ac110002"
    }
   },
   "source": [
    "ターミナルでhistoryを取ってファイルに保存する。\n",
    "```\n",
    "$ echo \"user:jovyan history\" > openforum2018/prefix_host_history.txt\n",
    "$ history >> openforum2018/prefix_host_history.txt\n",
    "$ echo \"user:root history\" >> openforum2018/prefix_host_history.txt\n",
    "$ sudo -i\n",
    "# history >> /home/jovyan/openforum2018/prefix_host_history.txt\n",
    "```"
   ]
  },
  {
   "cell_type": "code",
   "execution_count": 36,
   "metadata": {
    "deletable": false,
    "editable": false,
    "lc_cell_meme": {
     "current": "e0eab5bc-67c0-11e8-8450-0242ac110002",
     "next": "248841a6-6599-11e8-8364-0242ac110002",
     "previous": "779cc802-64be-11e8-8364-0242ac110002"
    },
    "run_through_control": {
     "frozen": true
    }
   },
   "outputs": [],
   "source": [
    "!mv prefix_host_history.txt {prefix}_host_history.txt"
   ]
  },
  {
   "cell_type": "code",
   "execution_count": 37,
   "metadata": {
    "deletable": false,
    "editable": false,
    "lc_cell_meme": {
     "current": "248841a6-6599-11e8-8364-0242ac110002",
     "history": [
      {
       "current": "248841a6-6599-11e8-8364-0242ac110002",
       "next": "779cc802-64be-11e8-8364-0242ac110002",
       "previous": "30178ff8-64be-11e8-8364-0242ac110002"
      },
      {
       "current": "248841a6-6599-11e8-8364-0242ac110002",
       "next": "bf231096-64be-11e8-8364-0242ac110002",
       "previous": "779cc802-64be-11e8-8364-0242ac110002"
      },
      {
       "current": "248841a6-6599-11e8-8364-0242ac110002",
       "next": "19a1265e-64c2-11e8-8364-0242ac110002",
       "previous": "779cc802-64be-11e8-8364-0242ac110002"
      },
      {
       "current": "248841a6-6599-11e8-8364-0242ac110002",
       "next": "5d45150c-67bd-11e8-b836-0242ac110002",
       "previous": "779cc802-64be-11e8-8364-0242ac110002"
      }
     ],
     "next": "5d45150c-67bd-11e8-b836-0242ac110002",
     "previous": "e0eab5bc-67c0-11e8-8450-0242ac110002"
    },
    "pinned_outputs": [
     {
      "execution_count": 37,
      "outputs": [
       {
        "name": "stdout",
        "output_type": "stream",
        "text": "user:jovyan history\r\n    1  echo \"user:jovyan history\" > openforum2018/prefix_host_history.txt\r\n    2  history >> openforum2018/prefix_host_history.txt\r\nuser:root history\r\n    1  history >> /home/jovyan/openforum2018/prefix_host_history.txt\r\n"
       }
      ]
     }
    ],
    "run_through_control": {
     "frozen": true
    }
   },
   "outputs": [
    {
     "name": "stdout",
     "output_type": "stream",
     "text": [
      "user:jovyan history\r\n",
      "    1  echo \"user:jovyan history\" > openforum2018/prefix_host_history.txt\r\n",
      "    2  history >> openforum2018/prefix_host_history.txt\r\n",
      "user:root history\r\n",
      "    1  history >> /home/jovyan/openforum2018/prefix_host_history.txt\r\n"
     ]
    }
   ],
   "source": [
    "!cat {prefix}_host_history.txt"
   ]
  },
  {
   "cell_type": "code",
   "execution_count": 38,
   "metadata": {
    "deletable": false,
    "editable": false,
    "lc_cell_meme": {
     "current": "5d45150c-67bd-11e8-b836-0242ac110002",
     "next": "19a1265e-64c2-11e8-8364-0242ac110002",
     "previous": "248841a6-6599-11e8-8364-0242ac110002"
    },
    "pinned_outputs": [
     {
      "execution_count": 38,
      "outputs": [
       {
        "name": "stdout",
        "output_type": "stream",
        "text": "815809da52688d8356922d5c480627a6  201806041535_host_history.txt\r\n"
       }
      ]
     }
    ],
    "run_through_control": {
     "frozen": true
    }
   },
   "outputs": [
    {
     "name": "stdout",
     "output_type": "stream",
     "text": [
      "815809da52688d8356922d5c480627a6  201806041535_host_history.txt\r\n"
     ]
    }
   ],
   "source": [
    "!md5sum {prefix}_host_history.txt"
   ]
  },
  {
   "cell_type": "markdown",
   "metadata": {
    "lc_cell_meme": {
     "current": "19a1265e-64c2-11e8-8364-0242ac110002",
     "history": [
      {
       "current": "19a1265e-64c2-11e8-8364-0242ac110002",
       "next": "6c4c18a2-64c0-11e8-8364-0242ac110002",
       "previous": "6c4c1604-64c0-11e8-8364-0242ac110002"
      },
      {
       "current": "19a1265e-64c2-11e8-8364-0242ac110002",
       "next": "6c4c18a2-64c0-11e8-8364-0242ac110002",
       "previous": "bf231096-64be-11e8-8364-0242ac110002"
      },
      {
       "current": "19a1265e-64c2-11e8-8364-0242ac110002",
       "next": "6c4c18a2-64c0-11e8-8364-0242ac110002",
       "previous": "248841a6-6599-11e8-8364-0242ac110002"
      }
     ],
     "next": "6c4c18a2-64c0-11e8-8364-0242ac110002",
     "previous": "5d45150c-67bd-11e8-b836-0242ac110002"
    }
   },
   "source": [
    "# httpサーバの動確"
   ]
  },
  {
   "cell_type": "markdown",
   "metadata": {
    "lc_cell_meme": {
     "current": "6c4c18a2-64c0-11e8-8364-0242ac110002",
     "history": [
      {
       "current": "6c4c18a2-64c0-11e8-8364-0242ac110002",
       "next": null,
       "previous": "6c4c1604-64c0-11e8-8364-0242ac110002"
      },
      {
       "current": "6c4c18a2-64c0-11e8-8364-0242ac110002",
       "next": null,
       "previous": "19a1265e-64c2-11e8-8364-0242ac110002"
      }
     ],
     "next": "60f9c33a-64c2-11e8-8364-0242ac110002",
     "previous": "19a1265e-64c2-11e8-8364-0242ac110002"
    }
   },
   "source": [
    "LISTENポートを探して、httpでリクエスト出して、振る舞いを確認しておく。\n",
    "\n",
    "まず、LISTENポートについては、[ネットワーク接続](#ネットワーク接続)で8888だけ全てのネットワークインタフェースに対してLISTENしていることが分かっている。外部に対して繋がっているネットワークインタフェースは[ルーティングテーブル](#ルーティングテーブル)と[ネットワークインタフェース](#ネットワークインタフェース)からeth0の172.17.0.2だと分かるので、ここにwgetしてみる。"
   ]
  },
  {
   "cell_type": "code",
   "execution_count": 39,
   "metadata": {
    "deletable": false,
    "editable": false,
    "lc_cell_meme": {
     "current": "60f9c33a-64c2-11e8-8364-0242ac110002",
     "history": [
      {
       "current": "60f9c33a-64c2-11e8-8364-0242ac110002",
       "next": null,
       "previous": "6c4c18a2-64c0-11e8-8364-0242ac110002"
      }
     ],
     "next": "e4b516a0-64c4-11e8-8364-0242ac110002",
     "previous": "6c4c18a2-64c0-11e8-8364-0242ac110002"
    },
    "pinned_outputs": [
     {
      "execution_count": 39,
      "outputs": [
       {
        "name": "stdout",
        "output_type": "stream",
        "text": "--2018-06-04 15:45:12--  http://172.17.0.2:8888/\r\nConnecting to 172.17.0.2:8888... connected.\r\nHTTP request sent, awaiting response... 302 Found\r\nLocation: /tree? [following]\r\n--2018-06-04 15:45:12--  http://172.17.0.2:8888/tree?\r\nReusing existing connection to 172.17.0.2:8888.\r\nHTTP request sent, awaiting response... 200 OK\r\nLength: 15181 (15K) [text/html]\r\nSaving to: ‘STDOUT’\r\n\r\n\r-                     0%[                    ]       0  --.-KB/s               <!DOCTYPE HTML>\r\n<html>\r\n\r\n<head>\r\n    <meta charset=\"utf-8\">\r\n\r\n    <title>Home</title>\r\n    <link id=\"favicon\" rel=\"shortcut icon\" type=\"image/x-icon\" href=\"/static/base/images/favicon.ico?v=97c6417ed01bdc0ae3ef32ae4894fd03\">\r\n    <meta http-equiv=\"X-UA-Compatible\" content=\"IE=edge\" />\r\n    <link rel=\"stylesheet\" href=\"/static/components/jquery-ui/themes/smoothness/jquery-ui.min.css?v=9b2c8d3489227115310662a343fce11c\" type=\"text/css\" />\r\n    <link rel=\"stylesheet\" href=\"/static/components/jquery-typeahead/dist/jquery.typeahead.min.css?v=7afb461de36accb1aa133a1710f5bc56\" type=\"text/css\" />\r\n    <meta name=\"viewport\" content=\"width=device-width, initial-scale=1.0\">\r\n    \r\n    \r\n    <link rel=\"stylesheet\" href=\"/static/style/style.min.css?v=47782e517c98a53adb514cbefb4528f2\" type=\"text/css\"/>\r\n    \r\n    <link rel=\"stylesheet\" href=\"/custom/custom.css\" type=\"text/css\" />\r\n    <script src=\"/static/components/es6-promise/promise.min.js?v=f004a16cb856e0ff11781d01ec5ca8fe\" type=\"text/javascript\" charset=\"utf-8\"></script>\r\n    <script src=\"/static/components/preact/index.js?v=00a2fac73c670ce39ac53d26640eb542\" type=\"text/javascript\"></script>\r\n    <script src=\"/static/components/proptypes/index.js?v=c40890eb04df9811fcc4d47e53a29604\" type=\"text/javascript\"></script>\r\n    <script src=\"/static/components/preact-compat/index.js?v=f865e990e65ad27e3a2601d8adb48db1\" type=\"text/javascript\"></script>\r\n    <script src=\"/static/components/requirejs/require.js?v=6da8be361b9ee26c5e721e76c6d4afce\" type=\"text/javascript\" charset=\"utf-8\"></script>\r\n    <script>\r\n      require.config({\r\n          \r\n          urlArgs: \"v=20180604062608\",\r\n          \r\n          baseUrl: '/static/',\r\n          paths: {\r\n            'auth/js/main': 'auth/js/main.min',\r\n            custom : '/custom',\r\n            nbextensions : '/nbextensions',\r\n            kernelspecs : '/kernelspecs',\r\n            underscore : 'components/underscore/underscore-min',\r\n            backbone : 'components/backbone/backbone-min',\r\n            jed: 'components/jed/jed',\r\n            jquery: 'components/jquery/jquery.min',\r\n            json: 'components/requirejs-plugins/src/json',\r\n            text: 'components/requirejs-text/text',\r\n            bootstrap: 'components/bootstrap/js/bootstrap.min',\r\n            bootstraptour: 'components/bootstrap-tour/build/js/bootstrap-tour.min',\r\n            'jquery-ui': 'components/jquery-ui/ui/minified/jquery-ui.min',\r\n            moment: 'components/moment/min/moment-with-locales',\r\n            codemirror: 'components/codemirror',\r\n            termjs: 'components/xterm.js/xterm',\r\n            typeahead: 'components/jquery-typeahead/dist/jquery.typeahead.min',\r\n          },\r\n          map: { // for backward compatibility\r\n              \"*\": {\r\n                  \"jqueryui\": \"jquery-ui\",\r\n              }\r\n          },\r\n          shim: {\r\n            typeahead: {\r\n              deps: [\"jquery\"],\r\n              exports: \"typeahead\"\r\n            },\r\n            underscore: {\r\n              exports: '_'\r\n            },\r\n            backbone: {\r\n              deps: [\"underscore\", \"jquery\"],\r\n              exports: \"Backbone\"\r\n            },\r\n            bootstrap: {\r\n              deps: [\"jquery\"],\r\n              exports: \"bootstrap\"\r\n            },\r\n            bootstraptour: {\r\n              deps: [\"bootstrap\"],\r\n              exports: \"Tour\"\r\n            },\r\n            \"jquery-ui\": {\r\n              deps: [\"jquery\"],\r\n              exports: \"$\"\r\n            }\r\n          },\r\n          waitSeconds: 30,\r\n      });\r\n\r\n      require.config({\r\n          map: {\r\n              '*':{\r\n                'contents': 'services/contents',\r\n              }\r\n          }\r\n      });\r\n\r\n      // error-catching custom.js shim.\r\n      define(\"custom\", function (require, exports, module) {\r\n          try {\r\n              var custom = require('custom/custom');\r\n              console.debug('loaded custom.js');\r\n              return custom;\r\n          } catch (e) {\r\n              console.error(\"error loading custom.js\", e);\r\n              return {};\r\n          }\r\n      })\r\n\r\n    document.nbjs_translations = {\"domain\": \"nbjs\", \"locale_data\": {\"nbjs\": {\"\": {\"domain\": \"nbjs\"}}}};\r\n    document.documentElement.lang = navigator.language.toLowerCase();\r\n    </script>\r\n\r\n    \r\n    \r\n\r\n</head>\r\n\r\n<body class=\"\"\r\n \r\n\r\n  \r\n \r\ndata-base-url=\"/\"\r\ndata-notebook-path=\"\"\r\ndata-terminals-available=\"True\"\r\ndata-server-root=\"/home/jovyan\"\r\n\r\ndir=\"ltr\">\r\n\r\n<noscript>\r\n    <div id='noscript'>\r\n      Jupyter Notebook requires JavaScript.<br>\r\n      Please enable it to proceed. \r\n  </div>\r\n</noscript>\r\n\r\n<div id=\"header\">\r\n  <div id=\"header-container\" class=\"container\">\r\n  <div id=\"ipython_notebook\" class=\"nav navbar-brand\"><a href=\"/tree\" title='dashboard'>\r\n      <img src='/static/base/images/logo.png?v=641991992878ee24c6f3826e81054a0f' alt='Jupyter Notebook'/>\r\n  </a></div>\r\n\r\n  \r\n  <span class=\"flex-spacer\"></span>\r\n  \r\n\r\n  \r\n  \r\n  \r\n  \r\n\r\n    <span id=\"login_widget\">\r\n      \r\n    </span>\r\n\r\n  \r\n\r\n  \r\n  \r\n  </div>\r\n  <div class=\"header-bar\"></div>\r\n\r\n  \r\n  \r\n</div>\r\n\r\n<div id=\"site\">\r\n\r\n\r\n  <div id=\"ipython-main-app\" class=\"container\">\r\n    <div id=\"tab_content\" class=\"tabbable\">\r\n      <ul id=\"tabs\" class=\"nav nav-tabs\">\r\n        <li class=\"active\"><a href=\"#notebooks\" data-toggle=\"tab\">Files</a></li>\r\n        <li><a href=\"#running\" data-toggle=\"tab\">Running</a></li>\r\n        <li><a href=\"#clusters\" data-toggle=\"tab\" class=\"clusters_tab_link\" >Clusters</a></li>\r\n      </ul>\r\n      <div class=\"tab-content\">\r\n        <div id=\"notebooks\" class=\"tab-pane active\">\r\n          <div id=\"notebook_toolbar\" class=\"row\">\r\n            <div class=\"col-sm-8 no-padding\">\r\n              <div class=\"dynamic-instructions\">\r\n                Select items to perform actions on them.\r\n              </div>\r\n              <div class=\"dynamic-buttons\">\r\n                  <button title=\"Duplicate selected\" aria-label=\"Duplicate selected\" class=\"duplicate-button btn btn-default btn-xs\">Duplicate</button>\r\n                  <button title=\"Rename selected\" aria-label=\"Rename selected\" class=\"rename-button btn btn-default btn-xs\">Rename</button>\r\n                  <button title=\"Move selected\" aria-label=\"Move selected\" class=\"move-button btn btn-default btn-xs\">Move</button>\r\n                  <button title=\"Download selected\" aria-label=\"Download selected\" class=\"download-button btn btn-default btn-xs\">Download</button>\r\n                  <button title=\"Shutdown selected notebook(s)\" aria-label=\"Shutdown selected notebook(s)\" class=\"shutdown-button btn btn-default btn-xs btn-warning\">Shutdown</button>\r\n                  <button title=\"View selected\" aria-label=\"View selected\" class=\"view-button btn btn-default btn-xs\">View</button>\r\n                  <button title=\"Edit selected\" aria-label=\"Edit selected\" class=\"edit-button btn btn-default btn-xs\">Edit</button>\r\n                  <button title=\"Delete selected\" aria-label=\"Delete selected\" class=\"delete-button btn btn-default btn-xs btn-danger\"><i class=\"fa fa-trash\"></i></button>\r\n              </div>\r\n            </div>\r\n            <div class=\"col-sm-4 no-padding tree-buttons\">\r\n              <div class=\"pull-right\">\r\n                <form id='alternate_upload'  class='alternate_upload'>\r\n                  <span id=\"notebook_list_info\">\r\n                  <span class=\"btn btn-xs btn-default btn-upload\">\r\n                  <input  title=\"Click to browse for a file to upload.\" type=\"file\" name=\"datafile\" class=\"fileinput\" multiple='multiple'>\r\n                  Upload\r\n                  </span>\r\n                  </span>\r\n                </form>\r\n                <div id=\"new-buttons\" class=\"btn-group\">\r\n                  <button class=\"dropdown-toggle btn btn-default btn-xs\" data-toggle=\"dropdown\">\r\n                  <span>New</span>\r\n                  <span class=\"caret\"></span>\r\n                  </button>\r\n                  <ul id=\"new-menu\" class=\"dropdown-menu\">\r\n                    <li role=\"presentation\" class=\"dropdown-header\" id=\"notebook-kernels\">Notebook:</li>\r\n                    <li role=\"presentation\" class=\"divider\"></li>\r\n                    <li role=\"presentation\" class=\"dropdown-header\" >Other:</li>\r\n                    <li role=\"presentation\" id=\"new-file\">\r\n                      <a role=\"menuitem\" tabindex=\"-1\" href=\"#\">Text File</a>\r\n                    </li>\r\n                    <li role=\"presentation\" id=\"new-folder\">\r\n                      <a role=\"menuitem\" tabindex=\"-1\" href=\"#\">Folder</a>\r\n                    </li>\r\n                    \r\n                    <li role=\"presentation\" id=\"new-terminal\">\r\n                      <a role=\"menuitem\" tabindex=\"-1\" href=\"#\">Terminal</a>\r\n                    </li>\r\n                    \r\n                  </ul>\r\n                </div>\r\n                <div class=\"btn-group\">\r\n                    <button id=\"refresh_notebook_list\" title=\"Refresh notebook list\"  aria-label=\"Refresh notebook list\" class=\"btn btn-default btn-xs\"><i class=\"fa fa-refresh\"></i></button>\r\n                </div>\r\n              </div>\r\n            </div>\r\n          </div>\r\n          <div id=\"notebook_list\">\r\n            <div id=\"notebook_list_header\" class=\"row list_header\">\r\n              <div class=\"btn-group dropdown\" id=\"tree-selector\">\r\n                <button title=\"Select All / None\" aria-label=\"Select All / None\" type=\"button\" class=\"btn btn-default btn-xs\" id=\"button-select-all\">\r\n                  <input type=\"checkbox\" class=\"pull-left tree-selector\" id=\"select-all\"><span id=\"counter-select-all\">&nbsp;</span></input>\r\n                </button>\r\n                <button title=\"Select...\" class=\"btn btn-default btn-xs dropdown-toggle\" type=\"button\" id=\"tree-selector-btn\" data-toggle=\"dropdown\" aria-expanded=\"true\">\r\n                  <span class=\"caret\"></span>\r\n                  <span class=\"sr-only\">Toggle Dropdown</span>\r\n                </button>\r\n                <ul id='selector-menu' class=\"dropdown-menu\" role=\"menu\" aria-labelledby=\"tree-selector-btn\">\r\n                  <li role=\"presentation\"><a id=\"select-folders\" role=\"menuitem\" tabindex=\"-1\" href=\"#\" title=\"Select All Folders\"><i class=\"menu_icon folder_icon icon-fixed-width\"></i> Folders</a></li>\r\n                  <li role=\"presentation\"><a id=\"select-notebooks\" role=\"menuitem\" tabindex=\"-1\" href=\"#\" title=\"Select All Notebooks\"><i class=\"menu_icon notebook_icon icon-fixed-width\"></i> All Notebooks</a></li>\r\n                  <li role=\"presentation\"><a id=\"select-running-notebooks\" role=\"menuitem\" tabindex=\"-1\" href=\"#\" title=\"Select Running Notebooks\"><i class=\"menu_icon running_notebook_icon icon-fixed-width\"></i> Running</a></li>\r\n                  <li role=\"presentation\"><a id=\"select-files\" role=\"menuitem\" tabindex=\"-1\" href=\"#\" title=\"Select All Files\"><i class=\"menu_icon file_icon icon-fixed-width\"></i> Files</a></li>\r\n                </ul>\r\n              </div>\r\n              <div id=\"project_name\">\r\n                <ul class=\"breadcrumb\">\r\n                  <li><a href=\"/tree\"><i class=\"fa fa-folder\" alt=\"folder icon\"></i></a></li>\r\n                \r\n                </ul>\r\n              </div>\r\n              <div id=\"file_size\" class=\"pull-right sort_button\">\r\n                  <span class=\"btn btn-xs btn-default sort-action\" id=\"file-size\">\r\n                      File size\r\n                      <i class=\"fa\"></i>\r\n                  </span>\r\n              </div>\r\n              <div id=\"last_modified\" class=\"pull-right sort_button\">\r\n                  <span class=\"btn btn-xs btn-default sort-action\" id=\"last-modified\">\r\n                      Last Modified\r\n                      <i class=\"fa\"></i>\r\n                  </span>\r\n              </div>\r\n              <div id=\"sort_name\" class=\"pull-right sort_button\">\r\n                  <span class=\"btn btn-xs btn-default sort-action\" id=\"sort-name\">\r\n                      Name\r\n                      <i class=\"fa fa-arrow-down\"></i>\r\n                  </span>\r\n              </div>\r\n            </div>\r\n          </div>\r\n        </div>\r\n        <div id=\"running\" class=\"tab-pane\">\r\n          <div id=\"running_toolbar\" class=\"row\">\r\n            <div class=\"col-sm-8 no-padding\">\r\n              <span id=\"running_list_info\">Currently running Jupyter processes</span>\r\n            </div>\r\n            <div class=\"col-sm-4 no-padding tree-buttons\">\r\n              <span id=\"running_buttons\" class=\"pull-right\">\r\n              <button id=\"refresh_running_list\" title=\"Refresh running list\" aria-label=\"Refresh running list\" class=\"btn btn-default btn-xs\"><i class=\"fa fa-refresh\"></i></button>\r\n              </span>\r\n            </div>\r\n          </div>\r\n          <div class=\"panel-group\" id=\"accordion\" >\r\n            <div class=\"panel panel-default\">\r\n              <div class=\"panel-heading\">\r\n                <a data-toggle=\"collapse\" data-target=\"#collapseOne\" href=\"#\">\r\n                  Terminals\r\n                </a>\r\n              </div>\r\n              <div id=\"collapseOne\" class=\" collapse in\">\r\n                <div class=\"panel-body\">\r\n                  <div id=\"terminal_list\">\r\n                    <div id=\"terminal_list_header\" class=\"row list_placeholder\">\r\n                    \r\n                      <div> There are no terminals running. </div>\r\n                    \r\n                    </div>\r\n                  </div>\r\n                </div>\r\n              </div>\r\n            </div>\r\n            <div class=\"panel panel-default\">\r\n              <div class=\"panel-heading\">\r\n                <a data-toggle=\"collapse\" data-target=\"#collapseTwo\" href=\"#\">\r\n                  Notebooks\r\n                </a>\r\n              </div>\r\n              <div id=\"collapseTwo\" class=\" collapse in\">\r\n                <div class=\"panel-body\">\r\n                  <div id=\"running_list\">\r\n                    <div id=\"running_list_placeholder\" class=\"row list_placeholder\">\r\n                      <div> There are no notebooks running. </div>\r\n                    </div>\r\n                  </div>\r\n                </div>\r\n              </div>\r\n            </div>\r\n          </div>\r\n        </div>\r\n        <div id=\"clusters\" class=\"tab-pane\">\r\n          Clusters tab is now provided by IPython parallel.\r\n          See '<a href=\"https://github.com/ipython/ipyparallel\">IPython parallel</a>' for installation details.\r\n        </div>\r\n      </div><!-- class:tab-content -->\r\n    </div><!-- id:tab_content -->\r\n  </div><!-- ipython-main-app  -->\r\n\r\n\r\n</div>\r\n\r\n\r\n\r\n\r\n\r\n    \r\n\r\n\r\n\r\n<script src=\"/static/tree/js/main.min.js?v=4139e87e4344862dcb29f94ad26c84cd\" type=\"text/javascript\" charset=\"utf-8\"></script>\r\n\r\n\r\n<script type='text/javascript'>\r\n  function _remove_token_from_url() {\r\n    if (window.location.search.length <= 1) {\r\n      return;\r\n    }\r\n    var search_parameters = window.location.search.slice(1).split('&');\r\n    for (var i = 0; i < search_parameters.length; i++) {\r\n      if (search_parameters[i].split('=')[0] === 'token') {\r\n        // remote token from search parameters\r\n        search_parameters.splice(i, 1);\r\n        var new_search = '';\r\n        if (search_parameters.length) {\r\n          new_search = '?' + search_parameters.join('&');\r\n        }\r\n        var new_url = window.location.origin + \r\n                      window.location.pathname + \r\n                      new_search + \r\n                      window.location.hash;\r\n        window.history.replaceState({}, \"\", new_url);\r\n        return;\r\n      }\r\n    }\r\n  }\r\n  _remove_token_from_url();\r\n</script>\r\n</body>\r\n\r\n</html>\r-                   100%[===================>]  14.83K  --.-KB/s    in 0s      \r\n\r\n2018-06-04 15:45:12 (31.0 MB/s) - written to stdout [15181/15181]\r\n\r\n"
       }
      ]
     }
    ],
    "run_through_control": {
     "frozen": true
    }
   },
   "outputs": [
    {
     "name": "stdout",
     "output_type": "stream",
     "text": [
      "--2018-06-04 15:45:12--  http://172.17.0.2:8888/\r\n",
      "Connecting to 172.17.0.2:8888... connected.\r\n",
      "HTTP request sent, awaiting response... 302 Found\r\n",
      "Location: /tree? [following]\r\n",
      "--2018-06-04 15:45:12--  http://172.17.0.2:8888/tree?\r\n",
      "Reusing existing connection to 172.17.0.2:8888.\r\n",
      "HTTP request sent, awaiting response... 200 OK\r\n",
      "Length: 15181 (15K) [text/html]\r\n",
      "Saving to: ‘STDOUT’\r\n",
      "\r\n",
      "\r",
      "-                     0%[                    ]       0  --.-KB/s               <!DOCTYPE HTML>\r\n",
      "<html>\r\n",
      "\r\n",
      "<head>\r\n",
      "    <meta charset=\"utf-8\">\r\n",
      "\r\n",
      "    <title>Home</title>\r\n",
      "    <link id=\"favicon\" rel=\"shortcut icon\" type=\"image/x-icon\" href=\"/static/base/images/favicon.ico?v=97c6417ed01bdc0ae3ef32ae4894fd03\">\r\n",
      "    <meta http-equiv=\"X-UA-Compatible\" content=\"IE=edge\" />\r\n",
      "    <link rel=\"stylesheet\" href=\"/static/components/jquery-ui/themes/smoothness/jquery-ui.min.css?v=9b2c8d3489227115310662a343fce11c\" type=\"text/css\" />\r\n",
      "    <link rel=\"stylesheet\" href=\"/static/components/jquery-typeahead/dist/jquery.typeahead.min.css?v=7afb461de36accb1aa133a1710f5bc56\" type=\"text/css\" />\r\n",
      "    <meta name=\"viewport\" content=\"width=device-width, initial-scale=1.0\">\r\n",
      "    \r\n",
      "    \r\n",
      "    <link rel=\"stylesheet\" href=\"/static/style/style.min.css?v=47782e517c98a53adb514cbefb4528f2\" type=\"text/css\"/>\r\n",
      "    \r\n",
      "    <link rel=\"stylesheet\" href=\"/custom/custom.css\" type=\"text/css\" />\r\n",
      "    <script src=\"/static/components/es6-promise/promise.min.js?v=f004a16cb856e0ff11781d01ec5ca8fe\" type=\"text/javascript\" charset=\"utf-8\"></script>\r\n",
      "    <script src=\"/static/components/preact/index.js?v=00a2fac73c670ce39ac53d26640eb542\" type=\"text/javascript\"></script>\r\n",
      "    <script src=\"/static/components/proptypes/index.js?v=c40890eb04df9811fcc4d47e53a29604\" type=\"text/javascript\"></script>\r\n",
      "    <script src=\"/static/components/preact-compat/index.js?v=f865e990e65ad27e3a2601d8adb48db1\" type=\"text/javascript\"></script>\r\n",
      "    <script src=\"/static/components/requirejs/require.js?v=6da8be361b9ee26c5e721e76c6d4afce\" type=\"text/javascript\" charset=\"utf-8\"></script>\r\n",
      "    <script>\r\n",
      "      require.config({\r\n",
      "          \r\n",
      "          urlArgs: \"v=20180604062608\",\r\n",
      "          \r\n",
      "          baseUrl: '/static/',\r\n",
      "          paths: {\r\n",
      "            'auth/js/main': 'auth/js/main.min',\r\n",
      "            custom : '/custom',\r\n",
      "            nbextensions : '/nbextensions',\r\n",
      "            kernelspecs : '/kernelspecs',\r\n",
      "            underscore : 'components/underscore/underscore-min',\r\n",
      "            backbone : 'components/backbone/backbone-min',\r\n",
      "            jed: 'components/jed/jed',\r\n",
      "            jquery: 'components/jquery/jquery.min',\r\n",
      "            json: 'components/requirejs-plugins/src/json',\r\n",
      "            text: 'components/requirejs-text/text',\r\n",
      "            bootstrap: 'components/bootstrap/js/bootstrap.min',\r\n",
      "            bootstraptour: 'components/bootstrap-tour/build/js/bootstrap-tour.min',\r\n",
      "            'jquery-ui': 'components/jquery-ui/ui/minified/jquery-ui.min',\r\n",
      "            moment: 'components/moment/min/moment-with-locales',\r\n",
      "            codemirror: 'components/codemirror',\r\n",
      "            termjs: 'components/xterm.js/xterm',\r\n",
      "            typeahead: 'components/jquery-typeahead/dist/jquery.typeahead.min',\r\n",
      "          },\r\n",
      "          map: { // for backward compatibility\r\n",
      "              \"*\": {\r\n",
      "                  \"jqueryui\": \"jquery-ui\",\r\n",
      "              }\r\n",
      "          },\r\n",
      "          shim: {\r\n",
      "            typeahead: {\r\n",
      "              deps: [\"jquery\"],\r\n",
      "              exports: \"typeahead\"\r\n",
      "            },\r\n",
      "            underscore: {\r\n",
      "              exports: '_'\r\n",
      "            },\r\n",
      "            backbone: {\r\n",
      "              deps: [\"underscore\", \"jquery\"],\r\n",
      "              exports: \"Backbone\"\r\n",
      "            },\r\n",
      "            bootstrap: {\r\n",
      "              deps: [\"jquery\"],\r\n",
      "              exports: \"bootstrap\"\r\n",
      "            },\r\n",
      "            bootstraptour: {\r\n",
      "              deps: [\"bootstrap\"],\r\n",
      "              exports: \"Tour\"\r\n",
      "            },\r\n",
      "            \"jquery-ui\": {\r\n",
      "              deps: [\"jquery\"],\r\n",
      "              exports: \"$\"\r\n",
      "            }\r\n",
      "          },\r\n",
      "          waitSeconds: 30,\r\n",
      "      });\r\n",
      "\r\n",
      "      require.config({\r\n",
      "          map: {\r\n",
      "              '*':{\r\n",
      "                'contents': 'services/contents',\r\n",
      "              }\r\n",
      "          }\r\n",
      "      });\r\n",
      "\r\n",
      "      // error-catching custom.js shim.\r\n",
      "      define(\"custom\", function (require, exports, module) {\r\n",
      "          try {\r\n",
      "              var custom = require('custom/custom');\r\n",
      "              console.debug('loaded custom.js');\r\n",
      "              return custom;\r\n",
      "          } catch (e) {\r\n",
      "              console.error(\"error loading custom.js\", e);\r\n",
      "              return {};\r\n",
      "          }\r\n",
      "      })\r\n",
      "\r\n",
      "    document.nbjs_translations = {\"domain\": \"nbjs\", \"locale_data\": {\"nbjs\": {\"\": {\"domain\": \"nbjs\"}}}};\r\n",
      "    document.documentElement.lang = navigator.language.toLowerCase();\r\n",
      "    </script>\r\n",
      "\r\n",
      "    \r\n",
      "    \r\n",
      "\r\n",
      "</head>\r\n",
      "\r\n",
      "<body class=\"\"\r\n",
      " \r\n",
      "\r\n",
      "  \r\n",
      " \r\n",
      "data-base-url=\"/\"\r\n",
      "data-notebook-path=\"\"\r\n",
      "data-terminals-available=\"True\"\r\n",
      "data-server-root=\"/home/jovyan\"\r\n",
      "\r\n",
      "dir=\"ltr\">\r\n",
      "\r\n",
      "<noscript>\r\n",
      "    <div id='noscript'>\r\n",
      "      Jupyter Notebook requires JavaScript.<br>\r\n",
      "      Please enable it to proceed. \r\n",
      "  </div>\r\n",
      "</noscript>\r\n",
      "\r\n",
      "<div id=\"header\">\r\n",
      "  <div id=\"header-container\" class=\"container\">\r\n",
      "  <div id=\"ipython_notebook\" class=\"nav navbar-brand\"><a href=\"/tree\" title='dashboard'>\r\n",
      "      <img src='/static/base/images/logo.png?v=641991992878ee24c6f3826e81054a0f' alt='Jupyter Notebook'/>\r\n",
      "  </a></div>\r\n",
      "\r\n",
      "  \r\n",
      "  <span class=\"flex-spacer\"></span>\r\n",
      "  \r\n",
      "\r\n",
      "  \r\n",
      "  \r\n",
      "  \r\n",
      "  \r\n",
      "\r\n",
      "    <span id=\"login_widget\">\r\n",
      "      \r\n",
      "    </span>\r\n",
      "\r\n",
      "  \r\n",
      "\r\n",
      "  \r\n",
      "  \r\n",
      "  </div>\r\n",
      "  <div class=\"header-bar\"></div>\r\n",
      "\r\n",
      "  \r\n",
      "  \r\n",
      "</div>\r\n",
      "\r\n",
      "<div id=\"site\">\r\n",
      "\r\n",
      "\r\n",
      "  <div id=\"ipython-main-app\" class=\"container\">\r\n",
      "    <div id=\"tab_content\" class=\"tabbable\">\r\n",
      "      <ul id=\"tabs\" class=\"nav nav-tabs\">\r\n",
      "        <li class=\"active\"><a href=\"#notebooks\" data-toggle=\"tab\">Files</a></li>\r\n",
      "        <li><a href=\"#running\" data-toggle=\"tab\">Running</a></li>\r\n",
      "        <li><a href=\"#clusters\" data-toggle=\"tab\" class=\"clusters_tab_link\" >Clusters</a></li>\r\n",
      "      </ul>\r\n",
      "      <div class=\"tab-content\">\r\n",
      "        <div id=\"notebooks\" class=\"tab-pane active\">\r\n",
      "          <div id=\"notebook_toolbar\" class=\"row\">\r\n",
      "            <div class=\"col-sm-8 no-padding\">\r\n",
      "              <div class=\"dynamic-instructions\">\r\n",
      "                Select items to perform actions on them.\r\n",
      "              </div>\r\n",
      "              <div class=\"dynamic-buttons\">\r\n",
      "                  <button title=\"Duplicate selected\" aria-label=\"Duplicate selected\" class=\"duplicate-button btn btn-default btn-xs\">Duplicate</button>\r\n",
      "                  <button title=\"Rename selected\" aria-label=\"Rename selected\" class=\"rename-button btn btn-default btn-xs\">Rename</button>\r\n",
      "                  <button title=\"Move selected\" aria-label=\"Move selected\" class=\"move-button btn btn-default btn-xs\">Move</button>\r\n",
      "                  <button title=\"Download selected\" aria-label=\"Download selected\" class=\"download-button btn btn-default btn-xs\">Download</button>\r\n",
      "                  <button title=\"Shutdown selected notebook(s)\" aria-label=\"Shutdown selected notebook(s)\" class=\"shutdown-button btn btn-default btn-xs btn-warning\">Shutdown</button>\r\n",
      "                  <button title=\"View selected\" aria-label=\"View selected\" class=\"view-button btn btn-default btn-xs\">View</button>\r\n",
      "                  <button title=\"Edit selected\" aria-label=\"Edit selected\" class=\"edit-button btn btn-default btn-xs\">Edit</button>\r\n",
      "                  <button title=\"Delete selected\" aria-label=\"Delete selected\" class=\"delete-button btn btn-default btn-xs btn-danger\"><i class=\"fa fa-trash\"></i></button>\r\n",
      "              </div>\r\n",
      "            </div>\r\n",
      "            <div class=\"col-sm-4 no-padding tree-buttons\">\r\n",
      "              <div class=\"pull-right\">\r\n",
      "                <form id='alternate_upload'  class='alternate_upload'>\r\n",
      "                  <span id=\"notebook_list_info\">\r\n",
      "                  <span class=\"btn btn-xs btn-default btn-upload\">\r\n",
      "                  <input  title=\"Click to browse for a file to upload.\" type=\"file\" name=\"datafile\" class=\"fileinput\" multiple='multiple'>\r\n",
      "                  Upload\r\n",
      "                  </span>\r\n",
      "                  </span>\r\n",
      "                </form>\r\n",
      "                <div id=\"new-buttons\" class=\"btn-group\">\r\n",
      "                  <button class=\"dropdown-toggle btn btn-default btn-xs\" data-toggle=\"dropdown\">\r\n",
      "                  <span>New</span>\r\n",
      "                  <span class=\"caret\"></span>\r\n",
      "                  </button>\r\n",
      "                  <ul id=\"new-menu\" class=\"dropdown-menu\">\r\n",
      "                    <li role=\"presentation\" class=\"dropdown-header\" id=\"notebook-kernels\">Notebook:</li>\r\n",
      "                    <li role=\"presentation\" class=\"divider\"></li>\r\n",
      "                    <li role=\"presentation\" class=\"dropdown-header\" >Other:</li>\r\n",
      "                    <li role=\"presentation\" id=\"new-file\">\r\n",
      "                      <a role=\"menuitem\" tabindex=\"-1\" href=\"#\">Text File</a>\r\n",
      "                    </li>\r\n",
      "                    <li role=\"presentation\" id=\"new-folder\">\r\n",
      "                      <a role=\"menuitem\" tabindex=\"-1\" href=\"#\">Folder</a>\r\n",
      "                    </li>\r\n",
      "                    \r\n",
      "                    <li role=\"presentation\" id=\"new-terminal\">\r\n",
      "                      <a role=\"menuitem\" tabindex=\"-1\" href=\"#\">Terminal</a>\r\n",
      "                    </li>\r\n",
      "                    \r\n",
      "                  </ul>\r\n",
      "                </div>\r\n",
      "                <div class=\"btn-group\">\r\n",
      "                    <button id=\"refresh_notebook_list\" title=\"Refresh notebook list\"  aria-label=\"Refresh notebook list\" class=\"btn btn-default btn-xs\"><i class=\"fa fa-refresh\"></i></button>\r\n",
      "                </div>\r\n",
      "              </div>\r\n",
      "            </div>\r\n",
      "          </div>\r\n",
      "          <div id=\"notebook_list\">\r\n",
      "            <div id=\"notebook_list_header\" class=\"row list_header\">\r\n",
      "              <div class=\"btn-group dropdown\" id=\"tree-selector\">\r\n",
      "                <button title=\"Select All / None\" aria-label=\"Select All / None\" type=\"button\" class=\"btn btn-default btn-xs\" id=\"button-select-all\">\r\n",
      "                  <input type=\"checkbox\" class=\"pull-left tree-selector\" id=\"select-all\"><span id=\"counter-select-all\">&nbsp;</span></input>\r\n",
      "                </button>\r\n",
      "                <button title=\"Select...\" class=\"btn btn-default btn-xs dropdown-toggle\" type=\"button\" id=\"tree-selector-btn\" data-toggle=\"dropdown\" aria-expanded=\"true\">\r\n",
      "                  <span class=\"caret\"></span>\r\n",
      "                  <span class=\"sr-only\">Toggle Dropdown</span>\r\n",
      "                </button>\r\n",
      "                <ul id='selector-menu' class=\"dropdown-menu\" role=\"menu\" aria-labelledby=\"tree-selector-btn\">\r\n",
      "                  <li role=\"presentation\"><a id=\"select-folders\" role=\"menuitem\" tabindex=\"-1\" href=\"#\" title=\"Select All Folders\"><i class=\"menu_icon folder_icon icon-fixed-width\"></i> Folders</a></li>\r\n",
      "                  <li role=\"presentation\"><a id=\"select-notebooks\" role=\"menuitem\" tabindex=\"-1\" href=\"#\" title=\"Select All Notebooks\"><i class=\"menu_icon notebook_icon icon-fixed-width\"></i> All Notebooks</a></li>\r\n",
      "                  <li role=\"presentation\"><a id=\"select-running-notebooks\" role=\"menuitem\" tabindex=\"-1\" href=\"#\" title=\"Select Running Notebooks\"><i class=\"menu_icon running_notebook_icon icon-fixed-width\"></i> Running</a></li>\r\n",
      "                  <li role=\"presentation\"><a id=\"select-files\" role=\"menuitem\" tabindex=\"-1\" href=\"#\" title=\"Select All Files\"><i class=\"menu_icon file_icon icon-fixed-width\"></i> Files</a></li>\r\n",
      "                </ul>\r\n",
      "              </div>\r\n",
      "              <div id=\"project_name\">\r\n",
      "                <ul class=\"breadcrumb\">\r\n",
      "                  <li><a href=\"/tree\"><i class=\"fa fa-folder\" alt=\"folder icon\"></i></a></li>\r\n",
      "                \r\n",
      "                </ul>\r\n",
      "              </div>\r\n",
      "              <div id=\"file_size\" class=\"pull-right sort_button\">\r\n",
      "                  <span class=\"btn btn-xs btn-default sort-action\" id=\"file-size\">\r\n",
      "                      File size\r\n",
      "                      <i class=\"fa\"></i>\r\n",
      "                  </span>\r\n",
      "              </div>\r\n",
      "              <div id=\"last_modified\" class=\"pull-right sort_button\">\r\n",
      "                  <span class=\"btn btn-xs btn-default sort-action\" id=\"last-modified\">\r\n",
      "                      Last Modified\r\n",
      "                      <i class=\"fa\"></i>\r\n",
      "                  </span>\r\n",
      "              </div>\r\n",
      "              <div id=\"sort_name\" class=\"pull-right sort_button\">\r\n",
      "                  <span class=\"btn btn-xs btn-default sort-action\" id=\"sort-name\">\r\n",
      "                      Name\r\n",
      "                      <i class=\"fa fa-arrow-down\"></i>\r\n",
      "                  </span>\r\n",
      "              </div>\r\n",
      "            </div>\r\n",
      "          </div>\r\n",
      "        </div>\r\n",
      "        <div id=\"running\" class=\"tab-pane\">\r\n",
      "          <div id=\"running_toolbar\" class=\"row\">\r\n",
      "            <div class=\"col-sm-8 no-padding\">\r\n",
      "              <span id=\"running_list_info\">Currently running Jupyter processes</span>\r\n",
      "            </div>\r\n",
      "            <div class=\"col-sm-4 no-padding tree-buttons\">\r\n",
      "              <span id=\"running_buttons\" class=\"pull-right\">\r\n",
      "              <button id=\"refresh_running_list\" title=\"Refresh running list\" aria-label=\"Refresh running list\" class=\"btn btn-default btn-xs\"><i class=\"fa fa-refresh\"></i></button>\r\n",
      "              </span>\r\n",
      "            </div>\r\n",
      "          </div>\r\n",
      "          <div class=\"panel-group\" id=\"accordion\" >\r\n",
      "            <div class=\"panel panel-default\">\r\n",
      "              <div class=\"panel-heading\">\r\n",
      "                <a data-toggle=\"collapse\" data-target=\"#collapseOne\" href=\"#\">\r\n",
      "                  Terminals\r\n",
      "                </a>\r\n",
      "              </div>\r\n",
      "              <div id=\"collapseOne\" class=\" collapse in\">\r\n",
      "                <div class=\"panel-body\">\r\n",
      "                  <div id=\"terminal_list\">\r\n",
      "                    <div id=\"terminal_list_header\" class=\"row list_placeholder\">\r\n",
      "                    \r\n",
      "                      <div> There are no terminals running. </div>\r\n",
      "                    \r\n",
      "                    </div>\r\n",
      "                  </div>\r\n",
      "                </div>\r\n",
      "              </div>\r\n",
      "            </div>\r\n",
      "            <div class=\"panel panel-default\">\r\n",
      "              <div class=\"panel-heading\">\r\n",
      "                <a data-toggle=\"collapse\" data-target=\"#collapseTwo\" href=\"#\">\r\n",
      "                  Notebooks\r\n",
      "                </a>\r\n",
      "              </div>\r\n",
      "              <div id=\"collapseTwo\" class=\" collapse in\">\r\n",
      "                <div class=\"panel-body\">\r\n",
      "                  <div id=\"running_list\">\r\n",
      "                    <div id=\"running_list_placeholder\" class=\"row list_placeholder\">\r\n",
      "                      <div> There are no notebooks running. </div>\r\n",
      "                    </div>\r\n",
      "                  </div>\r\n",
      "                </div>\r\n",
      "              </div>\r\n",
      "            </div>\r\n",
      "          </div>\r\n",
      "        </div>\r\n",
      "        <div id=\"clusters\" class=\"tab-pane\">\r\n",
      "          Clusters tab is now provided by IPython parallel.\r\n",
      "          See '<a href=\"https://github.com/ipython/ipyparallel\">IPython parallel</a>' for installation details.\r\n",
      "        </div>\r\n",
      "      </div><!-- class:tab-content -->\r\n",
      "    </div><!-- id:tab_content -->\r\n",
      "  </div><!-- ipython-main-app  -->\r\n",
      "\r\n",
      "\r\n",
      "</div>\r\n",
      "\r\n",
      "\r\n",
      "\r\n",
      "\r\n",
      "\r\n",
      "    \r\n",
      "\r\n",
      "\r\n",
      "\r\n",
      "<script src=\"/static/tree/js/main.min.js?v=4139e87e4344862dcb29f94ad26c84cd\" type=\"text/javascript\" charset=\"utf-8\"></script>\r\n",
      "\r\n",
      "\r\n",
      "<script type='text/javascript'>\r\n",
      "  function _remove_token_from_url() {\r\n",
      "    if (window.location.search.length <= 1) {\r\n",
      "      return;\r\n",
      "    }\r\n",
      "    var search_parameters = window.location.search.slice(1).split('&');\r\n",
      "    for (var i = 0; i < search_parameters.length; i++) {\r\n",
      "      if (search_parameters[i].split('=')[0] === 'token') {\r\n",
      "        // remote token from search parameters\r\n",
      "        search_parameters.splice(i, 1);\r\n",
      "        var new_search = '';\r\n",
      "        if (search_parameters.length) {\r\n",
      "          new_search = '?' + search_parameters.join('&');\r\n",
      "        }\r\n",
      "        var new_url = window.location.origin + \r\n",
      "                      window.location.pathname + \r\n",
      "                      new_search + \r\n",
      "                      window.location.hash;\r\n",
      "        window.history.replaceState({}, \"\", new_url);\r\n",
      "        return;\r\n",
      "      }\r\n",
      "    }\r\n",
      "  }\r\n",
      "  _remove_token_from_url();\r\n",
      "</script>\r\n",
      "</body>\r\n",
      "\r\n",
      "</html>\r",
      "-                   100%[===================>]  14.83K  --.-KB/s    in 0s      \r\n",
      "\r\n",
      "2018-06-04 15:45:12 (31.0 MB/s) - written to stdout [15181/15181]\r\n",
      "\r\n"
     ]
    }
   ],
   "source": [
    "!wget -O - http://172.17.0.2:8888"
   ]
  },
  {
   "cell_type": "markdown",
   "metadata": {
    "lc_cell_meme": {
     "current": "e4b516a0-64c4-11e8-8364-0242ac110002",
     "history": [
      {
       "current": "e4b516a0-64c4-11e8-8364-0242ac110002",
       "next": null,
       "previous": "60f9c33a-64c2-11e8-8364-0242ac110002"
      },
      {
       "current": "e4b516a0-64c4-11e8-8364-0242ac110002",
       "next": "2c39c11a-64c5-11e8-8364-0242ac110002",
       "previous": "60f9c33a-64c2-11e8-8364-0242ac110002"
      },
      {
       "current": "e4b516a0-64c4-11e8-8364-0242ac110002",
       "next": "a4cbac42-67bd-11e8-b836-0242ac110002",
       "previous": "60f9c33a-64c2-11e8-8364-0242ac110002"
      }
     ],
     "next": "33d80336-67be-11e8-b836-0242ac110002",
     "previous": "60f9c33a-64c2-11e8-8364-0242ac110002"
    }
   },
   "source": [
    "302Foundで2回飛ばされて、ログインページに行って、htmlをもらえた。動いているのを確認できた。"
   ]
  },
  {
   "cell_type": "markdown",
   "metadata": {
    "lc_cell_meme": {
     "current": "33d80336-67be-11e8-b836-0242ac110002",
     "next": "33d8053e-67be-11e8-b836-0242ac110002",
     "previous": "e4b516a0-64c4-11e8-8364-0242ac110002"
    }
   },
   "source": [
    "システムの負荷状態を記録しておく。"
   ]
  },
  {
   "cell_type": "code",
   "execution_count": 40,
   "metadata": {
    "deletable": false,
    "editable": false,
    "lc_cell_meme": {
     "current": "33d8053e-67be-11e8-b836-0242ac110002",
     "next": "a4cbac42-67bd-11e8-b836-0242ac110002",
     "previous": "33d80336-67be-11e8-b836-0242ac110002"
    },
    "pinned_outputs": [
     {
      "execution_count": 40,
      "outputs": [
       {
        "name": "stdout",
        "output_type": "stream",
        "text": "[[datetime.datetime(2018, 6, 4, 15, 33, 6, 58195, tzinfo=datetime.timezone(datetime.timedelta(0, 32400), 'JST')), 0.08, 0.04, 0.08], [datetime.datetime(2018, 6, 4, 15, 35, 46, 826019, tzinfo=datetime.timezone(datetime.timedelta(0, 32400), 'JST')), 1.74, 0.68, 0.31], [datetime.datetime(2018, 6, 4, 15, 45, 12, 514911, tzinfo=datetime.timezone(datetime.timedelta(0, 32400), 'JST')), 0.0, 0.09, 0.15]]\n"
       }
      ]
     }
    ],
    "run_through_control": {
     "frozen": true
    }
   },
   "outputs": [
    {
     "name": "stdout",
     "output_type": "stream",
     "text": [
      "[[datetime.datetime(2018, 6, 4, 15, 33, 6, 58195, tzinfo=datetime.timezone(datetime.timedelta(0, 32400), 'JST')), 0.08, 0.04, 0.08], [datetime.datetime(2018, 6, 4, 15, 35, 46, 826019, tzinfo=datetime.timezone(datetime.timedelta(0, 32400), 'JST')), 1.74, 0.68, 0.31], [datetime.datetime(2018, 6, 4, 15, 45, 12, 514911, tzinfo=datetime.timezone(datetime.timedelta(0, 32400), 'JST')), 0.0, 0.09, 0.15]]\n"
     ]
    }
   ],
   "source": [
    "uptime_str = !uptime\n",
    "uptime_clumn = parse.parse(\"{}load average: {:g}, {:g}, {:g}\", uptime_str[0])\n",
    "uptime_clumn = list(uptime_clumn)[1:]\n",
    "uptime_clumn.insert(0, datetime.datetime.now(JST))\n",
    "uptime_list.append(uptime_clumn)\n",
    "print(uptime_list)"
   ]
  },
  {
   "cell_type": "markdown",
   "metadata": {
    "lc_cell_meme": {
     "current": "a4cbac42-67bd-11e8-b836-0242ac110002",
     "history": [
      {
       "current": "a4cbac42-67bd-11e8-b836-0242ac110002",
       "next": "2c39c11a-64c5-11e8-8364-0242ac110002",
       "previous": "e4b516a0-64c4-11e8-8364-0242ac110002"
      },
      {
       "current": "a4cbac42-67bd-11e8-b836-0242ac110002",
       "next": "ec517092-67bd-11e8-b836-0242ac110002",
       "previous": "e4b516a0-64c4-11e8-8364-0242ac110002"
      }
     ],
     "next": "ec517092-67bd-11e8-b836-0242ac110002",
     "previous": "33d8053e-67be-11e8-b836-0242ac110002"
    }
   },
   "source": [
    "# 調査作業時のシステムの負荷状態を確認する"
   ]
  },
  {
   "cell_type": "markdown",
   "metadata": {
    "lc_cell_meme": {
     "current": "ec517092-67bd-11e8-b836-0242ac110002",
     "next": "ec5171fa-67bd-11e8-b836-0242ac110002",
     "previous": "a4cbac42-67bd-11e8-b836-0242ac110002"
    }
   },
   "source": [
    "各作業終了時に[uptime](https://ja.wikipedia.org/wiki/Uptime)の結果をuptime_listに保存してきた。"
   ]
  },
  {
   "cell_type": "code",
   "execution_count": 41,
   "metadata": {
    "deletable": false,
    "editable": false,
    "lc_cell_meme": {
     "current": "ec5171fa-67bd-11e8-b836-0242ac110002",
     "next": "ec5172a4-67bd-11e8-b836-0242ac110002",
     "previous": "ec517092-67bd-11e8-b836-0242ac110002"
    },
    "pinned_outputs": [
     {
      "execution_count": 41,
      "outputs": [
       {
        "name": "stdout",
        "output_type": "stream",
        "text": "[[datetime.datetime(2018, 6, 4, 15, 33, 6, 58195, tzinfo=datetime.timezone(datetime.timedelta(0, 32400), 'JST')), 0.08, 0.04, 0.08], [datetime.datetime(2018, 6, 4, 15, 35, 46, 826019, tzinfo=datetime.timezone(datetime.timedelta(0, 32400), 'JST')), 1.74, 0.68, 0.31], [datetime.datetime(2018, 6, 4, 15, 45, 12, 514911, tzinfo=datetime.timezone(datetime.timedelta(0, 32400), 'JST')), 0.0, 0.09, 0.15]]\n"
       }
      ]
     }
    ],
    "run_through_control": {
     "frozen": true
    }
   },
   "outputs": [
    {
     "name": "stdout",
     "output_type": "stream",
     "text": [
      "[[datetime.datetime(2018, 6, 4, 15, 33, 6, 58195, tzinfo=datetime.timezone(datetime.timedelta(0, 32400), 'JST')), 0.08, 0.04, 0.08], [datetime.datetime(2018, 6, 4, 15, 35, 46, 826019, tzinfo=datetime.timezone(datetime.timedelta(0, 32400), 'JST')), 1.74, 0.68, 0.31], [datetime.datetime(2018, 6, 4, 15, 45, 12, 514911, tzinfo=datetime.timezone(datetime.timedelta(0, 32400), 'JST')), 0.0, 0.09, 0.15]]\n"
     ]
    }
   ],
   "source": [
    "print(uptime_list)"
   ]
  },
  {
   "cell_type": "markdown",
   "metadata": {
    "lc_cell_meme": {
     "current": "ec5172a4-67bd-11e8-b836-0242ac110002",
     "next": "ec517376-67bd-11e8-b836-0242ac110002",
     "previous": "ec5171fa-67bd-11e8-b836-0242ac110002"
    }
   },
   "source": [
    "これをグラフ化する。"
   ]
  },
  {
   "cell_type": "code",
   "execution_count": 42,
   "metadata": {
    "deletable": false,
    "editable": false,
    "lc_cell_meme": {
     "current": "ec517376-67bd-11e8-b836-0242ac110002",
     "next": "ec517402-67bd-11e8-b836-0242ac110002",
     "previous": "ec5172a4-67bd-11e8-b836-0242ac110002"
    },
    "run_through_control": {
     "frozen": true
    }
   },
   "outputs": [],
   "source": [
    "import pandas\n",
    "import matplotlib"
   ]
  },
  {
   "cell_type": "code",
   "execution_count": 43,
   "metadata": {
    "deletable": false,
    "editable": false,
    "lc_cell_meme": {
     "current": "ec517402-67bd-11e8-b836-0242ac110002",
     "next": "ec51747a-67bd-11e8-b836-0242ac110002",
     "previous": "ec517376-67bd-11e8-b836-0242ac110002"
    },
    "run_through_control": {
     "frozen": true
    }
   },
   "outputs": [],
   "source": [
    "%matplotlib inline"
   ]
  },
  {
   "cell_type": "code",
   "execution_count": 44,
   "metadata": {
    "deletable": false,
    "editable": false,
    "lc_cell_meme": {
     "current": "ec51747a-67bd-11e8-b836-0242ac110002",
     "next": "ec5174e8-67bd-11e8-b836-0242ac110002",
     "previous": "ec517402-67bd-11e8-b836-0242ac110002"
    },
    "pinned_outputs": [
     {
      "execution_count": 44,
      "outputs": [
       {
        "data": {
         "text/html": "<div>\n<style scoped>\n    .dataframe tbody tr th:only-of-type {\n        vertical-align: middle;\n    }\n\n    .dataframe tbody tr th {\n        vertical-align: top;\n    }\n\n    .dataframe thead th {\n        text-align: right;\n    }\n</style>\n<table border=\"1\" class=\"dataframe\">\n  <thead>\n    <tr style=\"text-align: right;\">\n      <th></th>\n      <th>1m</th>\n      <th>5m</th>\n      <th>15m</th>\n    </tr>\n    <tr>\n      <th>date</th>\n      <th></th>\n      <th></th>\n      <th></th>\n    </tr>\n  </thead>\n  <tbody>\n    <tr>\n      <th>2018-06-04 15:33:06.058195+09:00</th>\n      <td>0.08</td>\n      <td>0.04</td>\n      <td>0.08</td>\n    </tr>\n    <tr>\n      <th>2018-06-04 15:35:46.826019+09:00</th>\n      <td>1.74</td>\n      <td>0.68</td>\n      <td>0.31</td>\n    </tr>\n    <tr>\n      <th>2018-06-04 15:45:12.514911+09:00</th>\n      <td>0.00</td>\n      <td>0.09</td>\n      <td>0.15</td>\n    </tr>\n  </tbody>\n</table>\n</div>",
         "text/plain": "                                    1m    5m   15m\ndate                                              \n2018-06-04 15:33:06.058195+09:00  0.08  0.04  0.08\n2018-06-04 15:35:46.826019+09:00  1.74  0.68  0.31\n2018-06-04 15:45:12.514911+09:00  0.00  0.09  0.15"
        },
        "execution_count": 44,
        "metadata": {},
        "output_type": "execute_result"
       }
      ]
     }
    ],
    "run_through_control": {
     "frozen": true
    }
   },
   "outputs": [
    {
     "data": {
      "text/html": [
       "<div>\n",
       "<style scoped>\n",
       "    .dataframe tbody tr th:only-of-type {\n",
       "        vertical-align: middle;\n",
       "    }\n",
       "\n",
       "    .dataframe tbody tr th {\n",
       "        vertical-align: top;\n",
       "    }\n",
       "\n",
       "    .dataframe thead th {\n",
       "        text-align: right;\n",
       "    }\n",
       "</style>\n",
       "<table border=\"1\" class=\"dataframe\">\n",
       "  <thead>\n",
       "    <tr style=\"text-align: right;\">\n",
       "      <th></th>\n",
       "      <th>1m</th>\n",
       "      <th>5m</th>\n",
       "      <th>15m</th>\n",
       "    </tr>\n",
       "    <tr>\n",
       "      <th>date</th>\n",
       "      <th></th>\n",
       "      <th></th>\n",
       "      <th></th>\n",
       "    </tr>\n",
       "  </thead>\n",
       "  <tbody>\n",
       "    <tr>\n",
       "      <th>2018-06-04 15:33:06.058195+09:00</th>\n",
       "      <td>0.08</td>\n",
       "      <td>0.04</td>\n",
       "      <td>0.08</td>\n",
       "    </tr>\n",
       "    <tr>\n",
       "      <th>2018-06-04 15:35:46.826019+09:00</th>\n",
       "      <td>1.74</td>\n",
       "      <td>0.68</td>\n",
       "      <td>0.31</td>\n",
       "    </tr>\n",
       "    <tr>\n",
       "      <th>2018-06-04 15:45:12.514911+09:00</th>\n",
       "      <td>0.00</td>\n",
       "      <td>0.09</td>\n",
       "      <td>0.15</td>\n",
       "    </tr>\n",
       "  </tbody>\n",
       "</table>\n",
       "</div>"
      ],
      "text/plain": [
       "                                    1m    5m   15m\n",
       "date                                              \n",
       "2018-06-04 15:33:06.058195+09:00  0.08  0.04  0.08\n",
       "2018-06-04 15:35:46.826019+09:00  1.74  0.68  0.31\n",
       "2018-06-04 15:45:12.514911+09:00  0.00  0.09  0.15"
      ]
     },
     "execution_count": 44,
     "metadata": {},
     "output_type": "execute_result"
    }
   ],
   "source": [
    "df = pandas.DataFrame(uptime_list, columns=[\"date\", \"1m\", \"5m\", \"15m\"])\n",
    "df = df.set_index(\"date\")\n",
    "df"
   ]
  },
  {
   "cell_type": "code",
   "execution_count": 45,
   "metadata": {
    "deletable": false,
    "editable": false,
    "lc_cell_meme": {
     "current": "ec5174e8-67bd-11e8-b836-0242ac110002",
     "next": "2c39c11a-64c5-11e8-8364-0242ac110002",
     "previous": "ec51747a-67bd-11e8-b836-0242ac110002"
    },
    "pinned_outputs": [
     {
      "execution_count": 45,
      "outputs": [
       {
        "data": {
         "text/plain": "<matplotlib.axes._subplots.AxesSubplot at 0x7f13c206bc50>"
        },
        "execution_count": 45,
        "metadata": {},
        "output_type": "execute_result"
       },
       {
        "data": {
         "image/png": "iVBORw0KGgoAAAANSUhEUgAAAX4AAAEJCAYAAACT/UyFAAAABHNCSVQICAgIfAhkiAAAAAlwSFlzAAALEgAACxIB0t1+/AAAADl0RVh0U29mdHdhcmUAbWF0cGxvdGxpYiB2ZXJzaW9uIDIuMi4yLCBodHRwOi8vbWF0cGxvdGxpYi5vcmcvhp/UCwAAIABJREFUeJzt3Xd8FWX2+PHPSQ9pECCUBEgApYYSIkhVrBQpFpBiW7srsrJf96e76+7a1rKurmLHsogrIDZEDaKgSJASAgSklwSS0AIJJEBIvc/vj7khAdO5yb3JPe/XK68kM3PnHpjcMzPneeZ5xBiDUkop9+Hh7ACUUkrVL038SinlZjTxK6WUm9HEr5RSbkYTv1JKuRlN/Eop5WY08SullJvRxK+UUm5GE79SSrkZL2cHUJ4WLVqYyMhIZ4ehlFINxvr1648ZY1pWZ1uXTPyRkZEkJiY6OwyllGowRGR/dbfVUo9SSrkZTfxKKeVmNPErpZSbqbLGLyIfANcBGcaYnuWs/xMwtcz+ugEtjTFZIrIPOAkUA0XGmFhHBa6UUucrLCwkPT2dvLw8Z4dSZ/z8/IiIiMDb27vW+6hO4+5s4HVgTnkrjTEvAi8CiMgYYIYxJqvMJsONMcdqHaFSSlVTeno6QUFBREZGIiLODsfhjDFkZmaSnp5OVFRUrfdTZanHGLMCyKpqO7vJwLxaR6OUUhcgLy+P5s2bN8qkDyAiNG/e/ILvaBxW4xeRJsAI4PMyiw3wvYisF5F7q3j9vSKSKCKJR48edVRYbmvV3mP854dd5BUWOzsUpepVY036JRzx73Nk4+4Y4JfzyjxDjDExwEjgQREZVtGLjTGzjDGxxpjYli2r9QyCqoAxhicWbeXVZbsZ/8Yv7D16ytkhKaVciCMT/yTOK/MYYw7Yv2cAXwL9Hfh+qgIbUk+w68gpJvSL4EhOHmNfW8lXSQecHZZSbuHOO+8kLCyMnj1/0xfGZTgk8YtICHAZ8FWZZQEiElTyM3ANsMUR76cqNy8hlQAfT54Y24O4PwylW5tg/jA/ib98+auWfpSqY3fccQffffeds8OoVJWJX0TmAauBLiKSLiJ3icj9InJ/mc2uB743xpwus6wVsFJENgEJwLfGGNf+32gEcvIK+WbzQcb2CSfA14s2If7Mu/dS7r+sE3PXpnL9m6tI1tKPUnVm2LBhhIaGnrPs8ssvZ8aMGcTGxtKtWzfWrVvHDTfcwEUXXcTjjz9e7zFW2Z3TGDO5GtvMxur2WXZZMtC7toGp2vlq4wHyCm1M6d/+7DJvTw8eG9mVAVGhzFiQxJjXVvLcjb0Y27utEyNVqm49+fVWth3Mceg+u7cN5h9jetTqtT4+PiQmJvLqq68ybtw41q9fT2hoKJ06dWLGjBk0b97cobFWRp/cbUSMMcxNSKNH22CiI0J+s3541zDipg+la5tgps/byF+19KNUvRk7diwA0dHR9OjRgzZt2uDr60vHjh1JS0ur11hccnROVTub07PZfiiHZ8ZX3KjUtqk/8++9lH9/v5N3fk5mQ+oJ3pwaQ1SLgHqMVKm6V9sr87ri6+sLgIeHx9mfS34vKiqq11j0ir8Rmb8uFX9vT8b1qbyE4+3pwZ9HduODO2I5lH2GMa+t5OtNB+spSqWUs2nibyRO5RfxVdJBxvRuQ5Bf9cbwuKJrK76dPpSLWwXy0LyNPL5QSz9KXajJkyczcOBAdu7cSUREBO+//76zQ/oNMcY4O4bfiI2NNToRS83MS0jlz1/8yhe/H0RM+2Y1em1hsY1/L9nJOyuS6d4mmDenxhCppR/VAG3fvp1u3bo5O4w6V96/U0TWV3cgTL3ibyTmJaTStXUQfds1rfFrvT09+POobrx3WywHTpzhutdW8s1mLf0o1Vhp4m8EthzIZnN6NpMuaXdB43hc1b0VcX8YykWtApk2dyN/W7hFSz9KNUKa+BuB+etS8fXy4Pq+ERe8r/Cm/iy4byD3DI3iozX7uentVezPPF31C5VSDYYm/gYut6CIrzYeZHR0G0Ka1H5ihrK8PT346+juvHtbLGlZZ7hu5kq+3XzIIftWSjmfJv4G7pvNhziZX8TkAe2r3riGru7eim+nD6FTWCAPzt3A37/aQn6Rln6Uaug08Tdw8xJS6RwWSGyHmvXkqa6IZk1YcN9A7h4SxZzV+7nxLS39KNXQaeJvwHYczmFj6okLbtStio+XB49f151Zt/YjNTOX62auZPGvWvpRqiKRkZFER0fTp08fYmNdb6pxHbKhAZufkIaPpwc3xFx4o251XNOjNd+2CWbavI088PEG7hgUyZ9HdcXXy7Ne3l+phuSnn36iRYsWzg6jXHrF30DlFRbzxYZ0RvRsTWiAT729b7vQJnx630DuGhLF7FX7uOmt1aRm5tbb+yvVULnS0Mx6xd9Axf16iJy8Iib1b1fv7+3j5cHfrutO/6hQ/vTpJkbPjOdfN/ViZHSbeo9FqQotfgwO/+rYfbaOhpHPV7mZiHDNNdcgItx3333ce6815birDM2sib+Bmp+QRmTzJgzsWH9jeJ/v2h6t6d4mmGlzN2jpR6kyVq5cSXh4OBkZGVx99dV07doVKH9oZuDs0Mwuk/hF5APgOiDDGPOb8X5F5HKsKRdT7Iu+MMY8ZV83AngV8ATeM8ZUfapUVdqTcZKEfVk8NrJrnTbqVke70CZ8ev8gnl+8gw9+SWFj6nFenxJDu9AmTo1LqepcmdeV8PBwAMLCwrj++utJSEgAXGdo5urU+GcDI6rYJt4Y08f+VZL0PYE3gJFAd2CyiHS/kGCVZX5CGt6ewk396qdRtyo+Xh78fUx33r6lH8nHTjNqZjzfbTns7LCUcorTp09z8uTJsz9///33LjfxepWJ3xizAsiqxb77A3uMMcnGmAJgPjCuFvtRZeQXFfP5hnSu7t6KFoG+Vb+gHo3o2Zq46UOJahHA/f9bz5Nfb6WgyObssJSqV0eOHGHIkCH07t2b/v37M3r0aEaMqOrauX45qsY/0D6p+kHgEWPMViAcKDufWDowwEHv57aWbD3C8dxCJvd3/JO6jmCVfgby/OId/PeXfWzYr6Uf5V46duzIpk2bfrN8+fLlZ3++/PLLufzyy8tdVx8c0Z1zA9DBGNMbeA1YWJudiMi9IpIoIolHjx51QFiN07y1qbQL9WdwJ9fsHwzg6+XJP8b04O1bYkg+dprRM+NZslVLP0q5igtO/MaYHGPMKfvPcYC3iLQADgBl+xpG2JdVtJ9ZxphYY0xsy5YtLzSsRinl2GlWJ2cy6ZL2eHg4t1G3Okb0bMO3Dw0lskUA9320nqe/2aalH6VcwAUnfhFpLfauJSLS377PTGAdcJGIRImIDzAJWHSh7+fO5q9LxdNDmOAijbrV0b65Vfq5Y1Ak769MYcI7q0nL0ge+lHKmKhO/iMwDVgNdRCRdRO4SkftF5H77JjcBW+w1/pnAJGMpAqYBS4DtwAJ77V/VQkGRjc/Xp3Nl1zDCgv2cHU6N+Hp58sTYHrw1NYbkjFOMnhnP91r6UcppqmzcNcZMrmL968DrFayLA+JqF5oqa+n2Ixw7VVAnwy/Xl5HRbejeNphpczdy70fruWtIFI+O6IqPl44colR90k9cAzEvIZXwpv4Mu6hht390aB7AZw8M5PaBHXh/ZQoT31lN+nEt/ShVnzTxNwBpWbnE7z7GxNh2eDaARt2q+Hp58uS4nrw5NYa9GacYPXMlS7cdcXZYSjnEnXfeSVhY2DkPbT3xxBOEh4fTp08f+vTpQ1yccwshmvgbgE/WpeEhMPGShtOoWx2jotvw9UNDiGjmz91zEvnnt9soLNZeP6phu+OOO/juu+9+s3zGjBkkJSWRlJTEqFGjnBBZKR2kzcUVFdtYkJjG8C5htAnxd3Y4DhfZIoDPHxjEs3HbeTc+hcT9x3ltcl8imukDX6phGjZsGPv27avWtrNnz2bhwoWcPn2a3bt388gjj1BQUMBHH32Er68vcXFxhIaGOjxGTfwu7scdGWSczGeSiz6p6wh+3p48Na4nA6Ka8+jnmxk9cyUvTejNVd1bOTs01YC9kPACO7J2OHSfXUO78mj/R2v12tdff505c+YQGxvLSy+9RLNm1nSpW7ZsYePGjeTl5dG5c2deeOEFNm7cyIwZM5gzZw4PP/ywI/8JgJZ6XN68hFRaBfsyvEvDbtStjtG92vBNmdLPs3HbtfSjGoUHHniAvXv3kpSURJs2bfi///u/s+uGDx9OUFAQLVu2JCQkhDFjxgDW0M3VvXOoKb3id2EHTpzh511HeXB4Z7w83eMcXVL6eebbbcxakUzivixemxJDeNPGV+ZSdau2V+Z1oVWr0rvXe+65h+uuu+7s7+cPz1x26Oa6GqrZPbJJA7VgXRoGmBhb/7NsOZOftyfPjI/mtcl92XXEeuBr2Xbt9aMarkOHDp39+csvv3T6MM16xe+iim2GBYlpDL2opduObDmmd1t6hofw4McbuOvDRO4b1pFHru2Ct5vc/aiGafLkySxfvpxjx44RERHBk08+yfLly0lKSkJEiIyM5J133nFqjGKMcWoA5YmNjTWJiYnODsOpftxxhDtnJ/L2LTGM6Onec9nmFRbzzLfb+N+aVPp1aMZrk/vSVks/qhzbt2+nW7duzg6jzpX37xSR9caY2Oq8Xi+dXNTctWm0CPTlym7as6Wk9DNzcl92HMph1Mx4ftqR4eywlGqwNPG7oMPZefy0M4MJsRFa1ihjbO+2fDN9KG1C/Pnd7HU8v3iH9vpRqhY0q7igTxPTKLYZJl3iXo261RHVIoAvfz+IKQPa8/bPe5k8aw0HT5xxdljKhbhi+dqRHPHv08TvYmw2w/x1aQzu3JwOzQOcHY5L8vP25Nnro3l1Uh+2H8phtJZ+lJ2fnx+ZmZmNNvkbY8jMzMTP78KGZtdePS4mfs8xDpw4w2Mjuzo7FJc3rk840eEh/P7jDfxu9jruv6wTj1xzsds886B+KyIigvT0dBrz9K1+fn5ERFzYuF2a+F3M/IRUQgN8uKaHNupWR8eWgSx8cDBPfr2Nt3/ey/r9Wcyc3LdRjmukqubt7U1UVJSzw3B5emnkQo6ezOeHbUe4MSYcXy9PZ4fTYPh5e/LcDVbpZ+vBHEbPXMnynVr6Uaoi1Zl68QMRyRCRLRWsnyoim0XkVxFZJSK9y6zbZ1+eJCLu3TG/Gj5bn06RzTTqAdnq0rg+4Xz90BDCgny547/r+Nd3OyjSXj9K/UZ1rvhnAyMqWZ8CXGaMiQaeBmadt364MaZPdR8scFdWo24q/aNC6dQy0NnhNFid7KWfyf3b8ebyvUx+dw2Hs/OcHZZSLqXKxG+MWQFkVbJ+lTHmuP3XNUDjmi2knqxJzmR/Zi5T9Gr/glmln168crNV+hk1M56fdzXexj6lasrRNf67gMVlfjfA9yKyXkTureyFInKviCSKSGJjbpGvyNyEVEL8vRnRs7WzQ2k0xvcNZ9G0IbQM9OX2DxJ4cYmWfpQCByZ+ERmOlfjLjoU6xBgTA4wEHhSRYRW93hgzyxgTa4yJbdmy8Y89X1bmqXy+33qEG2LC8fPWRl1H6hxmlX5ujm3HGz/tZcp7azmSo6Uf5d4ckvhFpBfwHjDOGJNZstwYc8D+PQP4EujviPdrbL7YcICCYhuTtcxTJ/x9PHnhpl68PLE3v6ZnM+rVeFZo6Ue5sQtO/CLSHvgCuNUYs6vM8gARCSr5GbgGKLdnkDszxjBvnTXq5MWtgpwdTqN2Q0wEXz80mBaBvtz+3wT+vWSnln6UW6pOd855wGqgi4iki8hdInK/iNxv3+TvQHPgzfO6bbYCVorIJiAB+NYY89up591cQkoWyUdP67g89aRzWBALHxzMxH7teP2nPUzV0o9yQzoev5PN+CSJpduPkPCXq/D30fp+ffp8fTqPL9xCEx9PXpnUh6EXuVfbkmpcdDz+BuJEbgHf/nqI8X3CNek7wY39Ilg0bTChAT7c9kECL3+/k2Kb610IKeVomvid6MuNBygo0kZdZ7qoVRBfTRvMTTERzPxxD1PfW0OGln5UI6eJ30mMMcxLSKV3u6Z0bxvs7HDcWhMfL16c0Jt/T+jNprRsRs2MZ+XuY84OS6k6o4nfSTaknmDXkVNM1kZdl3GTvfTTrIkPt36wlpd/2KWlH9UoaeJ3knkJqQT4eDKmd1tnh6LKKCn93NA3gpnLdnPLe2u19KMaHU38TpCTV8g3mw8ytk84Ab46JYKraeLjxUsTe/PiTb3YmHacUTNX8sseLf2oxkMTvxN8tfEAeYU2HZDNxU2IbceiaUNo2sSbW95fy3+09KMaCU389cwYw9yENHq0DSY6IsTZ4agqXNwqiEXTBnN933BeXbabW99fS8ZJLf2ohk0Tfz3bnJ7N9kM52oWzAWni48XLE/vw4k292JB6nFGvrmSVln5UA6aJv57NS0jF39uTcX20UbehmRDbjq8eHEKIvxdT31/LK0u19KMaJk389ehUfhGLNh1kTO82BPl5OzscVQtdWgexaNoQxvcJ55Wlu7ntg7UcPZnv7LCUqhFN/PVoUdJBcguKdU7dBi7A14uXJ/bmXzf2InHfcUbNjGfVXi39qIZDE389mr8ula6tg+jbrqmzQ1EXSESYeEk7vpo2mGA/L255by2vLt2tpR/VIGjirydbDmSzOT2bSZe0Q0ScHY5ykK6tg1k0bQhje7flP0t3cfsHCVr6US5PE389mb8uFV8vD67vq3PRNzYBvl785+Y+vHBjNOv2ZTFqZjyr92ZW/UKlnEQTfz3ILShi4caDjI5uQ0gTbdRtjESEmy9pz8IHBxPk68XU99bw2jIt/SjXVK3ELyIfiEiGiJQ7daJYZorIHhHZLCIxZdbdLiK77V+3OyrwhuSbzYc4lV/E5AHaqNvYdWsTzKKHhjCmd1te+mEXd/w3gWOntPSjXEt1r/hnAyMqWT8SuMj+dS/wFoCIhAL/AAZgTbT+DxFpVttgG6p5Cal0DgsktoPb/dPdUqCvF6/c3Ifnb4gmISWLUa/GsyZZSz/KdVQr8RtjVgBZlWwyDphjLGuApiLSBrgW+MEYk2WMOQ78QOUnkEZnx+EcNqae0EZdNyMiTOpvlX4Cfb2Y8u4aXv9xNzYt/SgX4KgafziQVub3dPuyipa7jfkJafh4enBDjDbquqOS0s91vdry7+93cbuWfpQLcJnGXRG5V0QSRSTx6NGjzg7HIfIKi/liQzojerYmNMDH2eEoJwn09eLVSX149vpo1qZkMXpmPGu19KOcyFGJ/wBQdiqpCPuyipb/hjFmljEm1hgT27JlSweF5Vxxvx4iJ6+ISf11li13JyJMGdCehb8fTBMfLya/u4Y3ftqjpR/lFI5K/IuA2+y9ey4Fso0xh4AlwDUi0szeqHuNfZlbmJ+QRmTzJgzs2NzZoSgX0b1tMF8/NITRvdry4pKd3DF7HZla+lH1rLrdOecBq4EuIpIuIneJyP0icr99kzggGdgDvAv8HsAYkwU8Dayzfz1lX9bo7ck4ScK+LCb1b6+Nuuocgb5ezJzUh39e35M1yZmMmhlPQopbfCyUi6jWvH/GmMlVrDfAgxWs+wD4oOahNWzzE9Lw9hRu6qeNuuq3RISpAzrQp11THvx4A5PfXcMfr76YBy7rhIeHXiiouuUyjbuNSX5RMZ9vSOfq7q1oEejr7HCUC+vRNoSvHxrCyJ6teXHJTn6npR9VDzTx14ElW49wPLdQZ9lS1RLk581rk/vyzPierE7OZPTMlazbp6UfVXc08deBeWtTaRfqz+BOLZwdimogRIRbLu3AFw8Mws/bg0mz1vDW8r3a60fVCU38DpZy7DSrkzOZdEl7rdWqGusZbpV+RvRozQvf7eDOD9eRdbrA2WGpRkYTv4PNX5eKp4cwQRt1VS0F+Xnz+pS+PD2+J6v2ZDLq1XgStfSjHEgTvwMVFNn4fH06V3YNIyzYz9nhqAZMRLj10g588ftB+Hp7cPOsNbz9s5Z+lGNo4negpduPcOxUgQ6/rBymbOnn+cU7uOvDdRzX0o+6QJr4HWheQirhTf0ZdlHjGHJCuYZge+nnqXE9+GWP9cDX+v1a+lG1p4nfQdKyconffYyJse3w1EZd5WAiwm0DI/n8gUF4e3ow8Z01vKOlH1VLmvgdZP66VDwEJl6ijbqq7kRHhPDN9CFc070Vzy3ewd1zErX0o2pME78DFBbb+DQxneFdwmgT4u/scFQjF+znzZtTY3hybA9W7j7G6JnxrN9/3NlhqQZEE78D/Lgjg4yT+UzSJ3VVPRERbh8UyWcPDMTTU7j5ndXMWrEXa9gspSqnid8B5iek0irYl+FdtFFX1a9eEU355qGhXNWtFc/G7eCeOYmcyNXSj6qcJv4LdODEGZbvOsrE2HZ4eep/p6p/If7evHVLDE+M6c7Pu44yeuZKNqRq6UdVTDPVBVqwzppSeGKszrKlnEdEuGNwFJ/dPwgPD5j49mreXZGspR9VLk38F6DYZliQmMbQi1rSLrSJs8NRit7trNLPld3C+Gfcdi39qHJp4r8AP+/K4FB2HlN0Tl3lQkL8vXn7ln78Q0s/qgLVnXpxhIjsFJE9IvJYOev/IyJJ9q9dInKizLriMusWOTJ4Z5u7No0Wgb5c2a2Vs0NR6hwiwu8GR/Hp/YMQsUo/78Vr6UdZqkz8IuIJvAGMBLoDk0Wke9ltjDEzjDF9jDF9gNeAL8qsPlOyzhgz1oGxO9Xh7Dx+2pnBhNgIvLVRV7moPu2a8u1DQ7miaxjPfLude+asJzu30NlhKSerTsbqD+wxxiQbYwqA+cC4SrafDMxzRHCu7NPENIpthkmXaJlHubaQJt68c2s//n5dd37elcGomfFs1NKPW6tO4g8H0sr8nm5f9hsi0gGIAn4ss9hPRBJFZI2IjK/oTUTkXvt2iUePHq1GWM5jsxnmr0tjcOfmdGge4OxwlKqSiHDnEKv0AzDxndW8vzJFSz9uytE1iknAZ8aY4jLLOhhjYoEpwCsi0qm8FxpjZhljYo0xsS1buvaDUPF7jnHgxBkmXaJP6qqGpU+7psRNH8rlXcJ4+ptt3PeRln7cUXUS/wGgbD0jwr6sPJM4r8xjjDlg/54MLAf61jhKFzM/IZXQAB+u6aGNuqrhCWnizaxb+/H46G78uCOD0a/Fk5R2ouoXqkajOol/HXCRiESJiA9Wcv9N7xwR6Qo0A1aXWdZMRHztP7cABgPbHBG4sxw9mc8P245wY0w4vl6ezg5HqVoREe4e2pFP7x+IMTDh7VV8oKUft1Fl4jfGFAHTgCXAdmCBMWariDwlImV76UwC5ptz/3K6AYkisgn4CXjeGNOgE/9n69MpshkdkE01Cn3bN+Pb6UO47OIwntLSj9sQVzzDx8bGmsTERGeH8Rs2m2H4S8tpFezHgvsGOjscpRzGGMP7K1N4fvEOWof48caUGHq3a+rssFQNiMh6e3tqlbQDeg2sSc5kf2YuUxrC1X5RARzfDy54Yleup6T0s8Be+rnp7VXM/kVLP42Vl7MDaEjmJqQS4u/NiJ6tnR1K5U4fgznj4MgWCGwNUUMhahhEDoVmkSA6NaQqX4y99PPIp5t44uttrEnO4oWbehHi7+3s0JQDaeKvpsxT+Xy/9QhTL22Pn7cLN+qePAJzxsLxfTD8ccjYBsnL4ddPrfUh7awTQNRQ63tTfQBNnatpEx/evS2W9+JTeOG7HVz3WjxvTImhV4SWfhoLTfzV9MWGAxQU25jsymWenIPw4Rjr+9RPrat8sMo9R3fCvnhIWQG7FsOmuda6ZlH2k8Aw63uQi9/NqHohItwzrCMxHZrx0NwN3PjWKv46qhu3D4pE9I6xwdPG3WowxnDlyz/TrIkPnz8wyNnhlO9EqpX0T2daSb9DJY3PNhtkbIWUeOtksO8XyM+21rW4+Nw7goAW9RO/clnHTxfwf59u4scdGYzs2ZoXbupFsJ+WflxNTRp3NfFXw9rkTG6etYYXb+rFBFeccCUrxUr6eTlw6xcQUa1jX8pWDIc22e8I4iF1NRScstaFdS9tH4gcDP7NHB+/cnk2m+Hd+GT+tWQn4U39eWNKDNERIc4OS5Whid/BHp6/kWU7Mkj4y1X4+7hYff/YHivpF52BWxdC2z4Xvs/iQjiYBCk/WyeD1LXW/hFoHW2dCKKGQfuB4Bd84e+nGoz1+7OYNncjmacKePy6btx6aQct/bgITfwOdCK3gP7PLuPm2HY8Pb6ns8M5V8YOqyHXVgy3fQWt6yi+onw4sN66G0hZAekJUFwA4mmdaCLtvYbaXwo+OmhdY3f8dAF/XJDETzuPMiq6Nc/fqKUfV6CJ34E+WJnCU99sI276ULq3daGr28NbrC6bHp5w2yII61p/7114BtISShuLD6wHWxF4eEN4v9L2gXb9wdu//uJS9eb80s+bU2PoGa6lH2fSxO8gxhiufWUF/t6efDVtiLPDKXUwCT4aD17+cPvX0KKzc+PJPwVpa0obiw9uBGMDT18r+Zc0FofHgpePc2NVDpW4L4uH5lmln79d141btPTjNJr4HWT9/ixufGs1z98Q7Tpj86Qnwkc3gF8I3L4IQqOcHdFv5WXD/tWldwSHfwWMdaJqf2lp99G2fcFTexQ3dFn20s/ynUcZ3asNz98QTZCWfupdTRK/fuoqMS8hjQAfT8b0buvsUCz7V8PHN0FAS+tK31UfvvILgS4jrC+A3CzY/0vpHcGyp6zlPoHQYVDpHUHrXlbpSjUooQE+fHD7JbyzIpl/f7+TLQeyeWOKln5cmSb+CmSfKeSbzQe5vm8EAb4u8N+UsgLm3gzB4daVfrCLnIyqo0kodBtjfQGcOgr7V1r/ppR42P29tdwvBDoMLu0+GtYdPHQ4qYbAw0N44PJOxEY246G5G7nhzVX8bUx3bhnQXks/LsgFMpprWpR0gLxCm2sMyLZnKcyfaj1le9tXENTAJ4AJbAk9rre+AHIOwb6Vpd1Hd8ZZy/1DIXJIaffRFhfrOEMu7pLIUOL+MJQZnyTxt4VbWJucyXNa+nE5WuMvhzGGUTNX4iHw7fShTosDgJ3fwYJboUUXuG2hezxJeyKt9GGylBWQk242aUg8AAAgAElEQVQtD2xlnQhKuo+GdtQTgYuy2Qxvr9jLS9/vol0zf96YGkOPtlr6qUvauHuBNqWdYNwbv/DM+J7ccmkHp8XB9q/h099Z/fNv+cIqmbgbY+B4Smn7QEo8nDpsrQsOP3d4iWZOPFaqXAkpWTw0bwPHcwv5x5juTOmvpZ+64vDELyIjgFcBT+A9Y8zz562/A3iR0rl4XzfGvGdfdzvwuH35M8aYD6t6P2cn/sc+38xXSQdJ+OuVzrtF3fI5fH6P1S/+ls+s+reyTgTHdsM+e/vAvpWQe8xa17S9fbA5+4BzDakdpBHLPJXPjAWbWLHrKGN6t+XZ63tq6acOODTxi4gnsAu4GkjHmoN3ctkpFO2JP9YYM+2814YCiUAsYID1QD9jzPHK3tOZif9UfhH9/7mU63q14V839XZKDCTNg69+bw2JMOUT8A1yThwNgTGQsb206+i+lZBnnzg8tFPp3UDUMAgMc26sbsxmM7z1815e+n4nHZoH8PqUvlr6cTBHd+fsD+wxxiTbdz4fGEf1Jk2/FvjBGJNlf+0PwAhgXnWCc4ZFSQfJLSh2Xr/9DXNg0XQrYU2er0MgVEUEWnW3vgbcZw1fcWRLaWno189h/Wxr25Zdzy0NuWPpzEk8PIQHh3cmtkMzps/fyPVvrtLSjxNVJ/GHA2llfk8HBpSz3Y0iMgzr7mCGMSatgteG1zLWejF/XSpdWwfR1xnzjSa8C3GPQOer4Ob/6XAHteHhCW16W1+DpkFxkX3kUXtpKOljWPeutW2r6NKTQIdB4K8TjdS1AR2b8+10q9fPX7/cwtrkLJ69IZpAV+gy7UYc9b/9NTDPGJMvIvcBHwJX1GQHInIvcC9A+/bOudreciCbzenZPDGme/1fhax+A5b8BbqMggmzwcu3ft+/sfL0goh+1teQGdZcxAc32O8IVkDiB7DmTRAP62RRdsA5LbHViRaBvnz4u/68uXwPL/+wy3rga2oM3dq40FhYjVx1avwDgSeMMdfaf/8zgDHmuQq29wSyjDEhIjIZuNwYc5993TvAcmNMpaUeZ9X4H1/4K58mppPwl6sIaVKPjU/xL8OyJ6HbWLjxfR3Ppj4V5kH6utIeQ+nrwFZojTwaHlP6MFm7AeDTxNnRNjprkjOZPm8j2WcKeWJsDyZd0k5LP7Xk6MZdL6zyzZVYvXbWAVOMMVvLbNPGGHPI/vP1wKPGmEvtjbvrgRj7phuwGnezKntPZyT+3IIi+v9zGdd0b8XLNztgTPvqMAZ+fgGWPwfRE2D82zp2jbMV5ELaWntDcTwc2ACmGDx9rEHmSiauj7hE78oc5NipfGZ8kkT87mOM69OWf16vpZ/acGjjrjGmSESmAUuwunN+YIzZKiJPAYnGmEXAdBEZCxQBWcAd9tdmicjTWCcLgKeqSvrO8s3mQ5zKL2LygHoqMxljjVmz8mXoMxXGvqbj1LgCnybQabj1BZB/ElLX2IeXWAErXrRO1l5+9pFH7d1Hw2PAU7so1sb5pZ9f07X0U9f0AS6769/8hZN5RfwwY1jd32oaA98/Dqtfh353wOj/6Jg0DcWZE7B/VWn30SNbrOXeAeeOPNqmt9691cLqvZlMn7+RnDOFPDm2Bzdr6afa9MndGtpxOIcRr8Tz+Ohu3D20Y92+mc0G3z0KCbOg/70w8l867EBDdjrTPuCcvfvo0R3Wct/gc0cebRWtJ/dqOnrSKv2s3HOM6/uG88z4nq4xUKKL02GZa2h+Qho+nh7cEBNRt29ks8E3D8OGD2HgNLjmGU36DV1Ac+g+zvoCOHnEOgGUNBbv+s5a7te0dMC5yKEQ1k2PfQVaBvny4Z39eeOnPbyydBeb0k/w5tQYurbW0o+juP0Vf15hMf3/uZTLu4Qxc3LfunsjWzF8NQ02zYWhj8AVj+sH3x1kHyg9CexbASdSreVNWpw78mjzzvr3UI5Ve4/xh/lJ5Jwp5KlxPZgYq6WfiugVfw3E/XqInLwiJvWvw0lNiovgy/tgy2cw/K9w2f+ru/dSriUkHHpPsr4Aju8vbR9IiYdtC63lga1LewxFDoVmkXoiAAZ1akHc9KE8/MlGHv38V9YkZ2npxwHc/op/wturOHoyn58eubxuriSKCuDzu2D7IrjqCeshIqXAauTPSi7tOpoSD6czrHUh7c4dXsJVZ1urJ8U2w+s/7uGVZbvo2CKAN6f2o0trfcCuLG3craY9GSe56uUVPDayK/df1snxb1CUDwtuh12L4drnYODvHf8eqvEwBo7uPHfAuTP23s/Nokp7DEUNhaDWzo3VSVbtOcb0+Umcyi/kqXE9mdAvQks/dpr4q+npb7YxZ/U+Vv/5SloEOvhhnMIz1qxZe5fB6Jfgkrsdu3/V+NlskLG1tMfQvl8gP9ta1+Lic+8I3GGCHruMk3k8PD+JVXszuSHG6vXTxEdLP5r4qyGvsJiBzy1jYKfmvDm1n2N3XnAa5k2yPrBjZ0LMbY7dv3JPtmI4vLm0fSB1NRScstaFdS9tH4gcDP7NnBtrHSu2GV77cTevLttNp5aBvDk1hotbuXfpRxN/NXyVdIA/zE/io7v6M/Silo7bcf5J+HgipK2xhmDofbPj9q1UWcWFcDDJPvLoCkhdC0VnAIHW0aU9htoPBL/G2RXylz1Wr59T+YU8Pa4nE2Ldty1EE381TJ61hvQTufz8yHA8PBxUIzxzAj6+yRrf5cZ3oeeNjtmvUtVRlA8H1peWhtLWQnGBNeBc2z7njjzaiOZ5yDiZxx/mJbE6OZMbYyJ4enwPtyz9aOKvQsqx0wz/93L+dG0XHhze2TE7zc2Cj66HI1thwn+h2xjH7Fep2io8A2kJpT2GDiSCrQg8vK0pPUvaB9r1b/BzPxTbDK8u281rP+6ms730c5GblX408VfhucXbeS8+hdWPXUFYsN+F7/D0MZgzzpoL9uaP4OJrL3yfSjla/imrBFlyR3BwIxgbePraB5yzNxaHxzbYocFX7j7Gw59s5HR+MU+P78lN/er4aXwXoom/EgVFNgY+t4x+HZox67Zq/R9V7uQRmDMWju+DSXOh85UXvk+l6kNeNuxfXdp99PCvgAEv/3MHnGvbt0ENOJeRk8f0+RtZk5zFTf0ieHpcT/x9Gv/It/rkbiWWbj9C5ukCJjtiTt2cg/DhGMg5BFM/sz4oLmL38d0kZycT5BNEiG8IIT4hBPsGE+gdiIfoYGEK8AuBLiOsL7DKlftXlT5Qtuwpa7lP4LkDzrXu5dJDiIcF+/Hx3ZeeLf1sTj/BG1Pcr/RTGbe74r/1/bXszThF/KNX4HkhjbonUq2kfzoTbvnMukJysvST6SxOWUxcShx7TuwpdxsP8SDYJ5hgn2BCfK2TQbBPMCE+IdYJwjfk7LqyPwf7BOPj2TBv/1UtnTpaOvJoygrI3G0t9wuBDoNLG4vDurvsyKPxu4/y8PwkcguKeWZ8T25sxKUfLfVUIC0rl6H/+okZV13MH666qPY7ykqxkn5eDtz6BUQ4oGRUS8fOHGPJviXEpcSx+ehmAGLCYhgZNZK+YX05VXiKnPwcsguyyc7PJqcgx/qen3P255J1JwtOYqj478Hfy/+cE0F5J4fy1gV6B+rTlY1BziHraeKSieuPp1jL/UPPHXm0ZReXGmfoSE4e0+dtZG1KFhNjI3hybOMs/Wjir8CLS3bw1vK9/PLYFbQJqWUvhmN7rKRfdAZuXWh1k6tnOQU5LNu/jLiUOBIOJ2AzNro068KojqMYETmCtoFta7Vfm7FxsuDkb04K5Z04Sn7Oyc/hRP4JCmwFFe7XUzytuwzf4LMlp/JOHCV3HWW39dZZrVzXibQyI4/GQ3aatTwgrLTHUNQwCO3o9BNBUbGNV5ft5vWf9nBRmNXrp3NY4yr9ODzxi8gI4FWsqRffM8Y8f976PwJ3Y029eBS40xiz376uGPjVvmmqMWZsVe9XF4m/sNjG4Od/JDo8hPfvuKR2O8nYYSV9Y4PbF0GrHg6NsTJ5RXn8nP4zcclxxB+Ip9BWSLugdoyMGsmoqFF0aloHYw3VML7zTwqVfS/5uTp3GWXbKH5zcqjgxBHgHaB3GfXJGOsOoOQkkBIPpw5b64La2h8ms58MmnVwWpgrdh1lxidW6eef1/es+zk46pGjJ1v3xJps/WogHWv+3MnGmG1lthkOrDXG5IrIA8Dlxpib7etOGWMCa/IPqIvEv2TrYe77aD3v3hbL1d1b1XwHh7dYXTY9POG2RRDW1aHxlafQVsiag2tYnLKYZanLyC3KpaV/S66NvJZRUaPo2aJng09uxbZiThWeKvekcP4dxzl3IvnZVd5lnH/3cP6Jo+wdR9ltvD30LuOCGQOZe0rnKt63EnKPWeuati+dqzhqKATX7g61to7k5PHQvI0kpGRxc2w7nhjbo1GUfhzdq6c/sMcYk2zf+XxgHHA28Rtjfiqz/RrgluqHWz/mJ6TSKtiX4V1qMTzDwST4aDx4N4Hbv4bmdXd1bTM2NmZsZHHKYr7f9z3H848T5BPEyKiRjIwaSWyrWDxduEdFTXl6eJ5NwDWVV5RX7smhvBNHZl4mydnJZ+8yKtPEq0m57ReVnThCfENo4tWkwZ+IHUYEWlxkfV1yl3UiyNhe2nV0xzeQ9D9r29BO55aGAsPqNLRWwX7MvXsAryy1Sj9JaSd4Y2oMncNqdH3aoFUn8YcDaWV+TwcGVLL9XcDiMr/7iUgiVhnoeWPMwhpHeYEOnDjD8l1HmTa8M16eNex9kJ4IH91g9WS442trggwHM8aw8/hO4pLjWLxvMYdPH8bP04/L213OqKhRDA4frD1qyuHn5Yeflx+tAmp2B1dsK7baMipoxyjbfpFdkE3yieSz6wpthRXu10u8Km2/KLuu7DZBPkGN/y5DBFp1t74G3GeNPHrk19LS0JYvYP1sa9uWXc8debRJqMPD8fL04JFru3BJVCgzPkli7Osrefb6aMb3DXf4e7kih/bjF5FbgFjgsjKLOxhjDohIR+BHEfnVGLO3nNfeC9wL0L69A/rYl7FgnXXemljTAZz2r7bG3gloaV3pO3gyjNScVOJS4ohLiSMlOwUv8WJQ+CD+EPMHrmh3BU28mzj0/ZTF08OTpn5NaerXtEavM8aQV5xX7smhvAbwo7lH2XtiLzn5OZwsrPwuI8A74JxyVHntF+Xdcfh7+TfMuwwPD2jT2/oaNM2ape7QptIeQ0lzYd271ratoktPAh0GgX/NjltlLru4JXHThzJ93kYe/iSJNcmZPDG2B37ejeeuujzVqfEPBJ4wxlxr//3PAMaY587b7irgNeAyY0xGBfuaDXxjjPmssvd0ZI2/2GYY8sKPXNQqiDl39q/+C1NWwNybITjcash1UB0yIzeD71K+Iy4ljq2ZWxGEfq36MTJqJNd0uKbGyUg1DEW2onPvMsopR5XXAJ5dkE2RrajC/Xp5eFV6cig5gZy/LsgnCC8PF35+s7jQGuwwZYV1MkhLgKI8EPsJo+yAc74X3junqNjGf5bu4o2f9tK1dRBvTI2hU8uGVfpxdOOuF1bj7pXAAazG3SnGmK1ltukLfAaMMMbsLrO8GZBrjMkXkRbAamBc2Ybh8jgy8f+44wh3zk7k7VtiGNGzTfVetGepNYlKsygr6V9gzTE7P5sf9v/A4pTFrDu8DoOhW2g3RncczbWR19I6wD1nU1JVM8ZwpuhMhb2iKmsAP1V4qtJ9B3oH1qgBvOS7U+4yCvOsQeZK5iJIXwe2Qmvk0fCY0mcI2g0An9rfKS/fmcGMT5LIL7Lx3A3RjOvTcEo/ddGdcxTwClZ3zg+MMf8UkaeARGPMIhFZCkQDh+wvSTXGjBWRQcA7gA3wAF4xxrxf1fs5MvHf/WEiSWknWP3nK/CuTn1/53ew4FZo0QVuW1jrmY1yC3NZnracxSmLWXlwJUW2IiKDI8820kaFRNVqv0pVV8ldRtmH9Cp6gO/8UlVldxneHt4VnhQqO3E49C6jINcadrqksfjABjDF4OljDTJXMnF9xCXgVbPZ9Q5ln2H6vI2s23ecyf3b8Y8xDaP0ow9w2R3OzmPwCz9y77COPDqiGt0vt38Nn/4OWveEW76ocaNSYXEhvxz8hbiUOJanLedM0RnCmoQxMnIkozqOoltot4ZZj1VupeQuo6K7israOE4Xnq5030HeQVU2gJf3kJ+fp1/ln538k5C6pnScoUObrOdtvPzsI4/au4+Gx0A1HgosKrbx0g+7eGt5wyn9aOK3e23Zbl76YRc//+lyOjSvYuKJLZ/D5/dY45Tf8pnVi6cabMbG+iPr+Tb5W37Y/wM5BTmE+IZwTYdrGBk1kn6t+umgaMptFNoKS+8yzntwr7wTR9l1Rabyu4xyn+6uqAHcCMFHthOUvh7PfSutHkQA3gHnjjzapnelI4/+tDODP36SREGRjWddvPSjiR+w2QxD//UTkS2a8PHdVQygljQPvvq9NUXdlE+qbCwyxrAtcxtxKXF8l/IdGWcy8Pfy54r2VzAqahQD2wzUoQaUqgFjDLlFuVW2Y5TX1pFblFvpvoN8ggj2DiTECCGF+YTkniD4zAlCbDZCxIfg0I4Eh0UTEt6f4NZ9CPFrat1leFlzdRzKPsNDczeSuP84Uwa05+/XdXfJ0o8OywzE7znGgRNneGxkFSWeDXNg0XTrCmDy/EqnpEvOTmZxymIWpyxmf85+vDy8GBI+hD9F/YlhEcO0+6VStSQiBHgHEOAdQFtq1oOusLjQOhGU83R3eaWqQ/5B5OQHkZ2fTTEGig/BoUNw6Ptz9uvj4U2Ir3USCOwQRLemnnyRavjpgxDG9epMZLOW5d5xBHoHuvxDlo028c9bm0pogA/X9Kjk4Z6EdyHuEeh8Fdz8v3Knnzt8+vDZZL89azuC0L91f37X43dc1eGqWj1xqpRyHG9Pb5r7N6e5f/Mavc4Yw+nC09ZJIXMP2WmryT60gZyj28nOP0GOhwc5PmfIDiwk2y+PAD8vwsJOczwvm493/VjhfgWx7jJqMIJtyc++njVriK6tRpn4M07msXT7EX43OBJfrwrOvKvfgCV/gS6jYMLsc1r+j+cd5/t93xOXEseGjA0ARLeI5v9d8v+4NvJawprU7SPlSqm6JyIE+gQS6BNIeGA4dCjz3Onx/eeOPJpjDXlOYGtywwfx/qEI5meF0a93Z6YODiOv+FSlDeAHTh04u85mbBXGFOYfxrKJy+r4X95IE/9n69MpshkmVTTLVvzLsOxJ6DYWbnwfvHw4XXiaH1N/JC4ljjUH11BkiugY0pFpfaYxMmok7YMd+zSxUsqFNetgffW9xRpnKCv5bI+hJinxPHQ6g4e8IH1LC7bv7k2foWNoGX1VlU/324yN04WnKxzJtr40usZdm80w/KXltAr2Y8F9A89daQz8/AIsfw6iJ1AwZibxh1ezOGUxP6f9TF5xHm0C2jAiagSjo0ZzcbOLtfulUupcxsCxXZCygozNP+Cdvopm2IfkaBZV2mMoaigE1d/DmW7duLs6OZP9mbnMuOric1cYA8ueonjlyyT0HMXiVm1Y+tlVnCw8STPfZozrPI5RUaPoE9ZHu18qpSomYs0y1rILYf3v4cDx0zz10Zc0PbKGicUpdN26ENkwx9q2xcXnDjhXywdCHa3RJf55CamE+HszomfpmdbYbPz67TTiUuJY0rEzx05vocn+ZK7qcBUjo0YyoM2Axj86olKqToQ3C+BfD07h30v6MXJFMj1bBzBrnC9tj6+zykObP4FE+4AFYd1Lh5eIHAz+zZwSc6Mq9WSeyufS55Zxy6Ud+MeYHuw5vsca6njb/0i3ncEbYZi9r/2wiGFn++kqpZQjLN12hP/7dBPFNsPzN0ZzXa+21oBzB5NKRx5NXWNN3YpA62j7hDTDrOeI/IJr/d5u+wDXuyuSefaHX7hvVA4JR5ex+/huPIABZ84wsvVArhz5OsHa/VIpVYcOnDjDtLkb2Jh6glsv7cBfR3c794Gvonw4sL60x1BaAhTnWwPORcTC7xZbM/3VkFsm/tMFpxkyZzJF3ikA9G7Zi5EnT3HtzhW0GPxHuOJxp0/4rJRyD4XFNv713Q7ejU+hZ3gwb0yJqXjYmMIzVvLfFw+nj8GYV2r1nu6Z+POLGP/pA0S37MofL72RiB+essbfGf5XuOz/1VGkSilVsR+2HeGRTzdhsxmev7EXo3tVc2j4WnDLxH9WUQF8fqc10uZVT8KQhx0bnFJK1UD68Vymzd1IUtoJbhtolX4qfLD0AtQk8TeufotF+bDgNivpX/ucJn2llNNFNGvCgvsGcveQKOas3s+Nb61if2blw1fXtcaT+AvPwLzJsGsxjH4JBv7e2REppRQAPl4ePH5dd2bd2o/UzFyum7mSxb8eqvqFdaTxJH5joLgAxr4Ol9zt7GiUUuo3runRmm+nD6VjWCAPfLyBJxZtJb+ouN7jqFbiF5ERIrJTRPaIyGPlrPcVkU/s69eKSGSZdX+2L98pItc6LvTz+DSB2xZBzK119hZKKXWh2oU24dP7BnLXkChmr9rHTW+tJjWz8jkFHK3KxC8insAbwEigOzBZRLqft9ldwHFjTGfgP8AL9td2ByYBPYARwJv2/dUNj8ZzA6OUarx8vDz423XdeefWfuzPPM3omfH1WvqpTqbsD+wxxiQbYwqA+cC487YZB3xo//kz4EqxRjcbB8w3xuQbY1KAPfb9KaWU27u2pPTTMuBs6aegqOJhmx2lOok/HEgr83u6fVm52xhjioBsoHk1XwuAiNwrIokiknj06NHqRa+UUg1cu9AmfHr/IO4cHEVS2ol6eU+XGaTNGDMLmAVWP34nh6OUUvXGx8uDv4/pTl5hMT5edV+yrs47HADKzi4QYV9W7jYi4gWEAJnVfK1SSimot0ncq5P41wEXiUiUiPhgNdYuOm+bRcDt9p9vAn401iPBi4BJ9l4/UcBFQIJjQldKKVUbVZZ6jDFFIjINWAJ4Ah8YY7aKyFNAojFmEfA+8JGI7AGysE4O2LdbAGwDioAHjTH132lVKaXUWY1vrB6llHJD7jtWj1JKqSpp4ldKKTejiV8ppdyMS9b4ReQosN/ZcZynBXDM2UGoeqfH3T01xOPewRjTsjobumTid0UikljdhhPVeOhxd0+N/bhrqUcppdyMJn6llHIzmvirb5azA1BOocfdPTXq4641fqWUcjN6xa+UUm5GE79SSrkZTfxliEig/bs4OxZVf/R4uyd3/ry7feIvOegi8iLwgYiEG2OMO/4xuBsRCRKRfwPTRKSzs+NRdU8/7xa3T/xAyQFvA/gCEwGMtno3aiJyEfAVUDJM+L9E5AonhqTqh37e0cSPMcYmIk2AJlhzDnQUkQEAIuL2/z+NWCsg1xjzqDHmNSAF68o/2slxqTpQ8lnWz7vFbf6hJUSkk4g8LyKjRcQXwBiTC2y1fx0GrhCRMMDbiaEqBzrvuPsAucAhERls32QLVjIYZl+vGgF7Oe8rYFRJOUc/726U+MXyDPA5kA/cgTVzGCISBAw2xvwMrAFuBb4GItzpKqAxKue43wm8AWwG9gHPi8grWH8P64HOxpgCPe4Nnz3RNwcGAjFYU7+WNOq69ee9yqkXG5FIIAO4whiTZb+9mywi3saYkyKyRkSeB64HjgObjDF7nRivcoxIfnvcp9inFH0WSAQuBv4CFAKbReRxY8xpp0WsHMLeaNsC626uPTBARA4aY06JyGoReQEYjxt+3t3i7AZgjEkxxsy0f/j7AwuBUOAeEfEEegK9sBp7pgJGRMY4L2LlCBUc92Yi8rCxLDHGvGa//b8aWKpJv1EJAj4AlgIDgKYi0h7r894TN/28N8ohG0Qk1BiTZf9ZyrbY28s6k4E8YDnwGfAi8JUxpsC+jR/Q1hiTXN+xq9qr4XH/BHjPGPO+iLQF/otVFnjaGPNVvQevaq2K4z4aGGGMeUhEPgZigXeAhSWfb3f8vDe6K34R+QuQKCJdobSblogMsP9RnDTGzDLGzDHGpAL/Bv5WJul7GWPy3OmPoDGoxXF/GfiDfduDwKfGmFhN+g1LJcf9UvsmBtgqIo8Cl2OV89aXSfpu+XlvNIlfRGJFZDcQAQw3xuwos240Vh23vDaNMGBByS/GmKK6jlU5zgUc91ace9zfq+tYleNU87iD1W//dawybl+sRtwr7bV/t/28N5pSj/3JyzVYt2wFIhIJnDLGHLOf1YvKbNsU6A38GfAE/s8Ys9kJYasLpMfdPdXwuF9kjNlt/7krYDPG7HJG3K6iwSZ+EWkGRAMrjTE2+7KXgU5AKtAHq6/2h8B3ZWuAgA/wCHDQGPNfJ4SvakmPu3u6gOPuU6Z7rhhjist9AzfTIEs9IjIFOAo8Cgwus+oxrD+E08aYoVh/BAOAQfbXDQD+CHgYY/6pH/6GRY+7e7rA4/6giIQYY2ya9Es1uCt++5l7PFZXzFCsGt7bxphs+/pWxpgjZbb/AvjEGPOJiFwMZBpjMp0QuroAetzdkx73uuHyV/wlj1mXsN/m/WBvjNsChAOXlVlf9o8gHOsx/Az7ul36R9Aw6HF3T3rc64dLJ34R8SvTPevsH4Qx5qT9x6XAIeASEelk385HRJqKyCysFvw4Y8xP9Ry6ugB63N2THvf647KJX0S6AKlijbMC58Vq75tdgPUwTjDQ3b7KGziFNe7KMGPMzPqJWDmCHnf3pMe9frls4gdsWK3194tIG2NMsZQZQKnkysAYsxpYC9wrIieAh4wxRcaYd4wxp5wSuboQetzdkx73euQyjbtl+97ab/MGYA2sFAP0NcZcKyKeZVvm7X8YXsA6rDP/340xn9V/9Kq29Li7Jz3uzuX00TlFxAt4HvAWka+NMUuNMUZEAoCrjTH3iMgREbkKSAN22m/7jLEmVfAH3tdbvIZFj7t70uPuGpxa6rGf6WcCrYEE4FEReVBESiZEWGX/vhN3NpAAAAKpSURBVBz4Hrj7/H0YY7L1j6Bh0ePunvS4uw5nX/EHYT1xd62xxsQ/BlwHjMaq970pIrdj1f92A9vsrxOswZdUw6TH3T3pcXcRTr3iN8bkYM2CdId90S9YrfPXAIFYY3F8ZIy5ArgNeMRe97PVf7TKUfS4uyc97q7D2Vf8AF8CI+wt+YdE5FegB5BvjLkdznblWmtfrhoHPe7uSY+7C3CF7pwrgWPYrwKMMeux5sj0grOt/3qb1/jocXdPetxdgNMTvzHmEPAVMFJEJog1vGoe1oQJbjtedmOnx9096XF3Da7Uj38kMAFrZL3XjTGvOzkkVQ/0uLsnPe7O5TKJH8DercvoWd+96HF3T3rcncelEr9SSqm65/Qav1JKqfqliV8ppdyMJn6llHIzmviVUsrNaOJX6jwi8oSIPFLJ+vEi0r2i9Uq5Ok38StXceEpngFKqwdHunEoBIvJX4HasibrTsAYPywbuBXyAPcCtWKNLfmNflw3caN/FG0BLIBe4xxizoz7jV6omNPErtyci/YDZWLNAeQEbgLeB/xpjMu3bPAMcMca8JiKzgW9KZn8SkWXA/caY3SIyAHjOPsKkUi7JFUbnVMrZhgJfGmNyAURkkX15T3vCb4o1bPCS818oIoFYww58as0zAoBvnUes1AXQxK9UxWYD440xm0TkDuDycrbxAE4YY/rUY1xKXRBt3FUKVgDjRcRfRIKAMfblQcAh+5gyU8tsf9K+rmRykRQRmQDWWPIi0rv+Qleq5jTxK7dnjNkAfAJsAhYD6+yr/gasxZopqmxj7XzgTyKyUUQ6YZ0U7hKRTcBWYFx9xa5UbWjjrlJKuRm94ldKKTejiV8ppdyMJn6llHIzmviVUsrNaOJXSik3o4lfKaXcjCZ+pZRyM5r4lVLKzfx/ibHN/LPv6xcAAAAASUVORK5CYII=\n",
         "text/plain": "<Figure size 432x288 with 1 Axes>"
        },
        "metadata": {},
        "output_type": "display_data"
       }
      ]
     }
    ],
    "run_through_control": {
     "frozen": true
    }
   },
   "outputs": [
    {
     "data": {
      "text/plain": [
       "<matplotlib.axes._subplots.AxesSubplot at 0x7f13c206bc50>"
      ]
     },
     "execution_count": 45,
     "metadata": {},
     "output_type": "execute_result"
    },
    {
     "data": {
      "image/png": "[encoded data removed]",
      "text/plain": [
       "<Figure size 432x288 with 1 Axes>"
      ]
     },
     "metadata": {},
     "output_type": "display_data"
    }
   ],
   "source": [
    "df.plot()"
   ]
  },
  {
   "cell_type": "markdown",
   "metadata": {
    "lc_cell_meme": {
     "current": "2c39c11a-64c5-11e8-8364-0242ac110002",
     "history": [
      {
       "current": "2c39c11a-64c5-11e8-8364-0242ac110002",
       "next": null,
       "previous": "e4b516a0-64c4-11e8-8364-0242ac110002"
      },
      {
       "current": "2c39c11a-64c5-11e8-8364-0242ac110002",
       "next": null,
       "previous": "a4cbac42-67bd-11e8-b836-0242ac110002"
      }
     ],
     "next": null,
     "previous": "ec5174e8-67bd-11e8-b836-0242ac110002"
    }
   },
   "source": [
    "# おしまい"
   ]
  }
 ],
 "metadata": {
  "celltoolbar": "Edit Metadata",
  "kernelspec": {
   "display_name": "Python 3",
   "language": "python",
   "name": "python3"
  },
  "language_info": {
   "codemirror_mode": {
    "name": "ipython",
    "version": 3
   },
   "file_extension": ".py",
   "mimetype": "text/x-python",
   "name": "python",
   "nbconvert_exporter": "python",
   "pygments_lexer": "ipython3",
   "version": "3.6.5"
  },
  "lc_notebook_meme": {
   "current": "68b09a4e-64b4-11e8-8364-0242ac110002",
   "lc_server_signature": {
    "current": {
     "notebook_dir": "/home/jovyan",
     "notebook_path": "/openforum2018",
     "server_url": "http://localhost:8888/",
     "signature_id": "2b07a2be-67c0-11e8-8450-0242ac110002"
    },
    "history": [
     {
      "notebook_dir": "/home/jovyan",
      "notebook_path": "/handson",
      "server_url": "http://localhost:8888/",
      "signature_id": "d1a67f64-64a0-11e8-8364-0242ac110002"
     },
     {
      "notebook_dir": "/home/jovyan",
      "notebook_path": "/openforum2018",
      "server_url": "http://ip172-18-0-4-bca97kl149p000brbua0-8888.direct.labs.play-with-docker.com/",
      "signature_id": "834bc7aa-6795-11e8-bc80-02420aff0004"
     },
     {
      "notebook_dir": "/home/jovyan",
      "notebook_path": "/openforum2018",
      "server_url": "http://localhost:8888/",
      "signature_id": "fc0050ae-67bc-11e8-b836-0242ac110002"
     }
    ]
   }
  },
  "toc": {
   "base_numbering": 1,
   "nav_menu": {},
   "number_sections": true,
   "sideBar": true,
   "skip_h1_title": false,
   "title_cell": "Table of Contents",
   "title_sidebar": "Contents",
   "toc_cell": false,
   "toc_position": {
    "height": "calc(100% - 180px)",
    "left": "10px",
    "top": "150px",
    "width": "216px"
   },
   "toc_section_display": true,
   "toc_window_display": true
  }
 },
 "nbformat": 4,
 "nbformat_minor": 2
}
