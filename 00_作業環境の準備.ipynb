{
 "cells": [
  {
   "cell_type": "markdown",
   "metadata": {
    "heading_collapsed": true,
    "lc_cell_meme": {
     "current": "c694a8e4-8fcf-11e8-9258-0242ac110003",
     "next": "c694a97a-8fcf-11e8-9258-0242ac110003",
     "previous": null
    }
   },
   "source": [
    "# 作業環境の準備"
   ]
  },
  {
   "cell_type": "markdown",
   "metadata": {
    "hidden": true,
    "lc_cell_meme": {
     "current": "c694a97a-8fcf-11e8-9258-0242ac110003",
     "history": [
      {
       "current": "c694a97a-8fcf-11e8-9258-0242ac110003",
       "next": "c694a9f2-8fcf-11e8-9258-0242ac110003",
       "previous": "c694a8e4-8fcf-11e8-9258-0242ac110003"
      },
      {
       "current": "c694a97a-8fcf-11e8-9258-0242ac110003",
       "next": "ebae6f7a-8fcf-11e8-9258-0242ac110003",
       "previous": "c694a8e4-8fcf-11e8-9258-0242ac110003"
      },
      {
       "current": "c694a97a-8fcf-11e8-9258-0242ac110003",
       "next": "e1efcf58-8fd2-11e8-acbe-0242ac110004",
       "previous": "c694a8e4-8fcf-11e8-9258-0242ac110003"
      },
      {
       "current": "c694a97a-8fcf-11e8-9258-0242ac110003",
       "next": "cd5f58c4-8fe1-11e8-9cef-0242ac110004",
       "previous": "c694a8e4-8fcf-11e8-9258-0242ac110003"
      },
      {
       "current": "c694a97a-8fcf-11e8-9258-0242ac110003",
       "next": "923c2048-9157-11e8-8094-0242ac110004",
       "previous": "c694a8e4-8fcf-11e8-9258-0242ac110003"
      }
     ],
     "next": "c2c79e46-915b-11e8-8094-0242ac110004",
     "previous": "c694a8e4-8fcf-11e8-9258-0242ac110003"
    }
   },
   "source": [
    "## dockerコマンドのインストール"
   ]
  },
  {
   "cell_type": "markdown",
   "metadata": {
    "hidden": true,
    "lc_cell_meme": {
     "current": "c2c79e46-915b-11e8-8094-0242ac110004",
     "next": "923c2048-9157-11e8-8094-0242ac110004",
     "previous": "c694a97a-8fcf-11e8-9258-0242ac110003"
    }
   },
   "source": [
    "dockerコマンドが入ってないことを確認してから始める"
   ]
  },
  {
   "cell_type": "code",
   "execution_count": null,
   "metadata": {
    "hidden": true,
    "lc_cell_meme": {
     "current": "923c2048-9157-11e8-8094-0242ac110004",
     "history": [
      {
       "current": "923c2048-9157-11e8-8094-0242ac110004",
       "next": "cd5f58c4-8fe1-11e8-9cef-0242ac110004",
       "previous": "c694a97a-8fcf-11e8-9258-0242ac110003"
      }
     ],
     "next": "cd5f58c4-8fe1-11e8-9cef-0242ac110004",
     "previous": "c2c79e46-915b-11e8-8094-0242ac110004"
    }
   },
   "outputs": [],
   "source": [
    "! ! docker"
   ]
  },
  {
   "cell_type": "markdown",
   "metadata": {
    "hidden": true,
    "lc_cell_meme": {
     "current": "cd5f58c4-8fe1-11e8-9cef-0242ac110004",
     "history": [
      {
       "current": "cd5f58c4-8fe1-11e8-9cef-0242ac110004",
       "next": "e1efcf58-8fd2-11e8-acbe-0242ac110004",
       "previous": "c694a97a-8fcf-11e8-9258-0242ac110003"
      }
     ],
     "next": "e1efcf58-8fd2-11e8-acbe-0242ac110004",
     "previous": "923c2048-9157-11e8-8094-0242ac110004"
    }
   },
   "source": [
    "[Docker for Windows 18.03で/var/run/docker.sockがマウントできなくなってた](https://taiyoh.hatenablog.com/entry/2018/04/01/100313)\n",
    "\n",
    "d4wで使う場合は、docker-composeで起動する前に、環境変数の設定が必要。"
   ]
  },
  {
   "cell_type": "code",
   "execution_count": null,
   "metadata": {
    "hidden": true,
    "lc_cell_meme": {
     "current": "e1efcf58-8fd2-11e8-acbe-0242ac110004",
     "history": [
      {
       "current": "e1efcf58-8fd2-11e8-acbe-0242ac110004",
       "next": "ebae6f7a-8fcf-11e8-9258-0242ac110003",
       "previous": "c694a97a-8fcf-11e8-9258-0242ac110003"
      },
      {
       "current": "e1efcf58-8fd2-11e8-acbe-0242ac110004",
       "next": "ebae6f7a-8fcf-11e8-9258-0242ac110003",
       "previous": "cd5f58c4-8fe1-11e8-9cef-0242ac110004"
      }
     ],
     "next": "a3f27e3e-8fe2-11e8-9cef-0242ac110004",
     "previous": "cd5f58c4-8fe1-11e8-9cef-0242ac110004"
    }
   },
   "outputs": [],
   "source": [
    "!curl -fsSL https://download.docker.com/linux/static/stable/x86_64/docker-18.06.0-ce.tgz | sudo tar -xzC /usr/local/bin --strip=1 docker/docker"
   ]
  },
  {
   "cell_type": "code",
   "execution_count": null,
   "metadata": {
    "hidden": true,
    "lc_cell_meme": {
     "current": "a3f27e3e-8fe2-11e8-9cef-0242ac110004",
     "next": "ebae6f7a-8fcf-11e8-9258-0242ac110003",
     "previous": "e1efcf58-8fd2-11e8-acbe-0242ac110004"
    }
   },
   "outputs": [],
   "source": [
    "!sudo docker ps -a"
   ]
  },
  {
   "cell_type": "markdown",
   "metadata": {
    "hidden": true,
    "lc_cell_meme": {
     "current": "ebae6f7a-8fcf-11e8-9258-0242ac110003",
     "history": [
      {
       "current": "ebae6f7a-8fcf-11e8-9258-0242ac110003",
       "next": "ebae70ec-8fcf-11e8-9258-0242ac110003",
       "previous": "c694a97a-8fcf-11e8-9258-0242ac110003"
      },
      {
       "current": "ebae6f7a-8fcf-11e8-9258-0242ac110003",
       "next": "ebae70ec-8fcf-11e8-9258-0242ac110003",
       "previous": "e1efcf58-8fd2-11e8-acbe-0242ac110004"
      }
     ],
     "next": "a3f280b4-8fe2-11e8-9cef-0242ac110004",
     "previous": "a3f27e3e-8fe2-11e8-9cef-0242ac110004"
    }
   },
   "source": [
    "## インベントリの作成"
   ]
  },
  {
   "cell_type": "code",
   "execution_count": null,
   "metadata": {
    "hidden": true,
    "lc_cell_meme": {
     "current": "a3f280b4-8fe2-11e8-9cef-0242ac110004",
     "next": "ebae70ec-8fcf-11e8-9258-0242ac110003",
     "previous": "ebae6f7a-8fcf-11e8-9258-0242ac110003"
    }
   },
   "outputs": [],
   "source": [
    "names = !sudo docker ps --format \"{{{{.Names}}}}\"\n",
    "\n",
    "with open('./hosts', 'w') as f:\n",
    "    for h in names:\n",
    "        if h.find('jupyter') == -1:\n",
    "            f.write('{}\\n'.format(h))\n",
    "!cat ./hosts"
   ]
  },
  {
   "cell_type": "markdown",
   "metadata": {
    "hidden": true,
    "lc_cell_meme": {
     "current": "ebae70ec-8fcf-11e8-9258-0242ac110003",
     "history": [
      {
       "current": "ebae70ec-8fcf-11e8-9258-0242ac110003",
       "next": "c694a9f2-8fcf-11e8-9258-0242ac110003",
       "previous": "ebae6f7a-8fcf-11e8-9258-0242ac110003"
      }
     ],
     "next": "c694a9f2-8fcf-11e8-9258-0242ac110003",
     "previous": "a3f280b4-8fe2-11e8-9cef-0242ac110004"
    }
   },
   "source": [
    "## ansibleコマンドの確認"
   ]
  },
  {
   "cell_type": "markdown",
   "metadata": {
    "hidden": true,
    "lc_cell_meme": {
     "current": "c694a9f2-8fcf-11e8-9258-0242ac110003",
     "history": [
      {
       "current": "c694a9f2-8fcf-11e8-9258-0242ac110003",
       "next": null,
       "previous": "c694a97a-8fcf-11e8-9258-0242ac110003"
      },
      {
       "current": "c694a9f2-8fcf-11e8-9258-0242ac110003",
       "next": null,
       "previous": "ebae70ec-8fcf-11e8-9258-0242ac110003"
      },
      {
       "current": "c694a9f2-8fcf-11e8-9258-0242ac110003",
       "next": "e0268f74-8fe4-11e8-9cef-0242ac110004",
       "previous": "ebae70ec-8fcf-11e8-9258-0242ac110003"
      },
      {
       "current": "c694a9f2-8fcf-11e8-9258-0242ac110003",
       "next": "bb0b0b44-9169-11e8-8094-0242ac110004",
       "previous": "ebae70ec-8fcf-11e8-9258-0242ac110003"
      }
     ],
     "next": "e0268f74-8fe4-11e8-9cef-0242ac110004",
     "previous": "ebae70ec-8fcf-11e8-9258-0242ac110003"
    }
   },
   "source": [
    "インベントリを使ってansibleコマンドが動くことを確認する"
   ]
  },
  {
   "cell_type": "code",
   "execution_count": null,
   "metadata": {
    "hidden": true,
    "lc_cell_meme": {
     "current": "e0268f74-8fe4-11e8-9cef-0242ac110004",
     "history": [
      {
       "current": "e0268f74-8fe4-11e8-9cef-0242ac110004",
       "next": "e026935c-8fe4-11e8-9cef-0242ac110004",
       "previous": "c694a9f2-8fcf-11e8-9258-0242ac110003"
      },
      {
       "current": "e0268f74-8fe4-11e8-9cef-0242ac110004",
       "next": "e026935c-8fe4-11e8-9cef-0242ac110004",
       "previous": "bb0b0b44-9169-11e8-8094-0242ac110004"
      }
     ],
     "next": "e026935c-8fe4-11e8-9cef-0242ac110004",
     "previous": "c694a9f2-8fcf-11e8-9258-0242ac110003"
    }
   },
   "outputs": [],
   "source": [
    "!sudo ansible -a \"pwd\" -i ./hosts all -c docker"
   ]
  },
  {
   "cell_type": "code",
   "execution_count": null,
   "metadata": {
    "hidden": true,
    "lc_cell_meme": {
     "current": "e026935c-8fe4-11e8-9cef-0242ac110004",
     "history": [
      {
       "current": "e026935c-8fe4-11e8-9cef-0242ac110004",
       "next": null,
       "previous": "e0268f74-8fe4-11e8-9cef-0242ac110004"
      }
     ],
     "next": "2bfea230-9092-11e8-8886-0242ac110004",
     "previous": "e0268f74-8fe4-11e8-9cef-0242ac110004"
    },
    "scrolled": true
   },
   "outputs": [],
   "source": [
    "names = !cat ./hosts\n",
    "!sudo ansible -a \"ls -la\" -i ./hosts {names[0]} -c docker"
   ]
  },
  {
   "cell_type": "markdown",
   "metadata": {
    "hidden": true,
    "lc_cell_meme": {
     "current": "2bfea230-9092-11e8-8886-0242ac110004",
     "next": null,
     "previous": "e026935c-8fe4-11e8-9cef-0242ac110004"
    }
   },
   "source": [
    "準備おしまい"
   ]
  }
 ],
 "metadata": {
  "kernelspec": {
   "display_name": "Python 3 (LC_wrapper)",
   "language": "python",
   "name": "python3-wrapper"
  },
  "language_info": {
   "file_extension": ".py",
   "mimetype": "text/x-python",
   "name": "python",
   "nbconvert_exporter": "python",
   "pygments_lexer": "ipython3",
   "version": "3.6.5"
  },
  "lc_notebook_meme": {
   "current": "c694a772-8fcf-11e8-9258-0242ac110003",
   "lc_server_signature": {
    "current": {
     "notebook_dir": "/home/jovyan",
     "notebook_path": "/jtf2018",
     "server_url": "http://localhost:8888/",
     "signature_id": "fd0ae980-9194-11e8-970c-0242ac110003"
    },
    "history": [
     {
      "notebook_dir": "/home/jovyan",
      "notebook_path": "/openforum2018",
      "server_url": "http://localhost:8888/",
      "signature_id": "e9d7c404-8fce-11e8-9258-0242ac110003"
     },
     {
      "notebook_dir": "/home/jovyan",
      "notebook_path": "/openforum2018",
      "server_url": "http://localhost:8888/",
      "signature_id": "8701e43c-8fd2-11e8-acbe-0242ac110004"
     },
     {
      "notebook_dir": "/home/jovyan",
      "notebook_path": "/openforum2018",
      "server_url": "http://localhost:8888/",
      "signature_id": "9e4d37b6-8fde-11e8-9cef-0242ac110004"
     },
     {
      "notebook_dir": "/home/jovyan",
      "notebook_path": "/openforum2018",
      "server_url": "http://localhost:8888/",
      "signature_id": "d0d4ecbc-9081-11e8-b68b-0242ac110003"
     },
     {
      "notebook_dir": "/home/jovyan",
      "notebook_path": "/openforum2018",
      "server_url": "http://localhost:8888/",
      "signature_id": "90a924e0-9082-11e8-83c9-0242ac110004"
     },
     {
      "notebook_dir": "/home/jovyan",
      "notebook_path": "/openforum2018",
      "server_url": "http://localhost:8888/",
      "signature_id": "817f4af0-9085-11e8-a148-0242ac110004"
     },
     {
      "notebook_dir": "/home/jovyan",
      "notebook_path": "/openforum2018",
      "server_url": "http://localhost:8888/",
      "signature_id": "7ecf8670-9090-11e8-bec3-0242ac110004"
     },
     {
      "notebook_dir": "/home/jovyan",
      "notebook_path": "/openforum2018",
      "server_url": "http://localhost:8888/",
      "signature_id": "832e7ef0-9091-11e8-8886-0242ac110004"
     },
     {
      "notebook_dir": "/home/jovyan",
      "notebook_path": "/openforum2018",
      "server_url": "http://localhost:8888/",
      "signature_id": "dd07d3ae-90b9-11e8-87fa-0242ac110003"
     },
     {
      "notebook_dir": "/home/jovyan",
      "notebook_path": "/openforum2018",
      "server_url": "http://localhost:8888/",
      "signature_id": "e6b007f0-9154-11e8-8094-0242ac110004"
     },
     {
      "notebook_dir": "/home/jovyan",
      "notebook_path": "/jtf2018",
      "server_url": "http://localhost:8888/",
      "signature_id": "339a2bb2-916a-11e8-9bb4-0242ac110004"
     }
    ]
   }
  },
  "toc": {
   "base_numbering": 1,
   "nav_menu": {},
   "number_sections": true,
   "sideBar": true,
   "skip_h1_title": false,
   "title_cell": "Table of Contents",
   "title_sidebar": "Contents",
   "toc_cell": false,
   "toc_position": {},
   "toc_section_display": true,
   "toc_window_display": true
  }
 },
 "nbformat": 4,
 "nbformat_minor": 2
}
