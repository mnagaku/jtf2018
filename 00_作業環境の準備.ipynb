{
 "cells": [
  {
   "cell_type": "markdown",
   "metadata": {
    "lc_cell_meme": {
     "current": "c694a8e4-8fcf-11e8-9258-0242ac110003",
     "next": "c694a97a-8fcf-11e8-9258-0242ac110003",
     "previous": null
    }
   },
   "source": [
    "# 作業環境の準備"
   ]
  },
  {
   "cell_type": "markdown",
   "metadata": {
    "lc_cell_meme": {
     "current": "c694a97a-8fcf-11e8-9258-0242ac110003",
     "history": [
      {
       "current": "c694a97a-8fcf-11e8-9258-0242ac110003",
       "next": "c694a9f2-8fcf-11e8-9258-0242ac110003",
       "previous": "c694a8e4-8fcf-11e8-9258-0242ac110003"
      },
      {
       "current": "c694a97a-8fcf-11e8-9258-0242ac110003",
       "next": "ebae6f7a-8fcf-11e8-9258-0242ac110003",
       "previous": "c694a8e4-8fcf-11e8-9258-0242ac110003"
      },
      {
       "current": "c694a97a-8fcf-11e8-9258-0242ac110003",
       "next": "e1efcf58-8fd2-11e8-acbe-0242ac110004",
       "previous": "c694a8e4-8fcf-11e8-9258-0242ac110003"
      }
     ],
     "next": "cd5f58c4-8fe1-11e8-9cef-0242ac110004",
     "previous": "c694a8e4-8fcf-11e8-9258-0242ac110003"
    }
   },
   "source": [
    "## dockerコマンドのインストール"
   ]
  },
  {
   "cell_type": "markdown",
   "metadata": {
    "lc_cell_meme": {
     "current": "cd5f58c4-8fe1-11e8-9cef-0242ac110004",
     "next": "e1efcf58-8fd2-11e8-acbe-0242ac110004",
     "previous": "c694a97a-8fcf-11e8-9258-0242ac110003"
    }
   },
   "source": [
    "[Docker for Windows 18.03で/var/run/docker.sockがマウントできなくなってた](https://taiyoh.hatenablog.com/entry/2018/04/01/100313)\n",
    "\n",
    "d4wで使う場合は、docker-composeで起動する前に、環境変数の設定が必要。"
   ]
  },
  {
   "cell_type": "code",
   "execution_count": 1,
   "metadata": {
    "deletable": false,
    "editable": false,
    "lc_cell_meme": {
     "current": "e1efcf58-8fd2-11e8-acbe-0242ac110004",
     "history": [
      {
       "current": "e1efcf58-8fd2-11e8-acbe-0242ac110004",
       "next": "ebae6f7a-8fcf-11e8-9258-0242ac110003",
       "previous": "c694a97a-8fcf-11e8-9258-0242ac110003"
      },
      {
       "current": "e1efcf58-8fd2-11e8-acbe-0242ac110004",
       "next": "ebae6f7a-8fcf-11e8-9258-0242ac110003",
       "previous": "cd5f58c4-8fe1-11e8-9cef-0242ac110004"
      }
     ],
     "next": "a3f27e3e-8fe2-11e8-9cef-0242ac110004",
     "previous": "cd5f58c4-8fe1-11e8-9cef-0242ac110004"
    },
    "run_through_control": {
     "frozen": true
    }
   },
   "outputs": [],
   "source": [
    "!curl -fsSL https://download.docker.com/linux/static/stable/x86_64/docker-18.06.0-ce.tgz | sudo tar -xzC /usr/local/bin --strip=1 docker/docker"
   ]
  },
  {
   "cell_type": "code",
   "execution_count": 2,
   "metadata": {
    "deletable": false,
    "editable": false,
    "lc_cell_meme": {
     "current": "a3f27e3e-8fe2-11e8-9cef-0242ac110004",
     "next": "ebae6f7a-8fcf-11e8-9258-0242ac110003",
     "previous": "e1efcf58-8fd2-11e8-acbe-0242ac110004"
    },
    "run_through_control": {
     "frozen": true
    }
   },
   "outputs": [
    {
     "name": "stdout",
     "output_type": "stream",
     "text": [
      "CONTAINER ID        IMAGE                         COMMAND                  CREATED              STATUS              PORTS                    NAMES\r\n",
      "8bfeb173c599        realms/realms-wiki            \"/bin/sh -c '. /home…\"   About a minute ago   Up About a minute   0.0.0.0:5000->5000/tcp   openforum2018_wiki_1\r\n",
      "b21c4f06092c        mnagaku/lc-minimal-notebook   \"tini -g -- bash -c …\"   About a minute ago   Up About a minute   0.0.0.0:8888->8888/tcp   openforum2018_jupyter_1\r\n",
      "ee821e21ef04        tumgis/3dcitydb-web-map       \"node server.js --pu…\"   About a minute ago   Up About a minute   0.0.0.0:8000->8000/tcp   openforum2018_3dwebmap_1\r\n",
      "692abba3e541        kyontan/boinc-runner          \"/startup.sh\"            About a minute ago   Up About a minute                            openforum2018_boinc_1\r\n"
     ]
    }
   ],
   "source": [
    "!sudo docker ps -a"
   ]
  },
  {
   "cell_type": "markdown",
   "metadata": {
    "lc_cell_meme": {
     "current": "ebae6f7a-8fcf-11e8-9258-0242ac110003",
     "history": [
      {
       "current": "ebae6f7a-8fcf-11e8-9258-0242ac110003",
       "next": "ebae70ec-8fcf-11e8-9258-0242ac110003",
       "previous": "c694a97a-8fcf-11e8-9258-0242ac110003"
      },
      {
       "current": "ebae6f7a-8fcf-11e8-9258-0242ac110003",
       "next": "ebae70ec-8fcf-11e8-9258-0242ac110003",
       "previous": "e1efcf58-8fd2-11e8-acbe-0242ac110004"
      }
     ],
     "next": "a3f280b4-8fe2-11e8-9cef-0242ac110004",
     "previous": "a3f27e3e-8fe2-11e8-9cef-0242ac110004"
    }
   },
   "source": [
    "## インベントリの作成"
   ]
  },
  {
   "cell_type": "code",
   "execution_count": 3,
   "metadata": {
    "deletable": false,
    "editable": false,
    "lc_cell_meme": {
     "current": "a3f280b4-8fe2-11e8-9cef-0242ac110004",
     "next": "ebae70ec-8fcf-11e8-9258-0242ac110003",
     "previous": "ebae6f7a-8fcf-11e8-9258-0242ac110003"
    },
    "run_through_control": {
     "frozen": true
    }
   },
   "outputs": [
    {
     "name": "stdout",
     "output_type": "stream",
     "text": [
      "openforum2018_wiki_1\r\n",
      "openforum2018_3dwebmap_1\r\n",
      "openforum2018_boinc_1\r\n"
     ]
    }
   ],
   "source": [
    "names = !sudo docker ps --format \"{{{{.Names}}}}\"\n",
    "\n",
    "with open('./hosts', 'w') as f:\n",
    "    for h in names:\n",
    "        if h.find('jupyter') == -1:\n",
    "            f.write('{}\\n'.format(h))\n",
    "!cat ./hosts"
   ]
  },
  {
   "cell_type": "markdown",
   "metadata": {
    "lc_cell_meme": {
     "current": "ebae70ec-8fcf-11e8-9258-0242ac110003",
     "history": [
      {
       "current": "ebae70ec-8fcf-11e8-9258-0242ac110003",
       "next": "c694a9f2-8fcf-11e8-9258-0242ac110003",
       "previous": "ebae6f7a-8fcf-11e8-9258-0242ac110003"
      }
     ],
     "next": "c694a9f2-8fcf-11e8-9258-0242ac110003",
     "previous": "a3f280b4-8fe2-11e8-9cef-0242ac110004"
    }
   },
   "source": [
    "## ansibleコマンドの確認"
   ]
  },
  {
   "cell_type": "markdown",
   "metadata": {
    "lc_cell_meme": {
     "current": "c694a9f2-8fcf-11e8-9258-0242ac110003",
     "history": [
      {
       "current": "c694a9f2-8fcf-11e8-9258-0242ac110003",
       "next": null,
       "previous": "c694a97a-8fcf-11e8-9258-0242ac110003"
      },
      {
       "current": "c694a9f2-8fcf-11e8-9258-0242ac110003",
       "next": null,
       "previous": "ebae70ec-8fcf-11e8-9258-0242ac110003"
      }
     ],
     "next": "e0268f74-8fe4-11e8-9cef-0242ac110004",
     "previous": "ebae70ec-8fcf-11e8-9258-0242ac110003"
    }
   },
   "source": []
  },
  {
   "cell_type": "code",
   "execution_count": 4,
   "metadata": {
    "deletable": false,
    "editable": false,
    "lc_cell_meme": {
     "current": "e0268f74-8fe4-11e8-9cef-0242ac110004",
     "next": "e026935c-8fe4-11e8-9cef-0242ac110004",
     "previous": "c694a9f2-8fcf-11e8-9258-0242ac110003"
    },
    "run_through_control": {
     "frozen": true
    }
   },
   "outputs": [
    {
     "name": "stdout",
     "output_type": "stream",
     "text": [
      "\u001b[0;32mopenforum2018_3dwebmap_1 | SUCCESS | rc=0 >>\u001b[0m\n",
      "\u001b[0;32m/var/www\u001b[0m\n",
      "\u001b[0;32m\u001b[0m\n",
      "\u001b[0;32mopenforum2018_wiki_1 | SUCCESS | rc=0 >>\u001b[0m\n",
      "\u001b[0;32m/home/wiki/realms-wiki\u001b[0m\n",
      "\u001b[0;32m\u001b[0m\n",
      "\u001b[0;32mopenforum2018_boinc_1 | SUCCESS | rc=0 >>\u001b[0m\n",
      "\u001b[0;32m/\u001b[0m\n",
      "\u001b[0;32m\u001b[0m\n"
     ]
    }
   ],
   "source": [
    "!sudo ansible -a \"pwd\" -i ./hosts all -c docker"
   ]
  },
  {
   "cell_type": "code",
   "execution_count": 6,
   "metadata": {
    "deletable": false,
    "editable": false,
    "lc_cell_meme": {
     "current": "e026935c-8fe4-11e8-9cef-0242ac110004",
     "history": [
      {
       "current": "e026935c-8fe4-11e8-9cef-0242ac110004",
       "next": null,
       "previous": "e0268f74-8fe4-11e8-9cef-0242ac110004"
      }
     ],
     "next": "2bfea230-9092-11e8-8886-0242ac110004",
     "previous": "e0268f74-8fe4-11e8-9cef-0242ac110004"
    },
    "run_through_control": {
     "frozen": true
    },
    "scrolled": true
   },
   "outputs": [
    {
     "name": "stdout",
     "output_type": "stream",
     "text": [
      "\u001b[0;32mopenforum2018_wiki_1 | SUCCESS | rc=0 >>\u001b[0m\r\n",
      "\u001b[0;32mtotal 152\u001b[0m\r\n",
      "\u001b[0;32mdrwxr-xr-x 1 wiki wiki  4096 Nov  5  2017 .\u001b[0m\r\n",
      "\u001b[0;32mdrwxr-xr-x 1 wiki wiki  4096 Jul 26 09:55 ..\u001b[0m\r\n",
      "\u001b[0;32m-rw-r--r-- 1 wiki wiki    40 Sep  8  2014 .bowerrc\u001b[0m\r\n",
      "\u001b[0;32mdrwxr-xr-x 1 wiki wiki  4096 Nov  5  2017 .git\u001b[0m\r\n",
      "\u001b[0;32m-rwxr-xr-x 1 wiki wiki   228 Nov  4  2017 .gitignore\u001b[0m\r\n",
      "\u001b[0;32mdrwxr-xr-x 1 wiki wiki  4096 Nov  5  2017 .idea\u001b[0m\r\n",
      "\u001b[0;32m-rw-r--r-- 1 wiki wiki   305 Nov  4  2017 .travis.yml\u001b[0m\r\n",
      "\u001b[0;32mdrwxr-xr-x 1 wiki wiki  4096 Nov  5  2017 .vagrant\u001b[0m\r\n",
      "\u001b[0;32mdrwxr-xr-x 1 wiki wiki  4096 Nov  5  2017 .venv\u001b[0m\r\n",
      "\u001b[0;32m-rw-r--r-- 1 wiki wiki 18041 Sep  8  2014 LICENSE\u001b[0m\r\n",
      "\u001b[0;32m-rw-r--r-- 1 wiki wiki   151 Aug 20  2017 MANIFEST.in\u001b[0m\r\n",
      "\u001b[0;32m-rw-r--r-- 1 wiki wiki   616 Nov  4  2017 Pipfile\u001b[0m\r\n",
      "\u001b[0;32m-rw-r--r-- 1 wiki wiki  4784 Nov  4  2017 Pipfile.lock\u001b[0m\r\n",
      "\u001b[0;32m-rw-r--r-- 1 wiki wiki 17027 Nov  5  2017 README.md\u001b[0m\r\n",
      "\u001b[0;32m-rw-r--r-- 1 wiki wiki   321 Nov  5  2017 Vagrantfile\u001b[0m\r\n",
      "\u001b[0;32m-rw-r--r-- 1 wiki wiki   531 Nov  4  2017 bower.json\u001b[0m\r\n",
      "\u001b[0;32mdrwxr-xr-x 4 wiki wiki  4096 Nov  5  2017 build\u001b[0m\r\n",
      "\u001b[0;32mdrwxr-xr-x 1 wiki wiki  4096 Nov  5  2017 dist\u001b[0m\r\n",
      "\u001b[0;32mdrwxr-xr-x 1 wiki wiki  4096 Nov  5  2017 docker\u001b[0m\r\n",
      "\u001b[0;32m-rw-r--r-- 1 wiki wiki   389 Nov  5  2017 docker-compose.yml\u001b[0m\r\n",
      "\u001b[0;32m-rwxr-xr-x 1 wiki wiki  1439 Nov  5  2017 provision.sh\u001b[0m\r\n",
      "\u001b[0;32mdrwxr-xr-x 1 wiki wiki  4096 Nov  5  2017 realms\u001b[0m\r\n",
      "\u001b[0;32mdrwxr-xr-x 1 wiki wiki  4096 Nov  5  2017 realms-data\u001b[0m\r\n",
      "\u001b[0;32m-rwxr-xr-x 1 wiki wiki   386 Nov  5  2017 realms-wiki\u001b[0m\r\n",
      "\u001b[0;32m-rw-r--r-- 1 wiki wiki   327 Apr 24  2016 realms-wiki.json\u001b[0m\r\n",
      "\u001b[0;32mdrwxr-xr-x 1 wiki wiki  4096 Nov  5  2017 realms_wiki.egg-info\u001b[0m\r\n",
      "\u001b[0;32m-rw-r--r-- 1 wiki wiki    66 Oct 22  2014 requirements-dev.txt\u001b[0m\r\n",
      "\u001b[0;32m-rw-r--r-- 1 wiki wiki     5 Oct 22  2014 requirements.txt\u001b[0m\r\n",
      "\u001b[0;32m-rw-r--r-- 1 wiki wiki  1344 Aug 21  2017 setup.py\u001b[0m\r\n",
      "\u001b[0;32m-rw------- 1 wiki wiki     0 Nov  5  2017 ubuntu-xenial-16.04-cloudimg-console.log\u001b[0m\r\n",
      "\u001b[0;32m\u001b[0m\r\n"
     ]
    }
   ],
   "source": [
    "!sudo ansible -a \"ls -la\" -i ./hosts {names[0]} -c docker"
   ]
  },
  {
   "cell_type": "markdown",
   "metadata": {
    "lc_cell_meme": {
     "current": "2bfea230-9092-11e8-8886-0242ac110004",
     "next": null,
     "previous": "e026935c-8fe4-11e8-9cef-0242ac110004"
    }
   },
   "source": [
    "準備おしまい"
   ]
  }
 ],
 "metadata": {
  "kernelspec": {
   "display_name": "Python 3 (LC_wrapper)",
   "language": "python",
   "name": "python3-wrapper"
  },
  "language_info": {
   "file_extension": ".py",
   "mimetype": "text/x-python",
   "name": "python",
   "nbconvert_exporter": "python",
   "pygments_lexer": "ipython3",
   "version": "3.6.5"
  },
  "lc_notebook_meme": {
   "current": "c694a772-8fcf-11e8-9258-0242ac110003",
   "lc_server_signature": {
    "current": {
     "notebook_dir": "/home/jovyan",
     "notebook_path": "/openforum2018",
     "server_url": "http://localhost:8888/",
     "signature_id": "dd07d3ae-90b9-11e8-87fa-0242ac110003"
    },
    "history": [
     {
      "notebook_dir": "/home/jovyan",
      "notebook_path": "/openforum2018",
      "server_url": "http://localhost:8888/",
      "signature_id": "e9d7c404-8fce-11e8-9258-0242ac110003"
     },
     {
      "notebook_dir": "/home/jovyan",
      "notebook_path": "/openforum2018",
      "server_url": "http://localhost:8888/",
      "signature_id": "8701e43c-8fd2-11e8-acbe-0242ac110004"
     },
     {
      "notebook_dir": "/home/jovyan",
      "notebook_path": "/openforum2018",
      "server_url": "http://localhost:8888/",
      "signature_id": "9e4d37b6-8fde-11e8-9cef-0242ac110004"
     },
     {
      "notebook_dir": "/home/jovyan",
      "notebook_path": "/openforum2018",
      "server_url": "http://localhost:8888/",
      "signature_id": "d0d4ecbc-9081-11e8-b68b-0242ac110003"
     },
     {
      "notebook_dir": "/home/jovyan",
      "notebook_path": "/openforum2018",
      "server_url": "http://localhost:8888/",
      "signature_id": "90a924e0-9082-11e8-83c9-0242ac110004"
     },
     {
      "notebook_dir": "/home/jovyan",
      "notebook_path": "/openforum2018",
      "server_url": "http://localhost:8888/",
      "signature_id": "817f4af0-9085-11e8-a148-0242ac110004"
     },
     {
      "notebook_dir": "/home/jovyan",
      "notebook_path": "/openforum2018",
      "server_url": "http://localhost:8888/",
      "signature_id": "7ecf8670-9090-11e8-bec3-0242ac110004"
     },
     {
      "notebook_dir": "/home/jovyan",
      "notebook_path": "/openforum2018",
      "server_url": "http://localhost:8888/",
      "signature_id": "832e7ef0-9091-11e8-8886-0242ac110004"
     }
    ]
   }
  },
  "toc": {
   "base_numbering": 1,
   "nav_menu": {},
   "number_sections": true,
   "sideBar": true,
   "skip_h1_title": false,
   "title_cell": "Table of Contents",
   "title_sidebar": "Contents",
   "toc_cell": false,
   "toc_position": {},
   "toc_section_display": true,
   "toc_window_display": true
  }
 },
 "nbformat": 4,
 "nbformat_minor": 2
}
