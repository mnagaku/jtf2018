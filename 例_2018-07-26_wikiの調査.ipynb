{
 "cells": [
  {
   "cell_type": "markdown",
   "metadata": {
    "lc_cell_meme": {
     "current": "0ff0297e-9196-11e8-970c-0242ac110003",
     "next": "0ff02abe-9196-11e8-970c-0242ac110003",
     "previous": null
    }
   },
   "source": [
    "# 2018-07-26_wikiの調査\n",
    "\n",
    "M先輩から「wikiのサーバ、中で何動いてるかレポート作って」と指示があった"
   ]
  },
  {
   "cell_type": "markdown",
   "metadata": {
    "lc_cell_meme": {
     "current": "0ff02abe-9196-11e8-970c-0242ac110003",
     "next": "0ff02bb8-9196-11e8-970c-0242ac110003",
     "previous": "0ff0297e-9196-11e8-970c-0242ac110003"
    }
   },
   "source": [
    "ログ保存を有効化"
   ]
  },
  {
   "cell_type": "code",
   "execution_count": 1,
   "metadata": {
    "deletable": false,
    "editable": false,
    "lc_cell_meme": {
     "current": "0ff02bb8-9196-11e8-970c-0242ac110003",
     "next": "0ff02c8a-9196-11e8-970c-0242ac110003",
     "previous": "0ff02abe-9196-11e8-970c-0242ac110003"
    },
    "run_through_control": {
     "frozen": true,
     "read_only": false
    }
   },
   "outputs": [
    {
     "name": "stdout",
     "output_type": "stream",
     "text": [
      "env: lc_wrapper_force=on\n"
     ]
    }
   ],
   "source": [
    "%env lc_wrapper_force=on"
   ]
  },
  {
   "cell_type": "markdown",
   "metadata": {
    "lc_cell_meme": {
     "current": "0ff02c8a-9196-11e8-970c-0242ac110003",
     "next": "0ff02d5c-9196-11e8-970c-0242ac110003",
     "previous": "0ff02bb8-9196-11e8-970c-0242ac110003"
    }
   },
   "source": [
    "# 調査対象の確認"
   ]
  },
  {
   "cell_type": "markdown",
   "metadata": {
    "lc_cell_meme": {
     "current": "0ff02d5c-9196-11e8-970c-0242ac110003",
     "history": [
      {
       "current": "0ff02d5c-9196-11e8-970c-0242ac110003",
       "next": null,
       "previous": "0ff02c8a-9196-11e8-970c-0242ac110003"
      }
     ],
     "next": "5732d0a2-9196-11e8-970c-0242ac110003",
     "previous": "0ff02c8a-9196-11e8-970c-0242ac110003"
    }
   },
   "source": [
    "ansibleのインベントリファイルで対象サーバを確認し、簡単なコマンドが通ることを確認しておく"
   ]
  },
  {
   "cell_type": "code",
   "execution_count": 2,
   "metadata": {
    "deletable": false,
    "editable": false,
    "lc_cell_meme": {
     "current": "5732d0a2-9196-11e8-970c-0242ac110003",
     "next": "5732d430-9196-11e8-970c-0242ac110003",
     "previous": "0ff02d5c-9196-11e8-970c-0242ac110003"
    },
    "run_through_control": {
     "frozen": true,
     "read_only": false
    }
   },
   "outputs": [
    {
     "name": "stdout",
     "output_type": "stream",
     "text": [
      "path: /home/jovyan/jtf2018/.log/20180727/20180727-122745-0729.log (1 logs recorded)\n",
      "start time: 2018-07-27 12:27:45(UTC)\n",
      "end time: 2018-07-27 12:27:45(UTC)\n",
      "output size: 555 bytes\n",
      "0 chunks with matched keywords or errors\n",
      "----\n"
     ]
    },
    {
     "data": {
      "text/plain": [
       "['jtf2018_boinc_1', 'jtf2018_wiki_1', 'jtf2018_3dwebmap_1']"
      ]
     },
     "execution_count": 2,
     "metadata": {},
     "output_type": "execute_result"
    }
   ],
   "source": [
    "hosts = !cat ./hosts\n",
    "hosts"
   ]
  },
  {
   "cell_type": "code",
   "execution_count": 3,
   "metadata": {
    "deletable": false,
    "editable": false,
    "lc_cell_meme": {
     "current": "5732d430-9196-11e8-970c-0242ac110003",
     "next": "5732d6b0-9196-11e8-970c-0242ac110003",
     "previous": "5732d0a2-9196-11e8-970c-0242ac110003"
    },
    "run_through_control": {
     "frozen": true,
     "read_only": false
    }
   },
   "outputs": [
    {
     "name": "stdout",
     "output_type": "stream",
     "text": [
      "path: /home/jovyan/jtf2018/.log/20180727/20180727-122800-0512.log (1 logs recorded)\n",
      "start time: 2018-07-27 12:28:00(UTC)\n",
      "end time: 2018-07-27 12:28:00(UTC)\n",
      "output size: 641 bytes\n",
      "0 chunks with matched keywords or errors\n",
      "----\n"
     ]
    },
    {
     "data": {
      "text/plain": [
       "' -i ./hosts jtf2018_wiki_1 -c docker'"
      ]
     },
     "execution_count": 3,
     "metadata": {},
     "output_type": "execute_result"
    }
   ],
   "source": [
    "for h in hosts:\n",
    "        if h.find('wiki') > -1:\n",
    "            target = ' -i ./hosts {} -c docker'.format(h)\n",
    "target"
   ]
  },
  {
   "cell_type": "code",
   "execution_count": 4,
   "metadata": {
    "deletable": false,
    "editable": false,
    "lc_cell_meme": {
     "current": "5732d6b0-9196-11e8-970c-0242ac110003",
     "next": "5732d818-9196-11e8-970c-0242ac110003",
     "previous": "5732d430-9196-11e8-970c-0242ac110003"
    },
    "run_through_control": {
     "frozen": true,
     "read_only": false
    }
   },
   "outputs": [
    {
     "name": "stdout",
     "output_type": "stream",
     "text": [
      "path: /home/jovyan/jtf2018/.log/20180727/20180727-122804-0809.log (1 logs recorded)\n",
      "start time: 2018-07-27 12:28:04(UTC)\n",
      "end time: 2018-07-27 12:28:12(UTC)\n",
      "output size: 2654 bytes\n",
      "0 chunks with matched keywords or errors\n",
      "----\n",
      " [WARNING] Ansible is in a world writable directory (/home/jovyan/jtf2018), ignoring it as an ansible.cfg source.\n",
      "\u001b[0;32mjtf2018_wiki_1 | SUCCESS | rc=0 >>\u001b[0m\n",
      "\u001b[0;32mtotal 152\u001b[0m\n",
      "\u001b[0;32mdrwxr-xr-x 1 wiki wiki  4096 Nov  5  2017 .\u001b[0m\n",
      "\u001b[0;32mdrwxr-xr-x 1 wiki wiki  4096 Jul 27 12:07 ..\u001b[0m\n",
      "\u001b[0;32m-rw-r--r-- 1 wiki wiki    40 Sep  8  2014 .bowerrc\u001b[0m\n",
      "\u001b[0;32mdrwxr-xr-x 1 wiki wiki  4096 Nov  5  2017 .git\u001b[0m\n",
      "\u001b[0;32m-rwxr-xr-x 1 wiki wiki   228 Nov  4  2017 .gitignore\u001b[0m\n",
      "\u001b[0;32mdrwxr-xr-x 1 wiki wiki  4096 Nov  5  2017 .idea\u001b[0m\n",
      "\u001b[0;32m-rw-r--r-- 1 wiki wiki   305 Nov  4  2017 .travis.yml\u001b[0m\n",
      "\u001b[0;32mdrwxr-xr-x 1 wiki wiki  4096 Nov  5  2017 .vagrant\u001b[0m\n",
      "\u001b[0;32mdrwxr-xr-x 1 wiki wiki  4096 Nov  5  2017 .venv\u001b[0m\n",
      "\u001b[0;32m-rw-r--r-- 1 wiki wiki 18041 Sep  8  2014 LICENSE\u001b[0m\n",
      "\u001b[0;32m-rw-r--r-- 1 wiki wiki   151 Aug 20  2017 MANIFEST.in\u001b[0m\n",
      "\u001b[0;32m-rw-r--r-- 1 wiki wiki   616 Nov  4  2017 Pipfile\u001b[0m\n",
      "\u001b[0;32m-rw-r--r-- 1 wiki wiki  4784 Nov  4  2017 Pipfile.lock\u001b[0m\n",
      "\u001b[0;32m-rw-r--r-- 1 wiki wiki 17027 Nov  5  2017 README.md\u001b[0m\n",
      "\u001b[0;32m-rw-r--r-- 1 wiki wiki   321 Nov  5  2017 Vagrantfile\u001b[0m\n",
      "\u001b[0;32m-rw-r--r-- 1 wiki wiki   531 Nov  4  2017 bower.json\u001b[0m\n",
      "\u001b[0;32mdrwxr-xr-x 4 wiki wiki  4096 Nov  5  2017 build\u001b[0m\n",
      "\u001b[0;32mdrwxr-xr-x 1 wiki wiki  4096 Nov  5  2017 dist\u001b[0m\n",
      "\u001b[0;32mdrwxr-xr-x 1 wiki wiki  4096 Nov  5  2017 docker\u001b[0m\n",
      "\u001b[0;32m-rw-r--r-- 1 wiki wiki   389 Nov  5  2017 docker-compose.yml\u001b[0m\n",
      "\u001b[0;32m-rwxr-xr-x 1 wiki wiki  1439 Nov  5  2017 provision.sh\u001b[0m\n",
      "\u001b[0;32mdrwxr-xr-x 1 wiki wiki  4096 Nov  5  2017 realms\u001b[0m\n",
      "\u001b[0;32mdrwxr-xr-x 1 wiki wiki  4096 Nov  5  2017 realms-data\u001b[0m\n",
      "\u001b[0;32m-rwxr-xr-x 1 wiki wiki   386 Nov  5  2017 realms-wiki\u001b[0m\n",
      "\u001b[0;32m-rw-r--r-- 1 wiki wiki   327 Apr 24  2016 realms-wiki.json\u001b[0m\n",
      "\u001b[0;32mdrwxr-xr-x 1 wiki wiki  4096 Nov  5  2017 realms_wiki.egg-info\u001b[0m\n",
      "\u001b[0;32m-rw-r--r-- 1 wiki wiki    66 Oct 22  2014 requirements-dev.txt\u001b[0m\n",
      "\u001b[0;32m-rw-r--r-- 1 wiki wiki     5 Oct 22  2014 requirements.txt\u001b[0m\n",
      "\u001b[0;32m-rw-r--r-- 1 wiki wiki  1344 Aug 21  2017 setup.py\u001b[0m\n",
      "\u001b[0;32m-rw------- 1 wiki wiki     0 Nov  5  2017 ubuntu-xenial-16.04-cloudimg-console.log\u001b[0m\n",
      "\u001b[0;32m\u001b[0m"
     ]
    }
   ],
   "source": [
    "!sudo ansible -a \"ls -la\" {target}"
   ]
  },
  {
   "cell_type": "markdown",
   "metadata": {
    "deletable": false,
    "editable": false,
    "lc_cell_meme": {
     "current": "5732d818-9196-11e8-970c-0242ac110003",
     "history": [
      {
       "current": "5732d818-9196-11e8-970c-0242ac110003",
       "next": "5732d9e4-9196-11e8-970c-0242ac110003",
       "previous": "5732d6b0-9196-11e8-970c-0242ac110003"
      }
     ],
     "next": "9ef8b866-9196-11e8-970c-0242ac110003",
     "previous": "5732d6b0-9196-11e8-970c-0242ac110003"
    },
    "run_through_control": {
     "frozen": true,
     "read_only": false
    }
   },
   "source": [
    "# 調査対象から情報を収集"
   ]
  },
  {
   "cell_type": "markdown",
   "metadata": {
    "lc_cell_meme": {
     "current": "9ef8b866-9196-11e8-970c-0242ac110003",
     "next": "5732d9e4-9196-11e8-970c-0242ac110003",
     "previous": "5732d818-9196-11e8-970c-0242ac110003"
    }
   },
   "source": [
    "## OSのバージョン"
   ]
  },
  {
   "cell_type": "markdown",
   "metadata": {
    "lc_cell_meme": {
     "current": "5732d9e4-9196-11e8-970c-0242ac110003",
     "history": [
      {
       "current": "5732d9e4-9196-11e8-970c-0242ac110003",
       "next": null,
       "previous": "5732d818-9196-11e8-970c-0242ac110003"
      }
     ],
     "next": "9ef8babe-9196-11e8-970c-0242ac110003",
     "previous": "9ef8b866-9196-11e8-970c-0242ac110003"
    }
   },
   "source": [
    "「linux os 確認」でググって見つけた、/etc/issueを確認する方法を使う\n",
    "\n",
    "https://eng-entrance.com/linux-os-version"
   ]
  },
  {
   "cell_type": "code",
   "execution_count": 5,
   "metadata": {
    "deletable": false,
    "editable": false,
    "lc_cell_meme": {
     "current": "9ef8babe-9196-11e8-970c-0242ac110003",
     "history": [
      {
       "current": "9ef8babe-9196-11e8-970c-0242ac110003",
       "next": null,
       "previous": "5732d9e4-9196-11e8-970c-0242ac110003"
      }
     ],
     "next": "e68b274a-9196-11e8-970c-0242ac110003",
     "previous": "5732d9e4-9196-11e8-970c-0242ac110003"
    },
    "run_through_control": {
     "frozen": true,
     "read_only": false
    }
   },
   "outputs": [
    {
     "name": "stdout",
     "output_type": "stream",
     "text": [
      "path: /home/jovyan/jtf2018/.log/20180727/20180727-122826-0710.log (2 logs recorded)\n",
      "start time: 2018-07-27 12:28:26(UTC)\n",
      "end time: 2018-07-27 12:28:32(UTC)\n",
      "output size: 735 bytes\n",
      "0 chunks with matched keywords or errors\n",
      "----\n",
      " [WARNING] Ansible is in a world writable directory (/home/jovyan/jtf2018), ignoring it as an ansible.cfg source.\n",
      "\u001b[0;32mjtf2018_wiki_1 | SUCCESS | rc=0 >>\u001b[0m\n",
      "\u001b[0;32mUbuntu 16.04.3 LTS \\n \\l\u001b[0m\n",
      "\u001b[0;32m\u001b[0m"
     ]
    }
   ],
   "source": [
    "command = \"'cat /etc/issue'\"\n",
    "!sudo ansible -a {command} {target}"
   ]
  },
  {
   "cell_type": "markdown",
   "metadata": {
    "lc_cell_meme": {
     "current": "e68b274a-9196-11e8-970c-0242ac110003",
     "next": "e68b2ccc-9196-11e8-970c-0242ac110003",
     "previous": "9ef8babe-9196-11e8-970c-0242ac110003"
    }
   },
   "source": [
    "## サービス"
   ]
  },
  {
   "cell_type": "markdown",
   "metadata": {
    "lc_cell_meme": {
     "current": "e68b2ccc-9196-11e8-970c-0242ac110003",
     "history": [
      {
       "current": "e68b2ccc-9196-11e8-970c-0242ac110003",
       "next": null,
       "previous": "e68b274a-9196-11e8-970c-0242ac110003"
      }
     ],
     "next": "2e064726-9197-11e8-970c-0242ac110003",
     "previous": "e68b274a-9196-11e8-970c-0242ac110003"
    }
   },
   "source": [
    "「debian サービス 一覧」でググって見つけた、insservを使う\n",
    "\n",
    "https://www.mk-mode.com/octopress/2015/06/03/debian-8-service-management/"
   ]
  },
  {
   "cell_type": "code",
   "execution_count": 6,
   "metadata": {
    "deletable": false,
    "editable": false,
    "lc_cell_meme": {
     "current": "2e064726-9197-11e8-970c-0242ac110003",
     "history": [
      {
       "current": "2e064726-9197-11e8-970c-0242ac110003",
       "next": "2e0649ba-9197-11e8-970c-0242ac110003",
       "previous": "e68b2ccc-9196-11e8-970c-0242ac110003"
      }
     ],
     "next": "f1a4ba90-9198-11e8-970c-0242ac110003",
     "previous": "e68b2ccc-9196-11e8-970c-0242ac110003"
    },
    "run_through_control": {
     "frozen": true,
     "read_only": false
    }
   },
   "outputs": [
    {
     "name": "stdout",
     "output_type": "stream",
     "text": [
      "path: /home/jovyan/jtf2018/.log/20180727/20180727-122849-0462.log (1 logs recorded)\n",
      "start time: 2018-07-27 12:28:49(UTC)\n",
      "end time: 2018-07-27 12:28:55(UTC)\n",
      "output size: 811 bytes\n",
      "1 chunks with matched keywords or errors\n",
      "----\n",
      " [WARNING] Ansible is in a world writable directory (/home/jovyan/jtf2018), ignoring it as an ansible.cfg source.\n",
      "\u001b[0;31mjtf2018_wiki_1 | FAILED | rc=2 >>\u001b[0m\n",
      "\u001b[0;31m[Errno 2] No such file or directory\u001b[0m\n",
      "\u001b[0;31m\u001b[0m"
     ]
    },
    {
     "ename": "RuntimeError",
     "evalue": "Unexpected exit code: 2",
     "output_type": "error",
     "traceback": [
      "\u001b[0;31m---------------------------------------------------------------------------\u001b[0m",
      "\u001b[0;31mRuntimeError\u001b[0m                              Traceback (most recent call last)",
      "\u001b[0;32m<ipython-input-12-349eba5b8807>\u001b[0m in \u001b[0;36m<module>\u001b[0;34m()\u001b[0m\n\u001b[1;32m      1\u001b[0m \u001b[0mcommand\u001b[0m \u001b[0;34m=\u001b[0m \u001b[0;34m\"'insserv -s'\"\u001b[0m\u001b[0;34m\u001b[0m\u001b[0m\n\u001b[0;32m----> 2\u001b[0;31m \u001b[0mget_ipython\u001b[0m\u001b[0;34m(\u001b[0m\u001b[0;34m)\u001b[0m\u001b[0;34m.\u001b[0m\u001b[0msystem\u001b[0m\u001b[0;34m(\u001b[0m\u001b[0;34m'sudo ansible -a {command} {target}'\u001b[0m\u001b[0;34m)\u001b[0m\u001b[0;34m\u001b[0m\u001b[0m\n\u001b[0m",
      "\u001b[0;32m~/.ipython/profile_default/startup/10-custom-get_ipython_system.py\u001b[0m in \u001b[0;36m<lambda>\u001b[0;34m(x)\u001b[0m\n\u001b[1;32m      5\u001b[0m \u001b[0;34m\u001b[0m\u001b[0m\n\u001b[1;32m      6\u001b[0m \u001b[0msave_get_ipython_system\u001b[0m \u001b[0;34m=\u001b[0m \u001b[0mget_ipython\u001b[0m\u001b[0;34m(\u001b[0m\u001b[0;34m)\u001b[0m\u001b[0;34m.\u001b[0m\u001b[0msystem\u001b[0m\u001b[0;34m\u001b[0m\u001b[0m\n\u001b[0;32m----> 7\u001b[0;31m \u001b[0mget_ipython\u001b[0m\u001b[0;34m(\u001b[0m\u001b[0;34m)\u001b[0m\u001b[0;34m.\u001b[0m\u001b[0msystem\u001b[0m \u001b[0;34m=\u001b[0m \u001b[0;32mlambda\u001b[0m \u001b[0mx\u001b[0m\u001b[0;34m:\u001b[0m \u001b[0mget_ipython_system\u001b[0m\u001b[0;34m(\u001b[0m\u001b[0mx\u001b[0m\u001b[0;34m)\u001b[0m\u001b[0;34m\u001b[0m\u001b[0m\n\u001b[0m\u001b[1;32m      8\u001b[0m \u001b[0;34m\u001b[0m\u001b[0m\n\u001b[1;32m      9\u001b[0m \u001b[0;31m# interactiveshell.py's system_piped() function comment saids:\u001b[0m\u001b[0;34m\u001b[0m\u001b[0;34m\u001b[0m\u001b[0m\n",
      "\u001b[0;32m~/.ipython/profile_default/startup/10-custom-get_ipython_system.py\u001b[0m in \u001b[0;36mget_ipython_system\u001b[0;34m(cmd)\u001b[0m\n\u001b[1;32m     13\u001b[0m     \u001b[0msave_get_ipython_system\u001b[0m\u001b[0;34m(\u001b[0m\u001b[0mcmd\u001b[0m\u001b[0;34m)\u001b[0m\u001b[0;34m\u001b[0m\u001b[0m\n\u001b[1;32m     14\u001b[0m     \u001b[0;32mif\u001b[0m \u001b[0mget_ipython\u001b[0m\u001b[0;34m(\u001b[0m\u001b[0;34m)\u001b[0m\u001b[0;34m.\u001b[0m\u001b[0muser_ns\u001b[0m\u001b[0;34m[\u001b[0m\u001b[0;34m'_exit_code'\u001b[0m\u001b[0;34m]\u001b[0m \u001b[0;34m!=\u001b[0m \u001b[0;36m0\u001b[0m\u001b[0;34m:\u001b[0m\u001b[0;34m\u001b[0m\u001b[0m\n\u001b[0;32m---> 15\u001b[0;31m         \u001b[0;32mraise\u001b[0m \u001b[0mRuntimeError\u001b[0m\u001b[0;34m(\u001b[0m\u001b[0;34m'Unexpected exit code: %d'\u001b[0m \u001b[0;34m%\u001b[0m \u001b[0mget_ipython\u001b[0m\u001b[0;34m(\u001b[0m\u001b[0;34m)\u001b[0m\u001b[0;34m.\u001b[0m\u001b[0muser_ns\u001b[0m\u001b[0;34m[\u001b[0m\u001b[0;34m'_exit_code'\u001b[0m\u001b[0;34m]\u001b[0m\u001b[0;34m)\u001b[0m\u001b[0;34m\u001b[0m\u001b[0m\n\u001b[0m",
      "\u001b[0;31mRuntimeError\u001b[0m: Unexpected exit code: 2"
     ]
    }
   ],
   "source": [
    "command = \"'insserv -s'\"\n",
    "!sudo ansible -a {command} {target}"
   ]
  },
  {
   "cell_type": "markdown",
   "metadata": {
    "lc_cell_meme": {
     "current": "f1a4ba90-9198-11e8-970c-0242ac110003",
     "next": "f1a4ee48-9198-11e8-970c-0242ac110003",
     "previous": "2e064726-9197-11e8-970c-0242ac110003"
    }
   },
   "source": [
    "「ubuntu サービス 確認」でググって、何種類か載ってるのを見つけたので、順に試す\n",
    "\n",
    "https://server-setting.info/debian/debian-like-chkconfig.html"
   ]
  },
  {
   "cell_type": "code",
   "execution_count": 7,
   "metadata": {
    "deletable": false,
    "editable": false,
    "lc_cell_meme": {
     "current": "f1a4ee48-9198-11e8-970c-0242ac110003",
     "history": [
      {
       "current": "f1a4ee48-9198-11e8-970c-0242ac110003",
       "next": "2e0649ba-9197-11e8-970c-0242ac110003",
       "previous": "f1a4ba90-9198-11e8-970c-0242ac110003"
      }
     ],
     "next": "3925b2de-9199-11e8-970c-0242ac110003",
     "previous": "f1a4ba90-9198-11e8-970c-0242ac110003"
    },
    "run_through_control": {
     "frozen": true,
     "read_only": false
    }
   },
   "outputs": [
    {
     "name": "stdout",
     "output_type": "stream",
     "text": [
      "path: /home/jovyan/jtf2018/.log/20180727/20180727-123115-0013.log (1 logs recorded)\n",
      "start time: 2018-07-27 12:31:14(UTC)\n",
      "end time: 2018-07-27 12:31:26(UTC)\n",
      "output size: 820 bytes\n",
      "1 chunks with matched keywords or errors\n",
      "----\n",
      " [WARNING] Ansible is in a world writable directory (/home/jovyan/jtf2018), ignoring it as an ansible.cfg source.\n",
      "\u001b[0;31mjtf2018_wiki_1 | FAILED | rc=2 >>\u001b[0m\n",
      "\u001b[0;31m[Errno 2] No such file or directory\u001b[0m\n",
      "\u001b[0;31m\u001b[0m"
     ]
    },
    {
     "ename": "RuntimeError",
     "evalue": "Unexpected exit code: 2",
     "output_type": "error",
     "traceback": [
      "\u001b[0;31m---------------------------------------------------------------------------\u001b[0m",
      "\u001b[0;31mRuntimeError\u001b[0m                              Traceback (most recent call last)",
      "\u001b[0;32m<ipython-input-14-7cd6950adc7e>\u001b[0m in \u001b[0;36m<module>\u001b[0;34m()\u001b[0m\n\u001b[1;32m      1\u001b[0m \u001b[0mcommand\u001b[0m \u001b[0;34m=\u001b[0m \u001b[0;34m\"'sysv-rc-conf --list'\"\u001b[0m\u001b[0;34m\u001b[0m\u001b[0m\n\u001b[0;32m----> 2\u001b[0;31m \u001b[0mget_ipython\u001b[0m\u001b[0;34m(\u001b[0m\u001b[0;34m)\u001b[0m\u001b[0;34m.\u001b[0m\u001b[0msystem\u001b[0m\u001b[0;34m(\u001b[0m\u001b[0;34m'sudo ansible -a {command} {target}'\u001b[0m\u001b[0;34m)\u001b[0m\u001b[0;34m\u001b[0m\u001b[0m\n\u001b[0m",
      "\u001b[0;32m~/.ipython/profile_default/startup/10-custom-get_ipython_system.py\u001b[0m in \u001b[0;36m<lambda>\u001b[0;34m(x)\u001b[0m\n\u001b[1;32m      5\u001b[0m \u001b[0;34m\u001b[0m\u001b[0m\n\u001b[1;32m      6\u001b[0m \u001b[0msave_get_ipython_system\u001b[0m \u001b[0;34m=\u001b[0m \u001b[0mget_ipython\u001b[0m\u001b[0;34m(\u001b[0m\u001b[0;34m)\u001b[0m\u001b[0;34m.\u001b[0m\u001b[0msystem\u001b[0m\u001b[0;34m\u001b[0m\u001b[0m\n\u001b[0;32m----> 7\u001b[0;31m \u001b[0mget_ipython\u001b[0m\u001b[0;34m(\u001b[0m\u001b[0;34m)\u001b[0m\u001b[0;34m.\u001b[0m\u001b[0msystem\u001b[0m \u001b[0;34m=\u001b[0m \u001b[0;32mlambda\u001b[0m \u001b[0mx\u001b[0m\u001b[0;34m:\u001b[0m \u001b[0mget_ipython_system\u001b[0m\u001b[0;34m(\u001b[0m\u001b[0mx\u001b[0m\u001b[0;34m)\u001b[0m\u001b[0;34m\u001b[0m\u001b[0m\n\u001b[0m\u001b[1;32m      8\u001b[0m \u001b[0;34m\u001b[0m\u001b[0m\n\u001b[1;32m      9\u001b[0m \u001b[0;31m# interactiveshell.py's system_piped() function comment saids:\u001b[0m\u001b[0;34m\u001b[0m\u001b[0;34m\u001b[0m\u001b[0m\n",
      "\u001b[0;32m~/.ipython/profile_default/startup/10-custom-get_ipython_system.py\u001b[0m in \u001b[0;36mget_ipython_system\u001b[0;34m(cmd)\u001b[0m\n\u001b[1;32m     13\u001b[0m     \u001b[0msave_get_ipython_system\u001b[0m\u001b[0;34m(\u001b[0m\u001b[0mcmd\u001b[0m\u001b[0;34m)\u001b[0m\u001b[0;34m\u001b[0m\u001b[0m\n\u001b[1;32m     14\u001b[0m     \u001b[0;32mif\u001b[0m \u001b[0mget_ipython\u001b[0m\u001b[0;34m(\u001b[0m\u001b[0;34m)\u001b[0m\u001b[0;34m.\u001b[0m\u001b[0muser_ns\u001b[0m\u001b[0;34m[\u001b[0m\u001b[0;34m'_exit_code'\u001b[0m\u001b[0;34m]\u001b[0m \u001b[0;34m!=\u001b[0m \u001b[0;36m0\u001b[0m\u001b[0;34m:\u001b[0m\u001b[0;34m\u001b[0m\u001b[0m\n\u001b[0;32m---> 15\u001b[0;31m         \u001b[0;32mraise\u001b[0m \u001b[0mRuntimeError\u001b[0m\u001b[0;34m(\u001b[0m\u001b[0;34m'Unexpected exit code: %d'\u001b[0m \u001b[0;34m%\u001b[0m \u001b[0mget_ipython\u001b[0m\u001b[0;34m(\u001b[0m\u001b[0;34m)\u001b[0m\u001b[0;34m.\u001b[0m\u001b[0muser_ns\u001b[0m\u001b[0;34m[\u001b[0m\u001b[0;34m'_exit_code'\u001b[0m\u001b[0;34m]\u001b[0m\u001b[0;34m)\u001b[0m\u001b[0;34m\u001b[0m\u001b[0m\n\u001b[0m",
      "\u001b[0;31mRuntimeError\u001b[0m: Unexpected exit code: 2"
     ]
    }
   ],
   "source": [
    "command = \"'sysv-rc-conf --list'\"\n",
    "!sudo ansible -a {command} {target}"
   ]
  },
  {
   "cell_type": "code",
   "execution_count": 8,
   "metadata": {
    "deletable": false,
    "editable": false,
    "lc_cell_meme": {
     "current": "3925b2de-9199-11e8-970c-0242ac110003",
     "next": "3925b4f0-9199-11e8-970c-0242ac110003",
     "previous": "f1a4ee48-9198-11e8-970c-0242ac110003"
    },
    "run_through_control": {
     "frozen": true,
     "read_only": false
    }
   },
   "outputs": [
    {
     "name": "stdout",
     "output_type": "stream",
     "text": [
      "path: /home/jovyan/jtf2018/.log/20180727/20180727-123154-0960.log (0 logs recorded)\n",
      "start time: 2018-07-27 12:31:54(UTC)\n",
      "end time: 2018-07-27 12:32:03(UTC)\n",
      "output size: 739 bytes\n",
      "1 chunks with matched keywords or errors\n",
      "----\n",
      " [WARNING] Ansible is in a world writable directory (/home/jovyan/jtf2018), ignoring it as an ansible.cfg source.\n",
      "\u001b[0;31mjtf2018_wiki_1 | FAILED | rc=2 >>\u001b[0m\n",
      "\u001b[0;31m[Errno 2] No such file or directory\u001b[0m\n",
      "\u001b[0;31m\u001b[0m"
     ]
    },
    {
     "ename": "RuntimeError",
     "evalue": "Unexpected exit code: 2",
     "output_type": "error",
     "traceback": [
      "\u001b[0;31m---------------------------------------------------------------------------\u001b[0m",
      "\u001b[0;31mRuntimeError\u001b[0m                              Traceback (most recent call last)",
      "\u001b[0;32m<ipython-input-16-e343d1281146>\u001b[0m in \u001b[0;36m<module>\u001b[0;34m()\u001b[0m\n\u001b[1;32m      1\u001b[0m \u001b[0mcommand\u001b[0m \u001b[0;34m=\u001b[0m \u001b[0;34m\"'rcconf --list'\"\u001b[0m\u001b[0;34m\u001b[0m\u001b[0m\n\u001b[0;32m----> 2\u001b[0;31m \u001b[0mget_ipython\u001b[0m\u001b[0;34m(\u001b[0m\u001b[0;34m)\u001b[0m\u001b[0;34m.\u001b[0m\u001b[0msystem\u001b[0m\u001b[0;34m(\u001b[0m\u001b[0;34m'sudo ansible -a {command} {target}'\u001b[0m\u001b[0;34m)\u001b[0m\u001b[0;34m\u001b[0m\u001b[0m\n\u001b[0m",
      "\u001b[0;32m~/.ipython/profile_default/startup/10-custom-get_ipython_system.py\u001b[0m in \u001b[0;36m<lambda>\u001b[0;34m(x)\u001b[0m\n\u001b[1;32m      5\u001b[0m \u001b[0;34m\u001b[0m\u001b[0m\n\u001b[1;32m      6\u001b[0m \u001b[0msave_get_ipython_system\u001b[0m \u001b[0;34m=\u001b[0m \u001b[0mget_ipython\u001b[0m\u001b[0;34m(\u001b[0m\u001b[0;34m)\u001b[0m\u001b[0;34m.\u001b[0m\u001b[0msystem\u001b[0m\u001b[0;34m\u001b[0m\u001b[0m\n\u001b[0;32m----> 7\u001b[0;31m \u001b[0mget_ipython\u001b[0m\u001b[0;34m(\u001b[0m\u001b[0;34m)\u001b[0m\u001b[0;34m.\u001b[0m\u001b[0msystem\u001b[0m \u001b[0;34m=\u001b[0m \u001b[0;32mlambda\u001b[0m \u001b[0mx\u001b[0m\u001b[0;34m:\u001b[0m \u001b[0mget_ipython_system\u001b[0m\u001b[0;34m(\u001b[0m\u001b[0mx\u001b[0m\u001b[0;34m)\u001b[0m\u001b[0;34m\u001b[0m\u001b[0m\n\u001b[0m\u001b[1;32m      8\u001b[0m \u001b[0;34m\u001b[0m\u001b[0m\n\u001b[1;32m      9\u001b[0m \u001b[0;31m# interactiveshell.py's system_piped() function comment saids:\u001b[0m\u001b[0;34m\u001b[0m\u001b[0;34m\u001b[0m\u001b[0m\n",
      "\u001b[0;32m~/.ipython/profile_default/startup/10-custom-get_ipython_system.py\u001b[0m in \u001b[0;36mget_ipython_system\u001b[0;34m(cmd)\u001b[0m\n\u001b[1;32m     13\u001b[0m     \u001b[0msave_get_ipython_system\u001b[0m\u001b[0;34m(\u001b[0m\u001b[0mcmd\u001b[0m\u001b[0;34m)\u001b[0m\u001b[0;34m\u001b[0m\u001b[0m\n\u001b[1;32m     14\u001b[0m     \u001b[0;32mif\u001b[0m \u001b[0mget_ipython\u001b[0m\u001b[0;34m(\u001b[0m\u001b[0;34m)\u001b[0m\u001b[0;34m.\u001b[0m\u001b[0muser_ns\u001b[0m\u001b[0;34m[\u001b[0m\u001b[0;34m'_exit_code'\u001b[0m\u001b[0;34m]\u001b[0m \u001b[0;34m!=\u001b[0m \u001b[0;36m0\u001b[0m\u001b[0;34m:\u001b[0m\u001b[0;34m\u001b[0m\u001b[0m\n\u001b[0;32m---> 15\u001b[0;31m         \u001b[0;32mraise\u001b[0m \u001b[0mRuntimeError\u001b[0m\u001b[0;34m(\u001b[0m\u001b[0;34m'Unexpected exit code: %d'\u001b[0m \u001b[0;34m%\u001b[0m \u001b[0mget_ipython\u001b[0m\u001b[0;34m(\u001b[0m\u001b[0;34m)\u001b[0m\u001b[0;34m.\u001b[0m\u001b[0muser_ns\u001b[0m\u001b[0;34m[\u001b[0m\u001b[0;34m'_exit_code'\u001b[0m\u001b[0;34m]\u001b[0m\u001b[0;34m)\u001b[0m\u001b[0;34m\u001b[0m\u001b[0m\n\u001b[0m",
      "\u001b[0;31mRuntimeError\u001b[0m: Unexpected exit code: 2"
     ]
    }
   ],
   "source": [
    "command = \"'rcconf --list'\"\n",
    "!sudo ansible -a {command} {target}"
   ]
  },
  {
   "cell_type": "code",
   "execution_count": 9,
   "metadata": {
    "deletable": false,
    "editable": false,
    "lc_cell_meme": {
     "current": "3925b4f0-9199-11e8-970c-0242ac110003",
     "next": "2e0649ba-9197-11e8-970c-0242ac110003",
     "previous": "3925b2de-9199-11e8-970c-0242ac110003"
    },
    "run_through_control": {
     "frozen": true,
     "read_only": false
    }
   },
   "outputs": [
    {
     "name": "stdout",
     "output_type": "stream",
     "text": [
      "path: /home/jovyan/jtf2018/.log/20180727/20180727-123236-0794.log (0 logs recorded)\n",
      "start time: 2018-07-27 12:32:36(UTC)\n",
      "end time: 2018-07-27 12:33:05(UTC)\n",
      "output size: 2001 bytes\n",
      "1 chunks with matched keywords or errors\n",
      "----\n",
      " [WARNING] Ansible is in a world writable directory (/home/jovyan/jtf2018), ignoring it as an ansible.cfg source.\n",
      "\u001b[0;32mjtf2018_wiki_1 | SUCCESS | rc=0 >>\u001b[0m\n",
      "\u001b[0;32mREADME\u001b[0m\n",
      "\u001b[0;32mS01killprocs\u001b[0m\n",
      "\u001b[0;32mS02single\u001b[0m\n",
      "\u001b[0;32m\u001b[0m\n",
      " [WARNING] Ansible is in a world writable directory (/home/jovyan/jtf2018), ignoring it as an ansible.cfg source.\n",
      "\u001b[0;32mjtf2018_wiki_1 | SUCCESS | rc=0 >>\u001b[0m\n",
      "\u001b[0;32mREADME\u001b[0m\n",
      "\u001b[0;32mS01rsync\u001b[0m\n",
      "\u001b[0;32mS02ondemand\u001b[0m\n",
      "\u001b[0;32mS02rc.local\u001b[0m\n",
      "\u001b[0;32m\u001b[0m\n",
      " [WARNING] Ansible is in a world writable directory (/home/jovyan/jtf2018), ignoring it as an ansible.cfg source.\n",
      "\u001b[0;32mjtf2018_wiki_1 | SUCCESS | rc=0 >>\u001b[0m\n",
      "\u001b[0;32mREADME\u001b[0m\n",
      "\u001b[0;32mS01rsync\u001b[0m\n",
      "\u001b[0;32mS02ondemand\u001b[0m\n",
      "\u001b[0;32mS02rc.local\u001b[0m\n",
      "\u001b[0;32m\u001b[0m\n",
      " [WARNING] Ansible is in a world writable directory (/home/jovyan/jtf2018), ignoring it as an ansible.cfg source.\n",
      "\u001b[0;32mjtf2018_wiki_1 | SUCCESS | rc=0 >>\u001b[0m\n",
      "\u001b[0;32mREADME\u001b[0m\n",
      "\u001b[0;32mS01rsync\u001b[0m\n",
      "\u001b[0;32mS02ondemand\u001b[0m\n",
      "\u001b[0;32mS02rc.local\u001b[0m\n",
      "\u001b[0;32m\u001b[0m\n",
      " [WARNING] Ansible is in a world writable directory (/home/jovyan/jtf2018), ignoring it as an ansible.cfg source.\n",
      "\u001b[0;32mjtf2018_wiki_1 | SUCCESS | rc=0 >>\u001b[0m\n",
      "\u001b[0;32mREADME\u001b[0m\n",
      "\u001b[0;32mS01rsync\u001b[0m\n",
      "\u001b[0;32mS02ondemand\u001b[0m\n",
      "\u001b[0;32mS02rc.local\u001b[0m\n",
      "\u001b[0;32m\u001b[0m"
     ]
    }
   ],
   "source": [
    "command = \"'ls /etc/rc1.d/'\"\n",
    "!sudo ansible -a {command} {target}\n",
    "command = \"'ls /etc/rc2.d/'\"\n",
    "!sudo ansible -a {command} {target}\n",
    "command = \"'ls /etc/rc3.d/'\"\n",
    "!sudo ansible -a {command} {target}\n",
    "command = \"'ls /etc/rc4.d/'\"\n",
    "!sudo ansible -a {command} {target}\n",
    "command = \"'ls /etc/rc5.d/'\"\n",
    "!sudo ansible -a {command} {target}"
   ]
  },
  {
   "cell_type": "markdown",
   "metadata": {
    "lc_cell_meme": {
     "current": "2e0649ba-9197-11e8-970c-0242ac110003",
     "history": [
      {
       "current": "2e0649ba-9197-11e8-970c-0242ac110003",
       "next": "2e064c44-9197-11e8-970c-0242ac110003",
       "previous": "2e064726-9197-11e8-970c-0242ac110003"
      },
      {
       "current": "2e0649ba-9197-11e8-970c-0242ac110003",
       "next": "2e064c44-9197-11e8-970c-0242ac110003",
       "previous": "f1a4ee48-9198-11e8-970c-0242ac110003"
      }
     ],
     "next": "2e064c44-9197-11e8-970c-0242ac110003",
     "previous": "3925b4f0-9199-11e8-970c-0242ac110003"
    }
   },
   "source": [
    "webサーバなどの、それっぽいサービスは見つからず"
   ]
  },
  {
   "cell_type": "markdown",
   "metadata": {
    "lc_cell_meme": {
     "current": "2e064c44-9197-11e8-970c-0242ac110003",
     "next": "2e064dac-9197-11e8-970c-0242ac110003",
     "previous": "2e0649ba-9197-11e8-970c-0242ac110003"
    }
   },
   "source": [
    "## プロセス"
   ]
  },
  {
   "cell_type": "markdown",
   "metadata": {
    "lc_cell_meme": {
     "current": "2e064dac-9197-11e8-970c-0242ac110003",
     "next": "2e064ece-9197-11e8-970c-0242ac110003",
     "previous": "2e064c44-9197-11e8-970c-0242ac110003"
    }
   },
   "source": [
    "psコマンド、これは覚えてる"
   ]
  },
  {
   "cell_type": "code",
   "execution_count": 10,
   "metadata": {
    "deletable": false,
    "editable": false,
    "lc_cell_meme": {
     "current": "2e064ece-9197-11e8-970c-0242ac110003",
     "history": [
      {
       "current": "2e064ece-9197-11e8-970c-0242ac110003",
       "next": null,
       "previous": "2e064dac-9197-11e8-970c-0242ac110003"
      }
     ],
     "next": "758f9ae8-9197-11e8-970c-0242ac110003",
     "previous": "2e064dac-9197-11e8-970c-0242ac110003"
    },
    "run_through_control": {
     "frozen": true,
     "read_only": false
    }
   },
   "outputs": [
    {
     "name": "stdout",
     "output_type": "stream",
     "text": [
      "path: /home/jovyan/jtf2018/.log/20180727/20180727-123343-0556.log (2 logs recorded)\n",
      "start time: 2018-07-27 12:33:43(UTC)\n",
      "end time: 2018-07-27 12:33:48(UTC)\n",
      "output size: 3238 bytes\n",
      "5 chunks with matched keywords or errors\n",
      "----\n",
      " [WARNING] Ansible is in a world writable directory (/home/jovyan/jtf2018), ignoring it as an ansible.cfg source.\n",
      "\u001b[0;32mjtf2018_wiki_1 | SUCCESS | rc=0 >>\u001b[0m\n",
      "\u001b[0;32mUSER       PID %CPU %MEM    VSZ   RSS TTY      STAT START   TIME COMMAND\u001b[0m\n",
      "\u001b[0;32mwiki         1  0.0  0.0   4508     0 ?        Ss   12:02   0:00 /bin/sh -c . /home/wiki/realms-wiki/.venv/bin/activate &&     gunicorn         --name realms-wiki         --access-logfile -         --error-logfile -         --worker-class gevent         --workers ${WORKERS}         --bind 0.0.0.0:5000         --chdir /home/wiki/realms-wiki         'realms:create_app()'\u001b[0m\n",
      "\u001b[0;32mwiki         6  0.0  0.0  53412  1944 ?        S    12:02   0:00 /home/wiki/realms-wiki/.venv/bin/python /home/wiki/realms-wiki/.venv/bin/gunicorn --name realms-wiki --access-logfile - --error-logfile - --worker-class gevent --workers 3 --bind 0.0.0.0:5000 --chdir /home/wiki/realms-wiki realms:create_app()\u001b[0m\n",
      "\u001b[0;32mwiki        11  0.0  1.0 122916 21060 ?        S    12:02   0:00 /home/wiki/realms-wiki/.venv/bin/python /home/wiki/realms-wiki/.venv/bin/gunicorn --name realms-wiki --access-logfile - --error-logfile - --worker-class gevent --workers 3 --bind 0.0.0.0:5000 --chdir /home/wiki/realms-wiki realms:create_app()\u001b[0m\n",
      "\u001b[0;32mwiki        12  0.0  1.0 122916 21256 ?        S    12:02   0:00 /home/wiki/realms-wiki/.venv/bin/python /home/wiki/realms-wiki/.venv/bin/gunicorn --name realms-wiki --access-logfile - --error-logfile - --worker-class gevent --workers 3 --bind 0.0.0.0:5000 --chdir /home/wiki/realms-wiki realms:create_app()\u001b[0m\n",
      "\u001b[0;32mwiki        13  0.0  1.0 122924 21008 ?        S    12:02   0:00 /home/wiki/realms-wiki/.venv/bin/python /home/wiki/realms-wiki/.venv/bin/gunicorn --name realms-wiki --access-logfile - --error-logfile - --worker-class gevent --workers 3 --bind 0.0.0.0:5000 --chdir /home/wiki/realms-wiki realms:create_app()\u001b[0m\n",
      "\u001b[0;32mwiki       630  2.0  0.0   4508   788 ?        Ss   12:33   0:00 /bin/sh -c /bin/sh -c '/usr/bin/python /home/wiki/.ansible/tmp/ansible-tmp-1532694826.40827-176440180113534/command.py && sleep 0'\u001b[0m\n",
      "\u001b[0;32mwiki       635  0.0  0.0   4508   752 ?        S    12:33   0:00 /bin/sh -c /usr/bin/python /home/wiki/.ansible/tmp/ansible-tmp-1532694826.40827-176440180113534/command.py && sleep 0\u001b[0m\n",
      "\u001b[0;32mwiki       636  2.0  0.4  29492  9924 ?        S    12:33   0:00 /usr/bin/python /home/wiki/.ansible/tmp/ansible-tmp-1532694826.40827-176440180113534/command.py\u001b[0m\n",
      "\u001b[0;32mwiki       637  5.0  0.5  33704 11896 ?        S    12:33   0:00 /usr/bin/python /tmp/ansible_R8sQmV/ansible_module_command.py\u001b[0m\n",
      "\u001b[0;32mwiki       638 29.0  0.1  34424  2752 ?        R    12:33   0:00 ps aux\u001b[0m\n",
      "\u001b[0;32m\u001b[0m"
     ]
    }
   ],
   "source": [
    "command = \"'ps aux'\"\n",
    "!sudo ansible -a {command} {target}"
   ]
  },
  {
   "cell_type": "markdown",
   "metadata": {
    "lc_cell_meme": {
     "current": "758f9ae8-9197-11e8-970c-0242ac110003",
     "next": "758f9d22-9197-11e8-970c-0242ac110003",
     "previous": "2e064ece-9197-11e8-970c-0242ac110003"
    }
   },
   "source": [
    "/home/wiki/realms-wiki 以下にある実行ファイルが、pythonで動いてる雰囲気"
   ]
  },
  {
   "cell_type": "markdown",
   "metadata": {
    "lc_cell_meme": {
     "current": "758f9d22-9197-11e8-970c-0242ac110003",
     "next": "758f9e3a-9197-11e8-970c-0242ac110003",
     "previous": "758f9ae8-9197-11e8-970c-0242ac110003"
    }
   },
   "source": [
    "## LISTENポート"
   ]
  },
  {
   "cell_type": "markdown",
   "metadata": {
    "lc_cell_meme": {
     "current": "758f9e3a-9197-11e8-970c-0242ac110003",
     "history": [
      {
       "current": "758f9e3a-9197-11e8-970c-0242ac110003",
       "next": null,
       "previous": "758f9d22-9197-11e8-970c-0242ac110003"
      }
     ],
     "next": "bcd361fa-9197-11e8-970c-0242ac110003",
     "previous": "758f9d22-9197-11e8-970c-0242ac110003"
    }
   },
   "source": [
    "「listen debian」でググって見つけた、ssを使う\n",
    "\n",
    "http://mzgkworks.com/post/linux-port-confirm/"
   ]
  },
  {
   "cell_type": "code",
   "execution_count": 11,
   "metadata": {
    "deletable": false,
    "editable": false,
    "lc_cell_meme": {
     "current": "bcd361fa-9197-11e8-970c-0242ac110003",
     "next": "bcd36416-9197-11e8-970c-0242ac110003",
     "previous": "758f9e3a-9197-11e8-970c-0242ac110003"
    },
    "run_through_control": {
     "frozen": true,
     "read_only": false
    }
   },
   "outputs": [
    {
     "name": "stdout",
     "output_type": "stream",
     "text": [
      "path: /home/jovyan/jtf2018/.log/20180727/20180727-123458-0795.log (1 logs recorded)\n",
      "start time: 2018-07-27 12:34:58(UTC)\n",
      "end time: 2018-07-27 12:35:05(UTC)\n",
      "output size: 886 bytes\n",
      "0 chunks with matched keywords or errors\n",
      "----\n",
      " [WARNING] Ansible is in a world writable directory (/home/jovyan/jtf2018), ignoring it as an ansible.cfg source.\n",
      "\u001b[0;32mjtf2018_wiki_1 | SUCCESS | rc=0 >>\u001b[0m\n",
      "\u001b[0;32mState      Recv-Q Send-Q Local Address:Port               Peer Address:Port              \u001b[0m\n",
      "\u001b[0;32mLISTEN     0      128          *:5000                     *:*                  \u001b[0m\n",
      "\u001b[0;32m\u001b[0m"
     ]
    }
   ],
   "source": [
    "command = \"'ss -lnat'\"\n",
    "!sudo ansible -a {command} {target}"
   ]
  },
  {
   "cell_type": "code",
   "execution_count": 12,
   "metadata": {
    "deletable": false,
    "editable": false,
    "lc_cell_meme": {
     "current": "bcd36416-9197-11e8-970c-0242ac110003",
     "next": "bcd36524-9197-11e8-970c-0242ac110003",
     "previous": "bcd361fa-9197-11e8-970c-0242ac110003"
    },
    "run_through_control": {
     "frozen": true,
     "read_only": false
    }
   },
   "outputs": [
    {
     "name": "stdout",
     "output_type": "stream",
     "text": [
      "path: /home/jovyan/jtf2018/.log/20180727/20180727-123507-0601.log (1 logs recorded)\n",
      "start time: 2018-07-27 12:35:07(UTC)\n",
      "end time: 2018-07-27 12:35:14(UTC)\n",
      "output size: 794 bytes\n",
      "0 chunks with matched keywords or errors\n",
      "----\n",
      " [WARNING] Ansible is in a world writable directory (/home/jovyan/jtf2018), ignoring it as an ansible.cfg source.\n",
      "\u001b[0;32mjtf2018_wiki_1 | SUCCESS | rc=0 >>\u001b[0m\n",
      "\u001b[0;32mState      Recv-Q Send-Q Local Address:Port               Peer Address:Port              \u001b[0m\n",
      "\u001b[0;32m\u001b[0m"
     ]
    }
   ],
   "source": [
    "command = \"'ss -lnau'\"\n",
    "!sudo ansible -a {command} {target}"
   ]
  },
  {
   "cell_type": "markdown",
   "metadata": {
    "lc_cell_meme": {
     "current": "bcd36524-9197-11e8-970c-0242ac110003",
     "next": "bcd367ae-9197-11e8-970c-0242ac110003",
     "previous": "bcd36416-9197-11e8-970c-0242ac110003"
    }
   },
   "source": [
    "5000番ポートでLISTENしてる"
   ]
  },
  {
   "cell_type": "markdown",
   "metadata": {
    "lc_cell_meme": {
     "current": "bcd367ae-9197-11e8-970c-0242ac110003",
     "next": "bcd36902-9197-11e8-970c-0242ac110003",
     "previous": "bcd36524-9197-11e8-970c-0242ac110003"
    }
   },
   "source": [
    "# サービスの確認"
   ]
  },
  {
   "cell_type": "markdown",
   "metadata": {
    "lc_cell_meme": {
     "current": "bcd36902-9197-11e8-970c-0242ac110003",
     "next": "bcd369e8-9197-11e8-970c-0242ac110003",
     "previous": "bcd367ae-9197-11e8-970c-0242ac110003"
    }
   },
   "source": [
    "5000番ポートにブラウザでアクセスしてみる"
   ]
  },
  {
   "attachments": {
    "image.png": {
     "image/png": "[encoded data removed]"
    }
   },
   "cell_type": "markdown",
   "metadata": {
    "lc_cell_meme": {
     "current": "bcd369e8-9197-11e8-970c-0242ac110003",
     "history": [
      {
       "current": "bcd369e8-9197-11e8-970c-0242ac110003",
       "next": null,
       "previous": "bcd36902-9197-11e8-970c-0242ac110003"
      }
     ],
     "next": "045a115e-9198-11e8-970c-0242ac110003",
     "previous": "bcd36902-9197-11e8-970c-0242ac110003"
    }
   },
   "source": [
    "![image.png](attachment:image.png)"
   ]
  },
  {
   "cell_type": "markdown",
   "metadata": {
    "lc_cell_meme": {
     "current": "045a115e-9198-11e8-970c-0242ac110003",
     "next": "045a1370-9198-11e8-970c-0242ac110003",
     "previous": "bcd369e8-9197-11e8-970c-0242ac110003"
    }
   },
   "source": [
    "「realms-wiki」でググってみたところ\n",
    "\n",
    "https://github.com/scragg0x/realms-wiki\n",
    "\n",
    "wikiのようだ"
   ]
  },
  {
   "cell_type": "markdown",
   "metadata": {
    "lc_cell_meme": {
     "current": "045a1370-9198-11e8-970c-0242ac110003",
     "next": null,
     "previous": "045a115e-9198-11e8-970c-0242ac110003"
    }
   },
   "source": [
    "# まとめ\n",
    "\n",
    "5000番ポートからサービスされてるpython製のwiki「realms」が動いている"
   ]
  }
 ],
 "metadata": {
  "kernelspec": {
   "display_name": "Python 3 (LC_wrapper)",
   "language": "python",
   "name": "python3-wrapper"
  },
  "language_info": {
   "file_extension": ".py",
   "mimetype": "text/x-python",
   "name": "python",
   "nbconvert_exporter": "python",
   "pygments_lexer": "ipython3",
   "version": "3.6.5"
  },
  "lc_notebook_meme": {
   "current": "0ff02398-9196-11e8-970c-0242ac110003",
   "lc_server_signature": {
    "current": {
     "notebook_dir": "/home/jovyan",
     "notebook_path": "/jtf2018",
     "server_url": "http://localhost:8888/",
     "signature_id": "d7e4fdfa-91a6-11e8-bf06-0242ac110004"
    },
    "history": [
     {
      "notebook_dir": "/home/jovyan",
      "notebook_path": "/jtf2018",
      "server_url": "http://localhost:8888/",
      "signature_id": "fd0ae980-9194-11e8-970c-0242ac110003"
     }
    ]
   }
  },
  "toc": {
   "base_numbering": 1,
   "nav_menu": {},
   "number_sections": true,
   "sideBar": true,
   "skip_h1_title": false,
   "title_cell": "Table of Contents",
   "title_sidebar": "Contents",
   "toc_cell": false,
   "toc_position": {},
   "toc_section_display": true,
   "toc_window_display": true
  }
 },
 "nbformat": 4,
 "nbformat_minor": 2
}
